{
 "cells": [
  {
   "cell_type": "code",
   "execution_count": 2,
   "metadata": {},
   "outputs": [],
   "source": [
    "from espn_api.football import League\n",
    "import pandas as pd\n",
    "import plotly.express as px\n",
    "import plotly.graph_objects as go\n",
    "# Init\n",
    "\n",
    "#fan's - 42936131\n",
    "#mine - 829963546\n",
    "league_id = 829963546\n",
    "year = 2022\n",
    "league = League(league_id=league_id, year=year)\n"
   ]
  },
  {
   "cell_type": "code",
   "execution_count": 3,
   "metadata": {},
   "outputs": [],
   "source": [
    "lineups = []\n",
    "teams = []\n",
    "projected = []\n",
    "for i in range(1, 12):\n",
    "    box_scores = league.box_scores(i)\n",
    "    for j in range(len(box_scores)):\n",
    "        lineups.append(box_scores[j].home_lineup)\n",
    "        teams.append(box_scores[j].home_team)\n",
    "        projected.append(box_scores[j].home_projected)\n",
    "\n",
    "        lineups.append(box_scores[j].away_lineup)\n",
    "        teams.append(box_scores[j].away_team)\n",
    "        projected.append(box_scores[j].away_projected)\n",
    "\n",
    "            \n",
    "            \n",
    "\n"
   ]
  },
  {
   "cell_type": "code",
   "execution_count": 4,
   "metadata": {},
   "outputs": [],
   "source": [
    "all_teams = pd.read_csv('Data/current_players.csv')\n"
   ]
  },
  {
   "cell_type": "code",
   "execution_count": 5,
   "metadata": {},
   "outputs": [
    {
     "data": {
      "text/html": [
       "<div>\n",
       "<style scoped>\n",
       "    .dataframe tbody tr th:only-of-type {\n",
       "        vertical-align: middle;\n",
       "    }\n",
       "\n",
       "    .dataframe tbody tr th {\n",
       "        vertical-align: top;\n",
       "    }\n",
       "\n",
       "    .dataframe thead th {\n",
       "        text-align: right;\n",
       "    }\n",
       "</style>\n",
       "<table border=\"1\" class=\"dataframe\">\n",
       "  <thead>\n",
       "    <tr style=\"text-align: right;\">\n",
       "      <th></th>\n",
       "      <th>Player</th>\n",
       "      <th>Projected_Points</th>\n",
       "      <th>Actual_Points</th>\n",
       "      <th>Rank</th>\n",
       "      <th>Position</th>\n",
       "    </tr>\n",
       "  </thead>\n",
       "  <tbody>\n",
       "    <tr>\n",
       "      <th>0</th>\n",
       "      <td>Derrick Henry</td>\n",
       "      <td>17.97</td>\n",
       "      <td>8.20</td>\n",
       "      <td>15</td>\n",
       "      <td>RB</td>\n",
       "    </tr>\n",
       "    <tr>\n",
       "      <th>214</th>\n",
       "      <td>Derrick Henry</td>\n",
       "      <td>17.03</td>\n",
       "      <td>8.50</td>\n",
       "      <td>13</td>\n",
       "      <td>RB</td>\n",
       "    </tr>\n",
       "    <tr>\n",
       "      <th>428</th>\n",
       "      <td>Derrick Henry</td>\n",
       "      <td>17.43</td>\n",
       "      <td>25.30</td>\n",
       "      <td>29</td>\n",
       "      <td>RB</td>\n",
       "    </tr>\n",
       "    <tr>\n",
       "      <th>593</th>\n",
       "      <td>Derrick Henry</td>\n",
       "      <td>16.36</td>\n",
       "      <td>23.70</td>\n",
       "      <td>19</td>\n",
       "      <td>RB</td>\n",
       "    </tr>\n",
       "    <tr>\n",
       "      <th>710</th>\n",
       "      <td>Derrick Henry</td>\n",
       "      <td>18.12</td>\n",
       "      <td>27.20</td>\n",
       "      <td>4</td>\n",
       "      <td>RB</td>\n",
       "    </tr>\n",
       "    <tr>\n",
       "      <th>976</th>\n",
       "      <td>Derrick Henry</td>\n",
       "      <td>0.00</td>\n",
       "      <td>0.00</td>\n",
       "      <td>0</td>\n",
       "      <td>RB</td>\n",
       "    </tr>\n",
       "    <tr>\n",
       "      <th>1092</th>\n",
       "      <td>Derrick Henry</td>\n",
       "      <td>18.96</td>\n",
       "      <td>16.80</td>\n",
       "      <td>19</td>\n",
       "      <td>RB</td>\n",
       "    </tr>\n",
       "    <tr>\n",
       "      <th>1242</th>\n",
       "      <td>Derrick Henry</td>\n",
       "      <td>19.58</td>\n",
       "      <td>35.80</td>\n",
       "      <td>32</td>\n",
       "      <td>RB</td>\n",
       "    </tr>\n",
       "    <tr>\n",
       "      <th>1358</th>\n",
       "      <td>Derrick Henry</td>\n",
       "      <td>20.02</td>\n",
       "      <td>23.50</td>\n",
       "      <td>20</td>\n",
       "      <td>RB</td>\n",
       "    </tr>\n",
       "    <tr>\n",
       "      <th>1492</th>\n",
       "      <td>Derrick Henry</td>\n",
       "      <td>17.55</td>\n",
       "      <td>8.70</td>\n",
       "      <td>11</td>\n",
       "      <td>RB</td>\n",
       "    </tr>\n",
       "    <tr>\n",
       "      <th>1694</th>\n",
       "      <td>Derrick Henry</td>\n",
       "      <td>17.52</td>\n",
       "      <td>25.36</td>\n",
       "      <td>26</td>\n",
       "      <td>RB</td>\n",
       "    </tr>\n",
       "  </tbody>\n",
       "</table>\n",
       "</div>"
      ],
      "text/plain": [
       "             Player  Projected_Points  Actual_Points  Rank Position\n",
       "0     Derrick Henry             17.97           8.20    15       RB\n",
       "214   Derrick Henry             17.03           8.50    13       RB\n",
       "428   Derrick Henry             17.43          25.30    29       RB\n",
       "593   Derrick Henry             16.36          23.70    19       RB\n",
       "710   Derrick Henry             18.12          27.20     4       RB\n",
       "976   Derrick Henry              0.00           0.00     0       RB\n",
       "1092  Derrick Henry             18.96          16.80    19       RB\n",
       "1242  Derrick Henry             19.58          35.80    32       RB\n",
       "1358  Derrick Henry             20.02          23.50    20       RB\n",
       "1492  Derrick Henry             17.55           8.70    11       RB\n",
       "1694  Derrick Henry             17.52          25.36    26       RB"
      ]
     },
     "execution_count": 5,
     "metadata": {},
     "output_type": "execute_result"
    }
   ],
   "source": [
    "all_players = pd.DataFrame()\n",
    "\n",
    "names = []\n",
    "project = []\n",
    "actual = []\n",
    "ranks = []\n",
    "position = []\n",
    "for players in lineups:\n",
    "    for player in players:\n",
    "        names.append(player.name)\n",
    "        project.append(player.projected_points)\n",
    "        actual.append(player.points)\n",
    "        ranks.append(player.pro_pos_rank)\n",
    "        position.append(player.position)\n",
    "        \n",
    "        \n",
    "all_players['Player'] = names\n",
    "all_players['Projected_Points'] = project\n",
    "all_players['Actual_Points'] = actual\n",
    "all_players['Rank'] = ranks\n",
    "all_players['Position'] = position\n",
    "all_players[all_players['Player'] == 'Derrick Henry']"
   ]
  },
  {
   "cell_type": "code",
   "execution_count": 6,
   "metadata": {},
   "outputs": [
    {
     "data": {
      "text/html": [
       "<div>\n",
       "<style scoped>\n",
       "    .dataframe tbody tr th:only-of-type {\n",
       "        vertical-align: middle;\n",
       "    }\n",
       "\n",
       "    .dataframe tbody tr th {\n",
       "        vertical-align: top;\n",
       "    }\n",
       "\n",
       "    .dataframe thead th {\n",
       "        text-align: right;\n",
       "    }\n",
       "</style>\n",
       "<table border=\"1\" class=\"dataframe\">\n",
       "  <thead>\n",
       "    <tr style=\"text-align: right;\">\n",
       "      <th></th>\n",
       "      <th>Unnamed: 0</th>\n",
       "      <th>Team</th>\n",
       "      <th>Player</th>\n",
       "      <th>Week</th>\n",
       "      <th>Rank</th>\n",
       "      <th>Expected_Points</th>\n",
       "      <th>Actual_Points</th>\n",
       "      <th>Difference</th>\n",
       "    </tr>\n",
       "  </thead>\n",
       "  <tbody>\n",
       "    <tr>\n",
       "      <th>1838</th>\n",
       "      <td>1838</td>\n",
       "      <td>I dont know what im doing</td>\n",
       "      <td>Samaje Perine</td>\n",
       "      <td>12</td>\n",
       "      <td>33</td>\n",
       "      <td>91.56</td>\n",
       "      <td>99.4</td>\n",
       "      <td>7.84</td>\n",
       "    </tr>\n",
       "  </tbody>\n",
       "</table>\n",
       "</div>"
      ],
      "text/plain": [
       "      Unnamed: 0                       Team         Player  Week  Rank  \\\n",
       "1838        1838  I dont know what im doing  Samaje Perine    12    33   \n",
       "\n",
       "      Expected_Points  Actual_Points  Difference  \n",
       "1838            91.56           99.4        7.84  "
      ]
     },
     "execution_count": 6,
     "metadata": {},
     "output_type": "execute_result"
    }
   ],
   "source": [
    "all_teams[all_teams['Player'] == 'Samaje Perine']\n"
   ]
  },
  {
   "cell_type": "code",
   "execution_count": 7,
   "metadata": {},
   "outputs": [
    {
     "data": {
      "text/html": [
       "<div>\n",
       "<style scoped>\n",
       "    .dataframe tbody tr th:only-of-type {\n",
       "        vertical-align: middle;\n",
       "    }\n",
       "\n",
       "    .dataframe tbody tr th {\n",
       "        vertical-align: top;\n",
       "    }\n",
       "\n",
       "    .dataframe thead th {\n",
       "        text-align: right;\n",
       "    }\n",
       "</style>\n",
       "<table border=\"1\" class=\"dataframe\">\n",
       "  <thead>\n",
       "    <tr style=\"text-align: right;\">\n",
       "      <th></th>\n",
       "      <th>Week</th>\n",
       "      <th>Player</th>\n",
       "      <th>Projected_Points</th>\n",
       "      <th>Actual_Points</th>\n",
       "      <th>Rank</th>\n",
       "      <th>Position</th>\n",
       "    </tr>\n",
       "  </thead>\n",
       "  <tbody>\n",
       "    <tr>\n",
       "      <th>0</th>\n",
       "      <td>1</td>\n",
       "      <td>Derrick Henry</td>\n",
       "      <td>17.97</td>\n",
       "      <td>8.2</td>\n",
       "      <td>15</td>\n",
       "      <td>RB</td>\n",
       "    </tr>\n",
       "    <tr>\n",
       "      <th>214</th>\n",
       "      <td>2</td>\n",
       "      <td>Derrick Henry</td>\n",
       "      <td>17.03</td>\n",
       "      <td>8.5</td>\n",
       "      <td>13</td>\n",
       "      <td>RB</td>\n",
       "    </tr>\n",
       "    <tr>\n",
       "      <th>428</th>\n",
       "      <td>3</td>\n",
       "      <td>Derrick Henry</td>\n",
       "      <td>17.43</td>\n",
       "      <td>25.3</td>\n",
       "      <td>29</td>\n",
       "      <td>RB</td>\n",
       "    </tr>\n",
       "    <tr>\n",
       "      <th>593</th>\n",
       "      <td>4</td>\n",
       "      <td>Derrick Henry</td>\n",
       "      <td>16.36</td>\n",
       "      <td>23.7</td>\n",
       "      <td>19</td>\n",
       "      <td>RB</td>\n",
       "    </tr>\n",
       "    <tr>\n",
       "      <th>710</th>\n",
       "      <td>5</td>\n",
       "      <td>Derrick Henry</td>\n",
       "      <td>18.12</td>\n",
       "      <td>27.2</td>\n",
       "      <td>4</td>\n",
       "      <td>RB</td>\n",
       "    </tr>\n",
       "    <tr>\n",
       "      <th>...</th>\n",
       "      <td>...</td>\n",
       "      <td>...</td>\n",
       "      <td>...</td>\n",
       "      <td>...</td>\n",
       "      <td>...</td>\n",
       "      <td>...</td>\n",
       "    </tr>\n",
       "    <tr>\n",
       "      <th>1250</th>\n",
       "      <td>8</td>\n",
       "      <td>Tony Pollard</td>\n",
       "      <td>16.52</td>\n",
       "      <td>33.7</td>\n",
       "      <td>27</td>\n",
       "      <td>RB</td>\n",
       "    </tr>\n",
       "    <tr>\n",
       "      <th>1366</th>\n",
       "      <td>9</td>\n",
       "      <td>Tony Pollard</td>\n",
       "      <td>0.00</td>\n",
       "      <td>0.0</td>\n",
       "      <td>0</td>\n",
       "      <td>RB</td>\n",
       "    </tr>\n",
       "    <tr>\n",
       "      <th>1500</th>\n",
       "      <td>10</td>\n",
       "      <td>Tony Pollard</td>\n",
       "      <td>15.53</td>\n",
       "      <td>21.8</td>\n",
       "      <td>26</td>\n",
       "      <td>RB</td>\n",
       "    </tr>\n",
       "    <tr>\n",
       "      <th>1702</th>\n",
       "      <td>11</td>\n",
       "      <td>Tony Pollard</td>\n",
       "      <td>10.45</td>\n",
       "      <td>36.9</td>\n",
       "      <td>21</td>\n",
       "      <td>RB</td>\n",
       "    </tr>\n",
       "    <tr>\n",
       "      <th>9</th>\n",
       "      <td>1</td>\n",
       "      <td>DeAndre Hopkins</td>\n",
       "      <td>0.00</td>\n",
       "      <td>0.0</td>\n",
       "      <td>26</td>\n",
       "      <td>WR</td>\n",
       "    </tr>\n",
       "  </tbody>\n",
       "</table>\n",
       "<p>100 rows × 6 columns</p>\n",
       "</div>"
      ],
      "text/plain": [
       "      Week           Player  Projected_Points  Actual_Points  Rank Position\n",
       "0        1    Derrick Henry             17.97            8.2    15       RB\n",
       "214      2    Derrick Henry             17.03            8.5    13       RB\n",
       "428      3    Derrick Henry             17.43           25.3    29       RB\n",
       "593      4    Derrick Henry             16.36           23.7    19       RB\n",
       "710      5    Derrick Henry             18.12           27.2     4       RB\n",
       "...    ...              ...               ...            ...   ...      ...\n",
       "1250     8     Tony Pollard             16.52           33.7    27       RB\n",
       "1366     9     Tony Pollard              0.00            0.0     0       RB\n",
       "1500    10     Tony Pollard             15.53           21.8    26       RB\n",
       "1702    11     Tony Pollard             10.45           36.9    21       RB\n",
       "9        1  DeAndre Hopkins              0.00            0.0    26       WR\n",
       "\n",
       "[100 rows x 6 columns]"
      ]
     },
     "execution_count": 7,
     "metadata": {},
     "output_type": "execute_result"
    }
   ],
   "source": [
    "total_df = pd.DataFrame()\n",
    "for player in all_players['Player'].unique():\n",
    "    df = all_players[all_players['Player'] == player]\n",
    "    df.insert(0, 'Week', range(1, 1 + len(all_players[all_players['Player'] == player])))\n",
    "    total_df = pd.concat([total_df, df])\n",
    "total_df.head(100)"
   ]
  },
  {
   "cell_type": "code",
   "execution_count": 8,
   "metadata": {},
   "outputs": [
    {
     "data": {
      "text/html": [
       "<div>\n",
       "<style scoped>\n",
       "    .dataframe tbody tr th:only-of-type {\n",
       "        vertical-align: middle;\n",
       "    }\n",
       "\n",
       "    .dataframe tbody tr th {\n",
       "        vertical-align: top;\n",
       "    }\n",
       "\n",
       "    .dataframe thead th {\n",
       "        text-align: right;\n",
       "    }\n",
       "</style>\n",
       "<table border=\"1\" class=\"dataframe\">\n",
       "  <thead>\n",
       "    <tr style=\"text-align: right;\">\n",
       "      <th></th>\n",
       "      <th>Week</th>\n",
       "      <th>Player</th>\n",
       "      <th>Projected_Points</th>\n",
       "      <th>Actual_Points_x</th>\n",
       "      <th>Rank_x</th>\n",
       "      <th>Position</th>\n",
       "      <th>Unnamed: 0</th>\n",
       "      <th>Team</th>\n",
       "      <th>Rank_y</th>\n",
       "      <th>Expected_Points</th>\n",
       "      <th>Actual_Points_y</th>\n",
       "      <th>Difference</th>\n",
       "    </tr>\n",
       "  </thead>\n",
       "  <tbody>\n",
       "    <tr>\n",
       "      <th>0</th>\n",
       "      <td>1</td>\n",
       "      <td>Derrick Henry</td>\n",
       "      <td>17.97</td>\n",
       "      <td>8.2</td>\n",
       "      <td>15</td>\n",
       "      <td>RB</td>\n",
       "      <td>65</td>\n",
       "      <td>Gorilla Guys</td>\n",
       "      <td>3</td>\n",
       "      <td>264.47</td>\n",
       "      <td>217.76</td>\n",
       "      <td>-46.71</td>\n",
       "    </tr>\n",
       "    <tr>\n",
       "      <th>1</th>\n",
       "      <td>2</td>\n",
       "      <td>Derrick Henry</td>\n",
       "      <td>17.03</td>\n",
       "      <td>8.5</td>\n",
       "      <td>13</td>\n",
       "      <td>RB</td>\n",
       "      <td>229</td>\n",
       "      <td>Gorilla Guys</td>\n",
       "      <td>3</td>\n",
       "      <td>264.47</td>\n",
       "      <td>217.76</td>\n",
       "      <td>-46.71</td>\n",
       "    </tr>\n",
       "    <tr>\n",
       "      <th>2</th>\n",
       "      <td>3</td>\n",
       "      <td>Derrick Henry</td>\n",
       "      <td>17.43</td>\n",
       "      <td>25.3</td>\n",
       "      <td>29</td>\n",
       "      <td>RB</td>\n",
       "      <td>395</td>\n",
       "      <td>Gorilla Guys</td>\n",
       "      <td>3</td>\n",
       "      <td>264.47</td>\n",
       "      <td>217.76</td>\n",
       "      <td>-46.71</td>\n",
       "    </tr>\n",
       "    <tr>\n",
       "      <th>3</th>\n",
       "      <td>4</td>\n",
       "      <td>Derrick Henry</td>\n",
       "      <td>16.36</td>\n",
       "      <td>23.7</td>\n",
       "      <td>19</td>\n",
       "      <td>RB</td>\n",
       "      <td>561</td>\n",
       "      <td>Gorilla Guys</td>\n",
       "      <td>3</td>\n",
       "      <td>264.47</td>\n",
       "      <td>217.76</td>\n",
       "      <td>-46.71</td>\n",
       "    </tr>\n",
       "    <tr>\n",
       "      <th>4</th>\n",
       "      <td>5</td>\n",
       "      <td>Derrick Henry</td>\n",
       "      <td>18.12</td>\n",
       "      <td>27.2</td>\n",
       "      <td>4</td>\n",
       "      <td>RB</td>\n",
       "      <td>726</td>\n",
       "      <td>Gorilla Guys</td>\n",
       "      <td>3</td>\n",
       "      <td>264.47</td>\n",
       "      <td>217.76</td>\n",
       "      <td>-46.71</td>\n",
       "    </tr>\n",
       "    <tr>\n",
       "      <th>...</th>\n",
       "      <td>...</td>\n",
       "      <td>...</td>\n",
       "      <td>...</td>\n",
       "      <td>...</td>\n",
       "      <td>...</td>\n",
       "      <td>...</td>\n",
       "      <td>...</td>\n",
       "      <td>...</td>\n",
       "      <td>...</td>\n",
       "      <td>...</td>\n",
       "      <td>...</td>\n",
       "      <td>...</td>\n",
       "    </tr>\n",
       "    <tr>\n",
       "      <th>1468</th>\n",
       "      <td>2</td>\n",
       "      <td>Rams D/ST</td>\n",
       "      <td>4.14</td>\n",
       "      <td>4.0</td>\n",
       "      <td>19</td>\n",
       "      <td>D/ST</td>\n",
       "      <td>245</td>\n",
       "      <td>Gorilla Guys</td>\n",
       "      <td>23</td>\n",
       "      <td>82.21</td>\n",
       "      <td>51.00</td>\n",
       "      <td>-31.21</td>\n",
       "    </tr>\n",
       "    <tr>\n",
       "      <th>1469</th>\n",
       "      <td>3</td>\n",
       "      <td>Rams D/ST</td>\n",
       "      <td>5.21</td>\n",
       "      <td>0.0</td>\n",
       "      <td>18</td>\n",
       "      <td>D/ST</td>\n",
       "      <td>411</td>\n",
       "      <td>Gorilla Guys</td>\n",
       "      <td>23</td>\n",
       "      <td>82.21</td>\n",
       "      <td>51.00</td>\n",
       "      <td>-31.21</td>\n",
       "    </tr>\n",
       "    <tr>\n",
       "      <th>1470</th>\n",
       "      <td>4</td>\n",
       "      <td>Rams D/ST</td>\n",
       "      <td>7.53</td>\n",
       "      <td>10.0</td>\n",
       "      <td>25</td>\n",
       "      <td>D/ST</td>\n",
       "      <td>577</td>\n",
       "      <td>Gorilla Guys</td>\n",
       "      <td>23</td>\n",
       "      <td>82.21</td>\n",
       "      <td>51.00</td>\n",
       "      <td>-31.21</td>\n",
       "    </tr>\n",
       "    <tr>\n",
       "      <th>1499</th>\n",
       "      <td>7</td>\n",
       "      <td>Tua Tagovailoa</td>\n",
       "      <td>0.00</td>\n",
       "      <td>0.0</td>\n",
       "      <td>0</td>\n",
       "      <td>QB</td>\n",
       "      <td>1076</td>\n",
       "      <td>Gorilla Guys</td>\n",
       "      <td>14</td>\n",
       "      <td>271.03</td>\n",
       "      <td>176.06</td>\n",
       "      <td>-94.97</td>\n",
       "    </tr>\n",
       "    <tr>\n",
       "      <th>1538</th>\n",
       "      <td>5</td>\n",
       "      <td>Tyler Conklin</td>\n",
       "      <td>7.70</td>\n",
       "      <td>3.5</td>\n",
       "      <td>25</td>\n",
       "      <td>TE</td>\n",
       "      <td>742</td>\n",
       "      <td>Gorilla Guys</td>\n",
       "      <td>11</td>\n",
       "      <td>86.00</td>\n",
       "      <td>94.20</td>\n",
       "      <td>8.20</td>\n",
       "    </tr>\n",
       "  </tbody>\n",
       "</table>\n",
       "<p>162 rows × 12 columns</p>\n",
       "</div>"
      ],
      "text/plain": [
       "      Week          Player  Projected_Points  Actual_Points_x  Rank_x  \\\n",
       "0        1   Derrick Henry             17.97              8.2      15   \n",
       "1        2   Derrick Henry             17.03              8.5      13   \n",
       "2        3   Derrick Henry             17.43             25.3      29   \n",
       "3        4   Derrick Henry             16.36             23.7      19   \n",
       "4        5   Derrick Henry             18.12             27.2       4   \n",
       "...    ...             ...               ...              ...     ...   \n",
       "1468     2       Rams D/ST              4.14              4.0      19   \n",
       "1469     3       Rams D/ST              5.21              0.0      18   \n",
       "1470     4       Rams D/ST              7.53             10.0      25   \n",
       "1499     7  Tua Tagovailoa              0.00              0.0       0   \n",
       "1538     5   Tyler Conklin              7.70              3.5      25   \n",
       "\n",
       "     Position  Unnamed: 0          Team  Rank_y  Expected_Points  \\\n",
       "0          RB          65  Gorilla Guys       3           264.47   \n",
       "1          RB         229  Gorilla Guys       3           264.47   \n",
       "2          RB         395  Gorilla Guys       3           264.47   \n",
       "3          RB         561  Gorilla Guys       3           264.47   \n",
       "4          RB         726  Gorilla Guys       3           264.47   \n",
       "...       ...         ...           ...     ...              ...   \n",
       "1468     D/ST         245  Gorilla Guys      23            82.21   \n",
       "1469     D/ST         411  Gorilla Guys      23            82.21   \n",
       "1470     D/ST         577  Gorilla Guys      23            82.21   \n",
       "1499       QB        1076  Gorilla Guys      14           271.03   \n",
       "1538       TE         742  Gorilla Guys      11            86.00   \n",
       "\n",
       "      Actual_Points_y  Difference  \n",
       "0              217.76      -46.71  \n",
       "1              217.76      -46.71  \n",
       "2              217.76      -46.71  \n",
       "3              217.76      -46.71  \n",
       "4              217.76      -46.71  \n",
       "...               ...         ...  \n",
       "1468            51.00      -31.21  \n",
       "1469            51.00      -31.21  \n",
       "1470            51.00      -31.21  \n",
       "1499           176.06      -94.97  \n",
       "1538            94.20        8.20  \n",
       "\n",
       "[162 rows x 12 columns]"
      ]
     },
     "execution_count": 8,
     "metadata": {},
     "output_type": "execute_result"
    }
   ],
   "source": [
    "merged_df = pd.merge(total_df, all_teams, on=['Week', 'Player'])\n",
    "merged_df[merged_df['Team'] == 'Gorilla Guys']"
   ]
  },
  {
   "cell_type": "code",
   "execution_count": 9,
   "metadata": {},
   "outputs": [
    {
     "data": {
      "text/html": [
       "<div>\n",
       "<style scoped>\n",
       "    .dataframe tbody tr th:only-of-type {\n",
       "        vertical-align: middle;\n",
       "    }\n",
       "\n",
       "    .dataframe tbody tr th {\n",
       "        vertical-align: top;\n",
       "    }\n",
       "\n",
       "    .dataframe thead th {\n",
       "        text-align: right;\n",
       "    }\n",
       "</style>\n",
       "<table border=\"1\" class=\"dataframe\">\n",
       "  <thead>\n",
       "    <tr style=\"text-align: right;\">\n",
       "      <th></th>\n",
       "      <th>Week</th>\n",
       "      <th>Player</th>\n",
       "      <th>Projected_Points</th>\n",
       "      <th>Actual_Points</th>\n",
       "      <th>Rank</th>\n",
       "      <th>Position</th>\n",
       "      <th>Unnamed: 0</th>\n",
       "      <th>Team</th>\n",
       "      <th>Rank_y</th>\n",
       "      <th>Expected_Points</th>\n",
       "      <th>Actual_Points_y</th>\n",
       "      <th>Difference</th>\n",
       "    </tr>\n",
       "  </thead>\n",
       "  <tbody>\n",
       "    <tr>\n",
       "      <th>0</th>\n",
       "      <td>1</td>\n",
       "      <td>Derrick Henry</td>\n",
       "      <td>17.97</td>\n",
       "      <td>8.2</td>\n",
       "      <td>15</td>\n",
       "      <td>RB</td>\n",
       "      <td>65</td>\n",
       "      <td>Gorilla Guys</td>\n",
       "      <td>3</td>\n",
       "      <td>264.47</td>\n",
       "      <td>217.76</td>\n",
       "      <td>-46.71</td>\n",
       "    </tr>\n",
       "    <tr>\n",
       "      <th>1</th>\n",
       "      <td>2</td>\n",
       "      <td>Derrick Henry</td>\n",
       "      <td>17.03</td>\n",
       "      <td>8.5</td>\n",
       "      <td>13</td>\n",
       "      <td>RB</td>\n",
       "      <td>229</td>\n",
       "      <td>Gorilla Guys</td>\n",
       "      <td>3</td>\n",
       "      <td>264.47</td>\n",
       "      <td>217.76</td>\n",
       "      <td>-46.71</td>\n",
       "    </tr>\n",
       "    <tr>\n",
       "      <th>2</th>\n",
       "      <td>3</td>\n",
       "      <td>Derrick Henry</td>\n",
       "      <td>17.43</td>\n",
       "      <td>25.3</td>\n",
       "      <td>29</td>\n",
       "      <td>RB</td>\n",
       "      <td>395</td>\n",
       "      <td>Gorilla Guys</td>\n",
       "      <td>3</td>\n",
       "      <td>264.47</td>\n",
       "      <td>217.76</td>\n",
       "      <td>-46.71</td>\n",
       "    </tr>\n",
       "    <tr>\n",
       "      <th>3</th>\n",
       "      <td>4</td>\n",
       "      <td>Derrick Henry</td>\n",
       "      <td>16.36</td>\n",
       "      <td>23.7</td>\n",
       "      <td>19</td>\n",
       "      <td>RB</td>\n",
       "      <td>561</td>\n",
       "      <td>Gorilla Guys</td>\n",
       "      <td>3</td>\n",
       "      <td>264.47</td>\n",
       "      <td>217.76</td>\n",
       "      <td>-46.71</td>\n",
       "    </tr>\n",
       "    <tr>\n",
       "      <th>4</th>\n",
       "      <td>5</td>\n",
       "      <td>Derrick Henry</td>\n",
       "      <td>18.12</td>\n",
       "      <td>27.2</td>\n",
       "      <td>4</td>\n",
       "      <td>RB</td>\n",
       "      <td>726</td>\n",
       "      <td>Gorilla Guys</td>\n",
       "      <td>3</td>\n",
       "      <td>264.47</td>\n",
       "      <td>217.76</td>\n",
       "      <td>-46.71</td>\n",
       "    </tr>\n",
       "    <tr>\n",
       "      <th>...</th>\n",
       "      <td>...</td>\n",
       "      <td>...</td>\n",
       "      <td>...</td>\n",
       "      <td>...</td>\n",
       "      <td>...</td>\n",
       "      <td>...</td>\n",
       "      <td>...</td>\n",
       "      <td>...</td>\n",
       "      <td>...</td>\n",
       "      <td>...</td>\n",
       "      <td>...</td>\n",
       "      <td>...</td>\n",
       "    </tr>\n",
       "    <tr>\n",
       "      <th>1551</th>\n",
       "      <td>6</td>\n",
       "      <td>Broncos D/ST</td>\n",
       "      <td>6.26</td>\n",
       "      <td>4.0</td>\n",
       "      <td>21</td>\n",
       "      <td>D/ST</td>\n",
       "      <td>871</td>\n",
       "      <td>Cougar Town Zach Wilson</td>\n",
       "      <td>11</td>\n",
       "      <td>86.80</td>\n",
       "      <td>69.00</td>\n",
       "      <td>-17.80</td>\n",
       "    </tr>\n",
       "    <tr>\n",
       "      <th>1552</th>\n",
       "      <td>7</td>\n",
       "      <td>Broncos D/ST</td>\n",
       "      <td>5.42</td>\n",
       "      <td>-2.0</td>\n",
       "      <td>6</td>\n",
       "      <td>D/ST</td>\n",
       "      <td>1037</td>\n",
       "      <td>Cougar Town Zach Wilson</td>\n",
       "      <td>11</td>\n",
       "      <td>86.80</td>\n",
       "      <td>69.00</td>\n",
       "      <td>-17.80</td>\n",
       "    </tr>\n",
       "    <tr>\n",
       "      <th>1553</th>\n",
       "      <td>5</td>\n",
       "      <td>Isiah Pacheco</td>\n",
       "      <td>8.94</td>\n",
       "      <td>10.7</td>\n",
       "      <td>28</td>\n",
       "      <td>RB</td>\n",
       "      <td>759</td>\n",
       "      <td>My Team  A Bust</td>\n",
       "      <td>50</td>\n",
       "      <td>66.30</td>\n",
       "      <td>62.50</td>\n",
       "      <td>-3.80</td>\n",
       "    </tr>\n",
       "    <tr>\n",
       "      <th>1554</th>\n",
       "      <td>6</td>\n",
       "      <td>Eno Benjamin</td>\n",
       "      <td>0.00</td>\n",
       "      <td>0.0</td>\n",
       "      <td>4</td>\n",
       "      <td>RB</td>\n",
       "      <td>926</td>\n",
       "      <td>My Team  A Bust</td>\n",
       "      <td>40</td>\n",
       "      <td>64.37</td>\n",
       "      <td>86.30</td>\n",
       "      <td>21.93</td>\n",
       "    </tr>\n",
       "    <tr>\n",
       "      <th>1555</th>\n",
       "      <td>6</td>\n",
       "      <td>Josh Reynolds</td>\n",
       "      <td>0.00</td>\n",
       "      <td>0.0</td>\n",
       "      <td>4</td>\n",
       "      <td>WR</td>\n",
       "      <td>992</td>\n",
       "      <td>P-Town CASH KEVIN</td>\n",
       "      <td>64</td>\n",
       "      <td>58.02</td>\n",
       "      <td>73.70</td>\n",
       "      <td>15.68</td>\n",
       "    </tr>\n",
       "  </tbody>\n",
       "</table>\n",
       "<p>1556 rows × 12 columns</p>\n",
       "</div>"
      ],
      "text/plain": [
       "      Week         Player  Projected_Points  Actual_Points  Rank Position  \\\n",
       "0        1  Derrick Henry             17.97            8.2    15       RB   \n",
       "1        2  Derrick Henry             17.03            8.5    13       RB   \n",
       "2        3  Derrick Henry             17.43           25.3    29       RB   \n",
       "3        4  Derrick Henry             16.36           23.7    19       RB   \n",
       "4        5  Derrick Henry             18.12           27.2     4       RB   \n",
       "...    ...            ...               ...            ...   ...      ...   \n",
       "1551     6   Broncos D/ST              6.26            4.0    21     D/ST   \n",
       "1552     7   Broncos D/ST              5.42           -2.0     6     D/ST   \n",
       "1553     5  Isiah Pacheco              8.94           10.7    28       RB   \n",
       "1554     6   Eno Benjamin              0.00            0.0     4       RB   \n",
       "1555     6  Josh Reynolds              0.00            0.0     4       WR   \n",
       "\n",
       "      Unnamed: 0                     Team  Rank_y  Expected_Points  \\\n",
       "0             65             Gorilla Guys       3           264.47   \n",
       "1            229             Gorilla Guys       3           264.47   \n",
       "2            395             Gorilla Guys       3           264.47   \n",
       "3            561             Gorilla Guys       3           264.47   \n",
       "4            726             Gorilla Guys       3           264.47   \n",
       "...          ...                      ...     ...              ...   \n",
       "1551         871  Cougar Town Zach Wilson      11            86.80   \n",
       "1552        1037  Cougar Town Zach Wilson      11            86.80   \n",
       "1553         759          My Team  A Bust      50            66.30   \n",
       "1554         926          My Team  A Bust      40            64.37   \n",
       "1555         992        P-Town CASH KEVIN      64            58.02   \n",
       "\n",
       "      Actual_Points_y  Difference  \n",
       "0              217.76      -46.71  \n",
       "1              217.76      -46.71  \n",
       "2              217.76      -46.71  \n",
       "3              217.76      -46.71  \n",
       "4              217.76      -46.71  \n",
       "...               ...         ...  \n",
       "1551            69.00      -17.80  \n",
       "1552            69.00      -17.80  \n",
       "1553            62.50       -3.80  \n",
       "1554            86.30       21.93  \n",
       "1555            73.70       15.68  \n",
       "\n",
       "[1556 rows x 12 columns]"
      ]
     },
     "execution_count": 9,
     "metadata": {},
     "output_type": "execute_result"
    }
   ],
   "source": [
    "merged_df = merged_df.rename(columns={\"Rank_x\": \"Rank\", \"Actual_Points_x\": \"Actual_Points\"})\n",
    "merged_df"
   ]
  },
  {
   "cell_type": "code",
   "execution_count": 10,
   "metadata": {},
   "outputs": [],
   "source": [
    "merged_df = merged_df[['Team', 'Player', 'Week', 'Rank', 'Projected_Points', 'Actual_Points', 'Position']]\n"
   ]
  },
  {
   "cell_type": "code",
   "execution_count": 11,
   "metadata": {},
   "outputs": [
    {
     "name": "stderr",
     "output_type": "stream",
     "text": [
      "/var/folders/h4/6452mjq15618sb_49rqm1mkw0000gn/T/ipykernel_8816/98493879.py:1: SettingWithCopyWarning: \n",
      "A value is trying to be set on a copy of a slice from a DataFrame.\n",
      "Try using .loc[row_indexer,col_indexer] = value instead\n",
      "\n",
      "See the caveats in the documentation: https://pandas.pydata.org/pandas-docs/stable/user_guide/indexing.html#returning-a-view-versus-a-copy\n",
      "  merged_df['Point-Residuals'] = merged_df['Actual_Points'] - merged_df['Projected_Points']\n"
     ]
    },
    {
     "data": {
      "text/html": [
       "<div>\n",
       "<style scoped>\n",
       "    .dataframe tbody tr th:only-of-type {\n",
       "        vertical-align: middle;\n",
       "    }\n",
       "\n",
       "    .dataframe tbody tr th {\n",
       "        vertical-align: top;\n",
       "    }\n",
       "\n",
       "    .dataframe thead th {\n",
       "        text-align: right;\n",
       "    }\n",
       "</style>\n",
       "<table border=\"1\" class=\"dataframe\">\n",
       "  <thead>\n",
       "    <tr style=\"text-align: right;\">\n",
       "      <th></th>\n",
       "      <th>Team</th>\n",
       "      <th>Player</th>\n",
       "      <th>Week</th>\n",
       "      <th>Rank</th>\n",
       "      <th>Projected_Points</th>\n",
       "      <th>Actual_Points</th>\n",
       "      <th>Position</th>\n",
       "      <th>Point-Residuals</th>\n",
       "    </tr>\n",
       "  </thead>\n",
       "  <tbody>\n",
       "    <tr>\n",
       "      <th>0</th>\n",
       "      <td>Gorilla Guys</td>\n",
       "      <td>Derrick Henry</td>\n",
       "      <td>1</td>\n",
       "      <td>15</td>\n",
       "      <td>17.97</td>\n",
       "      <td>8.2</td>\n",
       "      <td>RB</td>\n",
       "      <td>-9.77</td>\n",
       "    </tr>\n",
       "    <tr>\n",
       "      <th>1</th>\n",
       "      <td>Gorilla Guys</td>\n",
       "      <td>Derrick Henry</td>\n",
       "      <td>2</td>\n",
       "      <td>13</td>\n",
       "      <td>17.03</td>\n",
       "      <td>8.5</td>\n",
       "      <td>RB</td>\n",
       "      <td>-8.53</td>\n",
       "    </tr>\n",
       "    <tr>\n",
       "      <th>2</th>\n",
       "      <td>Gorilla Guys</td>\n",
       "      <td>Derrick Henry</td>\n",
       "      <td>3</td>\n",
       "      <td>29</td>\n",
       "      <td>17.43</td>\n",
       "      <td>25.3</td>\n",
       "      <td>RB</td>\n",
       "      <td>7.87</td>\n",
       "    </tr>\n",
       "    <tr>\n",
       "      <th>3</th>\n",
       "      <td>Gorilla Guys</td>\n",
       "      <td>Derrick Henry</td>\n",
       "      <td>4</td>\n",
       "      <td>19</td>\n",
       "      <td>16.36</td>\n",
       "      <td>23.7</td>\n",
       "      <td>RB</td>\n",
       "      <td>7.34</td>\n",
       "    </tr>\n",
       "    <tr>\n",
       "      <th>4</th>\n",
       "      <td>Gorilla Guys</td>\n",
       "      <td>Derrick Henry</td>\n",
       "      <td>5</td>\n",
       "      <td>4</td>\n",
       "      <td>18.12</td>\n",
       "      <td>27.2</td>\n",
       "      <td>RB</td>\n",
       "      <td>9.08</td>\n",
       "    </tr>\n",
       "    <tr>\n",
       "      <th>...</th>\n",
       "      <td>...</td>\n",
       "      <td>...</td>\n",
       "      <td>...</td>\n",
       "      <td>...</td>\n",
       "      <td>...</td>\n",
       "      <td>...</td>\n",
       "      <td>...</td>\n",
       "      <td>...</td>\n",
       "    </tr>\n",
       "    <tr>\n",
       "      <th>1551</th>\n",
       "      <td>Cougar Town Zach Wilson</td>\n",
       "      <td>Broncos D/ST</td>\n",
       "      <td>6</td>\n",
       "      <td>21</td>\n",
       "      <td>6.26</td>\n",
       "      <td>4.0</td>\n",
       "      <td>D/ST</td>\n",
       "      <td>-2.26</td>\n",
       "    </tr>\n",
       "    <tr>\n",
       "      <th>1552</th>\n",
       "      <td>Cougar Town Zach Wilson</td>\n",
       "      <td>Broncos D/ST</td>\n",
       "      <td>7</td>\n",
       "      <td>6</td>\n",
       "      <td>5.42</td>\n",
       "      <td>-2.0</td>\n",
       "      <td>D/ST</td>\n",
       "      <td>-7.42</td>\n",
       "    </tr>\n",
       "    <tr>\n",
       "      <th>1553</th>\n",
       "      <td>My Team  A Bust</td>\n",
       "      <td>Isiah Pacheco</td>\n",
       "      <td>5</td>\n",
       "      <td>28</td>\n",
       "      <td>8.94</td>\n",
       "      <td>10.7</td>\n",
       "      <td>RB</td>\n",
       "      <td>1.76</td>\n",
       "    </tr>\n",
       "    <tr>\n",
       "      <th>1554</th>\n",
       "      <td>My Team  A Bust</td>\n",
       "      <td>Eno Benjamin</td>\n",
       "      <td>6</td>\n",
       "      <td>4</td>\n",
       "      <td>0.00</td>\n",
       "      <td>0.0</td>\n",
       "      <td>RB</td>\n",
       "      <td>0.00</td>\n",
       "    </tr>\n",
       "    <tr>\n",
       "      <th>1555</th>\n",
       "      <td>P-Town CASH KEVIN</td>\n",
       "      <td>Josh Reynolds</td>\n",
       "      <td>6</td>\n",
       "      <td>4</td>\n",
       "      <td>0.00</td>\n",
       "      <td>0.0</td>\n",
       "      <td>WR</td>\n",
       "      <td>0.00</td>\n",
       "    </tr>\n",
       "  </tbody>\n",
       "</table>\n",
       "<p>1556 rows × 8 columns</p>\n",
       "</div>"
      ],
      "text/plain": [
       "                         Team         Player  Week  Rank  Projected_Points  \\\n",
       "0                Gorilla Guys  Derrick Henry     1    15             17.97   \n",
       "1                Gorilla Guys  Derrick Henry     2    13             17.03   \n",
       "2                Gorilla Guys  Derrick Henry     3    29             17.43   \n",
       "3                Gorilla Guys  Derrick Henry     4    19             16.36   \n",
       "4                Gorilla Guys  Derrick Henry     5     4             18.12   \n",
       "...                       ...            ...   ...   ...               ...   \n",
       "1551  Cougar Town Zach Wilson   Broncos D/ST     6    21              6.26   \n",
       "1552  Cougar Town Zach Wilson   Broncos D/ST     7     6              5.42   \n",
       "1553          My Team  A Bust  Isiah Pacheco     5    28              8.94   \n",
       "1554          My Team  A Bust   Eno Benjamin     6     4              0.00   \n",
       "1555        P-Town CASH KEVIN  Josh Reynolds     6     4              0.00   \n",
       "\n",
       "      Actual_Points Position  Point-Residuals  \n",
       "0               8.2       RB            -9.77  \n",
       "1               8.5       RB            -8.53  \n",
       "2              25.3       RB             7.87  \n",
       "3              23.7       RB             7.34  \n",
       "4              27.2       RB             9.08  \n",
       "...             ...      ...              ...  \n",
       "1551            4.0     D/ST            -2.26  \n",
       "1552           -2.0     D/ST            -7.42  \n",
       "1553           10.7       RB             1.76  \n",
       "1554            0.0       RB             0.00  \n",
       "1555            0.0       WR             0.00  \n",
       "\n",
       "[1556 rows x 8 columns]"
      ]
     },
     "execution_count": 11,
     "metadata": {},
     "output_type": "execute_result"
    }
   ],
   "source": [
    "merged_df['Point-Residuals'] = merged_df['Actual_Points'] - merged_df['Projected_Points']\n",
    "merged_df"
   ]
  },
  {
   "cell_type": "code",
   "execution_count": 12,
   "metadata": {},
   "outputs": [],
   "source": [
    "test_df = merged_df.groupby(['Team', 'Week'], as_index = False).mean()"
   ]
  },
  {
   "cell_type": "code",
   "execution_count": 13,
   "metadata": {},
   "outputs": [
    {
     "data": {
      "application/vnd.plotly.v1+json": {
       "config": {
        "plotlyServerURL": "https://plot.ly"
       },
       "data": [
        {
         "hovertemplate": "Team=Cougar Town Zach Wilson<br>Week=%{x}<br>Actual_Points=%{y}<extra></extra>",
         "legendgroup": "Cougar Town Zach Wilson",
         "marker": {
          "color": "#636efa",
          "symbol": "circle"
         },
         "mode": "markers",
         "name": "Cougar Town Zach Wilson",
         "orientation": "v",
         "showlegend": true,
         "type": "scatter",
         "x": [
          1,
          2,
          3,
          4,
          5,
          6,
          7,
          8,
          9,
          10,
          11
         ],
         "xaxis": "x",
         "y": [
          11.66,
          10.32875,
          9.1725,
          9.278666666666668,
          11.567499999999999,
          7.35375,
          5.125,
          9.137333333333334,
          9.515384615384615,
          11.15,
          11.065
         ],
         "yaxis": "y"
        },
        {
         "hovertemplate": "<b>OLS trendline</b><br>Actual_Points = -1.51404 * log10(Week) + 10.6239<br>R<sup>2</sup>=0.061918<br><br>Team=Cougar Town Zach Wilson<br>Week=%{x}<br>Actual_Points=%{y} <b>(trend)</b><extra></extra>",
         "legendgroup": "Cougar Town Zach Wilson",
         "marker": {
          "color": "#636efa",
          "symbol": "circle"
         },
         "mode": "lines",
         "name": "Cougar Town Zach Wilson",
         "showlegend": false,
         "type": "scatter",
         "x": [
          1,
          2,
          3,
          4,
          5,
          6,
          7,
          8,
          9,
          10,
          11
         ],
         "xaxis": "x",
         "y": [
          10.623850260881573,
          10.16807823394165,
          9.901468689304123,
          9.712306207001726,
          9.565580386666005,
          9.445696662364199,
          9.344336417715608,
          9.256534180061802,
          9.17908711772667,
          9.109808359726081,
          9.047138099995191
         ],
         "yaxis": "y"
        },
        {
         "hovertemplate": "Team=Couv Reigning Champ<br>Week=%{x}<br>Actual_Points=%{y}<extra></extra>",
         "legendgroup": "Couv Reigning Champ",
         "marker": {
          "color": "#EF553B",
          "symbol": "circle"
         },
         "mode": "markers",
         "name": "Couv Reigning Champ",
         "orientation": "v",
         "showlegend": true,
         "type": "scatter",
         "x": [
          1,
          2,
          3,
          4,
          5,
          6,
          7,
          8,
          9,
          10,
          11
         ],
         "xaxis": "x",
         "y": [
          12.442352941176472,
          11.898666666666667,
          10.491764705882352,
          7.869411764705882,
          7.5625,
          9.348749999999999,
          9.737333333333334,
          12.324285714285713,
          9.358333333333333,
          12.644444444444446,
          3.7333333333333334
         ],
         "yaxis": "y"
        },
        {
         "hovertemplate": "<b>OLS trendline</b><br>Actual_Points = -3.35674 * log10(Week) + 12.0842<br>R<sup>2</sup>=0.163297<br><br>Team=Couv Reigning Champ<br>Week=%{x}<br>Actual_Points=%{y} <b>(trend)</b><extra></extra>",
         "legendgroup": "Couv Reigning Champ",
         "marker": {
          "color": "#EF553B",
          "symbol": "circle"
         },
         "mode": "lines",
         "name": "Couv Reigning Champ",
         "showlegend": false,
         "type": "scatter",
         "x": [
          1,
          2,
          3,
          4,
          5,
          6,
          7,
          8,
          9,
          10,
          11
         ],
         "xaxis": "x",
         "y": [
          12.08420500250837,
          11.073726551261089,
          10.482634549494637,
          10.063248100013807,
          9.737946697279037,
          9.472156098247357,
          9.247433348766169,
          9.052769648766526,
          8.881064096480905,
          8.727468246031755,
          8.588523898311877
         ],
         "yaxis": "y"
        },
        {
         "hovertemplate": "Team=Diggy Wit it<br>Week=%{x}<br>Actual_Points=%{y}<extra></extra>",
         "legendgroup": "Diggy Wit it",
         "marker": {
          "color": "#00cc96",
          "symbol": "circle"
         },
         "mode": "markers",
         "name": "Diggy Wit it",
         "orientation": "v",
         "showlegend": true,
         "type": "scatter",
         "x": [
          1,
          2,
          3,
          4,
          5,
          6,
          7,
          8,
          9,
          10,
          11
         ],
         "xaxis": "x",
         "y": [
          8.332941176470587,
          12.829411764705881,
          9.566666666666666,
          12.5575,
          10.915,
          9.591666666666667,
          9.47857142857143,
          10.96142857142857,
          6.138461538461538,
          8.091666666666667,
          9.559999999999999
         ],
         "yaxis": "y"
        },
        {
         "hovertemplate": "<b>OLS trendline</b><br>Actual_Points = -1.67245 * log10(Week) + 10.976<br>R<sup>2</sup>=0.076866<br><br>Team=Diggy Wit it<br>Week=%{x}<br>Actual_Points=%{y} <b>(trend)</b><extra></extra>",
         "legendgroup": "Diggy Wit it",
         "marker": {
          "color": "#00cc96",
          "symbol": "circle"
         },
         "mode": "lines",
         "name": "Diggy Wit it",
         "showlegend": false,
         "type": "scatter",
         "x": [
          1,
          2,
          3,
          4,
          5,
          6,
          7,
          8,
          9,
          10,
          11
         ],
         "xaxis": "x",
         "y": [
          10.975987242976768,
          10.472529931178888,
          10.17802628306325,
          9.96907261938101,
          9.806995566136806,
          9.674568971265373,
          9.562603880655104,
          9.465615307583132,
          9.380065323149735,
          9.303538254338928,
          9.23431109990905
         ],
         "yaxis": "y"
        },
        {
         "hovertemplate": "Team=Eugene Tweakers<br>Week=%{x}<br>Actual_Points=%{y}<extra></extra>",
         "legendgroup": "Eugene Tweakers",
         "marker": {
          "color": "#ab63fa",
          "symbol": "circle"
         },
         "mode": "markers",
         "name": "Eugene Tweakers",
         "orientation": "v",
         "showlegend": true,
         "type": "scatter",
         "x": [
          1,
          2,
          3,
          4,
          5,
          6,
          7,
          8,
          9,
          10,
          11
         ],
         "xaxis": "x",
         "y": [
          7.546250000000001,
          10.975,
          10.9525,
          10.674999999999999,
          10.665,
          8.508571428571429,
          10.266666666666667,
          9.314285714285715,
          6.5,
          10.226666666666667,
          9.033333333333333
         ],
         "yaxis": "y"
        },
        {
         "hovertemplate": "<b>OLS trendline</b><br>Actual_Points = -0.350856 * log10(Week) + 9.75729<br>R<sup>2</sup>=0.005809<br><br>Team=Eugene Tweakers<br>Week=%{x}<br>Actual_Points=%{y} <b>(trend)</b><extra></extra>",
         "legendgroup": "Eugene Tweakers",
         "marker": {
          "color": "#ab63fa",
          "symbol": "circle"
         },
         "mode": "lines",
         "name": "Eugene Tweakers",
         "showlegend": false,
         "type": "scatter",
         "x": [
          1,
          2,
          3,
          4,
          5,
          6,
          7,
          8,
          9,
          10,
          11
         ],
         "xaxis": "x",
         "y": [
          9.75728971975815,
          9.651671459711565,
          9.589888738192897,
          9.546053199664978,
          9.512051714422864,
          9.48427047814631,
          9.460781777557209,
          9.440434939618394,
          9.422487756627643,
          9.406433454376279,
          9.391910571447536
         ],
         "yaxis": "y"
        },
        {
         "hovertemplate": "Team=Gorilla Guys<br>Week=%{x}<br>Actual_Points=%{y}<extra></extra>",
         "legendgroup": "Gorilla Guys",
         "marker": {
          "color": "#FFA15A",
          "symbol": "circle"
         },
         "mode": "markers",
         "name": "Gorilla Guys",
         "orientation": "v",
         "showlegend": true,
         "type": "scatter",
         "x": [
          1,
          2,
          3,
          4,
          5,
          6,
          7,
          8,
          9,
          10,
          11
         ],
         "xaxis": "x",
         "y": [
          12.15125,
          11.201176470588235,
          10.25294117647059,
          8.756470588235294,
          7.685882352941176,
          7.8500000000000005,
          8.47857142857143,
          16.43846153846154,
          12.378461538461538,
          11.391666666666667,
          14.996666666666668
         ],
         "yaxis": "y"
        },
        {
         "hovertemplate": "<b>OLS trendline</b><br>Actual_Points = 1.75103 * log10(Week) + 9.84288<br>R<sup>2</sup>=0.039253<br><br>Team=Gorilla Guys<br>Week=%{x}<br>Actual_Points=%{y} <b>(trend)</b><extra></extra>",
         "legendgroup": "Gorilla Guys",
         "marker": {
          "color": "#FFA15A",
          "symbol": "circle"
         },
         "mode": "lines",
         "name": "Gorilla Guys",
         "showlegend": false,
         "type": "scatter",
         "x": [
          1,
          2,
          3,
          4,
          5,
          6,
          7,
          8,
          9,
          10,
          11
         ],
         "xaxis": "x",
         "y": [
          9.842878998144847,
          10.369992650461358,
          10.678334370684686,
          10.897106302777868,
          11.066798996657242,
          11.205448023001196,
          11.322674104459363,
          11.42421995509438,
          11.513789743224525,
          11.593912648973753,
          11.666392633583971
         ],
         "yaxis": "y"
        },
        {
         "hovertemplate": "Team=I dont know what im doing<br>Week=%{x}<br>Actual_Points=%{y}<extra></extra>",
         "legendgroup": "I dont know what im doing",
         "marker": {
          "color": "#19d3f3",
          "symbol": "circle"
         },
         "mode": "markers",
         "name": "I dont know what im doing",
         "orientation": "v",
         "showlegend": true,
         "type": "scatter",
         "x": [
          1,
          2,
          3,
          4,
          5,
          6,
          7,
          8,
          9,
          10,
          11
         ],
         "xaxis": "x",
         "y": [
          12.450000000000001,
          9.61,
          11.477333333333332,
          13.338666666666667,
          11.945333333333334,
          9.593333333333334,
          9.975999999999999,
          9.521538461538462,
          10.887692307692308,
          8.572727272727272,
          15.711111111111112
         ],
         "yaxis": "y"
        },
        {
         "hovertemplate": "<b>OLS trendline</b><br>Actual_Points = -0.463436 * log10(Week) + 11.5097<br>R<sup>2</sup>=0.005165<br><br>Team=I dont know what im doing<br>Week=%{x}<br>Actual_Points=%{y} <b>(trend)</b><extra></extra>",
         "legendgroup": "I dont know what im doing",
         "marker": {
          "color": "#19d3f3",
          "symbol": "circle"
         },
         "mode": "lines",
         "name": "I dont know what im doing",
         "showlegend": false,
         "type": "scatter",
         "x": [
          1,
          2,
          3,
          4,
          5,
          6,
          7,
          8,
          9,
          10,
          11
         ],
         "xaxis": "x",
         "y": [
          11.509671410316958,
          11.370163253745522,
          11.288556213606496,
          11.230655097174084,
          11.185743502107794,
          11.149048057035058,
          11.118022500298952,
          11.091146940602648,
          11.067441016896032,
          11.046235345536358,
          11.027052482415927
         ],
         "yaxis": "y"
        },
        {
         "hovertemplate": "Team=Just-in-N-out Drive thru<br>Week=%{x}<br>Actual_Points=%{y}<extra></extra>",
         "legendgroup": "Just-in-N-out Drive thru",
         "marker": {
          "color": "#FF6692",
          "symbol": "circle"
         },
         "mode": "markers",
         "name": "Just-in-N-out Drive thru",
         "orientation": "v",
         "showlegend": true,
         "type": "scatter",
         "x": [
          1,
          2,
          3,
          4,
          5,
          6,
          7,
          8,
          9,
          10,
          11
         ],
         "xaxis": "x",
         "y": [
          11.57875,
          10.53625,
          9.353333333333333,
          17.395714285714284,
          13.61076923076923,
          11.135384615384615,
          10.185,
          12.516666666666666,
          10.818181818181818,
          11.094545454545454,
          10.690000000000001
         ],
         "yaxis": "y"
        },
        {
         "hovertemplate": "<b>OLS trendline</b><br>Actual_Points = -0.319352 * log10(Week) + 11.9402<br>R<sup>2</sup>=0.002206<br><br>Team=Just-in-N-out Drive thru<br>Week=%{x}<br>Actual_Points=%{y} <b>(trend)</b><extra></extra>",
         "legendgroup": "Just-in-N-out Drive thru",
         "marker": {
          "color": "#FF6692",
          "symbol": "circle"
         },
         "mode": "lines",
         "name": "Just-in-N-out Drive thru",
         "showlegend": false,
         "type": "scatter",
         "x": [
          1,
          2,
          3,
          4,
          5,
          6,
          7,
          8,
          9,
          10,
          11
         ],
         "xaxis": "x",
         "y": [
          11.940185618579186,
          11.844051003488323,
          11.787815858638906,
          11.747916388397462,
          11.71696795490853,
          11.691681243548045,
          11.67030163372374,
          11.651781773306599,
          11.635446098698628,
          11.620833339817668,
          11.60761449148833
         ],
         "yaxis": "y"
        },
        {
         "hovertemplate": "Team=My Team  A Bust<br>Week=%{x}<br>Actual_Points=%{y}<extra></extra>",
         "legendgroup": "My Team  A Bust",
         "marker": {
          "color": "#B6E880",
          "symbol": "circle"
         },
         "mode": "markers",
         "name": "My Team  A Bust",
         "orientation": "v",
         "showlegend": true,
         "type": "scatter",
         "x": [
          1,
          2,
          3,
          4,
          5,
          6,
          7,
          8,
          9,
          10,
          11
         ],
         "xaxis": "x",
         "y": [
          13.607058823529412,
          12.165882352941177,
          12.007058823529412,
          11.074117647058824,
          12.168571428571429,
          10.435714285714285,
          8.277777777777779,
          15.491111111111113,
          13.5525,
          7.4375,
          7.251111111111111
         ],
         "yaxis": "y"
        },
        {
         "hovertemplate": "<b>OLS trendline</b><br>Actual_Points = -3.55961 * log10(Week) + 13.6841<br>R<sup>2</sup>=0.186491<br><br>Team=My Team  A Bust<br>Week=%{x}<br>Actual_Points=%{y} <b>(trend)</b><extra></extra>",
         "legendgroup": "My Team  A Bust",
         "marker": {
          "color": "#B6E880",
          "symbol": "circle"
         },
         "mode": "lines",
         "name": "My Team  A Bust",
         "showlegend": false,
         "type": "scatter",
         "x": [
          1,
          2,
          3,
          4,
          5,
          6,
          7,
          8,
          9,
          10,
          11
         ],
         "xaxis": "x",
         "y": [
          13.68414325352487,
          12.61259297871822,
          11.985776250318882,
          11.541042703911572,
          11.196080565367039,
          10.914225975512233,
          10.675921315314246,
          10.469492429104925,
          10.287409247112894,
          10.12453029056039,
          9.977188351899265
         ],
         "yaxis": "y"
        },
        {
         "hovertemplate": "Team=No Nyugen Will Win<br>Week=%{x}<br>Actual_Points=%{y}<extra></extra>",
         "legendgroup": "No Nyugen Will Win",
         "marker": {
          "color": "#FF97FF",
          "symbol": "circle"
         },
         "mode": "markers",
         "name": "No Nyugen Will Win",
         "orientation": "v",
         "showlegend": true,
         "type": "scatter",
         "x": [
          1,
          2,
          3,
          4,
          5,
          6,
          7,
          8,
          9,
          10,
          11
         ],
         "xaxis": "x",
         "y": [
          8.99375,
          11.150588235294117,
          10.890588235294118,
          11.610588235294117,
          6.8875,
          8.8875,
          10.626666666666667,
          8.854285714285714,
          8.475,
          6.546153846153846,
          9.422222222222222
         ],
         "yaxis": "y"
        },
        {
         "hovertemplate": "<b>OLS trendline</b><br>Actual_Points = -1.93507 * log10(Week) + 10.6412<br>R<sup>2</sup>=0.141988<br><br>Team=No Nyugen Will Win<br>Week=%{x}<br>Actual_Points=%{y} <b>(trend)</b><extra></extra>",
         "legendgroup": "No Nyugen Will Win",
         "marker": {
          "color": "#FF97FF",
          "symbol": "circle"
         },
         "mode": "lines",
         "name": "No Nyugen Will Win",
         "showlegend": false,
         "type": "scatter",
         "x": [
          1,
          2,
          3,
          4,
          5,
          6,
          7,
          8,
          9,
          10,
          11
         ],
         "xaxis": "x",
         "y": [
          10.641237644563475,
          10.05872343027418,
          9.717974458777894,
          9.476209215984884,
          9.288681524733923,
          9.135460244488598,
          9.005913497909903,
          8.893695001695589,
          8.794711272992313,
          8.706167310444627,
          8.626069553345424
         ],
         "yaxis": "y"
        },
        {
         "hovertemplate": "Team=P-Town CASH KEVIN<br>Week=%{x}<br>Actual_Points=%{y}<extra></extra>",
         "legendgroup": "P-Town CASH KEVIN",
         "marker": {
          "color": "#FECB52",
          "symbol": "circle"
         },
         "mode": "markers",
         "name": "P-Town CASH KEVIN",
         "orientation": "v",
         "showlegend": true,
         "type": "scatter",
         "x": [
          1,
          2,
          3,
          4,
          5,
          6,
          7,
          8,
          9,
          10,
          11
         ],
         "xaxis": "x",
         "y": [
          13.81375,
          11.72875,
          11.317499999999999,
          11.1525,
          13.2525,
          12.04625,
          11.974666666666668,
          8.952857142857143,
          9.202857142857143,
          11.072307692307692,
          12.181538461538462
         ],
         "yaxis": "y"
        },
        {
         "hovertemplate": "<b>OLS trendline</b><br>Actual_Points = -2.40809 * log10(Week) + 13.1818<br>R<sup>2</sup>=0.281601<br><br>Team=P-Town CASH KEVIN<br>Week=%{x}<br>Actual_Points=%{y} <b>(trend)</b><extra></extra>",
         "legendgroup": "P-Town CASH KEVIN",
         "marker": {
          "color": "#FECB52",
          "symbol": "circle"
         },
         "mode": "lines",
         "name": "P-Town CASH KEVIN",
         "showlegend": false,
         "type": "scatter",
         "x": [
          1,
          2,
          3,
          4,
          5,
          6,
          7,
          8,
          9,
          10,
          11
         ],
         "xaxis": "x",
         "y": [
          13.181791637672347,
          12.45688574765817,
          12.032842985447981,
          11.731979857643992,
          11.498612285499101,
          11.307937095433804,
          11.146723519312498,
          11.007073967629816,
          10.883894333223616,
          10.773706395484924,
          10.674029281220893
         ],
         "yaxis": "y"
        }
       ],
       "layout": {
        "legend": {
         "title": {
          "text": "Team"
         },
         "tracegroupgap": 0
        },
        "template": {
         "data": {
          "bar": [
           {
            "error_x": {
             "color": "#2a3f5f"
            },
            "error_y": {
             "color": "#2a3f5f"
            },
            "marker": {
             "line": {
              "color": "#E5ECF6",
              "width": 0.5
             },
             "pattern": {
              "fillmode": "overlay",
              "size": 10,
              "solidity": 0.2
             }
            },
            "type": "bar"
           }
          ],
          "barpolar": [
           {
            "marker": {
             "line": {
              "color": "#E5ECF6",
              "width": 0.5
             },
             "pattern": {
              "fillmode": "overlay",
              "size": 10,
              "solidity": 0.2
             }
            },
            "type": "barpolar"
           }
          ],
          "carpet": [
           {
            "aaxis": {
             "endlinecolor": "#2a3f5f",
             "gridcolor": "white",
             "linecolor": "white",
             "minorgridcolor": "white",
             "startlinecolor": "#2a3f5f"
            },
            "baxis": {
             "endlinecolor": "#2a3f5f",
             "gridcolor": "white",
             "linecolor": "white",
             "minorgridcolor": "white",
             "startlinecolor": "#2a3f5f"
            },
            "type": "carpet"
           }
          ],
          "choropleth": [
           {
            "colorbar": {
             "outlinewidth": 0,
             "ticks": ""
            },
            "type": "choropleth"
           }
          ],
          "contour": [
           {
            "colorbar": {
             "outlinewidth": 0,
             "ticks": ""
            },
            "colorscale": [
             [
              0,
              "#0d0887"
             ],
             [
              0.1111111111111111,
              "#46039f"
             ],
             [
              0.2222222222222222,
              "#7201a8"
             ],
             [
              0.3333333333333333,
              "#9c179e"
             ],
             [
              0.4444444444444444,
              "#bd3786"
             ],
             [
              0.5555555555555556,
              "#d8576b"
             ],
             [
              0.6666666666666666,
              "#ed7953"
             ],
             [
              0.7777777777777778,
              "#fb9f3a"
             ],
             [
              0.8888888888888888,
              "#fdca26"
             ],
             [
              1,
              "#f0f921"
             ]
            ],
            "type": "contour"
           }
          ],
          "contourcarpet": [
           {
            "colorbar": {
             "outlinewidth": 0,
             "ticks": ""
            },
            "type": "contourcarpet"
           }
          ],
          "heatmap": [
           {
            "colorbar": {
             "outlinewidth": 0,
             "ticks": ""
            },
            "colorscale": [
             [
              0,
              "#0d0887"
             ],
             [
              0.1111111111111111,
              "#46039f"
             ],
             [
              0.2222222222222222,
              "#7201a8"
             ],
             [
              0.3333333333333333,
              "#9c179e"
             ],
             [
              0.4444444444444444,
              "#bd3786"
             ],
             [
              0.5555555555555556,
              "#d8576b"
             ],
             [
              0.6666666666666666,
              "#ed7953"
             ],
             [
              0.7777777777777778,
              "#fb9f3a"
             ],
             [
              0.8888888888888888,
              "#fdca26"
             ],
             [
              1,
              "#f0f921"
             ]
            ],
            "type": "heatmap"
           }
          ],
          "heatmapgl": [
           {
            "colorbar": {
             "outlinewidth": 0,
             "ticks": ""
            },
            "colorscale": [
             [
              0,
              "#0d0887"
             ],
             [
              0.1111111111111111,
              "#46039f"
             ],
             [
              0.2222222222222222,
              "#7201a8"
             ],
             [
              0.3333333333333333,
              "#9c179e"
             ],
             [
              0.4444444444444444,
              "#bd3786"
             ],
             [
              0.5555555555555556,
              "#d8576b"
             ],
             [
              0.6666666666666666,
              "#ed7953"
             ],
             [
              0.7777777777777778,
              "#fb9f3a"
             ],
             [
              0.8888888888888888,
              "#fdca26"
             ],
             [
              1,
              "#f0f921"
             ]
            ],
            "type": "heatmapgl"
           }
          ],
          "histogram": [
           {
            "marker": {
             "pattern": {
              "fillmode": "overlay",
              "size": 10,
              "solidity": 0.2
             }
            },
            "type": "histogram"
           }
          ],
          "histogram2d": [
           {
            "colorbar": {
             "outlinewidth": 0,
             "ticks": ""
            },
            "colorscale": [
             [
              0,
              "#0d0887"
             ],
             [
              0.1111111111111111,
              "#46039f"
             ],
             [
              0.2222222222222222,
              "#7201a8"
             ],
             [
              0.3333333333333333,
              "#9c179e"
             ],
             [
              0.4444444444444444,
              "#bd3786"
             ],
             [
              0.5555555555555556,
              "#d8576b"
             ],
             [
              0.6666666666666666,
              "#ed7953"
             ],
             [
              0.7777777777777778,
              "#fb9f3a"
             ],
             [
              0.8888888888888888,
              "#fdca26"
             ],
             [
              1,
              "#f0f921"
             ]
            ],
            "type": "histogram2d"
           }
          ],
          "histogram2dcontour": [
           {
            "colorbar": {
             "outlinewidth": 0,
             "ticks": ""
            },
            "colorscale": [
             [
              0,
              "#0d0887"
             ],
             [
              0.1111111111111111,
              "#46039f"
             ],
             [
              0.2222222222222222,
              "#7201a8"
             ],
             [
              0.3333333333333333,
              "#9c179e"
             ],
             [
              0.4444444444444444,
              "#bd3786"
             ],
             [
              0.5555555555555556,
              "#d8576b"
             ],
             [
              0.6666666666666666,
              "#ed7953"
             ],
             [
              0.7777777777777778,
              "#fb9f3a"
             ],
             [
              0.8888888888888888,
              "#fdca26"
             ],
             [
              1,
              "#f0f921"
             ]
            ],
            "type": "histogram2dcontour"
           }
          ],
          "mesh3d": [
           {
            "colorbar": {
             "outlinewidth": 0,
             "ticks": ""
            },
            "type": "mesh3d"
           }
          ],
          "parcoords": [
           {
            "line": {
             "colorbar": {
              "outlinewidth": 0,
              "ticks": ""
             }
            },
            "type": "parcoords"
           }
          ],
          "pie": [
           {
            "automargin": true,
            "type": "pie"
           }
          ],
          "scatter": [
           {
            "marker": {
             "colorbar": {
              "outlinewidth": 0,
              "ticks": ""
             }
            },
            "type": "scatter"
           }
          ],
          "scatter3d": [
           {
            "line": {
             "colorbar": {
              "outlinewidth": 0,
              "ticks": ""
             }
            },
            "marker": {
             "colorbar": {
              "outlinewidth": 0,
              "ticks": ""
             }
            },
            "type": "scatter3d"
           }
          ],
          "scattercarpet": [
           {
            "marker": {
             "colorbar": {
              "outlinewidth": 0,
              "ticks": ""
             }
            },
            "type": "scattercarpet"
           }
          ],
          "scattergeo": [
           {
            "marker": {
             "colorbar": {
              "outlinewidth": 0,
              "ticks": ""
             }
            },
            "type": "scattergeo"
           }
          ],
          "scattergl": [
           {
            "marker": {
             "colorbar": {
              "outlinewidth": 0,
              "ticks": ""
             }
            },
            "type": "scattergl"
           }
          ],
          "scattermapbox": [
           {
            "marker": {
             "colorbar": {
              "outlinewidth": 0,
              "ticks": ""
             }
            },
            "type": "scattermapbox"
           }
          ],
          "scatterpolar": [
           {
            "marker": {
             "colorbar": {
              "outlinewidth": 0,
              "ticks": ""
             }
            },
            "type": "scatterpolar"
           }
          ],
          "scatterpolargl": [
           {
            "marker": {
             "colorbar": {
              "outlinewidth": 0,
              "ticks": ""
             }
            },
            "type": "scatterpolargl"
           }
          ],
          "scatterternary": [
           {
            "marker": {
             "colorbar": {
              "outlinewidth": 0,
              "ticks": ""
             }
            },
            "type": "scatterternary"
           }
          ],
          "surface": [
           {
            "colorbar": {
             "outlinewidth": 0,
             "ticks": ""
            },
            "colorscale": [
             [
              0,
              "#0d0887"
             ],
             [
              0.1111111111111111,
              "#46039f"
             ],
             [
              0.2222222222222222,
              "#7201a8"
             ],
             [
              0.3333333333333333,
              "#9c179e"
             ],
             [
              0.4444444444444444,
              "#bd3786"
             ],
             [
              0.5555555555555556,
              "#d8576b"
             ],
             [
              0.6666666666666666,
              "#ed7953"
             ],
             [
              0.7777777777777778,
              "#fb9f3a"
             ],
             [
              0.8888888888888888,
              "#fdca26"
             ],
             [
              1,
              "#f0f921"
             ]
            ],
            "type": "surface"
           }
          ],
          "table": [
           {
            "cells": {
             "fill": {
              "color": "#EBF0F8"
             },
             "line": {
              "color": "white"
             }
            },
            "header": {
             "fill": {
              "color": "#C8D4E3"
             },
             "line": {
              "color": "white"
             }
            },
            "type": "table"
           }
          ]
         },
         "layout": {
          "annotationdefaults": {
           "arrowcolor": "#2a3f5f",
           "arrowhead": 0,
           "arrowwidth": 1
          },
          "autotypenumbers": "strict",
          "coloraxis": {
           "colorbar": {
            "outlinewidth": 0,
            "ticks": ""
           }
          },
          "colorscale": {
           "diverging": [
            [
             0,
             "#8e0152"
            ],
            [
             0.1,
             "#c51b7d"
            ],
            [
             0.2,
             "#de77ae"
            ],
            [
             0.3,
             "#f1b6da"
            ],
            [
             0.4,
             "#fde0ef"
            ],
            [
             0.5,
             "#f7f7f7"
            ],
            [
             0.6,
             "#e6f5d0"
            ],
            [
             0.7,
             "#b8e186"
            ],
            [
             0.8,
             "#7fbc41"
            ],
            [
             0.9,
             "#4d9221"
            ],
            [
             1,
             "#276419"
            ]
           ],
           "sequential": [
            [
             0,
             "#0d0887"
            ],
            [
             0.1111111111111111,
             "#46039f"
            ],
            [
             0.2222222222222222,
             "#7201a8"
            ],
            [
             0.3333333333333333,
             "#9c179e"
            ],
            [
             0.4444444444444444,
             "#bd3786"
            ],
            [
             0.5555555555555556,
             "#d8576b"
            ],
            [
             0.6666666666666666,
             "#ed7953"
            ],
            [
             0.7777777777777778,
             "#fb9f3a"
            ],
            [
             0.8888888888888888,
             "#fdca26"
            ],
            [
             1,
             "#f0f921"
            ]
           ],
           "sequentialminus": [
            [
             0,
             "#0d0887"
            ],
            [
             0.1111111111111111,
             "#46039f"
            ],
            [
             0.2222222222222222,
             "#7201a8"
            ],
            [
             0.3333333333333333,
             "#9c179e"
            ],
            [
             0.4444444444444444,
             "#bd3786"
            ],
            [
             0.5555555555555556,
             "#d8576b"
            ],
            [
             0.6666666666666666,
             "#ed7953"
            ],
            [
             0.7777777777777778,
             "#fb9f3a"
            ],
            [
             0.8888888888888888,
             "#fdca26"
            ],
            [
             1,
             "#f0f921"
            ]
           ]
          },
          "colorway": [
           "#636efa",
           "#EF553B",
           "#00cc96",
           "#ab63fa",
           "#FFA15A",
           "#19d3f3",
           "#FF6692",
           "#B6E880",
           "#FF97FF",
           "#FECB52"
          ],
          "font": {
           "color": "#2a3f5f"
          },
          "geo": {
           "bgcolor": "white",
           "lakecolor": "white",
           "landcolor": "#E5ECF6",
           "showlakes": true,
           "showland": true,
           "subunitcolor": "white"
          },
          "hoverlabel": {
           "align": "left"
          },
          "hovermode": "closest",
          "mapbox": {
           "style": "light"
          },
          "paper_bgcolor": "white",
          "plot_bgcolor": "#E5ECF6",
          "polar": {
           "angularaxis": {
            "gridcolor": "white",
            "linecolor": "white",
            "ticks": ""
           },
           "bgcolor": "#E5ECF6",
           "radialaxis": {
            "gridcolor": "white",
            "linecolor": "white",
            "ticks": ""
           }
          },
          "scene": {
           "xaxis": {
            "backgroundcolor": "#E5ECF6",
            "gridcolor": "white",
            "gridwidth": 2,
            "linecolor": "white",
            "showbackground": true,
            "ticks": "",
            "zerolinecolor": "white"
           },
           "yaxis": {
            "backgroundcolor": "#E5ECF6",
            "gridcolor": "white",
            "gridwidth": 2,
            "linecolor": "white",
            "showbackground": true,
            "ticks": "",
            "zerolinecolor": "white"
           },
           "zaxis": {
            "backgroundcolor": "#E5ECF6",
            "gridcolor": "white",
            "gridwidth": 2,
            "linecolor": "white",
            "showbackground": true,
            "ticks": "",
            "zerolinecolor": "white"
           }
          },
          "shapedefaults": {
           "line": {
            "color": "#2a3f5f"
           }
          },
          "ternary": {
           "aaxis": {
            "gridcolor": "white",
            "linecolor": "white",
            "ticks": ""
           },
           "baxis": {
            "gridcolor": "white",
            "linecolor": "white",
            "ticks": ""
           },
           "bgcolor": "#E5ECF6",
           "caxis": {
            "gridcolor": "white",
            "linecolor": "white",
            "ticks": ""
           }
          },
          "title": {
           "x": 0.05
          },
          "xaxis": {
           "automargin": true,
           "gridcolor": "white",
           "linecolor": "white",
           "ticks": "",
           "title": {
            "standoff": 15
           },
           "zerolinecolor": "white",
           "zerolinewidth": 2
          },
          "yaxis": {
           "automargin": true,
           "gridcolor": "white",
           "linecolor": "white",
           "ticks": "",
           "title": {
            "standoff": 15
           },
           "zerolinecolor": "white",
           "zerolinewidth": 2
          }
         }
        },
        "title": {
         "text": "Week vs. Average Points"
        },
        "xaxis": {
         "anchor": "y",
         "domain": [
          0,
          1
         ],
         "title": {
          "text": "Week"
         }
        },
        "yaxis": {
         "anchor": "x",
         "domain": [
          0,
          1
         ],
         "title": {
          "text": "Actual_Points"
         }
        }
       }
      }
     },
     "metadata": {},
     "output_type": "display_data"
    }
   ],
   "source": [
    "import plotly.io as pio\n",
    "pio.renderers\n",
    "plot = px.scatter(test_df, x = 'Week', y = 'Actual_Points', color = 'Team', trendline='ols', trendline_options=dict(log_x=True), title='Week vs. Average Points')\n",
    "\n",
    "plot.show()"
   ]
  },
  {
   "cell_type": "code",
   "execution_count": 14,
   "metadata": {},
   "outputs": [
    {
     "data": {
      "application/vnd.plotly.v1+json": {
       "config": {
        "plotlyServerURL": "https://plot.ly"
       },
       "data": [
        {
         "hovertemplate": "Team=Cougar Town Zach Wilson<br>Week=%{x}<br>Rank=%{y}<extra></extra>",
         "legendgroup": "Cougar Town Zach Wilson",
         "marker": {
          "color": "#636efa",
          "symbol": "circle"
         },
         "mode": "markers",
         "name": "Cougar Town Zach Wilson",
         "orientation": "v",
         "showlegend": true,
         "type": "scatter",
         "x": [
          1,
          2,
          3,
          4,
          5,
          6,
          7,
          8,
          9,
          10,
          11
         ],
         "xaxis": "x",
         "y": [
          15.625,
          20,
          17.9375,
          18.266666666666666,
          18.0625,
          18.375,
          11.8125,
          11.266666666666667,
          14.615384615384615,
          15.583333333333334,
          14.666666666666666
         ],
         "yaxis": "y"
        },
        {
         "hovertemplate": "<b>OLS trendline</b><br>Rank = -4.10918 * log10(Week) + 18.8587<br>R<sup>2</sup>=0.224581<br><br>Team=Cougar Town Zach Wilson<br>Week=%{x}<br>Rank=%{y} <b>(trend)</b><extra></extra>",
         "legendgroup": "Cougar Town Zach Wilson",
         "marker": {
          "color": "#636efa",
          "symbol": "circle"
         },
         "mode": "lines",
         "name": "Cougar Town Zach Wilson",
         "showlegend": false,
         "type": "scatter",
         "x": [
          1,
          2,
          3,
          4,
          5,
          6,
          7,
          8,
          9,
          10,
          11
         ],
         "xaxis": "x",
         "y": [
          18.85870010795098,
          17.621715009538065,
          16.898125113015638,
          16.38472991112515,
          15.986509654989021,
          15.661140014602722,
          15.38604390340957,
          15.147744812712231,
          14.937550118080297,
          14.749524556576105,
          14.579434746718167
         ],
         "yaxis": "y"
        },
        {
         "hovertemplate": "Team=Couv Reigning Champ<br>Week=%{x}<br>Rank=%{y}<extra></extra>",
         "legendgroup": "Couv Reigning Champ",
         "marker": {
          "color": "#EF553B",
          "symbol": "circle"
         },
         "mode": "markers",
         "name": "Couv Reigning Champ",
         "orientation": "v",
         "showlegend": true,
         "type": "scatter",
         "x": [
          1,
          2,
          3,
          4,
          5,
          6,
          7,
          8,
          9,
          10,
          11
         ],
         "xaxis": "x",
         "y": [
          17.352941176470587,
          17.6,
          14.764705882352942,
          14.352941176470589,
          13.25,
          14.625,
          12.333333333333334,
          18,
          13.666666666666666,
          16.444444444444443,
          5.333333333333333
         ],
         "yaxis": "y"
        },
        {
         "hovertemplate": "<b>OLS trendline</b><br>Rank = -5.39072 * log10(Week) + 18.0636<br>R<sup>2</sup>=0.244262<br><br>Team=Couv Reigning Champ<br>Week=%{x}<br>Rank=%{y} <b>(trend)</b><extra></extra>",
         "legendgroup": "Couv Reigning Champ",
         "marker": {
          "color": "#EF553B",
          "symbol": "circle"
         },
         "mode": "lines",
         "name": "Couv Reigning Champ",
         "showlegend": false,
         "type": "scatter",
         "x": [
          1,
          2,
          3,
          4,
          5,
          6,
          7,
          8,
          9,
          10,
          11
         ],
         "xaxis": "x",
         "y": [
          18.06355035136052,
          16.440782499477468,
          15.491524158750062,
          14.81801464759442,
          14.295600084593252,
          13.868756306867013,
          13.507865035019794,
          13.19524679571137,
          12.919497966139605,
          12.672832232710203,
          12.44969593484817
         ],
         "yaxis": "y"
        },
        {
         "hovertemplate": "Team=Diggy Wit it<br>Week=%{x}<br>Rank=%{y}<extra></extra>",
         "legendgroup": "Diggy Wit it",
         "marker": {
          "color": "#00cc96",
          "symbol": "circle"
         },
         "mode": "markers",
         "name": "Diggy Wit it",
         "orientation": "v",
         "showlegend": true,
         "type": "scatter",
         "x": [
          1,
          2,
          3,
          4,
          5,
          6,
          7,
          8,
          9,
          10,
          11
         ],
         "xaxis": "x",
         "y": [
          15.823529411764707,
          18.941176470588236,
          12.866666666666667,
          14.1875,
          16.0625,
          15,
          12.071428571428571,
          17.142857142857142,
          12,
          18.5,
          20.5
         ],
         "yaxis": "y"
        },
        {
         "hovertemplate": "<b>OLS trendline</b><br>Rank = 0.623612 * log10(Week) + 15.305<br>R<sup>2</sup>=0.005011<br><br>Team=Diggy Wit it<br>Week=%{x}<br>Rank=%{y} <b>(trend)</b><extra></extra>",
         "legendgroup": "Diggy Wit it",
         "marker": {
          "color": "#00cc96",
          "symbol": "circle"
         },
         "mode": "lines",
         "name": "Diggy Wit it",
         "showlegend": false,
         "type": "scatter",
         "x": [
          1,
          2,
          3,
          4,
          5,
          6,
          7,
          8,
          9,
          10,
          11
         ],
         "xaxis": "x",
         "y": [
          15.305044431210492,
          15.492770253832894,
          15.602582820484031,
          15.680496076455297,
          15.740930292893289,
          15.790308643106433,
          15.832057443346805,
          15.8682218990777,
          15.90012120975757,
          15.928656115515691,
          15.954469077625127
         ],
         "yaxis": "y"
        },
        {
         "hovertemplate": "Team=Eugene Tweakers<br>Week=%{x}<br>Rank=%{y}<extra></extra>",
         "legendgroup": "Eugene Tweakers",
         "marker": {
          "color": "#ab63fa",
          "symbol": "circle"
         },
         "mode": "markers",
         "name": "Eugene Tweakers",
         "orientation": "v",
         "showlegend": true,
         "type": "scatter",
         "x": [
          1,
          2,
          3,
          4,
          5,
          6,
          7,
          8,
          9,
          10,
          11
         ],
         "xaxis": "x",
         "y": [
          16.375,
          14.875,
          14.3125,
          15.75,
          16.6875,
          16.142857142857142,
          16.4,
          13.214285714285714,
          12.833333333333334,
          17.166666666666668,
          16.666666666666668
         ],
         "yaxis": "y"
        },
        {
         "hovertemplate": "<b>OLS trendline</b><br>Rank = -0.179471 * log10(Week) + 15.6171<br>R<sup>2</sup>=0.001552<br><br>Team=Eugene Tweakers<br>Week=%{x}<br>Rank=%{y} <b>(trend)</b><extra></extra>",
         "legendgroup": "Eugene Tweakers",
         "marker": {
          "color": "#ab63fa",
          "symbol": "circle"
         },
         "mode": "lines",
         "name": "Eugene Tweakers",
         "showlegend": false,
         "type": "scatter",
         "x": [
          1,
          2,
          3,
          4,
          5,
          6,
          7,
          8,
          9,
          10,
          11
         ],
         "xaxis": "x",
         "y": [
          15.617090930984538,
          15.563064630134638,
          15.531461270084767,
          15.509038329284738,
          15.49164574517832,
          15.477434969234867,
          15.465419929373008,
          15.455012028434838,
          15.445831609184998,
          15.43761944432842,
          15.430190637586383
         ],
         "yaxis": "y"
        },
        {
         "hovertemplate": "Team=Gorilla Guys<br>Week=%{x}<br>Rank=%{y}<extra></extra>",
         "legendgroup": "Gorilla Guys",
         "marker": {
          "color": "#FFA15A",
          "symbol": "circle"
         },
         "mode": "markers",
         "name": "Gorilla Guys",
         "orientation": "v",
         "showlegend": true,
         "type": "scatter",
         "x": [
          1,
          2,
          3,
          4,
          5,
          6,
          7,
          8,
          9,
          10,
          11
         ],
         "xaxis": "x",
         "y": [
          15.5625,
          16.058823529411764,
          20.058823529411764,
          14.764705882352942,
          17.352941176470587,
          10.5,
          12.785714285714286,
          15.615384615384615,
          15.615384615384615,
          17,
          13.75
         ],
         "yaxis": "y"
        },
        {
         "hovertemplate": "<b>OLS trendline</b><br>Rank = -2.01005 * log10(Week) + 16.7585<br>R<sup>2</sup>=0.067593<br><br>Team=Gorilla Guys<br>Week=%{x}<br>Rank=%{y} <b>(trend)</b><extra></extra>",
         "legendgroup": "Gorilla Guys",
         "marker": {
          "color": "#FFA15A",
          "symbol": "circle"
         },
         "mode": "lines",
         "name": "Gorilla Guys",
         "showlegend": false,
         "type": "scatter",
         "x": [
          1,
          2,
          3,
          4,
          5,
          6,
          7,
          8,
          9,
          10,
          11
         ],
         "xaxis": "x",
         "y": [
          16.758451339374265,
          16.153366628341903,
          15.799414762628277,
          15.548281917309545,
          15.353488149041427,
          15.194330051595918,
          15.059763797595766,
          14.943197206277185,
          14.84037818588229,
          14.748403438009067,
          14.665202158074905
         ],
         "yaxis": "y"
        },
        {
         "hovertemplate": "Team=I dont know what im doing<br>Week=%{x}<br>Rank=%{y}<extra></extra>",
         "legendgroup": "I dont know what im doing",
         "marker": {
          "color": "#19d3f3",
          "symbol": "circle"
         },
         "mode": "markers",
         "name": "I dont know what im doing",
         "orientation": "v",
         "showlegend": true,
         "type": "scatter",
         "x": [
          1,
          2,
          3,
          4,
          5,
          6,
          7,
          8,
          9,
          10,
          11
         ],
         "xaxis": "x",
         "y": [
          14.375,
          14.0625,
          17.866666666666667,
          14.866666666666667,
          16.533333333333335,
          14.866666666666667,
          16.866666666666667,
          19.384615384615383,
          15.923076923076923,
          11.818181818181818,
          17.333333333333332
         ],
         "yaxis": "y"
        },
        {
         "hovertemplate": "<b>OLS trendline</b><br>Rank = 1.4245 * log10(Week) + 14.8244<br>R<sup>2</sup>=0.048504<br><br>Team=I dont know what im doing<br>Week=%{x}<br>Rank=%{y} <b>(trend)</b><extra></extra>",
         "legendgroup": "I dont know what im doing",
         "marker": {
          "color": "#19d3f3",
          "symbol": "circle"
         },
         "mode": "lines",
         "name": "I dont know what im doing",
         "showlegend": false,
         "type": "scatter",
         "x": [
          1,
          2,
          3,
          4,
          5,
          6,
          7,
          8,
          9,
          10,
          11
         ],
         "xaxis": "x",
         "y": [
          14.824445212165426,
          15.25326100755325,
          15.504102167572045,
          15.682076802941076,
          15.820124655007888,
          15.93291796295987,
          16.028283346003484,
          16.110892598328903,
          16.183759122978664,
          16.248940450395715,
          16.30790413330117
         ],
         "yaxis": "y"
        },
        {
         "hovertemplate": "Team=Just-in-N-out Drive thru<br>Week=%{x}<br>Rank=%{y}<extra></extra>",
         "legendgroup": "Just-in-N-out Drive thru",
         "marker": {
          "color": "#FF6692",
          "symbol": "circle"
         },
         "mode": "markers",
         "name": "Just-in-N-out Drive thru",
         "orientation": "v",
         "showlegend": true,
         "type": "scatter",
         "x": [
          1,
          2,
          3,
          4,
          5,
          6,
          7,
          8,
          9,
          10,
          11
         ],
         "xaxis": "x",
         "y": [
          16.1875,
          17.6875,
          15.066666666666666,
          16.5,
          17.076923076923077,
          10.923076923076923,
          14.083333333333334,
          13.5,
          15.636363636363637,
          11.909090909090908,
          15.2
         ],
         "yaxis": "y"
        },
        {
         "hovertemplate": "<b>OLS trendline</b><br>Rank = -3.37286 * log10(Week) + 17.2189<br>R<sup>2</sup>=0.266063<br><br>Team=Just-in-N-out Drive thru<br>Week=%{x}<br>Rank=%{y} <b>(trend)</b><extra></extra>",
         "legendgroup": "Just-in-N-out Drive thru",
         "marker": {
          "color": "#FF6692",
          "symbol": "circle"
         },
         "mode": "lines",
         "name": "Just-in-N-out Drive thru",
         "showlegend": false,
         "type": "scatter",
         "x": [
          1,
          2,
          3,
          4,
          5,
          6,
          7,
          8,
          9,
          10,
          11
         ],
         "xaxis": "x",
         "y": [
          17.218919136062503,
          16.203586238523943,
          15.60965456771533,
          15.188253340985383,
          14.861389155604328,
          14.59432167017677,
          14.368519328630619,
          14.172920443446824,
          14.000389999368156,
          13.846056258065769,
          13.706444406874985
         ],
         "yaxis": "y"
        },
        {
         "hovertemplate": "Team=My Team  A Bust<br>Week=%{x}<br>Rank=%{y}<extra></extra>",
         "legendgroup": "My Team  A Bust",
         "marker": {
          "color": "#B6E880",
          "symbol": "circle"
         },
         "mode": "markers",
         "name": "My Team  A Bust",
         "orientation": "v",
         "showlegend": true,
         "type": "scatter",
         "x": [
          1,
          2,
          3,
          4,
          5,
          6,
          7,
          8,
          9,
          10,
          11
         ],
         "xaxis": "x",
         "y": [
          18.058823529411764,
          18.235294117647058,
          14.294117647058824,
          16,
          16.5,
          12.142857142857142,
          13,
          19.666666666666668,
          13.125,
          11.125,
          9.444444444444445
         ],
         "yaxis": "y"
        },
        {
         "hovertemplate": "<b>OLS trendline</b><br>Rank = -6.21333 * log10(Week) + 18.9837<br>R<sup>2</sup>=0.381907<br><br>Team=My Team  A Bust<br>Week=%{x}<br>Rank=%{y} <b>(trend)</b><extra></extra>",
         "legendgroup": "My Team  A Bust",
         "marker": {
          "color": "#B6E880",
          "symbol": "circle"
         },
         "mode": "lines",
         "name": "My Team  A Bust",
         "showlegend": false,
         "type": "scatter",
         "x": [
          1,
          2,
          3,
          4,
          5,
          6,
          7,
          8,
          9,
          10,
          11
         ],
         "xaxis": "x",
         "y": [
          18.98370252811896,
          17.113302423061334,
          16.01918850025771,
          15.242902318003704,
          14.64076797550538,
          14.148788395200082,
          13.732825586968367,
          13.372502212946078,
          13.054674472396457,
          12.770367870447751,
          12.513181265180078
         ],
         "yaxis": "y"
        },
        {
         "hovertemplate": "Team=No Nyugen Will Win<br>Week=%{x}<br>Rank=%{y}<extra></extra>",
         "legendgroup": "No Nyugen Will Win",
         "marker": {
          "color": "#FF97FF",
          "symbol": "circle"
         },
         "mode": "markers",
         "name": "No Nyugen Will Win",
         "orientation": "v",
         "showlegend": true,
         "type": "scatter",
         "x": [
          1,
          2,
          3,
          4,
          5,
          6,
          7,
          8,
          9,
          10,
          11
         ],
         "xaxis": "x",
         "y": [
          16.4375,
          14.882352941176471,
          17.529411764705884,
          16.176470588235293,
          12.8125,
          16.875,
          13.333333333333334,
          18.142857142857142,
          16.25,
          13.23076923076923,
          14.88888888888889
         ],
         "yaxis": "y"
        },
        {
         "hovertemplate": "<b>OLS trendline</b><br>Rank = -1.23573 * log10(Week) + 16.3593<br>R<sup>2</sup>=0.048879<br><br>Team=No Nyugen Will Win<br>Week=%{x}<br>Rank=%{y} <b>(trend)</b><extra></extra>",
         "legendgroup": "No Nyugen Will Win",
         "marker": {
          "color": "#FF97FF",
          "symbol": "circle"
         },
         "mode": "lines",
         "name": "No Nyugen Will Win",
         "showlegend": false,
         "type": "scatter",
         "x": [
          1,
          2,
          3,
          4,
          5,
          6,
          7,
          8,
          9,
          10,
          11
         ],
         "xaxis": "x",
         "y": [
          16.359276243591847,
          15.987285293207872,
          15.769684536625624,
          15.6152943428239,
          15.495540004851447,
          15.397693586241651,
          15.314965618070511,
          15.243303392439925,
          15.1800928296594,
          15.123549054467473,
          15.07239898798659
         ],
         "yaxis": "y"
        },
        {
         "hovertemplate": "Team=P-Town CASH KEVIN<br>Week=%{x}<br>Rank=%{y}<extra></extra>",
         "legendgroup": "P-Town CASH KEVIN",
         "marker": {
          "color": "#FECB52",
          "symbol": "circle"
         },
         "mode": "markers",
         "name": "P-Town CASH KEVIN",
         "orientation": "v",
         "showlegend": true,
         "type": "scatter",
         "x": [
          1,
          2,
          3,
          4,
          5,
          6,
          7,
          8,
          9,
          10,
          11
         ],
         "xaxis": "x",
         "y": [
          20.0625,
          19.4375,
          13.25,
          17.125,
          20.1875,
          15.75,
          12.6,
          10.214285714285714,
          12.571428571428571,
          12.846153846153847,
          14
         ],
         "yaxis": "y"
        },
        {
         "hovertemplate": "<b>OLS trendline</b><br>Rank = -7.61761 * log10(Week) + 20.5406<br>R<sup>2</sup>=0.507516<br><br>Team=P-Town CASH KEVIN<br>Week=%{x}<br>Rank=%{y} <b>(trend)</b><extra></extra>",
         "legendgroup": "P-Town CASH KEVIN",
         "marker": {
          "color": "#FECB52",
          "symbol": "circle"
         },
         "mode": "lines",
         "name": "P-Town CASH KEVIN",
         "showlegend": false,
         "type": "scatter",
         "x": [
          1,
          2,
          3,
          4,
          5,
          6,
          7,
          8,
          9,
          10,
          11
         ],
         "xaxis": "x",
         "y": [
          20.540637835519874,
          18.247508403539925,
          16.90611367653165,
          15.954378971559976,
          15.216156182192531,
          14.6129842445517,
          14.103009637735806,
          13.661249539580027,
          13.271589517543426,
          12.923026750212582,
          12.607713372900651
         ],
         "yaxis": "y"
        }
       ],
       "layout": {
        "legend": {
         "title": {
          "text": "Team"
         },
         "tracegroupgap": 0
        },
        "template": {
         "data": {
          "bar": [
           {
            "error_x": {
             "color": "#2a3f5f"
            },
            "error_y": {
             "color": "#2a3f5f"
            },
            "marker": {
             "line": {
              "color": "#E5ECF6",
              "width": 0.5
             },
             "pattern": {
              "fillmode": "overlay",
              "size": 10,
              "solidity": 0.2
             }
            },
            "type": "bar"
           }
          ],
          "barpolar": [
           {
            "marker": {
             "line": {
              "color": "#E5ECF6",
              "width": 0.5
             },
             "pattern": {
              "fillmode": "overlay",
              "size": 10,
              "solidity": 0.2
             }
            },
            "type": "barpolar"
           }
          ],
          "carpet": [
           {
            "aaxis": {
             "endlinecolor": "#2a3f5f",
             "gridcolor": "white",
             "linecolor": "white",
             "minorgridcolor": "white",
             "startlinecolor": "#2a3f5f"
            },
            "baxis": {
             "endlinecolor": "#2a3f5f",
             "gridcolor": "white",
             "linecolor": "white",
             "minorgridcolor": "white",
             "startlinecolor": "#2a3f5f"
            },
            "type": "carpet"
           }
          ],
          "choropleth": [
           {
            "colorbar": {
             "outlinewidth": 0,
             "ticks": ""
            },
            "type": "choropleth"
           }
          ],
          "contour": [
           {
            "colorbar": {
             "outlinewidth": 0,
             "ticks": ""
            },
            "colorscale": [
             [
              0,
              "#0d0887"
             ],
             [
              0.1111111111111111,
              "#46039f"
             ],
             [
              0.2222222222222222,
              "#7201a8"
             ],
             [
              0.3333333333333333,
              "#9c179e"
             ],
             [
              0.4444444444444444,
              "#bd3786"
             ],
             [
              0.5555555555555556,
              "#d8576b"
             ],
             [
              0.6666666666666666,
              "#ed7953"
             ],
             [
              0.7777777777777778,
              "#fb9f3a"
             ],
             [
              0.8888888888888888,
              "#fdca26"
             ],
             [
              1,
              "#f0f921"
             ]
            ],
            "type": "contour"
           }
          ],
          "contourcarpet": [
           {
            "colorbar": {
             "outlinewidth": 0,
             "ticks": ""
            },
            "type": "contourcarpet"
           }
          ],
          "heatmap": [
           {
            "colorbar": {
             "outlinewidth": 0,
             "ticks": ""
            },
            "colorscale": [
             [
              0,
              "#0d0887"
             ],
             [
              0.1111111111111111,
              "#46039f"
             ],
             [
              0.2222222222222222,
              "#7201a8"
             ],
             [
              0.3333333333333333,
              "#9c179e"
             ],
             [
              0.4444444444444444,
              "#bd3786"
             ],
             [
              0.5555555555555556,
              "#d8576b"
             ],
             [
              0.6666666666666666,
              "#ed7953"
             ],
             [
              0.7777777777777778,
              "#fb9f3a"
             ],
             [
              0.8888888888888888,
              "#fdca26"
             ],
             [
              1,
              "#f0f921"
             ]
            ],
            "type": "heatmap"
           }
          ],
          "heatmapgl": [
           {
            "colorbar": {
             "outlinewidth": 0,
             "ticks": ""
            },
            "colorscale": [
             [
              0,
              "#0d0887"
             ],
             [
              0.1111111111111111,
              "#46039f"
             ],
             [
              0.2222222222222222,
              "#7201a8"
             ],
             [
              0.3333333333333333,
              "#9c179e"
             ],
             [
              0.4444444444444444,
              "#bd3786"
             ],
             [
              0.5555555555555556,
              "#d8576b"
             ],
             [
              0.6666666666666666,
              "#ed7953"
             ],
             [
              0.7777777777777778,
              "#fb9f3a"
             ],
             [
              0.8888888888888888,
              "#fdca26"
             ],
             [
              1,
              "#f0f921"
             ]
            ],
            "type": "heatmapgl"
           }
          ],
          "histogram": [
           {
            "marker": {
             "pattern": {
              "fillmode": "overlay",
              "size": 10,
              "solidity": 0.2
             }
            },
            "type": "histogram"
           }
          ],
          "histogram2d": [
           {
            "colorbar": {
             "outlinewidth": 0,
             "ticks": ""
            },
            "colorscale": [
             [
              0,
              "#0d0887"
             ],
             [
              0.1111111111111111,
              "#46039f"
             ],
             [
              0.2222222222222222,
              "#7201a8"
             ],
             [
              0.3333333333333333,
              "#9c179e"
             ],
             [
              0.4444444444444444,
              "#bd3786"
             ],
             [
              0.5555555555555556,
              "#d8576b"
             ],
             [
              0.6666666666666666,
              "#ed7953"
             ],
             [
              0.7777777777777778,
              "#fb9f3a"
             ],
             [
              0.8888888888888888,
              "#fdca26"
             ],
             [
              1,
              "#f0f921"
             ]
            ],
            "type": "histogram2d"
           }
          ],
          "histogram2dcontour": [
           {
            "colorbar": {
             "outlinewidth": 0,
             "ticks": ""
            },
            "colorscale": [
             [
              0,
              "#0d0887"
             ],
             [
              0.1111111111111111,
              "#46039f"
             ],
             [
              0.2222222222222222,
              "#7201a8"
             ],
             [
              0.3333333333333333,
              "#9c179e"
             ],
             [
              0.4444444444444444,
              "#bd3786"
             ],
             [
              0.5555555555555556,
              "#d8576b"
             ],
             [
              0.6666666666666666,
              "#ed7953"
             ],
             [
              0.7777777777777778,
              "#fb9f3a"
             ],
             [
              0.8888888888888888,
              "#fdca26"
             ],
             [
              1,
              "#f0f921"
             ]
            ],
            "type": "histogram2dcontour"
           }
          ],
          "mesh3d": [
           {
            "colorbar": {
             "outlinewidth": 0,
             "ticks": ""
            },
            "type": "mesh3d"
           }
          ],
          "parcoords": [
           {
            "line": {
             "colorbar": {
              "outlinewidth": 0,
              "ticks": ""
             }
            },
            "type": "parcoords"
           }
          ],
          "pie": [
           {
            "automargin": true,
            "type": "pie"
           }
          ],
          "scatter": [
           {
            "marker": {
             "colorbar": {
              "outlinewidth": 0,
              "ticks": ""
             }
            },
            "type": "scatter"
           }
          ],
          "scatter3d": [
           {
            "line": {
             "colorbar": {
              "outlinewidth": 0,
              "ticks": ""
             }
            },
            "marker": {
             "colorbar": {
              "outlinewidth": 0,
              "ticks": ""
             }
            },
            "type": "scatter3d"
           }
          ],
          "scattercarpet": [
           {
            "marker": {
             "colorbar": {
              "outlinewidth": 0,
              "ticks": ""
             }
            },
            "type": "scattercarpet"
           }
          ],
          "scattergeo": [
           {
            "marker": {
             "colorbar": {
              "outlinewidth": 0,
              "ticks": ""
             }
            },
            "type": "scattergeo"
           }
          ],
          "scattergl": [
           {
            "marker": {
             "colorbar": {
              "outlinewidth": 0,
              "ticks": ""
             }
            },
            "type": "scattergl"
           }
          ],
          "scattermapbox": [
           {
            "marker": {
             "colorbar": {
              "outlinewidth": 0,
              "ticks": ""
             }
            },
            "type": "scattermapbox"
           }
          ],
          "scatterpolar": [
           {
            "marker": {
             "colorbar": {
              "outlinewidth": 0,
              "ticks": ""
             }
            },
            "type": "scatterpolar"
           }
          ],
          "scatterpolargl": [
           {
            "marker": {
             "colorbar": {
              "outlinewidth": 0,
              "ticks": ""
             }
            },
            "type": "scatterpolargl"
           }
          ],
          "scatterternary": [
           {
            "marker": {
             "colorbar": {
              "outlinewidth": 0,
              "ticks": ""
             }
            },
            "type": "scatterternary"
           }
          ],
          "surface": [
           {
            "colorbar": {
             "outlinewidth": 0,
             "ticks": ""
            },
            "colorscale": [
             [
              0,
              "#0d0887"
             ],
             [
              0.1111111111111111,
              "#46039f"
             ],
             [
              0.2222222222222222,
              "#7201a8"
             ],
             [
              0.3333333333333333,
              "#9c179e"
             ],
             [
              0.4444444444444444,
              "#bd3786"
             ],
             [
              0.5555555555555556,
              "#d8576b"
             ],
             [
              0.6666666666666666,
              "#ed7953"
             ],
             [
              0.7777777777777778,
              "#fb9f3a"
             ],
             [
              0.8888888888888888,
              "#fdca26"
             ],
             [
              1,
              "#f0f921"
             ]
            ],
            "type": "surface"
           }
          ],
          "table": [
           {
            "cells": {
             "fill": {
              "color": "#EBF0F8"
             },
             "line": {
              "color": "white"
             }
            },
            "header": {
             "fill": {
              "color": "#C8D4E3"
             },
             "line": {
              "color": "white"
             }
            },
            "type": "table"
           }
          ]
         },
         "layout": {
          "annotationdefaults": {
           "arrowcolor": "#2a3f5f",
           "arrowhead": 0,
           "arrowwidth": 1
          },
          "autotypenumbers": "strict",
          "coloraxis": {
           "colorbar": {
            "outlinewidth": 0,
            "ticks": ""
           }
          },
          "colorscale": {
           "diverging": [
            [
             0,
             "#8e0152"
            ],
            [
             0.1,
             "#c51b7d"
            ],
            [
             0.2,
             "#de77ae"
            ],
            [
             0.3,
             "#f1b6da"
            ],
            [
             0.4,
             "#fde0ef"
            ],
            [
             0.5,
             "#f7f7f7"
            ],
            [
             0.6,
             "#e6f5d0"
            ],
            [
             0.7,
             "#b8e186"
            ],
            [
             0.8,
             "#7fbc41"
            ],
            [
             0.9,
             "#4d9221"
            ],
            [
             1,
             "#276419"
            ]
           ],
           "sequential": [
            [
             0,
             "#0d0887"
            ],
            [
             0.1111111111111111,
             "#46039f"
            ],
            [
             0.2222222222222222,
             "#7201a8"
            ],
            [
             0.3333333333333333,
             "#9c179e"
            ],
            [
             0.4444444444444444,
             "#bd3786"
            ],
            [
             0.5555555555555556,
             "#d8576b"
            ],
            [
             0.6666666666666666,
             "#ed7953"
            ],
            [
             0.7777777777777778,
             "#fb9f3a"
            ],
            [
             0.8888888888888888,
             "#fdca26"
            ],
            [
             1,
             "#f0f921"
            ]
           ],
           "sequentialminus": [
            [
             0,
             "#0d0887"
            ],
            [
             0.1111111111111111,
             "#46039f"
            ],
            [
             0.2222222222222222,
             "#7201a8"
            ],
            [
             0.3333333333333333,
             "#9c179e"
            ],
            [
             0.4444444444444444,
             "#bd3786"
            ],
            [
             0.5555555555555556,
             "#d8576b"
            ],
            [
             0.6666666666666666,
             "#ed7953"
            ],
            [
             0.7777777777777778,
             "#fb9f3a"
            ],
            [
             0.8888888888888888,
             "#fdca26"
            ],
            [
             1,
             "#f0f921"
            ]
           ]
          },
          "colorway": [
           "#636efa",
           "#EF553B",
           "#00cc96",
           "#ab63fa",
           "#FFA15A",
           "#19d3f3",
           "#FF6692",
           "#B6E880",
           "#FF97FF",
           "#FECB52"
          ],
          "font": {
           "color": "#2a3f5f"
          },
          "geo": {
           "bgcolor": "white",
           "lakecolor": "white",
           "landcolor": "#E5ECF6",
           "showlakes": true,
           "showland": true,
           "subunitcolor": "white"
          },
          "hoverlabel": {
           "align": "left"
          },
          "hovermode": "closest",
          "mapbox": {
           "style": "light"
          },
          "paper_bgcolor": "white",
          "plot_bgcolor": "#E5ECF6",
          "polar": {
           "angularaxis": {
            "gridcolor": "white",
            "linecolor": "white",
            "ticks": ""
           },
           "bgcolor": "#E5ECF6",
           "radialaxis": {
            "gridcolor": "white",
            "linecolor": "white",
            "ticks": ""
           }
          },
          "scene": {
           "xaxis": {
            "backgroundcolor": "#E5ECF6",
            "gridcolor": "white",
            "gridwidth": 2,
            "linecolor": "white",
            "showbackground": true,
            "ticks": "",
            "zerolinecolor": "white"
           },
           "yaxis": {
            "backgroundcolor": "#E5ECF6",
            "gridcolor": "white",
            "gridwidth": 2,
            "linecolor": "white",
            "showbackground": true,
            "ticks": "",
            "zerolinecolor": "white"
           },
           "zaxis": {
            "backgroundcolor": "#E5ECF6",
            "gridcolor": "white",
            "gridwidth": 2,
            "linecolor": "white",
            "showbackground": true,
            "ticks": "",
            "zerolinecolor": "white"
           }
          },
          "shapedefaults": {
           "line": {
            "color": "#2a3f5f"
           }
          },
          "ternary": {
           "aaxis": {
            "gridcolor": "white",
            "linecolor": "white",
            "ticks": ""
           },
           "baxis": {
            "gridcolor": "white",
            "linecolor": "white",
            "ticks": ""
           },
           "bgcolor": "#E5ECF6",
           "caxis": {
            "gridcolor": "white",
            "linecolor": "white",
            "ticks": ""
           }
          },
          "title": {
           "x": 0.05
          },
          "xaxis": {
           "automargin": true,
           "gridcolor": "white",
           "linecolor": "white",
           "ticks": "",
           "title": {
            "standoff": 15
           },
           "zerolinecolor": "white",
           "zerolinewidth": 2
          },
          "yaxis": {
           "automargin": true,
           "gridcolor": "white",
           "linecolor": "white",
           "ticks": "",
           "title": {
            "standoff": 15
           },
           "zerolinecolor": "white",
           "zerolinewidth": 2
          }
         }
        },
        "title": {
         "text": "Week vs. Average Player Rank"
        },
        "xaxis": {
         "anchor": "y",
         "domain": [
          0,
          1
         ],
         "title": {
          "text": "Week"
         }
        },
        "yaxis": {
         "anchor": "x",
         "autorange": "reversed",
         "domain": [
          0,
          1
         ],
         "title": {
          "text": "Rank"
         }
        }
       }
      }
     },
     "metadata": {},
     "output_type": "display_data"
    }
   ],
   "source": [
    "import plotly.io as pio\n",
    "pio.renderers\n",
    "plot = px.scatter(test_df, x = 'Week', y = 'Rank', color = 'Team', trendline='ols', trendline_options=dict(log_x=True), title='Week vs. Average Player Rank')\n",
    "plot.update_yaxes(autorange = 'reversed')\n",
    "plot.show()"
   ]
  },
  {
   "cell_type": "code",
   "execution_count": 15,
   "metadata": {},
   "outputs": [
    {
     "data": {
      "application/vnd.plotly.v1+json": {
       "config": {
        "plotlyServerURL": "https://plot.ly"
       },
       "data": [
        {
         "hovertemplate": "Team=Cougar Town Zach Wilson<br>Week=%{x}<br>Rank=%{y}<extra></extra>",
         "legendgroup": "Cougar Town Zach Wilson",
         "marker": {
          "color": "#636efa",
          "symbol": "circle"
         },
         "mode": "markers",
         "name": "Cougar Town Zach Wilson",
         "orientation": "v",
         "showlegend": true,
         "type": "scatter",
         "x": [
          1,
          2,
          3,
          4,
          5,
          6,
          7,
          8,
          9,
          10,
          11
         ],
         "xaxis": "x",
         "y": [
          15.625,
          20,
          17.9375,
          18.266666666666666,
          18.0625,
          18.375,
          11.8125,
          11.266666666666667,
          14.615384615384615,
          15.583333333333334,
          14.666666666666666
         ],
         "yaxis": "y"
        },
        {
         "hovertemplate": "<b>OLS trendline</b><br>Rank = -4.10918 * log10(Week) + 18.8587<br>R<sup>2</sup>=0.224581<br><br>Team=Cougar Town Zach Wilson<br>Week=%{x}<br>Rank=%{y} <b>(trend)</b><extra></extra>",
         "legendgroup": "Cougar Town Zach Wilson",
         "marker": {
          "color": "#636efa",
          "symbol": "circle"
         },
         "mode": "lines",
         "name": "Cougar Town Zach Wilson",
         "showlegend": false,
         "type": "scatter",
         "x": [
          1,
          2,
          3,
          4,
          5,
          6,
          7,
          8,
          9,
          10,
          11
         ],
         "xaxis": "x",
         "y": [
          18.85870010795098,
          17.621715009538065,
          16.898125113015638,
          16.38472991112515,
          15.986509654989021,
          15.661140014602722,
          15.38604390340957,
          15.147744812712231,
          14.937550118080297,
          14.749524556576105,
          14.579434746718167
         ],
         "yaxis": "y"
        },
        {
         "hovertemplate": "Team=Couv Reigning Champ<br>Week=%{x}<br>Rank=%{y}<extra></extra>",
         "legendgroup": "Couv Reigning Champ",
         "marker": {
          "color": "#EF553B",
          "symbol": "circle"
         },
         "mode": "markers",
         "name": "Couv Reigning Champ",
         "orientation": "v",
         "showlegend": true,
         "type": "scatter",
         "x": [
          1,
          2,
          3,
          4,
          5,
          6,
          7,
          8,
          9,
          10,
          11
         ],
         "xaxis": "x",
         "y": [
          17.352941176470587,
          17.6,
          14.764705882352942,
          14.352941176470589,
          13.25,
          14.625,
          12.333333333333334,
          18,
          13.666666666666666,
          16.444444444444443,
          5.333333333333333
         ],
         "yaxis": "y"
        },
        {
         "hovertemplate": "<b>OLS trendline</b><br>Rank = -5.39072 * log10(Week) + 18.0636<br>R<sup>2</sup>=0.244262<br><br>Team=Couv Reigning Champ<br>Week=%{x}<br>Rank=%{y} <b>(trend)</b><extra></extra>",
         "legendgroup": "Couv Reigning Champ",
         "marker": {
          "color": "#EF553B",
          "symbol": "circle"
         },
         "mode": "lines",
         "name": "Couv Reigning Champ",
         "showlegend": false,
         "type": "scatter",
         "x": [
          1,
          2,
          3,
          4,
          5,
          6,
          7,
          8,
          9,
          10,
          11
         ],
         "xaxis": "x",
         "y": [
          18.06355035136052,
          16.440782499477468,
          15.491524158750062,
          14.81801464759442,
          14.295600084593252,
          13.868756306867013,
          13.507865035019794,
          13.19524679571137,
          12.919497966139605,
          12.672832232710203,
          12.44969593484817
         ],
         "yaxis": "y"
        },
        {
         "hovertemplate": "Team=Diggy Wit it<br>Week=%{x}<br>Rank=%{y}<extra></extra>",
         "legendgroup": "Diggy Wit it",
         "marker": {
          "color": "#00cc96",
          "symbol": "circle"
         },
         "mode": "markers",
         "name": "Diggy Wit it",
         "orientation": "v",
         "showlegend": true,
         "type": "scatter",
         "x": [
          1,
          2,
          3,
          4,
          5,
          6,
          7,
          8,
          9,
          10,
          11
         ],
         "xaxis": "x",
         "y": [
          15.823529411764707,
          18.941176470588236,
          12.866666666666667,
          14.1875,
          16.0625,
          15,
          12.071428571428571,
          17.142857142857142,
          12,
          18.5,
          20.5
         ],
         "yaxis": "y"
        },
        {
         "hovertemplate": "<b>OLS trendline</b><br>Rank = 0.623612 * log10(Week) + 15.305<br>R<sup>2</sup>=0.005011<br><br>Team=Diggy Wit it<br>Week=%{x}<br>Rank=%{y} <b>(trend)</b><extra></extra>",
         "legendgroup": "Diggy Wit it",
         "marker": {
          "color": "#00cc96",
          "symbol": "circle"
         },
         "mode": "lines",
         "name": "Diggy Wit it",
         "showlegend": false,
         "type": "scatter",
         "x": [
          1,
          2,
          3,
          4,
          5,
          6,
          7,
          8,
          9,
          10,
          11
         ],
         "xaxis": "x",
         "y": [
          15.305044431210492,
          15.492770253832894,
          15.602582820484031,
          15.680496076455297,
          15.740930292893289,
          15.790308643106433,
          15.832057443346805,
          15.8682218990777,
          15.90012120975757,
          15.928656115515691,
          15.954469077625127
         ],
         "yaxis": "y"
        },
        {
         "hovertemplate": "Team=Eugene Tweakers<br>Week=%{x}<br>Rank=%{y}<extra></extra>",
         "legendgroup": "Eugene Tweakers",
         "marker": {
          "color": "#ab63fa",
          "symbol": "circle"
         },
         "mode": "markers",
         "name": "Eugene Tweakers",
         "orientation": "v",
         "showlegend": true,
         "type": "scatter",
         "x": [
          1,
          2,
          3,
          4,
          5,
          6,
          7,
          8,
          9,
          10,
          11
         ],
         "xaxis": "x",
         "y": [
          16.375,
          14.875,
          14.3125,
          15.75,
          16.6875,
          16.142857142857142,
          16.4,
          13.214285714285714,
          12.833333333333334,
          17.166666666666668,
          16.666666666666668
         ],
         "yaxis": "y"
        },
        {
         "hovertemplate": "<b>OLS trendline</b><br>Rank = -0.179471 * log10(Week) + 15.6171<br>R<sup>2</sup>=0.001552<br><br>Team=Eugene Tweakers<br>Week=%{x}<br>Rank=%{y} <b>(trend)</b><extra></extra>",
         "legendgroup": "Eugene Tweakers",
         "marker": {
          "color": "#ab63fa",
          "symbol": "circle"
         },
         "mode": "lines",
         "name": "Eugene Tweakers",
         "showlegend": false,
         "type": "scatter",
         "x": [
          1,
          2,
          3,
          4,
          5,
          6,
          7,
          8,
          9,
          10,
          11
         ],
         "xaxis": "x",
         "y": [
          15.617090930984538,
          15.563064630134638,
          15.531461270084767,
          15.509038329284738,
          15.49164574517832,
          15.477434969234867,
          15.465419929373008,
          15.455012028434838,
          15.445831609184998,
          15.43761944432842,
          15.430190637586383
         ],
         "yaxis": "y"
        },
        {
         "hovertemplate": "Team=Gorilla Guys<br>Week=%{x}<br>Rank=%{y}<extra></extra>",
         "legendgroup": "Gorilla Guys",
         "marker": {
          "color": "#FFA15A",
          "symbol": "circle"
         },
         "mode": "markers",
         "name": "Gorilla Guys",
         "orientation": "v",
         "showlegend": true,
         "type": "scatter",
         "x": [
          1,
          2,
          3,
          4,
          5,
          6,
          7,
          8,
          9,
          10,
          11
         ],
         "xaxis": "x",
         "y": [
          15.5625,
          16.058823529411764,
          20.058823529411764,
          14.764705882352942,
          17.352941176470587,
          10.5,
          12.785714285714286,
          15.615384615384615,
          15.615384615384615,
          17,
          13.75
         ],
         "yaxis": "y"
        },
        {
         "hovertemplate": "<b>OLS trendline</b><br>Rank = -2.01005 * log10(Week) + 16.7585<br>R<sup>2</sup>=0.067593<br><br>Team=Gorilla Guys<br>Week=%{x}<br>Rank=%{y} <b>(trend)</b><extra></extra>",
         "legendgroup": "Gorilla Guys",
         "marker": {
          "color": "#FFA15A",
          "symbol": "circle"
         },
         "mode": "lines",
         "name": "Gorilla Guys",
         "showlegend": false,
         "type": "scatter",
         "x": [
          1,
          2,
          3,
          4,
          5,
          6,
          7,
          8,
          9,
          10,
          11
         ],
         "xaxis": "x",
         "y": [
          16.758451339374265,
          16.153366628341903,
          15.799414762628277,
          15.548281917309545,
          15.353488149041427,
          15.194330051595918,
          15.059763797595766,
          14.943197206277185,
          14.84037818588229,
          14.748403438009067,
          14.665202158074905
         ],
         "yaxis": "y"
        },
        {
         "hovertemplate": "Team=I dont know what im doing<br>Week=%{x}<br>Rank=%{y}<extra></extra>",
         "legendgroup": "I dont know what im doing",
         "marker": {
          "color": "#19d3f3",
          "symbol": "circle"
         },
         "mode": "markers",
         "name": "I dont know what im doing",
         "orientation": "v",
         "showlegend": true,
         "type": "scatter",
         "x": [
          1,
          2,
          3,
          4,
          5,
          6,
          7,
          8,
          9,
          10,
          11
         ],
         "xaxis": "x",
         "y": [
          14.375,
          14.0625,
          17.866666666666667,
          14.866666666666667,
          16.533333333333335,
          14.866666666666667,
          16.866666666666667,
          19.384615384615383,
          15.923076923076923,
          11.818181818181818,
          17.333333333333332
         ],
         "yaxis": "y"
        },
        {
         "hovertemplate": "<b>OLS trendline</b><br>Rank = 1.4245 * log10(Week) + 14.8244<br>R<sup>2</sup>=0.048504<br><br>Team=I dont know what im doing<br>Week=%{x}<br>Rank=%{y} <b>(trend)</b><extra></extra>",
         "legendgroup": "I dont know what im doing",
         "marker": {
          "color": "#19d3f3",
          "symbol": "circle"
         },
         "mode": "lines",
         "name": "I dont know what im doing",
         "showlegend": false,
         "type": "scatter",
         "x": [
          1,
          2,
          3,
          4,
          5,
          6,
          7,
          8,
          9,
          10,
          11
         ],
         "xaxis": "x",
         "y": [
          14.824445212165426,
          15.25326100755325,
          15.504102167572045,
          15.682076802941076,
          15.820124655007888,
          15.93291796295987,
          16.028283346003484,
          16.110892598328903,
          16.183759122978664,
          16.248940450395715,
          16.30790413330117
         ],
         "yaxis": "y"
        },
        {
         "hovertemplate": "Team=Just-in-N-out Drive thru<br>Week=%{x}<br>Rank=%{y}<extra></extra>",
         "legendgroup": "Just-in-N-out Drive thru",
         "marker": {
          "color": "#FF6692",
          "symbol": "circle"
         },
         "mode": "markers",
         "name": "Just-in-N-out Drive thru",
         "orientation": "v",
         "showlegend": true,
         "type": "scatter",
         "x": [
          1,
          2,
          3,
          4,
          5,
          6,
          7,
          8,
          9,
          10,
          11
         ],
         "xaxis": "x",
         "y": [
          16.1875,
          17.6875,
          15.066666666666666,
          16.5,
          17.076923076923077,
          10.923076923076923,
          14.083333333333334,
          13.5,
          15.636363636363637,
          11.909090909090908,
          15.2
         ],
         "yaxis": "y"
        },
        {
         "hovertemplate": "<b>OLS trendline</b><br>Rank = -3.37286 * log10(Week) + 17.2189<br>R<sup>2</sup>=0.266063<br><br>Team=Just-in-N-out Drive thru<br>Week=%{x}<br>Rank=%{y} <b>(trend)</b><extra></extra>",
         "legendgroup": "Just-in-N-out Drive thru",
         "marker": {
          "color": "#FF6692",
          "symbol": "circle"
         },
         "mode": "lines",
         "name": "Just-in-N-out Drive thru",
         "showlegend": false,
         "type": "scatter",
         "x": [
          1,
          2,
          3,
          4,
          5,
          6,
          7,
          8,
          9,
          10,
          11
         ],
         "xaxis": "x",
         "y": [
          17.218919136062503,
          16.203586238523943,
          15.60965456771533,
          15.188253340985383,
          14.861389155604328,
          14.59432167017677,
          14.368519328630619,
          14.172920443446824,
          14.000389999368156,
          13.846056258065769,
          13.706444406874985
         ],
         "yaxis": "y"
        },
        {
         "hovertemplate": "Team=My Team  A Bust<br>Week=%{x}<br>Rank=%{y}<extra></extra>",
         "legendgroup": "My Team  A Bust",
         "marker": {
          "color": "#B6E880",
          "symbol": "circle"
         },
         "mode": "markers",
         "name": "My Team  A Bust",
         "orientation": "v",
         "showlegend": true,
         "type": "scatter",
         "x": [
          1,
          2,
          3,
          4,
          5,
          6,
          7,
          8,
          9,
          10,
          11
         ],
         "xaxis": "x",
         "y": [
          18.058823529411764,
          18.235294117647058,
          14.294117647058824,
          16,
          16.5,
          12.142857142857142,
          13,
          19.666666666666668,
          13.125,
          11.125,
          9.444444444444445
         ],
         "yaxis": "y"
        },
        {
         "hovertemplate": "<b>OLS trendline</b><br>Rank = -6.21333 * log10(Week) + 18.9837<br>R<sup>2</sup>=0.381907<br><br>Team=My Team  A Bust<br>Week=%{x}<br>Rank=%{y} <b>(trend)</b><extra></extra>",
         "legendgroup": "My Team  A Bust",
         "marker": {
          "color": "#B6E880",
          "symbol": "circle"
         },
         "mode": "lines",
         "name": "My Team  A Bust",
         "showlegend": false,
         "type": "scatter",
         "x": [
          1,
          2,
          3,
          4,
          5,
          6,
          7,
          8,
          9,
          10,
          11
         ],
         "xaxis": "x",
         "y": [
          18.98370252811896,
          17.113302423061334,
          16.01918850025771,
          15.242902318003704,
          14.64076797550538,
          14.148788395200082,
          13.732825586968367,
          13.372502212946078,
          13.054674472396457,
          12.770367870447751,
          12.513181265180078
         ],
         "yaxis": "y"
        },
        {
         "hovertemplate": "Team=No Nyugen Will Win<br>Week=%{x}<br>Rank=%{y}<extra></extra>",
         "legendgroup": "No Nyugen Will Win",
         "marker": {
          "color": "#FF97FF",
          "symbol": "circle"
         },
         "mode": "markers",
         "name": "No Nyugen Will Win",
         "orientation": "v",
         "showlegend": true,
         "type": "scatter",
         "x": [
          1,
          2,
          3,
          4,
          5,
          6,
          7,
          8,
          9,
          10,
          11
         ],
         "xaxis": "x",
         "y": [
          16.4375,
          14.882352941176471,
          17.529411764705884,
          16.176470588235293,
          12.8125,
          16.875,
          13.333333333333334,
          18.142857142857142,
          16.25,
          13.23076923076923,
          14.88888888888889
         ],
         "yaxis": "y"
        },
        {
         "hovertemplate": "<b>OLS trendline</b><br>Rank = -1.23573 * log10(Week) + 16.3593<br>R<sup>2</sup>=0.048879<br><br>Team=No Nyugen Will Win<br>Week=%{x}<br>Rank=%{y} <b>(trend)</b><extra></extra>",
         "legendgroup": "No Nyugen Will Win",
         "marker": {
          "color": "#FF97FF",
          "symbol": "circle"
         },
         "mode": "lines",
         "name": "No Nyugen Will Win",
         "showlegend": false,
         "type": "scatter",
         "x": [
          1,
          2,
          3,
          4,
          5,
          6,
          7,
          8,
          9,
          10,
          11
         ],
         "xaxis": "x",
         "y": [
          16.359276243591847,
          15.987285293207872,
          15.769684536625624,
          15.6152943428239,
          15.495540004851447,
          15.397693586241651,
          15.314965618070511,
          15.243303392439925,
          15.1800928296594,
          15.123549054467473,
          15.07239898798659
         ],
         "yaxis": "y"
        },
        {
         "hovertemplate": "Team=P-Town CASH KEVIN<br>Week=%{x}<br>Rank=%{y}<extra></extra>",
         "legendgroup": "P-Town CASH KEVIN",
         "marker": {
          "color": "#FECB52",
          "symbol": "circle"
         },
         "mode": "markers",
         "name": "P-Town CASH KEVIN",
         "orientation": "v",
         "showlegend": true,
         "type": "scatter",
         "x": [
          1,
          2,
          3,
          4,
          5,
          6,
          7,
          8,
          9,
          10,
          11
         ],
         "xaxis": "x",
         "y": [
          20.0625,
          19.4375,
          13.25,
          17.125,
          20.1875,
          15.75,
          12.6,
          10.214285714285714,
          12.571428571428571,
          12.846153846153847,
          14
         ],
         "yaxis": "y"
        },
        {
         "hovertemplate": "<b>OLS trendline</b><br>Rank = -7.61761 * log10(Week) + 20.5406<br>R<sup>2</sup>=0.507516<br><br>Team=P-Town CASH KEVIN<br>Week=%{x}<br>Rank=%{y} <b>(trend)</b><extra></extra>",
         "legendgroup": "P-Town CASH KEVIN",
         "marker": {
          "color": "#FECB52",
          "symbol": "circle"
         },
         "mode": "lines",
         "name": "P-Town CASH KEVIN",
         "showlegend": false,
         "type": "scatter",
         "x": [
          1,
          2,
          3,
          4,
          5,
          6,
          7,
          8,
          9,
          10,
          11
         ],
         "xaxis": "x",
         "y": [
          20.540637835519874,
          18.247508403539925,
          16.90611367653165,
          15.954378971559976,
          15.216156182192531,
          14.6129842445517,
          14.103009637735806,
          13.661249539580027,
          13.271589517543426,
          12.923026750212582,
          12.607713372900651
         ],
         "yaxis": "y"
        }
       ],
       "layout": {
        "legend": {
         "title": {
          "text": "Team"
         },
         "tracegroupgap": 0
        },
        "template": {
         "data": {
          "bar": [
           {
            "error_x": {
             "color": "#2a3f5f"
            },
            "error_y": {
             "color": "#2a3f5f"
            },
            "marker": {
             "line": {
              "color": "#E5ECF6",
              "width": 0.5
             },
             "pattern": {
              "fillmode": "overlay",
              "size": 10,
              "solidity": 0.2
             }
            },
            "type": "bar"
           }
          ],
          "barpolar": [
           {
            "marker": {
             "line": {
              "color": "#E5ECF6",
              "width": 0.5
             },
             "pattern": {
              "fillmode": "overlay",
              "size": 10,
              "solidity": 0.2
             }
            },
            "type": "barpolar"
           }
          ],
          "carpet": [
           {
            "aaxis": {
             "endlinecolor": "#2a3f5f",
             "gridcolor": "white",
             "linecolor": "white",
             "minorgridcolor": "white",
             "startlinecolor": "#2a3f5f"
            },
            "baxis": {
             "endlinecolor": "#2a3f5f",
             "gridcolor": "white",
             "linecolor": "white",
             "minorgridcolor": "white",
             "startlinecolor": "#2a3f5f"
            },
            "type": "carpet"
           }
          ],
          "choropleth": [
           {
            "colorbar": {
             "outlinewidth": 0,
             "ticks": ""
            },
            "type": "choropleth"
           }
          ],
          "contour": [
           {
            "colorbar": {
             "outlinewidth": 0,
             "ticks": ""
            },
            "colorscale": [
             [
              0,
              "#0d0887"
             ],
             [
              0.1111111111111111,
              "#46039f"
             ],
             [
              0.2222222222222222,
              "#7201a8"
             ],
             [
              0.3333333333333333,
              "#9c179e"
             ],
             [
              0.4444444444444444,
              "#bd3786"
             ],
             [
              0.5555555555555556,
              "#d8576b"
             ],
             [
              0.6666666666666666,
              "#ed7953"
             ],
             [
              0.7777777777777778,
              "#fb9f3a"
             ],
             [
              0.8888888888888888,
              "#fdca26"
             ],
             [
              1,
              "#f0f921"
             ]
            ],
            "type": "contour"
           }
          ],
          "contourcarpet": [
           {
            "colorbar": {
             "outlinewidth": 0,
             "ticks": ""
            },
            "type": "contourcarpet"
           }
          ],
          "heatmap": [
           {
            "colorbar": {
             "outlinewidth": 0,
             "ticks": ""
            },
            "colorscale": [
             [
              0,
              "#0d0887"
             ],
             [
              0.1111111111111111,
              "#46039f"
             ],
             [
              0.2222222222222222,
              "#7201a8"
             ],
             [
              0.3333333333333333,
              "#9c179e"
             ],
             [
              0.4444444444444444,
              "#bd3786"
             ],
             [
              0.5555555555555556,
              "#d8576b"
             ],
             [
              0.6666666666666666,
              "#ed7953"
             ],
             [
              0.7777777777777778,
              "#fb9f3a"
             ],
             [
              0.8888888888888888,
              "#fdca26"
             ],
             [
              1,
              "#f0f921"
             ]
            ],
            "type": "heatmap"
           }
          ],
          "heatmapgl": [
           {
            "colorbar": {
             "outlinewidth": 0,
             "ticks": ""
            },
            "colorscale": [
             [
              0,
              "#0d0887"
             ],
             [
              0.1111111111111111,
              "#46039f"
             ],
             [
              0.2222222222222222,
              "#7201a8"
             ],
             [
              0.3333333333333333,
              "#9c179e"
             ],
             [
              0.4444444444444444,
              "#bd3786"
             ],
             [
              0.5555555555555556,
              "#d8576b"
             ],
             [
              0.6666666666666666,
              "#ed7953"
             ],
             [
              0.7777777777777778,
              "#fb9f3a"
             ],
             [
              0.8888888888888888,
              "#fdca26"
             ],
             [
              1,
              "#f0f921"
             ]
            ],
            "type": "heatmapgl"
           }
          ],
          "histogram": [
           {
            "marker": {
             "pattern": {
              "fillmode": "overlay",
              "size": 10,
              "solidity": 0.2
             }
            },
            "type": "histogram"
           }
          ],
          "histogram2d": [
           {
            "colorbar": {
             "outlinewidth": 0,
             "ticks": ""
            },
            "colorscale": [
             [
              0,
              "#0d0887"
             ],
             [
              0.1111111111111111,
              "#46039f"
             ],
             [
              0.2222222222222222,
              "#7201a8"
             ],
             [
              0.3333333333333333,
              "#9c179e"
             ],
             [
              0.4444444444444444,
              "#bd3786"
             ],
             [
              0.5555555555555556,
              "#d8576b"
             ],
             [
              0.6666666666666666,
              "#ed7953"
             ],
             [
              0.7777777777777778,
              "#fb9f3a"
             ],
             [
              0.8888888888888888,
              "#fdca26"
             ],
             [
              1,
              "#f0f921"
             ]
            ],
            "type": "histogram2d"
           }
          ],
          "histogram2dcontour": [
           {
            "colorbar": {
             "outlinewidth": 0,
             "ticks": ""
            },
            "colorscale": [
             [
              0,
              "#0d0887"
             ],
             [
              0.1111111111111111,
              "#46039f"
             ],
             [
              0.2222222222222222,
              "#7201a8"
             ],
             [
              0.3333333333333333,
              "#9c179e"
             ],
             [
              0.4444444444444444,
              "#bd3786"
             ],
             [
              0.5555555555555556,
              "#d8576b"
             ],
             [
              0.6666666666666666,
              "#ed7953"
             ],
             [
              0.7777777777777778,
              "#fb9f3a"
             ],
             [
              0.8888888888888888,
              "#fdca26"
             ],
             [
              1,
              "#f0f921"
             ]
            ],
            "type": "histogram2dcontour"
           }
          ],
          "mesh3d": [
           {
            "colorbar": {
             "outlinewidth": 0,
             "ticks": ""
            },
            "type": "mesh3d"
           }
          ],
          "parcoords": [
           {
            "line": {
             "colorbar": {
              "outlinewidth": 0,
              "ticks": ""
             }
            },
            "type": "parcoords"
           }
          ],
          "pie": [
           {
            "automargin": true,
            "type": "pie"
           }
          ],
          "scatter": [
           {
            "marker": {
             "colorbar": {
              "outlinewidth": 0,
              "ticks": ""
             }
            },
            "type": "scatter"
           }
          ],
          "scatter3d": [
           {
            "line": {
             "colorbar": {
              "outlinewidth": 0,
              "ticks": ""
             }
            },
            "marker": {
             "colorbar": {
              "outlinewidth": 0,
              "ticks": ""
             }
            },
            "type": "scatter3d"
           }
          ],
          "scattercarpet": [
           {
            "marker": {
             "colorbar": {
              "outlinewidth": 0,
              "ticks": ""
             }
            },
            "type": "scattercarpet"
           }
          ],
          "scattergeo": [
           {
            "marker": {
             "colorbar": {
              "outlinewidth": 0,
              "ticks": ""
             }
            },
            "type": "scattergeo"
           }
          ],
          "scattergl": [
           {
            "marker": {
             "colorbar": {
              "outlinewidth": 0,
              "ticks": ""
             }
            },
            "type": "scattergl"
           }
          ],
          "scattermapbox": [
           {
            "marker": {
             "colorbar": {
              "outlinewidth": 0,
              "ticks": ""
             }
            },
            "type": "scattermapbox"
           }
          ],
          "scatterpolar": [
           {
            "marker": {
             "colorbar": {
              "outlinewidth": 0,
              "ticks": ""
             }
            },
            "type": "scatterpolar"
           }
          ],
          "scatterpolargl": [
           {
            "marker": {
             "colorbar": {
              "outlinewidth": 0,
              "ticks": ""
             }
            },
            "type": "scatterpolargl"
           }
          ],
          "scatterternary": [
           {
            "marker": {
             "colorbar": {
              "outlinewidth": 0,
              "ticks": ""
             }
            },
            "type": "scatterternary"
           }
          ],
          "surface": [
           {
            "colorbar": {
             "outlinewidth": 0,
             "ticks": ""
            },
            "colorscale": [
             [
              0,
              "#0d0887"
             ],
             [
              0.1111111111111111,
              "#46039f"
             ],
             [
              0.2222222222222222,
              "#7201a8"
             ],
             [
              0.3333333333333333,
              "#9c179e"
             ],
             [
              0.4444444444444444,
              "#bd3786"
             ],
             [
              0.5555555555555556,
              "#d8576b"
             ],
             [
              0.6666666666666666,
              "#ed7953"
             ],
             [
              0.7777777777777778,
              "#fb9f3a"
             ],
             [
              0.8888888888888888,
              "#fdca26"
             ],
             [
              1,
              "#f0f921"
             ]
            ],
            "type": "surface"
           }
          ],
          "table": [
           {
            "cells": {
             "fill": {
              "color": "#EBF0F8"
             },
             "line": {
              "color": "white"
             }
            },
            "header": {
             "fill": {
              "color": "#C8D4E3"
             },
             "line": {
              "color": "white"
             }
            },
            "type": "table"
           }
          ]
         },
         "layout": {
          "annotationdefaults": {
           "arrowcolor": "#2a3f5f",
           "arrowhead": 0,
           "arrowwidth": 1
          },
          "autotypenumbers": "strict",
          "coloraxis": {
           "colorbar": {
            "outlinewidth": 0,
            "ticks": ""
           }
          },
          "colorscale": {
           "diverging": [
            [
             0,
             "#8e0152"
            ],
            [
             0.1,
             "#c51b7d"
            ],
            [
             0.2,
             "#de77ae"
            ],
            [
             0.3,
             "#f1b6da"
            ],
            [
             0.4,
             "#fde0ef"
            ],
            [
             0.5,
             "#f7f7f7"
            ],
            [
             0.6,
             "#e6f5d0"
            ],
            [
             0.7,
             "#b8e186"
            ],
            [
             0.8,
             "#7fbc41"
            ],
            [
             0.9,
             "#4d9221"
            ],
            [
             1,
             "#276419"
            ]
           ],
           "sequential": [
            [
             0,
             "#0d0887"
            ],
            [
             0.1111111111111111,
             "#46039f"
            ],
            [
             0.2222222222222222,
             "#7201a8"
            ],
            [
             0.3333333333333333,
             "#9c179e"
            ],
            [
             0.4444444444444444,
             "#bd3786"
            ],
            [
             0.5555555555555556,
             "#d8576b"
            ],
            [
             0.6666666666666666,
             "#ed7953"
            ],
            [
             0.7777777777777778,
             "#fb9f3a"
            ],
            [
             0.8888888888888888,
             "#fdca26"
            ],
            [
             1,
             "#f0f921"
            ]
           ],
           "sequentialminus": [
            [
             0,
             "#0d0887"
            ],
            [
             0.1111111111111111,
             "#46039f"
            ],
            [
             0.2222222222222222,
             "#7201a8"
            ],
            [
             0.3333333333333333,
             "#9c179e"
            ],
            [
             0.4444444444444444,
             "#bd3786"
            ],
            [
             0.5555555555555556,
             "#d8576b"
            ],
            [
             0.6666666666666666,
             "#ed7953"
            ],
            [
             0.7777777777777778,
             "#fb9f3a"
            ],
            [
             0.8888888888888888,
             "#fdca26"
            ],
            [
             1,
             "#f0f921"
            ]
           ]
          },
          "colorway": [
           "#636efa",
           "#EF553B",
           "#00cc96",
           "#ab63fa",
           "#FFA15A",
           "#19d3f3",
           "#FF6692",
           "#B6E880",
           "#FF97FF",
           "#FECB52"
          ],
          "font": {
           "color": "#2a3f5f"
          },
          "geo": {
           "bgcolor": "white",
           "lakecolor": "white",
           "landcolor": "#E5ECF6",
           "showlakes": true,
           "showland": true,
           "subunitcolor": "white"
          },
          "hoverlabel": {
           "align": "left"
          },
          "hovermode": "closest",
          "mapbox": {
           "style": "light"
          },
          "paper_bgcolor": "white",
          "plot_bgcolor": "#E5ECF6",
          "polar": {
           "angularaxis": {
            "gridcolor": "white",
            "linecolor": "white",
            "ticks": ""
           },
           "bgcolor": "#E5ECF6",
           "radialaxis": {
            "gridcolor": "white",
            "linecolor": "white",
            "ticks": ""
           }
          },
          "scene": {
           "xaxis": {
            "backgroundcolor": "#E5ECF6",
            "gridcolor": "white",
            "gridwidth": 2,
            "linecolor": "white",
            "showbackground": true,
            "ticks": "",
            "zerolinecolor": "white"
           },
           "yaxis": {
            "backgroundcolor": "#E5ECF6",
            "gridcolor": "white",
            "gridwidth": 2,
            "linecolor": "white",
            "showbackground": true,
            "ticks": "",
            "zerolinecolor": "white"
           },
           "zaxis": {
            "backgroundcolor": "#E5ECF6",
            "gridcolor": "white",
            "gridwidth": 2,
            "linecolor": "white",
            "showbackground": true,
            "ticks": "",
            "zerolinecolor": "white"
           }
          },
          "shapedefaults": {
           "line": {
            "color": "#2a3f5f"
           }
          },
          "ternary": {
           "aaxis": {
            "gridcolor": "white",
            "linecolor": "white",
            "ticks": ""
           },
           "baxis": {
            "gridcolor": "white",
            "linecolor": "white",
            "ticks": ""
           },
           "bgcolor": "#E5ECF6",
           "caxis": {
            "gridcolor": "white",
            "linecolor": "white",
            "ticks": ""
           }
          },
          "title": {
           "x": 0.05
          },
          "xaxis": {
           "automargin": true,
           "gridcolor": "white",
           "linecolor": "white",
           "ticks": "",
           "title": {
            "standoff": 15
           },
           "zerolinecolor": "white",
           "zerolinewidth": 2
          },
          "yaxis": {
           "automargin": true,
           "gridcolor": "white",
           "linecolor": "white",
           "ticks": "",
           "title": {
            "standoff": 15
           },
           "zerolinecolor": "white",
           "zerolinewidth": 2
          }
         }
        },
        "title": {
         "text": "Week vs. Average Player Rank"
        },
        "xaxis": {
         "anchor": "y",
         "domain": [
          0,
          1
         ],
         "title": {
          "text": "Week"
         }
        },
        "yaxis": {
         "anchor": "x",
         "autorange": "reversed",
         "domain": [
          0,
          1
         ],
         "title": {
          "text": "Rank"
         }
        }
       }
      }
     },
     "metadata": {},
     "output_type": "display_data"
    }
   ],
   "source": [
    "import plotly.io as pio\n",
    "pio.renderersplot = px.scatter(test_df, x = 'Week', y = 'Projected_Points', color = 'Team', title='Week vs. Average Projected Points')\n",
    "plot.update_yaxes(autorange = 'reversed')\n",
    "plot.show()\n"
   ]
  },
  {
   "cell_type": "code",
   "execution_count": 16,
   "metadata": {},
   "outputs": [],
   "source": [
    "merged_df.to_csv('Data/player_projections.csv')"
   ]
  },
  {
   "cell_type": "code",
   "execution_count": 17,
   "metadata": {},
   "outputs": [
    {
     "data": {
      "text/html": [
       "<div>\n",
       "<style scoped>\n",
       "    .dataframe tbody tr th:only-of-type {\n",
       "        vertical-align: middle;\n",
       "    }\n",
       "\n",
       "    .dataframe tbody tr th {\n",
       "        vertical-align: top;\n",
       "    }\n",
       "\n",
       "    .dataframe thead th {\n",
       "        text-align: right;\n",
       "    }\n",
       "</style>\n",
       "<table border=\"1\" class=\"dataframe\">\n",
       "  <thead>\n",
       "    <tr style=\"text-align: right;\">\n",
       "      <th></th>\n",
       "      <th>Week</th>\n",
       "      <th>Rank</th>\n",
       "      <th>Projected_Points</th>\n",
       "      <th>Actual_Points</th>\n",
       "      <th>Point-Residuals</th>\n",
       "    </tr>\n",
       "  </thead>\n",
       "  <tbody>\n",
       "    <tr>\n",
       "      <th>0</th>\n",
       "      <td>1</td>\n",
       "      <td>2705</td>\n",
       "      <td>1908.84</td>\n",
       "      <td>1835.60</td>\n",
       "      <td>-73.24</td>\n",
       "    </tr>\n",
       "    <tr>\n",
       "      <th>1</th>\n",
       "      <td>2</td>\n",
       "      <td>2799</td>\n",
       "      <td>1811.06</td>\n",
       "      <td>1834.24</td>\n",
       "      <td>23.18</td>\n",
       "    </tr>\n",
       "    <tr>\n",
       "      <th>2</th>\n",
       "      <td>3</td>\n",
       "      <td>2548</td>\n",
       "      <td>1828.99</td>\n",
       "      <td>1700.96</td>\n",
       "      <td>-128.03</td>\n",
       "    </tr>\n",
       "    <tr>\n",
       "      <th>3</th>\n",
       "      <td>4</td>\n",
       "      <td>2523</td>\n",
       "      <td>1830.45</td>\n",
       "      <td>1801.24</td>\n",
       "      <td>-29.21</td>\n",
       "    </tr>\n",
       "    <tr>\n",
       "      <th>4</th>\n",
       "      <td>5</td>\n",
       "      <td>2549</td>\n",
       "      <td>1737.16</td>\n",
       "      <td>1630.74</td>\n",
       "      <td>-106.42</td>\n",
       "    </tr>\n",
       "    <tr>\n",
       "      <th>5</th>\n",
       "      <td>6</td>\n",
       "      <td>2138</td>\n",
       "      <td>1414.41</td>\n",
       "      <td>1381.06</td>\n",
       "      <td>-33.35</td>\n",
       "    </tr>\n",
       "    <tr>\n",
       "      <th>6</th>\n",
       "      <td>7</td>\n",
       "      <td>1896</td>\n",
       "      <td>1341.29</td>\n",
       "      <td>1318.84</td>\n",
       "      <td>-22.45</td>\n",
       "    </tr>\n",
       "    <tr>\n",
       "      <th>7</th>\n",
       "      <td>8</td>\n",
       "      <td>2037</td>\n",
       "      <td>1353.38</td>\n",
       "      <td>1469.86</td>\n",
       "      <td>116.48</td>\n",
       "    </tr>\n",
       "    <tr>\n",
       "      <th>8</th>\n",
       "      <td>9</td>\n",
       "      <td>1722</td>\n",
       "      <td>1138.71</td>\n",
       "      <td>1154.22</td>\n",
       "      <td>15.51</td>\n",
       "    </tr>\n",
       "    <tr>\n",
       "      <th>9</th>\n",
       "      <td>10</td>\n",
       "      <td>1656</td>\n",
       "      <td>1187.83</td>\n",
       "      <td>1109.00</td>\n",
       "      <td>-78.83</td>\n",
       "    </tr>\n",
       "    <tr>\n",
       "      <th>10</th>\n",
       "      <td>11</td>\n",
       "      <td>1453</td>\n",
       "      <td>1094.81</td>\n",
       "      <td>1079.96</td>\n",
       "      <td>-14.85</td>\n",
       "    </tr>\n",
       "  </tbody>\n",
       "</table>\n",
       "</div>"
      ],
      "text/plain": [
       "    Week  Rank  Projected_Points  Actual_Points  Point-Residuals\n",
       "0      1  2705           1908.84        1835.60           -73.24\n",
       "1      2  2799           1811.06        1834.24            23.18\n",
       "2      3  2548           1828.99        1700.96          -128.03\n",
       "3      4  2523           1830.45        1801.24           -29.21\n",
       "4      5  2549           1737.16        1630.74          -106.42\n",
       "5      6  2138           1414.41        1381.06           -33.35\n",
       "6      7  1896           1341.29        1318.84           -22.45\n",
       "7      8  2037           1353.38        1469.86           116.48\n",
       "8      9  1722           1138.71        1154.22            15.51\n",
       "9     10  1656           1187.83        1109.00           -78.83\n",
       "10    11  1453           1094.81        1079.96           -14.85"
      ]
     },
     "execution_count": 17,
     "metadata": {},
     "output_type": "execute_result"
    }
   ],
   "source": [
    "a = merged_df.groupby(['Week'], as_index=False).sum()\n",
    "a"
   ]
  },
  {
   "cell_type": "code",
   "execution_count": 18,
   "metadata": {},
   "outputs": [
    {
     "data": {
      "application/vnd.plotly.v1+json": {
       "config": {
        "plotlyServerURL": "https://plot.ly"
       },
       "data": [
        {
         "hovertemplate": "variable=Projected_Points<br>Week=%{x}<br>value=%{y}<extra></extra>",
         "legendgroup": "Projected_Points",
         "marker": {
          "color": "#636efa",
          "symbol": "circle"
         },
         "mode": "markers",
         "name": "Projected_Points",
         "orientation": "v",
         "showlegend": true,
         "type": "scatter",
         "x": [
          1,
          2,
          3,
          4,
          5,
          6,
          7,
          8,
          9,
          10,
          11
         ],
         "xaxis": "x",
         "y": [
          1908.84,
          1811.06,
          1828.99,
          1830.45,
          1737.16,
          1414.41,
          1341.29,
          1353.3799999999999,
          1138.71,
          1187.83,
          1094.81
         ],
         "yaxis": "y"
        },
        {
         "hovertemplate": "<b>OLS trendline</b><br>value = -857.788 * log10(Week) + 2106.1<br>R<sup>2</sup>=0.784783<br><br>variable=Projected_Points<br>Week=%{x}<br>value=%{y} <b>(trend)</b><extra></extra>",
         "legendgroup": "Projected_Points",
         "marker": {
          "color": "#636efa",
          "symbol": "circle"
         },
         "mode": "lines",
         "name": "Projected_Points",
         "showlegend": false,
         "type": "scatter",
         "x": [
          1,
          2,
          3,
          4,
          5,
          6,
          7,
          8,
          9,
          10,
          11
         ],
         "xaxis": "x",
         "y": [
          2106.1009882201574,
          1847.881042206629,
          1696.8320568504732,
          1589.6610961931005,
          1506.5328409110475,
          1438.6121108369448,
          1381.1859518056294,
          1331.4411501795719,
          1287.5631254807893,
          1248.312894897519,
          1212.8067424181409
         ],
         "yaxis": "y"
        },
        {
         "hovertemplate": "variable=Actual_Points<br>Week=%{x}<br>value=%{y}<extra></extra>",
         "legendgroup": "Actual_Points",
         "marker": {
          "color": "#EF553B",
          "symbol": "circle"
         },
         "mode": "markers",
         "name": "Actual_Points",
         "orientation": "v",
         "showlegend": true,
         "type": "scatter",
         "x": [
          1,
          2,
          3,
          4,
          5,
          6,
          7,
          8,
          9,
          10,
          11
         ],
         "xaxis": "x",
         "y": [
          1835.6,
          1834.24,
          1700.96,
          1801.24,
          1630.74,
          1381.06,
          1318.84,
          1469.86,
          1154.22,
          1109,
          1079.96
         ],
         "yaxis": "y"
        },
        {
         "hovertemplate": "<b>OLS trendline</b><br>value = -797.084 * log10(Week) + 2034.04<br>R<sup>2</sup>=0.768040<br><br>variable=Actual_Points<br>Week=%{x}<br>value=%{y} <b>(trend)</b><extra></extra>",
         "legendgroup": "Actual_Points",
         "marker": {
          "color": "#EF553B",
          "symbol": "circle"
         },
         "mode": "lines",
         "name": "Actual_Points",
         "showlegend": false,
         "type": "scatter",
         "x": [
          1,
          2,
          3,
          4,
          5,
          6,
          7,
          8,
          9,
          10,
          11
         ],
         "xaxis": "x",
         "y": [
          2034.0438527229799,
          1794.097549736601,
          1653.7379603028926,
          1554.151246750222,
          1476.9057905545512,
          1413.7916573165135,
          1360.4294180046438,
          1314.2049437638432,
          1273.4320678828053,
          1236.9594875681723,
          1203.9660253967756
         ],
         "yaxis": "y"
        }
       ],
       "layout": {
        "legend": {
         "title": {
          "text": "variable"
         },
         "tracegroupgap": 0
        },
        "template": {
         "data": {
          "bar": [
           {
            "error_x": {
             "color": "#2a3f5f"
            },
            "error_y": {
             "color": "#2a3f5f"
            },
            "marker": {
             "line": {
              "color": "#E5ECF6",
              "width": 0.5
             },
             "pattern": {
              "fillmode": "overlay",
              "size": 10,
              "solidity": 0.2
             }
            },
            "type": "bar"
           }
          ],
          "barpolar": [
           {
            "marker": {
             "line": {
              "color": "#E5ECF6",
              "width": 0.5
             },
             "pattern": {
              "fillmode": "overlay",
              "size": 10,
              "solidity": 0.2
             }
            },
            "type": "barpolar"
           }
          ],
          "carpet": [
           {
            "aaxis": {
             "endlinecolor": "#2a3f5f",
             "gridcolor": "white",
             "linecolor": "white",
             "minorgridcolor": "white",
             "startlinecolor": "#2a3f5f"
            },
            "baxis": {
             "endlinecolor": "#2a3f5f",
             "gridcolor": "white",
             "linecolor": "white",
             "minorgridcolor": "white",
             "startlinecolor": "#2a3f5f"
            },
            "type": "carpet"
           }
          ],
          "choropleth": [
           {
            "colorbar": {
             "outlinewidth": 0,
             "ticks": ""
            },
            "type": "choropleth"
           }
          ],
          "contour": [
           {
            "colorbar": {
             "outlinewidth": 0,
             "ticks": ""
            },
            "colorscale": [
             [
              0,
              "#0d0887"
             ],
             [
              0.1111111111111111,
              "#46039f"
             ],
             [
              0.2222222222222222,
              "#7201a8"
             ],
             [
              0.3333333333333333,
              "#9c179e"
             ],
             [
              0.4444444444444444,
              "#bd3786"
             ],
             [
              0.5555555555555556,
              "#d8576b"
             ],
             [
              0.6666666666666666,
              "#ed7953"
             ],
             [
              0.7777777777777778,
              "#fb9f3a"
             ],
             [
              0.8888888888888888,
              "#fdca26"
             ],
             [
              1,
              "#f0f921"
             ]
            ],
            "type": "contour"
           }
          ],
          "contourcarpet": [
           {
            "colorbar": {
             "outlinewidth": 0,
             "ticks": ""
            },
            "type": "contourcarpet"
           }
          ],
          "heatmap": [
           {
            "colorbar": {
             "outlinewidth": 0,
             "ticks": ""
            },
            "colorscale": [
             [
              0,
              "#0d0887"
             ],
             [
              0.1111111111111111,
              "#46039f"
             ],
             [
              0.2222222222222222,
              "#7201a8"
             ],
             [
              0.3333333333333333,
              "#9c179e"
             ],
             [
              0.4444444444444444,
              "#bd3786"
             ],
             [
              0.5555555555555556,
              "#d8576b"
             ],
             [
              0.6666666666666666,
              "#ed7953"
             ],
             [
              0.7777777777777778,
              "#fb9f3a"
             ],
             [
              0.8888888888888888,
              "#fdca26"
             ],
             [
              1,
              "#f0f921"
             ]
            ],
            "type": "heatmap"
           }
          ],
          "heatmapgl": [
           {
            "colorbar": {
             "outlinewidth": 0,
             "ticks": ""
            },
            "colorscale": [
             [
              0,
              "#0d0887"
             ],
             [
              0.1111111111111111,
              "#46039f"
             ],
             [
              0.2222222222222222,
              "#7201a8"
             ],
             [
              0.3333333333333333,
              "#9c179e"
             ],
             [
              0.4444444444444444,
              "#bd3786"
             ],
             [
              0.5555555555555556,
              "#d8576b"
             ],
             [
              0.6666666666666666,
              "#ed7953"
             ],
             [
              0.7777777777777778,
              "#fb9f3a"
             ],
             [
              0.8888888888888888,
              "#fdca26"
             ],
             [
              1,
              "#f0f921"
             ]
            ],
            "type": "heatmapgl"
           }
          ],
          "histogram": [
           {
            "marker": {
             "pattern": {
              "fillmode": "overlay",
              "size": 10,
              "solidity": 0.2
             }
            },
            "type": "histogram"
           }
          ],
          "histogram2d": [
           {
            "colorbar": {
             "outlinewidth": 0,
             "ticks": ""
            },
            "colorscale": [
             [
              0,
              "#0d0887"
             ],
             [
              0.1111111111111111,
              "#46039f"
             ],
             [
              0.2222222222222222,
              "#7201a8"
             ],
             [
              0.3333333333333333,
              "#9c179e"
             ],
             [
              0.4444444444444444,
              "#bd3786"
             ],
             [
              0.5555555555555556,
              "#d8576b"
             ],
             [
              0.6666666666666666,
              "#ed7953"
             ],
             [
              0.7777777777777778,
              "#fb9f3a"
             ],
             [
              0.8888888888888888,
              "#fdca26"
             ],
             [
              1,
              "#f0f921"
             ]
            ],
            "type": "histogram2d"
           }
          ],
          "histogram2dcontour": [
           {
            "colorbar": {
             "outlinewidth": 0,
             "ticks": ""
            },
            "colorscale": [
             [
              0,
              "#0d0887"
             ],
             [
              0.1111111111111111,
              "#46039f"
             ],
             [
              0.2222222222222222,
              "#7201a8"
             ],
             [
              0.3333333333333333,
              "#9c179e"
             ],
             [
              0.4444444444444444,
              "#bd3786"
             ],
             [
              0.5555555555555556,
              "#d8576b"
             ],
             [
              0.6666666666666666,
              "#ed7953"
             ],
             [
              0.7777777777777778,
              "#fb9f3a"
             ],
             [
              0.8888888888888888,
              "#fdca26"
             ],
             [
              1,
              "#f0f921"
             ]
            ],
            "type": "histogram2dcontour"
           }
          ],
          "mesh3d": [
           {
            "colorbar": {
             "outlinewidth": 0,
             "ticks": ""
            },
            "type": "mesh3d"
           }
          ],
          "parcoords": [
           {
            "line": {
             "colorbar": {
              "outlinewidth": 0,
              "ticks": ""
             }
            },
            "type": "parcoords"
           }
          ],
          "pie": [
           {
            "automargin": true,
            "type": "pie"
           }
          ],
          "scatter": [
           {
            "marker": {
             "colorbar": {
              "outlinewidth": 0,
              "ticks": ""
             }
            },
            "type": "scatter"
           }
          ],
          "scatter3d": [
           {
            "line": {
             "colorbar": {
              "outlinewidth": 0,
              "ticks": ""
             }
            },
            "marker": {
             "colorbar": {
              "outlinewidth": 0,
              "ticks": ""
             }
            },
            "type": "scatter3d"
           }
          ],
          "scattercarpet": [
           {
            "marker": {
             "colorbar": {
              "outlinewidth": 0,
              "ticks": ""
             }
            },
            "type": "scattercarpet"
           }
          ],
          "scattergeo": [
           {
            "marker": {
             "colorbar": {
              "outlinewidth": 0,
              "ticks": ""
             }
            },
            "type": "scattergeo"
           }
          ],
          "scattergl": [
           {
            "marker": {
             "colorbar": {
              "outlinewidth": 0,
              "ticks": ""
             }
            },
            "type": "scattergl"
           }
          ],
          "scattermapbox": [
           {
            "marker": {
             "colorbar": {
              "outlinewidth": 0,
              "ticks": ""
             }
            },
            "type": "scattermapbox"
           }
          ],
          "scatterpolar": [
           {
            "marker": {
             "colorbar": {
              "outlinewidth": 0,
              "ticks": ""
             }
            },
            "type": "scatterpolar"
           }
          ],
          "scatterpolargl": [
           {
            "marker": {
             "colorbar": {
              "outlinewidth": 0,
              "ticks": ""
             }
            },
            "type": "scatterpolargl"
           }
          ],
          "scatterternary": [
           {
            "marker": {
             "colorbar": {
              "outlinewidth": 0,
              "ticks": ""
             }
            },
            "type": "scatterternary"
           }
          ],
          "surface": [
           {
            "colorbar": {
             "outlinewidth": 0,
             "ticks": ""
            },
            "colorscale": [
             [
              0,
              "#0d0887"
             ],
             [
              0.1111111111111111,
              "#46039f"
             ],
             [
              0.2222222222222222,
              "#7201a8"
             ],
             [
              0.3333333333333333,
              "#9c179e"
             ],
             [
              0.4444444444444444,
              "#bd3786"
             ],
             [
              0.5555555555555556,
              "#d8576b"
             ],
             [
              0.6666666666666666,
              "#ed7953"
             ],
             [
              0.7777777777777778,
              "#fb9f3a"
             ],
             [
              0.8888888888888888,
              "#fdca26"
             ],
             [
              1,
              "#f0f921"
             ]
            ],
            "type": "surface"
           }
          ],
          "table": [
           {
            "cells": {
             "fill": {
              "color": "#EBF0F8"
             },
             "line": {
              "color": "white"
             }
            },
            "header": {
             "fill": {
              "color": "#C8D4E3"
             },
             "line": {
              "color": "white"
             }
            },
            "type": "table"
           }
          ]
         },
         "layout": {
          "annotationdefaults": {
           "arrowcolor": "#2a3f5f",
           "arrowhead": 0,
           "arrowwidth": 1
          },
          "autotypenumbers": "strict",
          "coloraxis": {
           "colorbar": {
            "outlinewidth": 0,
            "ticks": ""
           }
          },
          "colorscale": {
           "diverging": [
            [
             0,
             "#8e0152"
            ],
            [
             0.1,
             "#c51b7d"
            ],
            [
             0.2,
             "#de77ae"
            ],
            [
             0.3,
             "#f1b6da"
            ],
            [
             0.4,
             "#fde0ef"
            ],
            [
             0.5,
             "#f7f7f7"
            ],
            [
             0.6,
             "#e6f5d0"
            ],
            [
             0.7,
             "#b8e186"
            ],
            [
             0.8,
             "#7fbc41"
            ],
            [
             0.9,
             "#4d9221"
            ],
            [
             1,
             "#276419"
            ]
           ],
           "sequential": [
            [
             0,
             "#0d0887"
            ],
            [
             0.1111111111111111,
             "#46039f"
            ],
            [
             0.2222222222222222,
             "#7201a8"
            ],
            [
             0.3333333333333333,
             "#9c179e"
            ],
            [
             0.4444444444444444,
             "#bd3786"
            ],
            [
             0.5555555555555556,
             "#d8576b"
            ],
            [
             0.6666666666666666,
             "#ed7953"
            ],
            [
             0.7777777777777778,
             "#fb9f3a"
            ],
            [
             0.8888888888888888,
             "#fdca26"
            ],
            [
             1,
             "#f0f921"
            ]
           ],
           "sequentialminus": [
            [
             0,
             "#0d0887"
            ],
            [
             0.1111111111111111,
             "#46039f"
            ],
            [
             0.2222222222222222,
             "#7201a8"
            ],
            [
             0.3333333333333333,
             "#9c179e"
            ],
            [
             0.4444444444444444,
             "#bd3786"
            ],
            [
             0.5555555555555556,
             "#d8576b"
            ],
            [
             0.6666666666666666,
             "#ed7953"
            ],
            [
             0.7777777777777778,
             "#fb9f3a"
            ],
            [
             0.8888888888888888,
             "#fdca26"
            ],
            [
             1,
             "#f0f921"
            ]
           ]
          },
          "colorway": [
           "#636efa",
           "#EF553B",
           "#00cc96",
           "#ab63fa",
           "#FFA15A",
           "#19d3f3",
           "#FF6692",
           "#B6E880",
           "#FF97FF",
           "#FECB52"
          ],
          "font": {
           "color": "#2a3f5f"
          },
          "geo": {
           "bgcolor": "white",
           "lakecolor": "white",
           "landcolor": "#E5ECF6",
           "showlakes": true,
           "showland": true,
           "subunitcolor": "white"
          },
          "hoverlabel": {
           "align": "left"
          },
          "hovermode": "closest",
          "mapbox": {
           "style": "light"
          },
          "paper_bgcolor": "white",
          "plot_bgcolor": "#E5ECF6",
          "polar": {
           "angularaxis": {
            "gridcolor": "white",
            "linecolor": "white",
            "ticks": ""
           },
           "bgcolor": "#E5ECF6",
           "radialaxis": {
            "gridcolor": "white",
            "linecolor": "white",
            "ticks": ""
           }
          },
          "scene": {
           "xaxis": {
            "backgroundcolor": "#E5ECF6",
            "gridcolor": "white",
            "gridwidth": 2,
            "linecolor": "white",
            "showbackground": true,
            "ticks": "",
            "zerolinecolor": "white"
           },
           "yaxis": {
            "backgroundcolor": "#E5ECF6",
            "gridcolor": "white",
            "gridwidth": 2,
            "linecolor": "white",
            "showbackground": true,
            "ticks": "",
            "zerolinecolor": "white"
           },
           "zaxis": {
            "backgroundcolor": "#E5ECF6",
            "gridcolor": "white",
            "gridwidth": 2,
            "linecolor": "white",
            "showbackground": true,
            "ticks": "",
            "zerolinecolor": "white"
           }
          },
          "shapedefaults": {
           "line": {
            "color": "#2a3f5f"
           }
          },
          "ternary": {
           "aaxis": {
            "gridcolor": "white",
            "linecolor": "white",
            "ticks": ""
           },
           "baxis": {
            "gridcolor": "white",
            "linecolor": "white",
            "ticks": ""
           },
           "bgcolor": "#E5ECF6",
           "caxis": {
            "gridcolor": "white",
            "linecolor": "white",
            "ticks": ""
           }
          },
          "title": {
           "x": 0.05
          },
          "xaxis": {
           "automargin": true,
           "gridcolor": "white",
           "linecolor": "white",
           "ticks": "",
           "title": {
            "standoff": 15
           },
           "zerolinecolor": "white",
           "zerolinewidth": 2
          },
          "yaxis": {
           "automargin": true,
           "gridcolor": "white",
           "linecolor": "white",
           "ticks": "",
           "title": {
            "standoff": 15
           },
           "zerolinecolor": "white",
           "zerolinewidth": 2
          }
         }
        },
        "title": {
         "text": "Week vs. ESPN Projected/Actual Points"
        },
        "xaxis": {
         "anchor": "y",
         "domain": [
          0,
          1
         ],
         "title": {
          "text": "Week"
         }
        },
        "yaxis": {
         "anchor": "x",
         "domain": [
          0,
          1
         ],
         "title": {
          "text": "value"
         }
        }
       }
      }
     },
     "metadata": {},
     "output_type": "display_data"
    }
   ],
   "source": [
    "plot = px.scatter(a, x = 'Week', y = ['Projected_Points', 'Actual_Points'], trendline = 'ols', trendline_options=dict(log_x=True), title = 'Week vs. ESPN Projected/Actual Points')\n",
    "plot.show()\n"
   ]
  },
  {
   "cell_type": "code",
   "execution_count": 19,
   "metadata": {},
   "outputs": [
    {
     "data": {
      "text/plain": [
       "5120.963481818184"
      ]
     },
     "execution_count": 19,
     "metadata": {},
     "output_type": "execute_result"
    }
   ],
   "source": [
    "import numpy as np\n",
    "mse = sum(np.square(a['Projected_Points'] - a['Actual_Points'])) / len(a)\n",
    "mse"
   ]
  },
  {
   "cell_type": "code",
   "execution_count": 20,
   "metadata": {},
   "outputs": [
    {
     "data": {
      "text/html": [
       "<div>\n",
       "<style scoped>\n",
       "    .dataframe tbody tr th:only-of-type {\n",
       "        vertical-align: middle;\n",
       "    }\n",
       "\n",
       "    .dataframe tbody tr th {\n",
       "        vertical-align: top;\n",
       "    }\n",
       "\n",
       "    .dataframe thead th {\n",
       "        text-align: right;\n",
       "    }\n",
       "</style>\n",
       "<table border=\"1\" class=\"dataframe\">\n",
       "  <thead>\n",
       "    <tr style=\"text-align: right;\">\n",
       "      <th></th>\n",
       "      <th>Player</th>\n",
       "      <th>Team</th>\n",
       "      <th>Week</th>\n",
       "      <th>Rank</th>\n",
       "      <th>Projected_Points</th>\n",
       "      <th>Actual_Points</th>\n",
       "      <th>Point-Residuals</th>\n",
       "    </tr>\n",
       "  </thead>\n",
       "  <tbody>\n",
       "    <tr>\n",
       "      <th>8</th>\n",
       "      <td>Austin Ekeler</td>\n",
       "      <td>My Team  A Bust</td>\n",
       "      <td>3.5</td>\n",
       "      <td>23.500000</td>\n",
       "      <td>18.515000</td>\n",
       "      <td>23.000000</td>\n",
       "      <td>4.485000</td>\n",
       "    </tr>\n",
       "    <tr>\n",
       "      <th>66</th>\n",
       "      <td>Tony Pollard</td>\n",
       "      <td>Gorilla Guys</td>\n",
       "      <td>6.0</td>\n",
       "      <td>14.181818</td>\n",
       "      <td>10.497273</td>\n",
       "      <td>14.854545</td>\n",
       "      <td>4.357273</td>\n",
       "    </tr>\n",
       "    <tr>\n",
       "      <th>46</th>\n",
       "      <td>Kenyan Drake</td>\n",
       "      <td>Eugene Tweakers</td>\n",
       "      <td>4.5</td>\n",
       "      <td>13.000000</td>\n",
       "      <td>3.890000</td>\n",
       "      <td>8.133333</td>\n",
       "      <td>4.243333</td>\n",
       "    </tr>\n",
       "    <tr>\n",
       "      <th>35</th>\n",
       "      <td>Jamaal Williams</td>\n",
       "      <td>Gorilla Guys</td>\n",
       "      <td>6.0</td>\n",
       "      <td>15.363636</td>\n",
       "      <td>10.383636</td>\n",
       "      <td>13.954545</td>\n",
       "      <td>3.570909</td>\n",
       "    </tr>\n",
       "    <tr>\n",
       "      <th>43</th>\n",
       "      <td>Josh Jacobs</td>\n",
       "      <td>Just-in-N-out Drive thru</td>\n",
       "      <td>6.0</td>\n",
       "      <td>15.909091</td>\n",
       "      <td>14.168182</td>\n",
       "      <td>17.645455</td>\n",
       "      <td>3.477273</td>\n",
       "    </tr>\n",
       "    <tr>\n",
       "      <th>...</th>\n",
       "      <td>...</td>\n",
       "      <td>...</td>\n",
       "      <td>...</td>\n",
       "      <td>...</td>\n",
       "      <td>...</td>\n",
       "      <td>...</td>\n",
       "      <td>...</td>\n",
       "    </tr>\n",
       "    <tr>\n",
       "      <th>60</th>\n",
       "      <td>Raheem Mostert</td>\n",
       "      <td>Diggy Wit it</td>\n",
       "      <td>1.0</td>\n",
       "      <td>2.000000</td>\n",
       "      <td>8.550000</td>\n",
       "      <td>4.200000</td>\n",
       "      <td>-4.350000</td>\n",
       "    </tr>\n",
       "    <tr>\n",
       "      <th>39</th>\n",
       "      <td>Javonte Williams</td>\n",
       "      <td>Couv Reigning Champ</td>\n",
       "      <td>2.5</td>\n",
       "      <td>23.000000</td>\n",
       "      <td>15.235000</td>\n",
       "      <td>10.500000</td>\n",
       "      <td>-4.735000</td>\n",
       "    </tr>\n",
       "    <tr>\n",
       "      <th>47</th>\n",
       "      <td>Kenyan Drake</td>\n",
       "      <td>P-Town CASH KEVIN</td>\n",
       "      <td>9.0</td>\n",
       "      <td>24.000000</td>\n",
       "      <td>12.370000</td>\n",
       "      <td>7.300000</td>\n",
       "      <td>-5.070000</td>\n",
       "    </tr>\n",
       "    <tr>\n",
       "      <th>48</th>\n",
       "      <td>Khalil Herbert</td>\n",
       "      <td>No Nyugen Will Win</td>\n",
       "      <td>4.5</td>\n",
       "      <td>15.000000</td>\n",
       "      <td>9.260000</td>\n",
       "      <td>4.000000</td>\n",
       "      <td>-5.260000</td>\n",
       "    </tr>\n",
       "    <tr>\n",
       "      <th>37</th>\n",
       "      <td>James Cook</td>\n",
       "      <td>Just-in-N-out Drive thru</td>\n",
       "      <td>1.0</td>\n",
       "      <td>9.000000</td>\n",
       "      <td>6.340000</td>\n",
       "      <td>-1.800000</td>\n",
       "      <td>-8.140000</td>\n",
       "    </tr>\n",
       "  </tbody>\n",
       "</table>\n",
       "<p>68 rows × 7 columns</p>\n",
       "</div>"
      ],
      "text/plain": [
       "              Player                      Team  Week       Rank  \\\n",
       "8      Austin Ekeler           My Team  A Bust   3.5  23.500000   \n",
       "66      Tony Pollard              Gorilla Guys   6.0  14.181818   \n",
       "46      Kenyan Drake           Eugene Tweakers   4.5  13.000000   \n",
       "35   Jamaal Williams              Gorilla Guys   6.0  15.363636   \n",
       "43       Josh Jacobs  Just-in-N-out Drive thru   6.0  15.909091   \n",
       "..               ...                       ...   ...        ...   \n",
       "60    Raheem Mostert              Diggy Wit it   1.0   2.000000   \n",
       "39  Javonte Williams       Couv Reigning Champ   2.5  23.000000   \n",
       "47      Kenyan Drake         P-Town CASH KEVIN   9.0  24.000000   \n",
       "48    Khalil Herbert        No Nyugen Will Win   4.5  15.000000   \n",
       "37        James Cook  Just-in-N-out Drive thru   1.0   9.000000   \n",
       "\n",
       "    Projected_Points  Actual_Points  Point-Residuals  \n",
       "8          18.515000      23.000000         4.485000  \n",
       "66         10.497273      14.854545         4.357273  \n",
       "46          3.890000       8.133333         4.243333  \n",
       "35         10.383636      13.954545         3.570909  \n",
       "43         14.168182      17.645455         3.477273  \n",
       "..               ...            ...              ...  \n",
       "60          8.550000       4.200000        -4.350000  \n",
       "39         15.235000      10.500000        -4.735000  \n",
       "47         12.370000       7.300000        -5.070000  \n",
       "48          9.260000       4.000000        -5.260000  \n",
       "37          6.340000      -1.800000        -8.140000  \n",
       "\n",
       "[68 rows x 7 columns]"
      ]
     },
     "execution_count": 20,
     "metadata": {},
     "output_type": "execute_result"
    }
   ],
   "source": [
    "rb_df = merged_df[merged_df['Position'] == 'RB'].groupby(['Player', 'Team'], as_index = False).mean().sort_values('Point-Residuals', ascending=False)\n",
    "rb_df"
   ]
  },
  {
   "cell_type": "code",
   "execution_count": 21,
   "metadata": {},
   "outputs": [],
   "source": [
    "rb_df.loc[rb_df['Point-Residuals'] >= rb_df['Point-Residuals'].mean(), 'label'] = 1\n",
    "rb_df.loc[rb_df['Point-Residuals'] < rb_df['Point-Residuals'].mean(), 'label'] = 0\n",
    "rb_df = rb_df.round(2)\n"
   ]
  },
  {
   "cell_type": "code",
   "execution_count": null,
   "metadata": {},
   "outputs": [],
   "source": []
  },
  {
   "cell_type": "code",
   "execution_count": 22,
   "metadata": {},
   "outputs": [
    {
     "data": {
      "application/vnd.plotly.v1+json": {
       "config": {
        "plotlyServerURL": "https://plot.ly"
       },
       "data": [
        {
         "customdata": [
          [
           "Austin Ekeler",
           23,
           18.52,
           4.48
          ],
          [
           "Tony Pollard",
           14.85,
           10.5,
           4.36
          ],
          [
           "Kenyan Drake",
           8.13,
           3.89,
           4.24
          ],
          [
           "Jamaal Williams",
           13.95,
           10.38,
           3.57
          ],
          [
           "Josh Jacobs",
           17.65,
           14.17,
           3.48
          ],
          [
           "Antonio Gibson",
           13.42,
           9.95,
           3.47
          ],
          [
           "Breece Hall",
           12.77,
           9.6,
           3.16
          ],
          [
           "Kenneth Walker III",
           11.73,
           8.63,
           3.1
          ],
          [
           "Rhamondre Stevenson",
           14.88,
           12.21,
           2.68
          ],
          [
           "Breece Hall",
           9.6,
           7.11,
           2.49
          ],
          [
           "Nick Chubb",
           17.08,
           14.79,
           2.29
          ],
          [
           "Clyde Edwards-Helaire",
           14.22,
           12.12,
           2.1
          ],
          [
           "Derrick Henry",
           18.46,
           16.41,
           2.05
          ],
          [
           "Isiah Pacheco",
           10.7,
           8.94,
           1.76
          ],
          [
           "Austin Ekeler",
           18.42,
           16.73,
           1.69
          ],
          [
           "Travis Etienne Jr.",
           12.61,
           11.53,
           1.08
          ],
          [
           "Cordarrelle Patterson",
           8.36,
           7.32,
           1.05
          ],
          [
           "Alexander Mattison",
           5.92,
           5.17,
           0.75
          ],
          [
           "Aaron Jones",
           15.69,
           14.98,
           0.71
          ],
          [
           "Raheem Mostert",
           11.38,
           10.7,
           0.67
          ],
          [
           "Jeff Wilson Jr.",
           10.57,
           9.9,
           0.67
          ],
          [
           "Christian McCaffrey",
           18.34,
           17.84,
           0.5
          ],
          [
           "D'Andre Swift",
           12.2,
           11.77,
           0.43
          ],
          [
           "Joe Mixon",
           16.45,
           16.07,
           0.38
          ],
          [
           "Eno Benjamin",
           0,
           0,
           0
          ],
          [
           "Brian Robinson Jr.",
           0,
           0,
           0
          ],
          [
           "Gus Edwards",
           0,
           0,
           0
          ],
          [
           "Gus Edwards",
           0,
           0,
           0
          ],
          [
           "Miles Sanders",
           11.64,
           11.94,
           -0.3
          ],
          [
           "Devin Singletary",
           10.89,
           11.21,
           -0.32
          ],
          [
           "Rachaad White",
           5.84,
           6.24,
           -0.39
          ],
          [
           "Ezekiel Elliott",
           8.65,
           9.09,
           -0.43
          ],
          [
           "Leonard Fournette",
           14.06,
           14.63,
           -0.56
          ],
          [
           "Dameon Pierce",
           12.5,
           13.1,
           -0.6
          ],
          [
           "D'Andre Swift",
           8.13,
           8.74,
           -0.61
          ],
          [
           "Elijah Mitchell",
           1.8,
           2.47,
           -0.67
          ],
          [
           "Brian Robinson Jr.",
           5.29,
           6.17,
           -0.88
          ],
          [
           "Rashaad Penny",
           10.44,
           11.35,
           -0.91
          ],
          [
           "Dalvin Cook",
           14.23,
           15.17,
           -0.94
          ],
          [
           "Damien Harris",
           6.84,
           7.89,
           -1.05
          ],
          [
           "James Robinson",
           7.96,
           9.09,
           -1.13
          ],
          [
           "Kareem Hunt",
           8.68,
           9.84,
           -1.16
          ],
          [
           "Najee Harris",
           11.36,
           12.59,
           -1.23
          ],
          [
           "Michael Carter",
           7.56,
           9.05,
           -1.49
          ],
          [
           "James Conner",
           8.97,
           10.47,
           -1.5
          ],
          [
           "Alvin Kamara",
           13.37,
           14.9,
           -1.53
          ],
          [
           "J.K. Dobbins",
           4.89,
           6.58,
           -1.69
          ],
          [
           "Saquon Barkley",
           16.85,
           18.79,
           -1.94
          ],
          [
           "J.D. McKissic",
           7.26,
           9.25,
           -1.99
          ],
          [
           "Melvin Gordon III",
           7.12,
           9.29,
           -2.17
          ],
          [
           "Rex Burkhead",
           7.3,
           9.65,
           -2.35
          ],
          [
           "Antonio Gibson",
           11.86,
           14.21,
           -2.35
          ],
          [
           "Darrell Henderson Jr.",
           6.68,
           9.08,
           -2.4
          ],
          [
           "Nyheim Hines",
           5.79,
           8.24,
           -2.46
          ],
          [
           "Cam Akers",
           2.86,
           5.6,
           -2.74
          ],
          [
           "AJ Dillon",
           7.33,
           10.16,
           -2.83
          ],
          [
           "David Montgomery",
           9.5,
           12.46,
           -2.96
          ],
          [
           "Chase Edmonds",
           4.74,
           7.88,
           -3.14
          ],
          [
           "Mike Davis",
           0.36,
           3.51,
           -3.15
          ],
          [
           "Michael Carter",
           9.38,
           12.73,
           -3.36
          ],
          [
           "Jonathan Taylor",
           10.18,
           13.91,
           -3.73
          ],
          [
           "Nyheim Hines",
           0.55,
           4.46,
           -3.9
          ],
          [
           "Alvin Kamara",
           12.9,
           17.13,
           -4.23
          ],
          [
           "Raheem Mostert",
           4.2,
           8.55,
           -4.35
          ],
          [
           "Javonte Williams",
           10.5,
           15.24,
           -4.73
          ],
          [
           "Kenyan Drake",
           7.3,
           12.37,
           -5.07
          ],
          [
           "Khalil Herbert",
           4,
           9.26,
           -5.26
          ],
          [
           "James Cook",
           -1.8,
           6.34,
           -8.14
          ]
         ],
         "hovertemplate": "Player: %{customdata[0]} <br>Actual Avg Points:%{customdata[1]}: <br>Projected Points: %{customdata[2]} <br>Point Residuals: %{customdata[3]}</br>",
         "legendgroup": "",
         "marker": {
          "color": [
           1,
           1,
           1,
           1,
           1,
           1,
           1,
           1,
           1,
           1,
           1,
           1,
           1,
           1,
           1,
           1,
           1,
           1,
           1,
           1,
           1,
           1,
           1,
           1,
           1,
           1,
           1,
           1,
           1,
           1,
           1,
           1,
           1,
           0,
           0,
           0,
           0,
           0,
           0,
           0,
           0,
           0,
           0,
           0,
           0,
           0,
           0,
           0,
           0,
           0,
           0,
           0,
           0,
           0,
           0,
           0,
           0,
           0,
           0,
           0,
           0,
           0,
           0,
           0,
           0,
           0,
           0,
           0
          ],
          "coloraxis": "coloraxis",
          "symbol": "circle"
         },
         "mode": "markers",
         "name": "",
         "orientation": "v",
         "showlegend": false,
         "type": "scatter",
         "x": [
          23,
          14.85,
          8.13,
          13.95,
          17.65,
          13.42,
          12.77,
          11.73,
          14.88,
          9.6,
          17.08,
          14.22,
          18.46,
          10.7,
          18.42,
          12.61,
          8.36,
          5.92,
          15.69,
          11.38,
          10.57,
          18.34,
          12.2,
          16.45,
          0,
          0,
          0,
          0,
          11.64,
          10.89,
          5.84,
          8.65,
          14.06,
          12.5,
          8.13,
          1.8,
          5.29,
          10.44,
          14.23,
          6.84,
          7.96,
          8.68,
          11.36,
          7.56,
          8.97,
          13.37,
          4.89,
          16.85,
          7.26,
          7.12,
          7.3,
          11.86,
          6.68,
          5.79,
          2.86,
          7.33,
          9.5,
          4.74,
          0.36,
          9.38,
          10.18,
          0.55,
          12.9,
          4.2,
          10.5,
          7.3,
          4,
          -1.8
         ],
         "xaxis": "x",
         "y": [
          4.48,
          4.36,
          4.24,
          3.57,
          3.48,
          3.47,
          3.16,
          3.1,
          2.68,
          2.49,
          2.29,
          2.1,
          2.05,
          1.76,
          1.69,
          1.08,
          1.05,
          0.75,
          0.71,
          0.67,
          0.67,
          0.5,
          0.43,
          0.38,
          0,
          0,
          0,
          0,
          -0.3,
          -0.32,
          -0.39,
          -0.43,
          -0.56,
          -0.6,
          -0.61,
          -0.67,
          -0.88,
          -0.91,
          -0.94,
          -1.05,
          -1.13,
          -1.16,
          -1.23,
          -1.49,
          -1.5,
          -1.53,
          -1.69,
          -1.94,
          -1.99,
          -2.17,
          -2.35,
          -2.35,
          -2.4,
          -2.46,
          -2.74,
          -2.83,
          -2.96,
          -3.14,
          -3.15,
          -3.36,
          -3.73,
          -3.9,
          -4.23,
          -4.35,
          -4.73,
          -5.07,
          -5.26,
          -8.14
         ],
         "yaxis": "y"
        }
       ],
       "layout": {
        "coloraxis": {
         "colorbar": {
          "title": {
           "text": "label"
          }
         },
         "colorscale": [
          [
           0,
           "#0d0887"
          ],
          [
           0.1111111111111111,
           "#46039f"
          ],
          [
           0.2222222222222222,
           "#7201a8"
          ],
          [
           0.3333333333333333,
           "#9c179e"
          ],
          [
           0.4444444444444444,
           "#bd3786"
          ],
          [
           0.5555555555555556,
           "#d8576b"
          ],
          [
           0.6666666666666666,
           "#ed7953"
          ],
          [
           0.7777777777777778,
           "#fb9f3a"
          ],
          [
           0.8888888888888888,
           "#fdca26"
          ],
          [
           1,
           "#f0f921"
          ]
         ]
        },
        "legend": {
         "tracegroupgap": 0
        },
        "plot_bgcolor": "grey",
        "shapes": [
         {
          "line": {
           "color": "red"
          },
          "type": "line",
          "x0": 0,
          "x1": 1,
          "xref": "x domain",
          "y0": -0.5805882352941177,
          "y1": -0.5805882352941177,
          "yref": "y"
         }
        ],
        "template": {
         "data": {
          "bar": [
           {
            "error_x": {
             "color": "#2a3f5f"
            },
            "error_y": {
             "color": "#2a3f5f"
            },
            "marker": {
             "line": {
              "color": "#E5ECF6",
              "width": 0.5
             },
             "pattern": {
              "fillmode": "overlay",
              "size": 10,
              "solidity": 0.2
             }
            },
            "type": "bar"
           }
          ],
          "barpolar": [
           {
            "marker": {
             "line": {
              "color": "#E5ECF6",
              "width": 0.5
             },
             "pattern": {
              "fillmode": "overlay",
              "size": 10,
              "solidity": 0.2
             }
            },
            "type": "barpolar"
           }
          ],
          "carpet": [
           {
            "aaxis": {
             "endlinecolor": "#2a3f5f",
             "gridcolor": "white",
             "linecolor": "white",
             "minorgridcolor": "white",
             "startlinecolor": "#2a3f5f"
            },
            "baxis": {
             "endlinecolor": "#2a3f5f",
             "gridcolor": "white",
             "linecolor": "white",
             "minorgridcolor": "white",
             "startlinecolor": "#2a3f5f"
            },
            "type": "carpet"
           }
          ],
          "choropleth": [
           {
            "colorbar": {
             "outlinewidth": 0,
             "ticks": ""
            },
            "type": "choropleth"
           }
          ],
          "contour": [
           {
            "colorbar": {
             "outlinewidth": 0,
             "ticks": ""
            },
            "colorscale": [
             [
              0,
              "#0d0887"
             ],
             [
              0.1111111111111111,
              "#46039f"
             ],
             [
              0.2222222222222222,
              "#7201a8"
             ],
             [
              0.3333333333333333,
              "#9c179e"
             ],
             [
              0.4444444444444444,
              "#bd3786"
             ],
             [
              0.5555555555555556,
              "#d8576b"
             ],
             [
              0.6666666666666666,
              "#ed7953"
             ],
             [
              0.7777777777777778,
              "#fb9f3a"
             ],
             [
              0.8888888888888888,
              "#fdca26"
             ],
             [
              1,
              "#f0f921"
             ]
            ],
            "type": "contour"
           }
          ],
          "contourcarpet": [
           {
            "colorbar": {
             "outlinewidth": 0,
             "ticks": ""
            },
            "type": "contourcarpet"
           }
          ],
          "heatmap": [
           {
            "colorbar": {
             "outlinewidth": 0,
             "ticks": ""
            },
            "colorscale": [
             [
              0,
              "#0d0887"
             ],
             [
              0.1111111111111111,
              "#46039f"
             ],
             [
              0.2222222222222222,
              "#7201a8"
             ],
             [
              0.3333333333333333,
              "#9c179e"
             ],
             [
              0.4444444444444444,
              "#bd3786"
             ],
             [
              0.5555555555555556,
              "#d8576b"
             ],
             [
              0.6666666666666666,
              "#ed7953"
             ],
             [
              0.7777777777777778,
              "#fb9f3a"
             ],
             [
              0.8888888888888888,
              "#fdca26"
             ],
             [
              1,
              "#f0f921"
             ]
            ],
            "type": "heatmap"
           }
          ],
          "heatmapgl": [
           {
            "colorbar": {
             "outlinewidth": 0,
             "ticks": ""
            },
            "colorscale": [
             [
              0,
              "#0d0887"
             ],
             [
              0.1111111111111111,
              "#46039f"
             ],
             [
              0.2222222222222222,
              "#7201a8"
             ],
             [
              0.3333333333333333,
              "#9c179e"
             ],
             [
              0.4444444444444444,
              "#bd3786"
             ],
             [
              0.5555555555555556,
              "#d8576b"
             ],
             [
              0.6666666666666666,
              "#ed7953"
             ],
             [
              0.7777777777777778,
              "#fb9f3a"
             ],
             [
              0.8888888888888888,
              "#fdca26"
             ],
             [
              1,
              "#f0f921"
             ]
            ],
            "type": "heatmapgl"
           }
          ],
          "histogram": [
           {
            "marker": {
             "pattern": {
              "fillmode": "overlay",
              "size": 10,
              "solidity": 0.2
             }
            },
            "type": "histogram"
           }
          ],
          "histogram2d": [
           {
            "colorbar": {
             "outlinewidth": 0,
             "ticks": ""
            },
            "colorscale": [
             [
              0,
              "#0d0887"
             ],
             [
              0.1111111111111111,
              "#46039f"
             ],
             [
              0.2222222222222222,
              "#7201a8"
             ],
             [
              0.3333333333333333,
              "#9c179e"
             ],
             [
              0.4444444444444444,
              "#bd3786"
             ],
             [
              0.5555555555555556,
              "#d8576b"
             ],
             [
              0.6666666666666666,
              "#ed7953"
             ],
             [
              0.7777777777777778,
              "#fb9f3a"
             ],
             [
              0.8888888888888888,
              "#fdca26"
             ],
             [
              1,
              "#f0f921"
             ]
            ],
            "type": "histogram2d"
           }
          ],
          "histogram2dcontour": [
           {
            "colorbar": {
             "outlinewidth": 0,
             "ticks": ""
            },
            "colorscale": [
             [
              0,
              "#0d0887"
             ],
             [
              0.1111111111111111,
              "#46039f"
             ],
             [
              0.2222222222222222,
              "#7201a8"
             ],
             [
              0.3333333333333333,
              "#9c179e"
             ],
             [
              0.4444444444444444,
              "#bd3786"
             ],
             [
              0.5555555555555556,
              "#d8576b"
             ],
             [
              0.6666666666666666,
              "#ed7953"
             ],
             [
              0.7777777777777778,
              "#fb9f3a"
             ],
             [
              0.8888888888888888,
              "#fdca26"
             ],
             [
              1,
              "#f0f921"
             ]
            ],
            "type": "histogram2dcontour"
           }
          ],
          "mesh3d": [
           {
            "colorbar": {
             "outlinewidth": 0,
             "ticks": ""
            },
            "type": "mesh3d"
           }
          ],
          "parcoords": [
           {
            "line": {
             "colorbar": {
              "outlinewidth": 0,
              "ticks": ""
             }
            },
            "type": "parcoords"
           }
          ],
          "pie": [
           {
            "automargin": true,
            "type": "pie"
           }
          ],
          "scatter": [
           {
            "marker": {
             "colorbar": {
              "outlinewidth": 0,
              "ticks": ""
             }
            },
            "type": "scatter"
           }
          ],
          "scatter3d": [
           {
            "line": {
             "colorbar": {
              "outlinewidth": 0,
              "ticks": ""
             }
            },
            "marker": {
             "colorbar": {
              "outlinewidth": 0,
              "ticks": ""
             }
            },
            "type": "scatter3d"
           }
          ],
          "scattercarpet": [
           {
            "marker": {
             "colorbar": {
              "outlinewidth": 0,
              "ticks": ""
             }
            },
            "type": "scattercarpet"
           }
          ],
          "scattergeo": [
           {
            "marker": {
             "colorbar": {
              "outlinewidth": 0,
              "ticks": ""
             }
            },
            "type": "scattergeo"
           }
          ],
          "scattergl": [
           {
            "marker": {
             "colorbar": {
              "outlinewidth": 0,
              "ticks": ""
             }
            },
            "type": "scattergl"
           }
          ],
          "scattermapbox": [
           {
            "marker": {
             "colorbar": {
              "outlinewidth": 0,
              "ticks": ""
             }
            },
            "type": "scattermapbox"
           }
          ],
          "scatterpolar": [
           {
            "marker": {
             "colorbar": {
              "outlinewidth": 0,
              "ticks": ""
             }
            },
            "type": "scatterpolar"
           }
          ],
          "scatterpolargl": [
           {
            "marker": {
             "colorbar": {
              "outlinewidth": 0,
              "ticks": ""
             }
            },
            "type": "scatterpolargl"
           }
          ],
          "scatterternary": [
           {
            "marker": {
             "colorbar": {
              "outlinewidth": 0,
              "ticks": ""
             }
            },
            "type": "scatterternary"
           }
          ],
          "surface": [
           {
            "colorbar": {
             "outlinewidth": 0,
             "ticks": ""
            },
            "colorscale": [
             [
              0,
              "#0d0887"
             ],
             [
              0.1111111111111111,
              "#46039f"
             ],
             [
              0.2222222222222222,
              "#7201a8"
             ],
             [
              0.3333333333333333,
              "#9c179e"
             ],
             [
              0.4444444444444444,
              "#bd3786"
             ],
             [
              0.5555555555555556,
              "#d8576b"
             ],
             [
              0.6666666666666666,
              "#ed7953"
             ],
             [
              0.7777777777777778,
              "#fb9f3a"
             ],
             [
              0.8888888888888888,
              "#fdca26"
             ],
             [
              1,
              "#f0f921"
             ]
            ],
            "type": "surface"
           }
          ],
          "table": [
           {
            "cells": {
             "fill": {
              "color": "#EBF0F8"
             },
             "line": {
              "color": "white"
             }
            },
            "header": {
             "fill": {
              "color": "#C8D4E3"
             },
             "line": {
              "color": "white"
             }
            },
            "type": "table"
           }
          ]
         },
         "layout": {
          "annotationdefaults": {
           "arrowcolor": "#2a3f5f",
           "arrowhead": 0,
           "arrowwidth": 1
          },
          "autotypenumbers": "strict",
          "coloraxis": {
           "colorbar": {
            "outlinewidth": 0,
            "ticks": ""
           }
          },
          "colorscale": {
           "diverging": [
            [
             0,
             "#8e0152"
            ],
            [
             0.1,
             "#c51b7d"
            ],
            [
             0.2,
             "#de77ae"
            ],
            [
             0.3,
             "#f1b6da"
            ],
            [
             0.4,
             "#fde0ef"
            ],
            [
             0.5,
             "#f7f7f7"
            ],
            [
             0.6,
             "#e6f5d0"
            ],
            [
             0.7,
             "#b8e186"
            ],
            [
             0.8,
             "#7fbc41"
            ],
            [
             0.9,
             "#4d9221"
            ],
            [
             1,
             "#276419"
            ]
           ],
           "sequential": [
            [
             0,
             "#0d0887"
            ],
            [
             0.1111111111111111,
             "#46039f"
            ],
            [
             0.2222222222222222,
             "#7201a8"
            ],
            [
             0.3333333333333333,
             "#9c179e"
            ],
            [
             0.4444444444444444,
             "#bd3786"
            ],
            [
             0.5555555555555556,
             "#d8576b"
            ],
            [
             0.6666666666666666,
             "#ed7953"
            ],
            [
             0.7777777777777778,
             "#fb9f3a"
            ],
            [
             0.8888888888888888,
             "#fdca26"
            ],
            [
             1,
             "#f0f921"
            ]
           ],
           "sequentialminus": [
            [
             0,
             "#0d0887"
            ],
            [
             0.1111111111111111,
             "#46039f"
            ],
            [
             0.2222222222222222,
             "#7201a8"
            ],
            [
             0.3333333333333333,
             "#9c179e"
            ],
            [
             0.4444444444444444,
             "#bd3786"
            ],
            [
             0.5555555555555556,
             "#d8576b"
            ],
            [
             0.6666666666666666,
             "#ed7953"
            ],
            [
             0.7777777777777778,
             "#fb9f3a"
            ],
            [
             0.8888888888888888,
             "#fdca26"
            ],
            [
             1,
             "#f0f921"
            ]
           ]
          },
          "colorway": [
           "#636efa",
           "#EF553B",
           "#00cc96",
           "#ab63fa",
           "#FFA15A",
           "#19d3f3",
           "#FF6692",
           "#B6E880",
           "#FF97FF",
           "#FECB52"
          ],
          "font": {
           "color": "#2a3f5f"
          },
          "geo": {
           "bgcolor": "white",
           "lakecolor": "white",
           "landcolor": "#E5ECF6",
           "showlakes": true,
           "showland": true,
           "subunitcolor": "white"
          },
          "hoverlabel": {
           "align": "left"
          },
          "hovermode": "closest",
          "mapbox": {
           "style": "light"
          },
          "paper_bgcolor": "white",
          "plot_bgcolor": "#E5ECF6",
          "polar": {
           "angularaxis": {
            "gridcolor": "white",
            "linecolor": "white",
            "ticks": ""
           },
           "bgcolor": "#E5ECF6",
           "radialaxis": {
            "gridcolor": "white",
            "linecolor": "white",
            "ticks": ""
           }
          },
          "scene": {
           "xaxis": {
            "backgroundcolor": "#E5ECF6",
            "gridcolor": "white",
            "gridwidth": 2,
            "linecolor": "white",
            "showbackground": true,
            "ticks": "",
            "zerolinecolor": "white"
           },
           "yaxis": {
            "backgroundcolor": "#E5ECF6",
            "gridcolor": "white",
            "gridwidth": 2,
            "linecolor": "white",
            "showbackground": true,
            "ticks": "",
            "zerolinecolor": "white"
           },
           "zaxis": {
            "backgroundcolor": "#E5ECF6",
            "gridcolor": "white",
            "gridwidth": 2,
            "linecolor": "white",
            "showbackground": true,
            "ticks": "",
            "zerolinecolor": "white"
           }
          },
          "shapedefaults": {
           "line": {
            "color": "#2a3f5f"
           }
          },
          "ternary": {
           "aaxis": {
            "gridcolor": "white",
            "linecolor": "white",
            "ticks": ""
           },
           "baxis": {
            "gridcolor": "white",
            "linecolor": "white",
            "ticks": ""
           },
           "bgcolor": "#E5ECF6",
           "caxis": {
            "gridcolor": "white",
            "linecolor": "white",
            "ticks": ""
           }
          },
          "title": {
           "x": 0.05
          },
          "xaxis": {
           "automargin": true,
           "gridcolor": "white",
           "linecolor": "white",
           "ticks": "",
           "title": {
            "standoff": 15
           },
           "zerolinecolor": "white",
           "zerolinewidth": 2
          },
          "yaxis": {
           "automargin": true,
           "gridcolor": "white",
           "linecolor": "white",
           "ticks": "",
           "title": {
            "standoff": 15
           },
           "zerolinecolor": "white",
           "zerolinewidth": 2
          }
         }
        },
        "title": {
         "text": "Projected vs. Distance from Expectation"
        },
        "xaxis": {
         "anchor": "y",
         "domain": [
          0,
          1
         ],
         "title": {
          "text": "Actual Avg Points"
         }
        },
        "yaxis": {
         "anchor": "x",
         "domain": [
          0,
          1
         ],
         "title": {
          "text": "Point Residuals"
         }
        }
       }
      }
     },
     "metadata": {},
     "output_type": "display_data"
    }
   ],
   "source": [
    "hovertemplate = \"Player: %{customdata[0]} <br>Actual Avg Points:%{customdata[1]}: <br>Projected Points: %{customdata[2]} <br>Point Residuals: %{customdata[3]}</br>\"\n",
    "plot = px.scatter(rb_df, x = 'Actual_Points', y = 'Point-Residuals', color = 'label', title = 'Projected vs. Distance from Expectation', custom_data=['Player', 'Actual_Points','Projected_Points','Point-Residuals'], color_discrete_sequence=px.colors.qualitative.Dark24)\n",
    "plot.update_layout(xaxis_title = 'Actual Avg Points', yaxis_title = 'Point Residuals', plot_bgcolor = 'grey')\n",
    "plot.update_traces(hovertemplate = hovertemplate)\n",
    "# plot.update_xaxes(showgrid = False)\n",
    "# plot.update_yaxes(showgrid = False)\n",
    "plot.add_hline(y=rb_df['Point-Residuals'].mean(), line_color = 'red')\n",
    "# plot.add_hline(y=rb_df['Projected_Points'].mean(), line_color = 'yellow')\n",
    "plot.show()"
   ]
  },
  {
   "cell_type": "code",
   "execution_count": 23,
   "metadata": {},
   "outputs": [],
   "source": [
    "plot.write_html(\"rb.html\")"
   ]
  },
  {
   "cell_type": "code",
   "execution_count": 24,
   "metadata": {},
   "outputs": [],
   "source": [
    "merged_df = merged_df.round(2)\n",
    "merged_df.loc[merged_df['Point-Residuals'] >= merged_df['Point-Residuals'].mean(), 'label'] = 1\n",
    "merged_df.loc[merged_df['Point-Residuals'] < merged_df['Point-Residuals'].mean(), 'label'] = 0\n"
   ]
  },
  {
   "cell_type": "code",
   "execution_count": 25,
   "metadata": {},
   "outputs": [
    {
     "data": {
      "text/html": [
       "<div>\n",
       "<style scoped>\n",
       "    .dataframe tbody tr th:only-of-type {\n",
       "        vertical-align: middle;\n",
       "    }\n",
       "\n",
       "    .dataframe tbody tr th {\n",
       "        vertical-align: top;\n",
       "    }\n",
       "\n",
       "    .dataframe thead th {\n",
       "        text-align: right;\n",
       "    }\n",
       "</style>\n",
       "<table border=\"1\" class=\"dataframe\">\n",
       "  <thead>\n",
       "    <tr style=\"text-align: right;\">\n",
       "      <th></th>\n",
       "      <th>Player</th>\n",
       "      <th>Week</th>\n",
       "      <th>Rank</th>\n",
       "      <th>Projected_Points</th>\n",
       "      <th>Actual_Points</th>\n",
       "      <th>Point-Residuals</th>\n",
       "      <th>label</th>\n",
       "    </tr>\n",
       "  </thead>\n",
       "  <tbody>\n",
       "    <tr>\n",
       "      <th>157</th>\n",
       "      <td>Rashaad Penny</td>\n",
       "      <td>3.0</td>\n",
       "      <td>11.4</td>\n",
       "      <td>11.35</td>\n",
       "      <td>10.44</td>\n",
       "      <td>-0.91</td>\n",
       "      <td>0.2</td>\n",
       "    </tr>\n",
       "  </tbody>\n",
       "</table>\n",
       "</div>"
      ],
      "text/plain": [
       "            Player  Week  Rank  Projected_Points  Actual_Points  \\\n",
       "157  Rashaad Penny   3.0  11.4             11.35          10.44   \n",
       "\n",
       "     Point-Residuals  label  \n",
       "157            -0.91    0.2  "
      ]
     },
     "execution_count": 25,
     "metadata": {},
     "output_type": "execute_result"
    }
   ],
   "source": [
    "grouped_df = merged_df.groupby(['Player'], as_index = False).mean().sort_values('Point-Residuals', ascending=False).round(2)\n",
    "grouped_df[grouped_df['Player'] == 'Rashaad Penny']\n"
   ]
  },
  {
   "cell_type": "code",
   "execution_count": 26,
   "metadata": {},
   "outputs": [],
   "source": [
    "grouped_df['normalized_label'] = grouped_df['Point-Residuals'] /grouped_df['Point-Residuals'].abs().max()\n"
   ]
  },
  {
   "cell_type": "code",
   "execution_count": 27,
   "metadata": {},
   "outputs": [
    {
     "data": {
      "application/vnd.plotly.v1+json": {
       "config": {
        "plotlyServerURL": "https://plot.ly"
       },
       "data": [
        {
         "customdata": [
          [
           "Christian Watson",
           21.1,
           9.64,
           11.46
          ],
          [
           "Patriots D/ST",
           9.86,
           4.7,
           5.16
          ],
          [
           "Travis Kelce",
           20.27,
           15.56,
           4.71
          ],
          [
           "Cowboys D/ST",
           9.91,
           5.44,
           4.47
          ],
          [
           "Tony Pollard",
           14.85,
           10.5,
           4.36
          ],
          [
           "Harrison Butker",
           11.5,
           7.86,
           3.64
          ],
          [
           "Jamaal Williams",
           13.95,
           10.38,
           3.57
          ],
          [
           "Patrick Mahomes",
           23.85,
           20.29,
           3.57
          ],
          [
           "Josh Jacobs",
           17.65,
           14.17,
           3.48
          ],
          [
           "Kirk Cousins",
           19.08,
           15.66,
           3.42
          ],
          [
           "Joe Burrow",
           20.56,
           17.33,
           3.24
          ],
          [
           "Austin Ekeler",
           20.92,
           17.7,
           3.22
          ],
          [
           "Stefon Diggs",
           20.66,
           17.5,
           3.17
          ],
          [
           "Davante Adams",
           19.67,
           16.55,
           3.12
          ],
          [
           "Kenneth Walker III",
           11.73,
           8.63,
           3.1
          ],
          [
           "Kenyan Drake",
           8.01,
           5.1,
           2.91
          ],
          [
           "Evan Engram",
           10.5,
           7.68,
           2.82
          ],
          [
           "Bills D/ST",
           7.73,
           4.91,
           2.82
          ],
          [
           "Amari Cooper",
           14.53,
           11.73,
           2.8
          ],
          [
           "Rhamondre Stevenson",
           14.88,
           12.21,
           2.68
          ],
          [
           "Breece Hall",
           10.46,
           7.79,
           2.68
          ],
          [
           "DeAndre Hopkins",
           9.61,
           7.05,
           2.56
          ],
          [
           "Tyreek Hill",
           20.21,
           17.77,
           2.44
          ],
          [
           "Brandon Aiyuk",
           12.67,
           10.31,
           2.36
          ],
          [
           "Tua Tagovailoa",
           15.04,
           12.71,
           2.33
          ],
          [
           "49ers D/ST",
           8.89,
           6.58,
           2.31
          ],
          [
           "Nick Chubb",
           17.08,
           14.79,
           2.29
          ],
          [
           "Chris Olave",
           13.18,
           10.91,
           2.27
          ],
          [
           "Justin Jefferson",
           19.59,
           17.35,
           2.24
          ],
          [
           "Christian Kirk",
           14.65,
           12.44,
           2.2
          ],
          [
           "Clyde Edwards-Helaire",
           14.22,
           12.12,
           2.1
          ],
          [
           "Jaylen Waddle",
           15.86,
           13.8,
           2.06
          ],
          [
           "Derrick Henry",
           18.46,
           16.41,
           2.05
          ],
          [
           "Dallas Goedert",
           10.31,
           8.3,
           2.01
          ],
          [
           "Jahan Dotson",
           6.52,
           4.67,
           1.86
          ],
          [
           "Marquise Brown",
           9.95,
           8.17,
           1.79
          ],
          [
           "Isiah Pacheco",
           10.7,
           8.94,
           1.76
          ],
          [
           "Michael Thomas",
           6.39,
           4.89,
           1.5
          ],
          [
           "Steelers D/ST",
           7.5,
           6.01,
           1.49
          ],
          [
           "Cooper Kupp",
           18.31,
           16.91,
           1.39
          ],
          [
           "Ja'Marr Chase",
           12.88,
           11.53,
           1.35
          ],
          [
           "Justin Tucker",
           8.82,
           7.48,
           1.34
          ],
          [
           "Graham Gano",
           9.5,
           8.24,
           1.26
          ],
          [
           "Tyler Boyd",
           9.5,
           8.25,
           1.25
          ],
          [
           "Allen Lazard",
           10.99,
           9.89,
           1.11
          ],
          [
           "Travis Etienne Jr.",
           12.61,
           11.53,
           1.08
          ],
          [
           "Daniel Carlson",
           8.64,
           7.56,
           1.07
          ],
          [
           "Eagles D/ST",
           8,
           6.93,
           1.07
          ],
          [
           "Tyler Lockett",
           13.09,
           12.02,
           1.07
          ],
          [
           "Cordarrelle Patterson",
           8.36,
           7.32,
           1.05
          ],
          [
           "Nick Folk",
           8,
           6.96,
           1.04
          ],
          [
           "Antonio Gibson",
           12.71,
           11.89,
           0.82
          ],
          [
           "George Kittle",
           8.85,
           8.06,
           0.8
          ],
          [
           "Alexander Mattison",
           5.92,
           5.17,
           0.75
          ],
          [
           "Jalen Hurts",
           21.84,
           21.12,
           0.72
          ],
          [
           "Aaron Jones",
           15.69,
           14.98,
           0.71
          ],
          [
           "Zach Ertz",
           11.56,
           10.86,
           0.7
          ],
          [
           "T.J. Hockenson",
           11.04,
           10.35,
           0.69
          ],
          [
           "Jeff Wilson Jr.",
           10.57,
           9.9,
           0.67
          ],
          [
           "Ravens D/ST",
           6.33,
           5.7,
           0.63
          ],
          [
           "Gabe Davis",
           10.93,
           10.35,
           0.58
          ],
          [
           "Christian McCaffrey",
           18.34,
           17.84,
           0.5
          ],
          [
           "Josh Allen",
           22.5,
           22.06,
           0.44
          ],
          [
           "CeeDee Lamb",
           14.94,
           14.55,
           0.39
          ],
          [
           "Joe Mixon",
           16.45,
           16.07,
           0.38
          ],
          [
           "Jarvis Landry",
           9.7,
           9.34,
           0.36
          ],
          [
           "JuJu Smith-Schuster",
           10.68,
           10.37,
           0.31
          ],
          [
           "Mike Evans",
           12.19,
           11.89,
           0.3
          ],
          [
           "Rondale Moore",
           10.16,
           9.89,
           0.26
          ],
          [
           "Tyler Bass",
           8,
           7.74,
           0.26
          ],
          [
           "Raheem Mostert",
           10.58,
           10.47,
           0.11
          ],
          [
           "Packers D/ST",
           5.36,
           5.33,
           0.03
          ],
          [
           "DeVonta Smith",
           11.26,
           11.24,
           0.02
          ],
          [
           "A.J. Brown",
           14.68,
           14.67,
           0.01
          ],
          [
           "Pat Freiermuth",
           8.93,
           8.92,
           0
          ],
          [
           "Josh Reynolds",
           0,
           0,
           0
          ],
          [
           "Logan Thomas",
           0,
           0,
           0
          ],
          [
           "Gus Edwards",
           0,
           0,
           0
          ],
          [
           "Jameson Williams",
           0,
           0,
           0
          ],
          [
           "Eno Benjamin",
           0,
           0,
           0
          ],
          [
           "Ryan Succop",
           8,
           8,
           0
          ],
          [
           "Brandon McManus",
           7,
           7,
           0
          ],
          [
           "Garrett Wilson",
           9.98,
           10,
           -0.02
          ],
          [
           "Kyler Murray",
           15.87,
           16,
           -0.13
          ],
          [
           "Amon-Ra St. Brown",
           12.8,
           13.01,
           -0.21
          ],
          [
           "Dawson Knox",
           6.73,
           6.99,
           -0.26
          ],
          [
           "Miles Sanders",
           11.64,
           11.94,
           -0.3
          ],
          [
           "Devin Singletary",
           10.89,
           11.21,
           -0.32
          ],
          [
           "Buccaneers D/ST",
           4.71,
           5.04,
           -0.32
          ],
          [
           "Bengals D/ST",
           6,
           6.38,
           -0.38
          ],
          [
           "Rachaad White",
           5.84,
           6.24,
           -0.39
          ],
          [
           "Michael Pittman Jr.",
           12.62,
           13.03,
           -0.41
          ],
          [
           "Terry McLaurin",
           12.95,
           13.36,
           -0.41
          ],
          [
           "Younghoe Koo",
           7.44,
           7.86,
           -0.41
          ],
          [
           "Ezekiel Elliott",
           8.65,
           9.09,
           -0.43
          ],
          [
           "Chris Godwin",
           9.27,
           9.76,
           -0.49
          ],
          [
           "D'Andre Swift",
           8.5,
           9.02,
           -0.52
          ],
          [
           "Leonard Fournette",
           14.06,
           14.63,
           -0.56
          ],
          [
           "Dameon Pierce",
           12.5,
           13.1,
           -0.6
          ],
          [
           "Elijah Mitchell",
           1.8,
           2.47,
           -0.67
          ],
          [
           "David Njoku",
           3.56,
           4.29,
           -0.73
          ],
          [
           "Mike Williams",
           9.73,
           10.46,
           -0.73
          ],
          [
           "Adam Thielen",
           9.84,
           10.62,
           -0.78
          ],
          [
           "Brian Robinson Jr.",
           4.81,
           5.61,
           -0.8
          ],
          [
           "Mark Andrews",
           12.16,
           13,
           -0.83
          ],
          [
           "Evan McPherson",
           7.11,
           8.02,
           -0.91
          ],
          [
           "Rashaad Penny",
           10.44,
           11.35,
           -0.91
          ],
          [
           "Dalvin Cook",
           14.23,
           15.17,
           -0.94
          ],
          [
           "Rams D/ST",
           4.67,
           5.63,
           -0.96
          ],
          [
           "Lamar Jackson",
           19.24,
           20.22,
           -0.98
          ],
          [
           "George Pickens",
           6.82,
           7.83,
           -1.01
          ],
          [
           "Damien Harris",
           6.84,
           7.89,
           -1.05
          ],
          [
           "Tee Higgins",
           12.65,
           13.73,
           -1.07
          ],
          [
           "Dak Prescott",
           8.86,
           9.98,
           -1.12
          ],
          [
           "James Robinson",
           7.96,
           9.09,
           -1.13
          ],
          [
           "Kareem Hunt",
           8.68,
           9.84,
           -1.16
          ],
          [
           "Najee Harris",
           11.36,
           12.59,
           -1.23
          ],
          [
           "Keenan Allen",
           2.37,
           3.61,
           -1.24
          ],
          [
           "Chargers D/ST",
           1,
           2.24,
           -1.24
          ],
          [
           "Kadarius Toney",
           2.41,
           3.67,
           -1.26
          ],
          [
           "Zay Jones",
           8.65,
           9.98,
           -1.33
          ],
          [
           "Sterling Shepard",
           9.9,
           11.29,
           -1.39
          ],
          [
           "DK Metcalf",
           11.46,
           12.89,
           -1.43
          ],
          [
           "James Conner",
           8.97,
           10.47,
           -1.5
          ],
          [
           "Matt Gay",
           6.8,
           8.37,
           -1.57
          ],
          [
           "Saints D/ST",
           4.4,
           5.99,
           -1.59
          ],
          [
           "Deebo Samuel",
           11.82,
           13.48,
           -1.66
          ],
          [
           "Geno Smith",
           10.63,
           12.29,
           -1.66
          ],
          [
           "DJ Chark",
           4.56,
           6.23,
           -1.67
          ],
          [
           "J.K. Dobbins",
           4.89,
           6.58,
           -1.69
          ],
          [
           "Allen Robinson II",
           7.72,
           9.45,
           -1.73
          ],
          [
           "Curtis Samuel",
           10.27,
           12.03,
           -1.76
          ],
          [
           "Alvin Kamara",
           13.33,
           15.1,
           -1.77
          ],
          [
           "Noah Fant",
           4.16,
           5.96,
           -1.8
          ],
          [
           "Darren Waller",
           3.59,
           5.48,
           -1.89
          ],
          [
           "Derek Carr",
           11.36,
           13.26,
           -1.9
          ],
          [
           "Saquon Barkley",
           16.85,
           18.79,
           -1.94
          ],
          [
           "Jakobi Meyers",
           7.36,
           9.3,
           -1.94
          ],
          [
           "Taysom Hill",
           4.54,
           6.51,
           -1.97
          ],
          [
           "J.D. McKissic",
           7.26,
           9.25,
           -1.99
          ],
          [
           "Chase Claypool",
           7.93,
           9.99,
           -2.06
          ],
          [
           "Julio Jones",
           0.42,
           2.51,
           -2.09
          ],
          [
           "Tyler Higbee",
           7.56,
           9.69,
           -2.14
          ],
          [
           "Rashod Bateman",
           6.69,
           8.85,
           -2.16
          ],
          [
           "Melvin Gordon III",
           7.12,
           9.29,
           -2.17
          ],
          [
           "Brandin Cooks",
           8.33,
           10.51,
           -2.18
          ],
          [
           "Jalen Tolbert",
           0,
           2.3,
           -2.3
          ],
          [
           "Drake London",
           9.45,
           11.76,
           -2.32
          ],
          [
           "Michael Carter",
           8.37,
           10.68,
           -2.32
          ],
          [
           "Courtland Sutton",
           10.35,
           12.7,
           -2.35
          ],
          [
           "Rex Burkhead",
           7.3,
           9.65,
           -2.35
          ],
          [
           "Tom Brady",
           13.95,
           16.31,
           -2.36
          ],
          [
           "Darrell Henderson Jr.",
           6.68,
           9.08,
           -2.4
          ],
          [
           "Robbie Anderson",
           7.52,
           10.06,
           -2.54
          ],
          [
           "Skyy Moore",
           0.67,
           3.21,
           -2.54
          ],
          [
           "Kyle Pitts",
           6.87,
           9.47,
           -2.6
          ],
          [
           "Dalton Schultz",
           5.4,
           8.13,
           -2.73
          ],
          [
           "Cam Akers",
           2.86,
           5.6,
           -2.74
          ],
          [
           "Nyheim Hines",
           4.62,
           7.4,
           -2.78
          ],
          [
           "Hayden Hurst",
           6.5,
           9.3,
           -2.8
          ],
          [
           "DJ Moore",
           10.37,
           13.17,
           -2.8
          ],
          [
           "AJ Dillon",
           7.33,
           10.16,
           -2.83
          ],
          [
           "Robert Tonyan",
           5.4,
           8.25,
           -2.85
          ],
          [
           "Diontae Johnson",
           9.17,
           12.09,
           -2.92
          ],
          [
           "David Montgomery",
           9.5,
           12.46,
           -2.96
          ],
          [
           "Jerry Jeudy",
           6.46,
           9.43,
           -2.98
          ],
          [
           "Hunter Renfrow",
           4.08,
           7.06,
           -2.98
          ],
          [
           "Russell Wilson",
           12.63,
           15.62,
           -3
          ],
          [
           "Gerald Everett",
           4.76,
           7.8,
           -3.05
          ],
          [
           "Chase Edmonds",
           4.74,
           7.88,
           -3.14
          ],
          [
           "Mike Davis",
           0.36,
           3.51,
           -3.15
          ],
          [
           "Treylon Burks",
           6.02,
           9.23,
           -3.21
          ],
          [
           "Broncos D/ST",
           0.67,
           3.89,
           -3.23
          ],
          [
           "Justin Herbert",
           15.02,
           18.3,
           -3.28
          ],
          [
           "Colts D/ST",
           3.5,
           6.9,
           -3.39
          ],
          [
           "Jonathan Taylor",
           10.18,
           13.91,
           -3.73
          ],
          [
           "Marquez Valdes-Scantling",
           6.73,
           10.88,
           -4.15
          ],
          [
           "Javonte Williams",
           10.5,
           15.24,
           -4.74
          ],
          [
           "Robert Woods",
           4.9,
           9.65,
           -4.75
          ],
          [
           "Jared Goff",
           10.08,
           15.19,
           -5.11
          ],
          [
           "Khalil Herbert",
           4,
           9.26,
           -5.26
          ],
          [
           "Elijah Moore",
           5.98,
           11.42,
           -5.43
          ],
          [
           "Tyler Conklin",
           2.6,
           8.36,
           -5.76
          ],
          [
           "Joshua Palmer",
           7.4,
           13.46,
           -6.06
          ],
          [
           "Matthew Stafford",
           10.78,
           16.97,
           -6.18
          ],
          [
           "Hunter Henry",
           2,
           8.52,
           -6.52
          ],
          [
           "Russell Gage",
           3.3,
           10.05,
           -6.75
          ],
          [
           "Matt Prater",
           1,
           8.12,
           -7.12
          ],
          [
           "Mike Gesicki",
           1.1,
           8.57,
           -7.47
          ],
          [
           "Cole Kmet",
           0,
           7.84,
           -7.84
          ],
          [
           "James Cook",
           -1.8,
           6.34,
           -8.14
          ],
          [
           "Darnell Mooney",
           2.23,
           10.97,
           -8.73
          ],
          [
           "Greg Dortch",
           1.6,
           10.55,
           -8.95
          ],
          [
           "Aaron Rodgers",
           10.03,
           19.63,
           -9.6
          ],
          [
           "Romeo Doubs",
           0,
           11.32,
           -11.32
          ],
          [
           "Trey Lance",
           6.23,
           17.74,
           -11.52
          ]
         ],
         "hovertemplate": "Player: %{customdata[0]} <br>Actual Avg Points:%{customdata[1]} <br>Projected Points: %{customdata[2]} <br>Point Residuals: %{customdata[3]}</br>",
         "legendgroup": "",
         "marker": {
          "color": [
           0.9947916666666667,
           0.4479166666666667,
           0.4088541666666667,
           0.3880208333333333,
           0.37847222222222227,
           0.31597222222222227,
           0.3098958333333333,
           0.3098958333333333,
           0.30208333333333337,
           0.296875,
           0.28125000000000006,
           0.2795138888888889,
           0.2751736111111111,
           0.27083333333333337,
           0.26909722222222227,
           0.2526041666666667,
           0.24479166666666666,
           0.24479166666666666,
           0.24305555555555555,
           0.23263888888888892,
           0.23263888888888892,
           0.22222222222222224,
           0.21180555555555555,
           0.2048611111111111,
           0.20225694444444445,
           0.20052083333333334,
           0.19878472222222224,
           0.19704861111111113,
           0.19444444444444448,
           0.19097222222222224,
           0.18229166666666669,
           0.17881944444444445,
           0.17795138888888887,
           0.17447916666666666,
           0.16145833333333334,
           0.15538194444444445,
           0.1527777777777778,
           0.13020833333333334,
           0.1293402777777778,
           0.12065972222222222,
           0.11718750000000001,
           0.11631944444444446,
           0.109375,
           0.10850694444444445,
           0.09635416666666669,
           0.09375000000000001,
           0.09288194444444445,
           0.09288194444444445,
           0.09288194444444445,
           0.09114583333333334,
           0.09027777777777779,
           0.07118055555555555,
           0.06944444444444445,
           0.06510416666666667,
           0.0625,
           0.06163194444444444,
           0.06076388888888889,
           0.05989583333333333,
           0.05815972222222223,
           0.0546875,
           0.050347222222222224,
           0.043402777777777776,
           0.03819444444444445,
           0.03385416666666667,
           0.03298611111111111,
           0.03125,
           0.026909722222222224,
           0.026041666666666668,
           0.022569444444444448,
           0.022569444444444448,
           0.009548611111111112,
           0.0026041666666666665,
           0.0017361111111111112,
           0.0008680555555555556,
           0,
           0,
           0,
           0,
           0,
           0,
           0,
           0,
           -0.0017361111111111112,
           -0.011284722222222224,
           -0.018229166666666668,
           -0.022569444444444448,
           -0.026041666666666668,
           -0.02777777777777778,
           -0.02777777777777778,
           -0.03298611111111111,
           -0.03385416666666667,
           -0.035590277777777776,
           -0.035590277777777776,
           -0.035590277777777776,
           -0.03732638888888889,
           -0.042534722222222224,
           -0.045138888888888895,
           -0.04861111111111112,
           -0.052083333333333336,
           -0.05815972222222223,
           -0.06336805555555555,
           -0.06336805555555555,
           -0.06770833333333334,
           -0.06944444444444445,
           -0.0720486111111111,
           -0.07899305555555557,
           -0.07899305555555557,
           -0.08159722222222222,
           -0.08333333333333333,
           -0.08506944444444445,
           -0.08767361111111112,
           -0.09114583333333334,
           -0.09288194444444445,
           -0.09722222222222224,
           -0.09809027777777778,
           -0.10069444444444445,
           -0.10677083333333334,
           -0.1076388888888889,
           -0.1076388888888889,
           -0.109375,
           -0.1154513888888889,
           -0.12065972222222222,
           -0.12413194444444445,
           -0.13020833333333334,
           -0.13628472222222224,
           -0.13802083333333334,
           -0.1440972222222222,
           -0.1440972222222222,
           -0.1449652777777778,
           -0.1467013888888889,
           -0.1501736111111111,
           -0.1527777777777778,
           -0.15364583333333334,
           -0.15625,
           -0.1640625,
           -0.16493055555555555,
           -0.1684027777777778,
           -0.1684027777777778,
           -0.17100694444444445,
           -0.17274305555555555,
           -0.17881944444444445,
           -0.1814236111111111,
           -0.1857638888888889,
           -0.18750000000000003,
           -0.18836805555555555,
           -0.18923611111111113,
           -0.19965277777777776,
           -0.2013888888888889,
           -0.2013888888888889,
           -0.20399305555555558,
           -0.20399305555555558,
           -0.2048611111111111,
           -0.20833333333333334,
           -0.22048611111111113,
           -0.22048611111111113,
           -0.22569444444444445,
           -0.23697916666666669,
           -0.23784722222222224,
           -0.24131944444444445,
           -0.24305555555555555,
           -0.24305555555555555,
           -0.24565972222222224,
           -0.24739583333333334,
           -0.2534722222222222,
           -0.2569444444444445,
           -0.2586805555555556,
           -0.2586805555555556,
           -0.2604166666666667,
           -0.2647569444444444,
           -0.2725694444444445,
           -0.2734375,
           -0.2786458333333333,
           -0.2803819444444445,
           -0.2847222222222222,
           -0.29427083333333337,
           -0.3237847222222222,
           -0.3602430555555556,
           -0.41145833333333337,
           -0.4123263888888889,
           -0.44357638888888895,
           -0.4565972222222222,
           -0.4713541666666667,
           -0.5,
           -0.5260416666666666,
           -0.5364583333333334,
           -0.5659722222222222,
           -0.5859375,
           -0.6180555555555556,
           -0.6484375,
           -0.6805555555555556,
           -0.7065972222222223,
           -0.7578125000000001,
           -0.7769097222222222,
           -0.8333333333333334,
           -0.982638888888889,
           -1
          ],
          "coloraxis": "coloraxis",
          "symbol": "circle"
         },
         "mode": "markers",
         "name": "",
         "orientation": "v",
         "showlegend": false,
         "type": "scatter",
         "x": [
          21.1,
          9.86,
          20.27,
          9.91,
          14.85,
          11.5,
          13.95,
          23.85,
          17.65,
          19.08,
          20.56,
          20.92,
          20.66,
          19.67,
          11.73,
          8.01,
          10.5,
          7.73,
          14.53,
          14.88,
          10.46,
          9.61,
          20.21,
          12.67,
          15.04,
          8.89,
          17.08,
          13.18,
          19.59,
          14.65,
          14.22,
          15.86,
          18.46,
          10.31,
          6.52,
          9.95,
          10.7,
          6.39,
          7.5,
          18.31,
          12.88,
          8.82,
          9.5,
          9.5,
          10.99,
          12.61,
          8.64,
          8,
          13.09,
          8.36,
          8,
          12.71,
          8.85,
          5.92,
          21.84,
          15.69,
          11.56,
          11.04,
          10.57,
          6.33,
          10.93,
          18.34,
          22.5,
          14.94,
          16.45,
          9.7,
          10.68,
          12.19,
          10.16,
          8,
          10.58,
          5.36,
          11.26,
          14.68,
          8.93,
          0,
          0,
          0,
          0,
          0,
          8,
          7,
          9.98,
          15.87,
          12.8,
          6.73,
          11.64,
          10.89,
          4.71,
          6,
          5.84,
          12.62,
          12.95,
          7.44,
          8.65,
          9.27,
          8.5,
          14.06,
          12.5,
          1.8,
          3.56,
          9.73,
          9.84,
          4.81,
          12.16,
          7.11,
          10.44,
          14.23,
          4.67,
          19.24,
          6.82,
          6.84,
          12.65,
          8.86,
          7.96,
          8.68,
          11.36,
          2.37,
          1,
          2.41,
          8.65,
          9.9,
          11.46,
          8.97,
          6.8,
          4.4,
          11.82,
          10.63,
          4.56,
          4.89,
          7.72,
          10.27,
          13.33,
          4.16,
          3.59,
          11.36,
          16.85,
          7.36,
          4.54,
          7.26,
          7.93,
          0.42,
          7.56,
          6.69,
          7.12,
          8.33,
          0,
          9.45,
          8.37,
          10.35,
          7.3,
          13.95,
          6.68,
          7.52,
          0.67,
          6.87,
          5.4,
          2.86,
          4.62,
          6.5,
          10.37,
          7.33,
          5.4,
          9.17,
          9.5,
          6.46,
          4.08,
          12.63,
          4.76,
          4.74,
          0.36,
          6.02,
          0.67,
          15.02,
          3.5,
          10.18,
          6.73,
          10.5,
          4.9,
          10.08,
          4,
          5.98,
          2.6,
          7.4,
          10.78,
          2,
          3.3,
          1,
          1.1,
          0,
          -1.8,
          2.23,
          1.6,
          10.03,
          0,
          6.23
         ],
         "xaxis": "x",
         "y": [
          11.46,
          5.16,
          4.71,
          4.47,
          4.36,
          3.64,
          3.57,
          3.57,
          3.48,
          3.42,
          3.24,
          3.22,
          3.17,
          3.12,
          3.1,
          2.91,
          2.82,
          2.82,
          2.8,
          2.68,
          2.68,
          2.56,
          2.44,
          2.36,
          2.33,
          2.31,
          2.29,
          2.27,
          2.24,
          2.2,
          2.1,
          2.06,
          2.05,
          2.01,
          1.86,
          1.79,
          1.76,
          1.5,
          1.49,
          1.39,
          1.35,
          1.34,
          1.26,
          1.25,
          1.11,
          1.08,
          1.07,
          1.07,
          1.07,
          1.05,
          1.04,
          0.82,
          0.8,
          0.75,
          0.72,
          0.71,
          0.7,
          0.69,
          0.67,
          0.63,
          0.58,
          0.5,
          0.44,
          0.39,
          0.38,
          0.36,
          0.31,
          0.3,
          0.26,
          0.26,
          0.11,
          0.03,
          0.02,
          0.01,
          0,
          0,
          0,
          0,
          0,
          0,
          0,
          0,
          -0.02,
          -0.13,
          -0.21,
          -0.26,
          -0.3,
          -0.32,
          -0.32,
          -0.38,
          -0.39,
          -0.41,
          -0.41,
          -0.41,
          -0.43,
          -0.49,
          -0.52,
          -0.56,
          -0.6,
          -0.67,
          -0.73,
          -0.73,
          -0.78,
          -0.8,
          -0.83,
          -0.91,
          -0.91,
          -0.94,
          -0.96,
          -0.98,
          -1.01,
          -1.05,
          -1.07,
          -1.12,
          -1.13,
          -1.16,
          -1.23,
          -1.24,
          -1.24,
          -1.26,
          -1.33,
          -1.39,
          -1.43,
          -1.5,
          -1.57,
          -1.59,
          -1.66,
          -1.66,
          -1.67,
          -1.69,
          -1.73,
          -1.76,
          -1.77,
          -1.8,
          -1.89,
          -1.9,
          -1.94,
          -1.94,
          -1.97,
          -1.99,
          -2.06,
          -2.09,
          -2.14,
          -2.16,
          -2.17,
          -2.18,
          -2.3,
          -2.32,
          -2.32,
          -2.35,
          -2.35,
          -2.36,
          -2.4,
          -2.54,
          -2.54,
          -2.6,
          -2.73,
          -2.74,
          -2.78,
          -2.8,
          -2.8,
          -2.83,
          -2.85,
          -2.92,
          -2.96,
          -2.98,
          -2.98,
          -3,
          -3.05,
          -3.14,
          -3.15,
          -3.21,
          -3.23,
          -3.28,
          -3.39,
          -3.73,
          -4.15,
          -4.74,
          -4.75,
          -5.11,
          -5.26,
          -5.43,
          -5.76,
          -6.06,
          -6.18,
          -6.52,
          -6.75,
          -7.12,
          -7.47,
          -7.84,
          -8.14,
          -8.73,
          -8.95,
          -9.6,
          -11.32,
          -11.52
         ],
         "yaxis": "y"
        }
       ],
       "layout": {
        "coloraxis": {
         "colorbar": {
          "title": {
           "text": "normalized_label"
          }
         },
         "colorscale": [
          [
           0,
           "#0d0887"
          ],
          [
           0.1111111111111111,
           "#46039f"
          ],
          [
           0.2222222222222222,
           "#7201a8"
          ],
          [
           0.3333333333333333,
           "#9c179e"
          ],
          [
           0.4444444444444444,
           "#bd3786"
          ],
          [
           0.5555555555555556,
           "#d8576b"
          ],
          [
           0.6666666666666666,
           "#ed7953"
          ],
          [
           0.7777777777777778,
           "#fb9f3a"
          ],
          [
           0.8888888888888888,
           "#fdca26"
          ],
          [
           1,
           "#f0f921"
          ]
         ]
        },
        "legend": {
         "tracegroupgap": 0
        },
        "plot_bgcolor": "grey",
        "shapes": [
         {
          "line": {
           "color": "red"
          },
          "type": "line",
          "x0": 0,
          "x1": 1,
          "xref": "x domain",
          "y0": -0.8029591836734694,
          "y1": -0.8029591836734694,
          "yref": "y"
         }
        ],
        "template": {
         "data": {
          "bar": [
           {
            "error_x": {
             "color": "#2a3f5f"
            },
            "error_y": {
             "color": "#2a3f5f"
            },
            "marker": {
             "line": {
              "color": "#E5ECF6",
              "width": 0.5
             },
             "pattern": {
              "fillmode": "overlay",
              "size": 10,
              "solidity": 0.2
             }
            },
            "type": "bar"
           }
          ],
          "barpolar": [
           {
            "marker": {
             "line": {
              "color": "#E5ECF6",
              "width": 0.5
             },
             "pattern": {
              "fillmode": "overlay",
              "size": 10,
              "solidity": 0.2
             }
            },
            "type": "barpolar"
           }
          ],
          "carpet": [
           {
            "aaxis": {
             "endlinecolor": "#2a3f5f",
             "gridcolor": "white",
             "linecolor": "white",
             "minorgridcolor": "white",
             "startlinecolor": "#2a3f5f"
            },
            "baxis": {
             "endlinecolor": "#2a3f5f",
             "gridcolor": "white",
             "linecolor": "white",
             "minorgridcolor": "white",
             "startlinecolor": "#2a3f5f"
            },
            "type": "carpet"
           }
          ],
          "choropleth": [
           {
            "colorbar": {
             "outlinewidth": 0,
             "ticks": ""
            },
            "type": "choropleth"
           }
          ],
          "contour": [
           {
            "colorbar": {
             "outlinewidth": 0,
             "ticks": ""
            },
            "colorscale": [
             [
              0,
              "#0d0887"
             ],
             [
              0.1111111111111111,
              "#46039f"
             ],
             [
              0.2222222222222222,
              "#7201a8"
             ],
             [
              0.3333333333333333,
              "#9c179e"
             ],
             [
              0.4444444444444444,
              "#bd3786"
             ],
             [
              0.5555555555555556,
              "#d8576b"
             ],
             [
              0.6666666666666666,
              "#ed7953"
             ],
             [
              0.7777777777777778,
              "#fb9f3a"
             ],
             [
              0.8888888888888888,
              "#fdca26"
             ],
             [
              1,
              "#f0f921"
             ]
            ],
            "type": "contour"
           }
          ],
          "contourcarpet": [
           {
            "colorbar": {
             "outlinewidth": 0,
             "ticks": ""
            },
            "type": "contourcarpet"
           }
          ],
          "heatmap": [
           {
            "colorbar": {
             "outlinewidth": 0,
             "ticks": ""
            },
            "colorscale": [
             [
              0,
              "#0d0887"
             ],
             [
              0.1111111111111111,
              "#46039f"
             ],
             [
              0.2222222222222222,
              "#7201a8"
             ],
             [
              0.3333333333333333,
              "#9c179e"
             ],
             [
              0.4444444444444444,
              "#bd3786"
             ],
             [
              0.5555555555555556,
              "#d8576b"
             ],
             [
              0.6666666666666666,
              "#ed7953"
             ],
             [
              0.7777777777777778,
              "#fb9f3a"
             ],
             [
              0.8888888888888888,
              "#fdca26"
             ],
             [
              1,
              "#f0f921"
             ]
            ],
            "type": "heatmap"
           }
          ],
          "heatmapgl": [
           {
            "colorbar": {
             "outlinewidth": 0,
             "ticks": ""
            },
            "colorscale": [
             [
              0,
              "#0d0887"
             ],
             [
              0.1111111111111111,
              "#46039f"
             ],
             [
              0.2222222222222222,
              "#7201a8"
             ],
             [
              0.3333333333333333,
              "#9c179e"
             ],
             [
              0.4444444444444444,
              "#bd3786"
             ],
             [
              0.5555555555555556,
              "#d8576b"
             ],
             [
              0.6666666666666666,
              "#ed7953"
             ],
             [
              0.7777777777777778,
              "#fb9f3a"
             ],
             [
              0.8888888888888888,
              "#fdca26"
             ],
             [
              1,
              "#f0f921"
             ]
            ],
            "type": "heatmapgl"
           }
          ],
          "histogram": [
           {
            "marker": {
             "pattern": {
              "fillmode": "overlay",
              "size": 10,
              "solidity": 0.2
             }
            },
            "type": "histogram"
           }
          ],
          "histogram2d": [
           {
            "colorbar": {
             "outlinewidth": 0,
             "ticks": ""
            },
            "colorscale": [
             [
              0,
              "#0d0887"
             ],
             [
              0.1111111111111111,
              "#46039f"
             ],
             [
              0.2222222222222222,
              "#7201a8"
             ],
             [
              0.3333333333333333,
              "#9c179e"
             ],
             [
              0.4444444444444444,
              "#bd3786"
             ],
             [
              0.5555555555555556,
              "#d8576b"
             ],
             [
              0.6666666666666666,
              "#ed7953"
             ],
             [
              0.7777777777777778,
              "#fb9f3a"
             ],
             [
              0.8888888888888888,
              "#fdca26"
             ],
             [
              1,
              "#f0f921"
             ]
            ],
            "type": "histogram2d"
           }
          ],
          "histogram2dcontour": [
           {
            "colorbar": {
             "outlinewidth": 0,
             "ticks": ""
            },
            "colorscale": [
             [
              0,
              "#0d0887"
             ],
             [
              0.1111111111111111,
              "#46039f"
             ],
             [
              0.2222222222222222,
              "#7201a8"
             ],
             [
              0.3333333333333333,
              "#9c179e"
             ],
             [
              0.4444444444444444,
              "#bd3786"
             ],
             [
              0.5555555555555556,
              "#d8576b"
             ],
             [
              0.6666666666666666,
              "#ed7953"
             ],
             [
              0.7777777777777778,
              "#fb9f3a"
             ],
             [
              0.8888888888888888,
              "#fdca26"
             ],
             [
              1,
              "#f0f921"
             ]
            ],
            "type": "histogram2dcontour"
           }
          ],
          "mesh3d": [
           {
            "colorbar": {
             "outlinewidth": 0,
             "ticks": ""
            },
            "type": "mesh3d"
           }
          ],
          "parcoords": [
           {
            "line": {
             "colorbar": {
              "outlinewidth": 0,
              "ticks": ""
             }
            },
            "type": "parcoords"
           }
          ],
          "pie": [
           {
            "automargin": true,
            "type": "pie"
           }
          ],
          "scatter": [
           {
            "marker": {
             "colorbar": {
              "outlinewidth": 0,
              "ticks": ""
             }
            },
            "type": "scatter"
           }
          ],
          "scatter3d": [
           {
            "line": {
             "colorbar": {
              "outlinewidth": 0,
              "ticks": ""
             }
            },
            "marker": {
             "colorbar": {
              "outlinewidth": 0,
              "ticks": ""
             }
            },
            "type": "scatter3d"
           }
          ],
          "scattercarpet": [
           {
            "marker": {
             "colorbar": {
              "outlinewidth": 0,
              "ticks": ""
             }
            },
            "type": "scattercarpet"
           }
          ],
          "scattergeo": [
           {
            "marker": {
             "colorbar": {
              "outlinewidth": 0,
              "ticks": ""
             }
            },
            "type": "scattergeo"
           }
          ],
          "scattergl": [
           {
            "marker": {
             "colorbar": {
              "outlinewidth": 0,
              "ticks": ""
             }
            },
            "type": "scattergl"
           }
          ],
          "scattermapbox": [
           {
            "marker": {
             "colorbar": {
              "outlinewidth": 0,
              "ticks": ""
             }
            },
            "type": "scattermapbox"
           }
          ],
          "scatterpolar": [
           {
            "marker": {
             "colorbar": {
              "outlinewidth": 0,
              "ticks": ""
             }
            },
            "type": "scatterpolar"
           }
          ],
          "scatterpolargl": [
           {
            "marker": {
             "colorbar": {
              "outlinewidth": 0,
              "ticks": ""
             }
            },
            "type": "scatterpolargl"
           }
          ],
          "scatterternary": [
           {
            "marker": {
             "colorbar": {
              "outlinewidth": 0,
              "ticks": ""
             }
            },
            "type": "scatterternary"
           }
          ],
          "surface": [
           {
            "colorbar": {
             "outlinewidth": 0,
             "ticks": ""
            },
            "colorscale": [
             [
              0,
              "#0d0887"
             ],
             [
              0.1111111111111111,
              "#46039f"
             ],
             [
              0.2222222222222222,
              "#7201a8"
             ],
             [
              0.3333333333333333,
              "#9c179e"
             ],
             [
              0.4444444444444444,
              "#bd3786"
             ],
             [
              0.5555555555555556,
              "#d8576b"
             ],
             [
              0.6666666666666666,
              "#ed7953"
             ],
             [
              0.7777777777777778,
              "#fb9f3a"
             ],
             [
              0.8888888888888888,
              "#fdca26"
             ],
             [
              1,
              "#f0f921"
             ]
            ],
            "type": "surface"
           }
          ],
          "table": [
           {
            "cells": {
             "fill": {
              "color": "#EBF0F8"
             },
             "line": {
              "color": "white"
             }
            },
            "header": {
             "fill": {
              "color": "#C8D4E3"
             },
             "line": {
              "color": "white"
             }
            },
            "type": "table"
           }
          ]
         },
         "layout": {
          "annotationdefaults": {
           "arrowcolor": "#2a3f5f",
           "arrowhead": 0,
           "arrowwidth": 1
          },
          "autotypenumbers": "strict",
          "coloraxis": {
           "colorbar": {
            "outlinewidth": 0,
            "ticks": ""
           }
          },
          "colorscale": {
           "diverging": [
            [
             0,
             "#8e0152"
            ],
            [
             0.1,
             "#c51b7d"
            ],
            [
             0.2,
             "#de77ae"
            ],
            [
             0.3,
             "#f1b6da"
            ],
            [
             0.4,
             "#fde0ef"
            ],
            [
             0.5,
             "#f7f7f7"
            ],
            [
             0.6,
             "#e6f5d0"
            ],
            [
             0.7,
             "#b8e186"
            ],
            [
             0.8,
             "#7fbc41"
            ],
            [
             0.9,
             "#4d9221"
            ],
            [
             1,
             "#276419"
            ]
           ],
           "sequential": [
            [
             0,
             "#0d0887"
            ],
            [
             0.1111111111111111,
             "#46039f"
            ],
            [
             0.2222222222222222,
             "#7201a8"
            ],
            [
             0.3333333333333333,
             "#9c179e"
            ],
            [
             0.4444444444444444,
             "#bd3786"
            ],
            [
             0.5555555555555556,
             "#d8576b"
            ],
            [
             0.6666666666666666,
             "#ed7953"
            ],
            [
             0.7777777777777778,
             "#fb9f3a"
            ],
            [
             0.8888888888888888,
             "#fdca26"
            ],
            [
             1,
             "#f0f921"
            ]
           ],
           "sequentialminus": [
            [
             0,
             "#0d0887"
            ],
            [
             0.1111111111111111,
             "#46039f"
            ],
            [
             0.2222222222222222,
             "#7201a8"
            ],
            [
             0.3333333333333333,
             "#9c179e"
            ],
            [
             0.4444444444444444,
             "#bd3786"
            ],
            [
             0.5555555555555556,
             "#d8576b"
            ],
            [
             0.6666666666666666,
             "#ed7953"
            ],
            [
             0.7777777777777778,
             "#fb9f3a"
            ],
            [
             0.8888888888888888,
             "#fdca26"
            ],
            [
             1,
             "#f0f921"
            ]
           ]
          },
          "colorway": [
           "#636efa",
           "#EF553B",
           "#00cc96",
           "#ab63fa",
           "#FFA15A",
           "#19d3f3",
           "#FF6692",
           "#B6E880",
           "#FF97FF",
           "#FECB52"
          ],
          "font": {
           "color": "#2a3f5f"
          },
          "geo": {
           "bgcolor": "white",
           "lakecolor": "white",
           "landcolor": "#E5ECF6",
           "showlakes": true,
           "showland": true,
           "subunitcolor": "white"
          },
          "hoverlabel": {
           "align": "left"
          },
          "hovermode": "closest",
          "mapbox": {
           "style": "light"
          },
          "paper_bgcolor": "white",
          "plot_bgcolor": "#E5ECF6",
          "polar": {
           "angularaxis": {
            "gridcolor": "white",
            "linecolor": "white",
            "ticks": ""
           },
           "bgcolor": "#E5ECF6",
           "radialaxis": {
            "gridcolor": "white",
            "linecolor": "white",
            "ticks": ""
           }
          },
          "scene": {
           "xaxis": {
            "backgroundcolor": "#E5ECF6",
            "gridcolor": "white",
            "gridwidth": 2,
            "linecolor": "white",
            "showbackground": true,
            "ticks": "",
            "zerolinecolor": "white"
           },
           "yaxis": {
            "backgroundcolor": "#E5ECF6",
            "gridcolor": "white",
            "gridwidth": 2,
            "linecolor": "white",
            "showbackground": true,
            "ticks": "",
            "zerolinecolor": "white"
           },
           "zaxis": {
            "backgroundcolor": "#E5ECF6",
            "gridcolor": "white",
            "gridwidth": 2,
            "linecolor": "white",
            "showbackground": true,
            "ticks": "",
            "zerolinecolor": "white"
           }
          },
          "shapedefaults": {
           "line": {
            "color": "#2a3f5f"
           }
          },
          "ternary": {
           "aaxis": {
            "gridcolor": "white",
            "linecolor": "white",
            "ticks": ""
           },
           "baxis": {
            "gridcolor": "white",
            "linecolor": "white",
            "ticks": ""
           },
           "bgcolor": "#E5ECF6",
           "caxis": {
            "gridcolor": "white",
            "linecolor": "white",
            "ticks": ""
           }
          },
          "title": {
           "x": 0.05
          },
          "xaxis": {
           "automargin": true,
           "gridcolor": "white",
           "linecolor": "white",
           "ticks": "",
           "title": {
            "standoff": 15
           },
           "zerolinecolor": "white",
           "zerolinewidth": 2
          },
          "yaxis": {
           "automargin": true,
           "gridcolor": "white",
           "linecolor": "white",
           "ticks": "",
           "title": {
            "standoff": 15
           },
           "zerolinecolor": "white",
           "zerolinewidth": 2
          }
         }
        },
        "title": {
         "text": "Projected vs. Distance from Expectation"
        },
        "xaxis": {
         "anchor": "y",
         "domain": [
          0,
          1
         ],
         "title": {
          "text": "Actual Avg Points"
         }
        },
        "yaxis": {
         "anchor": "x",
         "domain": [
          0,
          1
         ],
         "title": {
          "text": "Point Residuals"
         }
        }
       }
      }
     },
     "metadata": {},
     "output_type": "display_data"
    }
   ],
   "source": [
    "hovertemplate = \"Player: %{customdata[0]} <br>Actual Avg Points:%{customdata[1]} <br>Projected Points: %{customdata[2]} <br>Point Residuals: %{customdata[3]}</br>\"\n",
    "plot = px.scatter(grouped_df, x = 'Actual_Points', y = 'Point-Residuals', color = 'normalized_label', title = 'Projected vs. Distance from Expectation', custom_data=['Player', 'Actual_Points','Projected_Points','Point-Residuals'], color_discrete_sequence=px.colors.qualitative.Dark24)\n",
    "plot.update_layout(xaxis_title = 'Actual Avg Points', yaxis_title = 'Point Residuals', plot_bgcolor = 'grey')\n",
    "plot.update_traces(hovertemplate = hovertemplate)\n",
    "# plot.update_xaxes(showgrid = False)\n",
    "# plot.update_yaxes(showgrid = False)\n",
    "plot.add_hline(y=grouped_df['Point-Residuals'].mean(), line_color = 'red')\n",
    "# plot.add_hline(y=rb_df['Projected_Points'].mean(), line_color = 'yellow')\n",
    "plot.show()"
   ]
  },
  {
   "cell_type": "code",
   "execution_count": 28,
   "metadata": {},
   "outputs": [],
   "source": [
    "plot.write_html(\"total_players.html\")"
   ]
  },
  {
   "cell_type": "code",
   "execution_count": 29,
   "metadata": {},
   "outputs": [],
   "source": [
    "grouped_df.sort_values('Player').to_csv('Players.csv')"
   ]
  },
  {
   "cell_type": "code",
   "execution_count": 31,
   "metadata": {},
   "outputs": [
    {
     "data": {
      "text/plain": [
       "array(['Gorilla Guys', 'Couv Reigning Champ', 'Eugene Tweakers',\n",
       "       'Diggy Wit it', 'Cougar Town Zach Wilson', 'No Nyugen Will Win',\n",
       "       'My Team  A Bust', 'I dont know what im doing',\n",
       "       'Just-in-N-out Drive thru', 'P-Town CASH KEVIN'], dtype=object)"
      ]
     },
     "execution_count": 31,
     "metadata": {},
     "output_type": "execute_result"
    }
   ],
   "source": [
    "merged_df['Team'].unique()"
   ]
  },
  {
   "cell_type": "code",
   "execution_count": 38,
   "metadata": {},
   "outputs": [
    {
     "data": {
      "text/html": [
       "<div>\n",
       "<style scoped>\n",
       "    .dataframe tbody tr th:only-of-type {\n",
       "        vertical-align: middle;\n",
       "    }\n",
       "\n",
       "    .dataframe tbody tr th {\n",
       "        vertical-align: top;\n",
       "    }\n",
       "\n",
       "    .dataframe thead th {\n",
       "        text-align: right;\n",
       "    }\n",
       "</style>\n",
       "<table border=\"1\" class=\"dataframe\">\n",
       "  <thead>\n",
       "    <tr style=\"text-align: right;\">\n",
       "      <th></th>\n",
       "      <th>Player</th>\n",
       "      <th>Week</th>\n",
       "      <th>Rank</th>\n",
       "      <th>Projected_Points</th>\n",
       "      <th>Actual_Points</th>\n",
       "      <th>Point-Residuals</th>\n",
       "      <th>label</th>\n",
       "    </tr>\n",
       "  </thead>\n",
       "  <tbody>\n",
       "    <tr>\n",
       "      <th>10</th>\n",
       "      <td>Josh Jacobs</td>\n",
       "      <td>6.0</td>\n",
       "      <td>15.91</td>\n",
       "      <td>14.17</td>\n",
       "      <td>17.65</td>\n",
       "      <td>3.48</td>\n",
       "      <td>0.64</td>\n",
       "    </tr>\n",
       "    <tr>\n",
       "      <th>0</th>\n",
       "      <td>Bills D/ST</td>\n",
       "      <td>6.0</td>\n",
       "      <td>13.55</td>\n",
       "      <td>4.91</td>\n",
       "      <td>7.73</td>\n",
       "      <td>2.82</td>\n",
       "      <td>0.64</td>\n",
       "    </tr>\n",
       "    <tr>\n",
       "      <th>1</th>\n",
       "      <td>Brandon Aiyuk</td>\n",
       "      <td>6.0</td>\n",
       "      <td>16.00</td>\n",
       "      <td>10.31</td>\n",
       "      <td>12.67</td>\n",
       "      <td>2.36</td>\n",
       "      <td>0.73</td>\n",
       "    </tr>\n",
       "    <tr>\n",
       "      <th>17</th>\n",
       "      <td>Nick Chubb</td>\n",
       "      <td>6.0</td>\n",
       "      <td>13.64</td>\n",
       "      <td>14.79</td>\n",
       "      <td>17.08</td>\n",
       "      <td>2.29</td>\n",
       "      <td>0.73</td>\n",
       "    </tr>\n",
       "    <tr>\n",
       "      <th>13</th>\n",
       "      <td>Justin Jefferson</td>\n",
       "      <td>6.0</td>\n",
       "      <td>15.18</td>\n",
       "      <td>17.35</td>\n",
       "      <td>19.59</td>\n",
       "      <td>2.24</td>\n",
       "      <td>0.55</td>\n",
       "    </tr>\n",
       "    <tr>\n",
       "      <th>18</th>\n",
       "      <td>Nick Folk</td>\n",
       "      <td>6.0</td>\n",
       "      <td>12.45</td>\n",
       "      <td>6.96</td>\n",
       "      <td>8.00</td>\n",
       "      <td>1.04</td>\n",
       "      <td>0.55</td>\n",
       "    </tr>\n",
       "    <tr>\n",
       "      <th>6</th>\n",
       "      <td>George Kittle</td>\n",
       "      <td>6.0</td>\n",
       "      <td>16.18</td>\n",
       "      <td>8.06</td>\n",
       "      <td>8.85</td>\n",
       "      <td>0.80</td>\n",
       "      <td>0.64</td>\n",
       "    </tr>\n",
       "    <tr>\n",
       "      <th>19</th>\n",
       "      <td>Raheem Mostert</td>\n",
       "      <td>6.5</td>\n",
       "      <td>16.75</td>\n",
       "      <td>10.70</td>\n",
       "      <td>11.38</td>\n",
       "      <td>0.67</td>\n",
       "      <td>0.62</td>\n",
       "    </tr>\n",
       "    <tr>\n",
       "      <th>9</th>\n",
       "      <td>Jarvis Landry</td>\n",
       "      <td>2.0</td>\n",
       "      <td>22.67</td>\n",
       "      <td>9.34</td>\n",
       "      <td>9.70</td>\n",
       "      <td>0.36</td>\n",
       "      <td>0.33</td>\n",
       "    </tr>\n",
       "    <tr>\n",
       "      <th>14</th>\n",
       "      <td>Logan Thomas</td>\n",
       "      <td>3.0</td>\n",
       "      <td>20.00</td>\n",
       "      <td>0.00</td>\n",
       "      <td>0.00</td>\n",
       "      <td>0.00</td>\n",
       "      <td>1.00</td>\n",
       "    </tr>\n",
       "    <tr>\n",
       "      <th>16</th>\n",
       "      <td>Miles Sanders</td>\n",
       "      <td>6.0</td>\n",
       "      <td>14.45</td>\n",
       "      <td>11.94</td>\n",
       "      <td>11.64</td>\n",
       "      <td>-0.30</td>\n",
       "      <td>0.45</td>\n",
       "    </tr>\n",
       "    <tr>\n",
       "      <th>3</th>\n",
       "      <td>David Njoku</td>\n",
       "      <td>6.0</td>\n",
       "      <td>13.40</td>\n",
       "      <td>4.29</td>\n",
       "      <td>3.56</td>\n",
       "      <td>-0.73</td>\n",
       "      <td>0.80</td>\n",
       "    </tr>\n",
       "    <tr>\n",
       "      <th>21</th>\n",
       "      <td>Sterling Shepard</td>\n",
       "      <td>2.0</td>\n",
       "      <td>13.00</td>\n",
       "      <td>11.29</td>\n",
       "      <td>9.90</td>\n",
       "      <td>-1.39</td>\n",
       "      <td>0.00</td>\n",
       "    </tr>\n",
       "    <tr>\n",
       "      <th>2</th>\n",
       "      <td>DK Metcalf</td>\n",
       "      <td>6.0</td>\n",
       "      <td>15.45</td>\n",
       "      <td>12.89</td>\n",
       "      <td>11.46</td>\n",
       "      <td>-1.43</td>\n",
       "      <td>0.45</td>\n",
       "    </tr>\n",
       "    <tr>\n",
       "      <th>4</th>\n",
       "      <td>Derek Carr</td>\n",
       "      <td>4.5</td>\n",
       "      <td>7.25</td>\n",
       "      <td>12.58</td>\n",
       "      <td>10.75</td>\n",
       "      <td>-1.83</td>\n",
       "      <td>0.50</td>\n",
       "    </tr>\n",
       "    <tr>\n",
       "      <th>22</th>\n",
       "      <td>Taysom Hill</td>\n",
       "      <td>2.0</td>\n",
       "      <td>17.00</td>\n",
       "      <td>6.51</td>\n",
       "      <td>4.54</td>\n",
       "      <td>-1.97</td>\n",
       "      <td>0.00</td>\n",
       "    </tr>\n",
       "    <tr>\n",
       "      <th>20</th>\n",
       "      <td>Rex Burkhead</td>\n",
       "      <td>2.0</td>\n",
       "      <td>19.00</td>\n",
       "      <td>9.65</td>\n",
       "      <td>7.30</td>\n",
       "      <td>-2.35</td>\n",
       "      <td>0.33</td>\n",
       "    </tr>\n",
       "    <tr>\n",
       "      <th>12</th>\n",
       "      <td>Justin Herbert</td>\n",
       "      <td>6.0</td>\n",
       "      <td>16.09</td>\n",
       "      <td>18.30</td>\n",
       "      <td>15.02</td>\n",
       "      <td>-3.28</td>\n",
       "      <td>0.45</td>\n",
       "    </tr>\n",
       "    <tr>\n",
       "      <th>11</th>\n",
       "      <td>Joshua Palmer</td>\n",
       "      <td>4.0</td>\n",
       "      <td>18.00</td>\n",
       "      <td>13.46</td>\n",
       "      <td>7.40</td>\n",
       "      <td>-6.06</td>\n",
       "      <td>0.00</td>\n",
       "    </tr>\n",
       "    <tr>\n",
       "      <th>23</th>\n",
       "      <td>Tyler Lockett</td>\n",
       "      <td>1.0</td>\n",
       "      <td>2.00</td>\n",
       "      <td>12.20</td>\n",
       "      <td>5.80</td>\n",
       "      <td>-6.40</td>\n",
       "      <td>0.00</td>\n",
       "    </tr>\n",
       "    <tr>\n",
       "      <th>7</th>\n",
       "      <td>Hunter Henry</td>\n",
       "      <td>1.5</td>\n",
       "      <td>20.50</td>\n",
       "      <td>8.52</td>\n",
       "      <td>2.00</td>\n",
       "      <td>-6.52</td>\n",
       "      <td>0.00</td>\n",
       "    </tr>\n",
       "    <tr>\n",
       "      <th>5</th>\n",
       "      <td>Geno Smith</td>\n",
       "      <td>2.0</td>\n",
       "      <td>29.00</td>\n",
       "      <td>19.63</td>\n",
       "      <td>12.68</td>\n",
       "      <td>-6.95</td>\n",
       "      <td>0.00</td>\n",
       "    </tr>\n",
       "    <tr>\n",
       "      <th>8</th>\n",
       "      <td>James Cook</td>\n",
       "      <td>1.0</td>\n",
       "      <td>9.00</td>\n",
       "      <td>6.34</td>\n",
       "      <td>-1.80</td>\n",
       "      <td>-8.14</td>\n",
       "      <td>0.00</td>\n",
       "    </tr>\n",
       "    <tr>\n",
       "      <th>15</th>\n",
       "      <td>Matthew Stafford</td>\n",
       "      <td>1.0</td>\n",
       "      <td>7.00</td>\n",
       "      <td>16.92</td>\n",
       "      <td>7.80</td>\n",
       "      <td>-9.12</td>\n",
       "      <td>0.00</td>\n",
       "    </tr>\n",
       "  </tbody>\n",
       "</table>\n",
       "</div>"
      ],
      "text/plain": [
       "              Player  Week   Rank  Projected_Points  Actual_Points  \\\n",
       "10       Josh Jacobs   6.0  15.91             14.17          17.65   \n",
       "0         Bills D/ST   6.0  13.55              4.91           7.73   \n",
       "1      Brandon Aiyuk   6.0  16.00             10.31          12.67   \n",
       "17        Nick Chubb   6.0  13.64             14.79          17.08   \n",
       "13  Justin Jefferson   6.0  15.18             17.35          19.59   \n",
       "18         Nick Folk   6.0  12.45              6.96           8.00   \n",
       "6      George Kittle   6.0  16.18              8.06           8.85   \n",
       "19    Raheem Mostert   6.5  16.75             10.70          11.38   \n",
       "9      Jarvis Landry   2.0  22.67              9.34           9.70   \n",
       "14      Logan Thomas   3.0  20.00              0.00           0.00   \n",
       "16     Miles Sanders   6.0  14.45             11.94          11.64   \n",
       "3        David Njoku   6.0  13.40              4.29           3.56   \n",
       "21  Sterling Shepard   2.0  13.00             11.29           9.90   \n",
       "2         DK Metcalf   6.0  15.45             12.89          11.46   \n",
       "4         Derek Carr   4.5   7.25             12.58          10.75   \n",
       "22       Taysom Hill   2.0  17.00              6.51           4.54   \n",
       "20      Rex Burkhead   2.0  19.00              9.65           7.30   \n",
       "12    Justin Herbert   6.0  16.09             18.30          15.02   \n",
       "11     Joshua Palmer   4.0  18.00             13.46           7.40   \n",
       "23     Tyler Lockett   1.0   2.00             12.20           5.80   \n",
       "7       Hunter Henry   1.5  20.50              8.52           2.00   \n",
       "5         Geno Smith   2.0  29.00             19.63          12.68   \n",
       "8         James Cook   1.0   9.00              6.34          -1.80   \n",
       "15  Matthew Stafford   1.0   7.00             16.92           7.80   \n",
       "\n",
       "    Point-Residuals  label  \n",
       "10             3.48   0.64  \n",
       "0              2.82   0.64  \n",
       "1              2.36   0.73  \n",
       "17             2.29   0.73  \n",
       "13             2.24   0.55  \n",
       "18             1.04   0.55  \n",
       "6              0.80   0.64  \n",
       "19             0.67   0.62  \n",
       "9              0.36   0.33  \n",
       "14             0.00   1.00  \n",
       "16            -0.30   0.45  \n",
       "3             -0.73   0.80  \n",
       "21            -1.39   0.00  \n",
       "2             -1.43   0.45  \n",
       "4             -1.83   0.50  \n",
       "22            -1.97   0.00  \n",
       "20            -2.35   0.33  \n",
       "12            -3.28   0.45  \n",
       "11            -6.06   0.00  \n",
       "23            -6.40   0.00  \n",
       "7             -6.52   0.00  \n",
       "5             -6.95   0.00  \n",
       "8             -8.14   0.00  \n",
       "15            -9.12   0.00  "
      ]
     },
     "execution_count": 38,
     "metadata": {},
     "output_type": "execute_result"
    }
   ],
   "source": [
    "hannah = merged_df[merged_df['Team'] == 'Just-in-N-out Drive thru'].groupby(['Player'], as_index = False).mean().sort_values('Point-Residuals', ascending=False)\n",
    "hannah = hannah.round(2)\n",
    "hannah"
   ]
  },
  {
   "cell_type": "code",
   "execution_count": 54,
   "metadata": {},
   "outputs": [
    {
     "data": {
      "text/html": [
       "<div>\n",
       "<style scoped>\n",
       "    .dataframe tbody tr th:only-of-type {\n",
       "        vertical-align: middle;\n",
       "    }\n",
       "\n",
       "    .dataframe tbody tr th {\n",
       "        vertical-align: top;\n",
       "    }\n",
       "\n",
       "    .dataframe thead th {\n",
       "        text-align: right;\n",
       "    }\n",
       "</style>\n",
       "<table border=\"1\" class=\"dataframe\">\n",
       "  <thead>\n",
       "    <tr style=\"text-align: right;\">\n",
       "      <th></th>\n",
       "      <th>Player</th>\n",
       "      <th>Week</th>\n",
       "      <th>Rank</th>\n",
       "      <th>Projected_Points</th>\n",
       "      <th>Actual_Points</th>\n",
       "      <th>Point-Residuals</th>\n",
       "      <th>label</th>\n",
       "    </tr>\n",
       "  </thead>\n",
       "  <tbody>\n",
       "    <tr>\n",
       "      <th>6</th>\n",
       "      <td>Harrison Butker</td>\n",
       "      <td>6.0</td>\n",
       "      <td>27.00</td>\n",
       "      <td>7.45</td>\n",
       "      <td>14.00</td>\n",
       "      <td>6.55</td>\n",
       "      <td>1.00</td>\n",
       "    </tr>\n",
       "    <tr>\n",
       "      <th>18</th>\n",
       "      <td>Tony Pollard</td>\n",
       "      <td>6.0</td>\n",
       "      <td>14.18</td>\n",
       "      <td>10.50</td>\n",
       "      <td>14.85</td>\n",
       "      <td>4.36</td>\n",
       "      <td>0.64</td>\n",
       "    </tr>\n",
       "    <tr>\n",
       "      <th>9</th>\n",
       "      <td>Jamaal Williams</td>\n",
       "      <td>6.0</td>\n",
       "      <td>15.36</td>\n",
       "      <td>10.38</td>\n",
       "      <td>13.95</td>\n",
       "      <td>3.57</td>\n",
       "      <td>0.64</td>\n",
       "    </tr>\n",
       "    <tr>\n",
       "      <th>3</th>\n",
       "      <td>DeAndre Hopkins</td>\n",
       "      <td>6.0</td>\n",
       "      <td>19.27</td>\n",
       "      <td>7.05</td>\n",
       "      <td>9.61</td>\n",
       "      <td>2.56</td>\n",
       "      <td>0.91</td>\n",
       "    </tr>\n",
       "    <tr>\n",
       "      <th>4</th>\n",
       "      <td>Derrick Henry</td>\n",
       "      <td>6.0</td>\n",
       "      <td>17.09</td>\n",
       "      <td>16.41</td>\n",
       "      <td>18.46</td>\n",
       "      <td>2.05</td>\n",
       "      <td>0.64</td>\n",
       "    </tr>\n",
       "    <tr>\n",
       "      <th>7</th>\n",
       "      <td>Jahan Dotson</td>\n",
       "      <td>4.5</td>\n",
       "      <td>15.62</td>\n",
       "      <td>4.67</td>\n",
       "      <td>6.52</td>\n",
       "      <td>1.86</td>\n",
       "      <td>0.88</td>\n",
       "    </tr>\n",
       "    <tr>\n",
       "      <th>8</th>\n",
       "      <td>Jalen Hurts</td>\n",
       "      <td>6.0</td>\n",
       "      <td>18.00</td>\n",
       "      <td>21.12</td>\n",
       "      <td>21.84</td>\n",
       "      <td>0.72</td>\n",
       "      <td>0.64</td>\n",
       "    </tr>\n",
       "    <tr>\n",
       "      <th>10</th>\n",
       "      <td>Joe Mixon</td>\n",
       "      <td>6.0</td>\n",
       "      <td>14.27</td>\n",
       "      <td>16.07</td>\n",
       "      <td>16.45</td>\n",
       "      <td>0.38</td>\n",
       "      <td>0.55</td>\n",
       "    </tr>\n",
       "    <tr>\n",
       "      <th>11</th>\n",
       "      <td>JuJu Smith-Schuster</td>\n",
       "      <td>6.0</td>\n",
       "      <td>16.00</td>\n",
       "      <td>10.37</td>\n",
       "      <td>10.68</td>\n",
       "      <td>0.31</td>\n",
       "      <td>0.55</td>\n",
       "    </tr>\n",
       "    <tr>\n",
       "      <th>19</th>\n",
       "      <td>Tua Tagovailoa</td>\n",
       "      <td>7.0</td>\n",
       "      <td>0.00</td>\n",
       "      <td>0.00</td>\n",
       "      <td>0.00</td>\n",
       "      <td>0.00</td>\n",
       "      <td>1.00</td>\n",
       "    </tr>\n",
       "    <tr>\n",
       "      <th>1</th>\n",
       "      <td>Buccaneers D/ST</td>\n",
       "      <td>9.0</td>\n",
       "      <td>0.00</td>\n",
       "      <td>0.00</td>\n",
       "      <td>0.00</td>\n",
       "      <td>0.00</td>\n",
       "      <td>1.00</td>\n",
       "    </tr>\n",
       "    <tr>\n",
       "      <th>0</th>\n",
       "      <td>Amon-Ra St. Brown</td>\n",
       "      <td>6.0</td>\n",
       "      <td>10.82</td>\n",
       "      <td>13.01</td>\n",
       "      <td>12.80</td>\n",
       "      <td>-0.21</td>\n",
       "      <td>0.45</td>\n",
       "    </tr>\n",
       "    <tr>\n",
       "      <th>15</th>\n",
       "      <td>Rams D/ST</td>\n",
       "      <td>3.0</td>\n",
       "      <td>20.67</td>\n",
       "      <td>5.63</td>\n",
       "      <td>4.67</td>\n",
       "      <td>-0.96</td>\n",
       "      <td>0.67</td>\n",
       "    </tr>\n",
       "    <tr>\n",
       "      <th>12</th>\n",
       "      <td>Keenan Allen</td>\n",
       "      <td>6.0</td>\n",
       "      <td>15.64</td>\n",
       "      <td>3.61</td>\n",
       "      <td>2.37</td>\n",
       "      <td>-1.24</td>\n",
       "      <td>0.82</td>\n",
       "    </tr>\n",
       "    <tr>\n",
       "      <th>14</th>\n",
       "      <td>Matt Gay</td>\n",
       "      <td>3.0</td>\n",
       "      <td>13.40</td>\n",
       "      <td>8.37</td>\n",
       "      <td>6.80</td>\n",
       "      <td>-1.57</td>\n",
       "      <td>0.40</td>\n",
       "    </tr>\n",
       "    <tr>\n",
       "      <th>17</th>\n",
       "      <td>Saints D/ST</td>\n",
       "      <td>3.0</td>\n",
       "      <td>16.40</td>\n",
       "      <td>5.99</td>\n",
       "      <td>4.40</td>\n",
       "      <td>-1.59</td>\n",
       "      <td>0.20</td>\n",
       "    </tr>\n",
       "    <tr>\n",
       "      <th>2</th>\n",
       "      <td>Darrell Henderson Jr.</td>\n",
       "      <td>6.0</td>\n",
       "      <td>18.36</td>\n",
       "      <td>9.08</td>\n",
       "      <td>6.68</td>\n",
       "      <td>-2.40</td>\n",
       "      <td>0.36</td>\n",
       "    </tr>\n",
       "    <tr>\n",
       "      <th>16</th>\n",
       "      <td>Robbie Anderson</td>\n",
       "      <td>3.0</td>\n",
       "      <td>21.00</td>\n",
       "      <td>10.06</td>\n",
       "      <td>7.52</td>\n",
       "      <td>-2.54</td>\n",
       "      <td>0.20</td>\n",
       "    </tr>\n",
       "    <tr>\n",
       "      <th>13</th>\n",
       "      <td>Kyle Pitts</td>\n",
       "      <td>6.0</td>\n",
       "      <td>13.09</td>\n",
       "      <td>9.47</td>\n",
       "      <td>6.87</td>\n",
       "      <td>-2.60</td>\n",
       "      <td>0.36</td>\n",
       "    </tr>\n",
       "    <tr>\n",
       "      <th>5</th>\n",
       "      <td>Diontae Johnson</td>\n",
       "      <td>6.0</td>\n",
       "      <td>11.27</td>\n",
       "      <td>12.09</td>\n",
       "      <td>9.17</td>\n",
       "      <td>-2.92</td>\n",
       "      <td>0.18</td>\n",
       "    </tr>\n",
       "    <tr>\n",
       "      <th>20</th>\n",
       "      <td>Tyler Conklin</td>\n",
       "      <td>5.0</td>\n",
       "      <td>25.00</td>\n",
       "      <td>7.70</td>\n",
       "      <td>3.50</td>\n",
       "      <td>-4.20</td>\n",
       "      <td>0.00</td>\n",
       "    </tr>\n",
       "  </tbody>\n",
       "</table>\n",
       "</div>"
      ],
      "text/plain": [
       "                   Player  Week   Rank  Projected_Points  Actual_Points  \\\n",
       "6         Harrison Butker   6.0  27.00              7.45          14.00   \n",
       "18           Tony Pollard   6.0  14.18             10.50          14.85   \n",
       "9         Jamaal Williams   6.0  15.36             10.38          13.95   \n",
       "3         DeAndre Hopkins   6.0  19.27              7.05           9.61   \n",
       "4           Derrick Henry   6.0  17.09             16.41          18.46   \n",
       "7            Jahan Dotson   4.5  15.62              4.67           6.52   \n",
       "8             Jalen Hurts   6.0  18.00             21.12          21.84   \n",
       "10              Joe Mixon   6.0  14.27             16.07          16.45   \n",
       "11    JuJu Smith-Schuster   6.0  16.00             10.37          10.68   \n",
       "19         Tua Tagovailoa   7.0   0.00              0.00           0.00   \n",
       "1         Buccaneers D/ST   9.0   0.00              0.00           0.00   \n",
       "0       Amon-Ra St. Brown   6.0  10.82             13.01          12.80   \n",
       "15              Rams D/ST   3.0  20.67              5.63           4.67   \n",
       "12           Keenan Allen   6.0  15.64              3.61           2.37   \n",
       "14               Matt Gay   3.0  13.40              8.37           6.80   \n",
       "17            Saints D/ST   3.0  16.40              5.99           4.40   \n",
       "2   Darrell Henderson Jr.   6.0  18.36              9.08           6.68   \n",
       "16        Robbie Anderson   3.0  21.00             10.06           7.52   \n",
       "13             Kyle Pitts   6.0  13.09              9.47           6.87   \n",
       "5         Diontae Johnson   6.0  11.27             12.09           9.17   \n",
       "20          Tyler Conklin   5.0  25.00              7.70           3.50   \n",
       "\n",
       "    Point-Residuals  label  \n",
       "6              6.55   1.00  \n",
       "18             4.36   0.64  \n",
       "9              3.57   0.64  \n",
       "3              2.56   0.91  \n",
       "4              2.05   0.64  \n",
       "7              1.86   0.88  \n",
       "8              0.72   0.64  \n",
       "10             0.38   0.55  \n",
       "11             0.31   0.55  \n",
       "19             0.00   1.00  \n",
       "1              0.00   1.00  \n",
       "0             -0.21   0.45  \n",
       "15            -0.96   0.67  \n",
       "12            -1.24   0.82  \n",
       "14            -1.57   0.40  \n",
       "17            -1.59   0.20  \n",
       "2             -2.40   0.36  \n",
       "16            -2.54   0.20  \n",
       "13            -2.60   0.36  \n",
       "5             -2.92   0.18  \n",
       "20            -4.20   0.00  "
      ]
     },
     "execution_count": 54,
     "metadata": {},
     "output_type": "execute_result"
    }
   ],
   "source": [
    "merged_df[merged_df['Team'] == team].groupby(['Player'], as_index = False).mean().sort_values('Point-Residuals', ascending=False).round(2)"
   ]
  },
  {
   "cell_type": "code",
   "execution_count": 51,
   "metadata": {},
   "outputs": [],
   "source": [
    "def create_plot(dataframe, name):    \n",
    "    hovertemplate = \"Player: %{customdata[0]} <br>Actual Avg Points:%{customdata[1]}: <br>Projected Points: %{customdata[2]} <br>Point Residuals: %{customdata[3]}</br>\"\n",
    "    plot = px.scatter(dataframe, x = 'Actual_Points', y = 'Point-Residuals', color = 'Position', title = 'Projected vs. Distance from Expectation for ' + name, custom_data=['Player', 'Actual_Points','Projected_Points','Point-Residuals'], color_discrete_sequence=px.colors.qualitative.Dark24)\n",
    "    plot.update_layout(xaxis_title = 'Actual Avg Points', yaxis_title = 'Point Residuals', plot_bgcolor = 'grey')\n",
    "    plot.update_traces(hovertemplate = hovertemplate)\n",
    "    # plot.update_xaxes(showgrid = False)\n",
    "    # plot.update_yaxes(showgrid = False)\n",
    "    plot.add_hline(y=dataframe['Point-Residuals'].mean(), line_color = 'red')\n",
    "    # plot.add_hline(y=rb_df['Projected_Points'].mean(), line_color = 'yellow')\n",
    "    plot.write_html(\"Data/\" + name + \".html\")\n",
    "    plot.show()"
   ]
  },
  {
   "cell_type": "code",
   "execution_count": 49,
   "metadata": {},
   "outputs": [
    {
     "ename": "ValueError",
     "evalue": "Value of 'color' is not the name of a column in 'data_frame'. Expected one of ['Player', 'Week', 'Rank', 'Projected_Points', 'Actual_Points', 'Point-Residuals', 'label'] but received: Position",
     "output_type": "error",
     "traceback": [
      "\u001b[0;31m---------------------------------------------------------------------------\u001b[0m",
      "\u001b[0;31mValueError\u001b[0m                                Traceback (most recent call last)",
      "\u001b[1;32m/Users/jamesyang/Documents/GitHub/fantasyapi/box_scores.ipynb Cell 33\u001b[0m in \u001b[0;36m<cell line: 1>\u001b[0;34m()\u001b[0m\n\u001b[1;32m      <a href='vscode-notebook-cell:/Users/jamesyang/Documents/GitHub/fantasyapi/box_scores.ipynb#X50sZmlsZQ%3D%3D?line=0'>1</a>\u001b[0m \u001b[39mfor\u001b[39;00m team \u001b[39min\u001b[39;00m merged_df[\u001b[39m'\u001b[39m\u001b[39mTeam\u001b[39m\u001b[39m'\u001b[39m]\u001b[39m.\u001b[39munique():\n\u001b[1;32m      <a href='vscode-notebook-cell:/Users/jamesyang/Documents/GitHub/fantasyapi/box_scores.ipynb#X50sZmlsZQ%3D%3D?line=1'>2</a>\u001b[0m     temp_df \u001b[39m=\u001b[39m merged_df[merged_df[\u001b[39m'\u001b[39m\u001b[39mTeam\u001b[39m\u001b[39m'\u001b[39m] \u001b[39m==\u001b[39m team]\u001b[39m.\u001b[39mgroupby([\u001b[39m'\u001b[39m\u001b[39mPlayer\u001b[39m\u001b[39m'\u001b[39m], as_index \u001b[39m=\u001b[39m \u001b[39mFalse\u001b[39;00m)\u001b[39m.\u001b[39mmean()\u001b[39m.\u001b[39msort_values(\u001b[39m'\u001b[39m\u001b[39mPoint-Residuals\u001b[39m\u001b[39m'\u001b[39m, ascending\u001b[39m=\u001b[39m\u001b[39mFalse\u001b[39;00m)\u001b[39m.\u001b[39mround(\u001b[39m2\u001b[39m)\n\u001b[0;32m----> <a href='vscode-notebook-cell:/Users/jamesyang/Documents/GitHub/fantasyapi/box_scores.ipynb#X50sZmlsZQ%3D%3D?line=2'>3</a>\u001b[0m     create_plot(temp_df, team)\n",
      "\u001b[1;32m/Users/jamesyang/Documents/GitHub/fantasyapi/box_scores.ipynb Cell 33\u001b[0m in \u001b[0;36mcreate_plot\u001b[0;34m(dataframe, name)\u001b[0m\n\u001b[1;32m      <a href='vscode-notebook-cell:/Users/jamesyang/Documents/GitHub/fantasyapi/box_scores.ipynb#X50sZmlsZQ%3D%3D?line=0'>1</a>\u001b[0m \u001b[39mdef\u001b[39;00m \u001b[39mcreate_plot\u001b[39m(dataframe, name):    \n\u001b[1;32m      <a href='vscode-notebook-cell:/Users/jamesyang/Documents/GitHub/fantasyapi/box_scores.ipynb#X50sZmlsZQ%3D%3D?line=1'>2</a>\u001b[0m     hovertemplate \u001b[39m=\u001b[39m \u001b[39m\"\u001b[39m\u001b[39mPlayer: \u001b[39m\u001b[39m%\u001b[39m\u001b[39m{customdata[0]}\u001b[39;00m\u001b[39m <br>Actual Avg Points:\u001b[39m\u001b[39m%\u001b[39m\u001b[39m{customdata[1]}\u001b[39;00m\u001b[39m: <br>Projected Points: \u001b[39m\u001b[39m%\u001b[39m\u001b[39m{customdata[2]}\u001b[39;00m\u001b[39m <br>Point Residuals: \u001b[39m\u001b[39m%\u001b[39m\u001b[39m{customdata[3]}\u001b[39;00m\u001b[39m</br>\u001b[39m\u001b[39m\"\u001b[39m\n\u001b[0;32m----> <a href='vscode-notebook-cell:/Users/jamesyang/Documents/GitHub/fantasyapi/box_scores.ipynb#X50sZmlsZQ%3D%3D?line=2'>3</a>\u001b[0m     plot \u001b[39m=\u001b[39m px\u001b[39m.\u001b[39;49mscatter(dataframe, x \u001b[39m=\u001b[39;49m \u001b[39m'\u001b[39;49m\u001b[39mActual_Points\u001b[39;49m\u001b[39m'\u001b[39;49m, y \u001b[39m=\u001b[39;49m \u001b[39m'\u001b[39;49m\u001b[39mPoint-Residuals\u001b[39;49m\u001b[39m'\u001b[39;49m, color \u001b[39m=\u001b[39;49m \u001b[39m'\u001b[39;49m\u001b[39mPosition\u001b[39;49m\u001b[39m'\u001b[39;49m, title \u001b[39m=\u001b[39;49m \u001b[39m'\u001b[39;49m\u001b[39mProjected vs. Distance from Expectation for \u001b[39;49m\u001b[39m'\u001b[39;49m \u001b[39m+\u001b[39;49m name, custom_data\u001b[39m=\u001b[39;49m[\u001b[39m'\u001b[39;49m\u001b[39mPlayer\u001b[39;49m\u001b[39m'\u001b[39;49m, \u001b[39m'\u001b[39;49m\u001b[39mActual_Points\u001b[39;49m\u001b[39m'\u001b[39;49m,\u001b[39m'\u001b[39;49m\u001b[39mProjected_Points\u001b[39;49m\u001b[39m'\u001b[39;49m,\u001b[39m'\u001b[39;49m\u001b[39mPoint-Residuals\u001b[39;49m\u001b[39m'\u001b[39;49m], color_discrete_sequence\u001b[39m=\u001b[39;49mpx\u001b[39m.\u001b[39;49mcolors\u001b[39m.\u001b[39;49mqualitative\u001b[39m.\u001b[39;49mDark24)\n\u001b[1;32m      <a href='vscode-notebook-cell:/Users/jamesyang/Documents/GitHub/fantasyapi/box_scores.ipynb#X50sZmlsZQ%3D%3D?line=3'>4</a>\u001b[0m     plot\u001b[39m.\u001b[39mupdate_layout(xaxis_title \u001b[39m=\u001b[39m \u001b[39m'\u001b[39m\u001b[39mActual Avg Points\u001b[39m\u001b[39m'\u001b[39m, yaxis_title \u001b[39m=\u001b[39m \u001b[39m'\u001b[39m\u001b[39mPoint Residuals\u001b[39m\u001b[39m'\u001b[39m, plot_bgcolor \u001b[39m=\u001b[39m \u001b[39m'\u001b[39m\u001b[39mgrey\u001b[39m\u001b[39m'\u001b[39m)\n\u001b[1;32m      <a href='vscode-notebook-cell:/Users/jamesyang/Documents/GitHub/fantasyapi/box_scores.ipynb#X50sZmlsZQ%3D%3D?line=4'>5</a>\u001b[0m     plot\u001b[39m.\u001b[39mupdate_traces(hovertemplate \u001b[39m=\u001b[39m hovertemplate)\n",
      "File \u001b[0;32m~/opt/anaconda3/lib/python3.9/site-packages/plotly/express/_chart_types.py:66\u001b[0m, in \u001b[0;36mscatter\u001b[0;34m(data_frame, x, y, color, symbol, size, hover_name, hover_data, custom_data, text, facet_row, facet_col, facet_col_wrap, facet_row_spacing, facet_col_spacing, error_x, error_x_minus, error_y, error_y_minus, animation_frame, animation_group, category_orders, labels, orientation, color_discrete_sequence, color_discrete_map, color_continuous_scale, range_color, color_continuous_midpoint, symbol_sequence, symbol_map, opacity, size_max, marginal_x, marginal_y, trendline, trendline_options, trendline_color_override, trendline_scope, log_x, log_y, range_x, range_y, render_mode, title, template, width, height)\u001b[0m\n\u001b[1;32m     12\u001b[0m \u001b[39mdef\u001b[39;00m \u001b[39mscatter\u001b[39m(\n\u001b[1;32m     13\u001b[0m     data_frame\u001b[39m=\u001b[39m\u001b[39mNone\u001b[39;00m,\n\u001b[1;32m     14\u001b[0m     x\u001b[39m=\u001b[39m\u001b[39mNone\u001b[39;00m,\n\u001b[0;32m   (...)\u001b[0m\n\u001b[1;32m     60\u001b[0m     height\u001b[39m=\u001b[39m\u001b[39mNone\u001b[39;00m,\n\u001b[1;32m     61\u001b[0m ):\n\u001b[1;32m     62\u001b[0m     \u001b[39m\"\"\"\u001b[39;00m\n\u001b[1;32m     63\u001b[0m \u001b[39m    In a scatter plot, each row of `data_frame` is represented by a symbol\u001b[39;00m\n\u001b[1;32m     64\u001b[0m \u001b[39m    mark in 2D space.\u001b[39;00m\n\u001b[1;32m     65\u001b[0m \u001b[39m    \"\"\"\u001b[39;00m\n\u001b[0;32m---> 66\u001b[0m     \u001b[39mreturn\u001b[39;00m make_figure(args\u001b[39m=\u001b[39;49m\u001b[39mlocals\u001b[39;49m(), constructor\u001b[39m=\u001b[39;49mgo\u001b[39m.\u001b[39;49mScatter)\n",
      "File \u001b[0;32m~/opt/anaconda3/lib/python3.9/site-packages/plotly/express/_core.py:1945\u001b[0m, in \u001b[0;36mmake_figure\u001b[0;34m(args, constructor, trace_patch, layout_patch)\u001b[0m\n\u001b[1;32m   1942\u001b[0m layout_patch \u001b[39m=\u001b[39m layout_patch \u001b[39mor\u001b[39;00m {}\n\u001b[1;32m   1943\u001b[0m apply_default_cascade(args)\n\u001b[0;32m-> 1945\u001b[0m args \u001b[39m=\u001b[39m build_dataframe(args, constructor)\n\u001b[1;32m   1946\u001b[0m \u001b[39mif\u001b[39;00m constructor \u001b[39min\u001b[39;00m [go\u001b[39m.\u001b[39mTreemap, go\u001b[39m.\u001b[39mSunburst, go\u001b[39m.\u001b[39mIcicle] \u001b[39mand\u001b[39;00m args[\u001b[39m\"\u001b[39m\u001b[39mpath\u001b[39m\u001b[39m\"\u001b[39m] \u001b[39mis\u001b[39;00m \u001b[39mnot\u001b[39;00m \u001b[39mNone\u001b[39;00m:\n\u001b[1;32m   1947\u001b[0m     args \u001b[39m=\u001b[39m process_dataframe_hierarchy(args)\n",
      "File \u001b[0;32m~/opt/anaconda3/lib/python3.9/site-packages/plotly/express/_core.py:1405\u001b[0m, in \u001b[0;36mbuild_dataframe\u001b[0;34m(args, constructor)\u001b[0m\n\u001b[1;32m   1402\u001b[0m     args[\u001b[39m\"\u001b[39m\u001b[39mcolor\u001b[39m\u001b[39m\"\u001b[39m] \u001b[39m=\u001b[39m \u001b[39mNone\u001b[39;00m\n\u001b[1;32m   1403\u001b[0m \u001b[39m# now that things have been prepped, we do the systematic rewriting of `args`\u001b[39;00m\n\u001b[0;32m-> 1405\u001b[0m df_output, wide_id_vars \u001b[39m=\u001b[39m process_args_into_dataframe(\n\u001b[1;32m   1406\u001b[0m     args, wide_mode, var_name, value_name\n\u001b[1;32m   1407\u001b[0m )\n\u001b[1;32m   1409\u001b[0m \u001b[39m# now that `df_output` exists and `args` contains only references, we complete\u001b[39;00m\n\u001b[1;32m   1410\u001b[0m \u001b[39m# the special-case and wide-mode handling by further rewriting args and/or mutating\u001b[39;00m\n\u001b[1;32m   1411\u001b[0m \u001b[39m# df_output\u001b[39;00m\n\u001b[1;32m   1413\u001b[0m count_name \u001b[39m=\u001b[39m _escape_col_name(df_output, \u001b[39m\"\u001b[39m\u001b[39mcount\u001b[39m\u001b[39m\"\u001b[39m, [var_name, value_name])\n",
      "File \u001b[0;32m~/opt/anaconda3/lib/python3.9/site-packages/plotly/express/_core.py:1207\u001b[0m, in \u001b[0;36mprocess_args_into_dataframe\u001b[0;34m(args, wide_mode, var_name, value_name)\u001b[0m\n\u001b[1;32m   1205\u001b[0m         \u001b[39mif\u001b[39;00m argument \u001b[39m==\u001b[39m \u001b[39m\"\u001b[39m\u001b[39mindex\u001b[39m\u001b[39m\"\u001b[39m:\n\u001b[1;32m   1206\u001b[0m             err_msg \u001b[39m+\u001b[39m\u001b[39m=\u001b[39m \u001b[39m\"\u001b[39m\u001b[39m\\n\u001b[39;00m\u001b[39m To use the index, pass it in directly as `df.index`.\u001b[39m\u001b[39m\"\u001b[39m\n\u001b[0;32m-> 1207\u001b[0m         \u001b[39mraise\u001b[39;00m \u001b[39mValueError\u001b[39;00m(err_msg)\n\u001b[1;32m   1208\u001b[0m \u001b[39melif\u001b[39;00m length \u001b[39mand\u001b[39;00m \u001b[39mlen\u001b[39m(df_input[argument]) \u001b[39m!=\u001b[39m length:\n\u001b[1;32m   1209\u001b[0m     \u001b[39mraise\u001b[39;00m \u001b[39mValueError\u001b[39;00m(\n\u001b[1;32m   1210\u001b[0m         \u001b[39m\"\u001b[39m\u001b[39mAll arguments should have the same length. \u001b[39m\u001b[39m\"\u001b[39m\n\u001b[1;32m   1211\u001b[0m         \u001b[39m\"\u001b[39m\u001b[39mThe length of column argument `df[\u001b[39m\u001b[39m%s\u001b[39;00m\u001b[39m]` is \u001b[39m\u001b[39m%d\u001b[39;00m\u001b[39m, whereas the \u001b[39m\u001b[39m\"\u001b[39m\n\u001b[0;32m   (...)\u001b[0m\n\u001b[1;32m   1218\u001b[0m         )\n\u001b[1;32m   1219\u001b[0m     )\n",
      "\u001b[0;31mValueError\u001b[0m: Value of 'color' is not the name of a column in 'data_frame'. Expected one of ['Player', 'Week', 'Rank', 'Projected_Points', 'Actual_Points', 'Point-Residuals', 'label'] but received: Position"
     ]
    }
   ],
   "source": [
    "for team in merged_df['Team'].unique():\n",
    "    temp_df = merged_df[merged_df['Team'] == team].groupby(['Player'], as_index = False).mean().sort_values('Point-Residuals', ascending=False).round(2)\n",
    "    create_plot(temp_df, team)"
   ]
  },
  {
   "cell_type": "code",
   "execution_count": null,
   "metadata": {},
   "outputs": [],
   "source": []
  }
 ],
 "metadata": {
  "kernelspec": {
   "display_name": "Python 3.9.12 ('base')",
   "language": "python",
   "name": "python3"
  },
  "language_info": {
   "codemirror_mode": {
    "name": "ipython",
    "version": 3
   },
   "file_extension": ".py",
   "mimetype": "text/x-python",
   "name": "python",
   "nbconvert_exporter": "python",
   "pygments_lexer": "ipython3",
   "version": "3.9.12"
  },
  "orig_nbformat": 4,
  "vscode": {
   "interpreter": {
    "hash": "33a11755222a1f7d86ea2cf2f4dfdec365d04f7453605f968c7500575cda950b"
   }
  }
 },
 "nbformat": 4,
 "nbformat_minor": 2
}
