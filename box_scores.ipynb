{
 "cells": [
  {
   "cell_type": "code",
   "execution_count": 2,
   "metadata": {},
   "outputs": [],
   "source": [
    "from espn_api.football import League\n",
    "import pandas as pd\n",
    "import plotly.express as px\n",
    "import plotly.graph_objects as go\n",
    "# Init\n",
    "\n",
    "#fan's - 42936131\n",
    "#mine - 829963546\n",
    "league_id = 829963546\n",
    "year = 2022\n",
    "league = League(league_id=league_id, year=year)\n"
   ]
  },
  {
   "cell_type": "code",
   "execution_count": 3,
   "metadata": {},
   "outputs": [],
   "source": [
    "lineups = []\n",
    "teams = []\n",
    "projected = []\n",
    "for i in range(1, 12):\n",
    "    box_scores = league.box_scores(i)\n",
    "    for j in range(len(box_scores)):\n",
    "        lineups.append(box_scores[j].home_lineup)\n",
    "        teams.append(box_scores[j].home_team)\n",
    "        projected.append(box_scores[j].home_projected)\n",
    "\n",
    "        lineups.append(box_scores[j].away_lineup)\n",
    "        teams.append(box_scores[j].away_team)\n",
    "        projected.append(box_scores[j].away_projected)\n",
    "\n",
    "            \n",
    "            \n",
    "\n"
   ]
  },
  {
   "cell_type": "code",
   "execution_count": 4,
   "metadata": {},
   "outputs": [],
   "source": [
    "all_teams = pd.read_csv('Data/current_players.csv')\n"
   ]
  },
  {
   "cell_type": "code",
   "execution_count": 5,
   "metadata": {},
   "outputs": [
    {
     "data": {
      "text/html": [
       "<div>\n",
       "<style scoped>\n",
       "    .dataframe tbody tr th:only-of-type {\n",
       "        vertical-align: middle;\n",
       "    }\n",
       "\n",
       "    .dataframe tbody tr th {\n",
       "        vertical-align: top;\n",
       "    }\n",
       "\n",
       "    .dataframe thead th {\n",
       "        text-align: right;\n",
       "    }\n",
       "</style>\n",
       "<table border=\"1\" class=\"dataframe\">\n",
       "  <thead>\n",
       "    <tr style=\"text-align: right;\">\n",
       "      <th></th>\n",
       "      <th>Player</th>\n",
       "      <th>Projected_Points</th>\n",
       "      <th>Actual_Points</th>\n",
       "      <th>Rank</th>\n",
       "      <th>Position</th>\n",
       "    </tr>\n",
       "  </thead>\n",
       "  <tbody>\n",
       "    <tr>\n",
       "      <th>0</th>\n",
       "      <td>Derrick Henry</td>\n",
       "      <td>17.97</td>\n",
       "      <td>8.20</td>\n",
       "      <td>14</td>\n",
       "      <td>RB</td>\n",
       "    </tr>\n",
       "    <tr>\n",
       "      <th>214</th>\n",
       "      <td>Derrick Henry</td>\n",
       "      <td>17.03</td>\n",
       "      <td>8.50</td>\n",
       "      <td>10</td>\n",
       "      <td>RB</td>\n",
       "    </tr>\n",
       "    <tr>\n",
       "      <th>428</th>\n",
       "      <td>Derrick Henry</td>\n",
       "      <td>17.43</td>\n",
       "      <td>25.30</td>\n",
       "      <td>29</td>\n",
       "      <td>RB</td>\n",
       "    </tr>\n",
       "    <tr>\n",
       "      <th>593</th>\n",
       "      <td>Derrick Henry</td>\n",
       "      <td>16.36</td>\n",
       "      <td>23.70</td>\n",
       "      <td>16</td>\n",
       "      <td>RB</td>\n",
       "    </tr>\n",
       "    <tr>\n",
       "      <th>710</th>\n",
       "      <td>Derrick Henry</td>\n",
       "      <td>18.12</td>\n",
       "      <td>27.20</td>\n",
       "      <td>5</td>\n",
       "      <td>RB</td>\n",
       "    </tr>\n",
       "    <tr>\n",
       "      <th>976</th>\n",
       "      <td>Derrick Henry</td>\n",
       "      <td>0.00</td>\n",
       "      <td>0.00</td>\n",
       "      <td>0</td>\n",
       "      <td>RB</td>\n",
       "    </tr>\n",
       "    <tr>\n",
       "      <th>1092</th>\n",
       "      <td>Derrick Henry</td>\n",
       "      <td>18.96</td>\n",
       "      <td>16.80</td>\n",
       "      <td>16</td>\n",
       "      <td>RB</td>\n",
       "    </tr>\n",
       "    <tr>\n",
       "      <th>1242</th>\n",
       "      <td>Derrick Henry</td>\n",
       "      <td>19.58</td>\n",
       "      <td>35.80</td>\n",
       "      <td>32</td>\n",
       "      <td>RB</td>\n",
       "    </tr>\n",
       "    <tr>\n",
       "      <th>1358</th>\n",
       "      <td>Derrick Henry</td>\n",
       "      <td>20.02</td>\n",
       "      <td>23.50</td>\n",
       "      <td>25</td>\n",
       "      <td>RB</td>\n",
       "    </tr>\n",
       "    <tr>\n",
       "      <th>1492</th>\n",
       "      <td>Derrick Henry</td>\n",
       "      <td>17.55</td>\n",
       "      <td>8.70</td>\n",
       "      <td>13</td>\n",
       "      <td>RB</td>\n",
       "    </tr>\n",
       "    <tr>\n",
       "      <th>1694</th>\n",
       "      <td>Derrick Henry</td>\n",
       "      <td>17.52</td>\n",
       "      <td>25.36</td>\n",
       "      <td>22</td>\n",
       "      <td>RB</td>\n",
       "    </tr>\n",
       "  </tbody>\n",
       "</table>\n",
       "</div>"
      ],
      "text/plain": [
       "             Player  Projected_Points  Actual_Points  Rank Position\n",
       "0     Derrick Henry             17.97           8.20    14       RB\n",
       "214   Derrick Henry             17.03           8.50    10       RB\n",
       "428   Derrick Henry             17.43          25.30    29       RB\n",
       "593   Derrick Henry             16.36          23.70    16       RB\n",
       "710   Derrick Henry             18.12          27.20     5       RB\n",
       "976   Derrick Henry              0.00           0.00     0       RB\n",
       "1092  Derrick Henry             18.96          16.80    16       RB\n",
       "1242  Derrick Henry             19.58          35.80    32       RB\n",
       "1358  Derrick Henry             20.02          23.50    25       RB\n",
       "1492  Derrick Henry             17.55           8.70    13       RB\n",
       "1694  Derrick Henry             17.52          25.36    22       RB"
      ]
     },
     "execution_count": 5,
     "metadata": {},
     "output_type": "execute_result"
    }
   ],
   "source": [
    "all_players = pd.DataFrame()\n",
    "\n",
    "names = []\n",
    "project = []\n",
    "actual = []\n",
    "ranks = []\n",
    "position = []\n",
    "for players in lineups:\n",
    "    for player in players:\n",
    "        names.append(player.name)\n",
    "        project.append(player.projected_points)\n",
    "        actual.append(player.points)\n",
    "        ranks.append(player.pro_pos_rank)\n",
    "        position.append(player.position)\n",
    "        \n",
    "        \n",
    "all_players['Player'] = names\n",
    "all_players['Projected_Points'] = project\n",
    "all_players['Actual_Points'] = actual\n",
    "all_players['Rank'] = ranks\n",
    "all_players['Position'] = position\n",
    "all_players[all_players['Player'] == 'Derrick Henry']"
   ]
  },
  {
   "cell_type": "code",
   "execution_count": 6,
   "metadata": {},
   "outputs": [
    {
     "data": {
      "text/html": [
       "<div>\n",
       "<style scoped>\n",
       "    .dataframe tbody tr th:only-of-type {\n",
       "        vertical-align: middle;\n",
       "    }\n",
       "\n",
       "    .dataframe tbody tr th {\n",
       "        vertical-align: top;\n",
       "    }\n",
       "\n",
       "    .dataframe thead th {\n",
       "        text-align: right;\n",
       "    }\n",
       "</style>\n",
       "<table border=\"1\" class=\"dataframe\">\n",
       "  <thead>\n",
       "    <tr style=\"text-align: right;\">\n",
       "      <th></th>\n",
       "      <th>Unnamed: 0</th>\n",
       "      <th>Team</th>\n",
       "      <th>Player</th>\n",
       "      <th>Week</th>\n",
       "      <th>Rank</th>\n",
       "      <th>Expected_Points</th>\n",
       "      <th>Actual_Points</th>\n",
       "      <th>Difference</th>\n",
       "    </tr>\n",
       "  </thead>\n",
       "  <tbody>\n",
       "    <tr>\n",
       "      <th>0</th>\n",
       "      <td>0</td>\n",
       "      <td>I dont know what im doing</td>\n",
       "      <td>Leonard Fournette</td>\n",
       "      <td>1</td>\n",
       "      <td>12</td>\n",
       "      <td>258.74</td>\n",
       "      <td>154.7</td>\n",
       "      <td>-104.04</td>\n",
       "    </tr>\n",
       "    <tr>\n",
       "      <th>1</th>\n",
       "      <td>1</td>\n",
       "      <td>I dont know what im doing</td>\n",
       "      <td>Davante Adams</td>\n",
       "      <td>1</td>\n",
       "      <td>3</td>\n",
       "      <td>253.59</td>\n",
       "      <td>216.4</td>\n",
       "      <td>-37.19</td>\n",
       "    </tr>\n",
       "    <tr>\n",
       "      <th>2</th>\n",
       "      <td>2</td>\n",
       "      <td>I dont know what im doing</td>\n",
       "      <td>Mike Evans</td>\n",
       "      <td>1</td>\n",
       "      <td>20</td>\n",
       "      <td>223.32</td>\n",
       "      <td>134.1</td>\n",
       "      <td>-89.22</td>\n",
       "    </tr>\n",
       "    <tr>\n",
       "      <th>3</th>\n",
       "      <td>3</td>\n",
       "      <td>I dont know what im doing</td>\n",
       "      <td>Breece Hall</td>\n",
       "      <td>1</td>\n",
       "      <td>22</td>\n",
       "      <td>210.66</td>\n",
       "      <td>115.1</td>\n",
       "      <td>-95.56</td>\n",
       "    </tr>\n",
       "    <tr>\n",
       "      <th>4</th>\n",
       "      <td>4</td>\n",
       "      <td>I dont know what im doing</td>\n",
       "      <td>Brandin Cooks</td>\n",
       "      <td>1</td>\n",
       "      <td>49</td>\n",
       "      <td>215.10</td>\n",
       "      <td>91.6</td>\n",
       "      <td>-123.50</td>\n",
       "    </tr>\n",
       "    <tr>\n",
       "      <th>...</th>\n",
       "      <td>...</td>\n",
       "      <td>...</td>\n",
       "      <td>...</td>\n",
       "      <td>...</td>\n",
       "      <td>...</td>\n",
       "      <td>...</td>\n",
       "      <td>...</td>\n",
       "      <td>...</td>\n",
       "    </tr>\n",
       "    <tr>\n",
       "      <th>1984</th>\n",
       "      <td>1984</td>\n",
       "      <td>P-Town CASH KEVIN</td>\n",
       "      <td>Colts D/ST</td>\n",
       "      <td>12</td>\n",
       "      <td>12</td>\n",
       "      <td>108.70</td>\n",
       "      <td>66.0</td>\n",
       "      <td>-42.70</td>\n",
       "    </tr>\n",
       "    <tr>\n",
       "      <th>1985</th>\n",
       "      <td>1985</td>\n",
       "      <td>P-Town CASH KEVIN</td>\n",
       "      <td>Ryan Succop</td>\n",
       "      <td>12</td>\n",
       "      <td>7</td>\n",
       "      <td>130.21</td>\n",
       "      <td>88.0</td>\n",
       "      <td>-42.21</td>\n",
       "    </tr>\n",
       "    <tr>\n",
       "      <th>1986</th>\n",
       "      <td>1986</td>\n",
       "      <td>P-Town CASH KEVIN</td>\n",
       "      <td>Commanders D/ST</td>\n",
       "      <td>12</td>\n",
       "      <td>8</td>\n",
       "      <td>109.17</td>\n",
       "      <td>81.0</td>\n",
       "      <td>-28.17</td>\n",
       "    </tr>\n",
       "    <tr>\n",
       "      <th>1987</th>\n",
       "      <td>1987</td>\n",
       "      <td>P-Town CASH KEVIN</td>\n",
       "      <td>Darnell Mooney</td>\n",
       "      <td>12</td>\n",
       "      <td>41</td>\n",
       "      <td>212.18</td>\n",
       "      <td>101.5</td>\n",
       "      <td>-110.68</td>\n",
       "    </tr>\n",
       "    <tr>\n",
       "      <th>1988</th>\n",
       "      <td>1988</td>\n",
       "      <td>P-Town CASH KEVIN</td>\n",
       "      <td>Joshua Palmer</td>\n",
       "      <td>12</td>\n",
       "      <td>30</td>\n",
       "      <td>150.93</td>\n",
       "      <td>113.0</td>\n",
       "      <td>-37.93</td>\n",
       "    </tr>\n",
       "  </tbody>\n",
       "</table>\n",
       "<p>1989 rows × 8 columns</p>\n",
       "</div>"
      ],
      "text/plain": [
       "      Unnamed: 0                       Team             Player  Week  Rank  \\\n",
       "0              0  I dont know what im doing  Leonard Fournette     1    12   \n",
       "1              1  I dont know what im doing      Davante Adams     1     3   \n",
       "2              2  I dont know what im doing         Mike Evans     1    20   \n",
       "3              3  I dont know what im doing        Breece Hall     1    22   \n",
       "4              4  I dont know what im doing      Brandin Cooks     1    49   \n",
       "...          ...                        ...                ...   ...   ...   \n",
       "1984        1984          P-Town CASH KEVIN         Colts D/ST    12    12   \n",
       "1985        1985          P-Town CASH KEVIN        Ryan Succop    12     7   \n",
       "1986        1986          P-Town CASH KEVIN    Commanders D/ST    12     8   \n",
       "1987        1987          P-Town CASH KEVIN     Darnell Mooney    12    41   \n",
       "1988        1988          P-Town CASH KEVIN      Joshua Palmer    12    30   \n",
       "\n",
       "      Expected_Points  Actual_Points  Difference  \n",
       "0              258.74          154.7     -104.04  \n",
       "1              253.59          216.4      -37.19  \n",
       "2              223.32          134.1      -89.22  \n",
       "3              210.66          115.1      -95.56  \n",
       "4              215.10           91.6     -123.50  \n",
       "...               ...            ...         ...  \n",
       "1984           108.70           66.0      -42.70  \n",
       "1985           130.21           88.0      -42.21  \n",
       "1986           109.17           81.0      -28.17  \n",
       "1987           212.18          101.5     -110.68  \n",
       "1988           150.93          113.0      -37.93  \n",
       "\n",
       "[1989 rows x 8 columns]"
      ]
     },
     "execution_count": 6,
     "metadata": {},
     "output_type": "execute_result"
    }
   ],
   "source": [
    "all_teams\n"
   ]
  },
  {
   "cell_type": "code",
   "execution_count": 7,
   "metadata": {},
   "outputs": [
    {
     "data": {
      "text/html": [
       "<div>\n",
       "<style scoped>\n",
       "    .dataframe tbody tr th:only-of-type {\n",
       "        vertical-align: middle;\n",
       "    }\n",
       "\n",
       "    .dataframe tbody tr th {\n",
       "        vertical-align: top;\n",
       "    }\n",
       "\n",
       "    .dataframe thead th {\n",
       "        text-align: right;\n",
       "    }\n",
       "</style>\n",
       "<table border=\"1\" class=\"dataframe\">\n",
       "  <thead>\n",
       "    <tr style=\"text-align: right;\">\n",
       "      <th></th>\n",
       "      <th>Week</th>\n",
       "      <th>Player</th>\n",
       "      <th>Projected_Points</th>\n",
       "      <th>Actual_Points</th>\n",
       "      <th>Rank</th>\n",
       "      <th>Position</th>\n",
       "    </tr>\n",
       "  </thead>\n",
       "  <tbody>\n",
       "    <tr>\n",
       "      <th>0</th>\n",
       "      <td>1</td>\n",
       "      <td>Derrick Henry</td>\n",
       "      <td>17.97</td>\n",
       "      <td>8.2</td>\n",
       "      <td>14</td>\n",
       "      <td>RB</td>\n",
       "    </tr>\n",
       "    <tr>\n",
       "      <th>214</th>\n",
       "      <td>2</td>\n",
       "      <td>Derrick Henry</td>\n",
       "      <td>17.03</td>\n",
       "      <td>8.5</td>\n",
       "      <td>10</td>\n",
       "      <td>RB</td>\n",
       "    </tr>\n",
       "    <tr>\n",
       "      <th>428</th>\n",
       "      <td>3</td>\n",
       "      <td>Derrick Henry</td>\n",
       "      <td>17.43</td>\n",
       "      <td>25.3</td>\n",
       "      <td>29</td>\n",
       "      <td>RB</td>\n",
       "    </tr>\n",
       "    <tr>\n",
       "      <th>593</th>\n",
       "      <td>4</td>\n",
       "      <td>Derrick Henry</td>\n",
       "      <td>16.36</td>\n",
       "      <td>23.7</td>\n",
       "      <td>16</td>\n",
       "      <td>RB</td>\n",
       "    </tr>\n",
       "    <tr>\n",
       "      <th>710</th>\n",
       "      <td>5</td>\n",
       "      <td>Derrick Henry</td>\n",
       "      <td>18.12</td>\n",
       "      <td>27.2</td>\n",
       "      <td>5</td>\n",
       "      <td>RB</td>\n",
       "    </tr>\n",
       "    <tr>\n",
       "      <th>...</th>\n",
       "      <td>...</td>\n",
       "      <td>...</td>\n",
       "      <td>...</td>\n",
       "      <td>...</td>\n",
       "      <td>...</td>\n",
       "      <td>...</td>\n",
       "    </tr>\n",
       "    <tr>\n",
       "      <th>1250</th>\n",
       "      <td>8</td>\n",
       "      <td>Tony Pollard</td>\n",
       "      <td>16.52</td>\n",
       "      <td>33.7</td>\n",
       "      <td>28</td>\n",
       "      <td>RB</td>\n",
       "    </tr>\n",
       "    <tr>\n",
       "      <th>1366</th>\n",
       "      <td>9</td>\n",
       "      <td>Tony Pollard</td>\n",
       "      <td>0.00</td>\n",
       "      <td>0.0</td>\n",
       "      <td>0</td>\n",
       "      <td>RB</td>\n",
       "    </tr>\n",
       "    <tr>\n",
       "      <th>1500</th>\n",
       "      <td>10</td>\n",
       "      <td>Tony Pollard</td>\n",
       "      <td>15.53</td>\n",
       "      <td>21.8</td>\n",
       "      <td>22</td>\n",
       "      <td>RB</td>\n",
       "    </tr>\n",
       "    <tr>\n",
       "      <th>1702</th>\n",
       "      <td>11</td>\n",
       "      <td>Tony Pollard</td>\n",
       "      <td>10.45</td>\n",
       "      <td>36.9</td>\n",
       "      <td>23</td>\n",
       "      <td>RB</td>\n",
       "    </tr>\n",
       "    <tr>\n",
       "      <th>9</th>\n",
       "      <td>1</td>\n",
       "      <td>DeAndre Hopkins</td>\n",
       "      <td>0.00</td>\n",
       "      <td>0.0</td>\n",
       "      <td>29</td>\n",
       "      <td>WR</td>\n",
       "    </tr>\n",
       "  </tbody>\n",
       "</table>\n",
       "<p>100 rows × 6 columns</p>\n",
       "</div>"
      ],
      "text/plain": [
       "      Week           Player  Projected_Points  Actual_Points  Rank Position\n",
       "0        1    Derrick Henry             17.97            8.2    14       RB\n",
       "214      2    Derrick Henry             17.03            8.5    10       RB\n",
       "428      3    Derrick Henry             17.43           25.3    29       RB\n",
       "593      4    Derrick Henry             16.36           23.7    16       RB\n",
       "710      5    Derrick Henry             18.12           27.2     5       RB\n",
       "...    ...              ...               ...            ...   ...      ...\n",
       "1250     8     Tony Pollard             16.52           33.7    28       RB\n",
       "1366     9     Tony Pollard              0.00            0.0     0       RB\n",
       "1500    10     Tony Pollard             15.53           21.8    22       RB\n",
       "1702    11     Tony Pollard             10.45           36.9    23       RB\n",
       "9        1  DeAndre Hopkins              0.00            0.0    29       WR\n",
       "\n",
       "[100 rows x 6 columns]"
      ]
     },
     "execution_count": 7,
     "metadata": {},
     "output_type": "execute_result"
    }
   ],
   "source": [
    "total_df = pd.DataFrame()\n",
    "for player in all_players['Player'].unique():\n",
    "    df = all_players[all_players['Player'] == player]\n",
    "    df.insert(0, 'Week', range(1, 1 + len(all_players[all_players['Player'] == player])))\n",
    "    total_df = pd.concat([total_df, df])\n",
    "total_df.head(100)"
   ]
  },
  {
   "cell_type": "code",
   "execution_count": 8,
   "metadata": {},
   "outputs": [
    {
     "data": {
      "text/html": [
       "<div>\n",
       "<style scoped>\n",
       "    .dataframe tbody tr th:only-of-type {\n",
       "        vertical-align: middle;\n",
       "    }\n",
       "\n",
       "    .dataframe tbody tr th {\n",
       "        vertical-align: top;\n",
       "    }\n",
       "\n",
       "    .dataframe thead th {\n",
       "        text-align: right;\n",
       "    }\n",
       "</style>\n",
       "<table border=\"1\" class=\"dataframe\">\n",
       "  <thead>\n",
       "    <tr style=\"text-align: right;\">\n",
       "      <th></th>\n",
       "      <th>Week</th>\n",
       "      <th>Player</th>\n",
       "      <th>Projected_Points</th>\n",
       "      <th>Actual_Points_x</th>\n",
       "      <th>Rank_x</th>\n",
       "      <th>Position</th>\n",
       "      <th>Unnamed: 0</th>\n",
       "      <th>Team</th>\n",
       "      <th>Rank_y</th>\n",
       "      <th>Expected_Points</th>\n",
       "      <th>Actual_Points_y</th>\n",
       "      <th>Difference</th>\n",
       "    </tr>\n",
       "  </thead>\n",
       "  <tbody>\n",
       "    <tr>\n",
       "      <th>0</th>\n",
       "      <td>1</td>\n",
       "      <td>Derrick Henry</td>\n",
       "      <td>17.97</td>\n",
       "      <td>8.2</td>\n",
       "      <td>14</td>\n",
       "      <td>RB</td>\n",
       "      <td>65</td>\n",
       "      <td>Gorilla Guys</td>\n",
       "      <td>2</td>\n",
       "      <td>264.47</td>\n",
       "      <td>203.06</td>\n",
       "      <td>-61.41</td>\n",
       "    </tr>\n",
       "    <tr>\n",
       "      <th>1</th>\n",
       "      <td>2</td>\n",
       "      <td>Derrick Henry</td>\n",
       "      <td>17.03</td>\n",
       "      <td>8.5</td>\n",
       "      <td>10</td>\n",
       "      <td>RB</td>\n",
       "      <td>229</td>\n",
       "      <td>Gorilla Guys</td>\n",
       "      <td>2</td>\n",
       "      <td>264.47</td>\n",
       "      <td>203.06</td>\n",
       "      <td>-61.41</td>\n",
       "    </tr>\n",
       "    <tr>\n",
       "      <th>2</th>\n",
       "      <td>3</td>\n",
       "      <td>Derrick Henry</td>\n",
       "      <td>17.43</td>\n",
       "      <td>25.3</td>\n",
       "      <td>29</td>\n",
       "      <td>RB</td>\n",
       "      <td>395</td>\n",
       "      <td>Gorilla Guys</td>\n",
       "      <td>2</td>\n",
       "      <td>264.47</td>\n",
       "      <td>203.06</td>\n",
       "      <td>-61.41</td>\n",
       "    </tr>\n",
       "    <tr>\n",
       "      <th>3</th>\n",
       "      <td>4</td>\n",
       "      <td>Derrick Henry</td>\n",
       "      <td>16.36</td>\n",
       "      <td>23.7</td>\n",
       "      <td>16</td>\n",
       "      <td>RB</td>\n",
       "      <td>561</td>\n",
       "      <td>Gorilla Guys</td>\n",
       "      <td>2</td>\n",
       "      <td>264.47</td>\n",
       "      <td>203.06</td>\n",
       "      <td>-61.41</td>\n",
       "    </tr>\n",
       "    <tr>\n",
       "      <th>4</th>\n",
       "      <td>5</td>\n",
       "      <td>Derrick Henry</td>\n",
       "      <td>18.12</td>\n",
       "      <td>27.2</td>\n",
       "      <td>5</td>\n",
       "      <td>RB</td>\n",
       "      <td>726</td>\n",
       "      <td>Gorilla Guys</td>\n",
       "      <td>2</td>\n",
       "      <td>264.47</td>\n",
       "      <td>203.06</td>\n",
       "      <td>-61.41</td>\n",
       "    </tr>\n",
       "    <tr>\n",
       "      <th>...</th>\n",
       "      <td>...</td>\n",
       "      <td>...</td>\n",
       "      <td>...</td>\n",
       "      <td>...</td>\n",
       "      <td>...</td>\n",
       "      <td>...</td>\n",
       "      <td>...</td>\n",
       "      <td>...</td>\n",
       "      <td>...</td>\n",
       "      <td>...</td>\n",
       "      <td>...</td>\n",
       "      <td>...</td>\n",
       "    </tr>\n",
       "    <tr>\n",
       "      <th>1468</th>\n",
       "      <td>2</td>\n",
       "      <td>Rams D/ST</td>\n",
       "      <td>4.14</td>\n",
       "      <td>4.0</td>\n",
       "      <td>19</td>\n",
       "      <td>D/ST</td>\n",
       "      <td>245</td>\n",
       "      <td>Gorilla Guys</td>\n",
       "      <td>20</td>\n",
       "      <td>82.21</td>\n",
       "      <td>50.00</td>\n",
       "      <td>-32.21</td>\n",
       "    </tr>\n",
       "    <tr>\n",
       "      <th>1469</th>\n",
       "      <td>3</td>\n",
       "      <td>Rams D/ST</td>\n",
       "      <td>5.21</td>\n",
       "      <td>0.0</td>\n",
       "      <td>16</td>\n",
       "      <td>D/ST</td>\n",
       "      <td>411</td>\n",
       "      <td>Gorilla Guys</td>\n",
       "      <td>20</td>\n",
       "      <td>82.21</td>\n",
       "      <td>50.00</td>\n",
       "      <td>-32.21</td>\n",
       "    </tr>\n",
       "    <tr>\n",
       "      <th>1470</th>\n",
       "      <td>4</td>\n",
       "      <td>Rams D/ST</td>\n",
       "      <td>7.53</td>\n",
       "      <td>10.0</td>\n",
       "      <td>28</td>\n",
       "      <td>D/ST</td>\n",
       "      <td>577</td>\n",
       "      <td>Gorilla Guys</td>\n",
       "      <td>20</td>\n",
       "      <td>82.21</td>\n",
       "      <td>50.00</td>\n",
       "      <td>-32.21</td>\n",
       "    </tr>\n",
       "    <tr>\n",
       "      <th>1499</th>\n",
       "      <td>7</td>\n",
       "      <td>Tua Tagovailoa</td>\n",
       "      <td>0.00</td>\n",
       "      <td>0.0</td>\n",
       "      <td>0</td>\n",
       "      <td>QB</td>\n",
       "      <td>1076</td>\n",
       "      <td>Gorilla Guys</td>\n",
       "      <td>14</td>\n",
       "      <td>271.03</td>\n",
       "      <td>160.10</td>\n",
       "      <td>-110.93</td>\n",
       "    </tr>\n",
       "    <tr>\n",
       "      <th>1538</th>\n",
       "      <td>5</td>\n",
       "      <td>Tyler Conklin</td>\n",
       "      <td>7.70</td>\n",
       "      <td>3.5</td>\n",
       "      <td>24</td>\n",
       "      <td>TE</td>\n",
       "      <td>742</td>\n",
       "      <td>Gorilla Guys</td>\n",
       "      <td>12</td>\n",
       "      <td>86.00</td>\n",
       "      <td>86.20</td>\n",
       "      <td>0.20</td>\n",
       "    </tr>\n",
       "  </tbody>\n",
       "</table>\n",
       "<p>162 rows × 12 columns</p>\n",
       "</div>"
      ],
      "text/plain": [
       "      Week          Player  Projected_Points  Actual_Points_x  Rank_x  \\\n",
       "0        1   Derrick Henry             17.97              8.2      14   \n",
       "1        2   Derrick Henry             17.03              8.5      10   \n",
       "2        3   Derrick Henry             17.43             25.3      29   \n",
       "3        4   Derrick Henry             16.36             23.7      16   \n",
       "4        5   Derrick Henry             18.12             27.2       5   \n",
       "...    ...             ...               ...              ...     ...   \n",
       "1468     2       Rams D/ST              4.14              4.0      19   \n",
       "1469     3       Rams D/ST              5.21              0.0      16   \n",
       "1470     4       Rams D/ST              7.53             10.0      28   \n",
       "1499     7  Tua Tagovailoa              0.00              0.0       0   \n",
       "1538     5   Tyler Conklin              7.70              3.5      24   \n",
       "\n",
       "     Position  Unnamed: 0          Team  Rank_y  Expected_Points  \\\n",
       "0          RB          65  Gorilla Guys       2           264.47   \n",
       "1          RB         229  Gorilla Guys       2           264.47   \n",
       "2          RB         395  Gorilla Guys       2           264.47   \n",
       "3          RB         561  Gorilla Guys       2           264.47   \n",
       "4          RB         726  Gorilla Guys       2           264.47   \n",
       "...       ...         ...           ...     ...              ...   \n",
       "1468     D/ST         245  Gorilla Guys      20            82.21   \n",
       "1469     D/ST         411  Gorilla Guys      20            82.21   \n",
       "1470     D/ST         577  Gorilla Guys      20            82.21   \n",
       "1499       QB        1076  Gorilla Guys      14           271.03   \n",
       "1538       TE         742  Gorilla Guys      12            86.00   \n",
       "\n",
       "      Actual_Points_y  Difference  \n",
       "0              203.06      -61.41  \n",
       "1              203.06      -61.41  \n",
       "2              203.06      -61.41  \n",
       "3              203.06      -61.41  \n",
       "4              203.06      -61.41  \n",
       "...               ...         ...  \n",
       "1468            50.00      -32.21  \n",
       "1469            50.00      -32.21  \n",
       "1470            50.00      -32.21  \n",
       "1499           160.10     -110.93  \n",
       "1538            86.20        0.20  \n",
       "\n",
       "[162 rows x 12 columns]"
      ]
     },
     "execution_count": 8,
     "metadata": {},
     "output_type": "execute_result"
    }
   ],
   "source": [
    "merged_df = pd.merge(total_df, all_teams, on=['Week', 'Player'])\n",
    "merged_df[merged_df['Team'] == 'Gorilla Guys']"
   ]
  },
  {
   "cell_type": "code",
   "execution_count": 9,
   "metadata": {},
   "outputs": [
    {
     "data": {
      "text/html": [
       "<div>\n",
       "<style scoped>\n",
       "    .dataframe tbody tr th:only-of-type {\n",
       "        vertical-align: middle;\n",
       "    }\n",
       "\n",
       "    .dataframe tbody tr th {\n",
       "        vertical-align: top;\n",
       "    }\n",
       "\n",
       "    .dataframe thead th {\n",
       "        text-align: right;\n",
       "    }\n",
       "</style>\n",
       "<table border=\"1\" class=\"dataframe\">\n",
       "  <thead>\n",
       "    <tr style=\"text-align: right;\">\n",
       "      <th></th>\n",
       "      <th>Week</th>\n",
       "      <th>Player</th>\n",
       "      <th>Projected_Points</th>\n",
       "      <th>Actual_Points</th>\n",
       "      <th>Rank</th>\n",
       "      <th>Position</th>\n",
       "      <th>Unnamed: 0</th>\n",
       "      <th>Team</th>\n",
       "      <th>Rank_y</th>\n",
       "      <th>Expected_Points</th>\n",
       "      <th>Actual_Points_y</th>\n",
       "      <th>Difference</th>\n",
       "    </tr>\n",
       "  </thead>\n",
       "  <tbody>\n",
       "    <tr>\n",
       "      <th>0</th>\n",
       "      <td>1</td>\n",
       "      <td>Derrick Henry</td>\n",
       "      <td>17.97</td>\n",
       "      <td>8.2</td>\n",
       "      <td>14</td>\n",
       "      <td>RB</td>\n",
       "      <td>65</td>\n",
       "      <td>Gorilla Guys</td>\n",
       "      <td>2</td>\n",
       "      <td>264.47</td>\n",
       "      <td>203.06</td>\n",
       "      <td>-61.41</td>\n",
       "    </tr>\n",
       "    <tr>\n",
       "      <th>1</th>\n",
       "      <td>2</td>\n",
       "      <td>Derrick Henry</td>\n",
       "      <td>17.03</td>\n",
       "      <td>8.5</td>\n",
       "      <td>10</td>\n",
       "      <td>RB</td>\n",
       "      <td>229</td>\n",
       "      <td>Gorilla Guys</td>\n",
       "      <td>2</td>\n",
       "      <td>264.47</td>\n",
       "      <td>203.06</td>\n",
       "      <td>-61.41</td>\n",
       "    </tr>\n",
       "    <tr>\n",
       "      <th>2</th>\n",
       "      <td>3</td>\n",
       "      <td>Derrick Henry</td>\n",
       "      <td>17.43</td>\n",
       "      <td>25.3</td>\n",
       "      <td>29</td>\n",
       "      <td>RB</td>\n",
       "      <td>395</td>\n",
       "      <td>Gorilla Guys</td>\n",
       "      <td>2</td>\n",
       "      <td>264.47</td>\n",
       "      <td>203.06</td>\n",
       "      <td>-61.41</td>\n",
       "    </tr>\n",
       "    <tr>\n",
       "      <th>3</th>\n",
       "      <td>4</td>\n",
       "      <td>Derrick Henry</td>\n",
       "      <td>16.36</td>\n",
       "      <td>23.7</td>\n",
       "      <td>16</td>\n",
       "      <td>RB</td>\n",
       "      <td>561</td>\n",
       "      <td>Gorilla Guys</td>\n",
       "      <td>2</td>\n",
       "      <td>264.47</td>\n",
       "      <td>203.06</td>\n",
       "      <td>-61.41</td>\n",
       "    </tr>\n",
       "    <tr>\n",
       "      <th>4</th>\n",
       "      <td>5</td>\n",
       "      <td>Derrick Henry</td>\n",
       "      <td>18.12</td>\n",
       "      <td>27.2</td>\n",
       "      <td>5</td>\n",
       "      <td>RB</td>\n",
       "      <td>726</td>\n",
       "      <td>Gorilla Guys</td>\n",
       "      <td>2</td>\n",
       "      <td>264.47</td>\n",
       "      <td>203.06</td>\n",
       "      <td>-61.41</td>\n",
       "    </tr>\n",
       "    <tr>\n",
       "      <th>...</th>\n",
       "      <td>...</td>\n",
       "      <td>...</td>\n",
       "      <td>...</td>\n",
       "      <td>...</td>\n",
       "      <td>...</td>\n",
       "      <td>...</td>\n",
       "      <td>...</td>\n",
       "      <td>...</td>\n",
       "      <td>...</td>\n",
       "      <td>...</td>\n",
       "      <td>...</td>\n",
       "      <td>...</td>\n",
       "    </tr>\n",
       "    <tr>\n",
       "      <th>1551</th>\n",
       "      <td>6</td>\n",
       "      <td>Broncos D/ST</td>\n",
       "      <td>6.26</td>\n",
       "      <td>4.0</td>\n",
       "      <td>20</td>\n",
       "      <td>D/ST</td>\n",
       "      <td>871</td>\n",
       "      <td>Cougar Town Zach Wilson</td>\n",
       "      <td>11</td>\n",
       "      <td>86.80</td>\n",
       "      <td>67.00</td>\n",
       "      <td>-19.80</td>\n",
       "    </tr>\n",
       "    <tr>\n",
       "      <th>1552</th>\n",
       "      <td>7</td>\n",
       "      <td>Broncos D/ST</td>\n",
       "      <td>5.42</td>\n",
       "      <td>-2.0</td>\n",
       "      <td>8</td>\n",
       "      <td>D/ST</td>\n",
       "      <td>1037</td>\n",
       "      <td>Cougar Town Zach Wilson</td>\n",
       "      <td>11</td>\n",
       "      <td>86.80</td>\n",
       "      <td>67.00</td>\n",
       "      <td>-19.80</td>\n",
       "    </tr>\n",
       "    <tr>\n",
       "      <th>1553</th>\n",
       "      <td>5</td>\n",
       "      <td>Isiah Pacheco</td>\n",
       "      <td>8.94</td>\n",
       "      <td>10.7</td>\n",
       "      <td>30</td>\n",
       "      <td>RB</td>\n",
       "      <td>759</td>\n",
       "      <td>My Team  A Bust</td>\n",
       "      <td>58</td>\n",
       "      <td>66.30</td>\n",
       "      <td>46.90</td>\n",
       "      <td>-19.40</td>\n",
       "    </tr>\n",
       "    <tr>\n",
       "      <th>1554</th>\n",
       "      <td>6</td>\n",
       "      <td>Eno Benjamin</td>\n",
       "      <td>0.00</td>\n",
       "      <td>0.0</td>\n",
       "      <td>5</td>\n",
       "      <td>RB</td>\n",
       "      <td>926</td>\n",
       "      <td>My Team  A Bust</td>\n",
       "      <td>37</td>\n",
       "      <td>64.37</td>\n",
       "      <td>86.30</td>\n",
       "      <td>21.93</td>\n",
       "    </tr>\n",
       "    <tr>\n",
       "      <th>1555</th>\n",
       "      <td>6</td>\n",
       "      <td>Josh Reynolds</td>\n",
       "      <td>0.00</td>\n",
       "      <td>0.0</td>\n",
       "      <td>6</td>\n",
       "      <td>WR</td>\n",
       "      <td>992</td>\n",
       "      <td>P-Town CASH KEVIN</td>\n",
       "      <td>61</td>\n",
       "      <td>58.02</td>\n",
       "      <td>73.70</td>\n",
       "      <td>15.68</td>\n",
       "    </tr>\n",
       "  </tbody>\n",
       "</table>\n",
       "<p>1556 rows × 12 columns</p>\n",
       "</div>"
      ],
      "text/plain": [
       "      Week         Player  Projected_Points  Actual_Points  Rank Position  \\\n",
       "0        1  Derrick Henry             17.97            8.2    14       RB   \n",
       "1        2  Derrick Henry             17.03            8.5    10       RB   \n",
       "2        3  Derrick Henry             17.43           25.3    29       RB   \n",
       "3        4  Derrick Henry             16.36           23.7    16       RB   \n",
       "4        5  Derrick Henry             18.12           27.2     5       RB   \n",
       "...    ...            ...               ...            ...   ...      ...   \n",
       "1551     6   Broncos D/ST              6.26            4.0    20     D/ST   \n",
       "1552     7   Broncos D/ST              5.42           -2.0     8     D/ST   \n",
       "1553     5  Isiah Pacheco              8.94           10.7    30       RB   \n",
       "1554     6   Eno Benjamin              0.00            0.0     5       RB   \n",
       "1555     6  Josh Reynolds              0.00            0.0     6       WR   \n",
       "\n",
       "      Unnamed: 0                     Team  Rank_y  Expected_Points  \\\n",
       "0             65             Gorilla Guys       2           264.47   \n",
       "1            229             Gorilla Guys       2           264.47   \n",
       "2            395             Gorilla Guys       2           264.47   \n",
       "3            561             Gorilla Guys       2           264.47   \n",
       "4            726             Gorilla Guys       2           264.47   \n",
       "...          ...                      ...     ...              ...   \n",
       "1551         871  Cougar Town Zach Wilson      11            86.80   \n",
       "1552        1037  Cougar Town Zach Wilson      11            86.80   \n",
       "1553         759          My Team  A Bust      58            66.30   \n",
       "1554         926          My Team  A Bust      37            64.37   \n",
       "1555         992        P-Town CASH KEVIN      61            58.02   \n",
       "\n",
       "      Actual_Points_y  Difference  \n",
       "0              203.06      -61.41  \n",
       "1              203.06      -61.41  \n",
       "2              203.06      -61.41  \n",
       "3              203.06      -61.41  \n",
       "4              203.06      -61.41  \n",
       "...               ...         ...  \n",
       "1551            67.00      -19.80  \n",
       "1552            67.00      -19.80  \n",
       "1553            46.90      -19.40  \n",
       "1554            86.30       21.93  \n",
       "1555            73.70       15.68  \n",
       "\n",
       "[1556 rows x 12 columns]"
      ]
     },
     "execution_count": 9,
     "metadata": {},
     "output_type": "execute_result"
    }
   ],
   "source": [
    "merged_df = merged_df.rename(columns={\"Rank_x\": \"Rank\", \"Actual_Points_x\": \"Actual_Points\"})\n",
    "merged_df"
   ]
  },
  {
   "cell_type": "code",
   "execution_count": 10,
   "metadata": {},
   "outputs": [],
   "source": [
    "merged_df = merged_df[['Team', 'Player', 'Week', 'Rank', 'Projected_Points', 'Actual_Points', 'Position']]\n"
   ]
  },
  {
   "cell_type": "code",
   "execution_count": 11,
   "metadata": {},
   "outputs": [
    {
     "name": "stderr",
     "output_type": "stream",
     "text": [
      "/var/folders/h4/6452mjq15618sb_49rqm1mkw0000gn/T/ipykernel_30045/98493879.py:1: SettingWithCopyWarning: \n",
      "A value is trying to be set on a copy of a slice from a DataFrame.\n",
      "Try using .loc[row_indexer,col_indexer] = value instead\n",
      "\n",
      "See the caveats in the documentation: https://pandas.pydata.org/pandas-docs/stable/user_guide/indexing.html#returning-a-view-versus-a-copy\n",
      "  merged_df['Point-Residuals'] = merged_df['Actual_Points'] - merged_df['Projected_Points']\n"
     ]
    },
    {
     "data": {
      "text/html": [
       "<div>\n",
       "<style scoped>\n",
       "    .dataframe tbody tr th:only-of-type {\n",
       "        vertical-align: middle;\n",
       "    }\n",
       "\n",
       "    .dataframe tbody tr th {\n",
       "        vertical-align: top;\n",
       "    }\n",
       "\n",
       "    .dataframe thead th {\n",
       "        text-align: right;\n",
       "    }\n",
       "</style>\n",
       "<table border=\"1\" class=\"dataframe\">\n",
       "  <thead>\n",
       "    <tr style=\"text-align: right;\">\n",
       "      <th></th>\n",
       "      <th>Team</th>\n",
       "      <th>Player</th>\n",
       "      <th>Week</th>\n",
       "      <th>Rank</th>\n",
       "      <th>Projected_Points</th>\n",
       "      <th>Actual_Points</th>\n",
       "      <th>Position</th>\n",
       "      <th>Point-Residuals</th>\n",
       "    </tr>\n",
       "  </thead>\n",
       "  <tbody>\n",
       "    <tr>\n",
       "      <th>0</th>\n",
       "      <td>Gorilla Guys</td>\n",
       "      <td>Derrick Henry</td>\n",
       "      <td>1</td>\n",
       "      <td>14</td>\n",
       "      <td>17.97</td>\n",
       "      <td>8.2</td>\n",
       "      <td>RB</td>\n",
       "      <td>-9.77</td>\n",
       "    </tr>\n",
       "    <tr>\n",
       "      <th>1</th>\n",
       "      <td>Gorilla Guys</td>\n",
       "      <td>Derrick Henry</td>\n",
       "      <td>2</td>\n",
       "      <td>10</td>\n",
       "      <td>17.03</td>\n",
       "      <td>8.5</td>\n",
       "      <td>RB</td>\n",
       "      <td>-8.53</td>\n",
       "    </tr>\n",
       "    <tr>\n",
       "      <th>2</th>\n",
       "      <td>Gorilla Guys</td>\n",
       "      <td>Derrick Henry</td>\n",
       "      <td>3</td>\n",
       "      <td>29</td>\n",
       "      <td>17.43</td>\n",
       "      <td>25.3</td>\n",
       "      <td>RB</td>\n",
       "      <td>7.87</td>\n",
       "    </tr>\n",
       "    <tr>\n",
       "      <th>3</th>\n",
       "      <td>Gorilla Guys</td>\n",
       "      <td>Derrick Henry</td>\n",
       "      <td>4</td>\n",
       "      <td>16</td>\n",
       "      <td>16.36</td>\n",
       "      <td>23.7</td>\n",
       "      <td>RB</td>\n",
       "      <td>7.34</td>\n",
       "    </tr>\n",
       "    <tr>\n",
       "      <th>4</th>\n",
       "      <td>Gorilla Guys</td>\n",
       "      <td>Derrick Henry</td>\n",
       "      <td>5</td>\n",
       "      <td>5</td>\n",
       "      <td>18.12</td>\n",
       "      <td>27.2</td>\n",
       "      <td>RB</td>\n",
       "      <td>9.08</td>\n",
       "    </tr>\n",
       "    <tr>\n",
       "      <th>...</th>\n",
       "      <td>...</td>\n",
       "      <td>...</td>\n",
       "      <td>...</td>\n",
       "      <td>...</td>\n",
       "      <td>...</td>\n",
       "      <td>...</td>\n",
       "      <td>...</td>\n",
       "      <td>...</td>\n",
       "    </tr>\n",
       "    <tr>\n",
       "      <th>1551</th>\n",
       "      <td>Cougar Town Zach Wilson</td>\n",
       "      <td>Broncos D/ST</td>\n",
       "      <td>6</td>\n",
       "      <td>20</td>\n",
       "      <td>6.26</td>\n",
       "      <td>4.0</td>\n",
       "      <td>D/ST</td>\n",
       "      <td>-2.26</td>\n",
       "    </tr>\n",
       "    <tr>\n",
       "      <th>1552</th>\n",
       "      <td>Cougar Town Zach Wilson</td>\n",
       "      <td>Broncos D/ST</td>\n",
       "      <td>7</td>\n",
       "      <td>8</td>\n",
       "      <td>5.42</td>\n",
       "      <td>-2.0</td>\n",
       "      <td>D/ST</td>\n",
       "      <td>-7.42</td>\n",
       "    </tr>\n",
       "    <tr>\n",
       "      <th>1553</th>\n",
       "      <td>My Team  A Bust</td>\n",
       "      <td>Isiah Pacheco</td>\n",
       "      <td>5</td>\n",
       "      <td>30</td>\n",
       "      <td>8.94</td>\n",
       "      <td>10.7</td>\n",
       "      <td>RB</td>\n",
       "      <td>1.76</td>\n",
       "    </tr>\n",
       "    <tr>\n",
       "      <th>1554</th>\n",
       "      <td>My Team  A Bust</td>\n",
       "      <td>Eno Benjamin</td>\n",
       "      <td>6</td>\n",
       "      <td>5</td>\n",
       "      <td>0.00</td>\n",
       "      <td>0.0</td>\n",
       "      <td>RB</td>\n",
       "      <td>0.00</td>\n",
       "    </tr>\n",
       "    <tr>\n",
       "      <th>1555</th>\n",
       "      <td>P-Town CASH KEVIN</td>\n",
       "      <td>Josh Reynolds</td>\n",
       "      <td>6</td>\n",
       "      <td>6</td>\n",
       "      <td>0.00</td>\n",
       "      <td>0.0</td>\n",
       "      <td>WR</td>\n",
       "      <td>0.00</td>\n",
       "    </tr>\n",
       "  </tbody>\n",
       "</table>\n",
       "<p>1556 rows × 8 columns</p>\n",
       "</div>"
      ],
      "text/plain": [
       "                         Team         Player  Week  Rank  Projected_Points  \\\n",
       "0                Gorilla Guys  Derrick Henry     1    14             17.97   \n",
       "1                Gorilla Guys  Derrick Henry     2    10             17.03   \n",
       "2                Gorilla Guys  Derrick Henry     3    29             17.43   \n",
       "3                Gorilla Guys  Derrick Henry     4    16             16.36   \n",
       "4                Gorilla Guys  Derrick Henry     5     5             18.12   \n",
       "...                       ...            ...   ...   ...               ...   \n",
       "1551  Cougar Town Zach Wilson   Broncos D/ST     6    20              6.26   \n",
       "1552  Cougar Town Zach Wilson   Broncos D/ST     7     8              5.42   \n",
       "1553          My Team  A Bust  Isiah Pacheco     5    30              8.94   \n",
       "1554          My Team  A Bust   Eno Benjamin     6     5              0.00   \n",
       "1555        P-Town CASH KEVIN  Josh Reynolds     6     6              0.00   \n",
       "\n",
       "      Actual_Points Position  Point-Residuals  \n",
       "0               8.2       RB            -9.77  \n",
       "1               8.5       RB            -8.53  \n",
       "2              25.3       RB             7.87  \n",
       "3              23.7       RB             7.34  \n",
       "4              27.2       RB             9.08  \n",
       "...             ...      ...              ...  \n",
       "1551            4.0     D/ST            -2.26  \n",
       "1552           -2.0     D/ST            -7.42  \n",
       "1553           10.7       RB             1.76  \n",
       "1554            0.0       RB             0.00  \n",
       "1555            0.0       WR             0.00  \n",
       "\n",
       "[1556 rows x 8 columns]"
      ]
     },
     "execution_count": 11,
     "metadata": {},
     "output_type": "execute_result"
    }
   ],
   "source": [
    "merged_df['Point-Residuals'] = merged_df['Actual_Points'] - merged_df['Projected_Points']\n",
    "merged_df"
   ]
  },
  {
   "cell_type": "code",
   "execution_count": 12,
   "metadata": {},
   "outputs": [],
   "source": [
    "test_df = merged_df.groupby(['Team', 'Week'], as_index = False).mean()"
   ]
  },
  {
   "cell_type": "code",
   "execution_count": 13,
   "metadata": {},
   "outputs": [
    {
     "data": {
      "application/vnd.plotly.v1+json": {
       "config": {
        "plotlyServerURL": "https://plot.ly"
       },
       "data": [
        {
         "hovertemplate": "Team=Cougar Town Zach Wilson<br>Week=%{x}<br>Actual_Points=%{y}<extra></extra>",
         "legendgroup": "Cougar Town Zach Wilson",
         "marker": {
          "color": "#636efa",
          "symbol": "circle"
         },
         "mode": "markers",
         "name": "Cougar Town Zach Wilson",
         "orientation": "v",
         "showlegend": true,
         "type": "scatter",
         "x": [
          1,
          2,
          3,
          4,
          5,
          6,
          7,
          8,
          9,
          10,
          11
         ],
         "xaxis": "x",
         "y": [
          11.66,
          10.32875,
          9.1725,
          9.278666666666668,
          11.567499999999999,
          7.35375,
          5.125,
          9.137333333333334,
          9.515384615384615,
          11.15,
          11.065
         ],
         "yaxis": "y"
        },
        {
         "hovertemplate": "<b>OLS trendline</b><br>Actual_Points = -1.51404 * log10(Week) + 10.6239<br>R<sup>2</sup>=0.061918<br><br>Team=Cougar Town Zach Wilson<br>Week=%{x}<br>Actual_Points=%{y} <b>(trend)</b><extra></extra>",
         "legendgroup": "Cougar Town Zach Wilson",
         "marker": {
          "color": "#636efa",
          "symbol": "circle"
         },
         "mode": "lines",
         "name": "Cougar Town Zach Wilson",
         "showlegend": false,
         "type": "scatter",
         "x": [
          1,
          2,
          3,
          4,
          5,
          6,
          7,
          8,
          9,
          10,
          11
         ],
         "xaxis": "x",
         "y": [
          10.623850260881573,
          10.16807823394165,
          9.901468689304123,
          9.712306207001726,
          9.565580386666005,
          9.445696662364199,
          9.344336417715608,
          9.256534180061802,
          9.17908711772667,
          9.109808359726081,
          9.047138099995191
         ],
         "yaxis": "y"
        },
        {
         "hovertemplate": "Team=Couv Reigning Champ<br>Week=%{x}<br>Actual_Points=%{y}<extra></extra>",
         "legendgroup": "Couv Reigning Champ",
         "marker": {
          "color": "#EF553B",
          "symbol": "circle"
         },
         "mode": "markers",
         "name": "Couv Reigning Champ",
         "orientation": "v",
         "showlegend": true,
         "type": "scatter",
         "x": [
          1,
          2,
          3,
          4,
          5,
          6,
          7,
          8,
          9,
          10,
          11
         ],
         "xaxis": "x",
         "y": [
          12.442352941176472,
          11.898666666666667,
          10.491764705882352,
          7.869411764705882,
          7.5625,
          9.348749999999999,
          9.737333333333334,
          12.324285714285713,
          9.358333333333333,
          12.644444444444446,
          3.7333333333333334
         ],
         "yaxis": "y"
        },
        {
         "hovertemplate": "<b>OLS trendline</b><br>Actual_Points = -3.35674 * log10(Week) + 12.0842<br>R<sup>2</sup>=0.163297<br><br>Team=Couv Reigning Champ<br>Week=%{x}<br>Actual_Points=%{y} <b>(trend)</b><extra></extra>",
         "legendgroup": "Couv Reigning Champ",
         "marker": {
          "color": "#EF553B",
          "symbol": "circle"
         },
         "mode": "lines",
         "name": "Couv Reigning Champ",
         "showlegend": false,
         "type": "scatter",
         "x": [
          1,
          2,
          3,
          4,
          5,
          6,
          7,
          8,
          9,
          10,
          11
         ],
         "xaxis": "x",
         "y": [
          12.08420500250837,
          11.073726551261089,
          10.482634549494637,
          10.063248100013807,
          9.737946697279037,
          9.472156098247357,
          9.247433348766169,
          9.052769648766526,
          8.881064096480905,
          8.727468246031755,
          8.588523898311877
         ],
         "yaxis": "y"
        },
        {
         "hovertemplate": "Team=Diggy Wit it<br>Week=%{x}<br>Actual_Points=%{y}<extra></extra>",
         "legendgroup": "Diggy Wit it",
         "marker": {
          "color": "#00cc96",
          "symbol": "circle"
         },
         "mode": "markers",
         "name": "Diggy Wit it",
         "orientation": "v",
         "showlegend": true,
         "type": "scatter",
         "x": [
          1,
          2,
          3,
          4,
          5,
          6,
          7,
          8,
          9,
          10,
          11
         ],
         "xaxis": "x",
         "y": [
          8.332941176470587,
          12.829411764705881,
          9.566666666666666,
          12.5575,
          10.915,
          9.591666666666667,
          9.47857142857143,
          10.96142857142857,
          6.138461538461538,
          8.091666666666667,
          9.559999999999999
         ],
         "yaxis": "y"
        },
        {
         "hovertemplate": "<b>OLS trendline</b><br>Actual_Points = -1.67245 * log10(Week) + 10.976<br>R<sup>2</sup>=0.076866<br><br>Team=Diggy Wit it<br>Week=%{x}<br>Actual_Points=%{y} <b>(trend)</b><extra></extra>",
         "legendgroup": "Diggy Wit it",
         "marker": {
          "color": "#00cc96",
          "symbol": "circle"
         },
         "mode": "lines",
         "name": "Diggy Wit it",
         "showlegend": false,
         "type": "scatter",
         "x": [
          1,
          2,
          3,
          4,
          5,
          6,
          7,
          8,
          9,
          10,
          11
         ],
         "xaxis": "x",
         "y": [
          10.975987242976768,
          10.472529931178888,
          10.17802628306325,
          9.96907261938101,
          9.806995566136806,
          9.674568971265373,
          9.562603880655104,
          9.465615307583132,
          9.380065323149735,
          9.303538254338928,
          9.23431109990905
         ],
         "yaxis": "y"
        },
        {
         "hovertemplate": "Team=Eugene Tweakers<br>Week=%{x}<br>Actual_Points=%{y}<extra></extra>",
         "legendgroup": "Eugene Tweakers",
         "marker": {
          "color": "#ab63fa",
          "symbol": "circle"
         },
         "mode": "markers",
         "name": "Eugene Tweakers",
         "orientation": "v",
         "showlegend": true,
         "type": "scatter",
         "x": [
          1,
          2,
          3,
          4,
          5,
          6,
          7,
          8,
          9,
          10,
          11
         ],
         "xaxis": "x",
         "y": [
          7.546250000000001,
          10.975,
          10.9525,
          10.674999999999999,
          10.665,
          8.508571428571429,
          10.266666666666667,
          9.314285714285715,
          6.5,
          10.226666666666667,
          9.033333333333333
         ],
         "yaxis": "y"
        },
        {
         "hovertemplate": "<b>OLS trendline</b><br>Actual_Points = -0.350856 * log10(Week) + 9.75729<br>R<sup>2</sup>=0.005809<br><br>Team=Eugene Tweakers<br>Week=%{x}<br>Actual_Points=%{y} <b>(trend)</b><extra></extra>",
         "legendgroup": "Eugene Tweakers",
         "marker": {
          "color": "#ab63fa",
          "symbol": "circle"
         },
         "mode": "lines",
         "name": "Eugene Tweakers",
         "showlegend": false,
         "type": "scatter",
         "x": [
          1,
          2,
          3,
          4,
          5,
          6,
          7,
          8,
          9,
          10,
          11
         ],
         "xaxis": "x",
         "y": [
          9.75728971975815,
          9.651671459711565,
          9.589888738192897,
          9.546053199664978,
          9.512051714422864,
          9.48427047814631,
          9.460781777557209,
          9.440434939618394,
          9.422487756627643,
          9.406433454376279,
          9.391910571447536
         ],
         "yaxis": "y"
        },
        {
         "hovertemplate": "Team=Gorilla Guys<br>Week=%{x}<br>Actual_Points=%{y}<extra></extra>",
         "legendgroup": "Gorilla Guys",
         "marker": {
          "color": "#FFA15A",
          "symbol": "circle"
         },
         "mode": "markers",
         "name": "Gorilla Guys",
         "orientation": "v",
         "showlegend": true,
         "type": "scatter",
         "x": [
          1,
          2,
          3,
          4,
          5,
          6,
          7,
          8,
          9,
          10,
          11
         ],
         "xaxis": "x",
         "y": [
          12.15125,
          11.201176470588235,
          10.25294117647059,
          8.756470588235294,
          7.685882352941176,
          7.8500000000000005,
          8.47857142857143,
          16.43846153846154,
          12.378461538461538,
          11.391666666666667,
          14.996666666666668
         ],
         "yaxis": "y"
        },
        {
         "hovertemplate": "<b>OLS trendline</b><br>Actual_Points = 1.75103 * log10(Week) + 9.84288<br>R<sup>2</sup>=0.039253<br><br>Team=Gorilla Guys<br>Week=%{x}<br>Actual_Points=%{y} <b>(trend)</b><extra></extra>",
         "legendgroup": "Gorilla Guys",
         "marker": {
          "color": "#FFA15A",
          "symbol": "circle"
         },
         "mode": "lines",
         "name": "Gorilla Guys",
         "showlegend": false,
         "type": "scatter",
         "x": [
          1,
          2,
          3,
          4,
          5,
          6,
          7,
          8,
          9,
          10,
          11
         ],
         "xaxis": "x",
         "y": [
          9.842878998144847,
          10.369992650461358,
          10.678334370684686,
          10.897106302777868,
          11.066798996657242,
          11.205448023001196,
          11.322674104459363,
          11.42421995509438,
          11.513789743224525,
          11.593912648973753,
          11.666392633583971
         ],
         "yaxis": "y"
        },
        {
         "hovertemplate": "Team=I dont know what im doing<br>Week=%{x}<br>Actual_Points=%{y}<extra></extra>",
         "legendgroup": "I dont know what im doing",
         "marker": {
          "color": "#19d3f3",
          "symbol": "circle"
         },
         "mode": "markers",
         "name": "I dont know what im doing",
         "orientation": "v",
         "showlegend": true,
         "type": "scatter",
         "x": [
          1,
          2,
          3,
          4,
          5,
          6,
          7,
          8,
          9,
          10,
          11
         ],
         "xaxis": "x",
         "y": [
          12.450000000000001,
          9.61,
          11.477333333333332,
          13.338666666666667,
          11.945333333333334,
          9.593333333333334,
          9.975999999999999,
          9.521538461538462,
          10.887692307692308,
          8.572727272727272,
          15.711111111111112
         ],
         "yaxis": "y"
        },
        {
         "hovertemplate": "<b>OLS trendline</b><br>Actual_Points = -0.463436 * log10(Week) + 11.5097<br>R<sup>2</sup>=0.005165<br><br>Team=I dont know what im doing<br>Week=%{x}<br>Actual_Points=%{y} <b>(trend)</b><extra></extra>",
         "legendgroup": "I dont know what im doing",
         "marker": {
          "color": "#19d3f3",
          "symbol": "circle"
         },
         "mode": "lines",
         "name": "I dont know what im doing",
         "showlegend": false,
         "type": "scatter",
         "x": [
          1,
          2,
          3,
          4,
          5,
          6,
          7,
          8,
          9,
          10,
          11
         ],
         "xaxis": "x",
         "y": [
          11.509671410316958,
          11.370163253745522,
          11.288556213606496,
          11.230655097174084,
          11.185743502107794,
          11.149048057035058,
          11.118022500298952,
          11.091146940602648,
          11.067441016896032,
          11.046235345536358,
          11.027052482415927
         ],
         "yaxis": "y"
        },
        {
         "hovertemplate": "Team=Just-in-N-out Drive thru<br>Week=%{x}<br>Actual_Points=%{y}<extra></extra>",
         "legendgroup": "Just-in-N-out Drive thru",
         "marker": {
          "color": "#FF6692",
          "symbol": "circle"
         },
         "mode": "markers",
         "name": "Just-in-N-out Drive thru",
         "orientation": "v",
         "showlegend": true,
         "type": "scatter",
         "x": [
          1,
          2,
          3,
          4,
          5,
          6,
          7,
          8,
          9,
          10,
          11
         ],
         "xaxis": "x",
         "y": [
          11.57875,
          10.53625,
          9.353333333333333,
          17.395714285714284,
          13.61076923076923,
          11.135384615384615,
          10.185,
          12.516666666666666,
          10.818181818181818,
          11.094545454545454,
          10.690000000000001
         ],
         "yaxis": "y"
        },
        {
         "hovertemplate": "<b>OLS trendline</b><br>Actual_Points = -0.319352 * log10(Week) + 11.9402<br>R<sup>2</sup>=0.002206<br><br>Team=Just-in-N-out Drive thru<br>Week=%{x}<br>Actual_Points=%{y} <b>(trend)</b><extra></extra>",
         "legendgroup": "Just-in-N-out Drive thru",
         "marker": {
          "color": "#FF6692",
          "symbol": "circle"
         },
         "mode": "lines",
         "name": "Just-in-N-out Drive thru",
         "showlegend": false,
         "type": "scatter",
         "x": [
          1,
          2,
          3,
          4,
          5,
          6,
          7,
          8,
          9,
          10,
          11
         ],
         "xaxis": "x",
         "y": [
          11.940185618579186,
          11.844051003488323,
          11.787815858638906,
          11.747916388397462,
          11.71696795490853,
          11.691681243548045,
          11.67030163372374,
          11.651781773306599,
          11.635446098698628,
          11.620833339817668,
          11.60761449148833
         ],
         "yaxis": "y"
        },
        {
         "hovertemplate": "Team=My Team  A Bust<br>Week=%{x}<br>Actual_Points=%{y}<extra></extra>",
         "legendgroup": "My Team  A Bust",
         "marker": {
          "color": "#B6E880",
          "symbol": "circle"
         },
         "mode": "markers",
         "name": "My Team  A Bust",
         "orientation": "v",
         "showlegend": true,
         "type": "scatter",
         "x": [
          1,
          2,
          3,
          4,
          5,
          6,
          7,
          8,
          9,
          10,
          11
         ],
         "xaxis": "x",
         "y": [
          13.607058823529412,
          12.165882352941177,
          12.007058823529412,
          11.074117647058824,
          12.168571428571429,
          10.435714285714285,
          8.277777777777779,
          15.491111111111113,
          13.5525,
          7.4375,
          7.251111111111111
         ],
         "yaxis": "y"
        },
        {
         "hovertemplate": "<b>OLS trendline</b><br>Actual_Points = -3.55961 * log10(Week) + 13.6841<br>R<sup>2</sup>=0.186491<br><br>Team=My Team  A Bust<br>Week=%{x}<br>Actual_Points=%{y} <b>(trend)</b><extra></extra>",
         "legendgroup": "My Team  A Bust",
         "marker": {
          "color": "#B6E880",
          "symbol": "circle"
         },
         "mode": "lines",
         "name": "My Team  A Bust",
         "showlegend": false,
         "type": "scatter",
         "x": [
          1,
          2,
          3,
          4,
          5,
          6,
          7,
          8,
          9,
          10,
          11
         ],
         "xaxis": "x",
         "y": [
          13.68414325352487,
          12.61259297871822,
          11.985776250318882,
          11.541042703911572,
          11.196080565367039,
          10.914225975512233,
          10.675921315314246,
          10.469492429104925,
          10.287409247112894,
          10.12453029056039,
          9.977188351899265
         ],
         "yaxis": "y"
        },
        {
         "hovertemplate": "Team=No Nyugen Will Win<br>Week=%{x}<br>Actual_Points=%{y}<extra></extra>",
         "legendgroup": "No Nyugen Will Win",
         "marker": {
          "color": "#FF97FF",
          "symbol": "circle"
         },
         "mode": "markers",
         "name": "No Nyugen Will Win",
         "orientation": "v",
         "showlegend": true,
         "type": "scatter",
         "x": [
          1,
          2,
          3,
          4,
          5,
          6,
          7,
          8,
          9,
          10,
          11
         ],
         "xaxis": "x",
         "y": [
          8.99375,
          11.150588235294117,
          10.890588235294118,
          11.610588235294117,
          6.8875,
          8.8875,
          10.626666666666667,
          8.854285714285714,
          8.475,
          6.546153846153846,
          9.422222222222222
         ],
         "yaxis": "y"
        },
        {
         "hovertemplate": "<b>OLS trendline</b><br>Actual_Points = -1.93507 * log10(Week) + 10.6412<br>R<sup>2</sup>=0.141988<br><br>Team=No Nyugen Will Win<br>Week=%{x}<br>Actual_Points=%{y} <b>(trend)</b><extra></extra>",
         "legendgroup": "No Nyugen Will Win",
         "marker": {
          "color": "#FF97FF",
          "symbol": "circle"
         },
         "mode": "lines",
         "name": "No Nyugen Will Win",
         "showlegend": false,
         "type": "scatter",
         "x": [
          1,
          2,
          3,
          4,
          5,
          6,
          7,
          8,
          9,
          10,
          11
         ],
         "xaxis": "x",
         "y": [
          10.641237644563475,
          10.05872343027418,
          9.717974458777894,
          9.476209215984884,
          9.288681524733923,
          9.135460244488598,
          9.005913497909903,
          8.893695001695589,
          8.794711272992313,
          8.706167310444627,
          8.626069553345424
         ],
         "yaxis": "y"
        },
        {
         "hovertemplate": "Team=P-Town CASH KEVIN<br>Week=%{x}<br>Actual_Points=%{y}<extra></extra>",
         "legendgroup": "P-Town CASH KEVIN",
         "marker": {
          "color": "#FECB52",
          "symbol": "circle"
         },
         "mode": "markers",
         "name": "P-Town CASH KEVIN",
         "orientation": "v",
         "showlegend": true,
         "type": "scatter",
         "x": [
          1,
          2,
          3,
          4,
          5,
          6,
          7,
          8,
          9,
          10,
          11
         ],
         "xaxis": "x",
         "y": [
          13.81375,
          11.72875,
          11.317499999999999,
          11.1525,
          13.2525,
          12.04625,
          11.974666666666668,
          8.952857142857143,
          9.202857142857143,
          11.072307692307692,
          12.181538461538462
         ],
         "yaxis": "y"
        },
        {
         "hovertemplate": "<b>OLS trendline</b><br>Actual_Points = -2.40809 * log10(Week) + 13.1818<br>R<sup>2</sup>=0.281601<br><br>Team=P-Town CASH KEVIN<br>Week=%{x}<br>Actual_Points=%{y} <b>(trend)</b><extra></extra>",
         "legendgroup": "P-Town CASH KEVIN",
         "marker": {
          "color": "#FECB52",
          "symbol": "circle"
         },
         "mode": "lines",
         "name": "P-Town CASH KEVIN",
         "showlegend": false,
         "type": "scatter",
         "x": [
          1,
          2,
          3,
          4,
          5,
          6,
          7,
          8,
          9,
          10,
          11
         ],
         "xaxis": "x",
         "y": [
          13.181791637672347,
          12.45688574765817,
          12.032842985447981,
          11.731979857643992,
          11.498612285499101,
          11.307937095433804,
          11.146723519312498,
          11.007073967629816,
          10.883894333223616,
          10.773706395484924,
          10.674029281220893
         ],
         "yaxis": "y"
        }
       ],
       "layout": {
        "legend": {
         "title": {
          "text": "Team"
         },
         "tracegroupgap": 0
        },
        "template": {
         "data": {
          "bar": [
           {
            "error_x": {
             "color": "#2a3f5f"
            },
            "error_y": {
             "color": "#2a3f5f"
            },
            "marker": {
             "line": {
              "color": "#E5ECF6",
              "width": 0.5
             },
             "pattern": {
              "fillmode": "overlay",
              "size": 10,
              "solidity": 0.2
             }
            },
            "type": "bar"
           }
          ],
          "barpolar": [
           {
            "marker": {
             "line": {
              "color": "#E5ECF6",
              "width": 0.5
             },
             "pattern": {
              "fillmode": "overlay",
              "size": 10,
              "solidity": 0.2
             }
            },
            "type": "barpolar"
           }
          ],
          "carpet": [
           {
            "aaxis": {
             "endlinecolor": "#2a3f5f",
             "gridcolor": "white",
             "linecolor": "white",
             "minorgridcolor": "white",
             "startlinecolor": "#2a3f5f"
            },
            "baxis": {
             "endlinecolor": "#2a3f5f",
             "gridcolor": "white",
             "linecolor": "white",
             "minorgridcolor": "white",
             "startlinecolor": "#2a3f5f"
            },
            "type": "carpet"
           }
          ],
          "choropleth": [
           {
            "colorbar": {
             "outlinewidth": 0,
             "ticks": ""
            },
            "type": "choropleth"
           }
          ],
          "contour": [
           {
            "colorbar": {
             "outlinewidth": 0,
             "ticks": ""
            },
            "colorscale": [
             [
              0,
              "#0d0887"
             ],
             [
              0.1111111111111111,
              "#46039f"
             ],
             [
              0.2222222222222222,
              "#7201a8"
             ],
             [
              0.3333333333333333,
              "#9c179e"
             ],
             [
              0.4444444444444444,
              "#bd3786"
             ],
             [
              0.5555555555555556,
              "#d8576b"
             ],
             [
              0.6666666666666666,
              "#ed7953"
             ],
             [
              0.7777777777777778,
              "#fb9f3a"
             ],
             [
              0.8888888888888888,
              "#fdca26"
             ],
             [
              1,
              "#f0f921"
             ]
            ],
            "type": "contour"
           }
          ],
          "contourcarpet": [
           {
            "colorbar": {
             "outlinewidth": 0,
             "ticks": ""
            },
            "type": "contourcarpet"
           }
          ],
          "heatmap": [
           {
            "colorbar": {
             "outlinewidth": 0,
             "ticks": ""
            },
            "colorscale": [
             [
              0,
              "#0d0887"
             ],
             [
              0.1111111111111111,
              "#46039f"
             ],
             [
              0.2222222222222222,
              "#7201a8"
             ],
             [
              0.3333333333333333,
              "#9c179e"
             ],
             [
              0.4444444444444444,
              "#bd3786"
             ],
             [
              0.5555555555555556,
              "#d8576b"
             ],
             [
              0.6666666666666666,
              "#ed7953"
             ],
             [
              0.7777777777777778,
              "#fb9f3a"
             ],
             [
              0.8888888888888888,
              "#fdca26"
             ],
             [
              1,
              "#f0f921"
             ]
            ],
            "type": "heatmap"
           }
          ],
          "heatmapgl": [
           {
            "colorbar": {
             "outlinewidth": 0,
             "ticks": ""
            },
            "colorscale": [
             [
              0,
              "#0d0887"
             ],
             [
              0.1111111111111111,
              "#46039f"
             ],
             [
              0.2222222222222222,
              "#7201a8"
             ],
             [
              0.3333333333333333,
              "#9c179e"
             ],
             [
              0.4444444444444444,
              "#bd3786"
             ],
             [
              0.5555555555555556,
              "#d8576b"
             ],
             [
              0.6666666666666666,
              "#ed7953"
             ],
             [
              0.7777777777777778,
              "#fb9f3a"
             ],
             [
              0.8888888888888888,
              "#fdca26"
             ],
             [
              1,
              "#f0f921"
             ]
            ],
            "type": "heatmapgl"
           }
          ],
          "histogram": [
           {
            "marker": {
             "pattern": {
              "fillmode": "overlay",
              "size": 10,
              "solidity": 0.2
             }
            },
            "type": "histogram"
           }
          ],
          "histogram2d": [
           {
            "colorbar": {
             "outlinewidth": 0,
             "ticks": ""
            },
            "colorscale": [
             [
              0,
              "#0d0887"
             ],
             [
              0.1111111111111111,
              "#46039f"
             ],
             [
              0.2222222222222222,
              "#7201a8"
             ],
             [
              0.3333333333333333,
              "#9c179e"
             ],
             [
              0.4444444444444444,
              "#bd3786"
             ],
             [
              0.5555555555555556,
              "#d8576b"
             ],
             [
              0.6666666666666666,
              "#ed7953"
             ],
             [
              0.7777777777777778,
              "#fb9f3a"
             ],
             [
              0.8888888888888888,
              "#fdca26"
             ],
             [
              1,
              "#f0f921"
             ]
            ],
            "type": "histogram2d"
           }
          ],
          "histogram2dcontour": [
           {
            "colorbar": {
             "outlinewidth": 0,
             "ticks": ""
            },
            "colorscale": [
             [
              0,
              "#0d0887"
             ],
             [
              0.1111111111111111,
              "#46039f"
             ],
             [
              0.2222222222222222,
              "#7201a8"
             ],
             [
              0.3333333333333333,
              "#9c179e"
             ],
             [
              0.4444444444444444,
              "#bd3786"
             ],
             [
              0.5555555555555556,
              "#d8576b"
             ],
             [
              0.6666666666666666,
              "#ed7953"
             ],
             [
              0.7777777777777778,
              "#fb9f3a"
             ],
             [
              0.8888888888888888,
              "#fdca26"
             ],
             [
              1,
              "#f0f921"
             ]
            ],
            "type": "histogram2dcontour"
           }
          ],
          "mesh3d": [
           {
            "colorbar": {
             "outlinewidth": 0,
             "ticks": ""
            },
            "type": "mesh3d"
           }
          ],
          "parcoords": [
           {
            "line": {
             "colorbar": {
              "outlinewidth": 0,
              "ticks": ""
             }
            },
            "type": "parcoords"
           }
          ],
          "pie": [
           {
            "automargin": true,
            "type": "pie"
           }
          ],
          "scatter": [
           {
            "marker": {
             "colorbar": {
              "outlinewidth": 0,
              "ticks": ""
             }
            },
            "type": "scatter"
           }
          ],
          "scatter3d": [
           {
            "line": {
             "colorbar": {
              "outlinewidth": 0,
              "ticks": ""
             }
            },
            "marker": {
             "colorbar": {
              "outlinewidth": 0,
              "ticks": ""
             }
            },
            "type": "scatter3d"
           }
          ],
          "scattercarpet": [
           {
            "marker": {
             "colorbar": {
              "outlinewidth": 0,
              "ticks": ""
             }
            },
            "type": "scattercarpet"
           }
          ],
          "scattergeo": [
           {
            "marker": {
             "colorbar": {
              "outlinewidth": 0,
              "ticks": ""
             }
            },
            "type": "scattergeo"
           }
          ],
          "scattergl": [
           {
            "marker": {
             "colorbar": {
              "outlinewidth": 0,
              "ticks": ""
             }
            },
            "type": "scattergl"
           }
          ],
          "scattermapbox": [
           {
            "marker": {
             "colorbar": {
              "outlinewidth": 0,
              "ticks": ""
             }
            },
            "type": "scattermapbox"
           }
          ],
          "scatterpolar": [
           {
            "marker": {
             "colorbar": {
              "outlinewidth": 0,
              "ticks": ""
             }
            },
            "type": "scatterpolar"
           }
          ],
          "scatterpolargl": [
           {
            "marker": {
             "colorbar": {
              "outlinewidth": 0,
              "ticks": ""
             }
            },
            "type": "scatterpolargl"
           }
          ],
          "scatterternary": [
           {
            "marker": {
             "colorbar": {
              "outlinewidth": 0,
              "ticks": ""
             }
            },
            "type": "scatterternary"
           }
          ],
          "surface": [
           {
            "colorbar": {
             "outlinewidth": 0,
             "ticks": ""
            },
            "colorscale": [
             [
              0,
              "#0d0887"
             ],
             [
              0.1111111111111111,
              "#46039f"
             ],
             [
              0.2222222222222222,
              "#7201a8"
             ],
             [
              0.3333333333333333,
              "#9c179e"
             ],
             [
              0.4444444444444444,
              "#bd3786"
             ],
             [
              0.5555555555555556,
              "#d8576b"
             ],
             [
              0.6666666666666666,
              "#ed7953"
             ],
             [
              0.7777777777777778,
              "#fb9f3a"
             ],
             [
              0.8888888888888888,
              "#fdca26"
             ],
             [
              1,
              "#f0f921"
             ]
            ],
            "type": "surface"
           }
          ],
          "table": [
           {
            "cells": {
             "fill": {
              "color": "#EBF0F8"
             },
             "line": {
              "color": "white"
             }
            },
            "header": {
             "fill": {
              "color": "#C8D4E3"
             },
             "line": {
              "color": "white"
             }
            },
            "type": "table"
           }
          ]
         },
         "layout": {
          "annotationdefaults": {
           "arrowcolor": "#2a3f5f",
           "arrowhead": 0,
           "arrowwidth": 1
          },
          "autotypenumbers": "strict",
          "coloraxis": {
           "colorbar": {
            "outlinewidth": 0,
            "ticks": ""
           }
          },
          "colorscale": {
           "diverging": [
            [
             0,
             "#8e0152"
            ],
            [
             0.1,
             "#c51b7d"
            ],
            [
             0.2,
             "#de77ae"
            ],
            [
             0.3,
             "#f1b6da"
            ],
            [
             0.4,
             "#fde0ef"
            ],
            [
             0.5,
             "#f7f7f7"
            ],
            [
             0.6,
             "#e6f5d0"
            ],
            [
             0.7,
             "#b8e186"
            ],
            [
             0.8,
             "#7fbc41"
            ],
            [
             0.9,
             "#4d9221"
            ],
            [
             1,
             "#276419"
            ]
           ],
           "sequential": [
            [
             0,
             "#0d0887"
            ],
            [
             0.1111111111111111,
             "#46039f"
            ],
            [
             0.2222222222222222,
             "#7201a8"
            ],
            [
             0.3333333333333333,
             "#9c179e"
            ],
            [
             0.4444444444444444,
             "#bd3786"
            ],
            [
             0.5555555555555556,
             "#d8576b"
            ],
            [
             0.6666666666666666,
             "#ed7953"
            ],
            [
             0.7777777777777778,
             "#fb9f3a"
            ],
            [
             0.8888888888888888,
             "#fdca26"
            ],
            [
             1,
             "#f0f921"
            ]
           ],
           "sequentialminus": [
            [
             0,
             "#0d0887"
            ],
            [
             0.1111111111111111,
             "#46039f"
            ],
            [
             0.2222222222222222,
             "#7201a8"
            ],
            [
             0.3333333333333333,
             "#9c179e"
            ],
            [
             0.4444444444444444,
             "#bd3786"
            ],
            [
             0.5555555555555556,
             "#d8576b"
            ],
            [
             0.6666666666666666,
             "#ed7953"
            ],
            [
             0.7777777777777778,
             "#fb9f3a"
            ],
            [
             0.8888888888888888,
             "#fdca26"
            ],
            [
             1,
             "#f0f921"
            ]
           ]
          },
          "colorway": [
           "#636efa",
           "#EF553B",
           "#00cc96",
           "#ab63fa",
           "#FFA15A",
           "#19d3f3",
           "#FF6692",
           "#B6E880",
           "#FF97FF",
           "#FECB52"
          ],
          "font": {
           "color": "#2a3f5f"
          },
          "geo": {
           "bgcolor": "white",
           "lakecolor": "white",
           "landcolor": "#E5ECF6",
           "showlakes": true,
           "showland": true,
           "subunitcolor": "white"
          },
          "hoverlabel": {
           "align": "left"
          },
          "hovermode": "closest",
          "mapbox": {
           "style": "light"
          },
          "paper_bgcolor": "white",
          "plot_bgcolor": "#E5ECF6",
          "polar": {
           "angularaxis": {
            "gridcolor": "white",
            "linecolor": "white",
            "ticks": ""
           },
           "bgcolor": "#E5ECF6",
           "radialaxis": {
            "gridcolor": "white",
            "linecolor": "white",
            "ticks": ""
           }
          },
          "scene": {
           "xaxis": {
            "backgroundcolor": "#E5ECF6",
            "gridcolor": "white",
            "gridwidth": 2,
            "linecolor": "white",
            "showbackground": true,
            "ticks": "",
            "zerolinecolor": "white"
           },
           "yaxis": {
            "backgroundcolor": "#E5ECF6",
            "gridcolor": "white",
            "gridwidth": 2,
            "linecolor": "white",
            "showbackground": true,
            "ticks": "",
            "zerolinecolor": "white"
           },
           "zaxis": {
            "backgroundcolor": "#E5ECF6",
            "gridcolor": "white",
            "gridwidth": 2,
            "linecolor": "white",
            "showbackground": true,
            "ticks": "",
            "zerolinecolor": "white"
           }
          },
          "shapedefaults": {
           "line": {
            "color": "#2a3f5f"
           }
          },
          "ternary": {
           "aaxis": {
            "gridcolor": "white",
            "linecolor": "white",
            "ticks": ""
           },
           "baxis": {
            "gridcolor": "white",
            "linecolor": "white",
            "ticks": ""
           },
           "bgcolor": "#E5ECF6",
           "caxis": {
            "gridcolor": "white",
            "linecolor": "white",
            "ticks": ""
           }
          },
          "title": {
           "x": 0.05
          },
          "xaxis": {
           "automargin": true,
           "gridcolor": "white",
           "linecolor": "white",
           "ticks": "",
           "title": {
            "standoff": 15
           },
           "zerolinecolor": "white",
           "zerolinewidth": 2
          },
          "yaxis": {
           "automargin": true,
           "gridcolor": "white",
           "linecolor": "white",
           "ticks": "",
           "title": {
            "standoff": 15
           },
           "zerolinecolor": "white",
           "zerolinewidth": 2
          }
         }
        },
        "title": {
         "text": "Week vs. Average Points"
        },
        "xaxis": {
         "anchor": "y",
         "domain": [
          0,
          1
         ],
         "title": {
          "text": "Week"
         }
        },
        "yaxis": {
         "anchor": "x",
         "domain": [
          0,
          1
         ],
         "title": {
          "text": "Actual_Points"
         }
        }
       }
      }
     },
     "metadata": {},
     "output_type": "display_data"
    }
   ],
   "source": [
    "import plotly.io as pio\n",
    "pio.renderers\n",
    "plot = px.scatter(test_df, x = 'Week', y = 'Actual_Points', color = 'Team', trendline='ols', trendline_options=dict(log_x=True), title='Week vs. Average Points')\n",
    "\n",
    "plot.show()"
   ]
  },
  {
   "cell_type": "code",
   "execution_count": 14,
   "metadata": {},
   "outputs": [
    {
     "data": {
      "application/vnd.plotly.v1+json": {
       "config": {
        "plotlyServerURL": "https://plot.ly"
       },
       "data": [
        {
         "hovertemplate": "Team=Cougar Town Zach Wilson<br>Week=%{x}<br>Rank=%{y}<extra></extra>",
         "legendgroup": "Cougar Town Zach Wilson",
         "marker": {
          "color": "#636efa",
          "symbol": "circle"
         },
         "mode": "markers",
         "name": "Cougar Town Zach Wilson",
         "orientation": "v",
         "showlegend": true,
         "type": "scatter",
         "x": [
          1,
          2,
          3,
          4,
          5,
          6,
          7,
          8,
          9,
          10,
          11
         ],
         "xaxis": "x",
         "y": [
          16.5,
          20.1875,
          18.5625,
          18.133333333333333,
          17.75,
          18.875,
          12.3125,
          11.2,
          14.461538461538462,
          14.916666666666666,
          14.166666666666666
         ],
         "yaxis": "y"
        },
        {
         "hovertemplate": "<b>OLS trendline</b><br>Rank = -5.17614 * log10(Week) + 19.6737<br>R<sup>2</sup>=0.335327<br><br>Team=Cougar Town Zach Wilson<br>Week=%{x}<br>Rank=%{y} <b>(trend)</b><extra></extra>",
         "legendgroup": "Cougar Town Zach Wilson",
         "marker": {
          "color": "#636efa",
          "symbol": "circle"
         },
         "mode": "lines",
         "name": "Cougar Town Zach Wilson",
         "showlegend": false,
         "type": "scatter",
         "x": [
          1,
          2,
          3,
          4,
          5,
          6,
          7,
          8,
          9,
          10,
          11
         ],
         "xaxis": "x",
         "y": [
          19.67366740462004,
          18.115494392390318,
          17.2040216106002,
          16.55732138016059,
          16.055701710828572,
          15.645848598370474,
          15.299322729319599,
          14.999148367930866,
          14.734375816580357,
          14.497528698598849,
          14.28327441880521
         ],
         "yaxis": "y"
        },
        {
         "hovertemplate": "Team=Couv Reigning Champ<br>Week=%{x}<br>Rank=%{y}<extra></extra>",
         "legendgroup": "Couv Reigning Champ",
         "marker": {
          "color": "#EF553B",
          "symbol": "circle"
         },
         "mode": "markers",
         "name": "Couv Reigning Champ",
         "orientation": "v",
         "showlegend": true,
         "type": "scatter",
         "x": [
          1,
          2,
          3,
          4,
          5,
          6,
          7,
          8,
          9,
          10,
          11
         ],
         "xaxis": "x",
         "y": [
          17.176470588235293,
          16.933333333333334,
          14.941176470588236,
          14.588235294117647,
          14.0625,
          15.1875,
          12.4,
          17.642857142857142,
          12.833333333333334,
          16.22222222222222,
          5.555555555555555
         ],
         "yaxis": "y"
        },
        {
         "hovertemplate": "<b>OLS trendline</b><br>Rank = -5.29225 * log10(Week) + 17.9791<br>R<sup>2</sup>=0.258089<br><br>Team=Couv Reigning Champ<br>Week=%{x}<br>Rank=%{y} <b>(trend)</b><extra></extra>",
         "legendgroup": "Couv Reigning Champ",
         "marker": {
          "color": "#EF553B",
          "symbol": "circle"
         },
         "mode": "lines",
         "name": "Couv Reigning Champ",
         "showlegend": false,
         "type": "scatter",
         "x": [
          1,
          2,
          3,
          4,
          5,
          6,
          7,
          8,
          9,
          10,
          11
         ],
         "xaxis": "x",
         "y": [
          17.979129355785062,
          16.386002465225207,
          15.454082975357192,
          14.792875574665349,
          14.280003269873587,
          13.860956084797337,
          13.506656738109523,
          13.199748684105494,
          12.929036594929322,
          12.68687637931373,
          12.467815818080972
         ],
         "yaxis": "y"
        },
        {
         "hovertemplate": "Team=Diggy Wit it<br>Week=%{x}<br>Rank=%{y}<extra></extra>",
         "legendgroup": "Diggy Wit it",
         "marker": {
          "color": "#00cc96",
          "symbol": "circle"
         },
         "mode": "markers",
         "name": "Diggy Wit it",
         "orientation": "v",
         "showlegend": true,
         "type": "scatter",
         "x": [
          1,
          2,
          3,
          4,
          5,
          6,
          7,
          8,
          9,
          10,
          11
         ],
         "xaxis": "x",
         "y": [
          15.352941176470589,
          19.235294117647058,
          13.533333333333333,
          13.8125,
          15.6875,
          15.416666666666666,
          12.928571428571429,
          18.5,
          12.846153846153847,
          18.333333333333332,
          19.8
         ],
         "yaxis": "y"
        },
        {
         "hovertemplate": "<b>OLS trendline</b><br>Rank = 1.0824 * log10(Week) + 15.2017<br>R<sup>2</sup>=0.018127<br><br>Team=Diggy Wit it<br>Week=%{x}<br>Rank=%{y} <b>(trend)</b><extra></extra>",
         "legendgroup": "Diggy Wit it",
         "marker": {
          "color": "#00cc96",
          "symbol": "circle"
         },
         "mode": "lines",
         "name": "Diggy Wit it",
         "showlegend": false,
         "type": "scatter",
         "x": [
          1,
          2,
          3,
          4,
          5,
          6,
          7,
          8,
          9,
          10,
          11
         ],
         "xaxis": "x",
         "y": [
          15.201705904614839,
          15.527542276930259,
          15.718144336105798,
          15.85337864924568,
          15.958274531830192,
          16.043980708421216,
          16.116444248219928,
          16.1792150215611,
          16.234582767596756,
          16.284110904145614,
          16.32891455350488
         ],
         "yaxis": "y"
        },
        {
         "hovertemplate": "Team=Eugene Tweakers<br>Week=%{x}<br>Rank=%{y}<extra></extra>",
         "legendgroup": "Eugene Tweakers",
         "marker": {
          "color": "#ab63fa",
          "symbol": "circle"
         },
         "mode": "markers",
         "name": "Eugene Tweakers",
         "orientation": "v",
         "showlegend": true,
         "type": "scatter",
         "x": [
          1,
          2,
          3,
          4,
          5,
          6,
          7,
          8,
          9,
          10,
          11
         ],
         "xaxis": "x",
         "y": [
          15.875,
          15.0625,
          13.8125,
          16.75,
          16.3125,
          16.714285714285715,
          15.933333333333334,
          12.785714285714286,
          12.333333333333334,
          17.5,
          17.333333333333332
         ],
         "yaxis": "y"
        },
        {
         "hovertemplate": "<b>OLS trendline</b><br>Rank = 0.182804 * log10(Week) + 15.3657<br>R<sup>2</sup>=0.001100<br><br>Team=Eugene Tweakers<br>Week=%{x}<br>Rank=%{y} <b>(trend)</b><extra></extra>",
         "legendgroup": "Eugene Tweakers",
         "marker": {
          "color": "#ab63fa",
          "symbol": "circle"
         },
         "mode": "lines",
         "name": "Eugene Tweakers",
         "showlegend": false,
         "type": "scatter",
         "x": [
          1,
          2,
          3,
          4,
          5,
          6,
          7,
          8,
          9,
          10,
          11
         ],
         "xaxis": "x",
         "y": [
          15.365725053059581,
          15.420754649155706,
          15.45294489930177,
          15.475784245251829,
          15.493499818285477,
          15.507974495397894,
          15.520212660518878,
          15.530813841347953,
          15.540164745543958,
          15.5485294143816,
          15.556096177755352
         ],
         "yaxis": "y"
        },
        {
         "hovertemplate": "Team=Gorilla Guys<br>Week=%{x}<br>Rank=%{y}<extra></extra>",
         "legendgroup": "Gorilla Guys",
         "marker": {
          "color": "#FFA15A",
          "symbol": "circle"
         },
         "mode": "markers",
         "name": "Gorilla Guys",
         "orientation": "v",
         "showlegend": true,
         "type": "scatter",
         "x": [
          1,
          2,
          3,
          4,
          5,
          6,
          7,
          8,
          9,
          10,
          11
         ],
         "xaxis": "x",
         "y": [
          15.375,
          14.529411764705882,
          20.705882352941178,
          14.294117647058824,
          16,
          9.857142857142858,
          12.642857142857142,
          16.53846153846154,
          16.384615384615383,
          18.083333333333332,
          14
         ],
         "yaxis": "y"
        },
        {
         "hovertemplate": "<b>OLS trendline</b><br>Rank = -0.71009 * log10(Week) + 15.8008<br>R<sup>2</sup>=0.006587<br><br>Team=Gorilla Guys<br>Week=%{x}<br>Rank=%{y} <b>(trend)</b><extra></extra>",
         "legendgroup": "Gorilla Guys",
         "marker": {
          "color": "#FFA15A",
          "symbol": "circle"
         },
         "mode": "lines",
         "name": "Gorilla Guys",
         "showlegend": false,
         "type": "scatter",
         "x": [
          1,
          2,
          3,
          4,
          5,
          6,
          7,
          8,
          9,
          10,
          11
         ],
         "xaxis": "x",
         "y": [
          15.80075693258884,
          15.586998559856916,
          15.461957927593565,
          15.373240187124992,
          15.30442536142518,
          15.24819955486164,
          15.20066131276885,
          15.159481814393068,
          15.12315892259829,
          15.090666988693256,
          15.061274459211564
         ],
         "yaxis": "y"
        },
        {
         "hovertemplate": "Team=I dont know what im doing<br>Week=%{x}<br>Rank=%{y}<extra></extra>",
         "legendgroup": "I dont know what im doing",
         "marker": {
          "color": "#19d3f3",
          "symbol": "circle"
         },
         "mode": "markers",
         "name": "I dont know what im doing",
         "orientation": "v",
         "showlegend": true,
         "type": "scatter",
         "x": [
          1,
          2,
          3,
          4,
          5,
          6,
          7,
          8,
          9,
          10,
          11
         ],
         "xaxis": "x",
         "y": [
          14.75,
          14.125,
          16.4,
          15.533333333333333,
          16.666666666666668,
          15.6,
          16.933333333333334,
          18.46153846153846,
          16.923076923076923,
          11.818181818181818,
          18
         ],
         "yaxis": "y"
        },
        {
         "hovertemplate": "<b>OLS trendline</b><br>Rank = 1.75605 * log10(Week) + 14.7148<br>R<sup>2</sup>=0.091544<br><br>Team=I dont know what im doing<br>Week=%{x}<br>Rank=%{y} <b>(trend)</b><extra></extra>",
         "legendgroup": "I dont know what im doing",
         "marker": {
          "color": "#19d3f3",
          "symbol": "circle"
         },
         "mode": "lines",
         "name": "I dont know what im doing",
         "showlegend": false,
         "type": "scatter",
         "x": [
          1,
          2,
          3,
          4,
          5,
          6,
          7,
          8,
          9,
          10,
          11
         ],
         "xaxis": "x",
         "y": [
          14.714829453073445,
          15.24345306027501,
          15.552678047483877,
          15.772076667476577,
          15.942255458255463,
          16.081301654685443,
          16.198863538666608,
          16.300700274678142,
          16.390526641894308,
          16.470879065457027,
          16.543566674184646
         ],
         "yaxis": "y"
        },
        {
         "hovertemplate": "Team=Just-in-N-out Drive thru<br>Week=%{x}<br>Rank=%{y}<extra></extra>",
         "legendgroup": "Just-in-N-out Drive thru",
         "marker": {
          "color": "#FF6692",
          "symbol": "circle"
         },
         "mode": "markers",
         "name": "Just-in-N-out Drive thru",
         "orientation": "v",
         "showlegend": true,
         "type": "scatter",
         "x": [
          1,
          2,
          3,
          4,
          5,
          6,
          7,
          8,
          9,
          10,
          11
         ],
         "xaxis": "x",
         "y": [
          16.6875,
          17.8125,
          15.2,
          16.642857142857142,
          17.384615384615383,
          11.153846153846153,
          14.583333333333334,
          13.75,
          16.818181818181817,
          12.090909090909092,
          15.3
         ],
         "yaxis": "y"
        },
        {
         "hovertemplate": "<b>OLS trendline</b><br>Rank = -3.2588 * log10(Week) + 17.4722<br>R<sup>2</sup>=0.236422<br><br>Team=Just-in-N-out Drive thru<br>Week=%{x}<br>Rank=%{y} <b>(trend)</b><extra></extra>",
         "legendgroup": "Just-in-N-out Drive thru",
         "marker": {
          "color": "#FF6692",
          "symbol": "circle"
         },
         "mode": "lines",
         "name": "Just-in-N-out Drive thru",
         "showlegend": false,
         "type": "scatter",
         "x": [
          1,
          2,
          3,
          4,
          5,
          6,
          7,
          8,
          9,
          10,
          11
         ],
         "xaxis": "x",
         "y": [
          17.472217519933746,
          16.49122082980548,
          15.917374552748875,
          15.510224139677218,
          15.194413744133417,
          14.936377862620612,
          14.718211633379946,
          14.529227449548953,
          14.362531585564005,
          14.213417054005154,
          14.078526552325494
         ],
         "yaxis": "y"
        },
        {
         "hovertemplate": "Team=My Team  A Bust<br>Week=%{x}<br>Rank=%{y}<extra></extra>",
         "legendgroup": "My Team  A Bust",
         "marker": {
          "color": "#B6E880",
          "symbol": "circle"
         },
         "mode": "markers",
         "name": "My Team  A Bust",
         "orientation": "v",
         "showlegend": true,
         "type": "scatter",
         "x": [
          1,
          2,
          3,
          4,
          5,
          6,
          7,
          8,
          9,
          10,
          11
         ],
         "xaxis": "x",
         "y": [
          17.705882352941178,
          18.764705882352942,
          14.529411764705882,
          16.235294117647058,
          16.642857142857142,
          11.428571428571429,
          13.444444444444445,
          18.333333333333332,
          12.625,
          11.125,
          10.444444444444445
         ],
         "yaxis": "y"
        },
        {
         "hovertemplate": "<b>OLS trendline</b><br>Rank = -6.29972 * log10(Week) + 19.0149<br>R<sup>2</sup>=0.449868<br><br>Team=My Team  A Bust<br>Week=%{x}<br>Rank=%{y} <b>(trend)</b><extra></extra>",
         "legendgroup": "My Team  A Bust",
         "marker": {
          "color": "#B6E880",
          "symbol": "circle"
         },
         "mode": "lines",
         "name": "My Team  A Bust",
         "showlegend": false,
         "type": "scatter",
         "x": [
          1,
          2,
          3,
          4,
          5,
          6,
          7,
          8,
          9,
          10,
          11
         ],
         "xaxis": "x",
         "y": [
          19.014918186833427,
          17.118513405764872,
          16.009187722651454,
          15.222108624696316,
          14.611602646391631,
          14.112782941582896,
          13.691036890487045,
          13.32570384362776,
          13.003457258469478,
          12.715197865323075,
          12.454435525469925
         ],
         "yaxis": "y"
        },
        {
         "hovertemplate": "Team=No Nyugen Will Win<br>Week=%{x}<br>Rank=%{y}<extra></extra>",
         "legendgroup": "No Nyugen Will Win",
         "marker": {
          "color": "#FF97FF",
          "symbol": "circle"
         },
         "mode": "markers",
         "name": "No Nyugen Will Win",
         "orientation": "v",
         "showlegend": true,
         "type": "scatter",
         "x": [
          1,
          2,
          3,
          4,
          5,
          6,
          7,
          8,
          9,
          10,
          11
         ],
         "xaxis": "x",
         "y": [
          17.5,
          15,
          17.058823529411764,
          15.941176470588236,
          13.25,
          15.75,
          13.4,
          16.857142857142858,
          15.916666666666666,
          12.461538461538462,
          14.666666666666666
         ],
         "yaxis": "y"
        },
        {
         "hovertemplate": "<b>OLS trendline</b><br>Rank = -2.59057 * log10(Week) + 17.0449<br>R<sup>2</sup>=0.253792<br><br>Team=No Nyugen Will Win<br>Week=%{x}<br>Rank=%{y} <b>(trend)</b><extra></extra>",
         "legendgroup": "No Nyugen Will Win",
         "marker": {
          "color": "#FF97FF",
          "symbol": "circle"
         },
         "mode": "lines",
         "name": "No Nyugen Will Win",
         "showlegend": false,
         "type": "scatter",
         "x": [
          1,
          2,
          3,
          4,
          5,
          6,
          7,
          8,
          9,
          10,
          11
         ],
         "xaxis": "x",
         "y": [
          17.044850603552838,
          16.265010693298116,
          15.80883358923335,
          15.485170783043392,
          15.234118406417958,
          15.028993678978628,
          14.855563193082283,
          14.70533087278867,
          14.572816574913864,
          14.454278496163235,
          14.347047760542377
         ],
         "yaxis": "y"
        },
        {
         "hovertemplate": "Team=P-Town CASH KEVIN<br>Week=%{x}<br>Rank=%{y}<extra></extra>",
         "legendgroup": "P-Town CASH KEVIN",
         "marker": {
          "color": "#FECB52",
          "symbol": "circle"
         },
         "mode": "markers",
         "name": "P-Town CASH KEVIN",
         "orientation": "v",
         "showlegend": true,
         "type": "scatter",
         "x": [
          1,
          2,
          3,
          4,
          5,
          6,
          7,
          8,
          9,
          10,
          11
         ],
         "xaxis": "x",
         "y": [
          19.5,
          19.375,
          14,
          17,
          20.75,
          16.4375,
          12.933333333333334,
          9.714285714285714,
          12.285714285714286,
          12.307692307692308,
          12.923076923076923
         ],
         "yaxis": "y"
        },
        {
         "hovertemplate": "<b>OLS trendline</b><br>Rank = -7.9475 * log10(Week) + 20.6943<br>R<sup>2</sup>=0.507963<br><br>Team=P-Town CASH KEVIN<br>Week=%{x}<br>Rank=%{y} <b>(trend)</b><extra></extra>",
         "legendgroup": "P-Town CASH KEVIN",
         "marker": {
          "color": "#FECB52",
          "symbol": "circle"
         },
         "mode": "lines",
         "name": "P-Town CASH KEVIN",
         "showlegend": false,
         "type": "scatter",
         "x": [
          1,
          2,
          3,
          4,
          5,
          6,
          7,
          8,
          9,
          10,
          11
         ],
         "xaxis": "x",
         "y": [
          20.69425186447118,
          18.30181665209679,
          16.902331767452914,
          15.909381439722397,
          15.139189329661267,
          14.509896555078523,
          13.977837095308002,
          13.516946227348004,
          13.110411670434647,
          12.746754117286875,
          12.417785845241971
         ],
         "yaxis": "y"
        }
       ],
       "layout": {
        "legend": {
         "title": {
          "text": "Team"
         },
         "tracegroupgap": 0
        },
        "template": {
         "data": {
          "bar": [
           {
            "error_x": {
             "color": "#2a3f5f"
            },
            "error_y": {
             "color": "#2a3f5f"
            },
            "marker": {
             "line": {
              "color": "#E5ECF6",
              "width": 0.5
             },
             "pattern": {
              "fillmode": "overlay",
              "size": 10,
              "solidity": 0.2
             }
            },
            "type": "bar"
           }
          ],
          "barpolar": [
           {
            "marker": {
             "line": {
              "color": "#E5ECF6",
              "width": 0.5
             },
             "pattern": {
              "fillmode": "overlay",
              "size": 10,
              "solidity": 0.2
             }
            },
            "type": "barpolar"
           }
          ],
          "carpet": [
           {
            "aaxis": {
             "endlinecolor": "#2a3f5f",
             "gridcolor": "white",
             "linecolor": "white",
             "minorgridcolor": "white",
             "startlinecolor": "#2a3f5f"
            },
            "baxis": {
             "endlinecolor": "#2a3f5f",
             "gridcolor": "white",
             "linecolor": "white",
             "minorgridcolor": "white",
             "startlinecolor": "#2a3f5f"
            },
            "type": "carpet"
           }
          ],
          "choropleth": [
           {
            "colorbar": {
             "outlinewidth": 0,
             "ticks": ""
            },
            "type": "choropleth"
           }
          ],
          "contour": [
           {
            "colorbar": {
             "outlinewidth": 0,
             "ticks": ""
            },
            "colorscale": [
             [
              0,
              "#0d0887"
             ],
             [
              0.1111111111111111,
              "#46039f"
             ],
             [
              0.2222222222222222,
              "#7201a8"
             ],
             [
              0.3333333333333333,
              "#9c179e"
             ],
             [
              0.4444444444444444,
              "#bd3786"
             ],
             [
              0.5555555555555556,
              "#d8576b"
             ],
             [
              0.6666666666666666,
              "#ed7953"
             ],
             [
              0.7777777777777778,
              "#fb9f3a"
             ],
             [
              0.8888888888888888,
              "#fdca26"
             ],
             [
              1,
              "#f0f921"
             ]
            ],
            "type": "contour"
           }
          ],
          "contourcarpet": [
           {
            "colorbar": {
             "outlinewidth": 0,
             "ticks": ""
            },
            "type": "contourcarpet"
           }
          ],
          "heatmap": [
           {
            "colorbar": {
             "outlinewidth": 0,
             "ticks": ""
            },
            "colorscale": [
             [
              0,
              "#0d0887"
             ],
             [
              0.1111111111111111,
              "#46039f"
             ],
             [
              0.2222222222222222,
              "#7201a8"
             ],
             [
              0.3333333333333333,
              "#9c179e"
             ],
             [
              0.4444444444444444,
              "#bd3786"
             ],
             [
              0.5555555555555556,
              "#d8576b"
             ],
             [
              0.6666666666666666,
              "#ed7953"
             ],
             [
              0.7777777777777778,
              "#fb9f3a"
             ],
             [
              0.8888888888888888,
              "#fdca26"
             ],
             [
              1,
              "#f0f921"
             ]
            ],
            "type": "heatmap"
           }
          ],
          "heatmapgl": [
           {
            "colorbar": {
             "outlinewidth": 0,
             "ticks": ""
            },
            "colorscale": [
             [
              0,
              "#0d0887"
             ],
             [
              0.1111111111111111,
              "#46039f"
             ],
             [
              0.2222222222222222,
              "#7201a8"
             ],
             [
              0.3333333333333333,
              "#9c179e"
             ],
             [
              0.4444444444444444,
              "#bd3786"
             ],
             [
              0.5555555555555556,
              "#d8576b"
             ],
             [
              0.6666666666666666,
              "#ed7953"
             ],
             [
              0.7777777777777778,
              "#fb9f3a"
             ],
             [
              0.8888888888888888,
              "#fdca26"
             ],
             [
              1,
              "#f0f921"
             ]
            ],
            "type": "heatmapgl"
           }
          ],
          "histogram": [
           {
            "marker": {
             "pattern": {
              "fillmode": "overlay",
              "size": 10,
              "solidity": 0.2
             }
            },
            "type": "histogram"
           }
          ],
          "histogram2d": [
           {
            "colorbar": {
             "outlinewidth": 0,
             "ticks": ""
            },
            "colorscale": [
             [
              0,
              "#0d0887"
             ],
             [
              0.1111111111111111,
              "#46039f"
             ],
             [
              0.2222222222222222,
              "#7201a8"
             ],
             [
              0.3333333333333333,
              "#9c179e"
             ],
             [
              0.4444444444444444,
              "#bd3786"
             ],
             [
              0.5555555555555556,
              "#d8576b"
             ],
             [
              0.6666666666666666,
              "#ed7953"
             ],
             [
              0.7777777777777778,
              "#fb9f3a"
             ],
             [
              0.8888888888888888,
              "#fdca26"
             ],
             [
              1,
              "#f0f921"
             ]
            ],
            "type": "histogram2d"
           }
          ],
          "histogram2dcontour": [
           {
            "colorbar": {
             "outlinewidth": 0,
             "ticks": ""
            },
            "colorscale": [
             [
              0,
              "#0d0887"
             ],
             [
              0.1111111111111111,
              "#46039f"
             ],
             [
              0.2222222222222222,
              "#7201a8"
             ],
             [
              0.3333333333333333,
              "#9c179e"
             ],
             [
              0.4444444444444444,
              "#bd3786"
             ],
             [
              0.5555555555555556,
              "#d8576b"
             ],
             [
              0.6666666666666666,
              "#ed7953"
             ],
             [
              0.7777777777777778,
              "#fb9f3a"
             ],
             [
              0.8888888888888888,
              "#fdca26"
             ],
             [
              1,
              "#f0f921"
             ]
            ],
            "type": "histogram2dcontour"
           }
          ],
          "mesh3d": [
           {
            "colorbar": {
             "outlinewidth": 0,
             "ticks": ""
            },
            "type": "mesh3d"
           }
          ],
          "parcoords": [
           {
            "line": {
             "colorbar": {
              "outlinewidth": 0,
              "ticks": ""
             }
            },
            "type": "parcoords"
           }
          ],
          "pie": [
           {
            "automargin": true,
            "type": "pie"
           }
          ],
          "scatter": [
           {
            "marker": {
             "colorbar": {
              "outlinewidth": 0,
              "ticks": ""
             }
            },
            "type": "scatter"
           }
          ],
          "scatter3d": [
           {
            "line": {
             "colorbar": {
              "outlinewidth": 0,
              "ticks": ""
             }
            },
            "marker": {
             "colorbar": {
              "outlinewidth": 0,
              "ticks": ""
             }
            },
            "type": "scatter3d"
           }
          ],
          "scattercarpet": [
           {
            "marker": {
             "colorbar": {
              "outlinewidth": 0,
              "ticks": ""
             }
            },
            "type": "scattercarpet"
           }
          ],
          "scattergeo": [
           {
            "marker": {
             "colorbar": {
              "outlinewidth": 0,
              "ticks": ""
             }
            },
            "type": "scattergeo"
           }
          ],
          "scattergl": [
           {
            "marker": {
             "colorbar": {
              "outlinewidth": 0,
              "ticks": ""
             }
            },
            "type": "scattergl"
           }
          ],
          "scattermapbox": [
           {
            "marker": {
             "colorbar": {
              "outlinewidth": 0,
              "ticks": ""
             }
            },
            "type": "scattermapbox"
           }
          ],
          "scatterpolar": [
           {
            "marker": {
             "colorbar": {
              "outlinewidth": 0,
              "ticks": ""
             }
            },
            "type": "scatterpolar"
           }
          ],
          "scatterpolargl": [
           {
            "marker": {
             "colorbar": {
              "outlinewidth": 0,
              "ticks": ""
             }
            },
            "type": "scatterpolargl"
           }
          ],
          "scatterternary": [
           {
            "marker": {
             "colorbar": {
              "outlinewidth": 0,
              "ticks": ""
             }
            },
            "type": "scatterternary"
           }
          ],
          "surface": [
           {
            "colorbar": {
             "outlinewidth": 0,
             "ticks": ""
            },
            "colorscale": [
             [
              0,
              "#0d0887"
             ],
             [
              0.1111111111111111,
              "#46039f"
             ],
             [
              0.2222222222222222,
              "#7201a8"
             ],
             [
              0.3333333333333333,
              "#9c179e"
             ],
             [
              0.4444444444444444,
              "#bd3786"
             ],
             [
              0.5555555555555556,
              "#d8576b"
             ],
             [
              0.6666666666666666,
              "#ed7953"
             ],
             [
              0.7777777777777778,
              "#fb9f3a"
             ],
             [
              0.8888888888888888,
              "#fdca26"
             ],
             [
              1,
              "#f0f921"
             ]
            ],
            "type": "surface"
           }
          ],
          "table": [
           {
            "cells": {
             "fill": {
              "color": "#EBF0F8"
             },
             "line": {
              "color": "white"
             }
            },
            "header": {
             "fill": {
              "color": "#C8D4E3"
             },
             "line": {
              "color": "white"
             }
            },
            "type": "table"
           }
          ]
         },
         "layout": {
          "annotationdefaults": {
           "arrowcolor": "#2a3f5f",
           "arrowhead": 0,
           "arrowwidth": 1
          },
          "autotypenumbers": "strict",
          "coloraxis": {
           "colorbar": {
            "outlinewidth": 0,
            "ticks": ""
           }
          },
          "colorscale": {
           "diverging": [
            [
             0,
             "#8e0152"
            ],
            [
             0.1,
             "#c51b7d"
            ],
            [
             0.2,
             "#de77ae"
            ],
            [
             0.3,
             "#f1b6da"
            ],
            [
             0.4,
             "#fde0ef"
            ],
            [
             0.5,
             "#f7f7f7"
            ],
            [
             0.6,
             "#e6f5d0"
            ],
            [
             0.7,
             "#b8e186"
            ],
            [
             0.8,
             "#7fbc41"
            ],
            [
             0.9,
             "#4d9221"
            ],
            [
             1,
             "#276419"
            ]
           ],
           "sequential": [
            [
             0,
             "#0d0887"
            ],
            [
             0.1111111111111111,
             "#46039f"
            ],
            [
             0.2222222222222222,
             "#7201a8"
            ],
            [
             0.3333333333333333,
             "#9c179e"
            ],
            [
             0.4444444444444444,
             "#bd3786"
            ],
            [
             0.5555555555555556,
             "#d8576b"
            ],
            [
             0.6666666666666666,
             "#ed7953"
            ],
            [
             0.7777777777777778,
             "#fb9f3a"
            ],
            [
             0.8888888888888888,
             "#fdca26"
            ],
            [
             1,
             "#f0f921"
            ]
           ],
           "sequentialminus": [
            [
             0,
             "#0d0887"
            ],
            [
             0.1111111111111111,
             "#46039f"
            ],
            [
             0.2222222222222222,
             "#7201a8"
            ],
            [
             0.3333333333333333,
             "#9c179e"
            ],
            [
             0.4444444444444444,
             "#bd3786"
            ],
            [
             0.5555555555555556,
             "#d8576b"
            ],
            [
             0.6666666666666666,
             "#ed7953"
            ],
            [
             0.7777777777777778,
             "#fb9f3a"
            ],
            [
             0.8888888888888888,
             "#fdca26"
            ],
            [
             1,
             "#f0f921"
            ]
           ]
          },
          "colorway": [
           "#636efa",
           "#EF553B",
           "#00cc96",
           "#ab63fa",
           "#FFA15A",
           "#19d3f3",
           "#FF6692",
           "#B6E880",
           "#FF97FF",
           "#FECB52"
          ],
          "font": {
           "color": "#2a3f5f"
          },
          "geo": {
           "bgcolor": "white",
           "lakecolor": "white",
           "landcolor": "#E5ECF6",
           "showlakes": true,
           "showland": true,
           "subunitcolor": "white"
          },
          "hoverlabel": {
           "align": "left"
          },
          "hovermode": "closest",
          "mapbox": {
           "style": "light"
          },
          "paper_bgcolor": "white",
          "plot_bgcolor": "#E5ECF6",
          "polar": {
           "angularaxis": {
            "gridcolor": "white",
            "linecolor": "white",
            "ticks": ""
           },
           "bgcolor": "#E5ECF6",
           "radialaxis": {
            "gridcolor": "white",
            "linecolor": "white",
            "ticks": ""
           }
          },
          "scene": {
           "xaxis": {
            "backgroundcolor": "#E5ECF6",
            "gridcolor": "white",
            "gridwidth": 2,
            "linecolor": "white",
            "showbackground": true,
            "ticks": "",
            "zerolinecolor": "white"
           },
           "yaxis": {
            "backgroundcolor": "#E5ECF6",
            "gridcolor": "white",
            "gridwidth": 2,
            "linecolor": "white",
            "showbackground": true,
            "ticks": "",
            "zerolinecolor": "white"
           },
           "zaxis": {
            "backgroundcolor": "#E5ECF6",
            "gridcolor": "white",
            "gridwidth": 2,
            "linecolor": "white",
            "showbackground": true,
            "ticks": "",
            "zerolinecolor": "white"
           }
          },
          "shapedefaults": {
           "line": {
            "color": "#2a3f5f"
           }
          },
          "ternary": {
           "aaxis": {
            "gridcolor": "white",
            "linecolor": "white",
            "ticks": ""
           },
           "baxis": {
            "gridcolor": "white",
            "linecolor": "white",
            "ticks": ""
           },
           "bgcolor": "#E5ECF6",
           "caxis": {
            "gridcolor": "white",
            "linecolor": "white",
            "ticks": ""
           }
          },
          "title": {
           "x": 0.05
          },
          "xaxis": {
           "automargin": true,
           "gridcolor": "white",
           "linecolor": "white",
           "ticks": "",
           "title": {
            "standoff": 15
           },
           "zerolinecolor": "white",
           "zerolinewidth": 2
          },
          "yaxis": {
           "automargin": true,
           "gridcolor": "white",
           "linecolor": "white",
           "ticks": "",
           "title": {
            "standoff": 15
           },
           "zerolinecolor": "white",
           "zerolinewidth": 2
          }
         }
        },
        "title": {
         "text": "Week vs. Average Player Rank"
        },
        "xaxis": {
         "anchor": "y",
         "domain": [
          0,
          1
         ],
         "title": {
          "text": "Week"
         }
        },
        "yaxis": {
         "anchor": "x",
         "autorange": "reversed",
         "domain": [
          0,
          1
         ],
         "title": {
          "text": "Rank"
         }
        }
       }
      }
     },
     "metadata": {},
     "output_type": "display_data"
    }
   ],
   "source": [
    "import plotly.io as pio\n",
    "pio.renderers\n",
    "plot = px.scatter(test_df, x = 'Week', y = 'Rank', color = 'Team', trendline='ols', trendline_options=dict(log_x=True), title='Week vs. Average Player Rank')\n",
    "plot.update_yaxes(autorange = 'reversed')\n",
    "plot.show()"
   ]
  },
  {
   "cell_type": "code",
   "execution_count": 15,
   "metadata": {},
   "outputs": [
    {
     "data": {
      "application/vnd.plotly.v1+json": {
       "config": {
        "plotlyServerURL": "https://plot.ly"
       },
       "data": [
        {
         "hovertemplate": "Team=Cougar Town Zach Wilson<br>Week=%{x}<br>Rank=%{y}<extra></extra>",
         "legendgroup": "Cougar Town Zach Wilson",
         "marker": {
          "color": "#636efa",
          "symbol": "circle"
         },
         "mode": "markers",
         "name": "Cougar Town Zach Wilson",
         "orientation": "v",
         "showlegend": true,
         "type": "scatter",
         "x": [
          1,
          2,
          3,
          4,
          5,
          6,
          7,
          8,
          9,
          10,
          11
         ],
         "xaxis": "x",
         "y": [
          16.5,
          20.1875,
          18.5625,
          18.133333333333333,
          17.75,
          18.875,
          12.3125,
          11.2,
          14.461538461538462,
          14.916666666666666,
          14.166666666666666
         ],
         "yaxis": "y"
        },
        {
         "hovertemplate": "<b>OLS trendline</b><br>Rank = -5.17614 * log10(Week) + 19.6737<br>R<sup>2</sup>=0.335327<br><br>Team=Cougar Town Zach Wilson<br>Week=%{x}<br>Rank=%{y} <b>(trend)</b><extra></extra>",
         "legendgroup": "Cougar Town Zach Wilson",
         "marker": {
          "color": "#636efa",
          "symbol": "circle"
         },
         "mode": "lines",
         "name": "Cougar Town Zach Wilson",
         "showlegend": false,
         "type": "scatter",
         "x": [
          1,
          2,
          3,
          4,
          5,
          6,
          7,
          8,
          9,
          10,
          11
         ],
         "xaxis": "x",
         "y": [
          19.67366740462004,
          18.115494392390318,
          17.2040216106002,
          16.55732138016059,
          16.055701710828572,
          15.645848598370474,
          15.299322729319599,
          14.999148367930866,
          14.734375816580357,
          14.497528698598849,
          14.28327441880521
         ],
         "yaxis": "y"
        },
        {
         "hovertemplate": "Team=Couv Reigning Champ<br>Week=%{x}<br>Rank=%{y}<extra></extra>",
         "legendgroup": "Couv Reigning Champ",
         "marker": {
          "color": "#EF553B",
          "symbol": "circle"
         },
         "mode": "markers",
         "name": "Couv Reigning Champ",
         "orientation": "v",
         "showlegend": true,
         "type": "scatter",
         "x": [
          1,
          2,
          3,
          4,
          5,
          6,
          7,
          8,
          9,
          10,
          11
         ],
         "xaxis": "x",
         "y": [
          17.176470588235293,
          16.933333333333334,
          14.941176470588236,
          14.588235294117647,
          14.0625,
          15.1875,
          12.4,
          17.642857142857142,
          12.833333333333334,
          16.22222222222222,
          5.555555555555555
         ],
         "yaxis": "y"
        },
        {
         "hovertemplate": "<b>OLS trendline</b><br>Rank = -5.29225 * log10(Week) + 17.9791<br>R<sup>2</sup>=0.258089<br><br>Team=Couv Reigning Champ<br>Week=%{x}<br>Rank=%{y} <b>(trend)</b><extra></extra>",
         "legendgroup": "Couv Reigning Champ",
         "marker": {
          "color": "#EF553B",
          "symbol": "circle"
         },
         "mode": "lines",
         "name": "Couv Reigning Champ",
         "showlegend": false,
         "type": "scatter",
         "x": [
          1,
          2,
          3,
          4,
          5,
          6,
          7,
          8,
          9,
          10,
          11
         ],
         "xaxis": "x",
         "y": [
          17.979129355785062,
          16.386002465225207,
          15.454082975357192,
          14.792875574665349,
          14.280003269873587,
          13.860956084797337,
          13.506656738109523,
          13.199748684105494,
          12.929036594929322,
          12.68687637931373,
          12.467815818080972
         ],
         "yaxis": "y"
        },
        {
         "hovertemplate": "Team=Diggy Wit it<br>Week=%{x}<br>Rank=%{y}<extra></extra>",
         "legendgroup": "Diggy Wit it",
         "marker": {
          "color": "#00cc96",
          "symbol": "circle"
         },
         "mode": "markers",
         "name": "Diggy Wit it",
         "orientation": "v",
         "showlegend": true,
         "type": "scatter",
         "x": [
          1,
          2,
          3,
          4,
          5,
          6,
          7,
          8,
          9,
          10,
          11
         ],
         "xaxis": "x",
         "y": [
          15.352941176470589,
          19.235294117647058,
          13.533333333333333,
          13.8125,
          15.6875,
          15.416666666666666,
          12.928571428571429,
          18.5,
          12.846153846153847,
          18.333333333333332,
          19.8
         ],
         "yaxis": "y"
        },
        {
         "hovertemplate": "<b>OLS trendline</b><br>Rank = 1.0824 * log10(Week) + 15.2017<br>R<sup>2</sup>=0.018127<br><br>Team=Diggy Wit it<br>Week=%{x}<br>Rank=%{y} <b>(trend)</b><extra></extra>",
         "legendgroup": "Diggy Wit it",
         "marker": {
          "color": "#00cc96",
          "symbol": "circle"
         },
         "mode": "lines",
         "name": "Diggy Wit it",
         "showlegend": false,
         "type": "scatter",
         "x": [
          1,
          2,
          3,
          4,
          5,
          6,
          7,
          8,
          9,
          10,
          11
         ],
         "xaxis": "x",
         "y": [
          15.201705904614839,
          15.527542276930259,
          15.718144336105798,
          15.85337864924568,
          15.958274531830192,
          16.043980708421216,
          16.116444248219928,
          16.1792150215611,
          16.234582767596756,
          16.284110904145614,
          16.32891455350488
         ],
         "yaxis": "y"
        },
        {
         "hovertemplate": "Team=Eugene Tweakers<br>Week=%{x}<br>Rank=%{y}<extra></extra>",
         "legendgroup": "Eugene Tweakers",
         "marker": {
          "color": "#ab63fa",
          "symbol": "circle"
         },
         "mode": "markers",
         "name": "Eugene Tweakers",
         "orientation": "v",
         "showlegend": true,
         "type": "scatter",
         "x": [
          1,
          2,
          3,
          4,
          5,
          6,
          7,
          8,
          9,
          10,
          11
         ],
         "xaxis": "x",
         "y": [
          15.875,
          15.0625,
          13.8125,
          16.75,
          16.3125,
          16.714285714285715,
          15.933333333333334,
          12.785714285714286,
          12.333333333333334,
          17.5,
          17.333333333333332
         ],
         "yaxis": "y"
        },
        {
         "hovertemplate": "<b>OLS trendline</b><br>Rank = 0.182804 * log10(Week) + 15.3657<br>R<sup>2</sup>=0.001100<br><br>Team=Eugene Tweakers<br>Week=%{x}<br>Rank=%{y} <b>(trend)</b><extra></extra>",
         "legendgroup": "Eugene Tweakers",
         "marker": {
          "color": "#ab63fa",
          "symbol": "circle"
         },
         "mode": "lines",
         "name": "Eugene Tweakers",
         "showlegend": false,
         "type": "scatter",
         "x": [
          1,
          2,
          3,
          4,
          5,
          6,
          7,
          8,
          9,
          10,
          11
         ],
         "xaxis": "x",
         "y": [
          15.365725053059581,
          15.420754649155706,
          15.45294489930177,
          15.475784245251829,
          15.493499818285477,
          15.507974495397894,
          15.520212660518878,
          15.530813841347953,
          15.540164745543958,
          15.5485294143816,
          15.556096177755352
         ],
         "yaxis": "y"
        },
        {
         "hovertemplate": "Team=Gorilla Guys<br>Week=%{x}<br>Rank=%{y}<extra></extra>",
         "legendgroup": "Gorilla Guys",
         "marker": {
          "color": "#FFA15A",
          "symbol": "circle"
         },
         "mode": "markers",
         "name": "Gorilla Guys",
         "orientation": "v",
         "showlegend": true,
         "type": "scatter",
         "x": [
          1,
          2,
          3,
          4,
          5,
          6,
          7,
          8,
          9,
          10,
          11
         ],
         "xaxis": "x",
         "y": [
          15.375,
          14.529411764705882,
          20.705882352941178,
          14.294117647058824,
          16,
          9.857142857142858,
          12.642857142857142,
          16.53846153846154,
          16.384615384615383,
          18.083333333333332,
          14
         ],
         "yaxis": "y"
        },
        {
         "hovertemplate": "<b>OLS trendline</b><br>Rank = -0.71009 * log10(Week) + 15.8008<br>R<sup>2</sup>=0.006587<br><br>Team=Gorilla Guys<br>Week=%{x}<br>Rank=%{y} <b>(trend)</b><extra></extra>",
         "legendgroup": "Gorilla Guys",
         "marker": {
          "color": "#FFA15A",
          "symbol": "circle"
         },
         "mode": "lines",
         "name": "Gorilla Guys",
         "showlegend": false,
         "type": "scatter",
         "x": [
          1,
          2,
          3,
          4,
          5,
          6,
          7,
          8,
          9,
          10,
          11
         ],
         "xaxis": "x",
         "y": [
          15.80075693258884,
          15.586998559856916,
          15.461957927593565,
          15.373240187124992,
          15.30442536142518,
          15.24819955486164,
          15.20066131276885,
          15.159481814393068,
          15.12315892259829,
          15.090666988693256,
          15.061274459211564
         ],
         "yaxis": "y"
        },
        {
         "hovertemplate": "Team=I dont know what im doing<br>Week=%{x}<br>Rank=%{y}<extra></extra>",
         "legendgroup": "I dont know what im doing",
         "marker": {
          "color": "#19d3f3",
          "symbol": "circle"
         },
         "mode": "markers",
         "name": "I dont know what im doing",
         "orientation": "v",
         "showlegend": true,
         "type": "scatter",
         "x": [
          1,
          2,
          3,
          4,
          5,
          6,
          7,
          8,
          9,
          10,
          11
         ],
         "xaxis": "x",
         "y": [
          14.75,
          14.125,
          16.4,
          15.533333333333333,
          16.666666666666668,
          15.6,
          16.933333333333334,
          18.46153846153846,
          16.923076923076923,
          11.818181818181818,
          18
         ],
         "yaxis": "y"
        },
        {
         "hovertemplate": "<b>OLS trendline</b><br>Rank = 1.75605 * log10(Week) + 14.7148<br>R<sup>2</sup>=0.091544<br><br>Team=I dont know what im doing<br>Week=%{x}<br>Rank=%{y} <b>(trend)</b><extra></extra>",
         "legendgroup": "I dont know what im doing",
         "marker": {
          "color": "#19d3f3",
          "symbol": "circle"
         },
         "mode": "lines",
         "name": "I dont know what im doing",
         "showlegend": false,
         "type": "scatter",
         "x": [
          1,
          2,
          3,
          4,
          5,
          6,
          7,
          8,
          9,
          10,
          11
         ],
         "xaxis": "x",
         "y": [
          14.714829453073445,
          15.24345306027501,
          15.552678047483877,
          15.772076667476577,
          15.942255458255463,
          16.081301654685443,
          16.198863538666608,
          16.300700274678142,
          16.390526641894308,
          16.470879065457027,
          16.543566674184646
         ],
         "yaxis": "y"
        },
        {
         "hovertemplate": "Team=Just-in-N-out Drive thru<br>Week=%{x}<br>Rank=%{y}<extra></extra>",
         "legendgroup": "Just-in-N-out Drive thru",
         "marker": {
          "color": "#FF6692",
          "symbol": "circle"
         },
         "mode": "markers",
         "name": "Just-in-N-out Drive thru",
         "orientation": "v",
         "showlegend": true,
         "type": "scatter",
         "x": [
          1,
          2,
          3,
          4,
          5,
          6,
          7,
          8,
          9,
          10,
          11
         ],
         "xaxis": "x",
         "y": [
          16.6875,
          17.8125,
          15.2,
          16.642857142857142,
          17.384615384615383,
          11.153846153846153,
          14.583333333333334,
          13.75,
          16.818181818181817,
          12.090909090909092,
          15.3
         ],
         "yaxis": "y"
        },
        {
         "hovertemplate": "<b>OLS trendline</b><br>Rank = -3.2588 * log10(Week) + 17.4722<br>R<sup>2</sup>=0.236422<br><br>Team=Just-in-N-out Drive thru<br>Week=%{x}<br>Rank=%{y} <b>(trend)</b><extra></extra>",
         "legendgroup": "Just-in-N-out Drive thru",
         "marker": {
          "color": "#FF6692",
          "symbol": "circle"
         },
         "mode": "lines",
         "name": "Just-in-N-out Drive thru",
         "showlegend": false,
         "type": "scatter",
         "x": [
          1,
          2,
          3,
          4,
          5,
          6,
          7,
          8,
          9,
          10,
          11
         ],
         "xaxis": "x",
         "y": [
          17.472217519933746,
          16.49122082980548,
          15.917374552748875,
          15.510224139677218,
          15.194413744133417,
          14.936377862620612,
          14.718211633379946,
          14.529227449548953,
          14.362531585564005,
          14.213417054005154,
          14.078526552325494
         ],
         "yaxis": "y"
        },
        {
         "hovertemplate": "Team=My Team  A Bust<br>Week=%{x}<br>Rank=%{y}<extra></extra>",
         "legendgroup": "My Team  A Bust",
         "marker": {
          "color": "#B6E880",
          "symbol": "circle"
         },
         "mode": "markers",
         "name": "My Team  A Bust",
         "orientation": "v",
         "showlegend": true,
         "type": "scatter",
         "x": [
          1,
          2,
          3,
          4,
          5,
          6,
          7,
          8,
          9,
          10,
          11
         ],
         "xaxis": "x",
         "y": [
          17.705882352941178,
          18.764705882352942,
          14.529411764705882,
          16.235294117647058,
          16.642857142857142,
          11.428571428571429,
          13.444444444444445,
          18.333333333333332,
          12.625,
          11.125,
          10.444444444444445
         ],
         "yaxis": "y"
        },
        {
         "hovertemplate": "<b>OLS trendline</b><br>Rank = -6.29972 * log10(Week) + 19.0149<br>R<sup>2</sup>=0.449868<br><br>Team=My Team  A Bust<br>Week=%{x}<br>Rank=%{y} <b>(trend)</b><extra></extra>",
         "legendgroup": "My Team  A Bust",
         "marker": {
          "color": "#B6E880",
          "symbol": "circle"
         },
         "mode": "lines",
         "name": "My Team  A Bust",
         "showlegend": false,
         "type": "scatter",
         "x": [
          1,
          2,
          3,
          4,
          5,
          6,
          7,
          8,
          9,
          10,
          11
         ],
         "xaxis": "x",
         "y": [
          19.014918186833427,
          17.118513405764872,
          16.009187722651454,
          15.222108624696316,
          14.611602646391631,
          14.112782941582896,
          13.691036890487045,
          13.32570384362776,
          13.003457258469478,
          12.715197865323075,
          12.454435525469925
         ],
         "yaxis": "y"
        },
        {
         "hovertemplate": "Team=No Nyugen Will Win<br>Week=%{x}<br>Rank=%{y}<extra></extra>",
         "legendgroup": "No Nyugen Will Win",
         "marker": {
          "color": "#FF97FF",
          "symbol": "circle"
         },
         "mode": "markers",
         "name": "No Nyugen Will Win",
         "orientation": "v",
         "showlegend": true,
         "type": "scatter",
         "x": [
          1,
          2,
          3,
          4,
          5,
          6,
          7,
          8,
          9,
          10,
          11
         ],
         "xaxis": "x",
         "y": [
          17.5,
          15,
          17.058823529411764,
          15.941176470588236,
          13.25,
          15.75,
          13.4,
          16.857142857142858,
          15.916666666666666,
          12.461538461538462,
          14.666666666666666
         ],
         "yaxis": "y"
        },
        {
         "hovertemplate": "<b>OLS trendline</b><br>Rank = -2.59057 * log10(Week) + 17.0449<br>R<sup>2</sup>=0.253792<br><br>Team=No Nyugen Will Win<br>Week=%{x}<br>Rank=%{y} <b>(trend)</b><extra></extra>",
         "legendgroup": "No Nyugen Will Win",
         "marker": {
          "color": "#FF97FF",
          "symbol": "circle"
         },
         "mode": "lines",
         "name": "No Nyugen Will Win",
         "showlegend": false,
         "type": "scatter",
         "x": [
          1,
          2,
          3,
          4,
          5,
          6,
          7,
          8,
          9,
          10,
          11
         ],
         "xaxis": "x",
         "y": [
          17.044850603552838,
          16.265010693298116,
          15.80883358923335,
          15.485170783043392,
          15.234118406417958,
          15.028993678978628,
          14.855563193082283,
          14.70533087278867,
          14.572816574913864,
          14.454278496163235,
          14.347047760542377
         ],
         "yaxis": "y"
        },
        {
         "hovertemplate": "Team=P-Town CASH KEVIN<br>Week=%{x}<br>Rank=%{y}<extra></extra>",
         "legendgroup": "P-Town CASH KEVIN",
         "marker": {
          "color": "#FECB52",
          "symbol": "circle"
         },
         "mode": "markers",
         "name": "P-Town CASH KEVIN",
         "orientation": "v",
         "showlegend": true,
         "type": "scatter",
         "x": [
          1,
          2,
          3,
          4,
          5,
          6,
          7,
          8,
          9,
          10,
          11
         ],
         "xaxis": "x",
         "y": [
          19.5,
          19.375,
          14,
          17,
          20.75,
          16.4375,
          12.933333333333334,
          9.714285714285714,
          12.285714285714286,
          12.307692307692308,
          12.923076923076923
         ],
         "yaxis": "y"
        },
        {
         "hovertemplate": "<b>OLS trendline</b><br>Rank = -7.9475 * log10(Week) + 20.6943<br>R<sup>2</sup>=0.507963<br><br>Team=P-Town CASH KEVIN<br>Week=%{x}<br>Rank=%{y} <b>(trend)</b><extra></extra>",
         "legendgroup": "P-Town CASH KEVIN",
         "marker": {
          "color": "#FECB52",
          "symbol": "circle"
         },
         "mode": "lines",
         "name": "P-Town CASH KEVIN",
         "showlegend": false,
         "type": "scatter",
         "x": [
          1,
          2,
          3,
          4,
          5,
          6,
          7,
          8,
          9,
          10,
          11
         ],
         "xaxis": "x",
         "y": [
          20.69425186447118,
          18.30181665209679,
          16.902331767452914,
          15.909381439722397,
          15.139189329661267,
          14.509896555078523,
          13.977837095308002,
          13.516946227348004,
          13.110411670434647,
          12.746754117286875,
          12.417785845241971
         ],
         "yaxis": "y"
        }
       ],
       "layout": {
        "legend": {
         "title": {
          "text": "Team"
         },
         "tracegroupgap": 0
        },
        "template": {
         "data": {
          "bar": [
           {
            "error_x": {
             "color": "#2a3f5f"
            },
            "error_y": {
             "color": "#2a3f5f"
            },
            "marker": {
             "line": {
              "color": "#E5ECF6",
              "width": 0.5
             },
             "pattern": {
              "fillmode": "overlay",
              "size": 10,
              "solidity": 0.2
             }
            },
            "type": "bar"
           }
          ],
          "barpolar": [
           {
            "marker": {
             "line": {
              "color": "#E5ECF6",
              "width": 0.5
             },
             "pattern": {
              "fillmode": "overlay",
              "size": 10,
              "solidity": 0.2
             }
            },
            "type": "barpolar"
           }
          ],
          "carpet": [
           {
            "aaxis": {
             "endlinecolor": "#2a3f5f",
             "gridcolor": "white",
             "linecolor": "white",
             "minorgridcolor": "white",
             "startlinecolor": "#2a3f5f"
            },
            "baxis": {
             "endlinecolor": "#2a3f5f",
             "gridcolor": "white",
             "linecolor": "white",
             "minorgridcolor": "white",
             "startlinecolor": "#2a3f5f"
            },
            "type": "carpet"
           }
          ],
          "choropleth": [
           {
            "colorbar": {
             "outlinewidth": 0,
             "ticks": ""
            },
            "type": "choropleth"
           }
          ],
          "contour": [
           {
            "colorbar": {
             "outlinewidth": 0,
             "ticks": ""
            },
            "colorscale": [
             [
              0,
              "#0d0887"
             ],
             [
              0.1111111111111111,
              "#46039f"
             ],
             [
              0.2222222222222222,
              "#7201a8"
             ],
             [
              0.3333333333333333,
              "#9c179e"
             ],
             [
              0.4444444444444444,
              "#bd3786"
             ],
             [
              0.5555555555555556,
              "#d8576b"
             ],
             [
              0.6666666666666666,
              "#ed7953"
             ],
             [
              0.7777777777777778,
              "#fb9f3a"
             ],
             [
              0.8888888888888888,
              "#fdca26"
             ],
             [
              1,
              "#f0f921"
             ]
            ],
            "type": "contour"
           }
          ],
          "contourcarpet": [
           {
            "colorbar": {
             "outlinewidth": 0,
             "ticks": ""
            },
            "type": "contourcarpet"
           }
          ],
          "heatmap": [
           {
            "colorbar": {
             "outlinewidth": 0,
             "ticks": ""
            },
            "colorscale": [
             [
              0,
              "#0d0887"
             ],
             [
              0.1111111111111111,
              "#46039f"
             ],
             [
              0.2222222222222222,
              "#7201a8"
             ],
             [
              0.3333333333333333,
              "#9c179e"
             ],
             [
              0.4444444444444444,
              "#bd3786"
             ],
             [
              0.5555555555555556,
              "#d8576b"
             ],
             [
              0.6666666666666666,
              "#ed7953"
             ],
             [
              0.7777777777777778,
              "#fb9f3a"
             ],
             [
              0.8888888888888888,
              "#fdca26"
             ],
             [
              1,
              "#f0f921"
             ]
            ],
            "type": "heatmap"
           }
          ],
          "heatmapgl": [
           {
            "colorbar": {
             "outlinewidth": 0,
             "ticks": ""
            },
            "colorscale": [
             [
              0,
              "#0d0887"
             ],
             [
              0.1111111111111111,
              "#46039f"
             ],
             [
              0.2222222222222222,
              "#7201a8"
             ],
             [
              0.3333333333333333,
              "#9c179e"
             ],
             [
              0.4444444444444444,
              "#bd3786"
             ],
             [
              0.5555555555555556,
              "#d8576b"
             ],
             [
              0.6666666666666666,
              "#ed7953"
             ],
             [
              0.7777777777777778,
              "#fb9f3a"
             ],
             [
              0.8888888888888888,
              "#fdca26"
             ],
             [
              1,
              "#f0f921"
             ]
            ],
            "type": "heatmapgl"
           }
          ],
          "histogram": [
           {
            "marker": {
             "pattern": {
              "fillmode": "overlay",
              "size": 10,
              "solidity": 0.2
             }
            },
            "type": "histogram"
           }
          ],
          "histogram2d": [
           {
            "colorbar": {
             "outlinewidth": 0,
             "ticks": ""
            },
            "colorscale": [
             [
              0,
              "#0d0887"
             ],
             [
              0.1111111111111111,
              "#46039f"
             ],
             [
              0.2222222222222222,
              "#7201a8"
             ],
             [
              0.3333333333333333,
              "#9c179e"
             ],
             [
              0.4444444444444444,
              "#bd3786"
             ],
             [
              0.5555555555555556,
              "#d8576b"
             ],
             [
              0.6666666666666666,
              "#ed7953"
             ],
             [
              0.7777777777777778,
              "#fb9f3a"
             ],
             [
              0.8888888888888888,
              "#fdca26"
             ],
             [
              1,
              "#f0f921"
             ]
            ],
            "type": "histogram2d"
           }
          ],
          "histogram2dcontour": [
           {
            "colorbar": {
             "outlinewidth": 0,
             "ticks": ""
            },
            "colorscale": [
             [
              0,
              "#0d0887"
             ],
             [
              0.1111111111111111,
              "#46039f"
             ],
             [
              0.2222222222222222,
              "#7201a8"
             ],
             [
              0.3333333333333333,
              "#9c179e"
             ],
             [
              0.4444444444444444,
              "#bd3786"
             ],
             [
              0.5555555555555556,
              "#d8576b"
             ],
             [
              0.6666666666666666,
              "#ed7953"
             ],
             [
              0.7777777777777778,
              "#fb9f3a"
             ],
             [
              0.8888888888888888,
              "#fdca26"
             ],
             [
              1,
              "#f0f921"
             ]
            ],
            "type": "histogram2dcontour"
           }
          ],
          "mesh3d": [
           {
            "colorbar": {
             "outlinewidth": 0,
             "ticks": ""
            },
            "type": "mesh3d"
           }
          ],
          "parcoords": [
           {
            "line": {
             "colorbar": {
              "outlinewidth": 0,
              "ticks": ""
             }
            },
            "type": "parcoords"
           }
          ],
          "pie": [
           {
            "automargin": true,
            "type": "pie"
           }
          ],
          "scatter": [
           {
            "marker": {
             "colorbar": {
              "outlinewidth": 0,
              "ticks": ""
             }
            },
            "type": "scatter"
           }
          ],
          "scatter3d": [
           {
            "line": {
             "colorbar": {
              "outlinewidth": 0,
              "ticks": ""
             }
            },
            "marker": {
             "colorbar": {
              "outlinewidth": 0,
              "ticks": ""
             }
            },
            "type": "scatter3d"
           }
          ],
          "scattercarpet": [
           {
            "marker": {
             "colorbar": {
              "outlinewidth": 0,
              "ticks": ""
             }
            },
            "type": "scattercarpet"
           }
          ],
          "scattergeo": [
           {
            "marker": {
             "colorbar": {
              "outlinewidth": 0,
              "ticks": ""
             }
            },
            "type": "scattergeo"
           }
          ],
          "scattergl": [
           {
            "marker": {
             "colorbar": {
              "outlinewidth": 0,
              "ticks": ""
             }
            },
            "type": "scattergl"
           }
          ],
          "scattermapbox": [
           {
            "marker": {
             "colorbar": {
              "outlinewidth": 0,
              "ticks": ""
             }
            },
            "type": "scattermapbox"
           }
          ],
          "scatterpolar": [
           {
            "marker": {
             "colorbar": {
              "outlinewidth": 0,
              "ticks": ""
             }
            },
            "type": "scatterpolar"
           }
          ],
          "scatterpolargl": [
           {
            "marker": {
             "colorbar": {
              "outlinewidth": 0,
              "ticks": ""
             }
            },
            "type": "scatterpolargl"
           }
          ],
          "scatterternary": [
           {
            "marker": {
             "colorbar": {
              "outlinewidth": 0,
              "ticks": ""
             }
            },
            "type": "scatterternary"
           }
          ],
          "surface": [
           {
            "colorbar": {
             "outlinewidth": 0,
             "ticks": ""
            },
            "colorscale": [
             [
              0,
              "#0d0887"
             ],
             [
              0.1111111111111111,
              "#46039f"
             ],
             [
              0.2222222222222222,
              "#7201a8"
             ],
             [
              0.3333333333333333,
              "#9c179e"
             ],
             [
              0.4444444444444444,
              "#bd3786"
             ],
             [
              0.5555555555555556,
              "#d8576b"
             ],
             [
              0.6666666666666666,
              "#ed7953"
             ],
             [
              0.7777777777777778,
              "#fb9f3a"
             ],
             [
              0.8888888888888888,
              "#fdca26"
             ],
             [
              1,
              "#f0f921"
             ]
            ],
            "type": "surface"
           }
          ],
          "table": [
           {
            "cells": {
             "fill": {
              "color": "#EBF0F8"
             },
             "line": {
              "color": "white"
             }
            },
            "header": {
             "fill": {
              "color": "#C8D4E3"
             },
             "line": {
              "color": "white"
             }
            },
            "type": "table"
           }
          ]
         },
         "layout": {
          "annotationdefaults": {
           "arrowcolor": "#2a3f5f",
           "arrowhead": 0,
           "arrowwidth": 1
          },
          "autotypenumbers": "strict",
          "coloraxis": {
           "colorbar": {
            "outlinewidth": 0,
            "ticks": ""
           }
          },
          "colorscale": {
           "diverging": [
            [
             0,
             "#8e0152"
            ],
            [
             0.1,
             "#c51b7d"
            ],
            [
             0.2,
             "#de77ae"
            ],
            [
             0.3,
             "#f1b6da"
            ],
            [
             0.4,
             "#fde0ef"
            ],
            [
             0.5,
             "#f7f7f7"
            ],
            [
             0.6,
             "#e6f5d0"
            ],
            [
             0.7,
             "#b8e186"
            ],
            [
             0.8,
             "#7fbc41"
            ],
            [
             0.9,
             "#4d9221"
            ],
            [
             1,
             "#276419"
            ]
           ],
           "sequential": [
            [
             0,
             "#0d0887"
            ],
            [
             0.1111111111111111,
             "#46039f"
            ],
            [
             0.2222222222222222,
             "#7201a8"
            ],
            [
             0.3333333333333333,
             "#9c179e"
            ],
            [
             0.4444444444444444,
             "#bd3786"
            ],
            [
             0.5555555555555556,
             "#d8576b"
            ],
            [
             0.6666666666666666,
             "#ed7953"
            ],
            [
             0.7777777777777778,
             "#fb9f3a"
            ],
            [
             0.8888888888888888,
             "#fdca26"
            ],
            [
             1,
             "#f0f921"
            ]
           ],
           "sequentialminus": [
            [
             0,
             "#0d0887"
            ],
            [
             0.1111111111111111,
             "#46039f"
            ],
            [
             0.2222222222222222,
             "#7201a8"
            ],
            [
             0.3333333333333333,
             "#9c179e"
            ],
            [
             0.4444444444444444,
             "#bd3786"
            ],
            [
             0.5555555555555556,
             "#d8576b"
            ],
            [
             0.6666666666666666,
             "#ed7953"
            ],
            [
             0.7777777777777778,
             "#fb9f3a"
            ],
            [
             0.8888888888888888,
             "#fdca26"
            ],
            [
             1,
             "#f0f921"
            ]
           ]
          },
          "colorway": [
           "#636efa",
           "#EF553B",
           "#00cc96",
           "#ab63fa",
           "#FFA15A",
           "#19d3f3",
           "#FF6692",
           "#B6E880",
           "#FF97FF",
           "#FECB52"
          ],
          "font": {
           "color": "#2a3f5f"
          },
          "geo": {
           "bgcolor": "white",
           "lakecolor": "white",
           "landcolor": "#E5ECF6",
           "showlakes": true,
           "showland": true,
           "subunitcolor": "white"
          },
          "hoverlabel": {
           "align": "left"
          },
          "hovermode": "closest",
          "mapbox": {
           "style": "light"
          },
          "paper_bgcolor": "white",
          "plot_bgcolor": "#E5ECF6",
          "polar": {
           "angularaxis": {
            "gridcolor": "white",
            "linecolor": "white",
            "ticks": ""
           },
           "bgcolor": "#E5ECF6",
           "radialaxis": {
            "gridcolor": "white",
            "linecolor": "white",
            "ticks": ""
           }
          },
          "scene": {
           "xaxis": {
            "backgroundcolor": "#E5ECF6",
            "gridcolor": "white",
            "gridwidth": 2,
            "linecolor": "white",
            "showbackground": true,
            "ticks": "",
            "zerolinecolor": "white"
           },
           "yaxis": {
            "backgroundcolor": "#E5ECF6",
            "gridcolor": "white",
            "gridwidth": 2,
            "linecolor": "white",
            "showbackground": true,
            "ticks": "",
            "zerolinecolor": "white"
           },
           "zaxis": {
            "backgroundcolor": "#E5ECF6",
            "gridcolor": "white",
            "gridwidth": 2,
            "linecolor": "white",
            "showbackground": true,
            "ticks": "",
            "zerolinecolor": "white"
           }
          },
          "shapedefaults": {
           "line": {
            "color": "#2a3f5f"
           }
          },
          "ternary": {
           "aaxis": {
            "gridcolor": "white",
            "linecolor": "white",
            "ticks": ""
           },
           "baxis": {
            "gridcolor": "white",
            "linecolor": "white",
            "ticks": ""
           },
           "bgcolor": "#E5ECF6",
           "caxis": {
            "gridcolor": "white",
            "linecolor": "white",
            "ticks": ""
           }
          },
          "title": {
           "x": 0.05
          },
          "xaxis": {
           "automargin": true,
           "gridcolor": "white",
           "linecolor": "white",
           "ticks": "",
           "title": {
            "standoff": 15
           },
           "zerolinecolor": "white",
           "zerolinewidth": 2
          },
          "yaxis": {
           "automargin": true,
           "gridcolor": "white",
           "linecolor": "white",
           "ticks": "",
           "title": {
            "standoff": 15
           },
           "zerolinecolor": "white",
           "zerolinewidth": 2
          }
         }
        },
        "title": {
         "text": "Week vs. Average Player Rank"
        },
        "xaxis": {
         "anchor": "y",
         "domain": [
          0,
          1
         ],
         "title": {
          "text": "Week"
         }
        },
        "yaxis": {
         "anchor": "x",
         "autorange": "reversed",
         "domain": [
          0,
          1
         ],
         "title": {
          "text": "Rank"
         }
        }
       }
      }
     },
     "metadata": {},
     "output_type": "display_data"
    }
   ],
   "source": [
    "import plotly.io as pio\n",
    "pio.renderersplot = px.scatter(test_df, x = 'Week', y = 'Projected_Points', color = 'Team', title='Week vs. Average Projected Points')\n",
    "plot.update_yaxes(autorange = 'reversed')\n",
    "plot.show()\n"
   ]
  },
  {
   "cell_type": "code",
   "execution_count": 16,
   "metadata": {},
   "outputs": [],
   "source": [
    "merged_df.to_csv('Data/player_projections.csv')"
   ]
  },
  {
   "cell_type": "code",
   "execution_count": 17,
   "metadata": {},
   "outputs": [
    {
     "data": {
      "text/html": [
       "<div>\n",
       "<style scoped>\n",
       "    .dataframe tbody tr th:only-of-type {\n",
       "        vertical-align: middle;\n",
       "    }\n",
       "\n",
       "    .dataframe tbody tr th {\n",
       "        vertical-align: top;\n",
       "    }\n",
       "\n",
       "    .dataframe thead th {\n",
       "        text-align: right;\n",
       "    }\n",
       "</style>\n",
       "<table border=\"1\" class=\"dataframe\">\n",
       "  <thead>\n",
       "    <tr style=\"text-align: right;\">\n",
       "      <th></th>\n",
       "      <th>Week</th>\n",
       "      <th>Rank</th>\n",
       "      <th>Projected_Points</th>\n",
       "      <th>Actual_Points</th>\n",
       "      <th>Point-Residuals</th>\n",
       "    </tr>\n",
       "  </thead>\n",
       "  <tbody>\n",
       "    <tr>\n",
       "      <th>0</th>\n",
       "      <td>1</td>\n",
       "      <td>2713</td>\n",
       "      <td>1908.84</td>\n",
       "      <td>1835.60</td>\n",
       "      <td>-73.24</td>\n",
       "    </tr>\n",
       "    <tr>\n",
       "      <th>1</th>\n",
       "      <td>2</td>\n",
       "      <td>2787</td>\n",
       "      <td>1811.06</td>\n",
       "      <td>1834.24</td>\n",
       "      <td>23.18</td>\n",
       "    </tr>\n",
       "    <tr>\n",
       "      <th>2</th>\n",
       "      <td>3</td>\n",
       "      <td>2562</td>\n",
       "      <td>1828.99</td>\n",
       "      <td>1700.96</td>\n",
       "      <td>-128.03</td>\n",
       "    </tr>\n",
       "    <tr>\n",
       "      <th>3</th>\n",
       "      <td>4</td>\n",
       "      <td>2537</td>\n",
       "      <td>1830.45</td>\n",
       "      <td>1801.24</td>\n",
       "      <td>-29.21</td>\n",
       "    </tr>\n",
       "    <tr>\n",
       "      <th>4</th>\n",
       "      <td>5</td>\n",
       "      <td>2546</td>\n",
       "      <td>1737.16</td>\n",
       "      <td>1630.74</td>\n",
       "      <td>-106.42</td>\n",
       "    </tr>\n",
       "    <tr>\n",
       "      <th>5</th>\n",
       "      <td>6</td>\n",
       "      <td>2156</td>\n",
       "      <td>1414.41</td>\n",
       "      <td>1381.06</td>\n",
       "      <td>-33.35</td>\n",
       "    </tr>\n",
       "    <tr>\n",
       "      <th>6</th>\n",
       "      <td>7</td>\n",
       "      <td>1925</td>\n",
       "      <td>1341.29</td>\n",
       "      <td>1318.84</td>\n",
       "      <td>-22.45</td>\n",
       "    </tr>\n",
       "    <tr>\n",
       "      <th>7</th>\n",
       "      <td>8</td>\n",
       "      <td>2010</td>\n",
       "      <td>1353.38</td>\n",
       "      <td>1469.86</td>\n",
       "      <td>116.48</td>\n",
       "    </tr>\n",
       "    <tr>\n",
       "      <th>8</th>\n",
       "      <td>9</td>\n",
       "      <td>1739</td>\n",
       "      <td>1138.71</td>\n",
       "      <td>1154.22</td>\n",
       "      <td>15.51</td>\n",
       "    </tr>\n",
       "    <tr>\n",
       "      <th>9</th>\n",
       "      <td>10</td>\n",
       "      <td>1646</td>\n",
       "      <td>1187.83</td>\n",
       "      <td>1109.00</td>\n",
       "      <td>-78.83</td>\n",
       "    </tr>\n",
       "    <tr>\n",
       "      <th>10</th>\n",
       "      <td>11</td>\n",
       "      <td>1451</td>\n",
       "      <td>1094.81</td>\n",
       "      <td>1079.96</td>\n",
       "      <td>-14.85</td>\n",
       "    </tr>\n",
       "  </tbody>\n",
       "</table>\n",
       "</div>"
      ],
      "text/plain": [
       "    Week  Rank  Projected_Points  Actual_Points  Point-Residuals\n",
       "0      1  2713           1908.84        1835.60           -73.24\n",
       "1      2  2787           1811.06        1834.24            23.18\n",
       "2      3  2562           1828.99        1700.96          -128.03\n",
       "3      4  2537           1830.45        1801.24           -29.21\n",
       "4      5  2546           1737.16        1630.74          -106.42\n",
       "5      6  2156           1414.41        1381.06           -33.35\n",
       "6      7  1925           1341.29        1318.84           -22.45\n",
       "7      8  2010           1353.38        1469.86           116.48\n",
       "8      9  1739           1138.71        1154.22            15.51\n",
       "9     10  1646           1187.83        1109.00           -78.83\n",
       "10    11  1451           1094.81        1079.96           -14.85"
      ]
     },
     "execution_count": 17,
     "metadata": {},
     "output_type": "execute_result"
    }
   ],
   "source": [
    "a = merged_df.groupby(['Week'], as_index=False).sum()\n",
    "a"
   ]
  },
  {
   "cell_type": "code",
   "execution_count": 18,
   "metadata": {},
   "outputs": [
    {
     "data": {
      "application/vnd.plotly.v1+json": {
       "config": {
        "plotlyServerURL": "https://plot.ly"
       },
       "data": [
        {
         "hovertemplate": "variable=Projected_Points<br>Week=%{x}<br>value=%{y}<extra></extra>",
         "legendgroup": "Projected_Points",
         "marker": {
          "color": "#636efa",
          "symbol": "circle"
         },
         "mode": "markers",
         "name": "Projected_Points",
         "orientation": "v",
         "showlegend": true,
         "type": "scatter",
         "x": [
          1,
          2,
          3,
          4,
          5,
          6,
          7,
          8,
          9,
          10,
          11
         ],
         "xaxis": "x",
         "y": [
          1908.84,
          1811.06,
          1828.99,
          1830.45,
          1737.16,
          1414.41,
          1341.29,
          1353.3799999999999,
          1138.71,
          1187.83,
          1094.81
         ],
         "yaxis": "y"
        },
        {
         "hovertemplate": "<b>OLS trendline</b><br>value = -857.788 * log10(Week) + 2106.1<br>R<sup>2</sup>=0.784783<br><br>variable=Projected_Points<br>Week=%{x}<br>value=%{y} <b>(trend)</b><extra></extra>",
         "legendgroup": "Projected_Points",
         "marker": {
          "color": "#636efa",
          "symbol": "circle"
         },
         "mode": "lines",
         "name": "Projected_Points",
         "showlegend": false,
         "type": "scatter",
         "x": [
          1,
          2,
          3,
          4,
          5,
          6,
          7,
          8,
          9,
          10,
          11
         ],
         "xaxis": "x",
         "y": [
          2106.1009882201574,
          1847.881042206629,
          1696.8320568504732,
          1589.6610961931005,
          1506.5328409110475,
          1438.6121108369448,
          1381.1859518056294,
          1331.4411501795719,
          1287.5631254807893,
          1248.312894897519,
          1212.8067424181409
         ],
         "yaxis": "y"
        },
        {
         "hovertemplate": "variable=Actual_Points<br>Week=%{x}<br>value=%{y}<extra></extra>",
         "legendgroup": "Actual_Points",
         "marker": {
          "color": "#EF553B",
          "symbol": "circle"
         },
         "mode": "markers",
         "name": "Actual_Points",
         "orientation": "v",
         "showlegend": true,
         "type": "scatter",
         "x": [
          1,
          2,
          3,
          4,
          5,
          6,
          7,
          8,
          9,
          10,
          11
         ],
         "xaxis": "x",
         "y": [
          1835.6,
          1834.24,
          1700.96,
          1801.24,
          1630.74,
          1381.06,
          1318.84,
          1469.86,
          1154.22,
          1109,
          1079.96
         ],
         "yaxis": "y"
        },
        {
         "hovertemplate": "<b>OLS trendline</b><br>value = -797.084 * log10(Week) + 2034.04<br>R<sup>2</sup>=0.768040<br><br>variable=Actual_Points<br>Week=%{x}<br>value=%{y} <b>(trend)</b><extra></extra>",
         "legendgroup": "Actual_Points",
         "marker": {
          "color": "#EF553B",
          "symbol": "circle"
         },
         "mode": "lines",
         "name": "Actual_Points",
         "showlegend": false,
         "type": "scatter",
         "x": [
          1,
          2,
          3,
          4,
          5,
          6,
          7,
          8,
          9,
          10,
          11
         ],
         "xaxis": "x",
         "y": [
          2034.0438527229799,
          1794.097549736601,
          1653.7379603028926,
          1554.151246750222,
          1476.9057905545512,
          1413.7916573165135,
          1360.4294180046438,
          1314.2049437638432,
          1273.4320678828053,
          1236.9594875681723,
          1203.9660253967756
         ],
         "yaxis": "y"
        }
       ],
       "layout": {
        "legend": {
         "title": {
          "text": "variable"
         },
         "tracegroupgap": 0
        },
        "template": {
         "data": {
          "bar": [
           {
            "error_x": {
             "color": "#2a3f5f"
            },
            "error_y": {
             "color": "#2a3f5f"
            },
            "marker": {
             "line": {
              "color": "#E5ECF6",
              "width": 0.5
             },
             "pattern": {
              "fillmode": "overlay",
              "size": 10,
              "solidity": 0.2
             }
            },
            "type": "bar"
           }
          ],
          "barpolar": [
           {
            "marker": {
             "line": {
              "color": "#E5ECF6",
              "width": 0.5
             },
             "pattern": {
              "fillmode": "overlay",
              "size": 10,
              "solidity": 0.2
             }
            },
            "type": "barpolar"
           }
          ],
          "carpet": [
           {
            "aaxis": {
             "endlinecolor": "#2a3f5f",
             "gridcolor": "white",
             "linecolor": "white",
             "minorgridcolor": "white",
             "startlinecolor": "#2a3f5f"
            },
            "baxis": {
             "endlinecolor": "#2a3f5f",
             "gridcolor": "white",
             "linecolor": "white",
             "minorgridcolor": "white",
             "startlinecolor": "#2a3f5f"
            },
            "type": "carpet"
           }
          ],
          "choropleth": [
           {
            "colorbar": {
             "outlinewidth": 0,
             "ticks": ""
            },
            "type": "choropleth"
           }
          ],
          "contour": [
           {
            "colorbar": {
             "outlinewidth": 0,
             "ticks": ""
            },
            "colorscale": [
             [
              0,
              "#0d0887"
             ],
             [
              0.1111111111111111,
              "#46039f"
             ],
             [
              0.2222222222222222,
              "#7201a8"
             ],
             [
              0.3333333333333333,
              "#9c179e"
             ],
             [
              0.4444444444444444,
              "#bd3786"
             ],
             [
              0.5555555555555556,
              "#d8576b"
             ],
             [
              0.6666666666666666,
              "#ed7953"
             ],
             [
              0.7777777777777778,
              "#fb9f3a"
             ],
             [
              0.8888888888888888,
              "#fdca26"
             ],
             [
              1,
              "#f0f921"
             ]
            ],
            "type": "contour"
           }
          ],
          "contourcarpet": [
           {
            "colorbar": {
             "outlinewidth": 0,
             "ticks": ""
            },
            "type": "contourcarpet"
           }
          ],
          "heatmap": [
           {
            "colorbar": {
             "outlinewidth": 0,
             "ticks": ""
            },
            "colorscale": [
             [
              0,
              "#0d0887"
             ],
             [
              0.1111111111111111,
              "#46039f"
             ],
             [
              0.2222222222222222,
              "#7201a8"
             ],
             [
              0.3333333333333333,
              "#9c179e"
             ],
             [
              0.4444444444444444,
              "#bd3786"
             ],
             [
              0.5555555555555556,
              "#d8576b"
             ],
             [
              0.6666666666666666,
              "#ed7953"
             ],
             [
              0.7777777777777778,
              "#fb9f3a"
             ],
             [
              0.8888888888888888,
              "#fdca26"
             ],
             [
              1,
              "#f0f921"
             ]
            ],
            "type": "heatmap"
           }
          ],
          "heatmapgl": [
           {
            "colorbar": {
             "outlinewidth": 0,
             "ticks": ""
            },
            "colorscale": [
             [
              0,
              "#0d0887"
             ],
             [
              0.1111111111111111,
              "#46039f"
             ],
             [
              0.2222222222222222,
              "#7201a8"
             ],
             [
              0.3333333333333333,
              "#9c179e"
             ],
             [
              0.4444444444444444,
              "#bd3786"
             ],
             [
              0.5555555555555556,
              "#d8576b"
             ],
             [
              0.6666666666666666,
              "#ed7953"
             ],
             [
              0.7777777777777778,
              "#fb9f3a"
             ],
             [
              0.8888888888888888,
              "#fdca26"
             ],
             [
              1,
              "#f0f921"
             ]
            ],
            "type": "heatmapgl"
           }
          ],
          "histogram": [
           {
            "marker": {
             "pattern": {
              "fillmode": "overlay",
              "size": 10,
              "solidity": 0.2
             }
            },
            "type": "histogram"
           }
          ],
          "histogram2d": [
           {
            "colorbar": {
             "outlinewidth": 0,
             "ticks": ""
            },
            "colorscale": [
             [
              0,
              "#0d0887"
             ],
             [
              0.1111111111111111,
              "#46039f"
             ],
             [
              0.2222222222222222,
              "#7201a8"
             ],
             [
              0.3333333333333333,
              "#9c179e"
             ],
             [
              0.4444444444444444,
              "#bd3786"
             ],
             [
              0.5555555555555556,
              "#d8576b"
             ],
             [
              0.6666666666666666,
              "#ed7953"
             ],
             [
              0.7777777777777778,
              "#fb9f3a"
             ],
             [
              0.8888888888888888,
              "#fdca26"
             ],
             [
              1,
              "#f0f921"
             ]
            ],
            "type": "histogram2d"
           }
          ],
          "histogram2dcontour": [
           {
            "colorbar": {
             "outlinewidth": 0,
             "ticks": ""
            },
            "colorscale": [
             [
              0,
              "#0d0887"
             ],
             [
              0.1111111111111111,
              "#46039f"
             ],
             [
              0.2222222222222222,
              "#7201a8"
             ],
             [
              0.3333333333333333,
              "#9c179e"
             ],
             [
              0.4444444444444444,
              "#bd3786"
             ],
             [
              0.5555555555555556,
              "#d8576b"
             ],
             [
              0.6666666666666666,
              "#ed7953"
             ],
             [
              0.7777777777777778,
              "#fb9f3a"
             ],
             [
              0.8888888888888888,
              "#fdca26"
             ],
             [
              1,
              "#f0f921"
             ]
            ],
            "type": "histogram2dcontour"
           }
          ],
          "mesh3d": [
           {
            "colorbar": {
             "outlinewidth": 0,
             "ticks": ""
            },
            "type": "mesh3d"
           }
          ],
          "parcoords": [
           {
            "line": {
             "colorbar": {
              "outlinewidth": 0,
              "ticks": ""
             }
            },
            "type": "parcoords"
           }
          ],
          "pie": [
           {
            "automargin": true,
            "type": "pie"
           }
          ],
          "scatter": [
           {
            "marker": {
             "colorbar": {
              "outlinewidth": 0,
              "ticks": ""
             }
            },
            "type": "scatter"
           }
          ],
          "scatter3d": [
           {
            "line": {
             "colorbar": {
              "outlinewidth": 0,
              "ticks": ""
             }
            },
            "marker": {
             "colorbar": {
              "outlinewidth": 0,
              "ticks": ""
             }
            },
            "type": "scatter3d"
           }
          ],
          "scattercarpet": [
           {
            "marker": {
             "colorbar": {
              "outlinewidth": 0,
              "ticks": ""
             }
            },
            "type": "scattercarpet"
           }
          ],
          "scattergeo": [
           {
            "marker": {
             "colorbar": {
              "outlinewidth": 0,
              "ticks": ""
             }
            },
            "type": "scattergeo"
           }
          ],
          "scattergl": [
           {
            "marker": {
             "colorbar": {
              "outlinewidth": 0,
              "ticks": ""
             }
            },
            "type": "scattergl"
           }
          ],
          "scattermapbox": [
           {
            "marker": {
             "colorbar": {
              "outlinewidth": 0,
              "ticks": ""
             }
            },
            "type": "scattermapbox"
           }
          ],
          "scatterpolar": [
           {
            "marker": {
             "colorbar": {
              "outlinewidth": 0,
              "ticks": ""
             }
            },
            "type": "scatterpolar"
           }
          ],
          "scatterpolargl": [
           {
            "marker": {
             "colorbar": {
              "outlinewidth": 0,
              "ticks": ""
             }
            },
            "type": "scatterpolargl"
           }
          ],
          "scatterternary": [
           {
            "marker": {
             "colorbar": {
              "outlinewidth": 0,
              "ticks": ""
             }
            },
            "type": "scatterternary"
           }
          ],
          "surface": [
           {
            "colorbar": {
             "outlinewidth": 0,
             "ticks": ""
            },
            "colorscale": [
             [
              0,
              "#0d0887"
             ],
             [
              0.1111111111111111,
              "#46039f"
             ],
             [
              0.2222222222222222,
              "#7201a8"
             ],
             [
              0.3333333333333333,
              "#9c179e"
             ],
             [
              0.4444444444444444,
              "#bd3786"
             ],
             [
              0.5555555555555556,
              "#d8576b"
             ],
             [
              0.6666666666666666,
              "#ed7953"
             ],
             [
              0.7777777777777778,
              "#fb9f3a"
             ],
             [
              0.8888888888888888,
              "#fdca26"
             ],
             [
              1,
              "#f0f921"
             ]
            ],
            "type": "surface"
           }
          ],
          "table": [
           {
            "cells": {
             "fill": {
              "color": "#EBF0F8"
             },
             "line": {
              "color": "white"
             }
            },
            "header": {
             "fill": {
              "color": "#C8D4E3"
             },
             "line": {
              "color": "white"
             }
            },
            "type": "table"
           }
          ]
         },
         "layout": {
          "annotationdefaults": {
           "arrowcolor": "#2a3f5f",
           "arrowhead": 0,
           "arrowwidth": 1
          },
          "autotypenumbers": "strict",
          "coloraxis": {
           "colorbar": {
            "outlinewidth": 0,
            "ticks": ""
           }
          },
          "colorscale": {
           "diverging": [
            [
             0,
             "#8e0152"
            ],
            [
             0.1,
             "#c51b7d"
            ],
            [
             0.2,
             "#de77ae"
            ],
            [
             0.3,
             "#f1b6da"
            ],
            [
             0.4,
             "#fde0ef"
            ],
            [
             0.5,
             "#f7f7f7"
            ],
            [
             0.6,
             "#e6f5d0"
            ],
            [
             0.7,
             "#b8e186"
            ],
            [
             0.8,
             "#7fbc41"
            ],
            [
             0.9,
             "#4d9221"
            ],
            [
             1,
             "#276419"
            ]
           ],
           "sequential": [
            [
             0,
             "#0d0887"
            ],
            [
             0.1111111111111111,
             "#46039f"
            ],
            [
             0.2222222222222222,
             "#7201a8"
            ],
            [
             0.3333333333333333,
             "#9c179e"
            ],
            [
             0.4444444444444444,
             "#bd3786"
            ],
            [
             0.5555555555555556,
             "#d8576b"
            ],
            [
             0.6666666666666666,
             "#ed7953"
            ],
            [
             0.7777777777777778,
             "#fb9f3a"
            ],
            [
             0.8888888888888888,
             "#fdca26"
            ],
            [
             1,
             "#f0f921"
            ]
           ],
           "sequentialminus": [
            [
             0,
             "#0d0887"
            ],
            [
             0.1111111111111111,
             "#46039f"
            ],
            [
             0.2222222222222222,
             "#7201a8"
            ],
            [
             0.3333333333333333,
             "#9c179e"
            ],
            [
             0.4444444444444444,
             "#bd3786"
            ],
            [
             0.5555555555555556,
             "#d8576b"
            ],
            [
             0.6666666666666666,
             "#ed7953"
            ],
            [
             0.7777777777777778,
             "#fb9f3a"
            ],
            [
             0.8888888888888888,
             "#fdca26"
            ],
            [
             1,
             "#f0f921"
            ]
           ]
          },
          "colorway": [
           "#636efa",
           "#EF553B",
           "#00cc96",
           "#ab63fa",
           "#FFA15A",
           "#19d3f3",
           "#FF6692",
           "#B6E880",
           "#FF97FF",
           "#FECB52"
          ],
          "font": {
           "color": "#2a3f5f"
          },
          "geo": {
           "bgcolor": "white",
           "lakecolor": "white",
           "landcolor": "#E5ECF6",
           "showlakes": true,
           "showland": true,
           "subunitcolor": "white"
          },
          "hoverlabel": {
           "align": "left"
          },
          "hovermode": "closest",
          "mapbox": {
           "style": "light"
          },
          "paper_bgcolor": "white",
          "plot_bgcolor": "#E5ECF6",
          "polar": {
           "angularaxis": {
            "gridcolor": "white",
            "linecolor": "white",
            "ticks": ""
           },
           "bgcolor": "#E5ECF6",
           "radialaxis": {
            "gridcolor": "white",
            "linecolor": "white",
            "ticks": ""
           }
          },
          "scene": {
           "xaxis": {
            "backgroundcolor": "#E5ECF6",
            "gridcolor": "white",
            "gridwidth": 2,
            "linecolor": "white",
            "showbackground": true,
            "ticks": "",
            "zerolinecolor": "white"
           },
           "yaxis": {
            "backgroundcolor": "#E5ECF6",
            "gridcolor": "white",
            "gridwidth": 2,
            "linecolor": "white",
            "showbackground": true,
            "ticks": "",
            "zerolinecolor": "white"
           },
           "zaxis": {
            "backgroundcolor": "#E5ECF6",
            "gridcolor": "white",
            "gridwidth": 2,
            "linecolor": "white",
            "showbackground": true,
            "ticks": "",
            "zerolinecolor": "white"
           }
          },
          "shapedefaults": {
           "line": {
            "color": "#2a3f5f"
           }
          },
          "ternary": {
           "aaxis": {
            "gridcolor": "white",
            "linecolor": "white",
            "ticks": ""
           },
           "baxis": {
            "gridcolor": "white",
            "linecolor": "white",
            "ticks": ""
           },
           "bgcolor": "#E5ECF6",
           "caxis": {
            "gridcolor": "white",
            "linecolor": "white",
            "ticks": ""
           }
          },
          "title": {
           "x": 0.05
          },
          "xaxis": {
           "automargin": true,
           "gridcolor": "white",
           "linecolor": "white",
           "ticks": "",
           "title": {
            "standoff": 15
           },
           "zerolinecolor": "white",
           "zerolinewidth": 2
          },
          "yaxis": {
           "automargin": true,
           "gridcolor": "white",
           "linecolor": "white",
           "ticks": "",
           "title": {
            "standoff": 15
           },
           "zerolinecolor": "white",
           "zerolinewidth": 2
          }
         }
        },
        "title": {
         "text": "Week vs. ESPN Projected/Actual Points"
        },
        "xaxis": {
         "anchor": "y",
         "domain": [
          0,
          1
         ],
         "title": {
          "text": "Week"
         }
        },
        "yaxis": {
         "anchor": "x",
         "domain": [
          0,
          1
         ],
         "title": {
          "text": "value"
         }
        }
       }
      }
     },
     "metadata": {},
     "output_type": "display_data"
    }
   ],
   "source": [
    "plot = px.scatter(a, x = 'Week', y = ['Projected_Points', 'Actual_Points'], trendline = 'ols', trendline_options=dict(log_x=True), title = 'Week vs. ESPN Projected/Actual Points')\n",
    "plot.show()\n"
   ]
  },
  {
   "cell_type": "code",
   "execution_count": 19,
   "metadata": {},
   "outputs": [
    {
     "data": {
      "text/plain": [
       "5120.963481818184"
      ]
     },
     "execution_count": 19,
     "metadata": {},
     "output_type": "execute_result"
    }
   ],
   "source": [
    "import numpy as np\n",
    "mse = sum(np.square(a['Projected_Points'] - a['Actual_Points'])) / len(a)\n",
    "mse"
   ]
  },
  {
   "cell_type": "code",
   "execution_count": 20,
   "metadata": {},
   "outputs": [
    {
     "data": {
      "text/html": [
       "<div>\n",
       "<style scoped>\n",
       "    .dataframe tbody tr th:only-of-type {\n",
       "        vertical-align: middle;\n",
       "    }\n",
       "\n",
       "    .dataframe tbody tr th {\n",
       "        vertical-align: top;\n",
       "    }\n",
       "\n",
       "    .dataframe thead th {\n",
       "        text-align: right;\n",
       "    }\n",
       "</style>\n",
       "<table border=\"1\" class=\"dataframe\">\n",
       "  <thead>\n",
       "    <tr style=\"text-align: right;\">\n",
       "      <th></th>\n",
       "      <th>Player</th>\n",
       "      <th>Week</th>\n",
       "      <th>Rank</th>\n",
       "      <th>Projected_Points</th>\n",
       "      <th>Actual_Points</th>\n",
       "      <th>Point-Residuals</th>\n",
       "    </tr>\n",
       "  </thead>\n",
       "  <tbody>\n",
       "    <tr>\n",
       "      <th>55</th>\n",
       "      <td>Tony Pollard</td>\n",
       "      <td>6.000000</td>\n",
       "      <td>13.909091</td>\n",
       "      <td>10.497273</td>\n",
       "      <td>14.854545</td>\n",
       "      <td>4.357273</td>\n",
       "    </tr>\n",
       "    <tr>\n",
       "      <th>28</th>\n",
       "      <td>Jamaal Williams</td>\n",
       "      <td>6.000000</td>\n",
       "      <td>14.272727</td>\n",
       "      <td>10.383636</td>\n",
       "      <td>13.954545</td>\n",
       "      <td>3.570909</td>\n",
       "    </tr>\n",
       "    <tr>\n",
       "      <th>36</th>\n",
       "      <td>Josh Jacobs</td>\n",
       "      <td>6.000000</td>\n",
       "      <td>17.090909</td>\n",
       "      <td>14.168182</td>\n",
       "      <td>17.645455</td>\n",
       "      <td>3.477273</td>\n",
       "    </tr>\n",
       "    <tr>\n",
       "      <th>5</th>\n",
       "      <td>Austin Ekeler</td>\n",
       "      <td>6.000000</td>\n",
       "      <td>20.727273</td>\n",
       "      <td>17.701818</td>\n",
       "      <td>20.918182</td>\n",
       "      <td>3.216364</td>\n",
       "    </tr>\n",
       "    <tr>\n",
       "      <th>38</th>\n",
       "      <td>Kenneth Walker III</td>\n",
       "      <td>6.000000</td>\n",
       "      <td>13.727273</td>\n",
       "      <td>8.625455</td>\n",
       "      <td>11.727273</td>\n",
       "      <td>3.101818</td>\n",
       "    </tr>\n",
       "    <tr>\n",
       "      <th>39</th>\n",
       "      <td>Kenyan Drake</td>\n",
       "      <td>5.142857</td>\n",
       "      <td>14.571429</td>\n",
       "      <td>5.101429</td>\n",
       "      <td>8.014286</td>\n",
       "      <td>2.912857</td>\n",
       "    </tr>\n",
       "    <tr>\n",
       "      <th>53</th>\n",
       "      <td>Rhamondre Stevenson</td>\n",
       "      <td>6.000000</td>\n",
       "      <td>16.090909</td>\n",
       "      <td>12.205455</td>\n",
       "      <td>14.881818</td>\n",
       "      <td>2.676364</td>\n",
       "    </tr>\n",
       "    <tr>\n",
       "      <th>6</th>\n",
       "      <td>Breece Hall</td>\n",
       "      <td>6.000000</td>\n",
       "      <td>11.727273</td>\n",
       "      <td>7.788182</td>\n",
       "      <td>10.463636</td>\n",
       "      <td>2.675455</td>\n",
       "    </tr>\n",
       "    <tr>\n",
       "      <th>47</th>\n",
       "      <td>Nick Chubb</td>\n",
       "      <td>6.000000</td>\n",
       "      <td>13.545455</td>\n",
       "      <td>14.788182</td>\n",
       "      <td>17.081818</td>\n",
       "      <td>2.293636</td>\n",
       "    </tr>\n",
       "    <tr>\n",
       "      <th>11</th>\n",
       "      <td>Clyde Edwards-Helaire</td>\n",
       "      <td>3.500000</td>\n",
       "      <td>18.166667</td>\n",
       "      <td>12.121667</td>\n",
       "      <td>14.216667</td>\n",
       "      <td>2.095000</td>\n",
       "    </tr>\n",
       "    <tr>\n",
       "      <th>19</th>\n",
       "      <td>Derrick Henry</td>\n",
       "      <td>6.000000</td>\n",
       "      <td>16.545455</td>\n",
       "      <td>16.412727</td>\n",
       "      <td>18.460000</td>\n",
       "      <td>2.047273</td>\n",
       "    </tr>\n",
       "    <tr>\n",
       "      <th>25</th>\n",
       "      <td>Isiah Pacheco</td>\n",
       "      <td>5.000000</td>\n",
       "      <td>30.000000</td>\n",
       "      <td>8.940000</td>\n",
       "      <td>10.700000</td>\n",
       "      <td>1.760000</td>\n",
       "    </tr>\n",
       "    <tr>\n",
       "      <th>56</th>\n",
       "      <td>Travis Etienne Jr.</td>\n",
       "      <td>6.000000</td>\n",
       "      <td>18.000000</td>\n",
       "      <td>11.525455</td>\n",
       "      <td>12.609091</td>\n",
       "      <td>1.083636</td>\n",
       "    </tr>\n",
       "    <tr>\n",
       "      <th>12</th>\n",
       "      <td>Cordarrelle Patterson</td>\n",
       "      <td>6.000000</td>\n",
       "      <td>18.363636</td>\n",
       "      <td>7.317273</td>\n",
       "      <td>8.363636</td>\n",
       "      <td>1.046364</td>\n",
       "    </tr>\n",
       "    <tr>\n",
       "      <th>4</th>\n",
       "      <td>Antonio Gibson</td>\n",
       "      <td>6.000000</td>\n",
       "      <td>19.090909</td>\n",
       "      <td>11.887273</td>\n",
       "      <td>12.709091</td>\n",
       "      <td>0.821818</td>\n",
       "    </tr>\n",
       "    <tr>\n",
       "      <th>2</th>\n",
       "      <td>Alexander Mattison</td>\n",
       "      <td>3.500000</td>\n",
       "      <td>18.333333</td>\n",
       "      <td>5.166667</td>\n",
       "      <td>5.916667</td>\n",
       "      <td>0.750000</td>\n",
       "    </tr>\n",
       "    <tr>\n",
       "      <th>1</th>\n",
       "      <td>Aaron Jones</td>\n",
       "      <td>6.000000</td>\n",
       "      <td>11.272727</td>\n",
       "      <td>14.983636</td>\n",
       "      <td>15.690909</td>\n",
       "      <td>0.707273</td>\n",
       "    </tr>\n",
       "    <tr>\n",
       "      <th>33</th>\n",
       "      <td>Jeff Wilson Jr.</td>\n",
       "      <td>6.000000</td>\n",
       "      <td>16.777778</td>\n",
       "      <td>9.901111</td>\n",
       "      <td>10.566667</td>\n",
       "      <td>0.665556</td>\n",
       "    </tr>\n",
       "    <tr>\n",
       "      <th>10</th>\n",
       "      <td>Christian McCaffrey</td>\n",
       "      <td>6.000000</td>\n",
       "      <td>18.909091</td>\n",
       "      <td>17.841818</td>\n",
       "      <td>18.341818</td>\n",
       "      <td>0.500000</td>\n",
       "    </tr>\n",
       "    <tr>\n",
       "      <th>34</th>\n",
       "      <td>Joe Mixon</td>\n",
       "      <td>6.000000</td>\n",
       "      <td>14.181818</td>\n",
       "      <td>16.070000</td>\n",
       "      <td>16.445455</td>\n",
       "      <td>0.375455</td>\n",
       "    </tr>\n",
       "    <tr>\n",
       "      <th>50</th>\n",
       "      <td>Raheem Mostert</td>\n",
       "      <td>5.888889</td>\n",
       "      <td>15.777778</td>\n",
       "      <td>10.465556</td>\n",
       "      <td>10.577778</td>\n",
       "      <td>0.112222</td>\n",
       "    </tr>\n",
       "    <tr>\n",
       "      <th>22</th>\n",
       "      <td>Eno Benjamin</td>\n",
       "      <td>6.000000</td>\n",
       "      <td>5.000000</td>\n",
       "      <td>0.000000</td>\n",
       "      <td>0.000000</td>\n",
       "      <td>0.000000</td>\n",
       "    </tr>\n",
       "    <tr>\n",
       "      <th>24</th>\n",
       "      <td>Gus Edwards</td>\n",
       "      <td>5.333333</td>\n",
       "      <td>10.777778</td>\n",
       "      <td>0.000000</td>\n",
       "      <td>0.000000</td>\n",
       "      <td>0.000000</td>\n",
       "    </tr>\n",
       "    <tr>\n",
       "      <th>45</th>\n",
       "      <td>Miles Sanders</td>\n",
       "      <td>6.000000</td>\n",
       "      <td>15.090909</td>\n",
       "      <td>11.940000</td>\n",
       "      <td>11.636364</td>\n",
       "      <td>-0.303636</td>\n",
       "    </tr>\n",
       "    <tr>\n",
       "      <th>20</th>\n",
       "      <td>Devin Singletary</td>\n",
       "      <td>6.000000</td>\n",
       "      <td>15.090909</td>\n",
       "      <td>11.206364</td>\n",
       "      <td>10.890909</td>\n",
       "      <td>-0.315455</td>\n",
       "    </tr>\n",
       "    <tr>\n",
       "      <th>49</th>\n",
       "      <td>Rachaad White</td>\n",
       "      <td>6.000000</td>\n",
       "      <td>15.142857</td>\n",
       "      <td>6.237143</td>\n",
       "      <td>5.842857</td>\n",
       "      <td>-0.394286</td>\n",
       "    </tr>\n",
       "    <tr>\n",
       "      <th>23</th>\n",
       "      <td>Ezekiel Elliott</td>\n",
       "      <td>6.000000</td>\n",
       "      <td>13.909091</td>\n",
       "      <td>9.086364</td>\n",
       "      <td>8.654545</td>\n",
       "      <td>-0.431818</td>\n",
       "    </tr>\n",
       "    <tr>\n",
       "      <th>13</th>\n",
       "      <td>D'Andre Swift</td>\n",
       "      <td>6.000000</td>\n",
       "      <td>14.272727</td>\n",
       "      <td>9.017273</td>\n",
       "      <td>8.500000</td>\n",
       "      <td>-0.517273</td>\n",
       "    </tr>\n",
       "    <tr>\n",
       "      <th>41</th>\n",
       "      <td>Leonard Fournette</td>\n",
       "      <td>6.000000</td>\n",
       "      <td>15.000000</td>\n",
       "      <td>14.628182</td>\n",
       "      <td>14.063636</td>\n",
       "      <td>-0.564545</td>\n",
       "    </tr>\n",
       "    <tr>\n",
       "      <th>15</th>\n",
       "      <td>Dameon Pierce</td>\n",
       "      <td>6.000000</td>\n",
       "      <td>16.636364</td>\n",
       "      <td>13.098182</td>\n",
       "      <td>12.500000</td>\n",
       "      <td>-0.598182</td>\n",
       "    </tr>\n",
       "    <tr>\n",
       "      <th>21</th>\n",
       "      <td>Elijah Mitchell</td>\n",
       "      <td>6.000000</td>\n",
       "      <td>18.909091</td>\n",
       "      <td>2.466364</td>\n",
       "      <td>1.800000</td>\n",
       "      <td>-0.666364</td>\n",
       "    </tr>\n",
       "    <tr>\n",
       "      <th>7</th>\n",
       "      <td>Brian Robinson Jr.</td>\n",
       "      <td>6.000000</td>\n",
       "      <td>19.090909</td>\n",
       "      <td>5.612727</td>\n",
       "      <td>4.809091</td>\n",
       "      <td>-0.803636</td>\n",
       "    </tr>\n",
       "    <tr>\n",
       "      <th>51</th>\n",
       "      <td>Rashaad Penny</td>\n",
       "      <td>3.000000</td>\n",
       "      <td>12.400000</td>\n",
       "      <td>11.354000</td>\n",
       "      <td>10.440000</td>\n",
       "      <td>-0.914000</td>\n",
       "    </tr>\n",
       "    <tr>\n",
       "      <th>14</th>\n",
       "      <td>Dalvin Cook</td>\n",
       "      <td>6.000000</td>\n",
       "      <td>13.636364</td>\n",
       "      <td>15.165455</td>\n",
       "      <td>14.227273</td>\n",
       "      <td>-0.938182</td>\n",
       "    </tr>\n",
       "    <tr>\n",
       "      <th>16</th>\n",
       "      <td>Damien Harris</td>\n",
       "      <td>6.000000</td>\n",
       "      <td>16.090909</td>\n",
       "      <td>7.887273</td>\n",
       "      <td>6.836364</td>\n",
       "      <td>-1.050909</td>\n",
       "    </tr>\n",
       "    <tr>\n",
       "      <th>31</th>\n",
       "      <td>James Robinson</td>\n",
       "      <td>6.000000</td>\n",
       "      <td>11.727273</td>\n",
       "      <td>9.090909</td>\n",
       "      <td>7.963636</td>\n",
       "      <td>-1.127273</td>\n",
       "    </tr>\n",
       "    <tr>\n",
       "      <th>37</th>\n",
       "      <td>Kareem Hunt</td>\n",
       "      <td>6.000000</td>\n",
       "      <td>13.545455</td>\n",
       "      <td>9.842727</td>\n",
       "      <td>8.681818</td>\n",
       "      <td>-1.160909</td>\n",
       "    </tr>\n",
       "    <tr>\n",
       "      <th>46</th>\n",
       "      <td>Najee Harris</td>\n",
       "      <td>6.000000</td>\n",
       "      <td>11.000000</td>\n",
       "      <td>12.590000</td>\n",
       "      <td>11.360000</td>\n",
       "      <td>-1.230000</td>\n",
       "    </tr>\n",
       "    <tr>\n",
       "      <th>29</th>\n",
       "      <td>James Conner</td>\n",
       "      <td>6.000000</td>\n",
       "      <td>18.454545</td>\n",
       "      <td>10.468182</td>\n",
       "      <td>8.972727</td>\n",
       "      <td>-1.495455</td>\n",
       "    </tr>\n",
       "    <tr>\n",
       "      <th>27</th>\n",
       "      <td>J.K. Dobbins</td>\n",
       "      <td>4.000000</td>\n",
       "      <td>13.428571</td>\n",
       "      <td>6.577143</td>\n",
       "      <td>4.885714</td>\n",
       "      <td>-1.691429</td>\n",
       "    </tr>\n",
       "    <tr>\n",
       "      <th>3</th>\n",
       "      <td>Alvin Kamara</td>\n",
       "      <td>6.000000</td>\n",
       "      <td>17.636364</td>\n",
       "      <td>15.100909</td>\n",
       "      <td>13.327273</td>\n",
       "      <td>-1.773636</td>\n",
       "    </tr>\n",
       "    <tr>\n",
       "      <th>54</th>\n",
       "      <td>Saquon Barkley</td>\n",
       "      <td>6.000000</td>\n",
       "      <td>17.727273</td>\n",
       "      <td>18.787273</td>\n",
       "      <td>16.845455</td>\n",
       "      <td>-1.941818</td>\n",
       "    </tr>\n",
       "    <tr>\n",
       "      <th>26</th>\n",
       "      <td>J.D. McKissic</td>\n",
       "      <td>4.000000</td>\n",
       "      <td>17.285714</td>\n",
       "      <td>9.247143</td>\n",
       "      <td>7.257143</td>\n",
       "      <td>-1.990000</td>\n",
       "    </tr>\n",
       "    <tr>\n",
       "      <th>42</th>\n",
       "      <td>Melvin Gordon III</td>\n",
       "      <td>5.000000</td>\n",
       "      <td>0.000000</td>\n",
       "      <td>9.287778</td>\n",
       "      <td>7.122222</td>\n",
       "      <td>-2.165556</td>\n",
       "    </tr>\n",
       "    <tr>\n",
       "      <th>43</th>\n",
       "      <td>Michael Carter</td>\n",
       "      <td>5.555556</td>\n",
       "      <td>10.222222</td>\n",
       "      <td>10.683333</td>\n",
       "      <td>8.366667</td>\n",
       "      <td>-2.316667</td>\n",
       "    </tr>\n",
       "    <tr>\n",
       "      <th>52</th>\n",
       "      <td>Rex Burkhead</td>\n",
       "      <td>2.000000</td>\n",
       "      <td>19.000000</td>\n",
       "      <td>9.653333</td>\n",
       "      <td>7.300000</td>\n",
       "      <td>-2.353333</td>\n",
       "    </tr>\n",
       "    <tr>\n",
       "      <th>17</th>\n",
       "      <td>Darrell Henderson Jr.</td>\n",
       "      <td>6.000000</td>\n",
       "      <td>18.000000</td>\n",
       "      <td>9.078182</td>\n",
       "      <td>6.681818</td>\n",
       "      <td>-2.396364</td>\n",
       "    </tr>\n",
       "    <tr>\n",
       "      <th>8</th>\n",
       "      <td>Cam Akers</td>\n",
       "      <td>6.000000</td>\n",
       "      <td>10.636364</td>\n",
       "      <td>5.600000</td>\n",
       "      <td>2.863636</td>\n",
       "      <td>-2.736364</td>\n",
       "    </tr>\n",
       "    <tr>\n",
       "      <th>48</th>\n",
       "      <td>Nyheim Hines</td>\n",
       "      <td>5.222222</td>\n",
       "      <td>14.777778</td>\n",
       "      <td>7.401111</td>\n",
       "      <td>4.622222</td>\n",
       "      <td>-2.778889</td>\n",
       "    </tr>\n",
       "    <tr>\n",
       "      <th>0</th>\n",
       "      <td>AJ Dillon</td>\n",
       "      <td>6.000000</td>\n",
       "      <td>11.272727</td>\n",
       "      <td>10.159091</td>\n",
       "      <td>7.327273</td>\n",
       "      <td>-2.831818</td>\n",
       "    </tr>\n",
       "    <tr>\n",
       "      <th>18</th>\n",
       "      <td>David Montgomery</td>\n",
       "      <td>6.000000</td>\n",
       "      <td>14.272727</td>\n",
       "      <td>12.457273</td>\n",
       "      <td>9.500000</td>\n",
       "      <td>-2.957273</td>\n",
       "    </tr>\n",
       "    <tr>\n",
       "      <th>9</th>\n",
       "      <td>Chase Edmonds</td>\n",
       "      <td>6.000000</td>\n",
       "      <td>18.727273</td>\n",
       "      <td>7.880909</td>\n",
       "      <td>4.736364</td>\n",
       "      <td>-3.144545</td>\n",
       "    </tr>\n",
       "    <tr>\n",
       "      <th>44</th>\n",
       "      <td>Mike Davis</td>\n",
       "      <td>3.000000</td>\n",
       "      <td>9.800000</td>\n",
       "      <td>3.506000</td>\n",
       "      <td>0.360000</td>\n",
       "      <td>-3.146000</td>\n",
       "    </tr>\n",
       "    <tr>\n",
       "      <th>35</th>\n",
       "      <td>Jonathan Taylor</td>\n",
       "      <td>6.000000</td>\n",
       "      <td>16.636364</td>\n",
       "      <td>13.914545</td>\n",
       "      <td>10.181818</td>\n",
       "      <td>-3.732727</td>\n",
       "    </tr>\n",
       "    <tr>\n",
       "      <th>32</th>\n",
       "      <td>Javonte Williams</td>\n",
       "      <td>2.500000</td>\n",
       "      <td>22.500000</td>\n",
       "      <td>15.235000</td>\n",
       "      <td>10.500000</td>\n",
       "      <td>-4.735000</td>\n",
       "    </tr>\n",
       "    <tr>\n",
       "      <th>40</th>\n",
       "      <td>Khalil Herbert</td>\n",
       "      <td>4.500000</td>\n",
       "      <td>17.000000</td>\n",
       "      <td>9.260000</td>\n",
       "      <td>4.000000</td>\n",
       "      <td>-5.260000</td>\n",
       "    </tr>\n",
       "    <tr>\n",
       "      <th>30</th>\n",
       "      <td>James Cook</td>\n",
       "      <td>1.000000</td>\n",
       "      <td>9.000000</td>\n",
       "      <td>6.340000</td>\n",
       "      <td>-1.800000</td>\n",
       "      <td>-8.140000</td>\n",
       "    </tr>\n",
       "  </tbody>\n",
       "</table>\n",
       "</div>"
      ],
      "text/plain": [
       "                   Player      Week       Rank  Projected_Points  \\\n",
       "55           Tony Pollard  6.000000  13.909091         10.497273   \n",
       "28        Jamaal Williams  6.000000  14.272727         10.383636   \n",
       "36            Josh Jacobs  6.000000  17.090909         14.168182   \n",
       "5           Austin Ekeler  6.000000  20.727273         17.701818   \n",
       "38     Kenneth Walker III  6.000000  13.727273          8.625455   \n",
       "39           Kenyan Drake  5.142857  14.571429          5.101429   \n",
       "53    Rhamondre Stevenson  6.000000  16.090909         12.205455   \n",
       "6             Breece Hall  6.000000  11.727273          7.788182   \n",
       "47             Nick Chubb  6.000000  13.545455         14.788182   \n",
       "11  Clyde Edwards-Helaire  3.500000  18.166667         12.121667   \n",
       "19          Derrick Henry  6.000000  16.545455         16.412727   \n",
       "25          Isiah Pacheco  5.000000  30.000000          8.940000   \n",
       "56     Travis Etienne Jr.  6.000000  18.000000         11.525455   \n",
       "12  Cordarrelle Patterson  6.000000  18.363636          7.317273   \n",
       "4          Antonio Gibson  6.000000  19.090909         11.887273   \n",
       "2      Alexander Mattison  3.500000  18.333333          5.166667   \n",
       "1             Aaron Jones  6.000000  11.272727         14.983636   \n",
       "33        Jeff Wilson Jr.  6.000000  16.777778          9.901111   \n",
       "10    Christian McCaffrey  6.000000  18.909091         17.841818   \n",
       "34              Joe Mixon  6.000000  14.181818         16.070000   \n",
       "50         Raheem Mostert  5.888889  15.777778         10.465556   \n",
       "22           Eno Benjamin  6.000000   5.000000          0.000000   \n",
       "24            Gus Edwards  5.333333  10.777778          0.000000   \n",
       "45          Miles Sanders  6.000000  15.090909         11.940000   \n",
       "20       Devin Singletary  6.000000  15.090909         11.206364   \n",
       "49          Rachaad White  6.000000  15.142857          6.237143   \n",
       "23        Ezekiel Elliott  6.000000  13.909091          9.086364   \n",
       "13          D'Andre Swift  6.000000  14.272727          9.017273   \n",
       "41      Leonard Fournette  6.000000  15.000000         14.628182   \n",
       "15          Dameon Pierce  6.000000  16.636364         13.098182   \n",
       "21        Elijah Mitchell  6.000000  18.909091          2.466364   \n",
       "7      Brian Robinson Jr.  6.000000  19.090909          5.612727   \n",
       "51          Rashaad Penny  3.000000  12.400000         11.354000   \n",
       "14            Dalvin Cook  6.000000  13.636364         15.165455   \n",
       "16          Damien Harris  6.000000  16.090909          7.887273   \n",
       "31         James Robinson  6.000000  11.727273          9.090909   \n",
       "37            Kareem Hunt  6.000000  13.545455          9.842727   \n",
       "46           Najee Harris  6.000000  11.000000         12.590000   \n",
       "29           James Conner  6.000000  18.454545         10.468182   \n",
       "27           J.K. Dobbins  4.000000  13.428571          6.577143   \n",
       "3            Alvin Kamara  6.000000  17.636364         15.100909   \n",
       "54         Saquon Barkley  6.000000  17.727273         18.787273   \n",
       "26          J.D. McKissic  4.000000  17.285714          9.247143   \n",
       "42      Melvin Gordon III  5.000000   0.000000          9.287778   \n",
       "43         Michael Carter  5.555556  10.222222         10.683333   \n",
       "52           Rex Burkhead  2.000000  19.000000          9.653333   \n",
       "17  Darrell Henderson Jr.  6.000000  18.000000          9.078182   \n",
       "8               Cam Akers  6.000000  10.636364          5.600000   \n",
       "48           Nyheim Hines  5.222222  14.777778          7.401111   \n",
       "0               AJ Dillon  6.000000  11.272727         10.159091   \n",
       "18       David Montgomery  6.000000  14.272727         12.457273   \n",
       "9           Chase Edmonds  6.000000  18.727273          7.880909   \n",
       "44             Mike Davis  3.000000   9.800000          3.506000   \n",
       "35        Jonathan Taylor  6.000000  16.636364         13.914545   \n",
       "32       Javonte Williams  2.500000  22.500000         15.235000   \n",
       "40         Khalil Herbert  4.500000  17.000000          9.260000   \n",
       "30             James Cook  1.000000   9.000000          6.340000   \n",
       "\n",
       "    Actual_Points  Point-Residuals  \n",
       "55      14.854545         4.357273  \n",
       "28      13.954545         3.570909  \n",
       "36      17.645455         3.477273  \n",
       "5       20.918182         3.216364  \n",
       "38      11.727273         3.101818  \n",
       "39       8.014286         2.912857  \n",
       "53      14.881818         2.676364  \n",
       "6       10.463636         2.675455  \n",
       "47      17.081818         2.293636  \n",
       "11      14.216667         2.095000  \n",
       "19      18.460000         2.047273  \n",
       "25      10.700000         1.760000  \n",
       "56      12.609091         1.083636  \n",
       "12       8.363636         1.046364  \n",
       "4       12.709091         0.821818  \n",
       "2        5.916667         0.750000  \n",
       "1       15.690909         0.707273  \n",
       "33      10.566667         0.665556  \n",
       "10      18.341818         0.500000  \n",
       "34      16.445455         0.375455  \n",
       "50      10.577778         0.112222  \n",
       "22       0.000000         0.000000  \n",
       "24       0.000000         0.000000  \n",
       "45      11.636364        -0.303636  \n",
       "20      10.890909        -0.315455  \n",
       "49       5.842857        -0.394286  \n",
       "23       8.654545        -0.431818  \n",
       "13       8.500000        -0.517273  \n",
       "41      14.063636        -0.564545  \n",
       "15      12.500000        -0.598182  \n",
       "21       1.800000        -0.666364  \n",
       "7        4.809091        -0.803636  \n",
       "51      10.440000        -0.914000  \n",
       "14      14.227273        -0.938182  \n",
       "16       6.836364        -1.050909  \n",
       "31       7.963636        -1.127273  \n",
       "37       8.681818        -1.160909  \n",
       "46      11.360000        -1.230000  \n",
       "29       8.972727        -1.495455  \n",
       "27       4.885714        -1.691429  \n",
       "3       13.327273        -1.773636  \n",
       "54      16.845455        -1.941818  \n",
       "26       7.257143        -1.990000  \n",
       "42       7.122222        -2.165556  \n",
       "43       8.366667        -2.316667  \n",
       "52       7.300000        -2.353333  \n",
       "17       6.681818        -2.396364  \n",
       "8        2.863636        -2.736364  \n",
       "48       4.622222        -2.778889  \n",
       "0        7.327273        -2.831818  \n",
       "18       9.500000        -2.957273  \n",
       "9        4.736364        -3.144545  \n",
       "44       0.360000        -3.146000  \n",
       "35      10.181818        -3.732727  \n",
       "32      10.500000        -4.735000  \n",
       "40       4.000000        -5.260000  \n",
       "30      -1.800000        -8.140000  "
      ]
     },
     "execution_count": 20,
     "metadata": {},
     "output_type": "execute_result"
    }
   ],
   "source": [
    "rb_df = merged_df[merged_df['Position'] == 'RB'].groupby(['Player'], as_index = False).mean().sort_values('Point-Residuals', ascending=False)\n",
    "rb_df"
   ]
  },
  {
   "cell_type": "code",
   "execution_count": 32,
   "metadata": {},
   "outputs": [
    {
     "data": {
      "text/html": [
       "<div>\n",
       "<style scoped>\n",
       "    .dataframe tbody tr th:only-of-type {\n",
       "        vertical-align: middle;\n",
       "    }\n",
       "\n",
       "    .dataframe tbody tr th {\n",
       "        vertical-align: top;\n",
       "    }\n",
       "\n",
       "    .dataframe thead th {\n",
       "        text-align: right;\n",
       "    }\n",
       "</style>\n",
       "<table border=\"1\" class=\"dataframe\">\n",
       "  <thead>\n",
       "    <tr style=\"text-align: right;\">\n",
       "      <th></th>\n",
       "      <th>Player</th>\n",
       "      <th>Week</th>\n",
       "      <th>Rank</th>\n",
       "      <th>Projected_Points</th>\n",
       "      <th>Actual_Points</th>\n",
       "      <th>Point-Residuals</th>\n",
       "      <th>label</th>\n",
       "    </tr>\n",
       "  </thead>\n",
       "  <tbody>\n",
       "    <tr>\n",
       "      <th>55</th>\n",
       "      <td>Tony Pollard</td>\n",
       "      <td>6.000000</td>\n",
       "      <td>13.909091</td>\n",
       "      <td>10.497273</td>\n",
       "      <td>14.854545</td>\n",
       "      <td>4.357273</td>\n",
       "      <td>1.0</td>\n",
       "    </tr>\n",
       "    <tr>\n",
       "      <th>28</th>\n",
       "      <td>Jamaal Williams</td>\n",
       "      <td>6.000000</td>\n",
       "      <td>14.272727</td>\n",
       "      <td>10.383636</td>\n",
       "      <td>13.954545</td>\n",
       "      <td>3.570909</td>\n",
       "      <td>1.0</td>\n",
       "    </tr>\n",
       "    <tr>\n",
       "      <th>36</th>\n",
       "      <td>Josh Jacobs</td>\n",
       "      <td>6.000000</td>\n",
       "      <td>17.090909</td>\n",
       "      <td>14.168182</td>\n",
       "      <td>17.645455</td>\n",
       "      <td>3.477273</td>\n",
       "      <td>1.0</td>\n",
       "    </tr>\n",
       "    <tr>\n",
       "      <th>5</th>\n",
       "      <td>Austin Ekeler</td>\n",
       "      <td>6.000000</td>\n",
       "      <td>20.727273</td>\n",
       "      <td>17.701818</td>\n",
       "      <td>20.918182</td>\n",
       "      <td>3.216364</td>\n",
       "      <td>1.0</td>\n",
       "    </tr>\n",
       "    <tr>\n",
       "      <th>38</th>\n",
       "      <td>Kenneth Walker III</td>\n",
       "      <td>6.000000</td>\n",
       "      <td>13.727273</td>\n",
       "      <td>8.625455</td>\n",
       "      <td>11.727273</td>\n",
       "      <td>3.101818</td>\n",
       "      <td>1.0</td>\n",
       "    </tr>\n",
       "    <tr>\n",
       "      <th>39</th>\n",
       "      <td>Kenyan Drake</td>\n",
       "      <td>5.142857</td>\n",
       "      <td>14.571429</td>\n",
       "      <td>5.101429</td>\n",
       "      <td>8.014286</td>\n",
       "      <td>2.912857</td>\n",
       "      <td>1.0</td>\n",
       "    </tr>\n",
       "    <tr>\n",
       "      <th>53</th>\n",
       "      <td>Rhamondre Stevenson</td>\n",
       "      <td>6.000000</td>\n",
       "      <td>16.090909</td>\n",
       "      <td>12.205455</td>\n",
       "      <td>14.881818</td>\n",
       "      <td>2.676364</td>\n",
       "      <td>1.0</td>\n",
       "    </tr>\n",
       "    <tr>\n",
       "      <th>6</th>\n",
       "      <td>Breece Hall</td>\n",
       "      <td>6.000000</td>\n",
       "      <td>11.727273</td>\n",
       "      <td>7.788182</td>\n",
       "      <td>10.463636</td>\n",
       "      <td>2.675455</td>\n",
       "      <td>1.0</td>\n",
       "    </tr>\n",
       "    <tr>\n",
       "      <th>47</th>\n",
       "      <td>Nick Chubb</td>\n",
       "      <td>6.000000</td>\n",
       "      <td>13.545455</td>\n",
       "      <td>14.788182</td>\n",
       "      <td>17.081818</td>\n",
       "      <td>2.293636</td>\n",
       "      <td>1.0</td>\n",
       "    </tr>\n",
       "    <tr>\n",
       "      <th>11</th>\n",
       "      <td>Clyde Edwards-Helaire</td>\n",
       "      <td>3.500000</td>\n",
       "      <td>18.166667</td>\n",
       "      <td>12.121667</td>\n",
       "      <td>14.216667</td>\n",
       "      <td>2.095000</td>\n",
       "      <td>1.0</td>\n",
       "    </tr>\n",
       "    <tr>\n",
       "      <th>19</th>\n",
       "      <td>Derrick Henry</td>\n",
       "      <td>6.000000</td>\n",
       "      <td>16.545455</td>\n",
       "      <td>16.412727</td>\n",
       "      <td>18.460000</td>\n",
       "      <td>2.047273</td>\n",
       "      <td>1.0</td>\n",
       "    </tr>\n",
       "    <tr>\n",
       "      <th>25</th>\n",
       "      <td>Isiah Pacheco</td>\n",
       "      <td>5.000000</td>\n",
       "      <td>30.000000</td>\n",
       "      <td>8.940000</td>\n",
       "      <td>10.700000</td>\n",
       "      <td>1.760000</td>\n",
       "      <td>1.0</td>\n",
       "    </tr>\n",
       "    <tr>\n",
       "      <th>56</th>\n",
       "      <td>Travis Etienne Jr.</td>\n",
       "      <td>6.000000</td>\n",
       "      <td>18.000000</td>\n",
       "      <td>11.525455</td>\n",
       "      <td>12.609091</td>\n",
       "      <td>1.083636</td>\n",
       "      <td>1.0</td>\n",
       "    </tr>\n",
       "    <tr>\n",
       "      <th>12</th>\n",
       "      <td>Cordarrelle Patterson</td>\n",
       "      <td>6.000000</td>\n",
       "      <td>18.363636</td>\n",
       "      <td>7.317273</td>\n",
       "      <td>8.363636</td>\n",
       "      <td>1.046364</td>\n",
       "      <td>1.0</td>\n",
       "    </tr>\n",
       "    <tr>\n",
       "      <th>4</th>\n",
       "      <td>Antonio Gibson</td>\n",
       "      <td>6.000000</td>\n",
       "      <td>19.090909</td>\n",
       "      <td>11.887273</td>\n",
       "      <td>12.709091</td>\n",
       "      <td>0.821818</td>\n",
       "      <td>1.0</td>\n",
       "    </tr>\n",
       "    <tr>\n",
       "      <th>2</th>\n",
       "      <td>Alexander Mattison</td>\n",
       "      <td>3.500000</td>\n",
       "      <td>18.333333</td>\n",
       "      <td>5.166667</td>\n",
       "      <td>5.916667</td>\n",
       "      <td>0.750000</td>\n",
       "      <td>1.0</td>\n",
       "    </tr>\n",
       "    <tr>\n",
       "      <th>1</th>\n",
       "      <td>Aaron Jones</td>\n",
       "      <td>6.000000</td>\n",
       "      <td>11.272727</td>\n",
       "      <td>14.983636</td>\n",
       "      <td>15.690909</td>\n",
       "      <td>0.707273</td>\n",
       "      <td>1.0</td>\n",
       "    </tr>\n",
       "    <tr>\n",
       "      <th>33</th>\n",
       "      <td>Jeff Wilson Jr.</td>\n",
       "      <td>6.000000</td>\n",
       "      <td>16.777778</td>\n",
       "      <td>9.901111</td>\n",
       "      <td>10.566667</td>\n",
       "      <td>0.665556</td>\n",
       "      <td>1.0</td>\n",
       "    </tr>\n",
       "    <tr>\n",
       "      <th>10</th>\n",
       "      <td>Christian McCaffrey</td>\n",
       "      <td>6.000000</td>\n",
       "      <td>18.909091</td>\n",
       "      <td>17.841818</td>\n",
       "      <td>18.341818</td>\n",
       "      <td>0.500000</td>\n",
       "      <td>1.0</td>\n",
       "    </tr>\n",
       "    <tr>\n",
       "      <th>34</th>\n",
       "      <td>Joe Mixon</td>\n",
       "      <td>6.000000</td>\n",
       "      <td>14.181818</td>\n",
       "      <td>16.070000</td>\n",
       "      <td>16.445455</td>\n",
       "      <td>0.375455</td>\n",
       "      <td>1.0</td>\n",
       "    </tr>\n",
       "    <tr>\n",
       "      <th>50</th>\n",
       "      <td>Raheem Mostert</td>\n",
       "      <td>5.888889</td>\n",
       "      <td>15.777778</td>\n",
       "      <td>10.465556</td>\n",
       "      <td>10.577778</td>\n",
       "      <td>0.112222</td>\n",
       "      <td>1.0</td>\n",
       "    </tr>\n",
       "    <tr>\n",
       "      <th>22</th>\n",
       "      <td>Eno Benjamin</td>\n",
       "      <td>6.000000</td>\n",
       "      <td>5.000000</td>\n",
       "      <td>0.000000</td>\n",
       "      <td>0.000000</td>\n",
       "      <td>0.000000</td>\n",
       "      <td>1.0</td>\n",
       "    </tr>\n",
       "    <tr>\n",
       "      <th>24</th>\n",
       "      <td>Gus Edwards</td>\n",
       "      <td>5.333333</td>\n",
       "      <td>10.777778</td>\n",
       "      <td>0.000000</td>\n",
       "      <td>0.000000</td>\n",
       "      <td>0.000000</td>\n",
       "      <td>1.0</td>\n",
       "    </tr>\n",
       "    <tr>\n",
       "      <th>45</th>\n",
       "      <td>Miles Sanders</td>\n",
       "      <td>6.000000</td>\n",
       "      <td>15.090909</td>\n",
       "      <td>11.940000</td>\n",
       "      <td>11.636364</td>\n",
       "      <td>-0.303636</td>\n",
       "      <td>1.0</td>\n",
       "    </tr>\n",
       "    <tr>\n",
       "      <th>20</th>\n",
       "      <td>Devin Singletary</td>\n",
       "      <td>6.000000</td>\n",
       "      <td>15.090909</td>\n",
       "      <td>11.206364</td>\n",
       "      <td>10.890909</td>\n",
       "      <td>-0.315455</td>\n",
       "      <td>1.0</td>\n",
       "    </tr>\n",
       "    <tr>\n",
       "      <th>49</th>\n",
       "      <td>Rachaad White</td>\n",
       "      <td>6.000000</td>\n",
       "      <td>15.142857</td>\n",
       "      <td>6.237143</td>\n",
       "      <td>5.842857</td>\n",
       "      <td>-0.394286</td>\n",
       "      <td>1.0</td>\n",
       "    </tr>\n",
       "    <tr>\n",
       "      <th>23</th>\n",
       "      <td>Ezekiel Elliott</td>\n",
       "      <td>6.000000</td>\n",
       "      <td>13.909091</td>\n",
       "      <td>9.086364</td>\n",
       "      <td>8.654545</td>\n",
       "      <td>-0.431818</td>\n",
       "      <td>1.0</td>\n",
       "    </tr>\n",
       "    <tr>\n",
       "      <th>13</th>\n",
       "      <td>D'Andre Swift</td>\n",
       "      <td>6.000000</td>\n",
       "      <td>14.272727</td>\n",
       "      <td>9.017273</td>\n",
       "      <td>8.500000</td>\n",
       "      <td>-0.517273</td>\n",
       "      <td>0.0</td>\n",
       "    </tr>\n",
       "    <tr>\n",
       "      <th>41</th>\n",
       "      <td>Leonard Fournette</td>\n",
       "      <td>6.000000</td>\n",
       "      <td>15.000000</td>\n",
       "      <td>14.628182</td>\n",
       "      <td>14.063636</td>\n",
       "      <td>-0.564545</td>\n",
       "      <td>0.0</td>\n",
       "    </tr>\n",
       "    <tr>\n",
       "      <th>15</th>\n",
       "      <td>Dameon Pierce</td>\n",
       "      <td>6.000000</td>\n",
       "      <td>16.636364</td>\n",
       "      <td>13.098182</td>\n",
       "      <td>12.500000</td>\n",
       "      <td>-0.598182</td>\n",
       "      <td>0.0</td>\n",
       "    </tr>\n",
       "    <tr>\n",
       "      <th>21</th>\n",
       "      <td>Elijah Mitchell</td>\n",
       "      <td>6.000000</td>\n",
       "      <td>18.909091</td>\n",
       "      <td>2.466364</td>\n",
       "      <td>1.800000</td>\n",
       "      <td>-0.666364</td>\n",
       "      <td>0.0</td>\n",
       "    </tr>\n",
       "    <tr>\n",
       "      <th>7</th>\n",
       "      <td>Brian Robinson Jr.</td>\n",
       "      <td>6.000000</td>\n",
       "      <td>19.090909</td>\n",
       "      <td>5.612727</td>\n",
       "      <td>4.809091</td>\n",
       "      <td>-0.803636</td>\n",
       "      <td>0.0</td>\n",
       "    </tr>\n",
       "    <tr>\n",
       "      <th>51</th>\n",
       "      <td>Rashaad Penny</td>\n",
       "      <td>3.000000</td>\n",
       "      <td>12.400000</td>\n",
       "      <td>11.354000</td>\n",
       "      <td>10.440000</td>\n",
       "      <td>-0.914000</td>\n",
       "      <td>0.0</td>\n",
       "    </tr>\n",
       "    <tr>\n",
       "      <th>14</th>\n",
       "      <td>Dalvin Cook</td>\n",
       "      <td>6.000000</td>\n",
       "      <td>13.636364</td>\n",
       "      <td>15.165455</td>\n",
       "      <td>14.227273</td>\n",
       "      <td>-0.938182</td>\n",
       "      <td>0.0</td>\n",
       "    </tr>\n",
       "    <tr>\n",
       "      <th>16</th>\n",
       "      <td>Damien Harris</td>\n",
       "      <td>6.000000</td>\n",
       "      <td>16.090909</td>\n",
       "      <td>7.887273</td>\n",
       "      <td>6.836364</td>\n",
       "      <td>-1.050909</td>\n",
       "      <td>0.0</td>\n",
       "    </tr>\n",
       "    <tr>\n",
       "      <th>31</th>\n",
       "      <td>James Robinson</td>\n",
       "      <td>6.000000</td>\n",
       "      <td>11.727273</td>\n",
       "      <td>9.090909</td>\n",
       "      <td>7.963636</td>\n",
       "      <td>-1.127273</td>\n",
       "      <td>0.0</td>\n",
       "    </tr>\n",
       "    <tr>\n",
       "      <th>37</th>\n",
       "      <td>Kareem Hunt</td>\n",
       "      <td>6.000000</td>\n",
       "      <td>13.545455</td>\n",
       "      <td>9.842727</td>\n",
       "      <td>8.681818</td>\n",
       "      <td>-1.160909</td>\n",
       "      <td>0.0</td>\n",
       "    </tr>\n",
       "    <tr>\n",
       "      <th>46</th>\n",
       "      <td>Najee Harris</td>\n",
       "      <td>6.000000</td>\n",
       "      <td>11.000000</td>\n",
       "      <td>12.590000</td>\n",
       "      <td>11.360000</td>\n",
       "      <td>-1.230000</td>\n",
       "      <td>0.0</td>\n",
       "    </tr>\n",
       "    <tr>\n",
       "      <th>29</th>\n",
       "      <td>James Conner</td>\n",
       "      <td>6.000000</td>\n",
       "      <td>18.454545</td>\n",
       "      <td>10.468182</td>\n",
       "      <td>8.972727</td>\n",
       "      <td>-1.495455</td>\n",
       "      <td>0.0</td>\n",
       "    </tr>\n",
       "    <tr>\n",
       "      <th>27</th>\n",
       "      <td>J.K. Dobbins</td>\n",
       "      <td>4.000000</td>\n",
       "      <td>13.428571</td>\n",
       "      <td>6.577143</td>\n",
       "      <td>4.885714</td>\n",
       "      <td>-1.691429</td>\n",
       "      <td>0.0</td>\n",
       "    </tr>\n",
       "    <tr>\n",
       "      <th>3</th>\n",
       "      <td>Alvin Kamara</td>\n",
       "      <td>6.000000</td>\n",
       "      <td>17.636364</td>\n",
       "      <td>15.100909</td>\n",
       "      <td>13.327273</td>\n",
       "      <td>-1.773636</td>\n",
       "      <td>0.0</td>\n",
       "    </tr>\n",
       "    <tr>\n",
       "      <th>54</th>\n",
       "      <td>Saquon Barkley</td>\n",
       "      <td>6.000000</td>\n",
       "      <td>17.727273</td>\n",
       "      <td>18.787273</td>\n",
       "      <td>16.845455</td>\n",
       "      <td>-1.941818</td>\n",
       "      <td>0.0</td>\n",
       "    </tr>\n",
       "    <tr>\n",
       "      <th>26</th>\n",
       "      <td>J.D. McKissic</td>\n",
       "      <td>4.000000</td>\n",
       "      <td>17.285714</td>\n",
       "      <td>9.247143</td>\n",
       "      <td>7.257143</td>\n",
       "      <td>-1.990000</td>\n",
       "      <td>0.0</td>\n",
       "    </tr>\n",
       "    <tr>\n",
       "      <th>42</th>\n",
       "      <td>Melvin Gordon III</td>\n",
       "      <td>5.000000</td>\n",
       "      <td>0.000000</td>\n",
       "      <td>9.287778</td>\n",
       "      <td>7.122222</td>\n",
       "      <td>-2.165556</td>\n",
       "      <td>0.0</td>\n",
       "    </tr>\n",
       "    <tr>\n",
       "      <th>43</th>\n",
       "      <td>Michael Carter</td>\n",
       "      <td>5.555556</td>\n",
       "      <td>10.222222</td>\n",
       "      <td>10.683333</td>\n",
       "      <td>8.366667</td>\n",
       "      <td>-2.316667</td>\n",
       "      <td>0.0</td>\n",
       "    </tr>\n",
       "    <tr>\n",
       "      <th>52</th>\n",
       "      <td>Rex Burkhead</td>\n",
       "      <td>2.000000</td>\n",
       "      <td>19.000000</td>\n",
       "      <td>9.653333</td>\n",
       "      <td>7.300000</td>\n",
       "      <td>-2.353333</td>\n",
       "      <td>0.0</td>\n",
       "    </tr>\n",
       "    <tr>\n",
       "      <th>17</th>\n",
       "      <td>Darrell Henderson Jr.</td>\n",
       "      <td>6.000000</td>\n",
       "      <td>18.000000</td>\n",
       "      <td>9.078182</td>\n",
       "      <td>6.681818</td>\n",
       "      <td>-2.396364</td>\n",
       "      <td>0.0</td>\n",
       "    </tr>\n",
       "    <tr>\n",
       "      <th>8</th>\n",
       "      <td>Cam Akers</td>\n",
       "      <td>6.000000</td>\n",
       "      <td>10.636364</td>\n",
       "      <td>5.600000</td>\n",
       "      <td>2.863636</td>\n",
       "      <td>-2.736364</td>\n",
       "      <td>0.0</td>\n",
       "    </tr>\n",
       "    <tr>\n",
       "      <th>48</th>\n",
       "      <td>Nyheim Hines</td>\n",
       "      <td>5.222222</td>\n",
       "      <td>14.777778</td>\n",
       "      <td>7.401111</td>\n",
       "      <td>4.622222</td>\n",
       "      <td>-2.778889</td>\n",
       "      <td>0.0</td>\n",
       "    </tr>\n",
       "    <tr>\n",
       "      <th>0</th>\n",
       "      <td>AJ Dillon</td>\n",
       "      <td>6.000000</td>\n",
       "      <td>11.272727</td>\n",
       "      <td>10.159091</td>\n",
       "      <td>7.327273</td>\n",
       "      <td>-2.831818</td>\n",
       "      <td>0.0</td>\n",
       "    </tr>\n",
       "    <tr>\n",
       "      <th>18</th>\n",
       "      <td>David Montgomery</td>\n",
       "      <td>6.000000</td>\n",
       "      <td>14.272727</td>\n",
       "      <td>12.457273</td>\n",
       "      <td>9.500000</td>\n",
       "      <td>-2.957273</td>\n",
       "      <td>0.0</td>\n",
       "    </tr>\n",
       "    <tr>\n",
       "      <th>9</th>\n",
       "      <td>Chase Edmonds</td>\n",
       "      <td>6.000000</td>\n",
       "      <td>18.727273</td>\n",
       "      <td>7.880909</td>\n",
       "      <td>4.736364</td>\n",
       "      <td>-3.144545</td>\n",
       "      <td>0.0</td>\n",
       "    </tr>\n",
       "    <tr>\n",
       "      <th>44</th>\n",
       "      <td>Mike Davis</td>\n",
       "      <td>3.000000</td>\n",
       "      <td>9.800000</td>\n",
       "      <td>3.506000</td>\n",
       "      <td>0.360000</td>\n",
       "      <td>-3.146000</td>\n",
       "      <td>0.0</td>\n",
       "    </tr>\n",
       "    <tr>\n",
       "      <th>35</th>\n",
       "      <td>Jonathan Taylor</td>\n",
       "      <td>6.000000</td>\n",
       "      <td>16.636364</td>\n",
       "      <td>13.914545</td>\n",
       "      <td>10.181818</td>\n",
       "      <td>-3.732727</td>\n",
       "      <td>0.0</td>\n",
       "    </tr>\n",
       "    <tr>\n",
       "      <th>32</th>\n",
       "      <td>Javonte Williams</td>\n",
       "      <td>2.500000</td>\n",
       "      <td>22.500000</td>\n",
       "      <td>15.235000</td>\n",
       "      <td>10.500000</td>\n",
       "      <td>-4.735000</td>\n",
       "      <td>0.0</td>\n",
       "    </tr>\n",
       "    <tr>\n",
       "      <th>40</th>\n",
       "      <td>Khalil Herbert</td>\n",
       "      <td>4.500000</td>\n",
       "      <td>17.000000</td>\n",
       "      <td>9.260000</td>\n",
       "      <td>4.000000</td>\n",
       "      <td>-5.260000</td>\n",
       "      <td>0.0</td>\n",
       "    </tr>\n",
       "    <tr>\n",
       "      <th>30</th>\n",
       "      <td>James Cook</td>\n",
       "      <td>1.000000</td>\n",
       "      <td>9.000000</td>\n",
       "      <td>6.340000</td>\n",
       "      <td>-1.800000</td>\n",
       "      <td>-8.140000</td>\n",
       "      <td>0.0</td>\n",
       "    </tr>\n",
       "  </tbody>\n",
       "</table>\n",
       "</div>"
      ],
      "text/plain": [
       "                   Player      Week       Rank  Projected_Points  \\\n",
       "55           Tony Pollard  6.000000  13.909091         10.497273   \n",
       "28        Jamaal Williams  6.000000  14.272727         10.383636   \n",
       "36            Josh Jacobs  6.000000  17.090909         14.168182   \n",
       "5           Austin Ekeler  6.000000  20.727273         17.701818   \n",
       "38     Kenneth Walker III  6.000000  13.727273          8.625455   \n",
       "39           Kenyan Drake  5.142857  14.571429          5.101429   \n",
       "53    Rhamondre Stevenson  6.000000  16.090909         12.205455   \n",
       "6             Breece Hall  6.000000  11.727273          7.788182   \n",
       "47             Nick Chubb  6.000000  13.545455         14.788182   \n",
       "11  Clyde Edwards-Helaire  3.500000  18.166667         12.121667   \n",
       "19          Derrick Henry  6.000000  16.545455         16.412727   \n",
       "25          Isiah Pacheco  5.000000  30.000000          8.940000   \n",
       "56     Travis Etienne Jr.  6.000000  18.000000         11.525455   \n",
       "12  Cordarrelle Patterson  6.000000  18.363636          7.317273   \n",
       "4          Antonio Gibson  6.000000  19.090909         11.887273   \n",
       "2      Alexander Mattison  3.500000  18.333333          5.166667   \n",
       "1             Aaron Jones  6.000000  11.272727         14.983636   \n",
       "33        Jeff Wilson Jr.  6.000000  16.777778          9.901111   \n",
       "10    Christian McCaffrey  6.000000  18.909091         17.841818   \n",
       "34              Joe Mixon  6.000000  14.181818         16.070000   \n",
       "50         Raheem Mostert  5.888889  15.777778         10.465556   \n",
       "22           Eno Benjamin  6.000000   5.000000          0.000000   \n",
       "24            Gus Edwards  5.333333  10.777778          0.000000   \n",
       "45          Miles Sanders  6.000000  15.090909         11.940000   \n",
       "20       Devin Singletary  6.000000  15.090909         11.206364   \n",
       "49          Rachaad White  6.000000  15.142857          6.237143   \n",
       "23        Ezekiel Elliott  6.000000  13.909091          9.086364   \n",
       "13          D'Andre Swift  6.000000  14.272727          9.017273   \n",
       "41      Leonard Fournette  6.000000  15.000000         14.628182   \n",
       "15          Dameon Pierce  6.000000  16.636364         13.098182   \n",
       "21        Elijah Mitchell  6.000000  18.909091          2.466364   \n",
       "7      Brian Robinson Jr.  6.000000  19.090909          5.612727   \n",
       "51          Rashaad Penny  3.000000  12.400000         11.354000   \n",
       "14            Dalvin Cook  6.000000  13.636364         15.165455   \n",
       "16          Damien Harris  6.000000  16.090909          7.887273   \n",
       "31         James Robinson  6.000000  11.727273          9.090909   \n",
       "37            Kareem Hunt  6.000000  13.545455          9.842727   \n",
       "46           Najee Harris  6.000000  11.000000         12.590000   \n",
       "29           James Conner  6.000000  18.454545         10.468182   \n",
       "27           J.K. Dobbins  4.000000  13.428571          6.577143   \n",
       "3            Alvin Kamara  6.000000  17.636364         15.100909   \n",
       "54         Saquon Barkley  6.000000  17.727273         18.787273   \n",
       "26          J.D. McKissic  4.000000  17.285714          9.247143   \n",
       "42      Melvin Gordon III  5.000000   0.000000          9.287778   \n",
       "43         Michael Carter  5.555556  10.222222         10.683333   \n",
       "52           Rex Burkhead  2.000000  19.000000          9.653333   \n",
       "17  Darrell Henderson Jr.  6.000000  18.000000          9.078182   \n",
       "8               Cam Akers  6.000000  10.636364          5.600000   \n",
       "48           Nyheim Hines  5.222222  14.777778          7.401111   \n",
       "0               AJ Dillon  6.000000  11.272727         10.159091   \n",
       "18       David Montgomery  6.000000  14.272727         12.457273   \n",
       "9           Chase Edmonds  6.000000  18.727273          7.880909   \n",
       "44             Mike Davis  3.000000   9.800000          3.506000   \n",
       "35        Jonathan Taylor  6.000000  16.636364         13.914545   \n",
       "32       Javonte Williams  2.500000  22.500000         15.235000   \n",
       "40         Khalil Herbert  4.500000  17.000000          9.260000   \n",
       "30             James Cook  1.000000   9.000000          6.340000   \n",
       "\n",
       "    Actual_Points  Point-Residuals  label  \n",
       "55      14.854545         4.357273    1.0  \n",
       "28      13.954545         3.570909    1.0  \n",
       "36      17.645455         3.477273    1.0  \n",
       "5       20.918182         3.216364    1.0  \n",
       "38      11.727273         3.101818    1.0  \n",
       "39       8.014286         2.912857    1.0  \n",
       "53      14.881818         2.676364    1.0  \n",
       "6       10.463636         2.675455    1.0  \n",
       "47      17.081818         2.293636    1.0  \n",
       "11      14.216667         2.095000    1.0  \n",
       "19      18.460000         2.047273    1.0  \n",
       "25      10.700000         1.760000    1.0  \n",
       "56      12.609091         1.083636    1.0  \n",
       "12       8.363636         1.046364    1.0  \n",
       "4       12.709091         0.821818    1.0  \n",
       "2        5.916667         0.750000    1.0  \n",
       "1       15.690909         0.707273    1.0  \n",
       "33      10.566667         0.665556    1.0  \n",
       "10      18.341818         0.500000    1.0  \n",
       "34      16.445455         0.375455    1.0  \n",
       "50      10.577778         0.112222    1.0  \n",
       "22       0.000000         0.000000    1.0  \n",
       "24       0.000000         0.000000    1.0  \n",
       "45      11.636364        -0.303636    1.0  \n",
       "20      10.890909        -0.315455    1.0  \n",
       "49       5.842857        -0.394286    1.0  \n",
       "23       8.654545        -0.431818    1.0  \n",
       "13       8.500000        -0.517273    0.0  \n",
       "41      14.063636        -0.564545    0.0  \n",
       "15      12.500000        -0.598182    0.0  \n",
       "21       1.800000        -0.666364    0.0  \n",
       "7        4.809091        -0.803636    0.0  \n",
       "51      10.440000        -0.914000    0.0  \n",
       "14      14.227273        -0.938182    0.0  \n",
       "16       6.836364        -1.050909    0.0  \n",
       "31       7.963636        -1.127273    0.0  \n",
       "37       8.681818        -1.160909    0.0  \n",
       "46      11.360000        -1.230000    0.0  \n",
       "29       8.972727        -1.495455    0.0  \n",
       "27       4.885714        -1.691429    0.0  \n",
       "3       13.327273        -1.773636    0.0  \n",
       "54      16.845455        -1.941818    0.0  \n",
       "26       7.257143        -1.990000    0.0  \n",
       "42       7.122222        -2.165556    0.0  \n",
       "43       8.366667        -2.316667    0.0  \n",
       "52       7.300000        -2.353333    0.0  \n",
       "17       6.681818        -2.396364    0.0  \n",
       "8        2.863636        -2.736364    0.0  \n",
       "48       4.622222        -2.778889    0.0  \n",
       "0        7.327273        -2.831818    0.0  \n",
       "18       9.500000        -2.957273    0.0  \n",
       "9        4.736364        -3.144545    0.0  \n",
       "44       0.360000        -3.146000    0.0  \n",
       "35      10.181818        -3.732727    0.0  \n",
       "32      10.500000        -4.735000    0.0  \n",
       "40       4.000000        -5.260000    0.0  \n",
       "30      -1.800000        -8.140000    0.0  "
      ]
     },
     "execution_count": 32,
     "metadata": {},
     "output_type": "execute_result"
    }
   ],
   "source": [
    "rb_df.loc[rb_df['Point-Residuals'] >= rb_df['Point-Residuals'].mean(), 'label'] = 1\n",
    "rb_df.loc[rb_df['Point-Residuals'] < rb_df['Point-Residuals'].mean(), 'label'] = 0\n",
    "rb_df\n"
   ]
  },
  {
   "cell_type": "code",
   "execution_count": 53,
   "metadata": {},
   "outputs": [
    {
     "data": {
      "application/vnd.plotly.v1+json": {
       "config": {
        "plotlyServerURL": "https://plot.ly"
       },
       "data": [
        {
         "customdata": [
          [
           "Tony Pollard",
           14.854545454545455,
           10.497272727272728,
           4.357272727272728
          ],
          [
           "Jamaal Williams",
           13.954545454545455,
           10.383636363636363,
           3.570909090909091
          ],
          [
           "Josh Jacobs",
           17.645454545454548,
           14.168181818181818,
           3.477272727272728
          ],
          [
           "Austin Ekeler",
           20.918181818181818,
           17.701818181818183,
           3.2163636363636368
          ],
          [
           "Kenneth Walker III",
           11.727272727272727,
           8.625454545454545,
           3.1018181818181816
          ],
          [
           "Kenyan Drake",
           8.014285714285714,
           5.101428571428571,
           2.912857142857143
          ],
          [
           "Rhamondre Stevenson",
           14.881818181818183,
           12.205454545454545,
           2.6763636363636367
          ],
          [
           "Breece Hall",
           10.463636363636363,
           7.788181818181818,
           2.6754545454545453
          ],
          [
           "Nick Chubb",
           17.08181818181818,
           14.788181818181817,
           2.2936363636363635
          ],
          [
           "Clyde Edwards-Helaire",
           14.216666666666667,
           12.121666666666668,
           2.095
          ],
          [
           "Derrick Henry",
           18.46,
           16.41272727272727,
           2.047272727272727
          ],
          [
           "Isiah Pacheco",
           10.7,
           8.94,
           1.7599999999999998
          ],
          [
           "Travis Etienne Jr.",
           12.609090909090908,
           11.525454545454545,
           1.083636363636364
          ],
          [
           "Cordarrelle Patterson",
           8.363636363636363,
           7.3172727272727265,
           1.0463636363636366
          ],
          [
           "Antonio Gibson",
           12.70909090909091,
           11.887272727272727,
           0.8218181818181818
          ],
          [
           "Alexander Mattison",
           5.916666666666667,
           5.166666666666667,
           0.7500000000000001
          ],
          [
           "Aaron Jones",
           15.69090909090909,
           14.983636363636363,
           0.7072727272727274
          ],
          [
           "Jeff Wilson Jr.",
           10.566666666666666,
           9.901111111111112,
           0.6655555555555556
          ],
          [
           "Christian McCaffrey",
           18.34181818181818,
           17.84181818181818,
           0.5000000000000001
          ],
          [
           "Joe Mixon",
           16.445454545454545,
           16.07,
           0.3754545454545454
          ],
          [
           "Raheem Mostert",
           10.577777777777776,
           10.465555555555556,
           0.1122222222222219
          ],
          [
           "Eno Benjamin",
           0,
           0,
           0
          ],
          [
           "Gus Edwards",
           0,
           0,
           0
          ],
          [
           "Miles Sanders",
           11.636363636363637,
           11.94,
           -0.30363636363636354
          ],
          [
           "Devin Singletary",
           10.89090909090909,
           11.206363636363635,
           -0.3154545454545455
          ],
          [
           "Rachaad White",
           5.8428571428571425,
           6.237142857142857,
           -0.39428571428571424
          ],
          [
           "Ezekiel Elliott",
           8.654545454545454,
           9.086363636363636,
           -0.4318181818181819
          ],
          [
           "D'Andre Swift",
           8.5,
           9.017272727272728,
           -0.5172727272727274
          ],
          [
           "Leonard Fournette",
           14.063636363636363,
           14.628181818181817,
           -0.5645454545454545
          ],
          [
           "Dameon Pierce",
           12.5,
           13.098181818181816,
           -0.5981818181818177
          ],
          [
           "Elijah Mitchell",
           1.8,
           2.4663636363636368,
           -0.6663636363636364
          ],
          [
           "Brian Robinson Jr.",
           4.809090909090909,
           5.612727272727273,
           -0.8036363636363638
          ],
          [
           "Rashaad Penny",
           10.44,
           11.354,
           -0.9139999999999997
          ],
          [
           "Dalvin Cook",
           14.227272727272727,
           15.165454545454544,
           -0.9381818181818183
          ],
          [
           "Damien Harris",
           6.836363636363637,
           7.887272727272727,
           -1.0509090909090906
          ],
          [
           "James Robinson",
           7.963636363636363,
           9.090909090909092,
           -1.1272727272727272
          ],
          [
           "Kareem Hunt",
           8.681818181818182,
           9.842727272727272,
           -1.1609090909090904
          ],
          [
           "Najee Harris",
           11.360000000000001,
           12.590000000000002,
           -1.2300000000000002
          ],
          [
           "James Conner",
           8.972727272727273,
           10.468181818181819,
           -1.4954545454545454
          ],
          [
           "J.K. Dobbins",
           4.885714285714286,
           6.577142857142857,
           -1.691428571428571
          ],
          [
           "Alvin Kamara",
           13.327272727272726,
           15.10090909090909,
           -1.7736363636363635
          ],
          [
           "Saquon Barkley",
           16.845454545454547,
           18.787272727272725,
           -1.9418181818181817
          ],
          [
           "J.D. McKissic",
           7.257142857142857,
           9.247142857142858,
           -1.99
          ],
          [
           "Melvin Gordon III",
           7.122222222222222,
           9.287777777777778,
           -2.1655555555555557
          ],
          [
           "Michael Carter",
           8.366666666666667,
           10.683333333333334,
           -2.316666666666667
          ],
          [
           "Rex Burkhead",
           7.3,
           9.653333333333334,
           -2.353333333333333
          ],
          [
           "Darrell Henderson Jr.",
           6.681818181818182,
           9.078181818181818,
           -2.3963636363636365
          ],
          [
           "Cam Akers",
           2.8636363636363638,
           5.6000000000000005,
           -2.7363636363636363
          ],
          [
           "Nyheim Hines",
           4.622222222222223,
           7.401111111111111,
           -2.7788888888888885
          ],
          [
           "AJ Dillon",
           7.327272727272727,
           10.159090909090908,
           -2.831818181818182
          ],
          [
           "David Montgomery",
           9.5,
           12.457272727272727,
           -2.9572727272727275
          ],
          [
           "Chase Edmonds",
           4.736363636363636,
           7.880909090909091,
           -3.144545454545455
          ],
          [
           "Mike Davis",
           0.36,
           3.5060000000000002,
           -3.146
          ],
          [
           "Jonathan Taylor",
           10.181818181818182,
           13.914545454545454,
           -3.732727272727273
          ],
          [
           "Javonte Williams",
           10.5,
           15.235,
           -4.734999999999999
          ],
          [
           "Khalil Herbert",
           4,
           9.26,
           -5.26
          ],
          [
           "James Cook",
           -1.8,
           6.34,
           -8.14
          ]
         ],
         "hovertemplate": "Player: %{customdata[0]} <br>Actual Points:%{customdata[1]}: <br>Projected Points: %{customdata[2]} <br>Point Residuals: %{customdata[3]}</br>",
         "legendgroup": "",
         "marker": {
          "color": [
           1,
           1,
           1,
           1,
           1,
           1,
           1,
           1,
           1,
           1,
           1,
           1,
           1,
           1,
           1,
           1,
           1,
           1,
           1,
           1,
           1,
           1,
           1,
           1,
           1,
           1,
           1,
           0,
           0,
           0,
           0,
           0,
           0,
           0,
           0,
           0,
           0,
           0,
           0,
           0,
           0,
           0,
           0,
           0,
           0,
           0,
           0,
           0,
           0,
           0,
           0,
           0,
           0,
           0,
           0,
           0,
           0
          ],
          "coloraxis": "coloraxis",
          "symbol": "circle"
         },
         "mode": "markers",
         "name": "",
         "orientation": "v",
         "showlegend": false,
         "type": "scatter",
         "x": [
          14.854545454545455,
          13.954545454545455,
          17.645454545454548,
          20.918181818181818,
          11.727272727272727,
          8.014285714285714,
          14.881818181818183,
          10.463636363636363,
          17.08181818181818,
          14.216666666666667,
          18.46,
          10.7,
          12.609090909090908,
          8.363636363636363,
          12.70909090909091,
          5.916666666666667,
          15.69090909090909,
          10.566666666666666,
          18.34181818181818,
          16.445454545454545,
          10.577777777777776,
          0,
          0,
          11.636363636363637,
          10.89090909090909,
          5.8428571428571425,
          8.654545454545454,
          8.5,
          14.063636363636363,
          12.5,
          1.8,
          4.809090909090909,
          10.44,
          14.227272727272727,
          6.836363636363637,
          7.963636363636363,
          8.681818181818182,
          11.360000000000001,
          8.972727272727273,
          4.885714285714286,
          13.327272727272726,
          16.845454545454547,
          7.257142857142857,
          7.122222222222222,
          8.366666666666667,
          7.3,
          6.681818181818182,
          2.8636363636363638,
          4.622222222222223,
          7.327272727272727,
          9.5,
          4.736363636363636,
          0.36,
          10.181818181818182,
          10.5,
          4,
          -1.8
         ],
         "xaxis": "x",
         "y": [
          4.357272727272728,
          3.570909090909091,
          3.477272727272728,
          3.2163636363636368,
          3.1018181818181816,
          2.912857142857143,
          2.6763636363636367,
          2.6754545454545453,
          2.2936363636363635,
          2.095,
          2.047272727272727,
          1.7599999999999998,
          1.083636363636364,
          1.0463636363636366,
          0.8218181818181818,
          0.7500000000000001,
          0.7072727272727274,
          0.6655555555555556,
          0.5000000000000001,
          0.3754545454545454,
          0.1122222222222219,
          0,
          0,
          -0.30363636363636354,
          -0.3154545454545455,
          -0.39428571428571424,
          -0.4318181818181819,
          -0.5172727272727274,
          -0.5645454545454545,
          -0.5981818181818177,
          -0.6663636363636364,
          -0.8036363636363638,
          -0.9139999999999997,
          -0.9381818181818183,
          -1.0509090909090906,
          -1.1272727272727272,
          -1.1609090909090904,
          -1.2300000000000002,
          -1.4954545454545454,
          -1.691428571428571,
          -1.7736363636363635,
          -1.9418181818181817,
          -1.99,
          -2.1655555555555557,
          -2.316666666666667,
          -2.353333333333333,
          -2.3963636363636365,
          -2.7363636363636363,
          -2.7788888888888885,
          -2.831818181818182,
          -2.9572727272727275,
          -3.144545454545455,
          -3.146,
          -3.732727272727273,
          -4.734999999999999,
          -5.26,
          -8.14
         ],
         "yaxis": "y"
        }
       ],
       "layout": {
        "coloraxis": {
         "colorbar": {
          "title": {
           "text": "label"
          }
         },
         "colorscale": [
          [
           0,
           "#0d0887"
          ],
          [
           0.1111111111111111,
           "#46039f"
          ],
          [
           0.2222222222222222,
           "#7201a8"
          ],
          [
           0.3333333333333333,
           "#9c179e"
          ],
          [
           0.4444444444444444,
           "#bd3786"
          ],
          [
           0.5555555555555556,
           "#d8576b"
          ],
          [
           0.6666666666666666,
           "#ed7953"
          ],
          [
           0.7777777777777778,
           "#fb9f3a"
          ],
          [
           0.8888888888888888,
           "#fdca26"
          ],
          [
           1,
           "#f0f921"
          ]
         ]
        },
        "legend": {
         "tracegroupgap": 0
        },
        "plot_bgcolor": "grey",
        "shapes": [
         {
          "line": {
           "color": "red"
          },
          "type": "line",
          "x0": 0,
          "x1": 1,
          "xref": "x domain",
          "y0": -0.49748765854029,
          "y1": -0.49748765854029,
          "yref": "y"
         }
        ],
        "template": {
         "data": {
          "bar": [
           {
            "error_x": {
             "color": "#2a3f5f"
            },
            "error_y": {
             "color": "#2a3f5f"
            },
            "marker": {
             "line": {
              "color": "#E5ECF6",
              "width": 0.5
             },
             "pattern": {
              "fillmode": "overlay",
              "size": 10,
              "solidity": 0.2
             }
            },
            "type": "bar"
           }
          ],
          "barpolar": [
           {
            "marker": {
             "line": {
              "color": "#E5ECF6",
              "width": 0.5
             },
             "pattern": {
              "fillmode": "overlay",
              "size": 10,
              "solidity": 0.2
             }
            },
            "type": "barpolar"
           }
          ],
          "carpet": [
           {
            "aaxis": {
             "endlinecolor": "#2a3f5f",
             "gridcolor": "white",
             "linecolor": "white",
             "minorgridcolor": "white",
             "startlinecolor": "#2a3f5f"
            },
            "baxis": {
             "endlinecolor": "#2a3f5f",
             "gridcolor": "white",
             "linecolor": "white",
             "minorgridcolor": "white",
             "startlinecolor": "#2a3f5f"
            },
            "type": "carpet"
           }
          ],
          "choropleth": [
           {
            "colorbar": {
             "outlinewidth": 0,
             "ticks": ""
            },
            "type": "choropleth"
           }
          ],
          "contour": [
           {
            "colorbar": {
             "outlinewidth": 0,
             "ticks": ""
            },
            "colorscale": [
             [
              0,
              "#0d0887"
             ],
             [
              0.1111111111111111,
              "#46039f"
             ],
             [
              0.2222222222222222,
              "#7201a8"
             ],
             [
              0.3333333333333333,
              "#9c179e"
             ],
             [
              0.4444444444444444,
              "#bd3786"
             ],
             [
              0.5555555555555556,
              "#d8576b"
             ],
             [
              0.6666666666666666,
              "#ed7953"
             ],
             [
              0.7777777777777778,
              "#fb9f3a"
             ],
             [
              0.8888888888888888,
              "#fdca26"
             ],
             [
              1,
              "#f0f921"
             ]
            ],
            "type": "contour"
           }
          ],
          "contourcarpet": [
           {
            "colorbar": {
             "outlinewidth": 0,
             "ticks": ""
            },
            "type": "contourcarpet"
           }
          ],
          "heatmap": [
           {
            "colorbar": {
             "outlinewidth": 0,
             "ticks": ""
            },
            "colorscale": [
             [
              0,
              "#0d0887"
             ],
             [
              0.1111111111111111,
              "#46039f"
             ],
             [
              0.2222222222222222,
              "#7201a8"
             ],
             [
              0.3333333333333333,
              "#9c179e"
             ],
             [
              0.4444444444444444,
              "#bd3786"
             ],
             [
              0.5555555555555556,
              "#d8576b"
             ],
             [
              0.6666666666666666,
              "#ed7953"
             ],
             [
              0.7777777777777778,
              "#fb9f3a"
             ],
             [
              0.8888888888888888,
              "#fdca26"
             ],
             [
              1,
              "#f0f921"
             ]
            ],
            "type": "heatmap"
           }
          ],
          "heatmapgl": [
           {
            "colorbar": {
             "outlinewidth": 0,
             "ticks": ""
            },
            "colorscale": [
             [
              0,
              "#0d0887"
             ],
             [
              0.1111111111111111,
              "#46039f"
             ],
             [
              0.2222222222222222,
              "#7201a8"
             ],
             [
              0.3333333333333333,
              "#9c179e"
             ],
             [
              0.4444444444444444,
              "#bd3786"
             ],
             [
              0.5555555555555556,
              "#d8576b"
             ],
             [
              0.6666666666666666,
              "#ed7953"
             ],
             [
              0.7777777777777778,
              "#fb9f3a"
             ],
             [
              0.8888888888888888,
              "#fdca26"
             ],
             [
              1,
              "#f0f921"
             ]
            ],
            "type": "heatmapgl"
           }
          ],
          "histogram": [
           {
            "marker": {
             "pattern": {
              "fillmode": "overlay",
              "size": 10,
              "solidity": 0.2
             }
            },
            "type": "histogram"
           }
          ],
          "histogram2d": [
           {
            "colorbar": {
             "outlinewidth": 0,
             "ticks": ""
            },
            "colorscale": [
             [
              0,
              "#0d0887"
             ],
             [
              0.1111111111111111,
              "#46039f"
             ],
             [
              0.2222222222222222,
              "#7201a8"
             ],
             [
              0.3333333333333333,
              "#9c179e"
             ],
             [
              0.4444444444444444,
              "#bd3786"
             ],
             [
              0.5555555555555556,
              "#d8576b"
             ],
             [
              0.6666666666666666,
              "#ed7953"
             ],
             [
              0.7777777777777778,
              "#fb9f3a"
             ],
             [
              0.8888888888888888,
              "#fdca26"
             ],
             [
              1,
              "#f0f921"
             ]
            ],
            "type": "histogram2d"
           }
          ],
          "histogram2dcontour": [
           {
            "colorbar": {
             "outlinewidth": 0,
             "ticks": ""
            },
            "colorscale": [
             [
              0,
              "#0d0887"
             ],
             [
              0.1111111111111111,
              "#46039f"
             ],
             [
              0.2222222222222222,
              "#7201a8"
             ],
             [
              0.3333333333333333,
              "#9c179e"
             ],
             [
              0.4444444444444444,
              "#bd3786"
             ],
             [
              0.5555555555555556,
              "#d8576b"
             ],
             [
              0.6666666666666666,
              "#ed7953"
             ],
             [
              0.7777777777777778,
              "#fb9f3a"
             ],
             [
              0.8888888888888888,
              "#fdca26"
             ],
             [
              1,
              "#f0f921"
             ]
            ],
            "type": "histogram2dcontour"
           }
          ],
          "mesh3d": [
           {
            "colorbar": {
             "outlinewidth": 0,
             "ticks": ""
            },
            "type": "mesh3d"
           }
          ],
          "parcoords": [
           {
            "line": {
             "colorbar": {
              "outlinewidth": 0,
              "ticks": ""
             }
            },
            "type": "parcoords"
           }
          ],
          "pie": [
           {
            "automargin": true,
            "type": "pie"
           }
          ],
          "scatter": [
           {
            "marker": {
             "colorbar": {
              "outlinewidth": 0,
              "ticks": ""
             }
            },
            "type": "scatter"
           }
          ],
          "scatter3d": [
           {
            "line": {
             "colorbar": {
              "outlinewidth": 0,
              "ticks": ""
             }
            },
            "marker": {
             "colorbar": {
              "outlinewidth": 0,
              "ticks": ""
             }
            },
            "type": "scatter3d"
           }
          ],
          "scattercarpet": [
           {
            "marker": {
             "colorbar": {
              "outlinewidth": 0,
              "ticks": ""
             }
            },
            "type": "scattercarpet"
           }
          ],
          "scattergeo": [
           {
            "marker": {
             "colorbar": {
              "outlinewidth": 0,
              "ticks": ""
             }
            },
            "type": "scattergeo"
           }
          ],
          "scattergl": [
           {
            "marker": {
             "colorbar": {
              "outlinewidth": 0,
              "ticks": ""
             }
            },
            "type": "scattergl"
           }
          ],
          "scattermapbox": [
           {
            "marker": {
             "colorbar": {
              "outlinewidth": 0,
              "ticks": ""
             }
            },
            "type": "scattermapbox"
           }
          ],
          "scatterpolar": [
           {
            "marker": {
             "colorbar": {
              "outlinewidth": 0,
              "ticks": ""
             }
            },
            "type": "scatterpolar"
           }
          ],
          "scatterpolargl": [
           {
            "marker": {
             "colorbar": {
              "outlinewidth": 0,
              "ticks": ""
             }
            },
            "type": "scatterpolargl"
           }
          ],
          "scatterternary": [
           {
            "marker": {
             "colorbar": {
              "outlinewidth": 0,
              "ticks": ""
             }
            },
            "type": "scatterternary"
           }
          ],
          "surface": [
           {
            "colorbar": {
             "outlinewidth": 0,
             "ticks": ""
            },
            "colorscale": [
             [
              0,
              "#0d0887"
             ],
             [
              0.1111111111111111,
              "#46039f"
             ],
             [
              0.2222222222222222,
              "#7201a8"
             ],
             [
              0.3333333333333333,
              "#9c179e"
             ],
             [
              0.4444444444444444,
              "#bd3786"
             ],
             [
              0.5555555555555556,
              "#d8576b"
             ],
             [
              0.6666666666666666,
              "#ed7953"
             ],
             [
              0.7777777777777778,
              "#fb9f3a"
             ],
             [
              0.8888888888888888,
              "#fdca26"
             ],
             [
              1,
              "#f0f921"
             ]
            ],
            "type": "surface"
           }
          ],
          "table": [
           {
            "cells": {
             "fill": {
              "color": "#EBF0F8"
             },
             "line": {
              "color": "white"
             }
            },
            "header": {
             "fill": {
              "color": "#C8D4E3"
             },
             "line": {
              "color": "white"
             }
            },
            "type": "table"
           }
          ]
         },
         "layout": {
          "annotationdefaults": {
           "arrowcolor": "#2a3f5f",
           "arrowhead": 0,
           "arrowwidth": 1
          },
          "autotypenumbers": "strict",
          "coloraxis": {
           "colorbar": {
            "outlinewidth": 0,
            "ticks": ""
           }
          },
          "colorscale": {
           "diverging": [
            [
             0,
             "#8e0152"
            ],
            [
             0.1,
             "#c51b7d"
            ],
            [
             0.2,
             "#de77ae"
            ],
            [
             0.3,
             "#f1b6da"
            ],
            [
             0.4,
             "#fde0ef"
            ],
            [
             0.5,
             "#f7f7f7"
            ],
            [
             0.6,
             "#e6f5d0"
            ],
            [
             0.7,
             "#b8e186"
            ],
            [
             0.8,
             "#7fbc41"
            ],
            [
             0.9,
             "#4d9221"
            ],
            [
             1,
             "#276419"
            ]
           ],
           "sequential": [
            [
             0,
             "#0d0887"
            ],
            [
             0.1111111111111111,
             "#46039f"
            ],
            [
             0.2222222222222222,
             "#7201a8"
            ],
            [
             0.3333333333333333,
             "#9c179e"
            ],
            [
             0.4444444444444444,
             "#bd3786"
            ],
            [
             0.5555555555555556,
             "#d8576b"
            ],
            [
             0.6666666666666666,
             "#ed7953"
            ],
            [
             0.7777777777777778,
             "#fb9f3a"
            ],
            [
             0.8888888888888888,
             "#fdca26"
            ],
            [
             1,
             "#f0f921"
            ]
           ],
           "sequentialminus": [
            [
             0,
             "#0d0887"
            ],
            [
             0.1111111111111111,
             "#46039f"
            ],
            [
             0.2222222222222222,
             "#7201a8"
            ],
            [
             0.3333333333333333,
             "#9c179e"
            ],
            [
             0.4444444444444444,
             "#bd3786"
            ],
            [
             0.5555555555555556,
             "#d8576b"
            ],
            [
             0.6666666666666666,
             "#ed7953"
            ],
            [
             0.7777777777777778,
             "#fb9f3a"
            ],
            [
             0.8888888888888888,
             "#fdca26"
            ],
            [
             1,
             "#f0f921"
            ]
           ]
          },
          "colorway": [
           "#636efa",
           "#EF553B",
           "#00cc96",
           "#ab63fa",
           "#FFA15A",
           "#19d3f3",
           "#FF6692",
           "#B6E880",
           "#FF97FF",
           "#FECB52"
          ],
          "font": {
           "color": "#2a3f5f"
          },
          "geo": {
           "bgcolor": "white",
           "lakecolor": "white",
           "landcolor": "#E5ECF6",
           "showlakes": true,
           "showland": true,
           "subunitcolor": "white"
          },
          "hoverlabel": {
           "align": "left"
          },
          "hovermode": "closest",
          "mapbox": {
           "style": "light"
          },
          "paper_bgcolor": "white",
          "plot_bgcolor": "#E5ECF6",
          "polar": {
           "angularaxis": {
            "gridcolor": "white",
            "linecolor": "white",
            "ticks": ""
           },
           "bgcolor": "#E5ECF6",
           "radialaxis": {
            "gridcolor": "white",
            "linecolor": "white",
            "ticks": ""
           }
          },
          "scene": {
           "xaxis": {
            "backgroundcolor": "#E5ECF6",
            "gridcolor": "white",
            "gridwidth": 2,
            "linecolor": "white",
            "showbackground": true,
            "ticks": "",
            "zerolinecolor": "white"
           },
           "yaxis": {
            "backgroundcolor": "#E5ECF6",
            "gridcolor": "white",
            "gridwidth": 2,
            "linecolor": "white",
            "showbackground": true,
            "ticks": "",
            "zerolinecolor": "white"
           },
           "zaxis": {
            "backgroundcolor": "#E5ECF6",
            "gridcolor": "white",
            "gridwidth": 2,
            "linecolor": "white",
            "showbackground": true,
            "ticks": "",
            "zerolinecolor": "white"
           }
          },
          "shapedefaults": {
           "line": {
            "color": "#2a3f5f"
           }
          },
          "ternary": {
           "aaxis": {
            "gridcolor": "white",
            "linecolor": "white",
            "ticks": ""
           },
           "baxis": {
            "gridcolor": "white",
            "linecolor": "white",
            "ticks": ""
           },
           "bgcolor": "#E5ECF6",
           "caxis": {
            "gridcolor": "white",
            "linecolor": "white",
            "ticks": ""
           }
          },
          "title": {
           "x": 0.05
          },
          "xaxis": {
           "automargin": true,
           "gridcolor": "white",
           "linecolor": "white",
           "ticks": "",
           "title": {
            "standoff": 15
           },
           "zerolinecolor": "white",
           "zerolinewidth": 2
          },
          "yaxis": {
           "automargin": true,
           "gridcolor": "white",
           "linecolor": "white",
           "ticks": "",
           "title": {
            "standoff": 15
           },
           "zerolinecolor": "white",
           "zerolinewidth": 2
          }
         }
        },
        "title": {
         "text": "Projected vs. Distance from Expectation"
        },
        "xaxis": {
         "anchor": "y",
         "domain": [
          0,
          1
         ],
         "title": {
          "text": "Actual Points"
         }
        },
        "yaxis": {
         "anchor": "x",
         "domain": [
          0,
          1
         ],
         "title": {
          "text": "Point Residuals"
         }
        }
       }
      }
     },
     "metadata": {},
     "output_type": "display_data"
    }
   ],
   "source": [
    "hovertemplate = \"Player: %{customdata[0]} <br>Actual Points:%{customdata[1]}: <br>Projected Points: %{customdata[2]} <br>Point Residuals: %{customdata[3]}</br>\"\n",
    "plot = px.scatter(rb_df, x = 'Actual_Points', y = 'Point-Residuals', color = 'label', title = 'Projected vs. Distance from Expectation', custom_data=['Player', 'Actual_Points','Projected_Points','Point-Residuals'], color_discrete_sequence=px.colors.qualitative.Dark24)\n",
    "plot.update_layout(xaxis_title = 'Actual Points', yaxis_title = 'Point Residuals', plot_bgcolor = 'grey')\n",
    "plot.update_traces(hovertemplate = hovertemplate)\n",
    "# plot.update_xaxes(showgrid = False)\n",
    "# plot.update_yaxes(showgrid = False)\n",
    "plot.add_hline(y=rb_df['Point-Residuals'].mean(), line_color = 'red')\n",
    "# plot.add_hline(y=rb_df['Projected_Points'].mean(), line_color = 'yellow')\n",
    "plot.show()"
   ]
  },
  {
   "cell_type": "code",
   "execution_count": null,
   "metadata": {},
   "outputs": [],
   "source": []
  }
 ],
 "metadata": {
  "kernelspec": {
   "display_name": "Python 3.9.12 ('base')",
   "language": "python",
   "name": "python3"
  },
  "language_info": {
   "codemirror_mode": {
    "name": "ipython",
    "version": 3
   },
   "file_extension": ".py",
   "mimetype": "text/x-python",
   "name": "python",
   "nbconvert_exporter": "python",
   "pygments_lexer": "ipython3",
   "version": "3.9.12"
  },
  "orig_nbformat": 4,
  "vscode": {
   "interpreter": {
    "hash": "33a11755222a1f7d86ea2cf2f4dfdec365d04f7453605f968c7500575cda950b"
   }
  }
 },
 "nbformat": 4,
 "nbformat_minor": 2
}
