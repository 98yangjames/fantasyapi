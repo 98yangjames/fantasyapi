{
 "cells": [
  {
   "cell_type": "code",
   "execution_count": 182,
   "metadata": {},
   "outputs": [],
   "source": [
    "from espn_api.football import League\n",
    "import pandas as pd\n",
    "import plotly.express as px\n",
    "# Init\n",
    "\n",
    "#fan's - 42936131\n",
    "#mine - 829963546\n",
    "league_id = 829963546\n",
    "year = 2022\n",
    "league = League(league_id=league_id, year=year)\n"
   ]
  },
  {
   "cell_type": "code",
   "execution_count": 183,
   "metadata": {},
   "outputs": [],
   "source": [
    "lineups = []\n",
    "teams = []\n",
    "projected = []\n",
    "for i in range(1, 12):\n",
    "    box_scores = league.box_scores(i)\n",
    "    for j in range(len(box_scores)):\n",
    "        lineups.append(box_scores[j].home_lineup)\n",
    "        teams.append(box_scores[j].home_team)\n",
    "        projected.append(box_scores[j].home_projected)\n",
    "\n",
    "        lineups.append(box_scores[j].away_lineup)\n",
    "        teams.append(box_scores[j].away_team)\n",
    "        projected.append(box_scores[j].away_projected)\n",
    "\n",
    "            \n",
    "            \n",
    "\n"
   ]
  },
  {
   "cell_type": "code",
   "execution_count": 184,
   "metadata": {},
   "outputs": [],
   "source": [
    "all_teams = pd.read_csv('Data/current_players.csv')\n"
   ]
  },
  {
   "cell_type": "code",
   "execution_count": 185,
   "metadata": {},
   "outputs": [
    {
     "data": {
      "text/html": [
       "<div>\n",
       "<style scoped>\n",
       "    .dataframe tbody tr th:only-of-type {\n",
       "        vertical-align: middle;\n",
       "    }\n",
       "\n",
       "    .dataframe tbody tr th {\n",
       "        vertical-align: top;\n",
       "    }\n",
       "\n",
       "    .dataframe thead th {\n",
       "        text-align: right;\n",
       "    }\n",
       "</style>\n",
       "<table border=\"1\" class=\"dataframe\">\n",
       "  <thead>\n",
       "    <tr style=\"text-align: right;\">\n",
       "      <th></th>\n",
       "      <th>Player</th>\n",
       "      <th>Projected_Points</th>\n",
       "      <th>Actual_Points</th>\n",
       "      <th>Rank</th>\n",
       "    </tr>\n",
       "  </thead>\n",
       "  <tbody>\n",
       "    <tr>\n",
       "      <th>0</th>\n",
       "      <td>Derrick Henry</td>\n",
       "      <td>17.97</td>\n",
       "      <td>8.20</td>\n",
       "      <td>14</td>\n",
       "    </tr>\n",
       "    <tr>\n",
       "      <th>214</th>\n",
       "      <td>Derrick Henry</td>\n",
       "      <td>17.03</td>\n",
       "      <td>8.50</td>\n",
       "      <td>10</td>\n",
       "    </tr>\n",
       "    <tr>\n",
       "      <th>428</th>\n",
       "      <td>Derrick Henry</td>\n",
       "      <td>17.43</td>\n",
       "      <td>25.30</td>\n",
       "      <td>29</td>\n",
       "    </tr>\n",
       "    <tr>\n",
       "      <th>593</th>\n",
       "      <td>Derrick Henry</td>\n",
       "      <td>16.36</td>\n",
       "      <td>23.70</td>\n",
       "      <td>16</td>\n",
       "    </tr>\n",
       "    <tr>\n",
       "      <th>710</th>\n",
       "      <td>Derrick Henry</td>\n",
       "      <td>18.12</td>\n",
       "      <td>27.20</td>\n",
       "      <td>5</td>\n",
       "    </tr>\n",
       "    <tr>\n",
       "      <th>976</th>\n",
       "      <td>Derrick Henry</td>\n",
       "      <td>0.00</td>\n",
       "      <td>0.00</td>\n",
       "      <td>0</td>\n",
       "    </tr>\n",
       "    <tr>\n",
       "      <th>1092</th>\n",
       "      <td>Derrick Henry</td>\n",
       "      <td>18.96</td>\n",
       "      <td>16.80</td>\n",
       "      <td>16</td>\n",
       "    </tr>\n",
       "    <tr>\n",
       "      <th>1242</th>\n",
       "      <td>Derrick Henry</td>\n",
       "      <td>19.58</td>\n",
       "      <td>35.80</td>\n",
       "      <td>32</td>\n",
       "    </tr>\n",
       "    <tr>\n",
       "      <th>1358</th>\n",
       "      <td>Derrick Henry</td>\n",
       "      <td>20.02</td>\n",
       "      <td>23.50</td>\n",
       "      <td>25</td>\n",
       "    </tr>\n",
       "    <tr>\n",
       "      <th>1492</th>\n",
       "      <td>Derrick Henry</td>\n",
       "      <td>17.55</td>\n",
       "      <td>8.70</td>\n",
       "      <td>13</td>\n",
       "    </tr>\n",
       "    <tr>\n",
       "      <th>1694</th>\n",
       "      <td>Derrick Henry</td>\n",
       "      <td>17.52</td>\n",
       "      <td>25.36</td>\n",
       "      <td>22</td>\n",
       "    </tr>\n",
       "  </tbody>\n",
       "</table>\n",
       "</div>"
      ],
      "text/plain": [
       "             Player  Projected_Points  Actual_Points  Rank\n",
       "0     Derrick Henry             17.97           8.20    14\n",
       "214   Derrick Henry             17.03           8.50    10\n",
       "428   Derrick Henry             17.43          25.30    29\n",
       "593   Derrick Henry             16.36          23.70    16\n",
       "710   Derrick Henry             18.12          27.20     5\n",
       "976   Derrick Henry              0.00           0.00     0\n",
       "1092  Derrick Henry             18.96          16.80    16\n",
       "1242  Derrick Henry             19.58          35.80    32\n",
       "1358  Derrick Henry             20.02          23.50    25\n",
       "1492  Derrick Henry             17.55           8.70    13\n",
       "1694  Derrick Henry             17.52          25.36    22"
      ]
     },
     "execution_count": 185,
     "metadata": {},
     "output_type": "execute_result"
    }
   ],
   "source": [
    "all_players = pd.DataFrame()\n",
    "\n",
    "names = []\n",
    "project = []\n",
    "actual = []\n",
    "ranks = []\n",
    "\n",
    "for players in lineups:\n",
    "    for player in players:\n",
    "        names.append(player.name)\n",
    "        project.append(player.projected_points)\n",
    "        actual.append(player.points)\n",
    "        ranks.append(player.pro_pos_rank)\n",
    "        \n",
    "all_players['Player'] = names\n",
    "all_players['Projected_Points'] = project\n",
    "all_players['Actual_Points'] = actual\n",
    "all_players['Rank'] = ranks\n",
    "\n",
    "all_players[all_players['Player'] == 'Derrick Henry']"
   ]
  },
  {
   "cell_type": "code",
   "execution_count": 186,
   "metadata": {},
   "outputs": [
    {
     "data": {
      "text/html": [
       "<div>\n",
       "<style scoped>\n",
       "    .dataframe tbody tr th:only-of-type {\n",
       "        vertical-align: middle;\n",
       "    }\n",
       "\n",
       "    .dataframe tbody tr th {\n",
       "        vertical-align: top;\n",
       "    }\n",
       "\n",
       "    .dataframe thead th {\n",
       "        text-align: right;\n",
       "    }\n",
       "</style>\n",
       "<table border=\"1\" class=\"dataframe\">\n",
       "  <thead>\n",
       "    <tr style=\"text-align: right;\">\n",
       "      <th></th>\n",
       "      <th>Unnamed: 0</th>\n",
       "      <th>Team</th>\n",
       "      <th>Player</th>\n",
       "      <th>Week</th>\n",
       "      <th>Rank</th>\n",
       "      <th>Expected_Points</th>\n",
       "      <th>Actual_Points</th>\n",
       "      <th>Difference</th>\n",
       "    </tr>\n",
       "  </thead>\n",
       "  <tbody>\n",
       "    <tr>\n",
       "      <th>0</th>\n",
       "      <td>0</td>\n",
       "      <td>I dont know what im doing</td>\n",
       "      <td>Leonard Fournette</td>\n",
       "      <td>1</td>\n",
       "      <td>12</td>\n",
       "      <td>258.74</td>\n",
       "      <td>154.7</td>\n",
       "      <td>-104.04</td>\n",
       "    </tr>\n",
       "    <tr>\n",
       "      <th>1</th>\n",
       "      <td>1</td>\n",
       "      <td>I dont know what im doing</td>\n",
       "      <td>Davante Adams</td>\n",
       "      <td>1</td>\n",
       "      <td>3</td>\n",
       "      <td>253.59</td>\n",
       "      <td>216.4</td>\n",
       "      <td>-37.19</td>\n",
       "    </tr>\n",
       "    <tr>\n",
       "      <th>2</th>\n",
       "      <td>2</td>\n",
       "      <td>I dont know what im doing</td>\n",
       "      <td>Mike Evans</td>\n",
       "      <td>1</td>\n",
       "      <td>20</td>\n",
       "      <td>223.32</td>\n",
       "      <td>134.1</td>\n",
       "      <td>-89.22</td>\n",
       "    </tr>\n",
       "    <tr>\n",
       "      <th>3</th>\n",
       "      <td>3</td>\n",
       "      <td>I dont know what im doing</td>\n",
       "      <td>Breece Hall</td>\n",
       "      <td>1</td>\n",
       "      <td>22</td>\n",
       "      <td>210.66</td>\n",
       "      <td>115.1</td>\n",
       "      <td>-95.56</td>\n",
       "    </tr>\n",
       "    <tr>\n",
       "      <th>4</th>\n",
       "      <td>4</td>\n",
       "      <td>I dont know what im doing</td>\n",
       "      <td>Brandin Cooks</td>\n",
       "      <td>1</td>\n",
       "      <td>49</td>\n",
       "      <td>215.10</td>\n",
       "      <td>91.6</td>\n",
       "      <td>-123.50</td>\n",
       "    </tr>\n",
       "    <tr>\n",
       "      <th>...</th>\n",
       "      <td>...</td>\n",
       "      <td>...</td>\n",
       "      <td>...</td>\n",
       "      <td>...</td>\n",
       "      <td>...</td>\n",
       "      <td>...</td>\n",
       "      <td>...</td>\n",
       "      <td>...</td>\n",
       "    </tr>\n",
       "    <tr>\n",
       "      <th>1984</th>\n",
       "      <td>1984</td>\n",
       "      <td>P-Town CASH KEVIN</td>\n",
       "      <td>Kenyan Drake</td>\n",
       "      <td>12</td>\n",
       "      <td>41</td>\n",
       "      <td>13.48</td>\n",
       "      <td>79.2</td>\n",
       "      <td>65.72</td>\n",
       "    </tr>\n",
       "    <tr>\n",
       "      <th>1985</th>\n",
       "      <td>1985</td>\n",
       "      <td>P-Town CASH KEVIN</td>\n",
       "      <td>Eno Benjamin</td>\n",
       "      <td>12</td>\n",
       "      <td>37</td>\n",
       "      <td>64.37</td>\n",
       "      <td>86.3</td>\n",
       "      <td>21.93</td>\n",
       "    </tr>\n",
       "    <tr>\n",
       "      <th>1986</th>\n",
       "      <td>1986</td>\n",
       "      <td>P-Town CASH KEVIN</td>\n",
       "      <td>Colts D/ST</td>\n",
       "      <td>12</td>\n",
       "      <td>12</td>\n",
       "      <td>108.70</td>\n",
       "      <td>66.0</td>\n",
       "      <td>-42.70</td>\n",
       "    </tr>\n",
       "    <tr>\n",
       "      <th>1987</th>\n",
       "      <td>1987</td>\n",
       "      <td>P-Town CASH KEVIN</td>\n",
       "      <td>Ryan Succop</td>\n",
       "      <td>12</td>\n",
       "      <td>7</td>\n",
       "      <td>130.21</td>\n",
       "      <td>88.0</td>\n",
       "      <td>-42.21</td>\n",
       "    </tr>\n",
       "    <tr>\n",
       "      <th>1988</th>\n",
       "      <td>1988</td>\n",
       "      <td>P-Town CASH KEVIN</td>\n",
       "      <td>Commanders D/ST</td>\n",
       "      <td>12</td>\n",
       "      <td>8</td>\n",
       "      <td>109.17</td>\n",
       "      <td>81.0</td>\n",
       "      <td>-28.17</td>\n",
       "    </tr>\n",
       "  </tbody>\n",
       "</table>\n",
       "<p>1989 rows × 8 columns</p>\n",
       "</div>"
      ],
      "text/plain": [
       "      Unnamed: 0                       Team             Player  Week  Rank  \\\n",
       "0              0  I dont know what im doing  Leonard Fournette     1    12   \n",
       "1              1  I dont know what im doing      Davante Adams     1     3   \n",
       "2              2  I dont know what im doing         Mike Evans     1    20   \n",
       "3              3  I dont know what im doing        Breece Hall     1    22   \n",
       "4              4  I dont know what im doing      Brandin Cooks     1    49   \n",
       "...          ...                        ...                ...   ...   ...   \n",
       "1984        1984          P-Town CASH KEVIN       Kenyan Drake    12    41   \n",
       "1985        1985          P-Town CASH KEVIN       Eno Benjamin    12    37   \n",
       "1986        1986          P-Town CASH KEVIN         Colts D/ST    12    12   \n",
       "1987        1987          P-Town CASH KEVIN        Ryan Succop    12     7   \n",
       "1988        1988          P-Town CASH KEVIN    Commanders D/ST    12     8   \n",
       "\n",
       "      Expected_Points  Actual_Points  Difference  \n",
       "0              258.74          154.7     -104.04  \n",
       "1              253.59          216.4      -37.19  \n",
       "2              223.32          134.1      -89.22  \n",
       "3              210.66          115.1      -95.56  \n",
       "4              215.10           91.6     -123.50  \n",
       "...               ...            ...         ...  \n",
       "1984            13.48           79.2       65.72  \n",
       "1985            64.37           86.3       21.93  \n",
       "1986           108.70           66.0      -42.70  \n",
       "1987           130.21           88.0      -42.21  \n",
       "1988           109.17           81.0      -28.17  \n",
       "\n",
       "[1989 rows x 8 columns]"
      ]
     },
     "execution_count": 186,
     "metadata": {},
     "output_type": "execute_result"
    }
   ],
   "source": [
    "all_teams\n"
   ]
  },
  {
   "cell_type": "code",
   "execution_count": 187,
   "metadata": {},
   "outputs": [
    {
     "data": {
      "text/html": [
       "<div>\n",
       "<style scoped>\n",
       "    .dataframe tbody tr th:only-of-type {\n",
       "        vertical-align: middle;\n",
       "    }\n",
       "\n",
       "    .dataframe tbody tr th {\n",
       "        vertical-align: top;\n",
       "    }\n",
       "\n",
       "    .dataframe thead th {\n",
       "        text-align: right;\n",
       "    }\n",
       "</style>\n",
       "<table border=\"1\" class=\"dataframe\">\n",
       "  <thead>\n",
       "    <tr style=\"text-align: right;\">\n",
       "      <th></th>\n",
       "      <th>Week</th>\n",
       "      <th>Player</th>\n",
       "      <th>Projected_Points</th>\n",
       "      <th>Actual_Points</th>\n",
       "      <th>Rank</th>\n",
       "    </tr>\n",
       "  </thead>\n",
       "  <tbody>\n",
       "    <tr>\n",
       "      <th>0</th>\n",
       "      <td>1</td>\n",
       "      <td>Derrick Henry</td>\n",
       "      <td>17.97</td>\n",
       "      <td>8.2</td>\n",
       "      <td>14</td>\n",
       "    </tr>\n",
       "    <tr>\n",
       "      <th>214</th>\n",
       "      <td>2</td>\n",
       "      <td>Derrick Henry</td>\n",
       "      <td>17.03</td>\n",
       "      <td>8.5</td>\n",
       "      <td>10</td>\n",
       "    </tr>\n",
       "    <tr>\n",
       "      <th>428</th>\n",
       "      <td>3</td>\n",
       "      <td>Derrick Henry</td>\n",
       "      <td>17.43</td>\n",
       "      <td>25.3</td>\n",
       "      <td>29</td>\n",
       "    </tr>\n",
       "    <tr>\n",
       "      <th>593</th>\n",
       "      <td>4</td>\n",
       "      <td>Derrick Henry</td>\n",
       "      <td>16.36</td>\n",
       "      <td>23.7</td>\n",
       "      <td>16</td>\n",
       "    </tr>\n",
       "    <tr>\n",
       "      <th>710</th>\n",
       "      <td>5</td>\n",
       "      <td>Derrick Henry</td>\n",
       "      <td>18.12</td>\n",
       "      <td>27.2</td>\n",
       "      <td>5</td>\n",
       "    </tr>\n",
       "    <tr>\n",
       "      <th>...</th>\n",
       "      <td>...</td>\n",
       "      <td>...</td>\n",
       "      <td>...</td>\n",
       "      <td>...</td>\n",
       "      <td>...</td>\n",
       "    </tr>\n",
       "    <tr>\n",
       "      <th>1250</th>\n",
       "      <td>8</td>\n",
       "      <td>Tony Pollard</td>\n",
       "      <td>16.52</td>\n",
       "      <td>33.7</td>\n",
       "      <td>28</td>\n",
       "    </tr>\n",
       "    <tr>\n",
       "      <th>1366</th>\n",
       "      <td>9</td>\n",
       "      <td>Tony Pollard</td>\n",
       "      <td>0.00</td>\n",
       "      <td>0.0</td>\n",
       "      <td>0</td>\n",
       "    </tr>\n",
       "    <tr>\n",
       "      <th>1500</th>\n",
       "      <td>10</td>\n",
       "      <td>Tony Pollard</td>\n",
       "      <td>15.53</td>\n",
       "      <td>21.8</td>\n",
       "      <td>22</td>\n",
       "    </tr>\n",
       "    <tr>\n",
       "      <th>1702</th>\n",
       "      <td>11</td>\n",
       "      <td>Tony Pollard</td>\n",
       "      <td>10.45</td>\n",
       "      <td>36.9</td>\n",
       "      <td>23</td>\n",
       "    </tr>\n",
       "    <tr>\n",
       "      <th>9</th>\n",
       "      <td>1</td>\n",
       "      <td>DeAndre Hopkins</td>\n",
       "      <td>0.00</td>\n",
       "      <td>0.0</td>\n",
       "      <td>29</td>\n",
       "    </tr>\n",
       "  </tbody>\n",
       "</table>\n",
       "<p>100 rows × 5 columns</p>\n",
       "</div>"
      ],
      "text/plain": [
       "      Week           Player  Projected_Points  Actual_Points  Rank\n",
       "0        1    Derrick Henry             17.97            8.2    14\n",
       "214      2    Derrick Henry             17.03            8.5    10\n",
       "428      3    Derrick Henry             17.43           25.3    29\n",
       "593      4    Derrick Henry             16.36           23.7    16\n",
       "710      5    Derrick Henry             18.12           27.2     5\n",
       "...    ...              ...               ...            ...   ...\n",
       "1250     8     Tony Pollard             16.52           33.7    28\n",
       "1366     9     Tony Pollard              0.00            0.0     0\n",
       "1500    10     Tony Pollard             15.53           21.8    22\n",
       "1702    11     Tony Pollard             10.45           36.9    23\n",
       "9        1  DeAndre Hopkins              0.00            0.0    29\n",
       "\n",
       "[100 rows x 5 columns]"
      ]
     },
     "execution_count": 187,
     "metadata": {},
     "output_type": "execute_result"
    }
   ],
   "source": [
    "total_df = pd.DataFrame()\n",
    "for player in all_players['Player'].unique():\n",
    "    df = all_players[all_players['Player'] == player]\n",
    "    df.insert(0, 'Week', range(1, 1 + len(all_players[all_players['Player'] == player])))\n",
    "    total_df = pd.concat([total_df, df])\n",
    "total_df.head(100)"
   ]
  },
  {
   "cell_type": "code",
   "execution_count": 188,
   "metadata": {},
   "outputs": [
    {
     "data": {
      "text/html": [
       "<div>\n",
       "<style scoped>\n",
       "    .dataframe tbody tr th:only-of-type {\n",
       "        vertical-align: middle;\n",
       "    }\n",
       "\n",
       "    .dataframe tbody tr th {\n",
       "        vertical-align: top;\n",
       "    }\n",
       "\n",
       "    .dataframe thead th {\n",
       "        text-align: right;\n",
       "    }\n",
       "</style>\n",
       "<table border=\"1\" class=\"dataframe\">\n",
       "  <thead>\n",
       "    <tr style=\"text-align: right;\">\n",
       "      <th></th>\n",
       "      <th>Week</th>\n",
       "      <th>Player</th>\n",
       "      <th>Projected_Points</th>\n",
       "      <th>Actual_Points_x</th>\n",
       "      <th>Rank_x</th>\n",
       "      <th>Unnamed: 0</th>\n",
       "      <th>Team</th>\n",
       "      <th>Rank_y</th>\n",
       "      <th>Expected_Points</th>\n",
       "      <th>Actual_Points_y</th>\n",
       "      <th>Difference</th>\n",
       "    </tr>\n",
       "  </thead>\n",
       "  <tbody>\n",
       "    <tr>\n",
       "      <th>0</th>\n",
       "      <td>1</td>\n",
       "      <td>Derrick Henry</td>\n",
       "      <td>17.97</td>\n",
       "      <td>8.2</td>\n",
       "      <td>14</td>\n",
       "      <td>65</td>\n",
       "      <td>Gorilla Guys</td>\n",
       "      <td>2</td>\n",
       "      <td>264.47</td>\n",
       "      <td>203.06</td>\n",
       "      <td>-61.41</td>\n",
       "    </tr>\n",
       "    <tr>\n",
       "      <th>1</th>\n",
       "      <td>2</td>\n",
       "      <td>Derrick Henry</td>\n",
       "      <td>17.03</td>\n",
       "      <td>8.5</td>\n",
       "      <td>10</td>\n",
       "      <td>229</td>\n",
       "      <td>Gorilla Guys</td>\n",
       "      <td>2</td>\n",
       "      <td>264.47</td>\n",
       "      <td>203.06</td>\n",
       "      <td>-61.41</td>\n",
       "    </tr>\n",
       "    <tr>\n",
       "      <th>2</th>\n",
       "      <td>3</td>\n",
       "      <td>Derrick Henry</td>\n",
       "      <td>17.43</td>\n",
       "      <td>25.3</td>\n",
       "      <td>29</td>\n",
       "      <td>395</td>\n",
       "      <td>Gorilla Guys</td>\n",
       "      <td>2</td>\n",
       "      <td>264.47</td>\n",
       "      <td>203.06</td>\n",
       "      <td>-61.41</td>\n",
       "    </tr>\n",
       "    <tr>\n",
       "      <th>3</th>\n",
       "      <td>4</td>\n",
       "      <td>Derrick Henry</td>\n",
       "      <td>16.36</td>\n",
       "      <td>23.7</td>\n",
       "      <td>16</td>\n",
       "      <td>561</td>\n",
       "      <td>Gorilla Guys</td>\n",
       "      <td>2</td>\n",
       "      <td>264.47</td>\n",
       "      <td>203.06</td>\n",
       "      <td>-61.41</td>\n",
       "    </tr>\n",
       "    <tr>\n",
       "      <th>4</th>\n",
       "      <td>5</td>\n",
       "      <td>Derrick Henry</td>\n",
       "      <td>18.12</td>\n",
       "      <td>27.2</td>\n",
       "      <td>5</td>\n",
       "      <td>726</td>\n",
       "      <td>Gorilla Guys</td>\n",
       "      <td>2</td>\n",
       "      <td>264.47</td>\n",
       "      <td>203.06</td>\n",
       "      <td>-61.41</td>\n",
       "    </tr>\n",
       "    <tr>\n",
       "      <th>...</th>\n",
       "      <td>...</td>\n",
       "      <td>...</td>\n",
       "      <td>...</td>\n",
       "      <td>...</td>\n",
       "      <td>...</td>\n",
       "      <td>...</td>\n",
       "      <td>...</td>\n",
       "      <td>...</td>\n",
       "      <td>...</td>\n",
       "      <td>...</td>\n",
       "      <td>...</td>\n",
       "    </tr>\n",
       "    <tr>\n",
       "      <th>1468</th>\n",
       "      <td>2</td>\n",
       "      <td>Rams D/ST</td>\n",
       "      <td>4.14</td>\n",
       "      <td>4.0</td>\n",
       "      <td>19</td>\n",
       "      <td>245</td>\n",
       "      <td>Gorilla Guys</td>\n",
       "      <td>20</td>\n",
       "      <td>82.21</td>\n",
       "      <td>50.00</td>\n",
       "      <td>-32.21</td>\n",
       "    </tr>\n",
       "    <tr>\n",
       "      <th>1469</th>\n",
       "      <td>3</td>\n",
       "      <td>Rams D/ST</td>\n",
       "      <td>5.21</td>\n",
       "      <td>0.0</td>\n",
       "      <td>16</td>\n",
       "      <td>411</td>\n",
       "      <td>Gorilla Guys</td>\n",
       "      <td>20</td>\n",
       "      <td>82.21</td>\n",
       "      <td>50.00</td>\n",
       "      <td>-32.21</td>\n",
       "    </tr>\n",
       "    <tr>\n",
       "      <th>1470</th>\n",
       "      <td>4</td>\n",
       "      <td>Rams D/ST</td>\n",
       "      <td>7.53</td>\n",
       "      <td>10.0</td>\n",
       "      <td>28</td>\n",
       "      <td>577</td>\n",
       "      <td>Gorilla Guys</td>\n",
       "      <td>20</td>\n",
       "      <td>82.21</td>\n",
       "      <td>50.00</td>\n",
       "      <td>-32.21</td>\n",
       "    </tr>\n",
       "    <tr>\n",
       "      <th>1499</th>\n",
       "      <td>7</td>\n",
       "      <td>Tua Tagovailoa</td>\n",
       "      <td>0.00</td>\n",
       "      <td>0.0</td>\n",
       "      <td>0</td>\n",
       "      <td>1076</td>\n",
       "      <td>Gorilla Guys</td>\n",
       "      <td>14</td>\n",
       "      <td>271.03</td>\n",
       "      <td>160.10</td>\n",
       "      <td>-110.93</td>\n",
       "    </tr>\n",
       "    <tr>\n",
       "      <th>1538</th>\n",
       "      <td>5</td>\n",
       "      <td>Tyler Conklin</td>\n",
       "      <td>7.70</td>\n",
       "      <td>3.5</td>\n",
       "      <td>24</td>\n",
       "      <td>742</td>\n",
       "      <td>Gorilla Guys</td>\n",
       "      <td>12</td>\n",
       "      <td>86.00</td>\n",
       "      <td>86.20</td>\n",
       "      <td>0.20</td>\n",
       "    </tr>\n",
       "  </tbody>\n",
       "</table>\n",
       "<p>162 rows × 11 columns</p>\n",
       "</div>"
      ],
      "text/plain": [
       "      Week          Player  Projected_Points  Actual_Points_x  Rank_x  \\\n",
       "0        1   Derrick Henry             17.97              8.2      14   \n",
       "1        2   Derrick Henry             17.03              8.5      10   \n",
       "2        3   Derrick Henry             17.43             25.3      29   \n",
       "3        4   Derrick Henry             16.36             23.7      16   \n",
       "4        5   Derrick Henry             18.12             27.2       5   \n",
       "...    ...             ...               ...              ...     ...   \n",
       "1468     2       Rams D/ST              4.14              4.0      19   \n",
       "1469     3       Rams D/ST              5.21              0.0      16   \n",
       "1470     4       Rams D/ST              7.53             10.0      28   \n",
       "1499     7  Tua Tagovailoa              0.00              0.0       0   \n",
       "1538     5   Tyler Conklin              7.70              3.5      24   \n",
       "\n",
       "      Unnamed: 0          Team  Rank_y  Expected_Points  Actual_Points_y  \\\n",
       "0             65  Gorilla Guys       2           264.47           203.06   \n",
       "1            229  Gorilla Guys       2           264.47           203.06   \n",
       "2            395  Gorilla Guys       2           264.47           203.06   \n",
       "3            561  Gorilla Guys       2           264.47           203.06   \n",
       "4            726  Gorilla Guys       2           264.47           203.06   \n",
       "...          ...           ...     ...              ...              ...   \n",
       "1468         245  Gorilla Guys      20            82.21            50.00   \n",
       "1469         411  Gorilla Guys      20            82.21            50.00   \n",
       "1470         577  Gorilla Guys      20            82.21            50.00   \n",
       "1499        1076  Gorilla Guys      14           271.03           160.10   \n",
       "1538         742  Gorilla Guys      12            86.00            86.20   \n",
       "\n",
       "      Difference  \n",
       "0         -61.41  \n",
       "1         -61.41  \n",
       "2         -61.41  \n",
       "3         -61.41  \n",
       "4         -61.41  \n",
       "...          ...  \n",
       "1468      -32.21  \n",
       "1469      -32.21  \n",
       "1470      -32.21  \n",
       "1499     -110.93  \n",
       "1538        0.20  \n",
       "\n",
       "[162 rows x 11 columns]"
      ]
     },
     "execution_count": 188,
     "metadata": {},
     "output_type": "execute_result"
    }
   ],
   "source": [
    "merged_df = pd.merge(total_df, all_teams, on=['Week', 'Player'])\n",
    "merged_df[merged_df['Team'] == 'Gorilla Guys']"
   ]
  },
  {
   "cell_type": "code",
   "execution_count": 189,
   "metadata": {},
   "outputs": [
    {
     "data": {
      "text/html": [
       "<div>\n",
       "<style scoped>\n",
       "    .dataframe tbody tr th:only-of-type {\n",
       "        vertical-align: middle;\n",
       "    }\n",
       "\n",
       "    .dataframe tbody tr th {\n",
       "        vertical-align: top;\n",
       "    }\n",
       "\n",
       "    .dataframe thead th {\n",
       "        text-align: right;\n",
       "    }\n",
       "</style>\n",
       "<table border=\"1\" class=\"dataframe\">\n",
       "  <thead>\n",
       "    <tr style=\"text-align: right;\">\n",
       "      <th></th>\n",
       "      <th>Week</th>\n",
       "      <th>Player</th>\n",
       "      <th>Projected_Points</th>\n",
       "      <th>Actual_Points</th>\n",
       "      <th>Rank</th>\n",
       "      <th>Unnamed: 0</th>\n",
       "      <th>Team</th>\n",
       "      <th>Rank_y</th>\n",
       "      <th>Expected_Points</th>\n",
       "      <th>Actual_Points_y</th>\n",
       "      <th>Difference</th>\n",
       "    </tr>\n",
       "  </thead>\n",
       "  <tbody>\n",
       "    <tr>\n",
       "      <th>0</th>\n",
       "      <td>1</td>\n",
       "      <td>Derrick Henry</td>\n",
       "      <td>17.97</td>\n",
       "      <td>8.2</td>\n",
       "      <td>14</td>\n",
       "      <td>65</td>\n",
       "      <td>Gorilla Guys</td>\n",
       "      <td>2</td>\n",
       "      <td>264.47</td>\n",
       "      <td>203.06</td>\n",
       "      <td>-61.41</td>\n",
       "    </tr>\n",
       "    <tr>\n",
       "      <th>1</th>\n",
       "      <td>2</td>\n",
       "      <td>Derrick Henry</td>\n",
       "      <td>17.03</td>\n",
       "      <td>8.5</td>\n",
       "      <td>10</td>\n",
       "      <td>229</td>\n",
       "      <td>Gorilla Guys</td>\n",
       "      <td>2</td>\n",
       "      <td>264.47</td>\n",
       "      <td>203.06</td>\n",
       "      <td>-61.41</td>\n",
       "    </tr>\n",
       "    <tr>\n",
       "      <th>2</th>\n",
       "      <td>3</td>\n",
       "      <td>Derrick Henry</td>\n",
       "      <td>17.43</td>\n",
       "      <td>25.3</td>\n",
       "      <td>29</td>\n",
       "      <td>395</td>\n",
       "      <td>Gorilla Guys</td>\n",
       "      <td>2</td>\n",
       "      <td>264.47</td>\n",
       "      <td>203.06</td>\n",
       "      <td>-61.41</td>\n",
       "    </tr>\n",
       "    <tr>\n",
       "      <th>3</th>\n",
       "      <td>4</td>\n",
       "      <td>Derrick Henry</td>\n",
       "      <td>16.36</td>\n",
       "      <td>23.7</td>\n",
       "      <td>16</td>\n",
       "      <td>561</td>\n",
       "      <td>Gorilla Guys</td>\n",
       "      <td>2</td>\n",
       "      <td>264.47</td>\n",
       "      <td>203.06</td>\n",
       "      <td>-61.41</td>\n",
       "    </tr>\n",
       "    <tr>\n",
       "      <th>4</th>\n",
       "      <td>5</td>\n",
       "      <td>Derrick Henry</td>\n",
       "      <td>18.12</td>\n",
       "      <td>27.2</td>\n",
       "      <td>5</td>\n",
       "      <td>726</td>\n",
       "      <td>Gorilla Guys</td>\n",
       "      <td>2</td>\n",
       "      <td>264.47</td>\n",
       "      <td>203.06</td>\n",
       "      <td>-61.41</td>\n",
       "    </tr>\n",
       "    <tr>\n",
       "      <th>...</th>\n",
       "      <td>...</td>\n",
       "      <td>...</td>\n",
       "      <td>...</td>\n",
       "      <td>...</td>\n",
       "      <td>...</td>\n",
       "      <td>...</td>\n",
       "      <td>...</td>\n",
       "      <td>...</td>\n",
       "      <td>...</td>\n",
       "      <td>...</td>\n",
       "      <td>...</td>\n",
       "    </tr>\n",
       "    <tr>\n",
       "      <th>1551</th>\n",
       "      <td>6</td>\n",
       "      <td>Broncos D/ST</td>\n",
       "      <td>6.26</td>\n",
       "      <td>4.0</td>\n",
       "      <td>20</td>\n",
       "      <td>871</td>\n",
       "      <td>Cougar Town Zach Wilson</td>\n",
       "      <td>11</td>\n",
       "      <td>86.80</td>\n",
       "      <td>67.00</td>\n",
       "      <td>-19.80</td>\n",
       "    </tr>\n",
       "    <tr>\n",
       "      <th>1552</th>\n",
       "      <td>7</td>\n",
       "      <td>Broncos D/ST</td>\n",
       "      <td>5.42</td>\n",
       "      <td>-2.0</td>\n",
       "      <td>8</td>\n",
       "      <td>1037</td>\n",
       "      <td>Cougar Town Zach Wilson</td>\n",
       "      <td>11</td>\n",
       "      <td>86.80</td>\n",
       "      <td>67.00</td>\n",
       "      <td>-19.80</td>\n",
       "    </tr>\n",
       "    <tr>\n",
       "      <th>1553</th>\n",
       "      <td>5</td>\n",
       "      <td>Isiah Pacheco</td>\n",
       "      <td>8.94</td>\n",
       "      <td>10.7</td>\n",
       "      <td>30</td>\n",
       "      <td>759</td>\n",
       "      <td>My Team  A Bust</td>\n",
       "      <td>58</td>\n",
       "      <td>66.30</td>\n",
       "      <td>46.90</td>\n",
       "      <td>-19.40</td>\n",
       "    </tr>\n",
       "    <tr>\n",
       "      <th>1554</th>\n",
       "      <td>6</td>\n",
       "      <td>Eno Benjamin</td>\n",
       "      <td>0.00</td>\n",
       "      <td>0.0</td>\n",
       "      <td>5</td>\n",
       "      <td>926</td>\n",
       "      <td>My Team  A Bust</td>\n",
       "      <td>37</td>\n",
       "      <td>64.37</td>\n",
       "      <td>86.30</td>\n",
       "      <td>21.93</td>\n",
       "    </tr>\n",
       "    <tr>\n",
       "      <th>1555</th>\n",
       "      <td>6</td>\n",
       "      <td>Josh Reynolds</td>\n",
       "      <td>0.00</td>\n",
       "      <td>0.0</td>\n",
       "      <td>6</td>\n",
       "      <td>992</td>\n",
       "      <td>P-Town CASH KEVIN</td>\n",
       "      <td>61</td>\n",
       "      <td>58.02</td>\n",
       "      <td>73.70</td>\n",
       "      <td>15.68</td>\n",
       "    </tr>\n",
       "  </tbody>\n",
       "</table>\n",
       "<p>1556 rows × 11 columns</p>\n",
       "</div>"
      ],
      "text/plain": [
       "      Week         Player  Projected_Points  Actual_Points  Rank  Unnamed: 0  \\\n",
       "0        1  Derrick Henry             17.97            8.2    14          65   \n",
       "1        2  Derrick Henry             17.03            8.5    10         229   \n",
       "2        3  Derrick Henry             17.43           25.3    29         395   \n",
       "3        4  Derrick Henry             16.36           23.7    16         561   \n",
       "4        5  Derrick Henry             18.12           27.2     5         726   \n",
       "...    ...            ...               ...            ...   ...         ...   \n",
       "1551     6   Broncos D/ST              6.26            4.0    20         871   \n",
       "1552     7   Broncos D/ST              5.42           -2.0     8        1037   \n",
       "1553     5  Isiah Pacheco              8.94           10.7    30         759   \n",
       "1554     6   Eno Benjamin              0.00            0.0     5         926   \n",
       "1555     6  Josh Reynolds              0.00            0.0     6         992   \n",
       "\n",
       "                         Team  Rank_y  Expected_Points  Actual_Points_y  \\\n",
       "0                Gorilla Guys       2           264.47           203.06   \n",
       "1                Gorilla Guys       2           264.47           203.06   \n",
       "2                Gorilla Guys       2           264.47           203.06   \n",
       "3                Gorilla Guys       2           264.47           203.06   \n",
       "4                Gorilla Guys       2           264.47           203.06   \n",
       "...                       ...     ...              ...              ...   \n",
       "1551  Cougar Town Zach Wilson      11            86.80            67.00   \n",
       "1552  Cougar Town Zach Wilson      11            86.80            67.00   \n",
       "1553          My Team  A Bust      58            66.30            46.90   \n",
       "1554          My Team  A Bust      37            64.37            86.30   \n",
       "1555        P-Town CASH KEVIN      61            58.02            73.70   \n",
       "\n",
       "      Difference  \n",
       "0         -61.41  \n",
       "1         -61.41  \n",
       "2         -61.41  \n",
       "3         -61.41  \n",
       "4         -61.41  \n",
       "...          ...  \n",
       "1551      -19.80  \n",
       "1552      -19.80  \n",
       "1553      -19.40  \n",
       "1554       21.93  \n",
       "1555       15.68  \n",
       "\n",
       "[1556 rows x 11 columns]"
      ]
     },
     "execution_count": 189,
     "metadata": {},
     "output_type": "execute_result"
    }
   ],
   "source": [
    "merged_df = merged_df.rename(columns={\"Rank_x\": \"Rank\", \"Actual_Points_x\": \"Actual_Points\"})\n",
    "merged_df"
   ]
  },
  {
   "cell_type": "code",
   "execution_count": 190,
   "metadata": {},
   "outputs": [],
   "source": [
    "merged_df = merged_df[['Team', 'Player', 'Week', 'Rank', 'Projected_Points', 'Actual_Points']]"
   ]
  },
  {
   "cell_type": "code",
   "execution_count": 191,
   "metadata": {},
   "outputs": [
    {
     "name": "stderr",
     "output_type": "stream",
     "text": [
      "/var/folders/h4/6452mjq15618sb_49rqm1mkw0000gn/T/ipykernel_22943/98493879.py:1: SettingWithCopyWarning:\n",
      "\n",
      "\n",
      "A value is trying to be set on a copy of a slice from a DataFrame.\n",
      "Try using .loc[row_indexer,col_indexer] = value instead\n",
      "\n",
      "See the caveats in the documentation: https://pandas.pydata.org/pandas-docs/stable/user_guide/indexing.html#returning-a-view-versus-a-copy\n",
      "\n"
     ]
    },
    {
     "data": {
      "text/html": [
       "<div>\n",
       "<style scoped>\n",
       "    .dataframe tbody tr th:only-of-type {\n",
       "        vertical-align: middle;\n",
       "    }\n",
       "\n",
       "    .dataframe tbody tr th {\n",
       "        vertical-align: top;\n",
       "    }\n",
       "\n",
       "    .dataframe thead th {\n",
       "        text-align: right;\n",
       "    }\n",
       "</style>\n",
       "<table border=\"1\" class=\"dataframe\">\n",
       "  <thead>\n",
       "    <tr style=\"text-align: right;\">\n",
       "      <th></th>\n",
       "      <th>Team</th>\n",
       "      <th>Player</th>\n",
       "      <th>Week</th>\n",
       "      <th>Rank</th>\n",
       "      <th>Projected_Points</th>\n",
       "      <th>Actual_Points</th>\n",
       "      <th>Point-Residuals</th>\n",
       "    </tr>\n",
       "  </thead>\n",
       "  <tbody>\n",
       "    <tr>\n",
       "      <th>0</th>\n",
       "      <td>Gorilla Guys</td>\n",
       "      <td>Derrick Henry</td>\n",
       "      <td>1</td>\n",
       "      <td>14</td>\n",
       "      <td>17.97</td>\n",
       "      <td>8.2</td>\n",
       "      <td>-9.77</td>\n",
       "    </tr>\n",
       "    <tr>\n",
       "      <th>1</th>\n",
       "      <td>Gorilla Guys</td>\n",
       "      <td>Derrick Henry</td>\n",
       "      <td>2</td>\n",
       "      <td>10</td>\n",
       "      <td>17.03</td>\n",
       "      <td>8.5</td>\n",
       "      <td>-8.53</td>\n",
       "    </tr>\n",
       "    <tr>\n",
       "      <th>2</th>\n",
       "      <td>Gorilla Guys</td>\n",
       "      <td>Derrick Henry</td>\n",
       "      <td>3</td>\n",
       "      <td>29</td>\n",
       "      <td>17.43</td>\n",
       "      <td>25.3</td>\n",
       "      <td>7.87</td>\n",
       "    </tr>\n",
       "    <tr>\n",
       "      <th>3</th>\n",
       "      <td>Gorilla Guys</td>\n",
       "      <td>Derrick Henry</td>\n",
       "      <td>4</td>\n",
       "      <td>16</td>\n",
       "      <td>16.36</td>\n",
       "      <td>23.7</td>\n",
       "      <td>7.34</td>\n",
       "    </tr>\n",
       "    <tr>\n",
       "      <th>4</th>\n",
       "      <td>Gorilla Guys</td>\n",
       "      <td>Derrick Henry</td>\n",
       "      <td>5</td>\n",
       "      <td>5</td>\n",
       "      <td>18.12</td>\n",
       "      <td>27.2</td>\n",
       "      <td>9.08</td>\n",
       "    </tr>\n",
       "    <tr>\n",
       "      <th>...</th>\n",
       "      <td>...</td>\n",
       "      <td>...</td>\n",
       "      <td>...</td>\n",
       "      <td>...</td>\n",
       "      <td>...</td>\n",
       "      <td>...</td>\n",
       "      <td>...</td>\n",
       "    </tr>\n",
       "    <tr>\n",
       "      <th>1551</th>\n",
       "      <td>Cougar Town Zach Wilson</td>\n",
       "      <td>Broncos D/ST</td>\n",
       "      <td>6</td>\n",
       "      <td>20</td>\n",
       "      <td>6.26</td>\n",
       "      <td>4.0</td>\n",
       "      <td>-2.26</td>\n",
       "    </tr>\n",
       "    <tr>\n",
       "      <th>1552</th>\n",
       "      <td>Cougar Town Zach Wilson</td>\n",
       "      <td>Broncos D/ST</td>\n",
       "      <td>7</td>\n",
       "      <td>8</td>\n",
       "      <td>5.42</td>\n",
       "      <td>-2.0</td>\n",
       "      <td>-7.42</td>\n",
       "    </tr>\n",
       "    <tr>\n",
       "      <th>1553</th>\n",
       "      <td>My Team  A Bust</td>\n",
       "      <td>Isiah Pacheco</td>\n",
       "      <td>5</td>\n",
       "      <td>30</td>\n",
       "      <td>8.94</td>\n",
       "      <td>10.7</td>\n",
       "      <td>1.76</td>\n",
       "    </tr>\n",
       "    <tr>\n",
       "      <th>1554</th>\n",
       "      <td>My Team  A Bust</td>\n",
       "      <td>Eno Benjamin</td>\n",
       "      <td>6</td>\n",
       "      <td>5</td>\n",
       "      <td>0.00</td>\n",
       "      <td>0.0</td>\n",
       "      <td>0.00</td>\n",
       "    </tr>\n",
       "    <tr>\n",
       "      <th>1555</th>\n",
       "      <td>P-Town CASH KEVIN</td>\n",
       "      <td>Josh Reynolds</td>\n",
       "      <td>6</td>\n",
       "      <td>6</td>\n",
       "      <td>0.00</td>\n",
       "      <td>0.0</td>\n",
       "      <td>0.00</td>\n",
       "    </tr>\n",
       "  </tbody>\n",
       "</table>\n",
       "<p>1556 rows × 7 columns</p>\n",
       "</div>"
      ],
      "text/plain": [
       "                         Team         Player  Week  Rank  Projected_Points  \\\n",
       "0                Gorilla Guys  Derrick Henry     1    14             17.97   \n",
       "1                Gorilla Guys  Derrick Henry     2    10             17.03   \n",
       "2                Gorilla Guys  Derrick Henry     3    29             17.43   \n",
       "3                Gorilla Guys  Derrick Henry     4    16             16.36   \n",
       "4                Gorilla Guys  Derrick Henry     5     5             18.12   \n",
       "...                       ...            ...   ...   ...               ...   \n",
       "1551  Cougar Town Zach Wilson   Broncos D/ST     6    20              6.26   \n",
       "1552  Cougar Town Zach Wilson   Broncos D/ST     7     8              5.42   \n",
       "1553          My Team  A Bust  Isiah Pacheco     5    30              8.94   \n",
       "1554          My Team  A Bust   Eno Benjamin     6     5              0.00   \n",
       "1555        P-Town CASH KEVIN  Josh Reynolds     6     6              0.00   \n",
       "\n",
       "      Actual_Points  Point-Residuals  \n",
       "0               8.2            -9.77  \n",
       "1               8.5            -8.53  \n",
       "2              25.3             7.87  \n",
       "3              23.7             7.34  \n",
       "4              27.2             9.08  \n",
       "...             ...              ...  \n",
       "1551            4.0            -2.26  \n",
       "1552           -2.0            -7.42  \n",
       "1553           10.7             1.76  \n",
       "1554            0.0             0.00  \n",
       "1555            0.0             0.00  \n",
       "\n",
       "[1556 rows x 7 columns]"
      ]
     },
     "execution_count": 191,
     "metadata": {},
     "output_type": "execute_result"
    }
   ],
   "source": [
    "merged_df['Point-Residuals'] = merged_df['Actual_Points'] - merged_df['Projected_Points']\n",
    "merged_df"
   ]
  },
  {
   "cell_type": "code",
   "execution_count": 192,
   "metadata": {},
   "outputs": [],
   "source": [
    "test_df = merged_df.groupby(['Team', 'Week'], as_index = False).mean()"
   ]
  },
  {
   "cell_type": "code",
   "execution_count": 193,
   "metadata": {},
   "outputs": [
    {
     "data": {
      "application/vnd.plotly.v1+json": {
       "config": {
        "plotlyServerURL": "https://plot.ly"
       },
       "data": [
        {
         "hovertemplate": "Team=Cougar Town Zach Wilson<br>Week=%{x}<br>Actual_Points=%{y}<extra></extra>",
         "legendgroup": "Cougar Town Zach Wilson",
         "marker": {
          "color": "#636efa",
          "symbol": "circle"
         },
         "mode": "markers",
         "name": "Cougar Town Zach Wilson",
         "orientation": "v",
         "showlegend": true,
         "type": "scatter",
         "x": [
          1,
          2,
          3,
          4,
          5,
          6,
          7,
          8,
          9,
          10,
          11
         ],
         "xaxis": "x",
         "y": [
          11.66,
          10.32875,
          9.1725,
          9.278666666666668,
          11.567499999999999,
          7.35375,
          5.125,
          9.137333333333334,
          9.515384615384615,
          11.15,
          11.065
         ],
         "yaxis": "y"
        },
        {
         "hovertemplate": "<b>OLS trendline</b><br>Actual_Points = -1.51404 * log10(Week) + 10.6239<br>R<sup>2</sup>=0.061918<br><br>Team=Cougar Town Zach Wilson<br>Week=%{x}<br>Actual_Points=%{y} <b>(trend)</b><extra></extra>",
         "legendgroup": "Cougar Town Zach Wilson",
         "marker": {
          "color": "#636efa",
          "symbol": "circle"
         },
         "mode": "lines",
         "name": "Cougar Town Zach Wilson",
         "showlegend": false,
         "type": "scatter",
         "x": [
          1,
          2,
          3,
          4,
          5,
          6,
          7,
          8,
          9,
          10,
          11
         ],
         "xaxis": "x",
         "y": [
          10.623850260881573,
          10.16807823394165,
          9.901468689304123,
          9.712306207001726,
          9.565580386666005,
          9.445696662364199,
          9.344336417715608,
          9.256534180061802,
          9.17908711772667,
          9.109808359726081,
          9.047138099995191
         ],
         "yaxis": "y"
        },
        {
         "hovertemplate": "Team=Couv Reigning Champ<br>Week=%{x}<br>Actual_Points=%{y}<extra></extra>",
         "legendgroup": "Couv Reigning Champ",
         "marker": {
          "color": "#EF553B",
          "symbol": "circle"
         },
         "mode": "markers",
         "name": "Couv Reigning Champ",
         "orientation": "v",
         "showlegend": true,
         "type": "scatter",
         "x": [
          1,
          2,
          3,
          4,
          5,
          6,
          7,
          8,
          9,
          10,
          11
         ],
         "xaxis": "x",
         "y": [
          12.442352941176472,
          11.898666666666667,
          10.491764705882352,
          7.869411764705882,
          7.5625,
          9.348749999999999,
          9.737333333333334,
          12.324285714285713,
          9.358333333333333,
          12.644444444444446,
          3.7333333333333334
         ],
         "yaxis": "y"
        },
        {
         "hovertemplate": "<b>OLS trendline</b><br>Actual_Points = -3.35674 * log10(Week) + 12.0842<br>R<sup>2</sup>=0.163297<br><br>Team=Couv Reigning Champ<br>Week=%{x}<br>Actual_Points=%{y} <b>(trend)</b><extra></extra>",
         "legendgroup": "Couv Reigning Champ",
         "marker": {
          "color": "#EF553B",
          "symbol": "circle"
         },
         "mode": "lines",
         "name": "Couv Reigning Champ",
         "showlegend": false,
         "type": "scatter",
         "x": [
          1,
          2,
          3,
          4,
          5,
          6,
          7,
          8,
          9,
          10,
          11
         ],
         "xaxis": "x",
         "y": [
          12.08420500250837,
          11.073726551261089,
          10.482634549494637,
          10.063248100013807,
          9.737946697279037,
          9.472156098247357,
          9.247433348766169,
          9.052769648766526,
          8.881064096480905,
          8.727468246031755,
          8.588523898311877
         ],
         "yaxis": "y"
        },
        {
         "hovertemplate": "Team=Diggy Wit it<br>Week=%{x}<br>Actual_Points=%{y}<extra></extra>",
         "legendgroup": "Diggy Wit it",
         "marker": {
          "color": "#00cc96",
          "symbol": "circle"
         },
         "mode": "markers",
         "name": "Diggy Wit it",
         "orientation": "v",
         "showlegend": true,
         "type": "scatter",
         "x": [
          1,
          2,
          3,
          4,
          5,
          6,
          7,
          8,
          9,
          10,
          11
         ],
         "xaxis": "x",
         "y": [
          8.332941176470587,
          12.829411764705881,
          9.566666666666666,
          12.5575,
          10.915,
          9.591666666666667,
          9.47857142857143,
          10.96142857142857,
          6.138461538461538,
          8.091666666666667,
          9.559999999999999
         ],
         "yaxis": "y"
        },
        {
         "hovertemplate": "<b>OLS trendline</b><br>Actual_Points = -1.67245 * log10(Week) + 10.976<br>R<sup>2</sup>=0.076866<br><br>Team=Diggy Wit it<br>Week=%{x}<br>Actual_Points=%{y} <b>(trend)</b><extra></extra>",
         "legendgroup": "Diggy Wit it",
         "marker": {
          "color": "#00cc96",
          "symbol": "circle"
         },
         "mode": "lines",
         "name": "Diggy Wit it",
         "showlegend": false,
         "type": "scatter",
         "x": [
          1,
          2,
          3,
          4,
          5,
          6,
          7,
          8,
          9,
          10,
          11
         ],
         "xaxis": "x",
         "y": [
          10.975987242976768,
          10.472529931178888,
          10.17802628306325,
          9.96907261938101,
          9.806995566136806,
          9.674568971265373,
          9.562603880655104,
          9.465615307583132,
          9.380065323149735,
          9.303538254338928,
          9.23431109990905
         ],
         "yaxis": "y"
        },
        {
         "hovertemplate": "Team=Eugene Tweakers<br>Week=%{x}<br>Actual_Points=%{y}<extra></extra>",
         "legendgroup": "Eugene Tweakers",
         "marker": {
          "color": "#ab63fa",
          "symbol": "circle"
         },
         "mode": "markers",
         "name": "Eugene Tweakers",
         "orientation": "v",
         "showlegend": true,
         "type": "scatter",
         "x": [
          1,
          2,
          3,
          4,
          5,
          6,
          7,
          8,
          9,
          10,
          11
         ],
         "xaxis": "x",
         "y": [
          7.546250000000001,
          10.975,
          10.9525,
          10.674999999999999,
          10.665,
          8.508571428571429,
          10.266666666666667,
          9.314285714285715,
          6.5,
          10.226666666666667,
          9.033333333333333
         ],
         "yaxis": "y"
        },
        {
         "hovertemplate": "<b>OLS trendline</b><br>Actual_Points = -0.350856 * log10(Week) + 9.75729<br>R<sup>2</sup>=0.005809<br><br>Team=Eugene Tweakers<br>Week=%{x}<br>Actual_Points=%{y} <b>(trend)</b><extra></extra>",
         "legendgroup": "Eugene Tweakers",
         "marker": {
          "color": "#ab63fa",
          "symbol": "circle"
         },
         "mode": "lines",
         "name": "Eugene Tweakers",
         "showlegend": false,
         "type": "scatter",
         "x": [
          1,
          2,
          3,
          4,
          5,
          6,
          7,
          8,
          9,
          10,
          11
         ],
         "xaxis": "x",
         "y": [
          9.75728971975815,
          9.651671459711565,
          9.589888738192897,
          9.546053199664978,
          9.512051714422864,
          9.48427047814631,
          9.460781777557209,
          9.440434939618394,
          9.422487756627643,
          9.406433454376279,
          9.391910571447536
         ],
         "yaxis": "y"
        },
        {
         "hovertemplate": "Team=Gorilla Guys<br>Week=%{x}<br>Actual_Points=%{y}<extra></extra>",
         "legendgroup": "Gorilla Guys",
         "marker": {
          "color": "#FFA15A",
          "symbol": "circle"
         },
         "mode": "markers",
         "name": "Gorilla Guys",
         "orientation": "v",
         "showlegend": true,
         "type": "scatter",
         "x": [
          1,
          2,
          3,
          4,
          5,
          6,
          7,
          8,
          9,
          10,
          11
         ],
         "xaxis": "x",
         "y": [
          12.15125,
          11.201176470588235,
          10.25294117647059,
          8.756470588235294,
          7.685882352941176,
          7.8500000000000005,
          8.47857142857143,
          16.43846153846154,
          12.378461538461538,
          11.391666666666667,
          14.996666666666668
         ],
         "yaxis": "y"
        },
        {
         "hovertemplate": "<b>OLS trendline</b><br>Actual_Points = 1.75103 * log10(Week) + 9.84288<br>R<sup>2</sup>=0.039253<br><br>Team=Gorilla Guys<br>Week=%{x}<br>Actual_Points=%{y} <b>(trend)</b><extra></extra>",
         "legendgroup": "Gorilla Guys",
         "marker": {
          "color": "#FFA15A",
          "symbol": "circle"
         },
         "mode": "lines",
         "name": "Gorilla Guys",
         "showlegend": false,
         "type": "scatter",
         "x": [
          1,
          2,
          3,
          4,
          5,
          6,
          7,
          8,
          9,
          10,
          11
         ],
         "xaxis": "x",
         "y": [
          9.842878998144847,
          10.369992650461358,
          10.678334370684686,
          10.897106302777868,
          11.066798996657242,
          11.205448023001196,
          11.322674104459363,
          11.42421995509438,
          11.513789743224525,
          11.593912648973753,
          11.666392633583971
         ],
         "yaxis": "y"
        },
        {
         "hovertemplate": "Team=I dont know what im doing<br>Week=%{x}<br>Actual_Points=%{y}<extra></extra>",
         "legendgroup": "I dont know what im doing",
         "marker": {
          "color": "#19d3f3",
          "symbol": "circle"
         },
         "mode": "markers",
         "name": "I dont know what im doing",
         "orientation": "v",
         "showlegend": true,
         "type": "scatter",
         "x": [
          1,
          2,
          3,
          4,
          5,
          6,
          7,
          8,
          9,
          10,
          11
         ],
         "xaxis": "x",
         "y": [
          12.450000000000001,
          9.61,
          11.477333333333332,
          13.338666666666667,
          11.945333333333334,
          9.593333333333334,
          9.975999999999999,
          9.521538461538462,
          10.887692307692308,
          8.572727272727272,
          15.711111111111112
         ],
         "yaxis": "y"
        },
        {
         "hovertemplate": "<b>OLS trendline</b><br>Actual_Points = -0.463436 * log10(Week) + 11.5097<br>R<sup>2</sup>=0.005165<br><br>Team=I dont know what im doing<br>Week=%{x}<br>Actual_Points=%{y} <b>(trend)</b><extra></extra>",
         "legendgroup": "I dont know what im doing",
         "marker": {
          "color": "#19d3f3",
          "symbol": "circle"
         },
         "mode": "lines",
         "name": "I dont know what im doing",
         "showlegend": false,
         "type": "scatter",
         "x": [
          1,
          2,
          3,
          4,
          5,
          6,
          7,
          8,
          9,
          10,
          11
         ],
         "xaxis": "x",
         "y": [
          11.509671410316958,
          11.370163253745522,
          11.288556213606496,
          11.230655097174084,
          11.185743502107794,
          11.149048057035058,
          11.118022500298952,
          11.091146940602648,
          11.067441016896032,
          11.046235345536358,
          11.027052482415927
         ],
         "yaxis": "y"
        },
        {
         "hovertemplate": "Team=Just-in-N-out Drive thru<br>Week=%{x}<br>Actual_Points=%{y}<extra></extra>",
         "legendgroup": "Just-in-N-out Drive thru",
         "marker": {
          "color": "#FF6692",
          "symbol": "circle"
         },
         "mode": "markers",
         "name": "Just-in-N-out Drive thru",
         "orientation": "v",
         "showlegend": true,
         "type": "scatter",
         "x": [
          1,
          2,
          3,
          4,
          5,
          6,
          7,
          8,
          9,
          10,
          11
         ],
         "xaxis": "x",
         "y": [
          11.57875,
          10.53625,
          9.353333333333333,
          17.395714285714284,
          13.61076923076923,
          11.135384615384615,
          10.185,
          12.516666666666666,
          10.818181818181818,
          11.094545454545454,
          10.690000000000001
         ],
         "yaxis": "y"
        },
        {
         "hovertemplate": "<b>OLS trendline</b><br>Actual_Points = -0.319352 * log10(Week) + 11.9402<br>R<sup>2</sup>=0.002206<br><br>Team=Just-in-N-out Drive thru<br>Week=%{x}<br>Actual_Points=%{y} <b>(trend)</b><extra></extra>",
         "legendgroup": "Just-in-N-out Drive thru",
         "marker": {
          "color": "#FF6692",
          "symbol": "circle"
         },
         "mode": "lines",
         "name": "Just-in-N-out Drive thru",
         "showlegend": false,
         "type": "scatter",
         "x": [
          1,
          2,
          3,
          4,
          5,
          6,
          7,
          8,
          9,
          10,
          11
         ],
         "xaxis": "x",
         "y": [
          11.940185618579186,
          11.844051003488323,
          11.787815858638906,
          11.747916388397462,
          11.71696795490853,
          11.691681243548045,
          11.67030163372374,
          11.651781773306599,
          11.635446098698628,
          11.620833339817668,
          11.60761449148833
         ],
         "yaxis": "y"
        },
        {
         "hovertemplate": "Team=My Team  A Bust<br>Week=%{x}<br>Actual_Points=%{y}<extra></extra>",
         "legendgroup": "My Team  A Bust",
         "marker": {
          "color": "#B6E880",
          "symbol": "circle"
         },
         "mode": "markers",
         "name": "My Team  A Bust",
         "orientation": "v",
         "showlegend": true,
         "type": "scatter",
         "x": [
          1,
          2,
          3,
          4,
          5,
          6,
          7,
          8,
          9,
          10,
          11
         ],
         "xaxis": "x",
         "y": [
          13.607058823529412,
          12.165882352941177,
          12.007058823529412,
          11.074117647058824,
          12.168571428571429,
          10.435714285714285,
          8.277777777777779,
          15.491111111111113,
          13.5525,
          7.4375,
          7.251111111111111
         ],
         "yaxis": "y"
        },
        {
         "hovertemplate": "<b>OLS trendline</b><br>Actual_Points = -3.55961 * log10(Week) + 13.6841<br>R<sup>2</sup>=0.186491<br><br>Team=My Team  A Bust<br>Week=%{x}<br>Actual_Points=%{y} <b>(trend)</b><extra></extra>",
         "legendgroup": "My Team  A Bust",
         "marker": {
          "color": "#B6E880",
          "symbol": "circle"
         },
         "mode": "lines",
         "name": "My Team  A Bust",
         "showlegend": false,
         "type": "scatter",
         "x": [
          1,
          2,
          3,
          4,
          5,
          6,
          7,
          8,
          9,
          10,
          11
         ],
         "xaxis": "x",
         "y": [
          13.68414325352487,
          12.61259297871822,
          11.985776250318882,
          11.541042703911572,
          11.196080565367039,
          10.914225975512233,
          10.675921315314246,
          10.469492429104925,
          10.287409247112894,
          10.12453029056039,
          9.977188351899265
         ],
         "yaxis": "y"
        },
        {
         "hovertemplate": "Team=No Nyugen Will Win<br>Week=%{x}<br>Actual_Points=%{y}<extra></extra>",
         "legendgroup": "No Nyugen Will Win",
         "marker": {
          "color": "#FF97FF",
          "symbol": "circle"
         },
         "mode": "markers",
         "name": "No Nyugen Will Win",
         "orientation": "v",
         "showlegend": true,
         "type": "scatter",
         "x": [
          1,
          2,
          3,
          4,
          5,
          6,
          7,
          8,
          9,
          10,
          11
         ],
         "xaxis": "x",
         "y": [
          8.99375,
          11.150588235294117,
          10.890588235294118,
          11.610588235294117,
          6.8875,
          8.8875,
          10.626666666666667,
          8.854285714285714,
          8.475,
          6.546153846153846,
          9.422222222222222
         ],
         "yaxis": "y"
        },
        {
         "hovertemplate": "<b>OLS trendline</b><br>Actual_Points = -1.93507 * log10(Week) + 10.6412<br>R<sup>2</sup>=0.141988<br><br>Team=No Nyugen Will Win<br>Week=%{x}<br>Actual_Points=%{y} <b>(trend)</b><extra></extra>",
         "legendgroup": "No Nyugen Will Win",
         "marker": {
          "color": "#FF97FF",
          "symbol": "circle"
         },
         "mode": "lines",
         "name": "No Nyugen Will Win",
         "showlegend": false,
         "type": "scatter",
         "x": [
          1,
          2,
          3,
          4,
          5,
          6,
          7,
          8,
          9,
          10,
          11
         ],
         "xaxis": "x",
         "y": [
          10.641237644563475,
          10.05872343027418,
          9.717974458777894,
          9.476209215984884,
          9.288681524733923,
          9.135460244488598,
          9.005913497909903,
          8.893695001695589,
          8.794711272992313,
          8.706167310444627,
          8.626069553345424
         ],
         "yaxis": "y"
        },
        {
         "hovertemplate": "Team=P-Town CASH KEVIN<br>Week=%{x}<br>Actual_Points=%{y}<extra></extra>",
         "legendgroup": "P-Town CASH KEVIN",
         "marker": {
          "color": "#FECB52",
          "symbol": "circle"
         },
         "mode": "markers",
         "name": "P-Town CASH KEVIN",
         "orientation": "v",
         "showlegend": true,
         "type": "scatter",
         "x": [
          1,
          2,
          3,
          4,
          5,
          6,
          7,
          8,
          9,
          10,
          11
         ],
         "xaxis": "x",
         "y": [
          13.81375,
          11.72875,
          11.317499999999999,
          11.1525,
          13.2525,
          12.04625,
          11.974666666666668,
          8.952857142857143,
          9.202857142857143,
          11.072307692307692,
          12.181538461538462
         ],
         "yaxis": "y"
        },
        {
         "hovertemplate": "<b>OLS trendline</b><br>Actual_Points = -2.40809 * log10(Week) + 13.1818<br>R<sup>2</sup>=0.281601<br><br>Team=P-Town CASH KEVIN<br>Week=%{x}<br>Actual_Points=%{y} <b>(trend)</b><extra></extra>",
         "legendgroup": "P-Town CASH KEVIN",
         "marker": {
          "color": "#FECB52",
          "symbol": "circle"
         },
         "mode": "lines",
         "name": "P-Town CASH KEVIN",
         "showlegend": false,
         "type": "scatter",
         "x": [
          1,
          2,
          3,
          4,
          5,
          6,
          7,
          8,
          9,
          10,
          11
         ],
         "xaxis": "x",
         "y": [
          13.181791637672347,
          12.45688574765817,
          12.032842985447981,
          11.731979857643992,
          11.498612285499101,
          11.307937095433804,
          11.146723519312498,
          11.007073967629816,
          10.883894333223616,
          10.773706395484924,
          10.674029281220893
         ],
         "yaxis": "y"
        }
       ],
       "layout": {
        "legend": {
         "title": {
          "text": "Team"
         },
         "tracegroupgap": 0
        },
        "template": {
         "data": {
          "bar": [
           {
            "error_x": {
             "color": "#2a3f5f"
            },
            "error_y": {
             "color": "#2a3f5f"
            },
            "marker": {
             "line": {
              "color": "#E5ECF6",
              "width": 0.5
             },
             "pattern": {
              "fillmode": "overlay",
              "size": 10,
              "solidity": 0.2
             }
            },
            "type": "bar"
           }
          ],
          "barpolar": [
           {
            "marker": {
             "line": {
              "color": "#E5ECF6",
              "width": 0.5
             },
             "pattern": {
              "fillmode": "overlay",
              "size": 10,
              "solidity": 0.2
             }
            },
            "type": "barpolar"
           }
          ],
          "carpet": [
           {
            "aaxis": {
             "endlinecolor": "#2a3f5f",
             "gridcolor": "white",
             "linecolor": "white",
             "minorgridcolor": "white",
             "startlinecolor": "#2a3f5f"
            },
            "baxis": {
             "endlinecolor": "#2a3f5f",
             "gridcolor": "white",
             "linecolor": "white",
             "minorgridcolor": "white",
             "startlinecolor": "#2a3f5f"
            },
            "type": "carpet"
           }
          ],
          "choropleth": [
           {
            "colorbar": {
             "outlinewidth": 0,
             "ticks": ""
            },
            "type": "choropleth"
           }
          ],
          "contour": [
           {
            "colorbar": {
             "outlinewidth": 0,
             "ticks": ""
            },
            "colorscale": [
             [
              0,
              "#0d0887"
             ],
             [
              0.1111111111111111,
              "#46039f"
             ],
             [
              0.2222222222222222,
              "#7201a8"
             ],
             [
              0.3333333333333333,
              "#9c179e"
             ],
             [
              0.4444444444444444,
              "#bd3786"
             ],
             [
              0.5555555555555556,
              "#d8576b"
             ],
             [
              0.6666666666666666,
              "#ed7953"
             ],
             [
              0.7777777777777778,
              "#fb9f3a"
             ],
             [
              0.8888888888888888,
              "#fdca26"
             ],
             [
              1,
              "#f0f921"
             ]
            ],
            "type": "contour"
           }
          ],
          "contourcarpet": [
           {
            "colorbar": {
             "outlinewidth": 0,
             "ticks": ""
            },
            "type": "contourcarpet"
           }
          ],
          "heatmap": [
           {
            "colorbar": {
             "outlinewidth": 0,
             "ticks": ""
            },
            "colorscale": [
             [
              0,
              "#0d0887"
             ],
             [
              0.1111111111111111,
              "#46039f"
             ],
             [
              0.2222222222222222,
              "#7201a8"
             ],
             [
              0.3333333333333333,
              "#9c179e"
             ],
             [
              0.4444444444444444,
              "#bd3786"
             ],
             [
              0.5555555555555556,
              "#d8576b"
             ],
             [
              0.6666666666666666,
              "#ed7953"
             ],
             [
              0.7777777777777778,
              "#fb9f3a"
             ],
             [
              0.8888888888888888,
              "#fdca26"
             ],
             [
              1,
              "#f0f921"
             ]
            ],
            "type": "heatmap"
           }
          ],
          "heatmapgl": [
           {
            "colorbar": {
             "outlinewidth": 0,
             "ticks": ""
            },
            "colorscale": [
             [
              0,
              "#0d0887"
             ],
             [
              0.1111111111111111,
              "#46039f"
             ],
             [
              0.2222222222222222,
              "#7201a8"
             ],
             [
              0.3333333333333333,
              "#9c179e"
             ],
             [
              0.4444444444444444,
              "#bd3786"
             ],
             [
              0.5555555555555556,
              "#d8576b"
             ],
             [
              0.6666666666666666,
              "#ed7953"
             ],
             [
              0.7777777777777778,
              "#fb9f3a"
             ],
             [
              0.8888888888888888,
              "#fdca26"
             ],
             [
              1,
              "#f0f921"
             ]
            ],
            "type": "heatmapgl"
           }
          ],
          "histogram": [
           {
            "marker": {
             "pattern": {
              "fillmode": "overlay",
              "size": 10,
              "solidity": 0.2
             }
            },
            "type": "histogram"
           }
          ],
          "histogram2d": [
           {
            "colorbar": {
             "outlinewidth": 0,
             "ticks": ""
            },
            "colorscale": [
             [
              0,
              "#0d0887"
             ],
             [
              0.1111111111111111,
              "#46039f"
             ],
             [
              0.2222222222222222,
              "#7201a8"
             ],
             [
              0.3333333333333333,
              "#9c179e"
             ],
             [
              0.4444444444444444,
              "#bd3786"
             ],
             [
              0.5555555555555556,
              "#d8576b"
             ],
             [
              0.6666666666666666,
              "#ed7953"
             ],
             [
              0.7777777777777778,
              "#fb9f3a"
             ],
             [
              0.8888888888888888,
              "#fdca26"
             ],
             [
              1,
              "#f0f921"
             ]
            ],
            "type": "histogram2d"
           }
          ],
          "histogram2dcontour": [
           {
            "colorbar": {
             "outlinewidth": 0,
             "ticks": ""
            },
            "colorscale": [
             [
              0,
              "#0d0887"
             ],
             [
              0.1111111111111111,
              "#46039f"
             ],
             [
              0.2222222222222222,
              "#7201a8"
             ],
             [
              0.3333333333333333,
              "#9c179e"
             ],
             [
              0.4444444444444444,
              "#bd3786"
             ],
             [
              0.5555555555555556,
              "#d8576b"
             ],
             [
              0.6666666666666666,
              "#ed7953"
             ],
             [
              0.7777777777777778,
              "#fb9f3a"
             ],
             [
              0.8888888888888888,
              "#fdca26"
             ],
             [
              1,
              "#f0f921"
             ]
            ],
            "type": "histogram2dcontour"
           }
          ],
          "mesh3d": [
           {
            "colorbar": {
             "outlinewidth": 0,
             "ticks": ""
            },
            "type": "mesh3d"
           }
          ],
          "parcoords": [
           {
            "line": {
             "colorbar": {
              "outlinewidth": 0,
              "ticks": ""
             }
            },
            "type": "parcoords"
           }
          ],
          "pie": [
           {
            "automargin": true,
            "type": "pie"
           }
          ],
          "scatter": [
           {
            "marker": {
             "colorbar": {
              "outlinewidth": 0,
              "ticks": ""
             }
            },
            "type": "scatter"
           }
          ],
          "scatter3d": [
           {
            "line": {
             "colorbar": {
              "outlinewidth": 0,
              "ticks": ""
             }
            },
            "marker": {
             "colorbar": {
              "outlinewidth": 0,
              "ticks": ""
             }
            },
            "type": "scatter3d"
           }
          ],
          "scattercarpet": [
           {
            "marker": {
             "colorbar": {
              "outlinewidth": 0,
              "ticks": ""
             }
            },
            "type": "scattercarpet"
           }
          ],
          "scattergeo": [
           {
            "marker": {
             "colorbar": {
              "outlinewidth": 0,
              "ticks": ""
             }
            },
            "type": "scattergeo"
           }
          ],
          "scattergl": [
           {
            "marker": {
             "colorbar": {
              "outlinewidth": 0,
              "ticks": ""
             }
            },
            "type": "scattergl"
           }
          ],
          "scattermapbox": [
           {
            "marker": {
             "colorbar": {
              "outlinewidth": 0,
              "ticks": ""
             }
            },
            "type": "scattermapbox"
           }
          ],
          "scatterpolar": [
           {
            "marker": {
             "colorbar": {
              "outlinewidth": 0,
              "ticks": ""
             }
            },
            "type": "scatterpolar"
           }
          ],
          "scatterpolargl": [
           {
            "marker": {
             "colorbar": {
              "outlinewidth": 0,
              "ticks": ""
             }
            },
            "type": "scatterpolargl"
           }
          ],
          "scatterternary": [
           {
            "marker": {
             "colorbar": {
              "outlinewidth": 0,
              "ticks": ""
             }
            },
            "type": "scatterternary"
           }
          ],
          "surface": [
           {
            "colorbar": {
             "outlinewidth": 0,
             "ticks": ""
            },
            "colorscale": [
             [
              0,
              "#0d0887"
             ],
             [
              0.1111111111111111,
              "#46039f"
             ],
             [
              0.2222222222222222,
              "#7201a8"
             ],
             [
              0.3333333333333333,
              "#9c179e"
             ],
             [
              0.4444444444444444,
              "#bd3786"
             ],
             [
              0.5555555555555556,
              "#d8576b"
             ],
             [
              0.6666666666666666,
              "#ed7953"
             ],
             [
              0.7777777777777778,
              "#fb9f3a"
             ],
             [
              0.8888888888888888,
              "#fdca26"
             ],
             [
              1,
              "#f0f921"
             ]
            ],
            "type": "surface"
           }
          ],
          "table": [
           {
            "cells": {
             "fill": {
              "color": "#EBF0F8"
             },
             "line": {
              "color": "white"
             }
            },
            "header": {
             "fill": {
              "color": "#C8D4E3"
             },
             "line": {
              "color": "white"
             }
            },
            "type": "table"
           }
          ]
         },
         "layout": {
          "annotationdefaults": {
           "arrowcolor": "#2a3f5f",
           "arrowhead": 0,
           "arrowwidth": 1
          },
          "autotypenumbers": "strict",
          "coloraxis": {
           "colorbar": {
            "outlinewidth": 0,
            "ticks": ""
           }
          },
          "colorscale": {
           "diverging": [
            [
             0,
             "#8e0152"
            ],
            [
             0.1,
             "#c51b7d"
            ],
            [
             0.2,
             "#de77ae"
            ],
            [
             0.3,
             "#f1b6da"
            ],
            [
             0.4,
             "#fde0ef"
            ],
            [
             0.5,
             "#f7f7f7"
            ],
            [
             0.6,
             "#e6f5d0"
            ],
            [
             0.7,
             "#b8e186"
            ],
            [
             0.8,
             "#7fbc41"
            ],
            [
             0.9,
             "#4d9221"
            ],
            [
             1,
             "#276419"
            ]
           ],
           "sequential": [
            [
             0,
             "#0d0887"
            ],
            [
             0.1111111111111111,
             "#46039f"
            ],
            [
             0.2222222222222222,
             "#7201a8"
            ],
            [
             0.3333333333333333,
             "#9c179e"
            ],
            [
             0.4444444444444444,
             "#bd3786"
            ],
            [
             0.5555555555555556,
             "#d8576b"
            ],
            [
             0.6666666666666666,
             "#ed7953"
            ],
            [
             0.7777777777777778,
             "#fb9f3a"
            ],
            [
             0.8888888888888888,
             "#fdca26"
            ],
            [
             1,
             "#f0f921"
            ]
           ],
           "sequentialminus": [
            [
             0,
             "#0d0887"
            ],
            [
             0.1111111111111111,
             "#46039f"
            ],
            [
             0.2222222222222222,
             "#7201a8"
            ],
            [
             0.3333333333333333,
             "#9c179e"
            ],
            [
             0.4444444444444444,
             "#bd3786"
            ],
            [
             0.5555555555555556,
             "#d8576b"
            ],
            [
             0.6666666666666666,
             "#ed7953"
            ],
            [
             0.7777777777777778,
             "#fb9f3a"
            ],
            [
             0.8888888888888888,
             "#fdca26"
            ],
            [
             1,
             "#f0f921"
            ]
           ]
          },
          "colorway": [
           "#636efa",
           "#EF553B",
           "#00cc96",
           "#ab63fa",
           "#FFA15A",
           "#19d3f3",
           "#FF6692",
           "#B6E880",
           "#FF97FF",
           "#FECB52"
          ],
          "font": {
           "color": "#2a3f5f"
          },
          "geo": {
           "bgcolor": "white",
           "lakecolor": "white",
           "landcolor": "#E5ECF6",
           "showlakes": true,
           "showland": true,
           "subunitcolor": "white"
          },
          "hoverlabel": {
           "align": "left"
          },
          "hovermode": "closest",
          "mapbox": {
           "style": "light"
          },
          "paper_bgcolor": "white",
          "plot_bgcolor": "#E5ECF6",
          "polar": {
           "angularaxis": {
            "gridcolor": "white",
            "linecolor": "white",
            "ticks": ""
           },
           "bgcolor": "#E5ECF6",
           "radialaxis": {
            "gridcolor": "white",
            "linecolor": "white",
            "ticks": ""
           }
          },
          "scene": {
           "xaxis": {
            "backgroundcolor": "#E5ECF6",
            "gridcolor": "white",
            "gridwidth": 2,
            "linecolor": "white",
            "showbackground": true,
            "ticks": "",
            "zerolinecolor": "white"
           },
           "yaxis": {
            "backgroundcolor": "#E5ECF6",
            "gridcolor": "white",
            "gridwidth": 2,
            "linecolor": "white",
            "showbackground": true,
            "ticks": "",
            "zerolinecolor": "white"
           },
           "zaxis": {
            "backgroundcolor": "#E5ECF6",
            "gridcolor": "white",
            "gridwidth": 2,
            "linecolor": "white",
            "showbackground": true,
            "ticks": "",
            "zerolinecolor": "white"
           }
          },
          "shapedefaults": {
           "line": {
            "color": "#2a3f5f"
           }
          },
          "ternary": {
           "aaxis": {
            "gridcolor": "white",
            "linecolor": "white",
            "ticks": ""
           },
           "baxis": {
            "gridcolor": "white",
            "linecolor": "white",
            "ticks": ""
           },
           "bgcolor": "#E5ECF6",
           "caxis": {
            "gridcolor": "white",
            "linecolor": "white",
            "ticks": ""
           }
          },
          "title": {
           "x": 0.05
          },
          "xaxis": {
           "automargin": true,
           "gridcolor": "white",
           "linecolor": "white",
           "ticks": "",
           "title": {
            "standoff": 15
           },
           "zerolinecolor": "white",
           "zerolinewidth": 2
          },
          "yaxis": {
           "automargin": true,
           "gridcolor": "white",
           "linecolor": "white",
           "ticks": "",
           "title": {
            "standoff": 15
           },
           "zerolinecolor": "white",
           "zerolinewidth": 2
          }
         }
        },
        "title": {
         "text": "Week vs. Average Points"
        },
        "xaxis": {
         "anchor": "y",
         "domain": [
          0,
          1
         ],
         "title": {
          "text": "Week"
         }
        },
        "yaxis": {
         "anchor": "x",
         "domain": [
          0,
          1
         ],
         "title": {
          "text": "Actual_Points"
         }
        }
       }
      }
     },
     "metadata": {},
     "output_type": "display_data"
    }
   ],
   "source": [
    "import plotly.io as pio\n",
    "pio.renderers\n",
    "plot = px.scatter(test_df, x = 'Week', y = 'Actual_Points', color = 'Team', trendline='ols', trendline_options=dict(log_x=True), title='Week vs. Average Points')\n",
    "plot.show()"
   ]
  },
  {
   "cell_type": "code",
   "execution_count": 194,
   "metadata": {},
   "outputs": [
    {
     "data": {
      "application/vnd.plotly.v1+json": {
       "config": {
        "plotlyServerURL": "https://plot.ly"
       },
       "data": [
        {
         "hovertemplate": "Team=Cougar Town Zach Wilson<br>Week=%{x}<br>Rank=%{y}<extra></extra>",
         "legendgroup": "Cougar Town Zach Wilson",
         "marker": {
          "color": "#636efa",
          "symbol": "circle"
         },
         "mode": "markers",
         "name": "Cougar Town Zach Wilson",
         "orientation": "v",
         "showlegend": true,
         "type": "scatter",
         "x": [
          1,
          2,
          3,
          4,
          5,
          6,
          7,
          8,
          9,
          10,
          11
         ],
         "xaxis": "x",
         "y": [
          16.5,
          20.1875,
          18.5625,
          18.133333333333333,
          17.75,
          18.875,
          12.3125,
          11.2,
          14.461538461538462,
          14.916666666666666,
          14.166666666666666
         ],
         "yaxis": "y"
        },
        {
         "hovertemplate": "<b>OLS trendline</b><br>Rank = -5.17614 * log10(Week) + 19.6737<br>R<sup>2</sup>=0.335327<br><br>Team=Cougar Town Zach Wilson<br>Week=%{x}<br>Rank=%{y} <b>(trend)</b><extra></extra>",
         "legendgroup": "Cougar Town Zach Wilson",
         "marker": {
          "color": "#636efa",
          "symbol": "circle"
         },
         "mode": "lines",
         "name": "Cougar Town Zach Wilson",
         "showlegend": false,
         "type": "scatter",
         "x": [
          1,
          2,
          3,
          4,
          5,
          6,
          7,
          8,
          9,
          10,
          11
         ],
         "xaxis": "x",
         "y": [
          19.67366740462004,
          18.115494392390318,
          17.2040216106002,
          16.55732138016059,
          16.055701710828572,
          15.645848598370474,
          15.299322729319599,
          14.999148367930866,
          14.734375816580357,
          14.497528698598849,
          14.28327441880521
         ],
         "yaxis": "y"
        },
        {
         "hovertemplate": "Team=Couv Reigning Champ<br>Week=%{x}<br>Rank=%{y}<extra></extra>",
         "legendgroup": "Couv Reigning Champ",
         "marker": {
          "color": "#EF553B",
          "symbol": "circle"
         },
         "mode": "markers",
         "name": "Couv Reigning Champ",
         "orientation": "v",
         "showlegend": true,
         "type": "scatter",
         "x": [
          1,
          2,
          3,
          4,
          5,
          6,
          7,
          8,
          9,
          10,
          11
         ],
         "xaxis": "x",
         "y": [
          17.176470588235293,
          16.933333333333334,
          14.941176470588236,
          14.588235294117647,
          14.0625,
          15.1875,
          12.4,
          17.642857142857142,
          12.833333333333334,
          16.22222222222222,
          5.555555555555555
         ],
         "yaxis": "y"
        },
        {
         "hovertemplate": "<b>OLS trendline</b><br>Rank = -5.29225 * log10(Week) + 17.9791<br>R<sup>2</sup>=0.258089<br><br>Team=Couv Reigning Champ<br>Week=%{x}<br>Rank=%{y} <b>(trend)</b><extra></extra>",
         "legendgroup": "Couv Reigning Champ",
         "marker": {
          "color": "#EF553B",
          "symbol": "circle"
         },
         "mode": "lines",
         "name": "Couv Reigning Champ",
         "showlegend": false,
         "type": "scatter",
         "x": [
          1,
          2,
          3,
          4,
          5,
          6,
          7,
          8,
          9,
          10,
          11
         ],
         "xaxis": "x",
         "y": [
          17.979129355785062,
          16.386002465225207,
          15.454082975357192,
          14.792875574665349,
          14.280003269873587,
          13.860956084797337,
          13.506656738109523,
          13.199748684105494,
          12.929036594929322,
          12.68687637931373,
          12.467815818080972
         ],
         "yaxis": "y"
        },
        {
         "hovertemplate": "Team=Diggy Wit it<br>Week=%{x}<br>Rank=%{y}<extra></extra>",
         "legendgroup": "Diggy Wit it",
         "marker": {
          "color": "#00cc96",
          "symbol": "circle"
         },
         "mode": "markers",
         "name": "Diggy Wit it",
         "orientation": "v",
         "showlegend": true,
         "type": "scatter",
         "x": [
          1,
          2,
          3,
          4,
          5,
          6,
          7,
          8,
          9,
          10,
          11
         ],
         "xaxis": "x",
         "y": [
          15.352941176470589,
          19.235294117647058,
          13.533333333333333,
          13.8125,
          15.6875,
          15.416666666666666,
          12.928571428571429,
          18.5,
          12.846153846153847,
          18.333333333333332,
          19.8
         ],
         "yaxis": "y"
        },
        {
         "hovertemplate": "<b>OLS trendline</b><br>Rank = 1.0824 * log10(Week) + 15.2017<br>R<sup>2</sup>=0.018127<br><br>Team=Diggy Wit it<br>Week=%{x}<br>Rank=%{y} <b>(trend)</b><extra></extra>",
         "legendgroup": "Diggy Wit it",
         "marker": {
          "color": "#00cc96",
          "symbol": "circle"
         },
         "mode": "lines",
         "name": "Diggy Wit it",
         "showlegend": false,
         "type": "scatter",
         "x": [
          1,
          2,
          3,
          4,
          5,
          6,
          7,
          8,
          9,
          10,
          11
         ],
         "xaxis": "x",
         "y": [
          15.201705904614839,
          15.527542276930259,
          15.718144336105798,
          15.85337864924568,
          15.958274531830192,
          16.043980708421216,
          16.116444248219928,
          16.1792150215611,
          16.234582767596756,
          16.284110904145614,
          16.32891455350488
         ],
         "yaxis": "y"
        },
        {
         "hovertemplate": "Team=Eugene Tweakers<br>Week=%{x}<br>Rank=%{y}<extra></extra>",
         "legendgroup": "Eugene Tweakers",
         "marker": {
          "color": "#ab63fa",
          "symbol": "circle"
         },
         "mode": "markers",
         "name": "Eugene Tweakers",
         "orientation": "v",
         "showlegend": true,
         "type": "scatter",
         "x": [
          1,
          2,
          3,
          4,
          5,
          6,
          7,
          8,
          9,
          10,
          11
         ],
         "xaxis": "x",
         "y": [
          15.875,
          15.0625,
          13.8125,
          16.75,
          16.3125,
          16.714285714285715,
          15.933333333333334,
          12.785714285714286,
          12.333333333333334,
          17.5,
          17.333333333333332
         ],
         "yaxis": "y"
        },
        {
         "hovertemplate": "<b>OLS trendline</b><br>Rank = 0.182804 * log10(Week) + 15.3657<br>R<sup>2</sup>=0.001100<br><br>Team=Eugene Tweakers<br>Week=%{x}<br>Rank=%{y} <b>(trend)</b><extra></extra>",
         "legendgroup": "Eugene Tweakers",
         "marker": {
          "color": "#ab63fa",
          "symbol": "circle"
         },
         "mode": "lines",
         "name": "Eugene Tweakers",
         "showlegend": false,
         "type": "scatter",
         "x": [
          1,
          2,
          3,
          4,
          5,
          6,
          7,
          8,
          9,
          10,
          11
         ],
         "xaxis": "x",
         "y": [
          15.365725053059581,
          15.420754649155706,
          15.45294489930177,
          15.475784245251829,
          15.493499818285477,
          15.507974495397894,
          15.520212660518878,
          15.530813841347953,
          15.540164745543958,
          15.5485294143816,
          15.556096177755352
         ],
         "yaxis": "y"
        },
        {
         "hovertemplate": "Team=Gorilla Guys<br>Week=%{x}<br>Rank=%{y}<extra></extra>",
         "legendgroup": "Gorilla Guys",
         "marker": {
          "color": "#FFA15A",
          "symbol": "circle"
         },
         "mode": "markers",
         "name": "Gorilla Guys",
         "orientation": "v",
         "showlegend": true,
         "type": "scatter",
         "x": [
          1,
          2,
          3,
          4,
          5,
          6,
          7,
          8,
          9,
          10,
          11
         ],
         "xaxis": "x",
         "y": [
          15.0625,
          13.588235294117647,
          18.941176470588236,
          13.235294117647058,
          14.117647058823529,
          8.714285714285714,
          11.642857142857142,
          15.538461538461538,
          14.153846153846153,
          16,
          14
         ],
         "yaxis": "y"
        },
        {
         "hovertemplate": "<b>OLS trendline</b><br>Rank = -1.33752 * log10(Week) + 15.0146<br>R<sup>2</sup>=0.028337<br><br>Team=Gorilla Guys<br>Week=%{x}<br>Rank=%{y} <b>(trend)</b><extra></extra>",
         "legendgroup": "Gorilla Guys",
         "marker": {
          "color": "#FFA15A",
          "symbol": "circle"
         },
         "mode": "lines",
         "name": "Gorilla Guys",
         "showlegend": false,
         "type": "scatter",
         "x": [
          1,
          2,
          3,
          4,
          5,
          6,
          7,
          8,
          9,
          10,
          11
         ],
         "xaxis": "x",
         "y": [
          15.014634924563754,
          14.612001962627739,
          14.37647677834088,
          14.209369000691723,
          14.079750138316806,
          13.973843816404864,
          13.88430129709005,
          13.806736038755707,
          13.738318632118007,
          13.67711717638079,
          13.621753725336713
         ],
         "yaxis": "y"
        },
        {
         "hovertemplate": "Team=I dont know what im doing<br>Week=%{x}<br>Rank=%{y}<extra></extra>",
         "legendgroup": "I dont know what im doing",
         "marker": {
          "color": "#19d3f3",
          "symbol": "circle"
         },
         "mode": "markers",
         "name": "I dont know what im doing",
         "orientation": "v",
         "showlegend": true,
         "type": "scatter",
         "x": [
          1,
          2,
          3,
          4,
          5,
          6,
          7,
          8,
          9,
          10,
          11
         ],
         "xaxis": "x",
         "y": [
          14.75,
          14.125,
          16.4,
          15.533333333333333,
          16.666666666666668,
          15.6,
          16.933333333333334,
          18.46153846153846,
          16.923076923076923,
          11.818181818181818,
          18
         ],
         "yaxis": "y"
        },
        {
         "hovertemplate": "<b>OLS trendline</b><br>Rank = 1.75605 * log10(Week) + 14.7148<br>R<sup>2</sup>=0.091544<br><br>Team=I dont know what im doing<br>Week=%{x}<br>Rank=%{y} <b>(trend)</b><extra></extra>",
         "legendgroup": "I dont know what im doing",
         "marker": {
          "color": "#19d3f3",
          "symbol": "circle"
         },
         "mode": "lines",
         "name": "I dont know what im doing",
         "showlegend": false,
         "type": "scatter",
         "x": [
          1,
          2,
          3,
          4,
          5,
          6,
          7,
          8,
          9,
          10,
          11
         ],
         "xaxis": "x",
         "y": [
          14.714829453073445,
          15.24345306027501,
          15.552678047483877,
          15.772076667476577,
          15.942255458255463,
          16.081301654685443,
          16.198863538666608,
          16.300700274678142,
          16.390526641894308,
          16.470879065457027,
          16.543566674184646
         ],
         "yaxis": "y"
        },
        {
         "hovertemplate": "Team=Just-in-N-out Drive thru<br>Week=%{x}<br>Rank=%{y}<extra></extra>",
         "legendgroup": "Just-in-N-out Drive thru",
         "marker": {
          "color": "#FF6692",
          "symbol": "circle"
         },
         "mode": "markers",
         "name": "Just-in-N-out Drive thru",
         "orientation": "v",
         "showlegend": true,
         "type": "scatter",
         "x": [
          1,
          2,
          3,
          4,
          5,
          6,
          7,
          8,
          9,
          10,
          11
         ],
         "xaxis": "x",
         "y": [
          16.6875,
          17.8125,
          15.2,
          16.642857142857142,
          17.384615384615383,
          11.153846153846153,
          14.583333333333334,
          13.75,
          16.818181818181817,
          12.090909090909092,
          15.3
         ],
         "yaxis": "y"
        },
        {
         "hovertemplate": "<b>OLS trendline</b><br>Rank = -3.2588 * log10(Week) + 17.4722<br>R<sup>2</sup>=0.236422<br><br>Team=Just-in-N-out Drive thru<br>Week=%{x}<br>Rank=%{y} <b>(trend)</b><extra></extra>",
         "legendgroup": "Just-in-N-out Drive thru",
         "marker": {
          "color": "#FF6692",
          "symbol": "circle"
         },
         "mode": "lines",
         "name": "Just-in-N-out Drive thru",
         "showlegend": false,
         "type": "scatter",
         "x": [
          1,
          2,
          3,
          4,
          5,
          6,
          7,
          8,
          9,
          10,
          11
         ],
         "xaxis": "x",
         "y": [
          17.472217519933746,
          16.49122082980548,
          15.917374552748875,
          15.510224139677218,
          15.194413744133417,
          14.936377862620612,
          14.718211633379946,
          14.529227449548953,
          14.362531585564005,
          14.213417054005154,
          14.078526552325494
         ],
         "yaxis": "y"
        },
        {
         "hovertemplate": "Team=My Team  A Bust<br>Week=%{x}<br>Rank=%{y}<extra></extra>",
         "legendgroup": "My Team  A Bust",
         "marker": {
          "color": "#B6E880",
          "symbol": "circle"
         },
         "mode": "markers",
         "name": "My Team  A Bust",
         "orientation": "v",
         "showlegend": true,
         "type": "scatter",
         "x": [
          1,
          2,
          3,
          4,
          5,
          6,
          7,
          8,
          9,
          10,
          11
         ],
         "xaxis": "x",
         "y": [
          17.705882352941178,
          18.764705882352942,
          14.529411764705882,
          16.235294117647058,
          16.642857142857142,
          11.428571428571429,
          13.444444444444445,
          18.333333333333332,
          12.625,
          11.125,
          10.444444444444445
         ],
         "yaxis": "y"
        },
        {
         "hovertemplate": "<b>OLS trendline</b><br>Rank = -6.29972 * log10(Week) + 19.0149<br>R<sup>2</sup>=0.449868<br><br>Team=My Team  A Bust<br>Week=%{x}<br>Rank=%{y} <b>(trend)</b><extra></extra>",
         "legendgroup": "My Team  A Bust",
         "marker": {
          "color": "#B6E880",
          "symbol": "circle"
         },
         "mode": "lines",
         "name": "My Team  A Bust",
         "showlegend": false,
         "type": "scatter",
         "x": [
          1,
          2,
          3,
          4,
          5,
          6,
          7,
          8,
          9,
          10,
          11
         ],
         "xaxis": "x",
         "y": [
          19.014918186833427,
          17.118513405764872,
          16.009187722651454,
          15.222108624696316,
          14.611602646391631,
          14.112782941582896,
          13.691036890487045,
          13.32570384362776,
          13.003457258469478,
          12.715197865323075,
          12.454435525469925
         ],
         "yaxis": "y"
        },
        {
         "hovertemplate": "Team=No Nyugen Will Win<br>Week=%{x}<br>Rank=%{y}<extra></extra>",
         "legendgroup": "No Nyugen Will Win",
         "marker": {
          "color": "#FF97FF",
          "symbol": "circle"
         },
         "mode": "markers",
         "name": "No Nyugen Will Win",
         "orientation": "v",
         "showlegend": true,
         "type": "scatter",
         "x": [
          1,
          2,
          3,
          4,
          5,
          6,
          7,
          8,
          9,
          10,
          11
         ],
         "xaxis": "x",
         "y": [
          17.5,
          15,
          17.058823529411764,
          15.941176470588236,
          13.25,
          15.75,
          13.4,
          16.857142857142858,
          15.916666666666666,
          12.461538461538462,
          14.666666666666666
         ],
         "yaxis": "y"
        },
        {
         "hovertemplate": "<b>OLS trendline</b><br>Rank = -2.59057 * log10(Week) + 17.0449<br>R<sup>2</sup>=0.253792<br><br>Team=No Nyugen Will Win<br>Week=%{x}<br>Rank=%{y} <b>(trend)</b><extra></extra>",
         "legendgroup": "No Nyugen Will Win",
         "marker": {
          "color": "#FF97FF",
          "symbol": "circle"
         },
         "mode": "lines",
         "name": "No Nyugen Will Win",
         "showlegend": false,
         "type": "scatter",
         "x": [
          1,
          2,
          3,
          4,
          5,
          6,
          7,
          8,
          9,
          10,
          11
         ],
         "xaxis": "x",
         "y": [
          17.044850603552838,
          16.265010693298116,
          15.80883358923335,
          15.485170783043392,
          15.234118406417958,
          15.028993678978628,
          14.855563193082283,
          14.70533087278867,
          14.572816574913864,
          14.454278496163235,
          14.347047760542377
         ],
         "yaxis": "y"
        },
        {
         "hovertemplate": "Team=P-Town CASH KEVIN<br>Week=%{x}<br>Rank=%{y}<extra></extra>",
         "legendgroup": "P-Town CASH KEVIN",
         "marker": {
          "color": "#FECB52",
          "symbol": "circle"
         },
         "mode": "markers",
         "name": "P-Town CASH KEVIN",
         "orientation": "v",
         "showlegend": true,
         "type": "scatter",
         "x": [
          1,
          2,
          3,
          4,
          5,
          6,
          7,
          8,
          9,
          10,
          11
         ],
         "xaxis": "x",
         "y": [
          19.5,
          19.375,
          14,
          17,
          20.75,
          16.4375,
          12.933333333333334,
          9.714285714285714,
          12.285714285714286,
          12.307692307692308,
          12.923076923076923
         ],
         "yaxis": "y"
        },
        {
         "hovertemplate": "<b>OLS trendline</b><br>Rank = -7.9475 * log10(Week) + 20.6943<br>R<sup>2</sup>=0.507963<br><br>Team=P-Town CASH KEVIN<br>Week=%{x}<br>Rank=%{y} <b>(trend)</b><extra></extra>",
         "legendgroup": "P-Town CASH KEVIN",
         "marker": {
          "color": "#FECB52",
          "symbol": "circle"
         },
         "mode": "lines",
         "name": "P-Town CASH KEVIN",
         "showlegend": false,
         "type": "scatter",
         "x": [
          1,
          2,
          3,
          4,
          5,
          6,
          7,
          8,
          9,
          10,
          11
         ],
         "xaxis": "x",
         "y": [
          20.69425186447118,
          18.30181665209679,
          16.902331767452914,
          15.909381439722397,
          15.139189329661267,
          14.509896555078523,
          13.977837095308002,
          13.516946227348004,
          13.110411670434647,
          12.746754117286875,
          12.417785845241971
         ],
         "yaxis": "y"
        }
       ],
       "layout": {
        "legend": {
         "title": {
          "text": "Team"
         },
         "tracegroupgap": 0
        },
        "template": {
         "data": {
          "bar": [
           {
            "error_x": {
             "color": "#2a3f5f"
            },
            "error_y": {
             "color": "#2a3f5f"
            },
            "marker": {
             "line": {
              "color": "#E5ECF6",
              "width": 0.5
             },
             "pattern": {
              "fillmode": "overlay",
              "size": 10,
              "solidity": 0.2
             }
            },
            "type": "bar"
           }
          ],
          "barpolar": [
           {
            "marker": {
             "line": {
              "color": "#E5ECF6",
              "width": 0.5
             },
             "pattern": {
              "fillmode": "overlay",
              "size": 10,
              "solidity": 0.2
             }
            },
            "type": "barpolar"
           }
          ],
          "carpet": [
           {
            "aaxis": {
             "endlinecolor": "#2a3f5f",
             "gridcolor": "white",
             "linecolor": "white",
             "minorgridcolor": "white",
             "startlinecolor": "#2a3f5f"
            },
            "baxis": {
             "endlinecolor": "#2a3f5f",
             "gridcolor": "white",
             "linecolor": "white",
             "minorgridcolor": "white",
             "startlinecolor": "#2a3f5f"
            },
            "type": "carpet"
           }
          ],
          "choropleth": [
           {
            "colorbar": {
             "outlinewidth": 0,
             "ticks": ""
            },
            "type": "choropleth"
           }
          ],
          "contour": [
           {
            "colorbar": {
             "outlinewidth": 0,
             "ticks": ""
            },
            "colorscale": [
             [
              0,
              "#0d0887"
             ],
             [
              0.1111111111111111,
              "#46039f"
             ],
             [
              0.2222222222222222,
              "#7201a8"
             ],
             [
              0.3333333333333333,
              "#9c179e"
             ],
             [
              0.4444444444444444,
              "#bd3786"
             ],
             [
              0.5555555555555556,
              "#d8576b"
             ],
             [
              0.6666666666666666,
              "#ed7953"
             ],
             [
              0.7777777777777778,
              "#fb9f3a"
             ],
             [
              0.8888888888888888,
              "#fdca26"
             ],
             [
              1,
              "#f0f921"
             ]
            ],
            "type": "contour"
           }
          ],
          "contourcarpet": [
           {
            "colorbar": {
             "outlinewidth": 0,
             "ticks": ""
            },
            "type": "contourcarpet"
           }
          ],
          "heatmap": [
           {
            "colorbar": {
             "outlinewidth": 0,
             "ticks": ""
            },
            "colorscale": [
             [
              0,
              "#0d0887"
             ],
             [
              0.1111111111111111,
              "#46039f"
             ],
             [
              0.2222222222222222,
              "#7201a8"
             ],
             [
              0.3333333333333333,
              "#9c179e"
             ],
             [
              0.4444444444444444,
              "#bd3786"
             ],
             [
              0.5555555555555556,
              "#d8576b"
             ],
             [
              0.6666666666666666,
              "#ed7953"
             ],
             [
              0.7777777777777778,
              "#fb9f3a"
             ],
             [
              0.8888888888888888,
              "#fdca26"
             ],
             [
              1,
              "#f0f921"
             ]
            ],
            "type": "heatmap"
           }
          ],
          "heatmapgl": [
           {
            "colorbar": {
             "outlinewidth": 0,
             "ticks": ""
            },
            "colorscale": [
             [
              0,
              "#0d0887"
             ],
             [
              0.1111111111111111,
              "#46039f"
             ],
             [
              0.2222222222222222,
              "#7201a8"
             ],
             [
              0.3333333333333333,
              "#9c179e"
             ],
             [
              0.4444444444444444,
              "#bd3786"
             ],
             [
              0.5555555555555556,
              "#d8576b"
             ],
             [
              0.6666666666666666,
              "#ed7953"
             ],
             [
              0.7777777777777778,
              "#fb9f3a"
             ],
             [
              0.8888888888888888,
              "#fdca26"
             ],
             [
              1,
              "#f0f921"
             ]
            ],
            "type": "heatmapgl"
           }
          ],
          "histogram": [
           {
            "marker": {
             "pattern": {
              "fillmode": "overlay",
              "size": 10,
              "solidity": 0.2
             }
            },
            "type": "histogram"
           }
          ],
          "histogram2d": [
           {
            "colorbar": {
             "outlinewidth": 0,
             "ticks": ""
            },
            "colorscale": [
             [
              0,
              "#0d0887"
             ],
             [
              0.1111111111111111,
              "#46039f"
             ],
             [
              0.2222222222222222,
              "#7201a8"
             ],
             [
              0.3333333333333333,
              "#9c179e"
             ],
             [
              0.4444444444444444,
              "#bd3786"
             ],
             [
              0.5555555555555556,
              "#d8576b"
             ],
             [
              0.6666666666666666,
              "#ed7953"
             ],
             [
              0.7777777777777778,
              "#fb9f3a"
             ],
             [
              0.8888888888888888,
              "#fdca26"
             ],
             [
              1,
              "#f0f921"
             ]
            ],
            "type": "histogram2d"
           }
          ],
          "histogram2dcontour": [
           {
            "colorbar": {
             "outlinewidth": 0,
             "ticks": ""
            },
            "colorscale": [
             [
              0,
              "#0d0887"
             ],
             [
              0.1111111111111111,
              "#46039f"
             ],
             [
              0.2222222222222222,
              "#7201a8"
             ],
             [
              0.3333333333333333,
              "#9c179e"
             ],
             [
              0.4444444444444444,
              "#bd3786"
             ],
             [
              0.5555555555555556,
              "#d8576b"
             ],
             [
              0.6666666666666666,
              "#ed7953"
             ],
             [
              0.7777777777777778,
              "#fb9f3a"
             ],
             [
              0.8888888888888888,
              "#fdca26"
             ],
             [
              1,
              "#f0f921"
             ]
            ],
            "type": "histogram2dcontour"
           }
          ],
          "mesh3d": [
           {
            "colorbar": {
             "outlinewidth": 0,
             "ticks": ""
            },
            "type": "mesh3d"
           }
          ],
          "parcoords": [
           {
            "line": {
             "colorbar": {
              "outlinewidth": 0,
              "ticks": ""
             }
            },
            "type": "parcoords"
           }
          ],
          "pie": [
           {
            "automargin": true,
            "type": "pie"
           }
          ],
          "scatter": [
           {
            "marker": {
             "colorbar": {
              "outlinewidth": 0,
              "ticks": ""
             }
            },
            "type": "scatter"
           }
          ],
          "scatter3d": [
           {
            "line": {
             "colorbar": {
              "outlinewidth": 0,
              "ticks": ""
             }
            },
            "marker": {
             "colorbar": {
              "outlinewidth": 0,
              "ticks": ""
             }
            },
            "type": "scatter3d"
           }
          ],
          "scattercarpet": [
           {
            "marker": {
             "colorbar": {
              "outlinewidth": 0,
              "ticks": ""
             }
            },
            "type": "scattercarpet"
           }
          ],
          "scattergeo": [
           {
            "marker": {
             "colorbar": {
              "outlinewidth": 0,
              "ticks": ""
             }
            },
            "type": "scattergeo"
           }
          ],
          "scattergl": [
           {
            "marker": {
             "colorbar": {
              "outlinewidth": 0,
              "ticks": ""
             }
            },
            "type": "scattergl"
           }
          ],
          "scattermapbox": [
           {
            "marker": {
             "colorbar": {
              "outlinewidth": 0,
              "ticks": ""
             }
            },
            "type": "scattermapbox"
           }
          ],
          "scatterpolar": [
           {
            "marker": {
             "colorbar": {
              "outlinewidth": 0,
              "ticks": ""
             }
            },
            "type": "scatterpolar"
           }
          ],
          "scatterpolargl": [
           {
            "marker": {
             "colorbar": {
              "outlinewidth": 0,
              "ticks": ""
             }
            },
            "type": "scatterpolargl"
           }
          ],
          "scatterternary": [
           {
            "marker": {
             "colorbar": {
              "outlinewidth": 0,
              "ticks": ""
             }
            },
            "type": "scatterternary"
           }
          ],
          "surface": [
           {
            "colorbar": {
             "outlinewidth": 0,
             "ticks": ""
            },
            "colorscale": [
             [
              0,
              "#0d0887"
             ],
             [
              0.1111111111111111,
              "#46039f"
             ],
             [
              0.2222222222222222,
              "#7201a8"
             ],
             [
              0.3333333333333333,
              "#9c179e"
             ],
             [
              0.4444444444444444,
              "#bd3786"
             ],
             [
              0.5555555555555556,
              "#d8576b"
             ],
             [
              0.6666666666666666,
              "#ed7953"
             ],
             [
              0.7777777777777778,
              "#fb9f3a"
             ],
             [
              0.8888888888888888,
              "#fdca26"
             ],
             [
              1,
              "#f0f921"
             ]
            ],
            "type": "surface"
           }
          ],
          "table": [
           {
            "cells": {
             "fill": {
              "color": "#EBF0F8"
             },
             "line": {
              "color": "white"
             }
            },
            "header": {
             "fill": {
              "color": "#C8D4E3"
             },
             "line": {
              "color": "white"
             }
            },
            "type": "table"
           }
          ]
         },
         "layout": {
          "annotationdefaults": {
           "arrowcolor": "#2a3f5f",
           "arrowhead": 0,
           "arrowwidth": 1
          },
          "autotypenumbers": "strict",
          "coloraxis": {
           "colorbar": {
            "outlinewidth": 0,
            "ticks": ""
           }
          },
          "colorscale": {
           "diverging": [
            [
             0,
             "#8e0152"
            ],
            [
             0.1,
             "#c51b7d"
            ],
            [
             0.2,
             "#de77ae"
            ],
            [
             0.3,
             "#f1b6da"
            ],
            [
             0.4,
             "#fde0ef"
            ],
            [
             0.5,
             "#f7f7f7"
            ],
            [
             0.6,
             "#e6f5d0"
            ],
            [
             0.7,
             "#b8e186"
            ],
            [
             0.8,
             "#7fbc41"
            ],
            [
             0.9,
             "#4d9221"
            ],
            [
             1,
             "#276419"
            ]
           ],
           "sequential": [
            [
             0,
             "#0d0887"
            ],
            [
             0.1111111111111111,
             "#46039f"
            ],
            [
             0.2222222222222222,
             "#7201a8"
            ],
            [
             0.3333333333333333,
             "#9c179e"
            ],
            [
             0.4444444444444444,
             "#bd3786"
            ],
            [
             0.5555555555555556,
             "#d8576b"
            ],
            [
             0.6666666666666666,
             "#ed7953"
            ],
            [
             0.7777777777777778,
             "#fb9f3a"
            ],
            [
             0.8888888888888888,
             "#fdca26"
            ],
            [
             1,
             "#f0f921"
            ]
           ],
           "sequentialminus": [
            [
             0,
             "#0d0887"
            ],
            [
             0.1111111111111111,
             "#46039f"
            ],
            [
             0.2222222222222222,
             "#7201a8"
            ],
            [
             0.3333333333333333,
             "#9c179e"
            ],
            [
             0.4444444444444444,
             "#bd3786"
            ],
            [
             0.5555555555555556,
             "#d8576b"
            ],
            [
             0.6666666666666666,
             "#ed7953"
            ],
            [
             0.7777777777777778,
             "#fb9f3a"
            ],
            [
             0.8888888888888888,
             "#fdca26"
            ],
            [
             1,
             "#f0f921"
            ]
           ]
          },
          "colorway": [
           "#636efa",
           "#EF553B",
           "#00cc96",
           "#ab63fa",
           "#FFA15A",
           "#19d3f3",
           "#FF6692",
           "#B6E880",
           "#FF97FF",
           "#FECB52"
          ],
          "font": {
           "color": "#2a3f5f"
          },
          "geo": {
           "bgcolor": "white",
           "lakecolor": "white",
           "landcolor": "#E5ECF6",
           "showlakes": true,
           "showland": true,
           "subunitcolor": "white"
          },
          "hoverlabel": {
           "align": "left"
          },
          "hovermode": "closest",
          "mapbox": {
           "style": "light"
          },
          "paper_bgcolor": "white",
          "plot_bgcolor": "#E5ECF6",
          "polar": {
           "angularaxis": {
            "gridcolor": "white",
            "linecolor": "white",
            "ticks": ""
           },
           "bgcolor": "#E5ECF6",
           "radialaxis": {
            "gridcolor": "white",
            "linecolor": "white",
            "ticks": ""
           }
          },
          "scene": {
           "xaxis": {
            "backgroundcolor": "#E5ECF6",
            "gridcolor": "white",
            "gridwidth": 2,
            "linecolor": "white",
            "showbackground": true,
            "ticks": "",
            "zerolinecolor": "white"
           },
           "yaxis": {
            "backgroundcolor": "#E5ECF6",
            "gridcolor": "white",
            "gridwidth": 2,
            "linecolor": "white",
            "showbackground": true,
            "ticks": "",
            "zerolinecolor": "white"
           },
           "zaxis": {
            "backgroundcolor": "#E5ECF6",
            "gridcolor": "white",
            "gridwidth": 2,
            "linecolor": "white",
            "showbackground": true,
            "ticks": "",
            "zerolinecolor": "white"
           }
          },
          "shapedefaults": {
           "line": {
            "color": "#2a3f5f"
           }
          },
          "ternary": {
           "aaxis": {
            "gridcolor": "white",
            "linecolor": "white",
            "ticks": ""
           },
           "baxis": {
            "gridcolor": "white",
            "linecolor": "white",
            "ticks": ""
           },
           "bgcolor": "#E5ECF6",
           "caxis": {
            "gridcolor": "white",
            "linecolor": "white",
            "ticks": ""
           }
          },
          "title": {
           "x": 0.05
          },
          "xaxis": {
           "automargin": true,
           "gridcolor": "white",
           "linecolor": "white",
           "ticks": "",
           "title": {
            "standoff": 15
           },
           "zerolinecolor": "white",
           "zerolinewidth": 2
          },
          "yaxis": {
           "automargin": true,
           "gridcolor": "white",
           "linecolor": "white",
           "ticks": "",
           "title": {
            "standoff": 15
           },
           "zerolinecolor": "white",
           "zerolinewidth": 2
          }
         }
        },
        "title": {
         "text": "Week vs. Average Rank"
        },
        "xaxis": {
         "anchor": "y",
         "domain": [
          0,
          1
         ],
         "title": {
          "text": "Week"
         }
        },
        "yaxis": {
         "anchor": "x",
         "autorange": "reversed",
         "domain": [
          0,
          1
         ],
         "title": {
          "text": "Rank"
         }
        }
       }
      }
     },
     "metadata": {},
     "output_type": "display_data"
    }
   ],
   "source": [
    "import plotly.io as pio\n",
    "pio.renderers\n",
    "plot = px.scatter(test_df, x = 'Week', y = 'Rank', color = 'Team', trendline='ols', trendline_options=dict(log_x=True), title='Week vs. Average Rank')\n",
    "plot.update_yaxes(autorange = 'reversed')\n",
    "plot.show()"
   ]
  },
  {
   "cell_type": "code",
   "execution_count": 195,
   "metadata": {},
   "outputs": [],
   "source": [
    "merged_df.to_csv('Data/player_projections.csv')"
   ]
  },
  {
   "cell_type": "code",
   "execution_count": null,
   "metadata": {},
   "outputs": [],
   "source": []
  }
 ],
 "metadata": {
  "kernelspec": {
   "display_name": "Python 3.9.12 ('base')",
   "language": "python",
   "name": "python3"
  },
  "language_info": {
   "codemirror_mode": {
    "name": "ipython",
    "version": 3
   },
   "file_extension": ".py",
   "mimetype": "text/x-python",
   "name": "python",
   "nbconvert_exporter": "python",
   "pygments_lexer": "ipython3",
   "version": "3.9.12"
  },
  "orig_nbformat": 4,
  "vscode": {
   "interpreter": {
    "hash": "33a11755222a1f7d86ea2cf2f4dfdec365d04f7453605f968c7500575cda950b"
   }
  }
 },
 "nbformat": 4,
 "nbformat_minor": 2
}
