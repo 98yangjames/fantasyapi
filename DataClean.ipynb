{
 "cells": [
  {
   "cell_type": "code",
   "execution_count": 81,
   "id": "7cbcffd5",
   "metadata": {},
   "outputs": [],
   "source": [
    "# from espnapi.espn_api.football import League\n",
    "from espn_api.football import League\n",
    "import pandas as pd\n",
    "import plotly.express as px\n",
    "# Init\n",
    "\n",
    "#fan's - 42936131\n",
    "#mine - 829963546\n",
    "league_id = 829963546\n",
    "year = 2022\n",
    "league = League(league_id=league_id, year=year)\n",
    "\n"
   ]
  },
  {
   "cell_type": "markdown",
   "id": "7652f8c2",
   "metadata": {},
   "source": [
    "## Lets get the draft picks from each team"
   ]
  },
  {
   "cell_type": "code",
   "execution_count": 82,
   "id": "991911f8",
   "metadata": {},
   "outputs": [
    {
     "data": {
      "text/html": [
       "<div>\n",
       "<style scoped>\n",
       "    .dataframe tbody tr th:only-of-type {\n",
       "        vertical-align: middle;\n",
       "    }\n",
       "\n",
       "    .dataframe tbody tr th {\n",
       "        vertical-align: top;\n",
       "    }\n",
       "\n",
       "    .dataframe thead th {\n",
       "        text-align: right;\n",
       "    }\n",
       "</style>\n",
       "<table border=\"1\" class=\"dataframe\">\n",
       "  <thead>\n",
       "    <tr style=\"text-align: right;\">\n",
       "      <th></th>\n",
       "      <th>Team</th>\n",
       "      <th>Player</th>\n",
       "      <th>ID</th>\n",
       "      <th>RoundPick</th>\n",
       "      <th>RoundNum</th>\n",
       "    </tr>\n",
       "  </thead>\n",
       "  <tbody>\n",
       "    <tr>\n",
       "      <th>0</th>\n",
       "      <td>P-Town CASH KEVIN</td>\n",
       "      <td>Jonathan Taylor</td>\n",
       "      <td>4242335</td>\n",
       "      <td>1</td>\n",
       "      <td>1</td>\n",
       "    </tr>\n",
       "    <tr>\n",
       "      <th>1</th>\n",
       "      <td>Diggy Wit it</td>\n",
       "      <td>Christian McCaffrey</td>\n",
       "      <td>3117251</td>\n",
       "      <td>2</td>\n",
       "      <td>1</td>\n",
       "    </tr>\n",
       "    <tr>\n",
       "      <th>2</th>\n",
       "      <td>My Team  A Bust</td>\n",
       "      <td>Austin Ekeler</td>\n",
       "      <td>3068267</td>\n",
       "      <td>3</td>\n",
       "      <td>1</td>\n",
       "    </tr>\n",
       "    <tr>\n",
       "      <th>3</th>\n",
       "      <td>Eugene Tweakers</td>\n",
       "      <td>Cooper Kupp</td>\n",
       "      <td>2977187</td>\n",
       "      <td>4</td>\n",
       "      <td>1</td>\n",
       "    </tr>\n",
       "    <tr>\n",
       "      <th>4</th>\n",
       "      <td>Couv Reigning Champ</td>\n",
       "      <td>Dalvin Cook</td>\n",
       "      <td>3116593</td>\n",
       "      <td>5</td>\n",
       "      <td>1</td>\n",
       "    </tr>\n",
       "    <tr>\n",
       "      <th>5</th>\n",
       "      <td>Gorilla Guys</td>\n",
       "      <td>Derrick Henry</td>\n",
       "      <td>3043078</td>\n",
       "      <td>6</td>\n",
       "      <td>1</td>\n",
       "    </tr>\n",
       "    <tr>\n",
       "      <th>6</th>\n",
       "      <td>I dont know what im doing</td>\n",
       "      <td>Leonard Fournette</td>\n",
       "      <td>3115364</td>\n",
       "      <td>7</td>\n",
       "      <td>1</td>\n",
       "    </tr>\n",
       "    <tr>\n",
       "      <th>7</th>\n",
       "      <td>Cougar Town Zach Wilson</td>\n",
       "      <td>Deebo Samuel</td>\n",
       "      <td>3126486</td>\n",
       "      <td>8</td>\n",
       "      <td>1</td>\n",
       "    </tr>\n",
       "    <tr>\n",
       "      <th>8</th>\n",
       "      <td>No Nyugen Will Win</td>\n",
       "      <td>Najee Harris</td>\n",
       "      <td>4241457</td>\n",
       "      <td>9</td>\n",
       "      <td>1</td>\n",
       "    </tr>\n",
       "    <tr>\n",
       "      <th>9</th>\n",
       "      <td>Just-in-N-out Drive thru</td>\n",
       "      <td>Justin Jefferson</td>\n",
       "      <td>4262921</td>\n",
       "      <td>10</td>\n",
       "      <td>1</td>\n",
       "    </tr>\n",
       "  </tbody>\n",
       "</table>\n",
       "</div>"
      ],
      "text/plain": [
       "                        Team               Player       ID  RoundPick  \\\n",
       "0          P-Town CASH KEVIN      Jonathan Taylor  4242335          1   \n",
       "1               Diggy Wit it  Christian McCaffrey  3117251          2   \n",
       "2            My Team  A Bust        Austin Ekeler  3068267          3   \n",
       "3            Eugene Tweakers          Cooper Kupp  2977187          4   \n",
       "4        Couv Reigning Champ          Dalvin Cook  3116593          5   \n",
       "5               Gorilla Guys        Derrick Henry  3043078          6   \n",
       "6  I dont know what im doing    Leonard Fournette  3115364          7   \n",
       "7    Cougar Town Zach Wilson         Deebo Samuel  3126486          8   \n",
       "8         No Nyugen Will Win         Najee Harris  4241457          9   \n",
       "9   Just-in-N-out Drive thru     Justin Jefferson  4262921         10   \n",
       "\n",
       "   RoundNum  \n",
       "0         1  \n",
       "1         1  \n",
       "2         1  \n",
       "3         1  \n",
       "4         1  \n",
       "5         1  \n",
       "6         1  \n",
       "7         1  \n",
       "8         1  \n",
       "9         1  "
      ]
     },
     "execution_count": 82,
     "metadata": {},
     "output_type": "execute_result"
    }
   ],
   "source": [
    "df = pd.DataFrame()\n",
    "\n",
    "teams = []\n",
    "players = []\n",
    "id = []\n",
    "round_num = []\n",
    "round_pick = []\n",
    "\n",
    "\n",
    "for pick in league.draft:\n",
    "    teams.append(pick.team.team_name)\n",
    "    players.append(pick.playerName)\n",
    "    round_num.append(pick.round_num)\n",
    "    round_pick.append(pick.round_pick)\n",
    "    id.append(pick.playerId)\n",
    "    \n",
    "df['Team'] = teams\n",
    "df['Player'] = players\n",
    "df['ID'] = id\n",
    "df['RoundPick'] = round_pick\n",
    "df['RoundNum'] = round_num\n",
    "df.to_csv('Data/team_players.csv')\n",
    "df.head(10)"
   ]
  },
  {
   "cell_type": "markdown",
   "id": "e5019235",
   "metadata": {},
   "source": [
    "# Get projected points"
   ]
  },
  {
   "cell_type": "markdown",
   "id": "6fd12849",
   "metadata": {},
   "source": []
  },
  {
   "cell_type": "code",
   "execution_count": 83,
   "id": "d7a079ac",
   "metadata": {},
   "outputs": [],
   "source": [
    "players = []\n",
    "expected = []\n",
    "actual = []\n",
    "rank = []\n",
    "nfl_team = []\n",
    "for team in league.teams:\n",
    "    for player in team.roster:\n",
    "        players.append(player.name)\n",
    "        expected.append(player.projected_total_points)\n",
    "        actual.append(player.total_points)\n",
    "        rank.append(player.posRank)\n",
    "        nfl_team.append(player.proTeam)\n",
    "\n",
    "points_df = pd.DataFrame()\n",
    "points_df['Player'] = players\n",
    "points_df['Expected_Points'] = expected\n",
    "points_df['Actual_Points'] = actual\n",
    "points_df['Rank'] = rank\n",
    "points_df['NFLTeam'] = nfl_team\n",
    "\n"
   ]
  },
  {
   "cell_type": "code",
   "execution_count": 84,
   "id": "e7c4ae56",
   "metadata": {},
   "outputs": [],
   "source": [
    "points_df['Difference'] = points_df['Actual_Points'] - points_df['Expected_Points']"
   ]
  },
  {
   "cell_type": "code",
   "execution_count": null,
   "id": "fe372f91",
   "metadata": {},
   "outputs": [],
   "source": []
  },
  {
   "cell_type": "code",
   "execution_count": 85,
   "id": "9fe71611",
   "metadata": {},
   "outputs": [],
   "source": [
    "points_df = points_df.sort_values('Difference', ascending = False)\n"
   ]
  },
  {
   "cell_type": "code",
   "execution_count": null,
   "id": "a68f558e",
   "metadata": {},
   "outputs": [],
   "source": []
  },
  {
   "cell_type": "markdown",
   "id": "206884ce",
   "metadata": {},
   "source": [
    "# Export the CSV"
   ]
  },
  {
   "cell_type": "code",
   "execution_count": 86,
   "id": "a63b41d8",
   "metadata": {},
   "outputs": [
    {
     "data": {
      "text/html": [
       "<div>\n",
       "<style scoped>\n",
       "    .dataframe tbody tr th:only-of-type {\n",
       "        vertical-align: middle;\n",
       "    }\n",
       "\n",
       "    .dataframe tbody tr th {\n",
       "        vertical-align: top;\n",
       "    }\n",
       "\n",
       "    .dataframe thead th {\n",
       "        text-align: right;\n",
       "    }\n",
       "</style>\n",
       "<table border=\"1\" class=\"dataframe\">\n",
       "  <thead>\n",
       "    <tr style=\"text-align: right;\">\n",
       "      <th></th>\n",
       "      <th>Player</th>\n",
       "      <th>Expected_Points</th>\n",
       "      <th>Actual_Points</th>\n",
       "      <th>Rank</th>\n",
       "      <th>NFLTeam</th>\n",
       "      <th>Difference</th>\n",
       "    </tr>\n",
       "  </thead>\n",
       "  <tbody>\n",
       "    <tr>\n",
       "      <th>143</th>\n",
       "      <td>Jimmy Garoppolo</td>\n",
       "      <td>14.84</td>\n",
       "      <td>149.26</td>\n",
       "      <td>19</td>\n",
       "      <td>SF</td>\n",
       "      <td>134.42</td>\n",
       "    </tr>\n",
       "    <tr>\n",
       "      <th>80</th>\n",
       "      <td>Juwan Johnson</td>\n",
       "      <td>4.28</td>\n",
       "      <td>95.90</td>\n",
       "      <td>8</td>\n",
       "      <td>NO</td>\n",
       "      <td>91.62</td>\n",
       "    </tr>\n",
       "    <tr>\n",
       "      <th>113</th>\n",
       "      <td>Latavius Murray</td>\n",
       "      <td>0.00</td>\n",
       "      <td>69.00</td>\n",
       "      <td>45</td>\n",
       "      <td>DEN</td>\n",
       "      <td>69.00</td>\n",
       "    </tr>\n",
       "    <tr>\n",
       "      <th>158</th>\n",
       "      <td>Kenyan Drake</td>\n",
       "      <td>13.48</td>\n",
       "      <td>79.20</td>\n",
       "      <td>41</td>\n",
       "      <td>BAL</td>\n",
       "      <td>65.72</td>\n",
       "    </tr>\n",
       "    <tr>\n",
       "      <th>139</th>\n",
       "      <td>Jeff Wilson Jr.</td>\n",
       "      <td>50.21</td>\n",
       "      <td>112.40</td>\n",
       "      <td>23</td>\n",
       "      <td>MIA</td>\n",
       "      <td>62.19</td>\n",
       "    </tr>\n",
       "    <tr>\n",
       "      <th>14</th>\n",
       "      <td>Darius Slayton</td>\n",
       "      <td>15.93</td>\n",
       "      <td>77.30</td>\n",
       "      <td>57</td>\n",
       "      <td>NYG</td>\n",
       "      <td>61.37</td>\n",
       "    </tr>\n",
       "    <tr>\n",
       "      <th>93</th>\n",
       "      <td>Geno Smith</td>\n",
       "      <td>148.82</td>\n",
       "      <td>182.76</td>\n",
       "      <td>7</td>\n",
       "      <td>SEA</td>\n",
       "      <td>33.94</td>\n",
       "    </tr>\n",
       "    <tr>\n",
       "      <th>27</th>\n",
       "      <td>Marcus Mariota</td>\n",
       "      <td>141.19</td>\n",
       "      <td>172.32</td>\n",
       "      <td>9</td>\n",
       "      <td>ATL</td>\n",
       "      <td>31.13</td>\n",
       "    </tr>\n",
       "    <tr>\n",
       "      <th>76</th>\n",
       "      <td>Jamaal Williams</td>\n",
       "      <td>123.09</td>\n",
       "      <td>153.50</td>\n",
       "      <td>13</td>\n",
       "      <td>DET</td>\n",
       "      <td>30.41</td>\n",
       "    </tr>\n",
       "    <tr>\n",
       "      <th>159</th>\n",
       "      <td>Eno Benjamin</td>\n",
       "      <td>64.37</td>\n",
       "      <td>86.30</td>\n",
       "      <td>37</td>\n",
       "      <td>HOU</td>\n",
       "      <td>21.93</td>\n",
       "    </tr>\n",
       "  </tbody>\n",
       "</table>\n",
       "</div>"
      ],
      "text/plain": [
       "              Player  Expected_Points  Actual_Points  Rank NFLTeam  Difference\n",
       "143  Jimmy Garoppolo            14.84         149.26    19      SF      134.42\n",
       "80     Juwan Johnson             4.28          95.90     8      NO       91.62\n",
       "113  Latavius Murray             0.00          69.00    45     DEN       69.00\n",
       "158     Kenyan Drake            13.48          79.20    41     BAL       65.72\n",
       "139  Jeff Wilson Jr.            50.21         112.40    23     MIA       62.19\n",
       "14    Darius Slayton            15.93          77.30    57     NYG       61.37\n",
       "93        Geno Smith           148.82         182.76     7     SEA       33.94\n",
       "27    Marcus Mariota           141.19         172.32     9     ATL       31.13\n",
       "76   Jamaal Williams           123.09         153.50    13     DET       30.41\n",
       "159     Eno Benjamin            64.37          86.30    37     HOU       21.93"
      ]
     },
     "execution_count": 86,
     "metadata": {},
     "output_type": "execute_result"
    }
   ],
   "source": [
    "\n",
    "points_df.head(10)"
   ]
  },
  {
   "cell_type": "code",
   "execution_count": 87,
   "id": "590bab3b",
   "metadata": {},
   "outputs": [
    {
     "data": {
      "text/html": [
       "<div>\n",
       "<style scoped>\n",
       "    .dataframe tbody tr th:only-of-type {\n",
       "        vertical-align: middle;\n",
       "    }\n",
       "\n",
       "    .dataframe tbody tr th {\n",
       "        vertical-align: top;\n",
       "    }\n",
       "\n",
       "    .dataframe thead th {\n",
       "        text-align: right;\n",
       "    }\n",
       "</style>\n",
       "<table border=\"1\" class=\"dataframe\">\n",
       "  <thead>\n",
       "    <tr style=\"text-align: right;\">\n",
       "      <th></th>\n",
       "      <th>Team</th>\n",
       "      <th>Player</th>\n",
       "      <th>ID</th>\n",
       "      <th>RoundPick</th>\n",
       "      <th>RoundNum</th>\n",
       "      <th>Expected_Points</th>\n",
       "      <th>Actual_Points</th>\n",
       "      <th>Rank</th>\n",
       "      <th>NFLTeam</th>\n",
       "      <th>Difference</th>\n",
       "    </tr>\n",
       "  </thead>\n",
       "  <tbody>\n",
       "    <tr>\n",
       "      <th>0</th>\n",
       "      <td>P-Town CASH KEVIN</td>\n",
       "      <td>Jonathan Taylor</td>\n",
       "      <td>4242335</td>\n",
       "      <td>1</td>\n",
       "      <td>1</td>\n",
       "      <td>316.99</td>\n",
       "      <td>112.00</td>\n",
       "      <td>24</td>\n",
       "      <td>IND</td>\n",
       "      <td>-204.99</td>\n",
       "    </tr>\n",
       "    <tr>\n",
       "      <th>1</th>\n",
       "      <td>Diggy Wit it</td>\n",
       "      <td>Christian McCaffrey</td>\n",
       "      <td>3117251</td>\n",
       "      <td>2</td>\n",
       "      <td>1</td>\n",
       "      <td>309.94</td>\n",
       "      <td>201.76</td>\n",
       "      <td>3</td>\n",
       "      <td>SF</td>\n",
       "      <td>-108.18</td>\n",
       "    </tr>\n",
       "    <tr>\n",
       "      <th>2</th>\n",
       "      <td>My Team  A Bust</td>\n",
       "      <td>Austin Ekeler</td>\n",
       "      <td>3068267</td>\n",
       "      <td>3</td>\n",
       "      <td>1</td>\n",
       "      <td>284.73</td>\n",
       "      <td>230.10</td>\n",
       "      <td>1</td>\n",
       "      <td>LAC</td>\n",
       "      <td>-54.63</td>\n",
       "    </tr>\n",
       "    <tr>\n",
       "      <th>3</th>\n",
       "      <td>Eugene Tweakers</td>\n",
       "      <td>Cooper Kupp</td>\n",
       "      <td>2977187</td>\n",
       "      <td>4</td>\n",
       "      <td>1</td>\n",
       "      <td>312.91</td>\n",
       "      <td>201.40</td>\n",
       "      <td>5</td>\n",
       "      <td>LAR</td>\n",
       "      <td>-111.51</td>\n",
       "    </tr>\n",
       "    <tr>\n",
       "      <th>4</th>\n",
       "      <td>Couv Reigning Champ</td>\n",
       "      <td>Dalvin Cook</td>\n",
       "      <td>3116593</td>\n",
       "      <td>5</td>\n",
       "      <td>1</td>\n",
       "      <td>258.49</td>\n",
       "      <td>156.50</td>\n",
       "      <td>11</td>\n",
       "      <td>MIN</td>\n",
       "      <td>-101.99</td>\n",
       "    </tr>\n",
       "    <tr>\n",
       "      <th>5</th>\n",
       "      <td>Gorilla Guys</td>\n",
       "      <td>Derrick Henry</td>\n",
       "      <td>3043078</td>\n",
       "      <td>6</td>\n",
       "      <td>1</td>\n",
       "      <td>264.47</td>\n",
       "      <td>203.06</td>\n",
       "      <td>2</td>\n",
       "      <td>TEN</td>\n",
       "      <td>-61.41</td>\n",
       "    </tr>\n",
       "    <tr>\n",
       "      <th>6</th>\n",
       "      <td>I dont know what im doing</td>\n",
       "      <td>Leonard Fournette</td>\n",
       "      <td>3115364</td>\n",
       "      <td>7</td>\n",
       "      <td>1</td>\n",
       "      <td>258.74</td>\n",
       "      <td>154.70</td>\n",
       "      <td>12</td>\n",
       "      <td>TB</td>\n",
       "      <td>-104.04</td>\n",
       "    </tr>\n",
       "    <tr>\n",
       "      <th>7</th>\n",
       "      <td>Cougar Town Zach Wilson</td>\n",
       "      <td>Deebo Samuel</td>\n",
       "      <td>3126486</td>\n",
       "      <td>8</td>\n",
       "      <td>1</td>\n",
       "      <td>261.46</td>\n",
       "      <td>130.00</td>\n",
       "      <td>21</td>\n",
       "      <td>SF</td>\n",
       "      <td>-131.46</td>\n",
       "    </tr>\n",
       "    <tr>\n",
       "      <th>8</th>\n",
       "      <td>No Nyugen Will Win</td>\n",
       "      <td>Najee Harris</td>\n",
       "      <td>4241457</td>\n",
       "      <td>9</td>\n",
       "      <td>1</td>\n",
       "      <td>265.48</td>\n",
       "      <td>124.96</td>\n",
       "      <td>20</td>\n",
       "      <td>PIT</td>\n",
       "      <td>-140.52</td>\n",
       "    </tr>\n",
       "    <tr>\n",
       "      <th>9</th>\n",
       "      <td>Just-in-N-out Drive thru</td>\n",
       "      <td>Justin Jefferson</td>\n",
       "      <td>4262921</td>\n",
       "      <td>10</td>\n",
       "      <td>1</td>\n",
       "      <td>287.80</td>\n",
       "      <td>215.52</td>\n",
       "      <td>4</td>\n",
       "      <td>MIN</td>\n",
       "      <td>-72.28</td>\n",
       "    </tr>\n",
       "  </tbody>\n",
       "</table>\n",
       "</div>"
      ],
      "text/plain": [
       "                        Team               Player       ID  RoundPick  \\\n",
       "0          P-Town CASH KEVIN      Jonathan Taylor  4242335          1   \n",
       "1               Diggy Wit it  Christian McCaffrey  3117251          2   \n",
       "2            My Team  A Bust        Austin Ekeler  3068267          3   \n",
       "3            Eugene Tweakers          Cooper Kupp  2977187          4   \n",
       "4        Couv Reigning Champ          Dalvin Cook  3116593          5   \n",
       "5               Gorilla Guys        Derrick Henry  3043078          6   \n",
       "6  I dont know what im doing    Leonard Fournette  3115364          7   \n",
       "7    Cougar Town Zach Wilson         Deebo Samuel  3126486          8   \n",
       "8         No Nyugen Will Win         Najee Harris  4241457          9   \n",
       "9   Just-in-N-out Drive thru     Justin Jefferson  4262921         10   \n",
       "\n",
       "   RoundNum  Expected_Points  Actual_Points  Rank NFLTeam  Difference  \n",
       "0         1           316.99         112.00    24     IND     -204.99  \n",
       "1         1           309.94         201.76     3      SF     -108.18  \n",
       "2         1           284.73         230.10     1     LAC      -54.63  \n",
       "3         1           312.91         201.40     5     LAR     -111.51  \n",
       "4         1           258.49         156.50    11     MIN     -101.99  \n",
       "5         1           264.47         203.06     2     TEN      -61.41  \n",
       "6         1           258.74         154.70    12      TB     -104.04  \n",
       "7         1           261.46         130.00    21      SF     -131.46  \n",
       "8         1           265.48         124.96    20     PIT     -140.52  \n",
       "9         1           287.80         215.52     4     MIN      -72.28  "
      ]
     },
     "execution_count": 87,
     "metadata": {},
     "output_type": "execute_result"
    }
   ],
   "source": [
    "combined_df = pd.merge(df, points_df, on = 'Player')\n",
    "combined_df.head(10)"
   ]
  },
  {
   "cell_type": "code",
   "execution_count": null,
   "id": "25d8106d",
   "metadata": {},
   "outputs": [],
   "source": []
  },
  {
   "cell_type": "code",
   "execution_count": null,
   "id": "581e6acd",
   "metadata": {},
   "outputs": [],
   "source": []
  },
  {
   "cell_type": "code",
   "execution_count": 88,
   "id": "b0c84971",
   "metadata": {},
   "outputs": [],
   "source": [
    "#normalize\n",
    "combined_df['Normalized_Difference'] = combined_df['Difference'] /combined_df['Difference'].abs().max()\n",
    "  "
   ]
  },
  {
   "cell_type": "code",
   "execution_count": 89,
   "id": "f85e95c1",
   "metadata": {},
   "outputs": [
    {
     "data": {
      "text/html": [
       "<div>\n",
       "<style scoped>\n",
       "    .dataframe tbody tr th:only-of-type {\n",
       "        vertical-align: middle;\n",
       "    }\n",
       "\n",
       "    .dataframe tbody tr th {\n",
       "        vertical-align: top;\n",
       "    }\n",
       "\n",
       "    .dataframe thead th {\n",
       "        text-align: right;\n",
       "    }\n",
       "</style>\n",
       "<table border=\"1\" class=\"dataframe\">\n",
       "  <thead>\n",
       "    <tr style=\"text-align: right;\">\n",
       "      <th></th>\n",
       "      <th>Team</th>\n",
       "      <th>Player</th>\n",
       "      <th>ID</th>\n",
       "      <th>RoundPick</th>\n",
       "      <th>RoundNum</th>\n",
       "      <th>Expected_Points</th>\n",
       "      <th>Actual_Points</th>\n",
       "      <th>Rank</th>\n",
       "      <th>NFLTeam</th>\n",
       "      <th>Difference</th>\n",
       "      <th>Normalized_Difference</th>\n",
       "    </tr>\n",
       "  </thead>\n",
       "  <tbody>\n",
       "    <tr>\n",
       "      <th>0</th>\n",
       "      <td>P-Town CASH KEVIN</td>\n",
       "      <td>Jonathan Taylor</td>\n",
       "      <td>4242335</td>\n",
       "      <td>1</td>\n",
       "      <td>1</td>\n",
       "      <td>316.99</td>\n",
       "      <td>112.00</td>\n",
       "      <td>24</td>\n",
       "      <td>IND</td>\n",
       "      <td>-204.99</td>\n",
       "      <td>-0.912933</td>\n",
       "    </tr>\n",
       "    <tr>\n",
       "      <th>1</th>\n",
       "      <td>Diggy Wit it</td>\n",
       "      <td>Christian McCaffrey</td>\n",
       "      <td>3117251</td>\n",
       "      <td>2</td>\n",
       "      <td>1</td>\n",
       "      <td>309.94</td>\n",
       "      <td>201.76</td>\n",
       "      <td>3</td>\n",
       "      <td>SF</td>\n",
       "      <td>-108.18</td>\n",
       "      <td>-0.481785</td>\n",
       "    </tr>\n",
       "    <tr>\n",
       "      <th>2</th>\n",
       "      <td>My Team  A Bust</td>\n",
       "      <td>Austin Ekeler</td>\n",
       "      <td>3068267</td>\n",
       "      <td>3</td>\n",
       "      <td>1</td>\n",
       "      <td>284.73</td>\n",
       "      <td>230.10</td>\n",
       "      <td>1</td>\n",
       "      <td>LAC</td>\n",
       "      <td>-54.63</td>\n",
       "      <td>-0.243297</td>\n",
       "    </tr>\n",
       "    <tr>\n",
       "      <th>3</th>\n",
       "      <td>Eugene Tweakers</td>\n",
       "      <td>Cooper Kupp</td>\n",
       "      <td>2977187</td>\n",
       "      <td>4</td>\n",
       "      <td>1</td>\n",
       "      <td>312.91</td>\n",
       "      <td>201.40</td>\n",
       "      <td>5</td>\n",
       "      <td>LAR</td>\n",
       "      <td>-111.51</td>\n",
       "      <td>-0.496615</td>\n",
       "    </tr>\n",
       "    <tr>\n",
       "      <th>4</th>\n",
       "      <td>Couv Reigning Champ</td>\n",
       "      <td>Dalvin Cook</td>\n",
       "      <td>3116593</td>\n",
       "      <td>5</td>\n",
       "      <td>1</td>\n",
       "      <td>258.49</td>\n",
       "      <td>156.50</td>\n",
       "      <td>11</td>\n",
       "      <td>MIN</td>\n",
       "      <td>-101.99</td>\n",
       "      <td>-0.454218</td>\n",
       "    </tr>\n",
       "    <tr>\n",
       "      <th>...</th>\n",
       "      <td>...</td>\n",
       "      <td>...</td>\n",
       "      <td>...</td>\n",
       "      <td>...</td>\n",
       "      <td>...</td>\n",
       "      <td>...</td>\n",
       "      <td>...</td>\n",
       "      <td>...</td>\n",
       "      <td>...</td>\n",
       "      <td>...</td>\n",
       "      <td>...</td>\n",
       "    </tr>\n",
       "    <tr>\n",
       "      <th>113</th>\n",
       "      <td>Eugene Tweakers</td>\n",
       "      <td>Cowboys D/ST</td>\n",
       "      <td>-16006</td>\n",
       "      <td>4</td>\n",
       "      <td>15</td>\n",
       "      <td>106.49</td>\n",
       "      <td>109.00</td>\n",
       "      <td>2</td>\n",
       "      <td>DAL</td>\n",
       "      <td>2.51</td>\n",
       "      <td>0.011178</td>\n",
       "    </tr>\n",
       "    <tr>\n",
       "      <th>114</th>\n",
       "      <td>Couv Reigning Champ</td>\n",
       "      <td>Harrison Butker</td>\n",
       "      <td>3055899</td>\n",
       "      <td>5</td>\n",
       "      <td>15</td>\n",
       "      <td>145.15</td>\n",
       "      <td>47.00</td>\n",
       "      <td>29</td>\n",
       "      <td>KC</td>\n",
       "      <td>-98.15</td>\n",
       "      <td>-0.437116</td>\n",
       "    </tr>\n",
       "    <tr>\n",
       "      <th>115</th>\n",
       "      <td>Cougar Town Zach Wilson</td>\n",
       "      <td>Brian Robinson Jr.</td>\n",
       "      <td>4241474</td>\n",
       "      <td>8</td>\n",
       "      <td>15</td>\n",
       "      <td>102.87</td>\n",
       "      <td>52.90</td>\n",
       "      <td>52</td>\n",
       "      <td>WSH</td>\n",
       "      <td>-49.97</td>\n",
       "      <td>-0.222544</td>\n",
       "    </tr>\n",
       "    <tr>\n",
       "      <th>116</th>\n",
       "      <td>No Nyugen Will Win</td>\n",
       "      <td>Christian Watson</td>\n",
       "      <td>4248528</td>\n",
       "      <td>2</td>\n",
       "      <td>16</td>\n",
       "      <td>108.76</td>\n",
       "      <td>80.50</td>\n",
       "      <td>53</td>\n",
       "      <td>GB</td>\n",
       "      <td>-28.26</td>\n",
       "      <td>-0.125857</td>\n",
       "    </tr>\n",
       "    <tr>\n",
       "      <th>117</th>\n",
       "      <td>My Team  A Bust</td>\n",
       "      <td>Colts D/ST</td>\n",
       "      <td>-16011</td>\n",
       "      <td>8</td>\n",
       "      <td>16</td>\n",
       "      <td>108.70</td>\n",
       "      <td>66.00</td>\n",
       "      <td>12</td>\n",
       "      <td>IND</td>\n",
       "      <td>-42.70</td>\n",
       "      <td>-0.190167</td>\n",
       "    </tr>\n",
       "  </tbody>\n",
       "</table>\n",
       "<p>118 rows × 11 columns</p>\n",
       "</div>"
      ],
      "text/plain": [
       "                        Team               Player       ID  RoundPick  \\\n",
       "0          P-Town CASH KEVIN      Jonathan Taylor  4242335          1   \n",
       "1               Diggy Wit it  Christian McCaffrey  3117251          2   \n",
       "2            My Team  A Bust        Austin Ekeler  3068267          3   \n",
       "3            Eugene Tweakers          Cooper Kupp  2977187          4   \n",
       "4        Couv Reigning Champ          Dalvin Cook  3116593          5   \n",
       "..                       ...                  ...      ...        ...   \n",
       "113          Eugene Tweakers         Cowboys D/ST   -16006          4   \n",
       "114      Couv Reigning Champ      Harrison Butker  3055899          5   \n",
       "115  Cougar Town Zach Wilson   Brian Robinson Jr.  4241474          8   \n",
       "116       No Nyugen Will Win     Christian Watson  4248528          2   \n",
       "117          My Team  A Bust           Colts D/ST   -16011          8   \n",
       "\n",
       "     RoundNum  Expected_Points  Actual_Points  Rank NFLTeam  Difference  \\\n",
       "0           1           316.99         112.00    24     IND     -204.99   \n",
       "1           1           309.94         201.76     3      SF     -108.18   \n",
       "2           1           284.73         230.10     1     LAC      -54.63   \n",
       "3           1           312.91         201.40     5     LAR     -111.51   \n",
       "4           1           258.49         156.50    11     MIN     -101.99   \n",
       "..        ...              ...            ...   ...     ...         ...   \n",
       "113        15           106.49         109.00     2     DAL        2.51   \n",
       "114        15           145.15          47.00    29      KC      -98.15   \n",
       "115        15           102.87          52.90    52     WSH      -49.97   \n",
       "116        16           108.76          80.50    53      GB      -28.26   \n",
       "117        16           108.70          66.00    12     IND      -42.70   \n",
       "\n",
       "     Normalized_Difference  \n",
       "0                -0.912933  \n",
       "1                -0.481785  \n",
       "2                -0.243297  \n",
       "3                -0.496615  \n",
       "4                -0.454218  \n",
       "..                     ...  \n",
       "113               0.011178  \n",
       "114              -0.437116  \n",
       "115              -0.222544  \n",
       "116              -0.125857  \n",
       "117              -0.190167  \n",
       "\n",
       "[118 rows x 11 columns]"
      ]
     },
     "execution_count": 89,
     "metadata": {},
     "output_type": "execute_result"
    }
   ],
   "source": [
    "combined_df"
   ]
  },
  {
   "cell_type": "markdown",
   "id": "90734b61",
   "metadata": {},
   "source": [
    "# Now get their actual players"
   ]
  },
  {
   "cell_type": "code",
   "execution_count": 90,
   "id": "b81c77c5",
   "metadata": {},
   "outputs": [],
   "source": [
    "teams = []\n",
    "players = []\n",
    "projected = []\n",
    "actual = []\n",
    "stats = []\n",
    "ranks = []\n",
    "weeks = []\n",
    "current_df = pd.DataFrame()\n",
    "for i in range(1, 13):\n",
    "    league.load_roster_week(i)\n",
    "    for team in league.teams:\n",
    "        for player in team.roster:\n",
    "            weeks.append(i)\n",
    "            teams.append(team.team_name)\n",
    "            players.append(player.name)\n",
    "            projected.append(player.projected_total_points)\n",
    "            actual.append(player.total_points)\n",
    "            ranks.append(player.posRank)\n",
    "\n",
    "current_df['Team'] = teams\n",
    "current_df['Player'] = players\n",
    "current_df['Week'] = weeks\n",
    "current_df['Rank'] = ranks\n",
    "current_df['Expected_Points'] = projected\n",
    "current_df['Actual_Points'] = actual\n",
    "current_df['Week'] = weeks\n",
    "current_df['Difference'] = current_df['Actual_Points'] - current_df['Expected_Points']"
   ]
  },
  {
   "cell_type": "markdown",
   "id": "3e548134",
   "metadata": {},
   "source": [
    "\n"
   ]
  },
  {
   "cell_type": "code",
   "execution_count": 91,
   "id": "2469ef39",
   "metadata": {},
   "outputs": [],
   "source": [
    "current_df.to_csv('Data/current_players.csv')"
   ]
  },
  {
   "cell_type": "code",
   "execution_count": 92,
   "id": "b468c104",
   "metadata": {},
   "outputs": [
    {
     "data": {
      "text/html": [
       "<div>\n",
       "<style scoped>\n",
       "    .dataframe tbody tr th:only-of-type {\n",
       "        vertical-align: middle;\n",
       "    }\n",
       "\n",
       "    .dataframe tbody tr th {\n",
       "        vertical-align: top;\n",
       "    }\n",
       "\n",
       "    .dataframe thead th {\n",
       "        text-align: right;\n",
       "    }\n",
       "</style>\n",
       "<table border=\"1\" class=\"dataframe\">\n",
       "  <thead>\n",
       "    <tr style=\"text-align: right;\">\n",
       "      <th></th>\n",
       "      <th>ID</th>\n",
       "      <th>RoundPick</th>\n",
       "      <th>RoundNum</th>\n",
       "      <th>Expected_Points</th>\n",
       "      <th>Actual_Points</th>\n",
       "      <th>Rank</th>\n",
       "      <th>Difference</th>\n",
       "      <th>Normalized_Difference</th>\n",
       "    </tr>\n",
       "    <tr>\n",
       "      <th>Team</th>\n",
       "      <th></th>\n",
       "      <th></th>\n",
       "      <th></th>\n",
       "      <th></th>\n",
       "      <th></th>\n",
       "      <th></th>\n",
       "      <th></th>\n",
       "      <th></th>\n",
       "    </tr>\n",
       "  </thead>\n",
       "  <tbody>\n",
       "    <tr>\n",
       "      <th>Cougar Town Zach Wilson</th>\n",
       "      <td>3.490025e+06</td>\n",
       "      <td>5.916667</td>\n",
       "      <td>7.083333</td>\n",
       "      <td>196.603333</td>\n",
       "      <td>99.983333</td>\n",
       "      <td>27.750000</td>\n",
       "      <td>-96.620000</td>\n",
       "      <td>-0.430302</td>\n",
       "    </tr>\n",
       "    <tr>\n",
       "      <th>Couv Reigning Champ</th>\n",
       "      <td>3.366947e+06</td>\n",
       "      <td>5.500000</td>\n",
       "      <td>7.700000</td>\n",
       "      <td>208.813000</td>\n",
       "      <td>118.552000</td>\n",
       "      <td>21.100000</td>\n",
       "      <td>-90.261000</td>\n",
       "      <td>-0.401982</td>\n",
       "    </tr>\n",
       "    <tr>\n",
       "      <th>Diggy Wit it</th>\n",
       "      <td>2.472610e+06</td>\n",
       "      <td>5.500000</td>\n",
       "      <td>7.333333</td>\n",
       "      <td>202.690833</td>\n",
       "      <td>116.321667</td>\n",
       "      <td>25.083333</td>\n",
       "      <td>-86.369167</td>\n",
       "      <td>-0.384649</td>\n",
       "    </tr>\n",
       "    <tr>\n",
       "      <th>Eugene Tweakers</th>\n",
       "      <td>2.832234e+06</td>\n",
       "      <td>5.384615</td>\n",
       "      <td>7.153846</td>\n",
       "      <td>222.665385</td>\n",
       "      <td>108.844615</td>\n",
       "      <td>32.538462</td>\n",
       "      <td>-113.820769</td>\n",
       "      <td>-0.506906</td>\n",
       "    </tr>\n",
       "    <tr>\n",
       "      <th>Gorilla Guys</th>\n",
       "      <td>2.992381e+06</td>\n",
       "      <td>5.545455</td>\n",
       "      <td>6.000000</td>\n",
       "      <td>213.820909</td>\n",
       "      <td>137.067273</td>\n",
       "      <td>26.818182</td>\n",
       "      <td>-76.753636</td>\n",
       "      <td>-0.341826</td>\n",
       "    </tr>\n",
       "    <tr>\n",
       "      <th>I dont know what im doing</th>\n",
       "      <td>1.888404e+06</td>\n",
       "      <td>5.090909</td>\n",
       "      <td>6.545455</td>\n",
       "      <td>195.667273</td>\n",
       "      <td>125.383636</td>\n",
       "      <td>19.909091</td>\n",
       "      <td>-70.283636</td>\n",
       "      <td>-0.313012</td>\n",
       "    </tr>\n",
       "    <tr>\n",
       "      <th>Just-in-N-out Drive thru</th>\n",
       "      <td>3.285116e+06</td>\n",
       "      <td>5.090909</td>\n",
       "      <td>6.272727</td>\n",
       "      <td>206.675455</td>\n",
       "      <td>150.721818</td>\n",
       "      <td>10.545455</td>\n",
       "      <td>-55.953636</td>\n",
       "      <td>-0.249192</td>\n",
       "    </tr>\n",
       "    <tr>\n",
       "      <th>My Team  A Bust</th>\n",
       "      <td>3.666029e+06</td>\n",
       "      <td>5.500000</td>\n",
       "      <td>8.500000</td>\n",
       "      <td>193.085000</td>\n",
       "      <td>128.234286</td>\n",
       "      <td>21.214286</td>\n",
       "      <td>-64.850714</td>\n",
       "      <td>-0.288816</td>\n",
       "    </tr>\n",
       "    <tr>\n",
       "      <th>No Nyugen Will Win</th>\n",
       "      <td>3.494793e+06</td>\n",
       "      <td>5.230769</td>\n",
       "      <td>8.461538</td>\n",
       "      <td>193.516154</td>\n",
       "      <td>119.118462</td>\n",
       "      <td>21.461538</td>\n",
       "      <td>-74.397692</td>\n",
       "      <td>-0.331334</td>\n",
       "    </tr>\n",
       "    <tr>\n",
       "      <th>P-Town CASH KEVIN</th>\n",
       "      <td>3.439061e+06</td>\n",
       "      <td>5.090909</td>\n",
       "      <td>6.545455</td>\n",
       "      <td>230.970909</td>\n",
       "      <td>159.712727</td>\n",
       "      <td>15.090909</td>\n",
       "      <td>-71.258182</td>\n",
       "      <td>-0.317352</td>\n",
       "    </tr>\n",
       "  </tbody>\n",
       "</table>\n",
       "</div>"
      ],
      "text/plain": [
       "                                     ID  RoundPick  RoundNum  Expected_Points  \\\n",
       "Team                                                                            \n",
       "Cougar Town Zach Wilson    3.490025e+06   5.916667  7.083333       196.603333   \n",
       "Couv Reigning Champ        3.366947e+06   5.500000  7.700000       208.813000   \n",
       "Diggy Wit it               2.472610e+06   5.500000  7.333333       202.690833   \n",
       "Eugene Tweakers            2.832234e+06   5.384615  7.153846       222.665385   \n",
       "Gorilla Guys               2.992381e+06   5.545455  6.000000       213.820909   \n",
       "I dont know what im doing  1.888404e+06   5.090909  6.545455       195.667273   \n",
       "Just-in-N-out Drive thru   3.285116e+06   5.090909  6.272727       206.675455   \n",
       "My Team  A Bust            3.666029e+06   5.500000  8.500000       193.085000   \n",
       "No Nyugen Will Win         3.494793e+06   5.230769  8.461538       193.516154   \n",
       "P-Town CASH KEVIN          3.439061e+06   5.090909  6.545455       230.970909   \n",
       "\n",
       "                           Actual_Points       Rank  Difference  \\\n",
       "Team                                                              \n",
       "Cougar Town Zach Wilson        99.983333  27.750000  -96.620000   \n",
       "Couv Reigning Champ           118.552000  21.100000  -90.261000   \n",
       "Diggy Wit it                  116.321667  25.083333  -86.369167   \n",
       "Eugene Tweakers               108.844615  32.538462 -113.820769   \n",
       "Gorilla Guys                  137.067273  26.818182  -76.753636   \n",
       "I dont know what im doing     125.383636  19.909091  -70.283636   \n",
       "Just-in-N-out Drive thru      150.721818  10.545455  -55.953636   \n",
       "My Team  A Bust               128.234286  21.214286  -64.850714   \n",
       "No Nyugen Will Win            119.118462  21.461538  -74.397692   \n",
       "P-Town CASH KEVIN             159.712727  15.090909  -71.258182   \n",
       "\n",
       "                           Normalized_Difference  \n",
       "Team                                              \n",
       "Cougar Town Zach Wilson                -0.430302  \n",
       "Couv Reigning Champ                    -0.401982  \n",
       "Diggy Wit it                           -0.384649  \n",
       "Eugene Tweakers                        -0.506906  \n",
       "Gorilla Guys                           -0.341826  \n",
       "I dont know what im doing              -0.313012  \n",
       "Just-in-N-out Drive thru               -0.249192  \n",
       "My Team  A Bust                        -0.288816  \n",
       "No Nyugen Will Win                     -0.331334  \n",
       "P-Town CASH KEVIN                      -0.317352  "
      ]
     },
     "execution_count": 92,
     "metadata": {},
     "output_type": "execute_result"
    }
   ],
   "source": [
    "combined_df.groupby('Team').mean()"
   ]
  },
  {
   "cell_type": "code",
   "execution_count": 93,
   "id": "0ab47440",
   "metadata": {},
   "outputs": [
    {
     "data": {
      "text/html": [
       "<div>\n",
       "<style scoped>\n",
       "    .dataframe tbody tr th:only-of-type {\n",
       "        vertical-align: middle;\n",
       "    }\n",
       "\n",
       "    .dataframe tbody tr th {\n",
       "        vertical-align: top;\n",
       "    }\n",
       "\n",
       "    .dataframe thead th {\n",
       "        text-align: right;\n",
       "    }\n",
       "</style>\n",
       "<table border=\"1\" class=\"dataframe\">\n",
       "  <thead>\n",
       "    <tr style=\"text-align: right;\">\n",
       "      <th></th>\n",
       "      <th>Week</th>\n",
       "      <th>Rank</th>\n",
       "      <th>Expected_Points</th>\n",
       "      <th>Actual_Points</th>\n",
       "      <th>Difference</th>\n",
       "    </tr>\n",
       "    <tr>\n",
       "      <th>Team</th>\n",
       "      <th></th>\n",
       "      <th></th>\n",
       "      <th></th>\n",
       "      <th></th>\n",
       "      <th></th>\n",
       "    </tr>\n",
       "  </thead>\n",
       "  <tbody>\n",
       "    <tr>\n",
       "      <th>Cougar Town Zach Wilson</th>\n",
       "      <td>6.527094</td>\n",
       "      <td>31.802956</td>\n",
       "      <td>194.378227</td>\n",
       "      <td>97.572611</td>\n",
       "      <td>-96.805616</td>\n",
       "    </tr>\n",
       "    <tr>\n",
       "      <th>Eugene Tweakers</th>\n",
       "      <td>6.447368</td>\n",
       "      <td>33.900000</td>\n",
       "      <td>189.636842</td>\n",
       "      <td>98.875789</td>\n",
       "      <td>-90.761053</td>\n",
       "    </tr>\n",
       "    <tr>\n",
       "      <th>Couv Reigning Champ</th>\n",
       "      <td>6.495050</td>\n",
       "      <td>28.881188</td>\n",
       "      <td>180.210446</td>\n",
       "      <td>104.569703</td>\n",
       "      <td>-75.640743</td>\n",
       "    </tr>\n",
       "    <tr>\n",
       "      <th>Gorilla Guys</th>\n",
       "      <td>6.472637</td>\n",
       "      <td>29.253731</td>\n",
       "      <td>188.215473</td>\n",
       "      <td>112.961095</td>\n",
       "      <td>-75.254378</td>\n",
       "    </tr>\n",
       "    <tr>\n",
       "      <th>P-Town CASH KEVIN</th>\n",
       "      <td>6.578680</td>\n",
       "      <td>25.913706</td>\n",
       "      <td>195.822843</td>\n",
       "      <td>124.936447</td>\n",
       "      <td>-70.886396</td>\n",
       "    </tr>\n",
       "    <tr>\n",
       "      <th>Diggy Wit it</th>\n",
       "      <td>6.500000</td>\n",
       "      <td>22.946078</td>\n",
       "      <td>174.889608</td>\n",
       "      <td>106.399804</td>\n",
       "      <td>-68.489804</td>\n",
       "    </tr>\n",
       "    <tr>\n",
       "      <th>No Nyugen Will Win</th>\n",
       "      <td>6.477387</td>\n",
       "      <td>25.949749</td>\n",
       "      <td>171.245930</td>\n",
       "      <td>106.951759</td>\n",
       "      <td>-64.294171</td>\n",
       "    </tr>\n",
       "    <tr>\n",
       "      <th>I dont know what im doing</th>\n",
       "      <td>6.507692</td>\n",
       "      <td>23.194872</td>\n",
       "      <td>177.935590</td>\n",
       "      <td>115.559795</td>\n",
       "      <td>-62.375795</td>\n",
       "    </tr>\n",
       "    <tr>\n",
       "      <th>My Team  A Bust</th>\n",
       "      <td>6.497537</td>\n",
       "      <td>25.940887</td>\n",
       "      <td>174.563990</td>\n",
       "      <td>115.705123</td>\n",
       "      <td>-58.858867</td>\n",
       "    </tr>\n",
       "    <tr>\n",
       "      <th>Just-in-N-out Drive thru</th>\n",
       "      <td>6.553846</td>\n",
       "      <td>18.523077</td>\n",
       "      <td>178.095538</td>\n",
       "      <td>124.640000</td>\n",
       "      <td>-53.455538</td>\n",
       "    </tr>\n",
       "  </tbody>\n",
       "</table>\n",
       "</div>"
      ],
      "text/plain": [
       "                               Week       Rank  Expected_Points  \\\n",
       "Team                                                              \n",
       "Cougar Town Zach Wilson    6.527094  31.802956       194.378227   \n",
       "Eugene Tweakers            6.447368  33.900000       189.636842   \n",
       "Couv Reigning Champ        6.495050  28.881188       180.210446   \n",
       "Gorilla Guys               6.472637  29.253731       188.215473   \n",
       "P-Town CASH KEVIN          6.578680  25.913706       195.822843   \n",
       "Diggy Wit it               6.500000  22.946078       174.889608   \n",
       "No Nyugen Will Win         6.477387  25.949749       171.245930   \n",
       "I dont know what im doing  6.507692  23.194872       177.935590   \n",
       "My Team  A Bust            6.497537  25.940887       174.563990   \n",
       "Just-in-N-out Drive thru   6.553846  18.523077       178.095538   \n",
       "\n",
       "                           Actual_Points  Difference  \n",
       "Team                                                  \n",
       "Cougar Town Zach Wilson        97.572611  -96.805616  \n",
       "Eugene Tweakers                98.875789  -90.761053  \n",
       "Couv Reigning Champ           104.569703  -75.640743  \n",
       "Gorilla Guys                  112.961095  -75.254378  \n",
       "P-Town CASH KEVIN             124.936447  -70.886396  \n",
       "Diggy Wit it                  106.399804  -68.489804  \n",
       "No Nyugen Will Win            106.951759  -64.294171  \n",
       "I dont know what im doing     115.559795  -62.375795  \n",
       "My Team  A Bust               115.705123  -58.858867  \n",
       "Just-in-N-out Drive thru      124.640000  -53.455538  "
      ]
     },
     "execution_count": 93,
     "metadata": {},
     "output_type": "execute_result"
    }
   ],
   "source": [
    "now_df = current_df.groupby('Team').mean().sort_values('Difference')\n",
    "now_df"
   ]
  },
  {
   "cell_type": "code",
   "execution_count": 94,
   "id": "90ef7c0e",
   "metadata": {},
   "outputs": [
    {
     "data": {
      "text/html": [
       "<div>\n",
       "<style scoped>\n",
       "    .dataframe tbody tr th:only-of-type {\n",
       "        vertical-align: middle;\n",
       "    }\n",
       "\n",
       "    .dataframe tbody tr th {\n",
       "        vertical-align: top;\n",
       "    }\n",
       "\n",
       "    .dataframe thead th {\n",
       "        text-align: right;\n",
       "    }\n",
       "</style>\n",
       "<table border=\"1\" class=\"dataframe\">\n",
       "  <thead>\n",
       "    <tr style=\"text-align: right;\">\n",
       "      <th></th>\n",
       "      <th>ID</th>\n",
       "      <th>RoundPick</th>\n",
       "      <th>RoundNum</th>\n",
       "      <th>Expected_Points</th>\n",
       "      <th>Actual_Points</th>\n",
       "      <th>Rank</th>\n",
       "      <th>Difference</th>\n",
       "      <th>Normalized_Difference</th>\n",
       "    </tr>\n",
       "    <tr>\n",
       "      <th>Team</th>\n",
       "      <th></th>\n",
       "      <th></th>\n",
       "      <th></th>\n",
       "      <th></th>\n",
       "      <th></th>\n",
       "      <th></th>\n",
       "      <th></th>\n",
       "      <th></th>\n",
       "    </tr>\n",
       "  </thead>\n",
       "  <tbody>\n",
       "    <tr>\n",
       "      <th>Eugene Tweakers</th>\n",
       "      <td>2.832234e+06</td>\n",
       "      <td>5.384615</td>\n",
       "      <td>7.153846</td>\n",
       "      <td>222.665385</td>\n",
       "      <td>108.844615</td>\n",
       "      <td>32.538462</td>\n",
       "      <td>-113.820769</td>\n",
       "      <td>-0.506906</td>\n",
       "    </tr>\n",
       "    <tr>\n",
       "      <th>Cougar Town Zach Wilson</th>\n",
       "      <td>3.490025e+06</td>\n",
       "      <td>5.916667</td>\n",
       "      <td>7.083333</td>\n",
       "      <td>196.603333</td>\n",
       "      <td>99.983333</td>\n",
       "      <td>27.750000</td>\n",
       "      <td>-96.620000</td>\n",
       "      <td>-0.430302</td>\n",
       "    </tr>\n",
       "    <tr>\n",
       "      <th>Couv Reigning Champ</th>\n",
       "      <td>3.366947e+06</td>\n",
       "      <td>5.500000</td>\n",
       "      <td>7.700000</td>\n",
       "      <td>208.813000</td>\n",
       "      <td>118.552000</td>\n",
       "      <td>21.100000</td>\n",
       "      <td>-90.261000</td>\n",
       "      <td>-0.401982</td>\n",
       "    </tr>\n",
       "    <tr>\n",
       "      <th>Diggy Wit it</th>\n",
       "      <td>2.472610e+06</td>\n",
       "      <td>5.500000</td>\n",
       "      <td>7.333333</td>\n",
       "      <td>202.690833</td>\n",
       "      <td>116.321667</td>\n",
       "      <td>25.083333</td>\n",
       "      <td>-86.369167</td>\n",
       "      <td>-0.384649</td>\n",
       "    </tr>\n",
       "    <tr>\n",
       "      <th>Gorilla Guys</th>\n",
       "      <td>2.992381e+06</td>\n",
       "      <td>5.545455</td>\n",
       "      <td>6.000000</td>\n",
       "      <td>213.820909</td>\n",
       "      <td>137.067273</td>\n",
       "      <td>26.818182</td>\n",
       "      <td>-76.753636</td>\n",
       "      <td>-0.341826</td>\n",
       "    </tr>\n",
       "    <tr>\n",
       "      <th>No Nyugen Will Win</th>\n",
       "      <td>3.494793e+06</td>\n",
       "      <td>5.230769</td>\n",
       "      <td>8.461538</td>\n",
       "      <td>193.516154</td>\n",
       "      <td>119.118462</td>\n",
       "      <td>21.461538</td>\n",
       "      <td>-74.397692</td>\n",
       "      <td>-0.331334</td>\n",
       "    </tr>\n",
       "    <tr>\n",
       "      <th>P-Town CASH KEVIN</th>\n",
       "      <td>3.439061e+06</td>\n",
       "      <td>5.090909</td>\n",
       "      <td>6.545455</td>\n",
       "      <td>230.970909</td>\n",
       "      <td>159.712727</td>\n",
       "      <td>15.090909</td>\n",
       "      <td>-71.258182</td>\n",
       "      <td>-0.317352</td>\n",
       "    </tr>\n",
       "    <tr>\n",
       "      <th>I dont know what im doing</th>\n",
       "      <td>1.888404e+06</td>\n",
       "      <td>5.090909</td>\n",
       "      <td>6.545455</td>\n",
       "      <td>195.667273</td>\n",
       "      <td>125.383636</td>\n",
       "      <td>19.909091</td>\n",
       "      <td>-70.283636</td>\n",
       "      <td>-0.313012</td>\n",
       "    </tr>\n",
       "    <tr>\n",
       "      <th>My Team  A Bust</th>\n",
       "      <td>3.666029e+06</td>\n",
       "      <td>5.500000</td>\n",
       "      <td>8.500000</td>\n",
       "      <td>193.085000</td>\n",
       "      <td>128.234286</td>\n",
       "      <td>21.214286</td>\n",
       "      <td>-64.850714</td>\n",
       "      <td>-0.288816</td>\n",
       "    </tr>\n",
       "    <tr>\n",
       "      <th>Just-in-N-out Drive thru</th>\n",
       "      <td>3.285116e+06</td>\n",
       "      <td>5.090909</td>\n",
       "      <td>6.272727</td>\n",
       "      <td>206.675455</td>\n",
       "      <td>150.721818</td>\n",
       "      <td>10.545455</td>\n",
       "      <td>-55.953636</td>\n",
       "      <td>-0.249192</td>\n",
       "    </tr>\n",
       "  </tbody>\n",
       "</table>\n",
       "</div>"
      ],
      "text/plain": [
       "                                     ID  RoundPick  RoundNum  Expected_Points  \\\n",
       "Team                                                                            \n",
       "Eugene Tweakers            2.832234e+06   5.384615  7.153846       222.665385   \n",
       "Cougar Town Zach Wilson    3.490025e+06   5.916667  7.083333       196.603333   \n",
       "Couv Reigning Champ        3.366947e+06   5.500000  7.700000       208.813000   \n",
       "Diggy Wit it               2.472610e+06   5.500000  7.333333       202.690833   \n",
       "Gorilla Guys               2.992381e+06   5.545455  6.000000       213.820909   \n",
       "No Nyugen Will Win         3.494793e+06   5.230769  8.461538       193.516154   \n",
       "P-Town CASH KEVIN          3.439061e+06   5.090909  6.545455       230.970909   \n",
       "I dont know what im doing  1.888404e+06   5.090909  6.545455       195.667273   \n",
       "My Team  A Bust            3.666029e+06   5.500000  8.500000       193.085000   \n",
       "Just-in-N-out Drive thru   3.285116e+06   5.090909  6.272727       206.675455   \n",
       "\n",
       "                           Actual_Points       Rank  Difference  \\\n",
       "Team                                                              \n",
       "Eugene Tweakers               108.844615  32.538462 -113.820769   \n",
       "Cougar Town Zach Wilson        99.983333  27.750000  -96.620000   \n",
       "Couv Reigning Champ           118.552000  21.100000  -90.261000   \n",
       "Diggy Wit it                  116.321667  25.083333  -86.369167   \n",
       "Gorilla Guys                  137.067273  26.818182  -76.753636   \n",
       "No Nyugen Will Win            119.118462  21.461538  -74.397692   \n",
       "P-Town CASH KEVIN             159.712727  15.090909  -71.258182   \n",
       "I dont know what im doing     125.383636  19.909091  -70.283636   \n",
       "My Team  A Bust               128.234286  21.214286  -64.850714   \n",
       "Just-in-N-out Drive thru      150.721818  10.545455  -55.953636   \n",
       "\n",
       "                           Normalized_Difference  \n",
       "Team                                              \n",
       "Eugene Tweakers                        -0.506906  \n",
       "Cougar Town Zach Wilson                -0.430302  \n",
       "Couv Reigning Champ                    -0.401982  \n",
       "Diggy Wit it                           -0.384649  \n",
       "Gorilla Guys                           -0.341826  \n",
       "No Nyugen Will Win                     -0.331334  \n",
       "P-Town CASH KEVIN                      -0.317352  \n",
       "I dont know what im doing              -0.313012  \n",
       "My Team  A Bust                        -0.288816  \n",
       "Just-in-N-out Drive thru               -0.249192  "
      ]
     },
     "execution_count": 94,
     "metadata": {},
     "output_type": "execute_result"
    }
   ],
   "source": [
    "drafted_df = combined_df.groupby('Team').mean().sort_values('Difference')\n",
    "drafted_df"
   ]
  },
  {
   "cell_type": "code",
   "execution_count": 95,
   "id": "ba7b97ba",
   "metadata": {},
   "outputs": [
    {
     "data": {
      "text/html": [
       "<div>\n",
       "<style scoped>\n",
       "    .dataframe tbody tr th:only-of-type {\n",
       "        vertical-align: middle;\n",
       "    }\n",
       "\n",
       "    .dataframe tbody tr th {\n",
       "        vertical-align: top;\n",
       "    }\n",
       "\n",
       "    .dataframe thead th {\n",
       "        text-align: right;\n",
       "    }\n",
       "</style>\n",
       "<table border=\"1\" class=\"dataframe\">\n",
       "  <thead>\n",
       "    <tr style=\"text-align: right;\">\n",
       "      <th></th>\n",
       "      <th>Expected_Points_x</th>\n",
       "      <th>Actual_Points_x</th>\n",
       "      <th>Difference_x</th>\n",
       "      <th>Rank_x</th>\n",
       "      <th>Expected_Points_y</th>\n",
       "      <th>Actual_Points_y</th>\n",
       "      <th>Difference_y</th>\n",
       "      <th>Rank_y</th>\n",
       "    </tr>\n",
       "    <tr>\n",
       "      <th>Team</th>\n",
       "      <th></th>\n",
       "      <th></th>\n",
       "      <th></th>\n",
       "      <th></th>\n",
       "      <th></th>\n",
       "      <th></th>\n",
       "      <th></th>\n",
       "      <th></th>\n",
       "    </tr>\n",
       "  </thead>\n",
       "  <tbody>\n",
       "    <tr>\n",
       "      <th>Eugene Tweakers</th>\n",
       "      <td>222.665385</td>\n",
       "      <td>108.844615</td>\n",
       "      <td>-113.820769</td>\n",
       "      <td>32.538462</td>\n",
       "      <td>189.636842</td>\n",
       "      <td>98.875789</td>\n",
       "      <td>-90.761053</td>\n",
       "      <td>33.900000</td>\n",
       "    </tr>\n",
       "    <tr>\n",
       "      <th>Cougar Town Zach Wilson</th>\n",
       "      <td>196.603333</td>\n",
       "      <td>99.983333</td>\n",
       "      <td>-96.620000</td>\n",
       "      <td>27.750000</td>\n",
       "      <td>194.378227</td>\n",
       "      <td>97.572611</td>\n",
       "      <td>-96.805616</td>\n",
       "      <td>31.802956</td>\n",
       "    </tr>\n",
       "    <tr>\n",
       "      <th>Couv Reigning Champ</th>\n",
       "      <td>208.813000</td>\n",
       "      <td>118.552000</td>\n",
       "      <td>-90.261000</td>\n",
       "      <td>21.100000</td>\n",
       "      <td>180.210446</td>\n",
       "      <td>104.569703</td>\n",
       "      <td>-75.640743</td>\n",
       "      <td>28.881188</td>\n",
       "    </tr>\n",
       "    <tr>\n",
       "      <th>Diggy Wit it</th>\n",
       "      <td>202.690833</td>\n",
       "      <td>116.321667</td>\n",
       "      <td>-86.369167</td>\n",
       "      <td>25.083333</td>\n",
       "      <td>174.889608</td>\n",
       "      <td>106.399804</td>\n",
       "      <td>-68.489804</td>\n",
       "      <td>22.946078</td>\n",
       "    </tr>\n",
       "    <tr>\n",
       "      <th>Gorilla Guys</th>\n",
       "      <td>213.820909</td>\n",
       "      <td>137.067273</td>\n",
       "      <td>-76.753636</td>\n",
       "      <td>26.818182</td>\n",
       "      <td>188.215473</td>\n",
       "      <td>112.961095</td>\n",
       "      <td>-75.254378</td>\n",
       "      <td>29.253731</td>\n",
       "    </tr>\n",
       "    <tr>\n",
       "      <th>No Nyugen Will Win</th>\n",
       "      <td>193.516154</td>\n",
       "      <td>119.118462</td>\n",
       "      <td>-74.397692</td>\n",
       "      <td>21.461538</td>\n",
       "      <td>171.245930</td>\n",
       "      <td>106.951759</td>\n",
       "      <td>-64.294171</td>\n",
       "      <td>25.949749</td>\n",
       "    </tr>\n",
       "    <tr>\n",
       "      <th>P-Town CASH KEVIN</th>\n",
       "      <td>230.970909</td>\n",
       "      <td>159.712727</td>\n",
       "      <td>-71.258182</td>\n",
       "      <td>15.090909</td>\n",
       "      <td>195.822843</td>\n",
       "      <td>124.936447</td>\n",
       "      <td>-70.886396</td>\n",
       "      <td>25.913706</td>\n",
       "    </tr>\n",
       "    <tr>\n",
       "      <th>I dont know what im doing</th>\n",
       "      <td>195.667273</td>\n",
       "      <td>125.383636</td>\n",
       "      <td>-70.283636</td>\n",
       "      <td>19.909091</td>\n",
       "      <td>177.935590</td>\n",
       "      <td>115.559795</td>\n",
       "      <td>-62.375795</td>\n",
       "      <td>23.194872</td>\n",
       "    </tr>\n",
       "    <tr>\n",
       "      <th>My Team  A Bust</th>\n",
       "      <td>193.085000</td>\n",
       "      <td>128.234286</td>\n",
       "      <td>-64.850714</td>\n",
       "      <td>21.214286</td>\n",
       "      <td>174.563990</td>\n",
       "      <td>115.705123</td>\n",
       "      <td>-58.858867</td>\n",
       "      <td>25.940887</td>\n",
       "    </tr>\n",
       "    <tr>\n",
       "      <th>Just-in-N-out Drive thru</th>\n",
       "      <td>206.675455</td>\n",
       "      <td>150.721818</td>\n",
       "      <td>-55.953636</td>\n",
       "      <td>10.545455</td>\n",
       "      <td>178.095538</td>\n",
       "      <td>124.640000</td>\n",
       "      <td>-53.455538</td>\n",
       "      <td>18.523077</td>\n",
       "    </tr>\n",
       "  </tbody>\n",
       "</table>\n",
       "</div>"
      ],
      "text/plain": [
       "                           Expected_Points_x  Actual_Points_x  Difference_x  \\\n",
       "Team                                                                          \n",
       "Eugene Tweakers                   222.665385       108.844615   -113.820769   \n",
       "Cougar Town Zach Wilson           196.603333        99.983333    -96.620000   \n",
       "Couv Reigning Champ               208.813000       118.552000    -90.261000   \n",
       "Diggy Wit it                      202.690833       116.321667    -86.369167   \n",
       "Gorilla Guys                      213.820909       137.067273    -76.753636   \n",
       "No Nyugen Will Win                193.516154       119.118462    -74.397692   \n",
       "P-Town CASH KEVIN                 230.970909       159.712727    -71.258182   \n",
       "I dont know what im doing         195.667273       125.383636    -70.283636   \n",
       "My Team  A Bust                   193.085000       128.234286    -64.850714   \n",
       "Just-in-N-out Drive thru          206.675455       150.721818    -55.953636   \n",
       "\n",
       "                              Rank_x  Expected_Points_y  Actual_Points_y  \\\n",
       "Team                                                                       \n",
       "Eugene Tweakers            32.538462         189.636842        98.875789   \n",
       "Cougar Town Zach Wilson    27.750000         194.378227        97.572611   \n",
       "Couv Reigning Champ        21.100000         180.210446       104.569703   \n",
       "Diggy Wit it               25.083333         174.889608       106.399804   \n",
       "Gorilla Guys               26.818182         188.215473       112.961095   \n",
       "No Nyugen Will Win         21.461538         171.245930       106.951759   \n",
       "P-Town CASH KEVIN          15.090909         195.822843       124.936447   \n",
       "I dont know what im doing  19.909091         177.935590       115.559795   \n",
       "My Team  A Bust            21.214286         174.563990       115.705123   \n",
       "Just-in-N-out Drive thru   10.545455         178.095538       124.640000   \n",
       "\n",
       "                           Difference_y     Rank_y  \n",
       "Team                                                \n",
       "Eugene Tweakers              -90.761053  33.900000  \n",
       "Cougar Town Zach Wilson      -96.805616  31.802956  \n",
       "Couv Reigning Champ          -75.640743  28.881188  \n",
       "Diggy Wit it                 -68.489804  22.946078  \n",
       "Gorilla Guys                 -75.254378  29.253731  \n",
       "No Nyugen Will Win           -64.294171  25.949749  \n",
       "P-Town CASH KEVIN            -70.886396  25.913706  \n",
       "I dont know what im doing    -62.375795  23.194872  \n",
       "My Team  A Bust              -58.858867  25.940887  \n",
       "Just-in-N-out Drive thru     -53.455538  18.523077  "
      ]
     },
     "execution_count": 95,
     "metadata": {},
     "output_type": "execute_result"
    }
   ],
   "source": [
    "#Actual x = draft\n",
    "#Actual y = Now\n",
    "comparison_df = pd.merge(drafted_df, now_df, on = 'Team')\n",
    "comparison_df = comparison_df[['Expected_Points_x', 'Actual_Points_x', 'Difference_x', 'Rank_x', 'Expected_Points_y', 'Actual_Points_y', 'Difference_y', 'Rank_y']]\n",
    "comparison_df\n"
   ]
  },
  {
   "cell_type": "code",
   "execution_count": 96,
   "id": "d0d17d57",
   "metadata": {},
   "outputs": [
    {
     "data": {
      "text/html": [
       "<div>\n",
       "<style scoped>\n",
       "    .dataframe tbody tr th:only-of-type {\n",
       "        vertical-align: middle;\n",
       "    }\n",
       "\n",
       "    .dataframe tbody tr th {\n",
       "        vertical-align: top;\n",
       "    }\n",
       "\n",
       "    .dataframe thead th {\n",
       "        text-align: right;\n",
       "    }\n",
       "</style>\n",
       "<table border=\"1\" class=\"dataframe\">\n",
       "  <thead>\n",
       "    <tr style=\"text-align: right;\">\n",
       "      <th></th>\n",
       "      <th>Delta_Projections</th>\n",
       "      <th>Delta_Ranks</th>\n",
       "    </tr>\n",
       "    <tr>\n",
       "      <th>Team</th>\n",
       "      <th></th>\n",
       "      <th></th>\n",
       "    </tr>\n",
       "  </thead>\n",
       "  <tbody>\n",
       "    <tr>\n",
       "      <th>Diggy Wit it</th>\n",
       "      <td>-17.879363</td>\n",
       "      <td>2.137255</td>\n",
       "    </tr>\n",
       "    <tr>\n",
       "      <th>Eugene Tweakers</th>\n",
       "      <td>-23.059717</td>\n",
       "      <td>-1.361538</td>\n",
       "    </tr>\n",
       "    <tr>\n",
       "      <th>Gorilla Guys</th>\n",
       "      <td>-1.499258</td>\n",
       "      <td>-2.435550</td>\n",
       "    </tr>\n",
       "    <tr>\n",
       "      <th>I dont know what im doing</th>\n",
       "      <td>-7.907841</td>\n",
       "      <td>-3.285781</td>\n",
       "    </tr>\n",
       "    <tr>\n",
       "      <th>Cougar Town Zach Wilson</th>\n",
       "      <td>0.185616</td>\n",
       "      <td>-4.052956</td>\n",
       "    </tr>\n",
       "    <tr>\n",
       "      <th>No Nyugen Will Win</th>\n",
       "      <td>-10.103521</td>\n",
       "      <td>-4.488210</td>\n",
       "    </tr>\n",
       "    <tr>\n",
       "      <th>My Team  A Bust</th>\n",
       "      <td>-5.991847</td>\n",
       "      <td>-4.726601</td>\n",
       "    </tr>\n",
       "    <tr>\n",
       "      <th>Couv Reigning Champ</th>\n",
       "      <td>-14.620257</td>\n",
       "      <td>-7.781188</td>\n",
       "    </tr>\n",
       "    <tr>\n",
       "      <th>Just-in-N-out Drive thru</th>\n",
       "      <td>-2.498098</td>\n",
       "      <td>-7.977622</td>\n",
       "    </tr>\n",
       "    <tr>\n",
       "      <th>P-Town CASH KEVIN</th>\n",
       "      <td>-0.371786</td>\n",
       "      <td>-10.822796</td>\n",
       "    </tr>\n",
       "  </tbody>\n",
       "</table>\n",
       "</div>"
      ],
      "text/plain": [
       "                           Delta_Projections  Delta_Ranks\n",
       "Team                                                     \n",
       "Diggy Wit it                      -17.879363     2.137255\n",
       "Eugene Tweakers                   -23.059717    -1.361538\n",
       "Gorilla Guys                       -1.499258    -2.435550\n",
       "I dont know what im doing          -7.907841    -3.285781\n",
       "Cougar Town Zach Wilson             0.185616    -4.052956\n",
       "No Nyugen Will Win                -10.103521    -4.488210\n",
       "My Team  A Bust                    -5.991847    -4.726601\n",
       "Couv Reigning Champ               -14.620257    -7.781188\n",
       "Just-in-N-out Drive thru           -2.498098    -7.977622\n",
       "P-Town CASH KEVIN                  -0.371786   -10.822796"
      ]
     },
     "execution_count": 96,
     "metadata": {},
     "output_type": "execute_result"
    }
   ],
   "source": [
    "comparison_df['Delta_Projections'] = comparison_df['Difference_x'] - comparison_df['Difference_y']\n",
    "comparison_df['Delta_Ranks'] = comparison_df['Rank_x'] - comparison_df['Rank_y']\n",
    "comparison_df = comparison_df.sort_values('Delta_Projections', ascending = False)\n",
    "comparison_df[['Delta_Projections', 'Delta_Ranks']].sort_values('Delta_Ranks', ascending=False)"
   ]
  },
  {
   "cell_type": "code",
   "execution_count": null,
   "id": "1adc2633",
   "metadata": {},
   "outputs": [],
   "source": []
  },
  {
   "cell_type": "code",
   "execution_count": 97,
   "id": "33ebc00e",
   "metadata": {},
   "outputs": [
    {
     "data": {
      "text/html": [
       "<div>\n",
       "<style scoped>\n",
       "    .dataframe tbody tr th:only-of-type {\n",
       "        vertical-align: middle;\n",
       "    }\n",
       "\n",
       "    .dataframe tbody tr th {\n",
       "        vertical-align: top;\n",
       "    }\n",
       "\n",
       "    .dataframe thead th {\n",
       "        text-align: right;\n",
       "    }\n",
       "</style>\n",
       "<table border=\"1\" class=\"dataframe\">\n",
       "  <thead>\n",
       "    <tr style=\"text-align: right;\">\n",
       "      <th></th>\n",
       "      <th>Team</th>\n",
       "      <th>Week</th>\n",
       "      <th>Rank</th>\n",
       "      <th>Expected_Points</th>\n",
       "      <th>Actual_Points</th>\n",
       "      <th>Difference</th>\n",
       "    </tr>\n",
       "  </thead>\n",
       "  <tbody>\n",
       "    <tr>\n",
       "      <th>0</th>\n",
       "      <td>Cougar Town Zach Wilson</td>\n",
       "      <td>1</td>\n",
       "      <td>37.500000</td>\n",
       "      <td>192.600625</td>\n",
       "      <td>90.915000</td>\n",
       "      <td>-101.685625</td>\n",
       "    </tr>\n",
       "    <tr>\n",
       "      <th>1</th>\n",
       "      <td>Cougar Town Zach Wilson</td>\n",
       "      <td>2</td>\n",
       "      <td>40.529412</td>\n",
       "      <td>189.660000</td>\n",
       "      <td>88.375294</td>\n",
       "      <td>-101.284706</td>\n",
       "    </tr>\n",
       "    <tr>\n",
       "      <th>2</th>\n",
       "      <td>Cougar Town Zach Wilson</td>\n",
       "      <td>3</td>\n",
       "      <td>38.352941</td>\n",
       "      <td>191.875294</td>\n",
       "      <td>89.398824</td>\n",
       "      <td>-102.476471</td>\n",
       "    </tr>\n",
       "    <tr>\n",
       "      <th>3</th>\n",
       "      <td>Cougar Town Zach Wilson</td>\n",
       "      <td>4</td>\n",
       "      <td>39.058824</td>\n",
       "      <td>190.450588</td>\n",
       "      <td>88.087059</td>\n",
       "      <td>-102.363529</td>\n",
       "    </tr>\n",
       "    <tr>\n",
       "      <th>4</th>\n",
       "      <td>Cougar Town Zach Wilson</td>\n",
       "      <td>5</td>\n",
       "      <td>37.176471</td>\n",
       "      <td>195.675294</td>\n",
       "      <td>92.581176</td>\n",
       "      <td>-103.094118</td>\n",
       "    </tr>\n",
       "    <tr>\n",
       "      <th>...</th>\n",
       "      <td>...</td>\n",
       "      <td>...</td>\n",
       "      <td>...</td>\n",
       "      <td>...</td>\n",
       "      <td>...</td>\n",
       "      <td>...</td>\n",
       "    </tr>\n",
       "    <tr>\n",
       "      <th>115</th>\n",
       "      <td>P-Town CASH KEVIN</td>\n",
       "      <td>8</td>\n",
       "      <td>24.250000</td>\n",
       "      <td>202.582500</td>\n",
       "      <td>129.051250</td>\n",
       "      <td>-73.531250</td>\n",
       "    </tr>\n",
       "    <tr>\n",
       "      <th>116</th>\n",
       "      <td>P-Town CASH KEVIN</td>\n",
       "      <td>9</td>\n",
       "      <td>22.117647</td>\n",
       "      <td>176.147647</td>\n",
       "      <td>122.702353</td>\n",
       "      <td>-53.445294</td>\n",
       "    </tr>\n",
       "    <tr>\n",
       "      <th>117</th>\n",
       "      <td>P-Town CASH KEVIN</td>\n",
       "      <td>10</td>\n",
       "      <td>22.117647</td>\n",
       "      <td>176.147647</td>\n",
       "      <td>122.702353</td>\n",
       "      <td>-53.445294</td>\n",
       "    </tr>\n",
       "    <tr>\n",
       "      <th>118</th>\n",
       "      <td>P-Town CASH KEVIN</td>\n",
       "      <td>11</td>\n",
       "      <td>22.117647</td>\n",
       "      <td>176.147647</td>\n",
       "      <td>122.702353</td>\n",
       "      <td>-53.445294</td>\n",
       "    </tr>\n",
       "    <tr>\n",
       "      <th>119</th>\n",
       "      <td>P-Town CASH KEVIN</td>\n",
       "      <td>12</td>\n",
       "      <td>20.529412</td>\n",
       "      <td>172.990588</td>\n",
       "      <td>124.702353</td>\n",
       "      <td>-48.288235</td>\n",
       "    </tr>\n",
       "  </tbody>\n",
       "</table>\n",
       "<p>120 rows × 6 columns</p>\n",
       "</div>"
      ],
      "text/plain": [
       "                        Team  Week       Rank  Expected_Points  Actual_Points  \\\n",
       "0    Cougar Town Zach Wilson     1  37.500000       192.600625      90.915000   \n",
       "1    Cougar Town Zach Wilson     2  40.529412       189.660000      88.375294   \n",
       "2    Cougar Town Zach Wilson     3  38.352941       191.875294      89.398824   \n",
       "3    Cougar Town Zach Wilson     4  39.058824       190.450588      88.087059   \n",
       "4    Cougar Town Zach Wilson     5  37.176471       195.675294      92.581176   \n",
       "..                       ...   ...        ...              ...            ...   \n",
       "115        P-Town CASH KEVIN     8  24.250000       202.582500     129.051250   \n",
       "116        P-Town CASH KEVIN     9  22.117647       176.147647     122.702353   \n",
       "117        P-Town CASH KEVIN    10  22.117647       176.147647     122.702353   \n",
       "118        P-Town CASH KEVIN    11  22.117647       176.147647     122.702353   \n",
       "119        P-Town CASH KEVIN    12  20.529412       172.990588     124.702353   \n",
       "\n",
       "     Difference  \n",
       "0   -101.685625  \n",
       "1   -101.284706  \n",
       "2   -102.476471  \n",
       "3   -102.363529  \n",
       "4   -103.094118  \n",
       "..          ...  \n",
       "115  -73.531250  \n",
       "116  -53.445294  \n",
       "117  -53.445294  \n",
       "118  -53.445294  \n",
       "119  -48.288235  \n",
       "\n",
       "[120 rows x 6 columns]"
      ]
     },
     "execution_count": 97,
     "metadata": {},
     "output_type": "execute_result"
    }
   ],
   "source": [
    "test_df = current_df.groupby(['Team', 'Week'], as_index = False).mean()\n",
    "test_df"
   ]
  },
  {
   "cell_type": "code",
   "execution_count": null,
   "id": "851e9c09",
   "metadata": {},
   "outputs": [],
   "source": []
  },
  {
   "cell_type": "code",
   "execution_count": 98,
   "id": "511eafac",
   "metadata": {},
   "outputs": [
    {
     "data": {
      "application/vnd.plotly.v1+json": {
       "config": {
        "plotlyServerURL": "https://plot.ly"
       },
       "data": [
        {
         "hovertemplate": "Team=Cougar Town Zach Wilson<br>Week=%{x}<br>Difference=%{y}<extra></extra>",
         "legendgroup": "Cougar Town Zach Wilson",
         "marker": {
          "color": "#636efa",
          "symbol": "circle"
         },
         "mode": "markers",
         "name": "Cougar Town Zach Wilson",
         "orientation": "v",
         "showlegend": true,
         "type": "scatter",
         "x": [
          1,
          2,
          3,
          4,
          5,
          6,
          7,
          8,
          9,
          10,
          11,
          12
         ],
         "xaxis": "x",
         "y": [
          -101.685625,
          -101.28470588235294,
          -102.47647058823529,
          -102.3635294117647,
          -103.09411764705882,
          -92.81,
          -89.67117647058822,
          -89.67117647058822,
          -94.67588235294116,
          -94.74058823529411,
          -94.74058823529411,
          -94.74058823529411
         ],
         "yaxis": "y"
        },
        {
         "hovertemplate": "Team=Couv Reigning Champ<br>Week=%{x}<br>Difference=%{y}<extra></extra>",
         "legendgroup": "Couv Reigning Champ",
         "marker": {
          "color": "#EF553B",
          "symbol": "circle"
         },
         "mode": "markers",
         "name": "Couv Reigning Champ",
         "orientation": "v",
         "showlegend": true,
         "type": "scatter",
         "x": [
          1,
          2,
          3,
          4,
          5,
          6,
          7,
          8,
          9,
          10,
          11,
          12
         ],
         "xaxis": "x",
         "y": [
          -88.51117647058824,
          -81.77764705882353,
          -82.49823529411765,
          -82.8629411764706,
          -75.73,
          -75.34588235294117,
          -76.19764705882352,
          -65.72,
          -63.681875,
          -64.49705882352941,
          -77.79823529411765,
          -72.37
         ],
         "yaxis": "y"
        },
        {
         "hovertemplate": "Team=Diggy Wit it<br>Week=%{x}<br>Difference=%{y}<extra></extra>",
         "legendgroup": "Diggy Wit it",
         "marker": {
          "color": "#00cc96",
          "symbol": "circle"
         },
         "mode": "markers",
         "name": "Diggy Wit it",
         "orientation": "v",
         "showlegend": true,
         "type": "scatter",
         "x": [
          1,
          2,
          3,
          4,
          5,
          6,
          7,
          8,
          9,
          10,
          11,
          12
         ],
         "xaxis": "x",
         "y": [
          -95.7664705882353,
          -90.67411764705882,
          -80.6564705882353,
          -71.69058823529411,
          -67.99941176470588,
          -68.52882352941177,
          -65.6835294117647,
          -60.75823529411764,
          -64.80529411764707,
          -52.190588235294115,
          -52.94411764705882,
          -50.18
         ],
         "yaxis": "y"
        },
        {
         "hovertemplate": "Team=Eugene Tweakers<br>Week=%{x}<br>Difference=%{y}<extra></extra>",
         "legendgroup": "Eugene Tweakers",
         "marker": {
          "color": "#ab63fa",
          "symbol": "circle"
         },
         "mode": "markers",
         "name": "Eugene Tweakers",
         "orientation": "v",
         "showlegend": true,
         "type": "scatter",
         "x": [
          1,
          2,
          3,
          4,
          5,
          6,
          7,
          8,
          9,
          10,
          11,
          12
         ],
         "xaxis": "x",
         "y": [
          -105.330625,
          -94.31125,
          -94.31125,
          -84.99312499999999,
          -84.99312499999999,
          -88.05125,
          -83.135,
          -91.535625,
          -92.56375,
          -92.56375,
          -88.53266666666667,
          -88.53266666666667
         ],
         "yaxis": "y"
        },
        {
         "hovertemplate": "Team=Gorilla Guys<br>Week=%{x}<br>Difference=%{y}<extra></extra>",
         "legendgroup": "Gorilla Guys",
         "marker": {
          "color": "#FFA15A",
          "symbol": "circle"
         },
         "mode": "markers",
         "name": "Gorilla Guys",
         "orientation": "v",
         "showlegend": true,
         "type": "scatter",
         "x": [
          1,
          2,
          3,
          4,
          5,
          6,
          7,
          8,
          9,
          10,
          11,
          12
         ],
         "xaxis": "x",
         "y": [
          -84.08125,
          -81.03,
          -81.03,
          -81.03,
          -79.12352941176471,
          -68.65705882352941,
          -76.49117647058823,
          -73.2764705882353,
          -74.50823529411764,
          -74.50823529411764,
          -70.9735294117647,
          -56.67666666666666
         ],
         "yaxis": "y"
        },
        {
         "hovertemplate": "Team=I dont know what im doing<br>Week=%{x}<br>Difference=%{y}<extra></extra>",
         "legendgroup": "I dont know what im doing",
         "marker": {
          "color": "#19d3f3",
          "symbol": "circle"
         },
         "mode": "markers",
         "name": "I dont know what im doing",
         "orientation": "v",
         "showlegend": true,
         "type": "scatter",
         "x": [
          1,
          2,
          3,
          4,
          5,
          6,
          7,
          8,
          9,
          10,
          11,
          12
         ],
         "xaxis": "x",
         "y": [
          -72.213125,
          -72.213125,
          -72.716875,
          -60.801875,
          -65.379375,
          -61.224705882352936,
          -60.63411764705882,
          -54.14058823529412,
          -59.6725,
          -64.934375,
          -58.7575,
          -46.516875
         ],
         "yaxis": "y"
        },
        {
         "hovertemplate": "Team=Just-in-N-out Drive thru<br>Week=%{x}<br>Difference=%{y}<extra></extra>",
         "legendgroup": "Just-in-N-out Drive thru",
         "marker": {
          "color": "#FF6692",
          "symbol": "circle"
         },
         "mode": "markers",
         "name": "Just-in-N-out Drive thru",
         "orientation": "v",
         "showlegend": true,
         "type": "scatter",
         "x": [
          1,
          2,
          3,
          4,
          5,
          6,
          7,
          8,
          9,
          10,
          11,
          12
         ],
         "xaxis": "x",
         "y": [
          -76.16375,
          -60.1,
          -69.579375,
          -47.301875,
          -49.610625000000006,
          -55.125,
          -51.097500000000004,
          -48.304375,
          -45.45117647058824,
          -48.34235294117647,
          -45.80235294117647,
          -45.886250000000004
         ],
         "yaxis": "y"
        },
        {
         "hovertemplate": "Team=My Team  A Bust<br>Week=%{x}<br>Difference=%{y}<extra></extra>",
         "legendgroup": "My Team  A Bust",
         "marker": {
          "color": "#B6E880",
          "symbol": "circle"
         },
         "mode": "markers",
         "name": "My Team  A Bust",
         "orientation": "v",
         "showlegend": true,
         "type": "scatter",
         "x": [
          1,
          2,
          3,
          4,
          5,
          6,
          7,
          8,
          9,
          10,
          11,
          12
         ],
         "xaxis": "x",
         "y": [
          -71.44705882352942,
          -71.44705882352942,
          -72.64647058823529,
          -71.38588235294118,
          -61.53235294117647,
          -64.60235294117648,
          -57.60625,
          -48.83058823529412,
          -45.211176470588235,
          -46.336470588235294,
          -47.43000000000001,
          -47.75705882352941
         ],
         "yaxis": "y"
        },
        {
         "hovertemplate": "Team=No Nyugen Will Win<br>Week=%{x}<br>Difference=%{y}<extra></extra>",
         "legendgroup": "No Nyugen Will Win",
         "marker": {
          "color": "#FF97FF",
          "symbol": "circle"
         },
         "mode": "markers",
         "name": "No Nyugen Will Win",
         "orientation": "v",
         "showlegend": true,
         "type": "scatter",
         "x": [
          1,
          2,
          3,
          4,
          5,
          6,
          7,
          8,
          9,
          10,
          11,
          12
         ],
         "xaxis": "x",
         "y": [
          -85.684375,
          -75.35882352941178,
          -74.31882352941177,
          -65.27882352941177,
          -67.46411764705883,
          -63.40625000000001,
          -56.28187500000001,
          -58.36176470588236,
          -52.66823529411765,
          -52.44764705882353,
          -62.50750000000001,
          -58.011875
         ],
         "yaxis": "y"
        },
        {
         "hovertemplate": "Team=P-Town CASH KEVIN<br>Week=%{x}<br>Difference=%{y}<extra></extra>",
         "legendgroup": "P-Town CASH KEVIN",
         "marker": {
          "color": "#FECB52",
          "symbol": "circle"
         },
         "mode": "markers",
         "name": "P-Town CASH KEVIN",
         "orientation": "v",
         "showlegend": true,
         "type": "scatter",
         "x": [
          1,
          2,
          3,
          4,
          5,
          6,
          7,
          8,
          9,
          10,
          11,
          12
         ],
         "xaxis": "x",
         "y": [
          -81.264375,
          -80.1075,
          -80.1075,
          -85.89375,
          -85.89375,
          -79.91882352941177,
          -79.41375000000001,
          -73.53125,
          -53.44529411764706,
          -53.44529411764706,
          -53.44529411764706,
          -48.28823529411765
         ],
         "yaxis": "y"
        }
       ],
       "layout": {
        "legend": {
         "title": {
          "text": "Team"
         },
         "tracegroupgap": 0
        },
        "margin": {
         "t": 60
        },
        "template": {
         "data": {
          "bar": [
           {
            "error_x": {
             "color": "#2a3f5f"
            },
            "error_y": {
             "color": "#2a3f5f"
            },
            "marker": {
             "line": {
              "color": "#E5ECF6",
              "width": 0.5
             },
             "pattern": {
              "fillmode": "overlay",
              "size": 10,
              "solidity": 0.2
             }
            },
            "type": "bar"
           }
          ],
          "barpolar": [
           {
            "marker": {
             "line": {
              "color": "#E5ECF6",
              "width": 0.5
             },
             "pattern": {
              "fillmode": "overlay",
              "size": 10,
              "solidity": 0.2
             }
            },
            "type": "barpolar"
           }
          ],
          "carpet": [
           {
            "aaxis": {
             "endlinecolor": "#2a3f5f",
             "gridcolor": "white",
             "linecolor": "white",
             "minorgridcolor": "white",
             "startlinecolor": "#2a3f5f"
            },
            "baxis": {
             "endlinecolor": "#2a3f5f",
             "gridcolor": "white",
             "linecolor": "white",
             "minorgridcolor": "white",
             "startlinecolor": "#2a3f5f"
            },
            "type": "carpet"
           }
          ],
          "choropleth": [
           {
            "colorbar": {
             "outlinewidth": 0,
             "ticks": ""
            },
            "type": "choropleth"
           }
          ],
          "contour": [
           {
            "colorbar": {
             "outlinewidth": 0,
             "ticks": ""
            },
            "colorscale": [
             [
              0,
              "#0d0887"
             ],
             [
              0.1111111111111111,
              "#46039f"
             ],
             [
              0.2222222222222222,
              "#7201a8"
             ],
             [
              0.3333333333333333,
              "#9c179e"
             ],
             [
              0.4444444444444444,
              "#bd3786"
             ],
             [
              0.5555555555555556,
              "#d8576b"
             ],
             [
              0.6666666666666666,
              "#ed7953"
             ],
             [
              0.7777777777777778,
              "#fb9f3a"
             ],
             [
              0.8888888888888888,
              "#fdca26"
             ],
             [
              1,
              "#f0f921"
             ]
            ],
            "type": "contour"
           }
          ],
          "contourcarpet": [
           {
            "colorbar": {
             "outlinewidth": 0,
             "ticks": ""
            },
            "type": "contourcarpet"
           }
          ],
          "heatmap": [
           {
            "colorbar": {
             "outlinewidth": 0,
             "ticks": ""
            },
            "colorscale": [
             [
              0,
              "#0d0887"
             ],
             [
              0.1111111111111111,
              "#46039f"
             ],
             [
              0.2222222222222222,
              "#7201a8"
             ],
             [
              0.3333333333333333,
              "#9c179e"
             ],
             [
              0.4444444444444444,
              "#bd3786"
             ],
             [
              0.5555555555555556,
              "#d8576b"
             ],
             [
              0.6666666666666666,
              "#ed7953"
             ],
             [
              0.7777777777777778,
              "#fb9f3a"
             ],
             [
              0.8888888888888888,
              "#fdca26"
             ],
             [
              1,
              "#f0f921"
             ]
            ],
            "type": "heatmap"
           }
          ],
          "heatmapgl": [
           {
            "colorbar": {
             "outlinewidth": 0,
             "ticks": ""
            },
            "colorscale": [
             [
              0,
              "#0d0887"
             ],
             [
              0.1111111111111111,
              "#46039f"
             ],
             [
              0.2222222222222222,
              "#7201a8"
             ],
             [
              0.3333333333333333,
              "#9c179e"
             ],
             [
              0.4444444444444444,
              "#bd3786"
             ],
             [
              0.5555555555555556,
              "#d8576b"
             ],
             [
              0.6666666666666666,
              "#ed7953"
             ],
             [
              0.7777777777777778,
              "#fb9f3a"
             ],
             [
              0.8888888888888888,
              "#fdca26"
             ],
             [
              1,
              "#f0f921"
             ]
            ],
            "type": "heatmapgl"
           }
          ],
          "histogram": [
           {
            "marker": {
             "pattern": {
              "fillmode": "overlay",
              "size": 10,
              "solidity": 0.2
             }
            },
            "type": "histogram"
           }
          ],
          "histogram2d": [
           {
            "colorbar": {
             "outlinewidth": 0,
             "ticks": ""
            },
            "colorscale": [
             [
              0,
              "#0d0887"
             ],
             [
              0.1111111111111111,
              "#46039f"
             ],
             [
              0.2222222222222222,
              "#7201a8"
             ],
             [
              0.3333333333333333,
              "#9c179e"
             ],
             [
              0.4444444444444444,
              "#bd3786"
             ],
             [
              0.5555555555555556,
              "#d8576b"
             ],
             [
              0.6666666666666666,
              "#ed7953"
             ],
             [
              0.7777777777777778,
              "#fb9f3a"
             ],
             [
              0.8888888888888888,
              "#fdca26"
             ],
             [
              1,
              "#f0f921"
             ]
            ],
            "type": "histogram2d"
           }
          ],
          "histogram2dcontour": [
           {
            "colorbar": {
             "outlinewidth": 0,
             "ticks": ""
            },
            "colorscale": [
             [
              0,
              "#0d0887"
             ],
             [
              0.1111111111111111,
              "#46039f"
             ],
             [
              0.2222222222222222,
              "#7201a8"
             ],
             [
              0.3333333333333333,
              "#9c179e"
             ],
             [
              0.4444444444444444,
              "#bd3786"
             ],
             [
              0.5555555555555556,
              "#d8576b"
             ],
             [
              0.6666666666666666,
              "#ed7953"
             ],
             [
              0.7777777777777778,
              "#fb9f3a"
             ],
             [
              0.8888888888888888,
              "#fdca26"
             ],
             [
              1,
              "#f0f921"
             ]
            ],
            "type": "histogram2dcontour"
           }
          ],
          "mesh3d": [
           {
            "colorbar": {
             "outlinewidth": 0,
             "ticks": ""
            },
            "type": "mesh3d"
           }
          ],
          "parcoords": [
           {
            "line": {
             "colorbar": {
              "outlinewidth": 0,
              "ticks": ""
             }
            },
            "type": "parcoords"
           }
          ],
          "pie": [
           {
            "automargin": true,
            "type": "pie"
           }
          ],
          "scatter": [
           {
            "marker": {
             "colorbar": {
              "outlinewidth": 0,
              "ticks": ""
             }
            },
            "type": "scatter"
           }
          ],
          "scatter3d": [
           {
            "line": {
             "colorbar": {
              "outlinewidth": 0,
              "ticks": ""
             }
            },
            "marker": {
             "colorbar": {
              "outlinewidth": 0,
              "ticks": ""
             }
            },
            "type": "scatter3d"
           }
          ],
          "scattercarpet": [
           {
            "marker": {
             "colorbar": {
              "outlinewidth": 0,
              "ticks": ""
             }
            },
            "type": "scattercarpet"
           }
          ],
          "scattergeo": [
           {
            "marker": {
             "colorbar": {
              "outlinewidth": 0,
              "ticks": ""
             }
            },
            "type": "scattergeo"
           }
          ],
          "scattergl": [
           {
            "marker": {
             "colorbar": {
              "outlinewidth": 0,
              "ticks": ""
             }
            },
            "type": "scattergl"
           }
          ],
          "scattermapbox": [
           {
            "marker": {
             "colorbar": {
              "outlinewidth": 0,
              "ticks": ""
             }
            },
            "type": "scattermapbox"
           }
          ],
          "scatterpolar": [
           {
            "marker": {
             "colorbar": {
              "outlinewidth": 0,
              "ticks": ""
             }
            },
            "type": "scatterpolar"
           }
          ],
          "scatterpolargl": [
           {
            "marker": {
             "colorbar": {
              "outlinewidth": 0,
              "ticks": ""
             }
            },
            "type": "scatterpolargl"
           }
          ],
          "scatterternary": [
           {
            "marker": {
             "colorbar": {
              "outlinewidth": 0,
              "ticks": ""
             }
            },
            "type": "scatterternary"
           }
          ],
          "surface": [
           {
            "colorbar": {
             "outlinewidth": 0,
             "ticks": ""
            },
            "colorscale": [
             [
              0,
              "#0d0887"
             ],
             [
              0.1111111111111111,
              "#46039f"
             ],
             [
              0.2222222222222222,
              "#7201a8"
             ],
             [
              0.3333333333333333,
              "#9c179e"
             ],
             [
              0.4444444444444444,
              "#bd3786"
             ],
             [
              0.5555555555555556,
              "#d8576b"
             ],
             [
              0.6666666666666666,
              "#ed7953"
             ],
             [
              0.7777777777777778,
              "#fb9f3a"
             ],
             [
              0.8888888888888888,
              "#fdca26"
             ],
             [
              1,
              "#f0f921"
             ]
            ],
            "type": "surface"
           }
          ],
          "table": [
           {
            "cells": {
             "fill": {
              "color": "#EBF0F8"
             },
             "line": {
              "color": "white"
             }
            },
            "header": {
             "fill": {
              "color": "#C8D4E3"
             },
             "line": {
              "color": "white"
             }
            },
            "type": "table"
           }
          ]
         },
         "layout": {
          "annotationdefaults": {
           "arrowcolor": "#2a3f5f",
           "arrowhead": 0,
           "arrowwidth": 1
          },
          "autotypenumbers": "strict",
          "coloraxis": {
           "colorbar": {
            "outlinewidth": 0,
            "ticks": ""
           }
          },
          "colorscale": {
           "diverging": [
            [
             0,
             "#8e0152"
            ],
            [
             0.1,
             "#c51b7d"
            ],
            [
             0.2,
             "#de77ae"
            ],
            [
             0.3,
             "#f1b6da"
            ],
            [
             0.4,
             "#fde0ef"
            ],
            [
             0.5,
             "#f7f7f7"
            ],
            [
             0.6,
             "#e6f5d0"
            ],
            [
             0.7,
             "#b8e186"
            ],
            [
             0.8,
             "#7fbc41"
            ],
            [
             0.9,
             "#4d9221"
            ],
            [
             1,
             "#276419"
            ]
           ],
           "sequential": [
            [
             0,
             "#0d0887"
            ],
            [
             0.1111111111111111,
             "#46039f"
            ],
            [
             0.2222222222222222,
             "#7201a8"
            ],
            [
             0.3333333333333333,
             "#9c179e"
            ],
            [
             0.4444444444444444,
             "#bd3786"
            ],
            [
             0.5555555555555556,
             "#d8576b"
            ],
            [
             0.6666666666666666,
             "#ed7953"
            ],
            [
             0.7777777777777778,
             "#fb9f3a"
            ],
            [
             0.8888888888888888,
             "#fdca26"
            ],
            [
             1,
             "#f0f921"
            ]
           ],
           "sequentialminus": [
            [
             0,
             "#0d0887"
            ],
            [
             0.1111111111111111,
             "#46039f"
            ],
            [
             0.2222222222222222,
             "#7201a8"
            ],
            [
             0.3333333333333333,
             "#9c179e"
            ],
            [
             0.4444444444444444,
             "#bd3786"
            ],
            [
             0.5555555555555556,
             "#d8576b"
            ],
            [
             0.6666666666666666,
             "#ed7953"
            ],
            [
             0.7777777777777778,
             "#fb9f3a"
            ],
            [
             0.8888888888888888,
             "#fdca26"
            ],
            [
             1,
             "#f0f921"
            ]
           ]
          },
          "colorway": [
           "#636efa",
           "#EF553B",
           "#00cc96",
           "#ab63fa",
           "#FFA15A",
           "#19d3f3",
           "#FF6692",
           "#B6E880",
           "#FF97FF",
           "#FECB52"
          ],
          "font": {
           "color": "#2a3f5f"
          },
          "geo": {
           "bgcolor": "white",
           "lakecolor": "white",
           "landcolor": "#E5ECF6",
           "showlakes": true,
           "showland": true,
           "subunitcolor": "white"
          },
          "hoverlabel": {
           "align": "left"
          },
          "hovermode": "closest",
          "mapbox": {
           "style": "light"
          },
          "paper_bgcolor": "white",
          "plot_bgcolor": "#E5ECF6",
          "polar": {
           "angularaxis": {
            "gridcolor": "white",
            "linecolor": "white",
            "ticks": ""
           },
           "bgcolor": "#E5ECF6",
           "radialaxis": {
            "gridcolor": "white",
            "linecolor": "white",
            "ticks": ""
           }
          },
          "scene": {
           "xaxis": {
            "backgroundcolor": "#E5ECF6",
            "gridcolor": "white",
            "gridwidth": 2,
            "linecolor": "white",
            "showbackground": true,
            "ticks": "",
            "zerolinecolor": "white"
           },
           "yaxis": {
            "backgroundcolor": "#E5ECF6",
            "gridcolor": "white",
            "gridwidth": 2,
            "linecolor": "white",
            "showbackground": true,
            "ticks": "",
            "zerolinecolor": "white"
           },
           "zaxis": {
            "backgroundcolor": "#E5ECF6",
            "gridcolor": "white",
            "gridwidth": 2,
            "linecolor": "white",
            "showbackground": true,
            "ticks": "",
            "zerolinecolor": "white"
           }
          },
          "shapedefaults": {
           "line": {
            "color": "#2a3f5f"
           }
          },
          "ternary": {
           "aaxis": {
            "gridcolor": "white",
            "linecolor": "white",
            "ticks": ""
           },
           "baxis": {
            "gridcolor": "white",
            "linecolor": "white",
            "ticks": ""
           },
           "bgcolor": "#E5ECF6",
           "caxis": {
            "gridcolor": "white",
            "linecolor": "white",
            "ticks": ""
           }
          },
          "title": {
           "x": 0.05
          },
          "xaxis": {
           "automargin": true,
           "gridcolor": "white",
           "linecolor": "white",
           "ticks": "",
           "title": {
            "standoff": 15
           },
           "zerolinecolor": "white",
           "zerolinewidth": 2
          },
          "yaxis": {
           "automargin": true,
           "gridcolor": "white",
           "linecolor": "white",
           "ticks": "",
           "title": {
            "standoff": 15
           },
           "zerolinecolor": "white",
           "zerolinewidth": 2
          }
         }
        },
        "xaxis": {
         "anchor": "y",
         "domain": [
          0,
          1
         ],
         "title": {
          "text": "Week"
         }
        },
        "yaxis": {
         "anchor": "x",
         "domain": [
          0,
          1
         ],
         "title": {
          "text": "Difference"
         }
        }
       }
      }
     },
     "metadata": {},
     "output_type": "display_data"
    }
   ],
   "source": [
    "import plotly.io as pio\n",
    "pio.renderers\n",
    "plot = px.scatter(test_df, x = 'Week', y = 'Difference', color = 'Team')\n",
    "plot.show()\n"
   ]
  },
  {
   "cell_type": "code",
   "execution_count": 99,
   "id": "deae9037",
   "metadata": {},
   "outputs": [
    {
     "data": {
      "application/vnd.plotly.v1+json": {
       "config": {
        "plotlyServerURL": "https://plot.ly"
       },
       "data": [
        {
         "hovertemplate": "Team=Cougar Town Zach Wilson<br>Week=%{x}<br>Difference=%{y}<extra></extra>",
         "legendgroup": "Cougar Town Zach Wilson",
         "marker": {
          "color": "#636efa",
          "symbol": "circle"
         },
         "mode": "markers",
         "name": "Cougar Town Zach Wilson",
         "orientation": "v",
         "showlegend": true,
         "type": "scatter",
         "x": [
          1,
          2,
          3,
          4,
          5,
          6,
          7,
          8,
          9,
          10,
          11,
          12
         ],
         "xaxis": "x",
         "y": [
          -101.685625,
          -101.28470588235294,
          -102.47647058823529,
          -102.3635294117647,
          -103.09411764705882,
          -92.81,
          -89.67117647058822,
          -89.67117647058822,
          -94.67588235294116,
          -94.74058823529411,
          -94.74058823529411,
          -94.74058823529411
         ],
         "yaxis": "y"
        },
        {
         "hovertemplate": "<b>OLS trendline</b><br>Difference = 0.948565 * Week + -102.995<br>R<sup>2</sup>=0.456985<br><br>Team=Cougar Town Zach Wilson<br>Week=%{x}<br>Difference=%{y} <b>(trend)</b><extra></extra>",
         "legendgroup": "Cougar Town Zach Wilson",
         "marker": {
          "color": "#636efa",
          "symbol": "circle"
         },
         "mode": "lines",
         "name": "Cougar Town Zach Wilson",
         "showlegend": false,
         "type": "scatter",
         "x": [
          1,
          2,
          3,
          4,
          5,
          6,
          7,
          8,
          9,
          10,
          11,
          12
         ],
         "xaxis": "x",
         "y": [
          -102.04664357088991,
          -101.09807880844647,
          -100.14951404600305,
          -99.20094928355961,
          -98.25238452111617,
          -97.30381975867273,
          -96.35525499622929,
          -95.40669023378587,
          -94.45812547134243,
          -93.50956070889899,
          -92.56099594645555,
          -91.61243118401211
         ],
         "yaxis": "y"
        },
        {
         "hovertemplate": "Team=Couv Reigning Champ<br>Week=%{x}<br>Difference=%{y}<extra></extra>",
         "legendgroup": "Couv Reigning Champ",
         "marker": {
          "color": "#EF553B",
          "symbol": "circle"
         },
         "mode": "markers",
         "name": "Couv Reigning Champ",
         "orientation": "v",
         "showlegend": true,
         "type": "scatter",
         "x": [
          1,
          2,
          3,
          4,
          5,
          6,
          7,
          8,
          9,
          10,
          11,
          12
         ],
         "xaxis": "x",
         "y": [
          -88.51117647058824,
          -81.77764705882353,
          -82.49823529411765,
          -82.8629411764706,
          -75.73,
          -75.34588235294117,
          -76.19764705882352,
          -65.72,
          -63.681875,
          -64.49705882352941,
          -77.79823529411765,
          -72.37
         ],
         "yaxis": "y"
        },
        {
         "hovertemplate": "<b>OLS trendline</b><br>Difference = 1.62398 * Week + -86.1385<br>R<sup>2</sup>=0.551508<br><br>Team=Couv Reigning Champ<br>Week=%{x}<br>Difference=%{y} <b>(trend)</b><extra></extra>",
         "legendgroup": "Couv Reigning Champ",
         "marker": {
          "color": "#EF553B",
          "symbol": "circle"
         },
         "mode": "lines",
         "name": "Couv Reigning Champ",
         "showlegend": false,
         "type": "scatter",
         "x": [
          1,
          2,
          3,
          4,
          5,
          6,
          7,
          8,
          9,
          10,
          11,
          12
         ],
         "xaxis": "x",
         "y": [
          -84.5144706825038,
          -82.89048659673662,
          -81.26650251096946,
          -79.64251842520228,
          -78.0185343394351,
          -76.39455025366793,
          -74.77056616790077,
          -73.14658208213359,
          -71.52259799636641,
          -69.89861391059924,
          -68.27462982483206,
          -66.65064573906488
         ],
         "yaxis": "y"
        },
        {
         "hovertemplate": "Team=Diggy Wit it<br>Week=%{x}<br>Difference=%{y}<extra></extra>",
         "legendgroup": "Diggy Wit it",
         "marker": {
          "color": "#00cc96",
          "symbol": "circle"
         },
         "mode": "markers",
         "name": "Diggy Wit it",
         "orientation": "v",
         "showlegend": true,
         "type": "scatter",
         "x": [
          1,
          2,
          3,
          4,
          5,
          6,
          7,
          8,
          9,
          10,
          11,
          12
         ],
         "xaxis": "x",
         "y": [
          -95.7664705882353,
          -90.67411764705882,
          -80.6564705882353,
          -71.69058823529411,
          -67.99941176470588,
          -68.52882352941177,
          -65.6835294117647,
          -60.75823529411764,
          -64.80529411764707,
          -52.190588235294115,
          -52.94411764705882,
          -50.18
         ],
         "yaxis": "y"
        },
        {
         "hovertemplate": "<b>OLS trendline</b><br>Difference = 3.84363 * Week + -93.4734<br>R<sup>2</sup>=0.911202<br><br>Team=Diggy Wit it<br>Week=%{x}<br>Difference=%{y} <b>(trend)</b><extra></extra>",
         "legendgroup": "Diggy Wit it",
         "marker": {
          "color": "#00cc96",
          "symbol": "circle"
         },
         "mode": "lines",
         "name": "Diggy Wit it",
         "showlegend": false,
         "type": "scatter",
         "x": [
          1,
          2,
          3,
          4,
          5,
          6,
          7,
          8,
          9,
          10,
          11,
          12
         ],
         "xaxis": "x",
         "y": [
          -89.62975867269988,
          -85.78613053613056,
          -81.94250239956125,
          -78.09887426299194,
          -74.25524612642263,
          -70.41161798985331,
          -66.567989853284,
          -62.72436171671469,
          -58.880733580145375,
          -55.03710544357607,
          -51.19347730700675,
          -47.34984917043744
         ],
         "yaxis": "y"
        },
        {
         "hovertemplate": "Team=Eugene Tweakers<br>Week=%{x}<br>Difference=%{y}<extra></extra>",
         "legendgroup": "Eugene Tweakers",
         "marker": {
          "color": "#ab63fa",
          "symbol": "circle"
         },
         "mode": "markers",
         "name": "Eugene Tweakers",
         "orientation": "v",
         "showlegend": true,
         "type": "scatter",
         "x": [
          1,
          2,
          3,
          4,
          5,
          6,
          7,
          8,
          9,
          10,
          11,
          12
         ],
         "xaxis": "x",
         "y": [
          -105.330625,
          -94.31125,
          -94.31125,
          -84.99312499999999,
          -84.99312499999999,
          -88.05125,
          -83.135,
          -91.535625,
          -92.56375,
          -92.56375,
          -88.53266666666667,
          -88.53266666666667
         ],
         "yaxis": "y"
        },
        {
         "hovertemplate": "<b>OLS trendline</b><br>Difference = 0.686898 * Week + -95.2027<br>R<sup>2</sup>=0.174552<br><br>Team=Eugene Tweakers<br>Week=%{x}<br>Difference=%{y} <b>(trend)</b><extra></extra>",
         "legendgroup": "Eugene Tweakers",
         "marker": {
          "color": "#ab63fa",
          "symbol": "circle"
         },
         "mode": "lines",
         "name": "Eugene Tweakers",
         "showlegend": false,
         "type": "scatter",
         "x": [
          1,
          2,
          3,
          4,
          5,
          6,
          7,
          8,
          9,
          10,
          11,
          12
         ],
         "xaxis": "x",
         "y": [
          -94.51578098290601,
          -93.8288826728827,
          -93.1419843628594,
          -92.4550860528361,
          -91.76818774281278,
          -91.08128943278948,
          -90.39439112276617,
          -89.70749281274286,
          -89.02059450271956,
          -88.33369619269625,
          -87.64679788267294,
          -86.95989957264963
         ],
         "yaxis": "y"
        },
        {
         "hovertemplate": "Team=Gorilla Guys<br>Week=%{x}<br>Difference=%{y}<extra></extra>",
         "legendgroup": "Gorilla Guys",
         "marker": {
          "color": "#FFA15A",
          "symbol": "circle"
         },
         "mode": "markers",
         "name": "Gorilla Guys",
         "orientation": "v",
         "showlegend": true,
         "type": "scatter",
         "x": [
          1,
          2,
          3,
          4,
          5,
          6,
          7,
          8,
          9,
          10,
          11,
          12
         ],
         "xaxis": "x",
         "y": [
          -84.08125,
          -81.03,
          -81.03,
          -81.03,
          -79.12352941176471,
          -68.65705882352941,
          -76.49117647058823,
          -73.2764705882353,
          -74.50823529411764,
          -74.50823529411764,
          -70.9735294117647,
          -56.67666666666666
         ],
         "yaxis": "y"
        },
        {
         "hovertemplate": "<b>OLS trendline</b><br>Difference = 1.67807 * Week + -86.0229<br>R<sup>2</sup>=0.664191<br><br>Team=Gorilla Guys<br>Week=%{x}<br>Difference=%{y} <b>(trend)</b><extra></extra>",
         "legendgroup": "Gorilla Guys",
         "marker": {
          "color": "#FFA15A",
          "symbol": "circle"
         },
         "mode": "lines",
         "name": "Gorilla Guys",
         "showlegend": false,
         "type": "scatter",
         "x": [
          1,
          2,
          3,
          4,
          5,
          6,
          7,
          8,
          9,
          10,
          11,
          12
         ],
         "xaxis": "x",
         "y": [
          -84.34487587983915,
          -82.66680984048634,
          -80.98874380113354,
          -79.31067776178074,
          -77.63261172242792,
          -75.95454568307512,
          -74.27647964372233,
          -72.59841360436953,
          -70.92034756501671,
          -69.24228152566391,
          -67.56421548631111,
          -65.88614944695831
         ],
         "yaxis": "y"
        },
        {
         "hovertemplate": "Team=I dont know what im doing<br>Week=%{x}<br>Difference=%{y}<extra></extra>",
         "legendgroup": "I dont know what im doing",
         "marker": {
          "color": "#19d3f3",
          "symbol": "circle"
         },
         "mode": "markers",
         "name": "I dont know what im doing",
         "orientation": "v",
         "showlegend": true,
         "type": "scatter",
         "x": [
          1,
          2,
          3,
          4,
          5,
          6,
          7,
          8,
          9,
          10,
          11,
          12
         ],
         "xaxis": "x",
         "y": [
          -72.213125,
          -72.213125,
          -72.716875,
          -60.801875,
          -65.379375,
          -61.224705882352936,
          -60.63411764705882,
          -54.14058823529412,
          -59.6725,
          -64.934375,
          -58.7575,
          -46.516875
         ],
         "yaxis": "y"
        },
        {
         "hovertemplate": "<b>OLS trendline</b><br>Difference = 1.74193 * Week + -73.7563<br>R<sup>2</sup>=0.654882<br><br>Team=I dont know what im doing<br>Week=%{x}<br>Difference=%{y} <b>(trend)</b><extra></extra>",
         "legendgroup": "I dont know what im doing",
         "marker": {
          "color": "#19d3f3",
          "symbol": "circle"
         },
         "mode": "lines",
         "name": "I dont know what im doing",
         "showlegend": false,
         "type": "scatter",
         "x": [
          1,
          2,
          3,
          4,
          5,
          6,
          7,
          8,
          9,
          10,
          11,
          12
         ],
         "xaxis": "x",
         "y": [
          -72.01434342006036,
          -70.27241790072675,
          -68.53049238139315,
          -66.78856686205954,
          -65.04664134272593,
          -63.30471582339232,
          -61.562790304058716,
          -59.8208647847251,
          -58.0789392653915,
          -56.33701374605789,
          -54.595088226724286,
          -52.85316270739068
         ],
         "yaxis": "y"
        },
        {
         "hovertemplate": "Team=Just-in-N-out Drive thru<br>Week=%{x}<br>Difference=%{y}<extra></extra>",
         "legendgroup": "Just-in-N-out Drive thru",
         "marker": {
          "color": "#FF6692",
          "symbol": "circle"
         },
         "mode": "markers",
         "name": "Just-in-N-out Drive thru",
         "orientation": "v",
         "showlegend": true,
         "type": "scatter",
         "x": [
          1,
          2,
          3,
          4,
          5,
          6,
          7,
          8,
          9,
          10,
          11,
          12
         ],
         "xaxis": "x",
         "y": [
          -76.16375,
          -60.1,
          -69.579375,
          -47.301875,
          -49.610625000000006,
          -55.125,
          -51.097500000000004,
          -48.304375,
          -45.45117647058824,
          -48.34235294117647,
          -45.80235294117647,
          -45.886250000000004
         ],
         "yaxis": "y"
        },
        {
         "hovertemplate": "<b>OLS trendline</b><br>Difference = 2.19437 * Week + -67.8271<br>R<sup>2</sup>=0.618527<br><br>Team=Just-in-N-out Drive thru<br>Week=%{x}<br>Difference=%{y} <b>(trend)</b><extra></extra>",
         "legendgroup": "Just-in-N-out Drive thru",
         "marker": {
          "color": "#FF6692",
          "symbol": "circle"
         },
         "mode": "lines",
         "name": "Just-in-N-out Drive thru",
         "showlegend": false,
         "type": "scatter",
         "x": [
          1,
          2,
          3,
          4,
          5,
          6,
          7,
          8,
          9,
          10,
          11,
          12
         ],
         "xaxis": "x",
         "y": [
          -65.632762066365,
          -63.43839066570685,
          -61.24401926504868,
          -59.049647864390515,
          -56.85527646373235,
          -54.66090506307418,
          -52.46653366241602,
          -50.272162261757856,
          -48.07779086109969,
          -45.88341946044153,
          -43.68904805978336,
          -41.4946766591252
         ],
         "yaxis": "y"
        },
        {
         "hovertemplate": "Team=My Team  A Bust<br>Week=%{x}<br>Difference=%{y}<extra></extra>",
         "legendgroup": "My Team  A Bust",
         "marker": {
          "color": "#B6E880",
          "symbol": "circle"
         },
         "mode": "markers",
         "name": "My Team  A Bust",
         "orientation": "v",
         "showlegend": true,
         "type": "scatter",
         "x": [
          1,
          2,
          3,
          4,
          5,
          6,
          7,
          8,
          9,
          10,
          11,
          12
         ],
         "xaxis": "x",
         "y": [
          -71.44705882352942,
          -71.44705882352942,
          -72.64647058823529,
          -71.38588235294118,
          -61.53235294117647,
          -64.60235294117648,
          -57.60625,
          -48.83058823529412,
          -45.211176470588235,
          -46.336470588235294,
          -47.43000000000001,
          -47.75705882352941
         ],
         "yaxis": "y"
        },
        {
         "hovertemplate": "<b>OLS trendline</b><br>Difference = 2.92618 * Week + -77.8729<br>R<sup>2</sup>=0.872635<br><br>Team=My Team  A Bust<br>Week=%{x}<br>Difference=%{y} <b>(trend)</b><extra></extra>",
         "legendgroup": "My Team  A Bust",
         "marker": {
          "color": "#B6E880",
          "symbol": "circle"
         },
         "mode": "lines",
         "name": "My Team  A Bust",
         "showlegend": false,
         "type": "scatter",
         "x": [
          1,
          2,
          3,
          4,
          5,
          6,
          7,
          8,
          9,
          10,
          11,
          12
         ],
         "xaxis": "x",
         "y": [
          -74.94673548265463,
          -72.02055207047857,
          -69.09436865830251,
          -66.16818524612646,
          -63.2420018339504,
          -60.31581842177434,
          -57.38963500959828,
          -54.46345159742222,
          -51.53726818524616,
          -48.611084773070104,
          -45.684901360894045,
          -42.75871794871799
         ],
         "yaxis": "y"
        },
        {
         "hovertemplate": "Team=No Nyugen Will Win<br>Week=%{x}<br>Difference=%{y}<extra></extra>",
         "legendgroup": "No Nyugen Will Win",
         "marker": {
          "color": "#FF97FF",
          "symbol": "circle"
         },
         "mode": "markers",
         "name": "No Nyugen Will Win",
         "orientation": "v",
         "showlegend": true,
         "type": "scatter",
         "x": [
          1,
          2,
          3,
          4,
          5,
          6,
          7,
          8,
          9,
          10,
          11,
          12
         ],
         "xaxis": "x",
         "y": [
          -85.684375,
          -75.35882352941178,
          -74.31882352941177,
          -65.27882352941177,
          -67.46411764705883,
          -63.40625000000001,
          -56.28187500000001,
          -58.36176470588236,
          -52.66823529411765,
          -52.44764705882353,
          -62.50750000000001,
          -58.011875
         ],
         "yaxis": "y"
        },
        {
         "hovertemplate": "<b>OLS trendline</b><br>Difference = 2.3449 * Week + -79.5577<br>R<sup>2</sup>=0.708492<br><br>Team=No Nyugen Will Win<br>Week=%{x}<br>Difference=%{y} <b>(trend)</b><extra></extra>",
         "legendgroup": "No Nyugen Will Win",
         "marker": {
          "color": "#FF97FF",
          "symbol": "circle"
         },
         "mode": "lines",
         "name": "No Nyugen Will Win",
         "showlegend": false,
         "type": "scatter",
         "x": [
          1,
          2,
          3,
          4,
          5,
          6,
          7,
          8,
          9,
          10,
          11,
          12
         ],
         "xaxis": "x",
         "y": [
          -77.21280448717951,
          -74.86790231214866,
          -72.5230001371178,
          -70.17809796208695,
          -67.83319578705611,
          -65.48829361202526,
          -63.143391436994406,
          -60.79848926196355,
          -58.4535870869327,
          -56.10868491190185,
          -53.763782736871,
          -51.41888056184015
         ],
         "yaxis": "y"
        },
        {
         "hovertemplate": "Team=P-Town CASH KEVIN<br>Week=%{x}<br>Difference=%{y}<extra></extra>",
         "legendgroup": "P-Town CASH KEVIN",
         "marker": {
          "color": "#FECB52",
          "symbol": "circle"
         },
         "mode": "markers",
         "name": "P-Town CASH KEVIN",
         "orientation": "v",
         "showlegend": true,
         "type": "scatter",
         "x": [
          1,
          2,
          3,
          4,
          5,
          6,
          7,
          8,
          9,
          10,
          11,
          12
         ],
         "xaxis": "x",
         "y": [
          -81.264375,
          -80.1075,
          -80.1075,
          -85.89375,
          -85.89375,
          -79.91882352941177,
          -79.41375000000001,
          -73.53125,
          -53.44529411764706,
          -53.44529411764706,
          -53.44529411764706,
          -48.28823529411765
         ],
         "yaxis": "y"
        },
        {
         "hovertemplate": "<b>OLS trendline</b><br>Difference = 3.45863 * Week + -93.7107<br>R<sup>2</sup>=0.740083<br><br>Team=P-Town CASH KEVIN<br>Week=%{x}<br>Difference=%{y} <b>(trend)</b><extra></extra>",
         "legendgroup": "P-Town CASH KEVIN",
         "marker": {
          "color": "#FECB52",
          "symbol": "circle"
         },
         "mode": "lines",
         "name": "P-Town CASH KEVIN",
         "showlegend": false,
         "type": "scatter",
         "x": [
          1,
          2,
          3,
          4,
          5,
          6,
          7,
          8,
          9,
          10,
          11,
          12
         ],
         "xaxis": "x",
         "y": [
          -90.25202347285072,
          -86.7933952077335,
          -83.33476694261626,
          -79.87613867749903,
          -76.41751041238179,
          -72.95888214726455,
          -69.50025388214732,
          -66.04162561703009,
          -62.58299735191285,
          -59.12436908679562,
          -55.665740821678384,
          -52.20711255656114
         ],
         "yaxis": "y"
        }
       ],
       "layout": {
        "legend": {
         "title": {
          "text": "Team"
         },
         "tracegroupgap": 0
        },
        "margin": {
         "t": 60
        },
        "template": {
         "data": {
          "bar": [
           {
            "error_x": {
             "color": "#2a3f5f"
            },
            "error_y": {
             "color": "#2a3f5f"
            },
            "marker": {
             "line": {
              "color": "#E5ECF6",
              "width": 0.5
             },
             "pattern": {
              "fillmode": "overlay",
              "size": 10,
              "solidity": 0.2
             }
            },
            "type": "bar"
           }
          ],
          "barpolar": [
           {
            "marker": {
             "line": {
              "color": "#E5ECF6",
              "width": 0.5
             },
             "pattern": {
              "fillmode": "overlay",
              "size": 10,
              "solidity": 0.2
             }
            },
            "type": "barpolar"
           }
          ],
          "carpet": [
           {
            "aaxis": {
             "endlinecolor": "#2a3f5f",
             "gridcolor": "white",
             "linecolor": "white",
             "minorgridcolor": "white",
             "startlinecolor": "#2a3f5f"
            },
            "baxis": {
             "endlinecolor": "#2a3f5f",
             "gridcolor": "white",
             "linecolor": "white",
             "minorgridcolor": "white",
             "startlinecolor": "#2a3f5f"
            },
            "type": "carpet"
           }
          ],
          "choropleth": [
           {
            "colorbar": {
             "outlinewidth": 0,
             "ticks": ""
            },
            "type": "choropleth"
           }
          ],
          "contour": [
           {
            "colorbar": {
             "outlinewidth": 0,
             "ticks": ""
            },
            "colorscale": [
             [
              0,
              "#0d0887"
             ],
             [
              0.1111111111111111,
              "#46039f"
             ],
             [
              0.2222222222222222,
              "#7201a8"
             ],
             [
              0.3333333333333333,
              "#9c179e"
             ],
             [
              0.4444444444444444,
              "#bd3786"
             ],
             [
              0.5555555555555556,
              "#d8576b"
             ],
             [
              0.6666666666666666,
              "#ed7953"
             ],
             [
              0.7777777777777778,
              "#fb9f3a"
             ],
             [
              0.8888888888888888,
              "#fdca26"
             ],
             [
              1,
              "#f0f921"
             ]
            ],
            "type": "contour"
           }
          ],
          "contourcarpet": [
           {
            "colorbar": {
             "outlinewidth": 0,
             "ticks": ""
            },
            "type": "contourcarpet"
           }
          ],
          "heatmap": [
           {
            "colorbar": {
             "outlinewidth": 0,
             "ticks": ""
            },
            "colorscale": [
             [
              0,
              "#0d0887"
             ],
             [
              0.1111111111111111,
              "#46039f"
             ],
             [
              0.2222222222222222,
              "#7201a8"
             ],
             [
              0.3333333333333333,
              "#9c179e"
             ],
             [
              0.4444444444444444,
              "#bd3786"
             ],
             [
              0.5555555555555556,
              "#d8576b"
             ],
             [
              0.6666666666666666,
              "#ed7953"
             ],
             [
              0.7777777777777778,
              "#fb9f3a"
             ],
             [
              0.8888888888888888,
              "#fdca26"
             ],
             [
              1,
              "#f0f921"
             ]
            ],
            "type": "heatmap"
           }
          ],
          "heatmapgl": [
           {
            "colorbar": {
             "outlinewidth": 0,
             "ticks": ""
            },
            "colorscale": [
             [
              0,
              "#0d0887"
             ],
             [
              0.1111111111111111,
              "#46039f"
             ],
             [
              0.2222222222222222,
              "#7201a8"
             ],
             [
              0.3333333333333333,
              "#9c179e"
             ],
             [
              0.4444444444444444,
              "#bd3786"
             ],
             [
              0.5555555555555556,
              "#d8576b"
             ],
             [
              0.6666666666666666,
              "#ed7953"
             ],
             [
              0.7777777777777778,
              "#fb9f3a"
             ],
             [
              0.8888888888888888,
              "#fdca26"
             ],
             [
              1,
              "#f0f921"
             ]
            ],
            "type": "heatmapgl"
           }
          ],
          "histogram": [
           {
            "marker": {
             "pattern": {
              "fillmode": "overlay",
              "size": 10,
              "solidity": 0.2
             }
            },
            "type": "histogram"
           }
          ],
          "histogram2d": [
           {
            "colorbar": {
             "outlinewidth": 0,
             "ticks": ""
            },
            "colorscale": [
             [
              0,
              "#0d0887"
             ],
             [
              0.1111111111111111,
              "#46039f"
             ],
             [
              0.2222222222222222,
              "#7201a8"
             ],
             [
              0.3333333333333333,
              "#9c179e"
             ],
             [
              0.4444444444444444,
              "#bd3786"
             ],
             [
              0.5555555555555556,
              "#d8576b"
             ],
             [
              0.6666666666666666,
              "#ed7953"
             ],
             [
              0.7777777777777778,
              "#fb9f3a"
             ],
             [
              0.8888888888888888,
              "#fdca26"
             ],
             [
              1,
              "#f0f921"
             ]
            ],
            "type": "histogram2d"
           }
          ],
          "histogram2dcontour": [
           {
            "colorbar": {
             "outlinewidth": 0,
             "ticks": ""
            },
            "colorscale": [
             [
              0,
              "#0d0887"
             ],
             [
              0.1111111111111111,
              "#46039f"
             ],
             [
              0.2222222222222222,
              "#7201a8"
             ],
             [
              0.3333333333333333,
              "#9c179e"
             ],
             [
              0.4444444444444444,
              "#bd3786"
             ],
             [
              0.5555555555555556,
              "#d8576b"
             ],
             [
              0.6666666666666666,
              "#ed7953"
             ],
             [
              0.7777777777777778,
              "#fb9f3a"
             ],
             [
              0.8888888888888888,
              "#fdca26"
             ],
             [
              1,
              "#f0f921"
             ]
            ],
            "type": "histogram2dcontour"
           }
          ],
          "mesh3d": [
           {
            "colorbar": {
             "outlinewidth": 0,
             "ticks": ""
            },
            "type": "mesh3d"
           }
          ],
          "parcoords": [
           {
            "line": {
             "colorbar": {
              "outlinewidth": 0,
              "ticks": ""
             }
            },
            "type": "parcoords"
           }
          ],
          "pie": [
           {
            "automargin": true,
            "type": "pie"
           }
          ],
          "scatter": [
           {
            "marker": {
             "colorbar": {
              "outlinewidth": 0,
              "ticks": ""
             }
            },
            "type": "scatter"
           }
          ],
          "scatter3d": [
           {
            "line": {
             "colorbar": {
              "outlinewidth": 0,
              "ticks": ""
             }
            },
            "marker": {
             "colorbar": {
              "outlinewidth": 0,
              "ticks": ""
             }
            },
            "type": "scatter3d"
           }
          ],
          "scattercarpet": [
           {
            "marker": {
             "colorbar": {
              "outlinewidth": 0,
              "ticks": ""
             }
            },
            "type": "scattercarpet"
           }
          ],
          "scattergeo": [
           {
            "marker": {
             "colorbar": {
              "outlinewidth": 0,
              "ticks": ""
             }
            },
            "type": "scattergeo"
           }
          ],
          "scattergl": [
           {
            "marker": {
             "colorbar": {
              "outlinewidth": 0,
              "ticks": ""
             }
            },
            "type": "scattergl"
           }
          ],
          "scattermapbox": [
           {
            "marker": {
             "colorbar": {
              "outlinewidth": 0,
              "ticks": ""
             }
            },
            "type": "scattermapbox"
           }
          ],
          "scatterpolar": [
           {
            "marker": {
             "colorbar": {
              "outlinewidth": 0,
              "ticks": ""
             }
            },
            "type": "scatterpolar"
           }
          ],
          "scatterpolargl": [
           {
            "marker": {
             "colorbar": {
              "outlinewidth": 0,
              "ticks": ""
             }
            },
            "type": "scatterpolargl"
           }
          ],
          "scatterternary": [
           {
            "marker": {
             "colorbar": {
              "outlinewidth": 0,
              "ticks": ""
             }
            },
            "type": "scatterternary"
           }
          ],
          "surface": [
           {
            "colorbar": {
             "outlinewidth": 0,
             "ticks": ""
            },
            "colorscale": [
             [
              0,
              "#0d0887"
             ],
             [
              0.1111111111111111,
              "#46039f"
             ],
             [
              0.2222222222222222,
              "#7201a8"
             ],
             [
              0.3333333333333333,
              "#9c179e"
             ],
             [
              0.4444444444444444,
              "#bd3786"
             ],
             [
              0.5555555555555556,
              "#d8576b"
             ],
             [
              0.6666666666666666,
              "#ed7953"
             ],
             [
              0.7777777777777778,
              "#fb9f3a"
             ],
             [
              0.8888888888888888,
              "#fdca26"
             ],
             [
              1,
              "#f0f921"
             ]
            ],
            "type": "surface"
           }
          ],
          "table": [
           {
            "cells": {
             "fill": {
              "color": "#EBF0F8"
             },
             "line": {
              "color": "white"
             }
            },
            "header": {
             "fill": {
              "color": "#C8D4E3"
             },
             "line": {
              "color": "white"
             }
            },
            "type": "table"
           }
          ]
         },
         "layout": {
          "annotationdefaults": {
           "arrowcolor": "#2a3f5f",
           "arrowhead": 0,
           "arrowwidth": 1
          },
          "autotypenumbers": "strict",
          "coloraxis": {
           "colorbar": {
            "outlinewidth": 0,
            "ticks": ""
           }
          },
          "colorscale": {
           "diverging": [
            [
             0,
             "#8e0152"
            ],
            [
             0.1,
             "#c51b7d"
            ],
            [
             0.2,
             "#de77ae"
            ],
            [
             0.3,
             "#f1b6da"
            ],
            [
             0.4,
             "#fde0ef"
            ],
            [
             0.5,
             "#f7f7f7"
            ],
            [
             0.6,
             "#e6f5d0"
            ],
            [
             0.7,
             "#b8e186"
            ],
            [
             0.8,
             "#7fbc41"
            ],
            [
             0.9,
             "#4d9221"
            ],
            [
             1,
             "#276419"
            ]
           ],
           "sequential": [
            [
             0,
             "#0d0887"
            ],
            [
             0.1111111111111111,
             "#46039f"
            ],
            [
             0.2222222222222222,
             "#7201a8"
            ],
            [
             0.3333333333333333,
             "#9c179e"
            ],
            [
             0.4444444444444444,
             "#bd3786"
            ],
            [
             0.5555555555555556,
             "#d8576b"
            ],
            [
             0.6666666666666666,
             "#ed7953"
            ],
            [
             0.7777777777777778,
             "#fb9f3a"
            ],
            [
             0.8888888888888888,
             "#fdca26"
            ],
            [
             1,
             "#f0f921"
            ]
           ],
           "sequentialminus": [
            [
             0,
             "#0d0887"
            ],
            [
             0.1111111111111111,
             "#46039f"
            ],
            [
             0.2222222222222222,
             "#7201a8"
            ],
            [
             0.3333333333333333,
             "#9c179e"
            ],
            [
             0.4444444444444444,
             "#bd3786"
            ],
            [
             0.5555555555555556,
             "#d8576b"
            ],
            [
             0.6666666666666666,
             "#ed7953"
            ],
            [
             0.7777777777777778,
             "#fb9f3a"
            ],
            [
             0.8888888888888888,
             "#fdca26"
            ],
            [
             1,
             "#f0f921"
            ]
           ]
          },
          "colorway": [
           "#636efa",
           "#EF553B",
           "#00cc96",
           "#ab63fa",
           "#FFA15A",
           "#19d3f3",
           "#FF6692",
           "#B6E880",
           "#FF97FF",
           "#FECB52"
          ],
          "font": {
           "color": "#2a3f5f"
          },
          "geo": {
           "bgcolor": "white",
           "lakecolor": "white",
           "landcolor": "#E5ECF6",
           "showlakes": true,
           "showland": true,
           "subunitcolor": "white"
          },
          "hoverlabel": {
           "align": "left"
          },
          "hovermode": "closest",
          "mapbox": {
           "style": "light"
          },
          "paper_bgcolor": "white",
          "plot_bgcolor": "#E5ECF6",
          "polar": {
           "angularaxis": {
            "gridcolor": "white",
            "linecolor": "white",
            "ticks": ""
           },
           "bgcolor": "#E5ECF6",
           "radialaxis": {
            "gridcolor": "white",
            "linecolor": "white",
            "ticks": ""
           }
          },
          "scene": {
           "xaxis": {
            "backgroundcolor": "#E5ECF6",
            "gridcolor": "white",
            "gridwidth": 2,
            "linecolor": "white",
            "showbackground": true,
            "ticks": "",
            "zerolinecolor": "white"
           },
           "yaxis": {
            "backgroundcolor": "#E5ECF6",
            "gridcolor": "white",
            "gridwidth": 2,
            "linecolor": "white",
            "showbackground": true,
            "ticks": "",
            "zerolinecolor": "white"
           },
           "zaxis": {
            "backgroundcolor": "#E5ECF6",
            "gridcolor": "white",
            "gridwidth": 2,
            "linecolor": "white",
            "showbackground": true,
            "ticks": "",
            "zerolinecolor": "white"
           }
          },
          "shapedefaults": {
           "line": {
            "color": "#2a3f5f"
           }
          },
          "ternary": {
           "aaxis": {
            "gridcolor": "white",
            "linecolor": "white",
            "ticks": ""
           },
           "baxis": {
            "gridcolor": "white",
            "linecolor": "white",
            "ticks": ""
           },
           "bgcolor": "#E5ECF6",
           "caxis": {
            "gridcolor": "white",
            "linecolor": "white",
            "ticks": ""
           }
          },
          "title": {
           "x": 0.05
          },
          "xaxis": {
           "automargin": true,
           "gridcolor": "white",
           "linecolor": "white",
           "ticks": "",
           "title": {
            "standoff": 15
           },
           "zerolinecolor": "white",
           "zerolinewidth": 2
          },
          "yaxis": {
           "automargin": true,
           "gridcolor": "white",
           "linecolor": "white",
           "ticks": "",
           "title": {
            "standoff": 15
           },
           "zerolinecolor": "white",
           "zerolinewidth": 2
          }
         }
        },
        "xaxis": {
         "anchor": "y",
         "domain": [
          0,
          1
         ],
         "title": {
          "text": "Week"
         }
        },
        "yaxis": {
         "anchor": "x",
         "domain": [
          0,
          1
         ],
         "title": {
          "text": "Difference"
         }
        }
       }
      }
     },
     "metadata": {},
     "output_type": "display_data"
    }
   ],
   "source": [
    "plot = px.scatter(test_df, x = 'Week', y = 'Difference', color = 'Team', trendline = 'ols')\n",
    "plot.show()"
   ]
  },
  {
   "cell_type": "code",
   "execution_count": 100,
   "id": "d3679db8",
   "metadata": {},
   "outputs": [
    {
     "data": {
      "application/vnd.plotly.v1+json": {
       "config": {
        "plotlyServerURL": "https://plot.ly"
       },
       "data": [
        {
         "hovertemplate": "Team=Cougar Town Zach Wilson<br>Week=%{x}<br>Difference=%{y}<extra></extra>",
         "legendgroup": "Cougar Town Zach Wilson",
         "marker": {
          "color": "#636efa",
          "symbol": "circle"
         },
         "mode": "markers",
         "name": "Cougar Town Zach Wilson",
         "orientation": "v",
         "showlegend": true,
         "type": "scatter",
         "x": [
          1,
          2,
          3,
          4,
          5,
          6,
          7,
          8,
          9,
          10,
          11,
          12
         ],
         "xaxis": "x",
         "y": [
          -101.685625,
          -101.28470588235294,
          -102.47647058823529,
          -102.3635294117647,
          -103.09411764705882,
          -92.81,
          -89.67117647058822,
          -89.67117647058822,
          -94.67588235294116,
          -94.74058823529411,
          -94.74058823529411,
          -94.74058823529411
         ],
         "yaxis": "y"
        },
        {
         "hovertemplate": "<b>OLS trendline</b><br>Difference = 0.948565 * Week + -102.995<br>R<sup>2</sup>=0.456985<br><br>Team=Cougar Town Zach Wilson<br>Week=%{x}<br>Difference=%{y} <b>(trend)</b><extra></extra>",
         "legendgroup": "Cougar Town Zach Wilson",
         "marker": {
          "color": "#636efa",
          "symbol": "circle"
         },
         "mode": "lines",
         "name": "Cougar Town Zach Wilson",
         "showlegend": false,
         "type": "scatter",
         "x": [
          1,
          2,
          3,
          4,
          5,
          6,
          7,
          8,
          9,
          10,
          11,
          12
         ],
         "xaxis": "x",
         "y": [
          -102.04664357088991,
          -101.09807880844647,
          -100.14951404600305,
          -99.20094928355961,
          -98.25238452111617,
          -97.30381975867273,
          -96.35525499622929,
          -95.40669023378587,
          -94.45812547134243,
          -93.50956070889899,
          -92.56099594645555,
          -91.61243118401211
         ],
         "yaxis": "y"
        },
        {
         "hovertemplate": "Team=Couv Reigning Champ<br>Week=%{x}<br>Difference=%{y}<extra></extra>",
         "legendgroup": "Couv Reigning Champ",
         "marker": {
          "color": "#EF553B",
          "symbol": "circle"
         },
         "mode": "markers",
         "name": "Couv Reigning Champ",
         "orientation": "v",
         "showlegend": true,
         "type": "scatter",
         "x": [
          1,
          2,
          3,
          4,
          5,
          6,
          7,
          8,
          9,
          10,
          11,
          12
         ],
         "xaxis": "x",
         "y": [
          -88.51117647058824,
          -81.77764705882353,
          -82.49823529411765,
          -82.8629411764706,
          -75.73,
          -75.34588235294117,
          -76.19764705882352,
          -65.72,
          -63.681875,
          -64.49705882352941,
          -77.79823529411765,
          -72.37
         ],
         "yaxis": "y"
        },
        {
         "hovertemplate": "<b>OLS trendline</b><br>Difference = 1.62398 * Week + -86.1385<br>R<sup>2</sup>=0.551508<br><br>Team=Couv Reigning Champ<br>Week=%{x}<br>Difference=%{y} <b>(trend)</b><extra></extra>",
         "legendgroup": "Couv Reigning Champ",
         "marker": {
          "color": "#EF553B",
          "symbol": "circle"
         },
         "mode": "lines",
         "name": "Couv Reigning Champ",
         "showlegend": false,
         "type": "scatter",
         "x": [
          1,
          2,
          3,
          4,
          5,
          6,
          7,
          8,
          9,
          10,
          11,
          12
         ],
         "xaxis": "x",
         "y": [
          -84.5144706825038,
          -82.89048659673662,
          -81.26650251096946,
          -79.64251842520228,
          -78.0185343394351,
          -76.39455025366793,
          -74.77056616790077,
          -73.14658208213359,
          -71.52259799636641,
          -69.89861391059924,
          -68.27462982483206,
          -66.65064573906488
         ],
         "yaxis": "y"
        },
        {
         "hovertemplate": "Team=Diggy Wit it<br>Week=%{x}<br>Difference=%{y}<extra></extra>",
         "legendgroup": "Diggy Wit it",
         "marker": {
          "color": "#00cc96",
          "symbol": "circle"
         },
         "mode": "markers",
         "name": "Diggy Wit it",
         "orientation": "v",
         "showlegend": true,
         "type": "scatter",
         "x": [
          1,
          2,
          3,
          4,
          5,
          6,
          7,
          8,
          9,
          10,
          11,
          12
         ],
         "xaxis": "x",
         "y": [
          -95.7664705882353,
          -90.67411764705882,
          -80.6564705882353,
          -71.69058823529411,
          -67.99941176470588,
          -68.52882352941177,
          -65.6835294117647,
          -60.75823529411764,
          -64.80529411764707,
          -52.190588235294115,
          -52.94411764705882,
          -50.18
         ],
         "yaxis": "y"
        },
        {
         "hovertemplate": "<b>OLS trendline</b><br>Difference = 3.84363 * Week + -93.4734<br>R<sup>2</sup>=0.911202<br><br>Team=Diggy Wit it<br>Week=%{x}<br>Difference=%{y} <b>(trend)</b><extra></extra>",
         "legendgroup": "Diggy Wit it",
         "marker": {
          "color": "#00cc96",
          "symbol": "circle"
         },
         "mode": "lines",
         "name": "Diggy Wit it",
         "showlegend": false,
         "type": "scatter",
         "x": [
          1,
          2,
          3,
          4,
          5,
          6,
          7,
          8,
          9,
          10,
          11,
          12
         ],
         "xaxis": "x",
         "y": [
          -89.62975867269988,
          -85.78613053613056,
          -81.94250239956125,
          -78.09887426299194,
          -74.25524612642263,
          -70.41161798985331,
          -66.567989853284,
          -62.72436171671469,
          -58.880733580145375,
          -55.03710544357607,
          -51.19347730700675,
          -47.34984917043744
         ],
         "yaxis": "y"
        },
        {
         "hovertemplate": "Team=Eugene Tweakers<br>Week=%{x}<br>Difference=%{y}<extra></extra>",
         "legendgroup": "Eugene Tweakers",
         "marker": {
          "color": "#ab63fa",
          "symbol": "circle"
         },
         "mode": "markers",
         "name": "Eugene Tweakers",
         "orientation": "v",
         "showlegend": true,
         "type": "scatter",
         "x": [
          1,
          2,
          3,
          4,
          5,
          6,
          7,
          8,
          9,
          10,
          11,
          12
         ],
         "xaxis": "x",
         "y": [
          -105.330625,
          -94.31125,
          -94.31125,
          -84.99312499999999,
          -84.99312499999999,
          -88.05125,
          -83.135,
          -91.535625,
          -92.56375,
          -92.56375,
          -88.53266666666667,
          -88.53266666666667
         ],
         "yaxis": "y"
        },
        {
         "hovertemplate": "<b>OLS trendline</b><br>Difference = 0.686898 * Week + -95.2027<br>R<sup>2</sup>=0.174552<br><br>Team=Eugene Tweakers<br>Week=%{x}<br>Difference=%{y} <b>(trend)</b><extra></extra>",
         "legendgroup": "Eugene Tweakers",
         "marker": {
          "color": "#ab63fa",
          "symbol": "circle"
         },
         "mode": "lines",
         "name": "Eugene Tweakers",
         "showlegend": false,
         "type": "scatter",
         "x": [
          1,
          2,
          3,
          4,
          5,
          6,
          7,
          8,
          9,
          10,
          11,
          12
         ],
         "xaxis": "x",
         "y": [
          -94.51578098290601,
          -93.8288826728827,
          -93.1419843628594,
          -92.4550860528361,
          -91.76818774281278,
          -91.08128943278948,
          -90.39439112276617,
          -89.70749281274286,
          -89.02059450271956,
          -88.33369619269625,
          -87.64679788267294,
          -86.95989957264963
         ],
         "yaxis": "y"
        },
        {
         "hovertemplate": "Team=Gorilla Guys<br>Week=%{x}<br>Difference=%{y}<extra></extra>",
         "legendgroup": "Gorilla Guys",
         "marker": {
          "color": "#FFA15A",
          "symbol": "circle"
         },
         "mode": "markers",
         "name": "Gorilla Guys",
         "orientation": "v",
         "showlegend": true,
         "type": "scatter",
         "x": [
          1,
          2,
          3,
          4,
          5,
          6,
          7,
          8,
          9,
          10,
          11,
          12
         ],
         "xaxis": "x",
         "y": [
          -84.08125,
          -81.03,
          -81.03,
          -81.03,
          -79.12352941176471,
          -68.65705882352941,
          -76.49117647058823,
          -73.2764705882353,
          -74.50823529411764,
          -74.50823529411764,
          -70.9735294117647,
          -56.67666666666666
         ],
         "yaxis": "y"
        },
        {
         "hovertemplate": "<b>OLS trendline</b><br>Difference = 1.67807 * Week + -86.0229<br>R<sup>2</sup>=0.664191<br><br>Team=Gorilla Guys<br>Week=%{x}<br>Difference=%{y} <b>(trend)</b><extra></extra>",
         "legendgroup": "Gorilla Guys",
         "marker": {
          "color": "#FFA15A",
          "symbol": "circle"
         },
         "mode": "lines",
         "name": "Gorilla Guys",
         "showlegend": false,
         "type": "scatter",
         "x": [
          1,
          2,
          3,
          4,
          5,
          6,
          7,
          8,
          9,
          10,
          11,
          12
         ],
         "xaxis": "x",
         "y": [
          -84.34487587983915,
          -82.66680984048634,
          -80.98874380113354,
          -79.31067776178074,
          -77.63261172242792,
          -75.95454568307512,
          -74.27647964372233,
          -72.59841360436953,
          -70.92034756501671,
          -69.24228152566391,
          -67.56421548631111,
          -65.88614944695831
         ],
         "yaxis": "y"
        },
        {
         "hovertemplate": "Team=I dont know what im doing<br>Week=%{x}<br>Difference=%{y}<extra></extra>",
         "legendgroup": "I dont know what im doing",
         "marker": {
          "color": "#19d3f3",
          "symbol": "circle"
         },
         "mode": "markers",
         "name": "I dont know what im doing",
         "orientation": "v",
         "showlegend": true,
         "type": "scatter",
         "x": [
          1,
          2,
          3,
          4,
          5,
          6,
          7,
          8,
          9,
          10,
          11,
          12
         ],
         "xaxis": "x",
         "y": [
          -72.213125,
          -72.213125,
          -72.716875,
          -60.801875,
          -65.379375,
          -61.224705882352936,
          -60.63411764705882,
          -54.14058823529412,
          -59.6725,
          -64.934375,
          -58.7575,
          -46.516875
         ],
         "yaxis": "y"
        },
        {
         "hovertemplate": "<b>OLS trendline</b><br>Difference = 1.74193 * Week + -73.7563<br>R<sup>2</sup>=0.654882<br><br>Team=I dont know what im doing<br>Week=%{x}<br>Difference=%{y} <b>(trend)</b><extra></extra>",
         "legendgroup": "I dont know what im doing",
         "marker": {
          "color": "#19d3f3",
          "symbol": "circle"
         },
         "mode": "lines",
         "name": "I dont know what im doing",
         "showlegend": false,
         "type": "scatter",
         "x": [
          1,
          2,
          3,
          4,
          5,
          6,
          7,
          8,
          9,
          10,
          11,
          12
         ],
         "xaxis": "x",
         "y": [
          -72.01434342006036,
          -70.27241790072675,
          -68.53049238139315,
          -66.78856686205954,
          -65.04664134272593,
          -63.30471582339232,
          -61.562790304058716,
          -59.8208647847251,
          -58.0789392653915,
          -56.33701374605789,
          -54.595088226724286,
          -52.85316270739068
         ],
         "yaxis": "y"
        },
        {
         "hovertemplate": "Team=Just-in-N-out Drive thru<br>Week=%{x}<br>Difference=%{y}<extra></extra>",
         "legendgroup": "Just-in-N-out Drive thru",
         "marker": {
          "color": "#FF6692",
          "symbol": "circle"
         },
         "mode": "markers",
         "name": "Just-in-N-out Drive thru",
         "orientation": "v",
         "showlegend": true,
         "type": "scatter",
         "x": [
          1,
          2,
          3,
          4,
          5,
          6,
          7,
          8,
          9,
          10,
          11,
          12
         ],
         "xaxis": "x",
         "y": [
          -76.16375,
          -60.1,
          -69.579375,
          -47.301875,
          -49.610625000000006,
          -55.125,
          -51.097500000000004,
          -48.304375,
          -45.45117647058824,
          -48.34235294117647,
          -45.80235294117647,
          -45.886250000000004
         ],
         "yaxis": "y"
        },
        {
         "hovertemplate": "<b>OLS trendline</b><br>Difference = 2.19437 * Week + -67.8271<br>R<sup>2</sup>=0.618527<br><br>Team=Just-in-N-out Drive thru<br>Week=%{x}<br>Difference=%{y} <b>(trend)</b><extra></extra>",
         "legendgroup": "Just-in-N-out Drive thru",
         "marker": {
          "color": "#FF6692",
          "symbol": "circle"
         },
         "mode": "lines",
         "name": "Just-in-N-out Drive thru",
         "showlegend": false,
         "type": "scatter",
         "x": [
          1,
          2,
          3,
          4,
          5,
          6,
          7,
          8,
          9,
          10,
          11,
          12
         ],
         "xaxis": "x",
         "y": [
          -65.632762066365,
          -63.43839066570685,
          -61.24401926504868,
          -59.049647864390515,
          -56.85527646373235,
          -54.66090506307418,
          -52.46653366241602,
          -50.272162261757856,
          -48.07779086109969,
          -45.88341946044153,
          -43.68904805978336,
          -41.4946766591252
         ],
         "yaxis": "y"
        },
        {
         "hovertemplate": "Team=My Team  A Bust<br>Week=%{x}<br>Difference=%{y}<extra></extra>",
         "legendgroup": "My Team  A Bust",
         "marker": {
          "color": "#B6E880",
          "symbol": "circle"
         },
         "mode": "markers",
         "name": "My Team  A Bust",
         "orientation": "v",
         "showlegend": true,
         "type": "scatter",
         "x": [
          1,
          2,
          3,
          4,
          5,
          6,
          7,
          8,
          9,
          10,
          11,
          12
         ],
         "xaxis": "x",
         "y": [
          -71.44705882352942,
          -71.44705882352942,
          -72.64647058823529,
          -71.38588235294118,
          -61.53235294117647,
          -64.60235294117648,
          -57.60625,
          -48.83058823529412,
          -45.211176470588235,
          -46.336470588235294,
          -47.43000000000001,
          -47.75705882352941
         ],
         "yaxis": "y"
        },
        {
         "hovertemplate": "<b>OLS trendline</b><br>Difference = 2.92618 * Week + -77.8729<br>R<sup>2</sup>=0.872635<br><br>Team=My Team  A Bust<br>Week=%{x}<br>Difference=%{y} <b>(trend)</b><extra></extra>",
         "legendgroup": "My Team  A Bust",
         "marker": {
          "color": "#B6E880",
          "symbol": "circle"
         },
         "mode": "lines",
         "name": "My Team  A Bust",
         "showlegend": false,
         "type": "scatter",
         "x": [
          1,
          2,
          3,
          4,
          5,
          6,
          7,
          8,
          9,
          10,
          11,
          12
         ],
         "xaxis": "x",
         "y": [
          -74.94673548265463,
          -72.02055207047857,
          -69.09436865830251,
          -66.16818524612646,
          -63.2420018339504,
          -60.31581842177434,
          -57.38963500959828,
          -54.46345159742222,
          -51.53726818524616,
          -48.611084773070104,
          -45.684901360894045,
          -42.75871794871799
         ],
         "yaxis": "y"
        },
        {
         "hovertemplate": "Team=No Nyugen Will Win<br>Week=%{x}<br>Difference=%{y}<extra></extra>",
         "legendgroup": "No Nyugen Will Win",
         "marker": {
          "color": "#FF97FF",
          "symbol": "circle"
         },
         "mode": "markers",
         "name": "No Nyugen Will Win",
         "orientation": "v",
         "showlegend": true,
         "type": "scatter",
         "x": [
          1,
          2,
          3,
          4,
          5,
          6,
          7,
          8,
          9,
          10,
          11,
          12
         ],
         "xaxis": "x",
         "y": [
          -85.684375,
          -75.35882352941178,
          -74.31882352941177,
          -65.27882352941177,
          -67.46411764705883,
          -63.40625000000001,
          -56.28187500000001,
          -58.36176470588236,
          -52.66823529411765,
          -52.44764705882353,
          -62.50750000000001,
          -58.011875
         ],
         "yaxis": "y"
        },
        {
         "hovertemplate": "<b>OLS trendline</b><br>Difference = 2.3449 * Week + -79.5577<br>R<sup>2</sup>=0.708492<br><br>Team=No Nyugen Will Win<br>Week=%{x}<br>Difference=%{y} <b>(trend)</b><extra></extra>",
         "legendgroup": "No Nyugen Will Win",
         "marker": {
          "color": "#FF97FF",
          "symbol": "circle"
         },
         "mode": "lines",
         "name": "No Nyugen Will Win",
         "showlegend": false,
         "type": "scatter",
         "x": [
          1,
          2,
          3,
          4,
          5,
          6,
          7,
          8,
          9,
          10,
          11,
          12
         ],
         "xaxis": "x",
         "y": [
          -77.21280448717951,
          -74.86790231214866,
          -72.5230001371178,
          -70.17809796208695,
          -67.83319578705611,
          -65.48829361202526,
          -63.143391436994406,
          -60.79848926196355,
          -58.4535870869327,
          -56.10868491190185,
          -53.763782736871,
          -51.41888056184015
         ],
         "yaxis": "y"
        },
        {
         "hovertemplate": "Team=P-Town CASH KEVIN<br>Week=%{x}<br>Difference=%{y}<extra></extra>",
         "legendgroup": "P-Town CASH KEVIN",
         "marker": {
          "color": "#FECB52",
          "symbol": "circle"
         },
         "mode": "markers",
         "name": "P-Town CASH KEVIN",
         "orientation": "v",
         "showlegend": true,
         "type": "scatter",
         "x": [
          1,
          2,
          3,
          4,
          5,
          6,
          7,
          8,
          9,
          10,
          11,
          12
         ],
         "xaxis": "x",
         "y": [
          -81.264375,
          -80.1075,
          -80.1075,
          -85.89375,
          -85.89375,
          -79.91882352941177,
          -79.41375000000001,
          -73.53125,
          -53.44529411764706,
          -53.44529411764706,
          -53.44529411764706,
          -48.28823529411765
         ],
         "yaxis": "y"
        },
        {
         "hovertemplate": "<b>OLS trendline</b><br>Difference = 3.45863 * Week + -93.7107<br>R<sup>2</sup>=0.740083<br><br>Team=P-Town CASH KEVIN<br>Week=%{x}<br>Difference=%{y} <b>(trend)</b><extra></extra>",
         "legendgroup": "P-Town CASH KEVIN",
         "marker": {
          "color": "#FECB52",
          "symbol": "circle"
         },
         "mode": "lines",
         "name": "P-Town CASH KEVIN",
         "showlegend": false,
         "type": "scatter",
         "x": [
          1,
          2,
          3,
          4,
          5,
          6,
          7,
          8,
          9,
          10,
          11,
          12
         ],
         "xaxis": "x",
         "y": [
          -90.25202347285072,
          -86.7933952077335,
          -83.33476694261626,
          -79.87613867749903,
          -76.41751041238179,
          -72.95888214726455,
          -69.50025388214732,
          -66.04162561703009,
          -62.58299735191285,
          -59.12436908679562,
          -55.665740821678384,
          -52.20711255656114
         ],
         "yaxis": "y"
        }
       ],
       "layout": {
        "legend": {
         "title": {
          "text": "Team"
         },
         "tracegroupgap": 0
        },
        "margin": {
         "t": 60
        },
        "template": {
         "data": {
          "bar": [
           {
            "error_x": {
             "color": "#2a3f5f"
            },
            "error_y": {
             "color": "#2a3f5f"
            },
            "marker": {
             "line": {
              "color": "#E5ECF6",
              "width": 0.5
             },
             "pattern": {
              "fillmode": "overlay",
              "size": 10,
              "solidity": 0.2
             }
            },
            "type": "bar"
           }
          ],
          "barpolar": [
           {
            "marker": {
             "line": {
              "color": "#E5ECF6",
              "width": 0.5
             },
             "pattern": {
              "fillmode": "overlay",
              "size": 10,
              "solidity": 0.2
             }
            },
            "type": "barpolar"
           }
          ],
          "carpet": [
           {
            "aaxis": {
             "endlinecolor": "#2a3f5f",
             "gridcolor": "white",
             "linecolor": "white",
             "minorgridcolor": "white",
             "startlinecolor": "#2a3f5f"
            },
            "baxis": {
             "endlinecolor": "#2a3f5f",
             "gridcolor": "white",
             "linecolor": "white",
             "minorgridcolor": "white",
             "startlinecolor": "#2a3f5f"
            },
            "type": "carpet"
           }
          ],
          "choropleth": [
           {
            "colorbar": {
             "outlinewidth": 0,
             "ticks": ""
            },
            "type": "choropleth"
           }
          ],
          "contour": [
           {
            "colorbar": {
             "outlinewidth": 0,
             "ticks": ""
            },
            "colorscale": [
             [
              0,
              "#0d0887"
             ],
             [
              0.1111111111111111,
              "#46039f"
             ],
             [
              0.2222222222222222,
              "#7201a8"
             ],
             [
              0.3333333333333333,
              "#9c179e"
             ],
             [
              0.4444444444444444,
              "#bd3786"
             ],
             [
              0.5555555555555556,
              "#d8576b"
             ],
             [
              0.6666666666666666,
              "#ed7953"
             ],
             [
              0.7777777777777778,
              "#fb9f3a"
             ],
             [
              0.8888888888888888,
              "#fdca26"
             ],
             [
              1,
              "#f0f921"
             ]
            ],
            "type": "contour"
           }
          ],
          "contourcarpet": [
           {
            "colorbar": {
             "outlinewidth": 0,
             "ticks": ""
            },
            "type": "contourcarpet"
           }
          ],
          "heatmap": [
           {
            "colorbar": {
             "outlinewidth": 0,
             "ticks": ""
            },
            "colorscale": [
             [
              0,
              "#0d0887"
             ],
             [
              0.1111111111111111,
              "#46039f"
             ],
             [
              0.2222222222222222,
              "#7201a8"
             ],
             [
              0.3333333333333333,
              "#9c179e"
             ],
             [
              0.4444444444444444,
              "#bd3786"
             ],
             [
              0.5555555555555556,
              "#d8576b"
             ],
             [
              0.6666666666666666,
              "#ed7953"
             ],
             [
              0.7777777777777778,
              "#fb9f3a"
             ],
             [
              0.8888888888888888,
              "#fdca26"
             ],
             [
              1,
              "#f0f921"
             ]
            ],
            "type": "heatmap"
           }
          ],
          "heatmapgl": [
           {
            "colorbar": {
             "outlinewidth": 0,
             "ticks": ""
            },
            "colorscale": [
             [
              0,
              "#0d0887"
             ],
             [
              0.1111111111111111,
              "#46039f"
             ],
             [
              0.2222222222222222,
              "#7201a8"
             ],
             [
              0.3333333333333333,
              "#9c179e"
             ],
             [
              0.4444444444444444,
              "#bd3786"
             ],
             [
              0.5555555555555556,
              "#d8576b"
             ],
             [
              0.6666666666666666,
              "#ed7953"
             ],
             [
              0.7777777777777778,
              "#fb9f3a"
             ],
             [
              0.8888888888888888,
              "#fdca26"
             ],
             [
              1,
              "#f0f921"
             ]
            ],
            "type": "heatmapgl"
           }
          ],
          "histogram": [
           {
            "marker": {
             "pattern": {
              "fillmode": "overlay",
              "size": 10,
              "solidity": 0.2
             }
            },
            "type": "histogram"
           }
          ],
          "histogram2d": [
           {
            "colorbar": {
             "outlinewidth": 0,
             "ticks": ""
            },
            "colorscale": [
             [
              0,
              "#0d0887"
             ],
             [
              0.1111111111111111,
              "#46039f"
             ],
             [
              0.2222222222222222,
              "#7201a8"
             ],
             [
              0.3333333333333333,
              "#9c179e"
             ],
             [
              0.4444444444444444,
              "#bd3786"
             ],
             [
              0.5555555555555556,
              "#d8576b"
             ],
             [
              0.6666666666666666,
              "#ed7953"
             ],
             [
              0.7777777777777778,
              "#fb9f3a"
             ],
             [
              0.8888888888888888,
              "#fdca26"
             ],
             [
              1,
              "#f0f921"
             ]
            ],
            "type": "histogram2d"
           }
          ],
          "histogram2dcontour": [
           {
            "colorbar": {
             "outlinewidth": 0,
             "ticks": ""
            },
            "colorscale": [
             [
              0,
              "#0d0887"
             ],
             [
              0.1111111111111111,
              "#46039f"
             ],
             [
              0.2222222222222222,
              "#7201a8"
             ],
             [
              0.3333333333333333,
              "#9c179e"
             ],
             [
              0.4444444444444444,
              "#bd3786"
             ],
             [
              0.5555555555555556,
              "#d8576b"
             ],
             [
              0.6666666666666666,
              "#ed7953"
             ],
             [
              0.7777777777777778,
              "#fb9f3a"
             ],
             [
              0.8888888888888888,
              "#fdca26"
             ],
             [
              1,
              "#f0f921"
             ]
            ],
            "type": "histogram2dcontour"
           }
          ],
          "mesh3d": [
           {
            "colorbar": {
             "outlinewidth": 0,
             "ticks": ""
            },
            "type": "mesh3d"
           }
          ],
          "parcoords": [
           {
            "line": {
             "colorbar": {
              "outlinewidth": 0,
              "ticks": ""
             }
            },
            "type": "parcoords"
           }
          ],
          "pie": [
           {
            "automargin": true,
            "type": "pie"
           }
          ],
          "scatter": [
           {
            "marker": {
             "colorbar": {
              "outlinewidth": 0,
              "ticks": ""
             }
            },
            "type": "scatter"
           }
          ],
          "scatter3d": [
           {
            "line": {
             "colorbar": {
              "outlinewidth": 0,
              "ticks": ""
             }
            },
            "marker": {
             "colorbar": {
              "outlinewidth": 0,
              "ticks": ""
             }
            },
            "type": "scatter3d"
           }
          ],
          "scattercarpet": [
           {
            "marker": {
             "colorbar": {
              "outlinewidth": 0,
              "ticks": ""
             }
            },
            "type": "scattercarpet"
           }
          ],
          "scattergeo": [
           {
            "marker": {
             "colorbar": {
              "outlinewidth": 0,
              "ticks": ""
             }
            },
            "type": "scattergeo"
           }
          ],
          "scattergl": [
           {
            "marker": {
             "colorbar": {
              "outlinewidth": 0,
              "ticks": ""
             }
            },
            "type": "scattergl"
           }
          ],
          "scattermapbox": [
           {
            "marker": {
             "colorbar": {
              "outlinewidth": 0,
              "ticks": ""
             }
            },
            "type": "scattermapbox"
           }
          ],
          "scatterpolar": [
           {
            "marker": {
             "colorbar": {
              "outlinewidth": 0,
              "ticks": ""
             }
            },
            "type": "scatterpolar"
           }
          ],
          "scatterpolargl": [
           {
            "marker": {
             "colorbar": {
              "outlinewidth": 0,
              "ticks": ""
             }
            },
            "type": "scatterpolargl"
           }
          ],
          "scatterternary": [
           {
            "marker": {
             "colorbar": {
              "outlinewidth": 0,
              "ticks": ""
             }
            },
            "type": "scatterternary"
           }
          ],
          "surface": [
           {
            "colorbar": {
             "outlinewidth": 0,
             "ticks": ""
            },
            "colorscale": [
             [
              0,
              "#0d0887"
             ],
             [
              0.1111111111111111,
              "#46039f"
             ],
             [
              0.2222222222222222,
              "#7201a8"
             ],
             [
              0.3333333333333333,
              "#9c179e"
             ],
             [
              0.4444444444444444,
              "#bd3786"
             ],
             [
              0.5555555555555556,
              "#d8576b"
             ],
             [
              0.6666666666666666,
              "#ed7953"
             ],
             [
              0.7777777777777778,
              "#fb9f3a"
             ],
             [
              0.8888888888888888,
              "#fdca26"
             ],
             [
              1,
              "#f0f921"
             ]
            ],
            "type": "surface"
           }
          ],
          "table": [
           {
            "cells": {
             "fill": {
              "color": "#EBF0F8"
             },
             "line": {
              "color": "white"
             }
            },
            "header": {
             "fill": {
              "color": "#C8D4E3"
             },
             "line": {
              "color": "white"
             }
            },
            "type": "table"
           }
          ]
         },
         "layout": {
          "annotationdefaults": {
           "arrowcolor": "#2a3f5f",
           "arrowhead": 0,
           "arrowwidth": 1
          },
          "autotypenumbers": "strict",
          "coloraxis": {
           "colorbar": {
            "outlinewidth": 0,
            "ticks": ""
           }
          },
          "colorscale": {
           "diverging": [
            [
             0,
             "#8e0152"
            ],
            [
             0.1,
             "#c51b7d"
            ],
            [
             0.2,
             "#de77ae"
            ],
            [
             0.3,
             "#f1b6da"
            ],
            [
             0.4,
             "#fde0ef"
            ],
            [
             0.5,
             "#f7f7f7"
            ],
            [
             0.6,
             "#e6f5d0"
            ],
            [
             0.7,
             "#b8e186"
            ],
            [
             0.8,
             "#7fbc41"
            ],
            [
             0.9,
             "#4d9221"
            ],
            [
             1,
             "#276419"
            ]
           ],
           "sequential": [
            [
             0,
             "#0d0887"
            ],
            [
             0.1111111111111111,
             "#46039f"
            ],
            [
             0.2222222222222222,
             "#7201a8"
            ],
            [
             0.3333333333333333,
             "#9c179e"
            ],
            [
             0.4444444444444444,
             "#bd3786"
            ],
            [
             0.5555555555555556,
             "#d8576b"
            ],
            [
             0.6666666666666666,
             "#ed7953"
            ],
            [
             0.7777777777777778,
             "#fb9f3a"
            ],
            [
             0.8888888888888888,
             "#fdca26"
            ],
            [
             1,
             "#f0f921"
            ]
           ],
           "sequentialminus": [
            [
             0,
             "#0d0887"
            ],
            [
             0.1111111111111111,
             "#46039f"
            ],
            [
             0.2222222222222222,
             "#7201a8"
            ],
            [
             0.3333333333333333,
             "#9c179e"
            ],
            [
             0.4444444444444444,
             "#bd3786"
            ],
            [
             0.5555555555555556,
             "#d8576b"
            ],
            [
             0.6666666666666666,
             "#ed7953"
            ],
            [
             0.7777777777777778,
             "#fb9f3a"
            ],
            [
             0.8888888888888888,
             "#fdca26"
            ],
            [
             1,
             "#f0f921"
            ]
           ]
          },
          "colorway": [
           "#636efa",
           "#EF553B",
           "#00cc96",
           "#ab63fa",
           "#FFA15A",
           "#19d3f3",
           "#FF6692",
           "#B6E880",
           "#FF97FF",
           "#FECB52"
          ],
          "font": {
           "color": "#2a3f5f"
          },
          "geo": {
           "bgcolor": "white",
           "lakecolor": "white",
           "landcolor": "#E5ECF6",
           "showlakes": true,
           "showland": true,
           "subunitcolor": "white"
          },
          "hoverlabel": {
           "align": "left"
          },
          "hovermode": "closest",
          "mapbox": {
           "style": "light"
          },
          "paper_bgcolor": "white",
          "plot_bgcolor": "#E5ECF6",
          "polar": {
           "angularaxis": {
            "gridcolor": "white",
            "linecolor": "white",
            "ticks": ""
           },
           "bgcolor": "#E5ECF6",
           "radialaxis": {
            "gridcolor": "white",
            "linecolor": "white",
            "ticks": ""
           }
          },
          "scene": {
           "xaxis": {
            "backgroundcolor": "#E5ECF6",
            "gridcolor": "white",
            "gridwidth": 2,
            "linecolor": "white",
            "showbackground": true,
            "ticks": "",
            "zerolinecolor": "white"
           },
           "yaxis": {
            "backgroundcolor": "#E5ECF6",
            "gridcolor": "white",
            "gridwidth": 2,
            "linecolor": "white",
            "showbackground": true,
            "ticks": "",
            "zerolinecolor": "white"
           },
           "zaxis": {
            "backgroundcolor": "#E5ECF6",
            "gridcolor": "white",
            "gridwidth": 2,
            "linecolor": "white",
            "showbackground": true,
            "ticks": "",
            "zerolinecolor": "white"
           }
          },
          "shapedefaults": {
           "line": {
            "color": "#2a3f5f"
           }
          },
          "ternary": {
           "aaxis": {
            "gridcolor": "white",
            "linecolor": "white",
            "ticks": ""
           },
           "baxis": {
            "gridcolor": "white",
            "linecolor": "white",
            "ticks": ""
           },
           "bgcolor": "#E5ECF6",
           "caxis": {
            "gridcolor": "white",
            "linecolor": "white",
            "ticks": ""
           }
          },
          "title": {
           "x": 0.05
          },
          "xaxis": {
           "automargin": true,
           "gridcolor": "white",
           "linecolor": "white",
           "ticks": "",
           "title": {
            "standoff": 15
           },
           "zerolinecolor": "white",
           "zerolinewidth": 2
          },
          "yaxis": {
           "automargin": true,
           "gridcolor": "white",
           "linecolor": "white",
           "ticks": "",
           "title": {
            "standoff": 15
           },
           "zerolinecolor": "white",
           "zerolinewidth": 2
          }
         }
        },
        "xaxis": {
         "anchor": "y",
         "domain": [
          0,
          1
         ],
         "title": {
          "text": "Week"
         }
        },
        "yaxis": {
         "anchor": "x",
         "domain": [
          0,
          1
         ],
         "title": {
          "text": "Difference"
         }
        }
       }
      }
     },
     "metadata": {},
     "output_type": "display_data"
    }
   ],
   "source": [
    "plot = px.scatter(test_df, x = 'Week', y = 'Difference', color = 'Team', trendline = 'ols')\n",
    "plot.show()"
   ]
  },
  {
   "cell_type": "code",
   "execution_count": null,
   "id": "634c6305",
   "metadata": {},
   "outputs": [],
   "source": []
  },
  {
   "cell_type": "code",
   "execution_count": null,
   "id": "1f9c6c3a",
   "metadata": {},
   "outputs": [],
   "source": []
  },
  {
   "cell_type": "code",
   "execution_count": null,
   "id": "e765e414",
   "metadata": {},
   "outputs": [],
   "source": []
  },
  {
   "cell_type": "code",
   "execution_count": null,
   "id": "0ee2fcf1",
   "metadata": {},
   "outputs": [],
   "source": []
  },
  {
   "cell_type": "code",
   "execution_count": null,
   "id": "7f4be4e7",
   "metadata": {},
   "outputs": [],
   "source": []
  },
  {
   "cell_type": "code",
   "execution_count": null,
   "id": "e5620bd0",
   "metadata": {},
   "outputs": [],
   "source": []
  },
  {
   "cell_type": "code",
   "execution_count": null,
   "id": "42540c05",
   "metadata": {},
   "outputs": [],
   "source": []
  },
  {
   "cell_type": "code",
   "execution_count": null,
   "id": "1576a902",
   "metadata": {},
   "outputs": [],
   "source": []
  },
  {
   "cell_type": "code",
   "execution_count": null,
   "id": "bdba7ec2",
   "metadata": {},
   "outputs": [],
   "source": []
  },
  {
   "cell_type": "code",
   "execution_count": null,
   "id": "ab5e6976",
   "metadata": {},
   "outputs": [],
   "source": []
  }
 ],
 "metadata": {
  "kernelspec": {
   "display_name": "Python 3.9.12 ('base')",
   "language": "python",
   "name": "python3"
  },
  "language_info": {
   "codemirror_mode": {
    "name": "ipython",
    "version": 3
   },
   "file_extension": ".py",
   "mimetype": "text/x-python",
   "name": "python",
   "nbconvert_exporter": "python",
   "pygments_lexer": "ipython3",
   "version": "3.9.12"
  },
  "vscode": {
   "interpreter": {
    "hash": "33a11755222a1f7d86ea2cf2f4dfdec365d04f7453605f968c7500575cda950b"
   }
  }
 },
 "nbformat": 4,
 "nbformat_minor": 5
}
