{
 "cells": [
  {
   "cell_type": "code",
   "execution_count": 1,
   "id": "7cbcffd5",
   "metadata": {},
   "outputs": [],
   "source": [
    "from espnapi.espn_api.football import League\n",
    "import pandas as pd\n",
    "import plotly.express as px\n",
    "# Init\n",
    "\n",
    "#fan's - 42936131\n",
    "#mine - 829963546\n",
    "league_id = 829963546\n",
    "year = 2022\n",
    "league = League(league_id=league_id, year=year)\n",
    "\n"
   ]
  },
  {
   "cell_type": "markdown",
   "id": "7652f8c2",
   "metadata": {},
   "source": [
    "## Lets get the draft picks from each team"
   ]
  },
  {
   "cell_type": "code",
   "execution_count": 2,
   "id": "991911f8",
   "metadata": {},
   "outputs": [
    {
     "data": {
      "text/html": [
       "<div>\n",
       "<style scoped>\n",
       "    .dataframe tbody tr th:only-of-type {\n",
       "        vertical-align: middle;\n",
       "    }\n",
       "\n",
       "    .dataframe tbody tr th {\n",
       "        vertical-align: top;\n",
       "    }\n",
       "\n",
       "    .dataframe thead th {\n",
       "        text-align: right;\n",
       "    }\n",
       "</style>\n",
       "<table border=\"1\" class=\"dataframe\">\n",
       "  <thead>\n",
       "    <tr style=\"text-align: right;\">\n",
       "      <th></th>\n",
       "      <th>Team</th>\n",
       "      <th>Player</th>\n",
       "      <th>ID</th>\n",
       "      <th>RoundPick</th>\n",
       "      <th>RoundNum</th>\n",
       "    </tr>\n",
       "  </thead>\n",
       "  <tbody>\n",
       "    <tr>\n",
       "      <th>0</th>\n",
       "      <td>P-Town CASH KEVIN</td>\n",
       "      <td>Jonathan Taylor</td>\n",
       "      <td>4242335</td>\n",
       "      <td>1</td>\n",
       "      <td>1</td>\n",
       "    </tr>\n",
       "    <tr>\n",
       "      <th>1</th>\n",
       "      <td>Diggy Wit it</td>\n",
       "      <td>Christian McCaffrey</td>\n",
       "      <td>3117251</td>\n",
       "      <td>2</td>\n",
       "      <td>1</td>\n",
       "    </tr>\n",
       "    <tr>\n",
       "      <th>2</th>\n",
       "      <td>My Team  A Bust</td>\n",
       "      <td>Austin Ekeler</td>\n",
       "      <td>3068267</td>\n",
       "      <td>3</td>\n",
       "      <td>1</td>\n",
       "    </tr>\n",
       "    <tr>\n",
       "      <th>3</th>\n",
       "      <td>Eugene Tweakers</td>\n",
       "      <td>Cooper Kupp</td>\n",
       "      <td>2977187</td>\n",
       "      <td>4</td>\n",
       "      <td>1</td>\n",
       "    </tr>\n",
       "    <tr>\n",
       "      <th>4</th>\n",
       "      <td>Couv Reigning Champ</td>\n",
       "      <td>Dalvin Cook</td>\n",
       "      <td>3116593</td>\n",
       "      <td>5</td>\n",
       "      <td>1</td>\n",
       "    </tr>\n",
       "    <tr>\n",
       "      <th>5</th>\n",
       "      <td>Gorilla Guys</td>\n",
       "      <td>Derrick Henry</td>\n",
       "      <td>3043078</td>\n",
       "      <td>6</td>\n",
       "      <td>1</td>\n",
       "    </tr>\n",
       "    <tr>\n",
       "      <th>6</th>\n",
       "      <td>I dont know what im doing</td>\n",
       "      <td>Leonard Fournette</td>\n",
       "      <td>3115364</td>\n",
       "      <td>7</td>\n",
       "      <td>1</td>\n",
       "    </tr>\n",
       "    <tr>\n",
       "      <th>7</th>\n",
       "      <td>Cougar Town Zach Wilson</td>\n",
       "      <td>Deebo Samuel</td>\n",
       "      <td>3126486</td>\n",
       "      <td>8</td>\n",
       "      <td>1</td>\n",
       "    </tr>\n",
       "    <tr>\n",
       "      <th>8</th>\n",
       "      <td>No Nyugen Will Win</td>\n",
       "      <td>Najee Harris</td>\n",
       "      <td>4241457</td>\n",
       "      <td>9</td>\n",
       "      <td>1</td>\n",
       "    </tr>\n",
       "    <tr>\n",
       "      <th>9</th>\n",
       "      <td>Just-in-N-out Drive thru</td>\n",
       "      <td>Justin Jefferson</td>\n",
       "      <td>4262921</td>\n",
       "      <td>10</td>\n",
       "      <td>1</td>\n",
       "    </tr>\n",
       "  </tbody>\n",
       "</table>\n",
       "</div>"
      ],
      "text/plain": [
       "                        Team               Player       ID  RoundPick  \\\n",
       "0          P-Town CASH KEVIN      Jonathan Taylor  4242335          1   \n",
       "1               Diggy Wit it  Christian McCaffrey  3117251          2   \n",
       "2            My Team  A Bust        Austin Ekeler  3068267          3   \n",
       "3            Eugene Tweakers          Cooper Kupp  2977187          4   \n",
       "4        Couv Reigning Champ          Dalvin Cook  3116593          5   \n",
       "5               Gorilla Guys        Derrick Henry  3043078          6   \n",
       "6  I dont know what im doing    Leonard Fournette  3115364          7   \n",
       "7    Cougar Town Zach Wilson         Deebo Samuel  3126486          8   \n",
       "8         No Nyugen Will Win         Najee Harris  4241457          9   \n",
       "9   Just-in-N-out Drive thru     Justin Jefferson  4262921         10   \n",
       "\n",
       "   RoundNum  \n",
       "0         1  \n",
       "1         1  \n",
       "2         1  \n",
       "3         1  \n",
       "4         1  \n",
       "5         1  \n",
       "6         1  \n",
       "7         1  \n",
       "8         1  \n",
       "9         1  "
      ]
     },
     "execution_count": 2,
     "metadata": {},
     "output_type": "execute_result"
    }
   ],
   "source": [
    "df = pd.DataFrame()\n",
    "\n",
    "teams = []\n",
    "players = []\n",
    "id = []\n",
    "round_num = []\n",
    "round_pick = []\n",
    "\n",
    "\n",
    "for pick in league.draft:\n",
    "    teams.append(pick.team.team_name)\n",
    "    players.append(pick.playerName)\n",
    "    round_num.append(pick.round_num)\n",
    "    round_pick.append(pick.round_pick)\n",
    "    id.append(pick.playerId)\n",
    "    \n",
    "df['Team'] = teams\n",
    "df['Player'] = players\n",
    "df['ID'] = id\n",
    "df['RoundPick'] = round_pick\n",
    "df['RoundNum'] = round_num\n",
    "df.to_csv('Data/team_players.csv')\n",
    "df.head(10)"
   ]
  },
  {
   "cell_type": "markdown",
   "id": "e5019235",
   "metadata": {},
   "source": [
    "# Get projected points"
   ]
  },
  {
   "cell_type": "markdown",
   "id": "6fd12849",
   "metadata": {},
   "source": []
  },
  {
   "cell_type": "code",
   "execution_count": 3,
   "id": "d7a079ac",
   "metadata": {},
   "outputs": [],
   "source": [
    "players = []\n",
    "expected = []\n",
    "actual = []\n",
    "rank = []\n",
    "nfl_team = []\n",
    "for team in league.teams:\n",
    "    for player in team.roster:\n",
    "        players.append(player.name)\n",
    "        expected.append(player.projected_total_points)\n",
    "        actual.append(player.total_points)\n",
    "        rank.append(player.posRank)\n",
    "        nfl_team.append(player.proTeam)\n",
    "\n",
    "points_df = pd.DataFrame()\n",
    "points_df['Player'] = players\n",
    "points_df['Expected_Points'] = expected\n",
    "points_df['Actual_Points'] = actual\n",
    "points_df['Rank'] = rank\n",
    "points_df['NFLTeam'] = nfl_team\n",
    "\n"
   ]
  },
  {
   "cell_type": "code",
   "execution_count": 4,
   "id": "e7c4ae56",
   "metadata": {},
   "outputs": [],
   "source": [
    "points_df['Difference'] = points_df['Actual_Points'] - points_df['Expected_Points']"
   ]
  },
  {
   "cell_type": "code",
   "execution_count": null,
   "id": "fe372f91",
   "metadata": {},
   "outputs": [],
   "source": []
  },
  {
   "cell_type": "code",
   "execution_count": 5,
   "id": "9fe71611",
   "metadata": {},
   "outputs": [],
   "source": [
    "points_df = points_df.sort_values('Difference', ascending = False)\n",
    "points_df.to_csv('Data/player_differences.csv')"
   ]
  },
  {
   "cell_type": "code",
   "execution_count": 6,
   "id": "a68f558e",
   "metadata": {},
   "outputs": [],
   "source": [
    "# points_df.groupby('Team').mean().sort_values('Difference', ascending=False).to_csv('Data/grouped_average_differences.csv')\n",
    "# points_df.groupby('Team').mean().sort_values('Difference', ascending=False)"
   ]
  },
  {
   "cell_type": "markdown",
   "id": "206884ce",
   "metadata": {},
   "source": [
    "# Export the CSV"
   ]
  },
  {
   "cell_type": "code",
   "execution_count": 7,
   "id": "a63b41d8",
   "metadata": {},
   "outputs": [
    {
     "data": {
      "text/html": [
       "<div>\n",
       "<style scoped>\n",
       "    .dataframe tbody tr th:only-of-type {\n",
       "        vertical-align: middle;\n",
       "    }\n",
       "\n",
       "    .dataframe tbody tr th {\n",
       "        vertical-align: top;\n",
       "    }\n",
       "\n",
       "    .dataframe thead th {\n",
       "        text-align: right;\n",
       "    }\n",
       "</style>\n",
       "<table border=\"1\" class=\"dataframe\">\n",
       "  <thead>\n",
       "    <tr style=\"text-align: right;\">\n",
       "      <th></th>\n",
       "      <th>Player</th>\n",
       "      <th>Expected_Points</th>\n",
       "      <th>Actual_Points</th>\n",
       "      <th>Rank</th>\n",
       "      <th>NFLTeam</th>\n",
       "      <th>Difference</th>\n",
       "    </tr>\n",
       "  </thead>\n",
       "  <tbody>\n",
       "    <tr>\n",
       "      <th>144</th>\n",
       "      <td>Jimmy Garoppolo</td>\n",
       "      <td>14.84</td>\n",
       "      <td>149.26</td>\n",
       "      <td>19</td>\n",
       "      <td>SF</td>\n",
       "      <td>134.42</td>\n",
       "    </tr>\n",
       "    <tr>\n",
       "      <th>161</th>\n",
       "      <td>Kenyan Drake</td>\n",
       "      <td>13.48</td>\n",
       "      <td>79.20</td>\n",
       "      <td>41</td>\n",
       "      <td>BAL</td>\n",
       "      <td>65.72</td>\n",
       "    </tr>\n",
       "    <tr>\n",
       "      <th>139</th>\n",
       "      <td>Jeff Wilson Jr.</td>\n",
       "      <td>50.21</td>\n",
       "      <td>112.40</td>\n",
       "      <td>23</td>\n",
       "      <td>MIA</td>\n",
       "      <td>62.19</td>\n",
       "    </tr>\n",
       "    <tr>\n",
       "      <th>94</th>\n",
       "      <td>Geno Smith</td>\n",
       "      <td>148.82</td>\n",
       "      <td>182.76</td>\n",
       "      <td>7</td>\n",
       "      <td>SEA</td>\n",
       "      <td>33.94</td>\n",
       "    </tr>\n",
       "    <tr>\n",
       "      <th>28</th>\n",
       "      <td>Marcus Mariota</td>\n",
       "      <td>141.19</td>\n",
       "      <td>172.32</td>\n",
       "      <td>9</td>\n",
       "      <td>ATL</td>\n",
       "      <td>31.13</td>\n",
       "    </tr>\n",
       "    <tr>\n",
       "      <th>76</th>\n",
       "      <td>Jamaal Williams</td>\n",
       "      <td>123.09</td>\n",
       "      <td>153.50</td>\n",
       "      <td>13</td>\n",
       "      <td>DET</td>\n",
       "      <td>30.41</td>\n",
       "    </tr>\n",
       "    <tr>\n",
       "      <th>162</th>\n",
       "      <td>Eno Benjamin</td>\n",
       "      <td>64.37</td>\n",
       "      <td>86.30</td>\n",
       "      <td>37</td>\n",
       "      <td>HOU</td>\n",
       "      <td>21.93</td>\n",
       "    </tr>\n",
       "    <tr>\n",
       "      <th>140</th>\n",
       "      <td>Patriots D/ST</td>\n",
       "      <td>90.39</td>\n",
       "      <td>111.00</td>\n",
       "      <td>1</td>\n",
       "      <td>NE</td>\n",
       "      <td>20.61</td>\n",
       "    </tr>\n",
       "    <tr>\n",
       "      <th>93</th>\n",
       "      <td>Jets D/ST</td>\n",
       "      <td>70.84</td>\n",
       "      <td>91.00</td>\n",
       "      <td>4</td>\n",
       "      <td>NYJ</td>\n",
       "      <td>20.16</td>\n",
       "    </tr>\n",
       "    <tr>\n",
       "      <th>159</th>\n",
       "      <td>Josh Reynolds</td>\n",
       "      <td>58.02</td>\n",
       "      <td>73.70</td>\n",
       "      <td>61</td>\n",
       "      <td>DET</td>\n",
       "      <td>15.68</td>\n",
       "    </tr>\n",
       "  </tbody>\n",
       "</table>\n",
       "</div>"
      ],
      "text/plain": [
       "              Player  Expected_Points  Actual_Points  Rank NFLTeam  Difference\n",
       "144  Jimmy Garoppolo            14.84         149.26    19      SF      134.42\n",
       "161     Kenyan Drake            13.48          79.20    41     BAL       65.72\n",
       "139  Jeff Wilson Jr.            50.21         112.40    23     MIA       62.19\n",
       "94        Geno Smith           148.82         182.76     7     SEA       33.94\n",
       "28    Marcus Mariota           141.19         172.32     9     ATL       31.13\n",
       "76   Jamaal Williams           123.09         153.50    13     DET       30.41\n",
       "162     Eno Benjamin            64.37          86.30    37     HOU       21.93\n",
       "140    Patriots D/ST            90.39         111.00     1      NE       20.61\n",
       "93         Jets D/ST            70.84          91.00     4     NYJ       20.16\n",
       "159    Josh Reynolds            58.02          73.70    61     DET       15.68"
      ]
     },
     "execution_count": 7,
     "metadata": {},
     "output_type": "execute_result"
    }
   ],
   "source": [
    "points_df.to_csv('Data/player_points.csv')\n",
    "points_df.head(10)"
   ]
  },
  {
   "cell_type": "code",
   "execution_count": 8,
   "id": "590bab3b",
   "metadata": {},
   "outputs": [
    {
     "data": {
      "text/html": [
       "<div>\n",
       "<style scoped>\n",
       "    .dataframe tbody tr th:only-of-type {\n",
       "        vertical-align: middle;\n",
       "    }\n",
       "\n",
       "    .dataframe tbody tr th {\n",
       "        vertical-align: top;\n",
       "    }\n",
       "\n",
       "    .dataframe thead th {\n",
       "        text-align: right;\n",
       "    }\n",
       "</style>\n",
       "<table border=\"1\" class=\"dataframe\">\n",
       "  <thead>\n",
       "    <tr style=\"text-align: right;\">\n",
       "      <th></th>\n",
       "      <th>Team</th>\n",
       "      <th>Player</th>\n",
       "      <th>ID</th>\n",
       "      <th>RoundPick</th>\n",
       "      <th>RoundNum</th>\n",
       "      <th>Expected_Points</th>\n",
       "      <th>Actual_Points</th>\n",
       "      <th>Rank</th>\n",
       "      <th>NFLTeam</th>\n",
       "      <th>Difference</th>\n",
       "    </tr>\n",
       "  </thead>\n",
       "  <tbody>\n",
       "    <tr>\n",
       "      <th>0</th>\n",
       "      <td>P-Town CASH KEVIN</td>\n",
       "      <td>Jonathan Taylor</td>\n",
       "      <td>4242335</td>\n",
       "      <td>1</td>\n",
       "      <td>1</td>\n",
       "      <td>316.99</td>\n",
       "      <td>112.00</td>\n",
       "      <td>24</td>\n",
       "      <td>IND</td>\n",
       "      <td>-204.99</td>\n",
       "    </tr>\n",
       "    <tr>\n",
       "      <th>1</th>\n",
       "      <td>Diggy Wit it</td>\n",
       "      <td>Christian McCaffrey</td>\n",
       "      <td>3117251</td>\n",
       "      <td>2</td>\n",
       "      <td>1</td>\n",
       "      <td>309.94</td>\n",
       "      <td>201.76</td>\n",
       "      <td>3</td>\n",
       "      <td>SF</td>\n",
       "      <td>-108.18</td>\n",
       "    </tr>\n",
       "    <tr>\n",
       "      <th>2</th>\n",
       "      <td>My Team  A Bust</td>\n",
       "      <td>Austin Ekeler</td>\n",
       "      <td>3068267</td>\n",
       "      <td>3</td>\n",
       "      <td>1</td>\n",
       "      <td>284.73</td>\n",
       "      <td>230.10</td>\n",
       "      <td>1</td>\n",
       "      <td>LAC</td>\n",
       "      <td>-54.63</td>\n",
       "    </tr>\n",
       "    <tr>\n",
       "      <th>3</th>\n",
       "      <td>Eugene Tweakers</td>\n",
       "      <td>Cooper Kupp</td>\n",
       "      <td>2977187</td>\n",
       "      <td>4</td>\n",
       "      <td>1</td>\n",
       "      <td>312.91</td>\n",
       "      <td>201.40</td>\n",
       "      <td>5</td>\n",
       "      <td>LAR</td>\n",
       "      <td>-111.51</td>\n",
       "    </tr>\n",
       "    <tr>\n",
       "      <th>4</th>\n",
       "      <td>Couv Reigning Champ</td>\n",
       "      <td>Dalvin Cook</td>\n",
       "      <td>3116593</td>\n",
       "      <td>5</td>\n",
       "      <td>1</td>\n",
       "      <td>258.49</td>\n",
       "      <td>156.50</td>\n",
       "      <td>11</td>\n",
       "      <td>MIN</td>\n",
       "      <td>-101.99</td>\n",
       "    </tr>\n",
       "    <tr>\n",
       "      <th>5</th>\n",
       "      <td>Gorilla Guys</td>\n",
       "      <td>Derrick Henry</td>\n",
       "      <td>3043078</td>\n",
       "      <td>6</td>\n",
       "      <td>1</td>\n",
       "      <td>264.47</td>\n",
       "      <td>203.06</td>\n",
       "      <td>2</td>\n",
       "      <td>TEN</td>\n",
       "      <td>-61.41</td>\n",
       "    </tr>\n",
       "    <tr>\n",
       "      <th>6</th>\n",
       "      <td>I dont know what im doing</td>\n",
       "      <td>Leonard Fournette</td>\n",
       "      <td>3115364</td>\n",
       "      <td>7</td>\n",
       "      <td>1</td>\n",
       "      <td>258.74</td>\n",
       "      <td>154.70</td>\n",
       "      <td>12</td>\n",
       "      <td>TB</td>\n",
       "      <td>-104.04</td>\n",
       "    </tr>\n",
       "    <tr>\n",
       "      <th>7</th>\n",
       "      <td>Cougar Town Zach Wilson</td>\n",
       "      <td>Deebo Samuel</td>\n",
       "      <td>3126486</td>\n",
       "      <td>8</td>\n",
       "      <td>1</td>\n",
       "      <td>261.46</td>\n",
       "      <td>130.00</td>\n",
       "      <td>21</td>\n",
       "      <td>SF</td>\n",
       "      <td>-131.46</td>\n",
       "    </tr>\n",
       "    <tr>\n",
       "      <th>8</th>\n",
       "      <td>No Nyugen Will Win</td>\n",
       "      <td>Najee Harris</td>\n",
       "      <td>4241457</td>\n",
       "      <td>9</td>\n",
       "      <td>1</td>\n",
       "      <td>265.48</td>\n",
       "      <td>124.96</td>\n",
       "      <td>20</td>\n",
       "      <td>PIT</td>\n",
       "      <td>-140.52</td>\n",
       "    </tr>\n",
       "    <tr>\n",
       "      <th>9</th>\n",
       "      <td>Just-in-N-out Drive thru</td>\n",
       "      <td>Justin Jefferson</td>\n",
       "      <td>4262921</td>\n",
       "      <td>10</td>\n",
       "      <td>1</td>\n",
       "      <td>287.80</td>\n",
       "      <td>215.52</td>\n",
       "      <td>4</td>\n",
       "      <td>MIN</td>\n",
       "      <td>-72.28</td>\n",
       "    </tr>\n",
       "  </tbody>\n",
       "</table>\n",
       "</div>"
      ],
      "text/plain": [
       "                        Team               Player       ID  RoundPick  \\\n",
       "0          P-Town CASH KEVIN      Jonathan Taylor  4242335          1   \n",
       "1               Diggy Wit it  Christian McCaffrey  3117251          2   \n",
       "2            My Team  A Bust        Austin Ekeler  3068267          3   \n",
       "3            Eugene Tweakers          Cooper Kupp  2977187          4   \n",
       "4        Couv Reigning Champ          Dalvin Cook  3116593          5   \n",
       "5               Gorilla Guys        Derrick Henry  3043078          6   \n",
       "6  I dont know what im doing    Leonard Fournette  3115364          7   \n",
       "7    Cougar Town Zach Wilson         Deebo Samuel  3126486          8   \n",
       "8         No Nyugen Will Win         Najee Harris  4241457          9   \n",
       "9   Just-in-N-out Drive thru     Justin Jefferson  4262921         10   \n",
       "\n",
       "   RoundNum  Expected_Points  Actual_Points  Rank NFLTeam  Difference  \n",
       "0         1           316.99         112.00    24     IND     -204.99  \n",
       "1         1           309.94         201.76     3      SF     -108.18  \n",
       "2         1           284.73         230.10     1     LAC      -54.63  \n",
       "3         1           312.91         201.40     5     LAR     -111.51  \n",
       "4         1           258.49         156.50    11     MIN     -101.99  \n",
       "5         1           264.47         203.06     2     TEN      -61.41  \n",
       "6         1           258.74         154.70    12      TB     -104.04  \n",
       "7         1           261.46         130.00    21      SF     -131.46  \n",
       "8         1           265.48         124.96    20     PIT     -140.52  \n",
       "9         1           287.80         215.52     4     MIN      -72.28  "
      ]
     },
     "execution_count": 8,
     "metadata": {},
     "output_type": "execute_result"
    }
   ],
   "source": [
    "combined_df = pd.merge(df, points_df, on = 'Player')\n",
    "combined_df.head(10)"
   ]
  },
  {
   "cell_type": "code",
   "execution_count": 9,
   "id": "25d8106d",
   "metadata": {},
   "outputs": [],
   "source": [
    "combined_df.to_csv('Data/total.csv')"
   ]
  },
  {
   "cell_type": "code",
   "execution_count": 10,
   "id": "581e6acd",
   "metadata": {},
   "outputs": [
    {
     "data": {
      "text/html": [
       "<div>\n",
       "<style scoped>\n",
       "    .dataframe tbody tr th:only-of-type {\n",
       "        vertical-align: middle;\n",
       "    }\n",
       "\n",
       "    .dataframe tbody tr th {\n",
       "        vertical-align: top;\n",
       "    }\n",
       "\n",
       "    .dataframe thead th {\n",
       "        text-align: right;\n",
       "    }\n",
       "</style>\n",
       "<table border=\"1\" class=\"dataframe\">\n",
       "  <thead>\n",
       "    <tr style=\"text-align: right;\">\n",
       "      <th></th>\n",
       "      <th>Team</th>\n",
       "      <th>Player</th>\n",
       "      <th>ID</th>\n",
       "      <th>RoundPick</th>\n",
       "      <th>RoundNum</th>\n",
       "      <th>Expected_Points</th>\n",
       "      <th>Actual_Points</th>\n",
       "      <th>Rank</th>\n",
       "      <th>NFLTeam</th>\n",
       "      <th>Difference</th>\n",
       "    </tr>\n",
       "  </thead>\n",
       "  <tbody>\n",
       "    <tr>\n",
       "      <th>0</th>\n",
       "      <td>P-Town CASH KEVIN</td>\n",
       "      <td>Jonathan Taylor</td>\n",
       "      <td>4242335</td>\n",
       "      <td>1</td>\n",
       "      <td>1</td>\n",
       "      <td>316.99</td>\n",
       "      <td>112.00</td>\n",
       "      <td>24</td>\n",
       "      <td>IND</td>\n",
       "      <td>-204.99</td>\n",
       "    </tr>\n",
       "    <tr>\n",
       "      <th>1</th>\n",
       "      <td>Diggy Wit it</td>\n",
       "      <td>Christian McCaffrey</td>\n",
       "      <td>3117251</td>\n",
       "      <td>2</td>\n",
       "      <td>1</td>\n",
       "      <td>309.94</td>\n",
       "      <td>201.76</td>\n",
       "      <td>3</td>\n",
       "      <td>SF</td>\n",
       "      <td>-108.18</td>\n",
       "    </tr>\n",
       "    <tr>\n",
       "      <th>2</th>\n",
       "      <td>My Team  A Bust</td>\n",
       "      <td>Austin Ekeler</td>\n",
       "      <td>3068267</td>\n",
       "      <td>3</td>\n",
       "      <td>1</td>\n",
       "      <td>284.73</td>\n",
       "      <td>230.10</td>\n",
       "      <td>1</td>\n",
       "      <td>LAC</td>\n",
       "      <td>-54.63</td>\n",
       "    </tr>\n",
       "    <tr>\n",
       "      <th>3</th>\n",
       "      <td>Eugene Tweakers</td>\n",
       "      <td>Cooper Kupp</td>\n",
       "      <td>2977187</td>\n",
       "      <td>4</td>\n",
       "      <td>1</td>\n",
       "      <td>312.91</td>\n",
       "      <td>201.40</td>\n",
       "      <td>5</td>\n",
       "      <td>LAR</td>\n",
       "      <td>-111.51</td>\n",
       "    </tr>\n",
       "    <tr>\n",
       "      <th>4</th>\n",
       "      <td>Couv Reigning Champ</td>\n",
       "      <td>Dalvin Cook</td>\n",
       "      <td>3116593</td>\n",
       "      <td>5</td>\n",
       "      <td>1</td>\n",
       "      <td>258.49</td>\n",
       "      <td>156.50</td>\n",
       "      <td>11</td>\n",
       "      <td>MIN</td>\n",
       "      <td>-101.99</td>\n",
       "    </tr>\n",
       "    <tr>\n",
       "      <th>...</th>\n",
       "      <td>...</td>\n",
       "      <td>...</td>\n",
       "      <td>...</td>\n",
       "      <td>...</td>\n",
       "      <td>...</td>\n",
       "      <td>...</td>\n",
       "      <td>...</td>\n",
       "      <td>...</td>\n",
       "      <td>...</td>\n",
       "      <td>...</td>\n",
       "    </tr>\n",
       "    <tr>\n",
       "      <th>117</th>\n",
       "      <td>My Team  A Bust</td>\n",
       "      <td>Tyler Bass</td>\n",
       "      <td>3917232</td>\n",
       "      <td>3</td>\n",
       "      <td>15</td>\n",
       "      <td>131.58</td>\n",
       "      <td>100.00</td>\n",
       "      <td>1</td>\n",
       "      <td>BUF</td>\n",
       "      <td>-31.58</td>\n",
       "    </tr>\n",
       "    <tr>\n",
       "      <th>118</th>\n",
       "      <td>Eugene Tweakers</td>\n",
       "      <td>Cowboys D/ST</td>\n",
       "      <td>-16006</td>\n",
       "      <td>4</td>\n",
       "      <td>15</td>\n",
       "      <td>106.49</td>\n",
       "      <td>109.00</td>\n",
       "      <td>2</td>\n",
       "      <td>DAL</td>\n",
       "      <td>2.51</td>\n",
       "    </tr>\n",
       "    <tr>\n",
       "      <th>119</th>\n",
       "      <td>Couv Reigning Champ</td>\n",
       "      <td>Harrison Butker</td>\n",
       "      <td>3055899</td>\n",
       "      <td>5</td>\n",
       "      <td>15</td>\n",
       "      <td>145.15</td>\n",
       "      <td>47.00</td>\n",
       "      <td>29</td>\n",
       "      <td>KC</td>\n",
       "      <td>-98.15</td>\n",
       "    </tr>\n",
       "    <tr>\n",
       "      <th>120</th>\n",
       "      <td>Cougar Town Zach Wilson</td>\n",
       "      <td>Brian Robinson Jr.</td>\n",
       "      <td>4241474</td>\n",
       "      <td>8</td>\n",
       "      <td>15</td>\n",
       "      <td>102.87</td>\n",
       "      <td>52.90</td>\n",
       "      <td>52</td>\n",
       "      <td>WSH</td>\n",
       "      <td>-49.97</td>\n",
       "    </tr>\n",
       "    <tr>\n",
       "      <th>121</th>\n",
       "      <td>No Nyugen Will Win</td>\n",
       "      <td>Christian Watson</td>\n",
       "      <td>4248528</td>\n",
       "      <td>2</td>\n",
       "      <td>16</td>\n",
       "      <td>108.76</td>\n",
       "      <td>80.50</td>\n",
       "      <td>53</td>\n",
       "      <td>GB</td>\n",
       "      <td>-28.26</td>\n",
       "    </tr>\n",
       "  </tbody>\n",
       "</table>\n",
       "<p>122 rows × 10 columns</p>\n",
       "</div>"
      ],
      "text/plain": [
       "                        Team               Player       ID  RoundPick  \\\n",
       "0          P-Town CASH KEVIN      Jonathan Taylor  4242335          1   \n",
       "1               Diggy Wit it  Christian McCaffrey  3117251          2   \n",
       "2            My Team  A Bust        Austin Ekeler  3068267          3   \n",
       "3            Eugene Tweakers          Cooper Kupp  2977187          4   \n",
       "4        Couv Reigning Champ          Dalvin Cook  3116593          5   \n",
       "..                       ...                  ...      ...        ...   \n",
       "117          My Team  A Bust           Tyler Bass  3917232          3   \n",
       "118          Eugene Tweakers         Cowboys D/ST   -16006          4   \n",
       "119      Couv Reigning Champ      Harrison Butker  3055899          5   \n",
       "120  Cougar Town Zach Wilson   Brian Robinson Jr.  4241474          8   \n",
       "121       No Nyugen Will Win     Christian Watson  4248528          2   \n",
       "\n",
       "     RoundNum  Expected_Points  Actual_Points  Rank NFLTeam  Difference  \n",
       "0           1           316.99         112.00    24     IND     -204.99  \n",
       "1           1           309.94         201.76     3      SF     -108.18  \n",
       "2           1           284.73         230.10     1     LAC      -54.63  \n",
       "3           1           312.91         201.40     5     LAR     -111.51  \n",
       "4           1           258.49         156.50    11     MIN     -101.99  \n",
       "..        ...              ...            ...   ...     ...         ...  \n",
       "117        15           131.58         100.00     1     BUF      -31.58  \n",
       "118        15           106.49         109.00     2     DAL        2.51  \n",
       "119        15           145.15          47.00    29      KC      -98.15  \n",
       "120        15           102.87          52.90    52     WSH      -49.97  \n",
       "121        16           108.76          80.50    53      GB      -28.26  \n",
       "\n",
       "[122 rows x 10 columns]"
      ]
     },
     "execution_count": 10,
     "metadata": {},
     "output_type": "execute_result"
    }
   ],
   "source": [
    "combined_df"
   ]
  },
  {
   "cell_type": "code",
   "execution_count": 11,
   "id": "b0c84971",
   "metadata": {},
   "outputs": [],
   "source": [
    "#normalize\n",
    "combined_df['Normalized_Difference'] = combined_df['Difference'] /combined_df['Difference'].abs().max()\n",
    "  "
   ]
  },
  {
   "cell_type": "code",
   "execution_count": 12,
   "id": "f85e95c1",
   "metadata": {},
   "outputs": [
    {
     "data": {
      "text/html": [
       "<div>\n",
       "<style scoped>\n",
       "    .dataframe tbody tr th:only-of-type {\n",
       "        vertical-align: middle;\n",
       "    }\n",
       "\n",
       "    .dataframe tbody tr th {\n",
       "        vertical-align: top;\n",
       "    }\n",
       "\n",
       "    .dataframe thead th {\n",
       "        text-align: right;\n",
       "    }\n",
       "</style>\n",
       "<table border=\"1\" class=\"dataframe\">\n",
       "  <thead>\n",
       "    <tr style=\"text-align: right;\">\n",
       "      <th></th>\n",
       "      <th>Team</th>\n",
       "      <th>Player</th>\n",
       "      <th>ID</th>\n",
       "      <th>RoundPick</th>\n",
       "      <th>RoundNum</th>\n",
       "      <th>Expected_Points</th>\n",
       "      <th>Actual_Points</th>\n",
       "      <th>Rank</th>\n",
       "      <th>NFLTeam</th>\n",
       "      <th>Difference</th>\n",
       "      <th>Normalized_Difference</th>\n",
       "    </tr>\n",
       "  </thead>\n",
       "  <tbody>\n",
       "    <tr>\n",
       "      <th>0</th>\n",
       "      <td>P-Town CASH KEVIN</td>\n",
       "      <td>Jonathan Taylor</td>\n",
       "      <td>4242335</td>\n",
       "      <td>1</td>\n",
       "      <td>1</td>\n",
       "      <td>316.99</td>\n",
       "      <td>112.00</td>\n",
       "      <td>24</td>\n",
       "      <td>IND</td>\n",
       "      <td>-204.99</td>\n",
       "      <td>-0.912933</td>\n",
       "    </tr>\n",
       "    <tr>\n",
       "      <th>1</th>\n",
       "      <td>Diggy Wit it</td>\n",
       "      <td>Christian McCaffrey</td>\n",
       "      <td>3117251</td>\n",
       "      <td>2</td>\n",
       "      <td>1</td>\n",
       "      <td>309.94</td>\n",
       "      <td>201.76</td>\n",
       "      <td>3</td>\n",
       "      <td>SF</td>\n",
       "      <td>-108.18</td>\n",
       "      <td>-0.481785</td>\n",
       "    </tr>\n",
       "    <tr>\n",
       "      <th>2</th>\n",
       "      <td>My Team  A Bust</td>\n",
       "      <td>Austin Ekeler</td>\n",
       "      <td>3068267</td>\n",
       "      <td>3</td>\n",
       "      <td>1</td>\n",
       "      <td>284.73</td>\n",
       "      <td>230.10</td>\n",
       "      <td>1</td>\n",
       "      <td>LAC</td>\n",
       "      <td>-54.63</td>\n",
       "      <td>-0.243297</td>\n",
       "    </tr>\n",
       "    <tr>\n",
       "      <th>3</th>\n",
       "      <td>Eugene Tweakers</td>\n",
       "      <td>Cooper Kupp</td>\n",
       "      <td>2977187</td>\n",
       "      <td>4</td>\n",
       "      <td>1</td>\n",
       "      <td>312.91</td>\n",
       "      <td>201.40</td>\n",
       "      <td>5</td>\n",
       "      <td>LAR</td>\n",
       "      <td>-111.51</td>\n",
       "      <td>-0.496615</td>\n",
       "    </tr>\n",
       "    <tr>\n",
       "      <th>4</th>\n",
       "      <td>Couv Reigning Champ</td>\n",
       "      <td>Dalvin Cook</td>\n",
       "      <td>3116593</td>\n",
       "      <td>5</td>\n",
       "      <td>1</td>\n",
       "      <td>258.49</td>\n",
       "      <td>156.50</td>\n",
       "      <td>11</td>\n",
       "      <td>MIN</td>\n",
       "      <td>-101.99</td>\n",
       "      <td>-0.454218</td>\n",
       "    </tr>\n",
       "    <tr>\n",
       "      <th>...</th>\n",
       "      <td>...</td>\n",
       "      <td>...</td>\n",
       "      <td>...</td>\n",
       "      <td>...</td>\n",
       "      <td>...</td>\n",
       "      <td>...</td>\n",
       "      <td>...</td>\n",
       "      <td>...</td>\n",
       "      <td>...</td>\n",
       "      <td>...</td>\n",
       "      <td>...</td>\n",
       "    </tr>\n",
       "    <tr>\n",
       "      <th>117</th>\n",
       "      <td>My Team  A Bust</td>\n",
       "      <td>Tyler Bass</td>\n",
       "      <td>3917232</td>\n",
       "      <td>3</td>\n",
       "      <td>15</td>\n",
       "      <td>131.58</td>\n",
       "      <td>100.00</td>\n",
       "      <td>1</td>\n",
       "      <td>BUF</td>\n",
       "      <td>-31.58</td>\n",
       "      <td>-0.140643</td>\n",
       "    </tr>\n",
       "    <tr>\n",
       "      <th>118</th>\n",
       "      <td>Eugene Tweakers</td>\n",
       "      <td>Cowboys D/ST</td>\n",
       "      <td>-16006</td>\n",
       "      <td>4</td>\n",
       "      <td>15</td>\n",
       "      <td>106.49</td>\n",
       "      <td>109.00</td>\n",
       "      <td>2</td>\n",
       "      <td>DAL</td>\n",
       "      <td>2.51</td>\n",
       "      <td>0.011178</td>\n",
       "    </tr>\n",
       "    <tr>\n",
       "      <th>119</th>\n",
       "      <td>Couv Reigning Champ</td>\n",
       "      <td>Harrison Butker</td>\n",
       "      <td>3055899</td>\n",
       "      <td>5</td>\n",
       "      <td>15</td>\n",
       "      <td>145.15</td>\n",
       "      <td>47.00</td>\n",
       "      <td>29</td>\n",
       "      <td>KC</td>\n",
       "      <td>-98.15</td>\n",
       "      <td>-0.437116</td>\n",
       "    </tr>\n",
       "    <tr>\n",
       "      <th>120</th>\n",
       "      <td>Cougar Town Zach Wilson</td>\n",
       "      <td>Brian Robinson Jr.</td>\n",
       "      <td>4241474</td>\n",
       "      <td>8</td>\n",
       "      <td>15</td>\n",
       "      <td>102.87</td>\n",
       "      <td>52.90</td>\n",
       "      <td>52</td>\n",
       "      <td>WSH</td>\n",
       "      <td>-49.97</td>\n",
       "      <td>-0.222544</td>\n",
       "    </tr>\n",
       "    <tr>\n",
       "      <th>121</th>\n",
       "      <td>No Nyugen Will Win</td>\n",
       "      <td>Christian Watson</td>\n",
       "      <td>4248528</td>\n",
       "      <td>2</td>\n",
       "      <td>16</td>\n",
       "      <td>108.76</td>\n",
       "      <td>80.50</td>\n",
       "      <td>53</td>\n",
       "      <td>GB</td>\n",
       "      <td>-28.26</td>\n",
       "      <td>-0.125857</td>\n",
       "    </tr>\n",
       "  </tbody>\n",
       "</table>\n",
       "<p>122 rows × 11 columns</p>\n",
       "</div>"
      ],
      "text/plain": [
       "                        Team               Player       ID  RoundPick  \\\n",
       "0          P-Town CASH KEVIN      Jonathan Taylor  4242335          1   \n",
       "1               Diggy Wit it  Christian McCaffrey  3117251          2   \n",
       "2            My Team  A Bust        Austin Ekeler  3068267          3   \n",
       "3            Eugene Tweakers          Cooper Kupp  2977187          4   \n",
       "4        Couv Reigning Champ          Dalvin Cook  3116593          5   \n",
       "..                       ...                  ...      ...        ...   \n",
       "117          My Team  A Bust           Tyler Bass  3917232          3   \n",
       "118          Eugene Tweakers         Cowboys D/ST   -16006          4   \n",
       "119      Couv Reigning Champ      Harrison Butker  3055899          5   \n",
       "120  Cougar Town Zach Wilson   Brian Robinson Jr.  4241474          8   \n",
       "121       No Nyugen Will Win     Christian Watson  4248528          2   \n",
       "\n",
       "     RoundNum  Expected_Points  Actual_Points  Rank NFLTeam  Difference  \\\n",
       "0           1           316.99         112.00    24     IND     -204.99   \n",
       "1           1           309.94         201.76     3      SF     -108.18   \n",
       "2           1           284.73         230.10     1     LAC      -54.63   \n",
       "3           1           312.91         201.40     5     LAR     -111.51   \n",
       "4           1           258.49         156.50    11     MIN     -101.99   \n",
       "..        ...              ...            ...   ...     ...         ...   \n",
       "117        15           131.58         100.00     1     BUF      -31.58   \n",
       "118        15           106.49         109.00     2     DAL        2.51   \n",
       "119        15           145.15          47.00    29      KC      -98.15   \n",
       "120        15           102.87          52.90    52     WSH      -49.97   \n",
       "121        16           108.76          80.50    53      GB      -28.26   \n",
       "\n",
       "     Normalized_Difference  \n",
       "0                -0.912933  \n",
       "1                -0.481785  \n",
       "2                -0.243297  \n",
       "3                -0.496615  \n",
       "4                -0.454218  \n",
       "..                     ...  \n",
       "117              -0.140643  \n",
       "118               0.011178  \n",
       "119              -0.437116  \n",
       "120              -0.222544  \n",
       "121              -0.125857  \n",
       "\n",
       "[122 rows x 11 columns]"
      ]
     },
     "execution_count": 12,
     "metadata": {},
     "output_type": "execute_result"
    }
   ],
   "source": [
    "combined_df"
   ]
  },
  {
   "cell_type": "markdown",
   "id": "90734b61",
   "metadata": {},
   "source": [
    "# Now get their actual players"
   ]
  },
  {
   "cell_type": "code",
   "execution_count": 61,
   "id": "b81c77c5",
   "metadata": {},
   "outputs": [],
   "source": [
    "teams = []\n",
    "players = []\n",
    "projected = []\n",
    "actual = []\n",
    "stats = []\n",
    "ranks = []\n",
    "weeks = []\n",
    "current_df = pd.DataFrame()\n",
    "for i in range(1, 17):\n",
    "    league.load_roster_week(i)\n",
    "    for team in league.teams:\n",
    "        for player in team.roster:\n",
    "            weeks.append(i)\n",
    "            teams.append(team.team_name)\n",
    "            players.append(player.name)\n",
    "            projected.append(player.projected_total_points)\n",
    "            actual.append(player.total_points)\n",
    "            ranks.append(player.posRank)\n",
    "\n",
    "current_df['Team'] = teams\n",
    "current_df['Player'] = players\n",
    "current_df['Week'] = weeks\n",
    "current_df['Rank'] = ranks\n",
    "current_df['Expected_Points'] = projected\n",
    "current_df['Actual_Points'] = actual\n",
    "current_df['Week'] = weeks\n",
    "current_df['Difference'] = current_df['Actual_Points'] - current_df['Expected_Points']"
   ]
  },
  {
   "cell_type": "code",
   "execution_count": null,
   "id": "3e548134",
   "metadata": {},
   "outputs": [],
   "source": []
  },
  {
   "cell_type": "code",
   "execution_count": 14,
   "id": "2469ef39",
   "metadata": {},
   "outputs": [],
   "source": [
    "current_df.to_csv('Data/current_players.csv')"
   ]
  },
  {
   "cell_type": "code",
   "execution_count": 15,
   "id": "b468c104",
   "metadata": {},
   "outputs": [
    {
     "data": {
      "text/html": [
       "<div>\n",
       "<style scoped>\n",
       "    .dataframe tbody tr th:only-of-type {\n",
       "        vertical-align: middle;\n",
       "    }\n",
       "\n",
       "    .dataframe tbody tr th {\n",
       "        vertical-align: top;\n",
       "    }\n",
       "\n",
       "    .dataframe thead th {\n",
       "        text-align: right;\n",
       "    }\n",
       "</style>\n",
       "<table border=\"1\" class=\"dataframe\">\n",
       "  <thead>\n",
       "    <tr style=\"text-align: right;\">\n",
       "      <th></th>\n",
       "      <th>ID</th>\n",
       "      <th>RoundPick</th>\n",
       "      <th>RoundNum</th>\n",
       "      <th>Expected_Points</th>\n",
       "      <th>Actual_Points</th>\n",
       "      <th>Rank</th>\n",
       "      <th>Difference</th>\n",
       "      <th>Normalized_Difference</th>\n",
       "    </tr>\n",
       "    <tr>\n",
       "      <th>Team</th>\n",
       "      <th></th>\n",
       "      <th></th>\n",
       "      <th></th>\n",
       "      <th></th>\n",
       "      <th></th>\n",
       "      <th></th>\n",
       "      <th></th>\n",
       "      <th></th>\n",
       "    </tr>\n",
       "  </thead>\n",
       "  <tbody>\n",
       "    <tr>\n",
       "      <th>Cougar Town Zach Wilson</th>\n",
       "      <td>3.490025e+06</td>\n",
       "      <td>5.916667</td>\n",
       "      <td>7.083333</td>\n",
       "      <td>196.603333</td>\n",
       "      <td>99.983333</td>\n",
       "      <td>27.750000</td>\n",
       "      <td>-96.620000</td>\n",
       "      <td>-0.430302</td>\n",
       "    </tr>\n",
       "    <tr>\n",
       "      <th>Couv Reigning Champ</th>\n",
       "      <td>3.295082e+06</td>\n",
       "      <td>5.454545</td>\n",
       "      <td>7.818182</td>\n",
       "      <td>202.986364</td>\n",
       "      <td>115.692727</td>\n",
       "      <td>22.454545</td>\n",
       "      <td>-87.293636</td>\n",
       "      <td>-0.388767</td>\n",
       "    </tr>\n",
       "    <tr>\n",
       "      <th>Diggy Wit it</th>\n",
       "      <td>2.472610e+06</td>\n",
       "      <td>5.500000</td>\n",
       "      <td>7.333333</td>\n",
       "      <td>202.690833</td>\n",
       "      <td>116.321667</td>\n",
       "      <td>25.083333</td>\n",
       "      <td>-86.369167</td>\n",
       "      <td>-0.384649</td>\n",
       "    </tr>\n",
       "    <tr>\n",
       "      <th>Eugene Tweakers</th>\n",
       "      <td>2.832234e+06</td>\n",
       "      <td>5.384615</td>\n",
       "      <td>7.153846</td>\n",
       "      <td>222.665385</td>\n",
       "      <td>108.844615</td>\n",
       "      <td>32.538462</td>\n",
       "      <td>-113.820769</td>\n",
       "      <td>-0.506906</td>\n",
       "    </tr>\n",
       "    <tr>\n",
       "      <th>Gorilla Guys</th>\n",
       "      <td>2.741681e+06</td>\n",
       "      <td>5.500000</td>\n",
       "      <td>6.500000</td>\n",
       "      <td>206.660833</td>\n",
       "      <td>130.061667</td>\n",
       "      <td>26.083333</td>\n",
       "      <td>-76.599167</td>\n",
       "      <td>-0.341138</td>\n",
       "    </tr>\n",
       "    <tr>\n",
       "      <th>I dont know what im doing</th>\n",
       "      <td>1.888404e+06</td>\n",
       "      <td>5.090909</td>\n",
       "      <td>6.545455</td>\n",
       "      <td>195.667273</td>\n",
       "      <td>125.383636</td>\n",
       "      <td>19.909091</td>\n",
       "      <td>-70.283636</td>\n",
       "      <td>-0.313012</td>\n",
       "    </tr>\n",
       "    <tr>\n",
       "      <th>Just-in-N-out Drive thru</th>\n",
       "      <td>3.010023e+06</td>\n",
       "      <td>4.750000</td>\n",
       "      <td>6.750000</td>\n",
       "      <td>201.440000</td>\n",
       "      <td>145.245000</td>\n",
       "      <td>10.166667</td>\n",
       "      <td>-56.195000</td>\n",
       "      <td>-0.250267</td>\n",
       "    </tr>\n",
       "    <tr>\n",
       "      <th>My Team  A Bust</th>\n",
       "      <td>3.897771e+06</td>\n",
       "      <td>5.500000</td>\n",
       "      <td>7.500000</td>\n",
       "      <td>202.554167</td>\n",
       "      <td>140.140000</td>\n",
       "      <td>16.583333</td>\n",
       "      <td>-62.414167</td>\n",
       "      <td>-0.277965</td>\n",
       "    </tr>\n",
       "    <tr>\n",
       "      <th>No Nyugen Will Win</th>\n",
       "      <td>3.533783e+06</td>\n",
       "      <td>5.500000</td>\n",
       "      <td>8.357143</td>\n",
       "      <td>194.849286</td>\n",
       "      <td>117.860000</td>\n",
       "      <td>22.857143</td>\n",
       "      <td>-76.989286</td>\n",
       "      <td>-0.342876</td>\n",
       "    </tr>\n",
       "    <tr>\n",
       "      <th>P-Town CASH KEVIN</th>\n",
       "      <td>2.910000e+06</td>\n",
       "      <td>5.153846</td>\n",
       "      <td>7.769231</td>\n",
       "      <td>216.589231</td>\n",
       "      <td>145.603077</td>\n",
       "      <td>15.230769</td>\n",
       "      <td>-70.986154</td>\n",
       "      <td>-0.316140</td>\n",
       "    </tr>\n",
       "  </tbody>\n",
       "</table>\n",
       "</div>"
      ],
      "text/plain": [
       "                                     ID  RoundPick  RoundNum  Expected_Points  \\\n",
       "Team                                                                            \n",
       "Cougar Town Zach Wilson    3.490025e+06   5.916667  7.083333       196.603333   \n",
       "Couv Reigning Champ        3.295082e+06   5.454545  7.818182       202.986364   \n",
       "Diggy Wit it               2.472610e+06   5.500000  7.333333       202.690833   \n",
       "Eugene Tweakers            2.832234e+06   5.384615  7.153846       222.665385   \n",
       "Gorilla Guys               2.741681e+06   5.500000  6.500000       206.660833   \n",
       "I dont know what im doing  1.888404e+06   5.090909  6.545455       195.667273   \n",
       "Just-in-N-out Drive thru   3.010023e+06   4.750000  6.750000       201.440000   \n",
       "My Team  A Bust            3.897771e+06   5.500000  7.500000       202.554167   \n",
       "No Nyugen Will Win         3.533783e+06   5.500000  8.357143       194.849286   \n",
       "P-Town CASH KEVIN          2.910000e+06   5.153846  7.769231       216.589231   \n",
       "\n",
       "                           Actual_Points       Rank  Difference  \\\n",
       "Team                                                              \n",
       "Cougar Town Zach Wilson        99.983333  27.750000  -96.620000   \n",
       "Couv Reigning Champ           115.692727  22.454545  -87.293636   \n",
       "Diggy Wit it                  116.321667  25.083333  -86.369167   \n",
       "Eugene Tweakers               108.844615  32.538462 -113.820769   \n",
       "Gorilla Guys                  130.061667  26.083333  -76.599167   \n",
       "I dont know what im doing     125.383636  19.909091  -70.283636   \n",
       "Just-in-N-out Drive thru      145.245000  10.166667  -56.195000   \n",
       "My Team  A Bust               140.140000  16.583333  -62.414167   \n",
       "No Nyugen Will Win            117.860000  22.857143  -76.989286   \n",
       "P-Town CASH KEVIN             145.603077  15.230769  -70.986154   \n",
       "\n",
       "                           Normalized_Difference  \n",
       "Team                                              \n",
       "Cougar Town Zach Wilson                -0.430302  \n",
       "Couv Reigning Champ                    -0.388767  \n",
       "Diggy Wit it                           -0.384649  \n",
       "Eugene Tweakers                        -0.506906  \n",
       "Gorilla Guys                           -0.341138  \n",
       "I dont know what im doing              -0.313012  \n",
       "Just-in-N-out Drive thru               -0.250267  \n",
       "My Team  A Bust                        -0.277965  \n",
       "No Nyugen Will Win                     -0.342876  \n",
       "P-Town CASH KEVIN                      -0.316140  "
      ]
     },
     "execution_count": 15,
     "metadata": {},
     "output_type": "execute_result"
    }
   ],
   "source": [
    "combined_df.groupby('Team').mean()"
   ]
  },
  {
   "cell_type": "code",
   "execution_count": 16,
   "id": "0ab47440",
   "metadata": {},
   "outputs": [
    {
     "data": {
      "text/html": [
       "<div>\n",
       "<style scoped>\n",
       "    .dataframe tbody tr th:only-of-type {\n",
       "        vertical-align: middle;\n",
       "    }\n",
       "\n",
       "    .dataframe tbody tr th {\n",
       "        vertical-align: top;\n",
       "    }\n",
       "\n",
       "    .dataframe thead th {\n",
       "        text-align: right;\n",
       "    }\n",
       "</style>\n",
       "<table border=\"1\" class=\"dataframe\">\n",
       "  <thead>\n",
       "    <tr style=\"text-align: right;\">\n",
       "      <th></th>\n",
       "      <th>Rank</th>\n",
       "      <th>Expected_Points</th>\n",
       "      <th>Actual_Points</th>\n",
       "      <th>Difference</th>\n",
       "    </tr>\n",
       "    <tr>\n",
       "      <th>Team</th>\n",
       "      <th></th>\n",
       "      <th></th>\n",
       "      <th></th>\n",
       "      <th></th>\n",
       "    </tr>\n",
       "  </thead>\n",
       "  <tbody>\n",
       "    <tr>\n",
       "      <th>Cougar Town Zach Wilson</th>\n",
       "      <td>30.361624</td>\n",
       "      <td>195.389889</td>\n",
       "      <td>99.102435</td>\n",
       "      <td>-96.287454</td>\n",
       "    </tr>\n",
       "    <tr>\n",
       "      <th>Eugene Tweakers</th>\n",
       "      <td>33.604000</td>\n",
       "      <td>189.472320</td>\n",
       "      <td>99.246080</td>\n",
       "      <td>-90.226240</td>\n",
       "    </tr>\n",
       "    <tr>\n",
       "      <th>Couv Reigning Champ</th>\n",
       "      <td>27.903704</td>\n",
       "      <td>183.929074</td>\n",
       "      <td>107.403185</td>\n",
       "      <td>-76.525889</td>\n",
       "    </tr>\n",
       "    <tr>\n",
       "      <th>Gorilla Guys</th>\n",
       "      <td>27.670498</td>\n",
       "      <td>189.947203</td>\n",
       "      <td>115.083295</td>\n",
       "      <td>-74.863908</td>\n",
       "    </tr>\n",
       "    <tr>\n",
       "      <th>P-Town CASH KEVIN</th>\n",
       "      <td>25.041509</td>\n",
       "      <td>190.976642</td>\n",
       "      <td>124.234868</td>\n",
       "      <td>-66.741774</td>\n",
       "    </tr>\n",
       "    <tr>\n",
       "      <th>Diggy Wit it</th>\n",
       "      <td>22.132353</td>\n",
       "      <td>172.115625</td>\n",
       "      <td>107.339485</td>\n",
       "      <td>-64.776140</td>\n",
       "    </tr>\n",
       "    <tr>\n",
       "      <th>No Nyugen Will Win</th>\n",
       "      <td>26.657795</td>\n",
       "      <td>170.460114</td>\n",
       "      <td>106.327224</td>\n",
       "      <td>-64.132890</td>\n",
       "    </tr>\n",
       "    <tr>\n",
       "      <th>I dont know what im doing</th>\n",
       "      <td>22.552124</td>\n",
       "      <td>178.528456</td>\n",
       "      <td>116.290579</td>\n",
       "      <td>-62.237876</td>\n",
       "    </tr>\n",
       "    <tr>\n",
       "      <th>My Team  A Bust</th>\n",
       "      <td>23.369004</td>\n",
       "      <td>174.430369</td>\n",
       "      <td>118.459779</td>\n",
       "      <td>-55.970590</td>\n",
       "    </tr>\n",
       "    <tr>\n",
       "      <th>Just-in-N-out Drive thru</th>\n",
       "      <td>17.691120</td>\n",
       "      <td>178.364247</td>\n",
       "      <td>126.789344</td>\n",
       "      <td>-51.574903</td>\n",
       "    </tr>\n",
       "  </tbody>\n",
       "</table>\n",
       "</div>"
      ],
      "text/plain": [
       "                                Rank  Expected_Points  Actual_Points  \\\n",
       "Team                                                                   \n",
       "Cougar Town Zach Wilson    30.361624       195.389889      99.102435   \n",
       "Eugene Tweakers            33.604000       189.472320      99.246080   \n",
       "Couv Reigning Champ        27.903704       183.929074     107.403185   \n",
       "Gorilla Guys               27.670498       189.947203     115.083295   \n",
       "P-Town CASH KEVIN          25.041509       190.976642     124.234868   \n",
       "Diggy Wit it               22.132353       172.115625     107.339485   \n",
       "No Nyugen Will Win         26.657795       170.460114     106.327224   \n",
       "I dont know what im doing  22.552124       178.528456     116.290579   \n",
       "My Team  A Bust            23.369004       174.430369     118.459779   \n",
       "Just-in-N-out Drive thru   17.691120       178.364247     126.789344   \n",
       "\n",
       "                           Difference  \n",
       "Team                                   \n",
       "Cougar Town Zach Wilson    -96.287454  \n",
       "Eugene Tweakers            -90.226240  \n",
       "Couv Reigning Champ        -76.525889  \n",
       "Gorilla Guys               -74.863908  \n",
       "P-Town CASH KEVIN          -66.741774  \n",
       "Diggy Wit it               -64.776140  \n",
       "No Nyugen Will Win         -64.132890  \n",
       "I dont know what im doing  -62.237876  \n",
       "My Team  A Bust            -55.970590  \n",
       "Just-in-N-out Drive thru   -51.574903  "
      ]
     },
     "execution_count": 16,
     "metadata": {},
     "output_type": "execute_result"
    }
   ],
   "source": [
    "now_df = current_df.groupby('Team').mean().sort_values('Difference')\n",
    "now_df"
   ]
  },
  {
   "cell_type": "code",
   "execution_count": 17,
   "id": "90ef7c0e",
   "metadata": {},
   "outputs": [
    {
     "data": {
      "text/html": [
       "<div>\n",
       "<style scoped>\n",
       "    .dataframe tbody tr th:only-of-type {\n",
       "        vertical-align: middle;\n",
       "    }\n",
       "\n",
       "    .dataframe tbody tr th {\n",
       "        vertical-align: top;\n",
       "    }\n",
       "\n",
       "    .dataframe thead th {\n",
       "        text-align: right;\n",
       "    }\n",
       "</style>\n",
       "<table border=\"1\" class=\"dataframe\">\n",
       "  <thead>\n",
       "    <tr style=\"text-align: right;\">\n",
       "      <th></th>\n",
       "      <th>ID</th>\n",
       "      <th>RoundPick</th>\n",
       "      <th>RoundNum</th>\n",
       "      <th>Expected_Points</th>\n",
       "      <th>Actual_Points</th>\n",
       "      <th>Rank</th>\n",
       "      <th>Difference</th>\n",
       "      <th>Normalized_Difference</th>\n",
       "    </tr>\n",
       "    <tr>\n",
       "      <th>Team</th>\n",
       "      <th></th>\n",
       "      <th></th>\n",
       "      <th></th>\n",
       "      <th></th>\n",
       "      <th></th>\n",
       "      <th></th>\n",
       "      <th></th>\n",
       "      <th></th>\n",
       "    </tr>\n",
       "  </thead>\n",
       "  <tbody>\n",
       "    <tr>\n",
       "      <th>Eugene Tweakers</th>\n",
       "      <td>2.832234e+06</td>\n",
       "      <td>5.384615</td>\n",
       "      <td>7.153846</td>\n",
       "      <td>222.665385</td>\n",
       "      <td>108.844615</td>\n",
       "      <td>32.538462</td>\n",
       "      <td>-113.820769</td>\n",
       "      <td>-0.506906</td>\n",
       "    </tr>\n",
       "    <tr>\n",
       "      <th>Cougar Town Zach Wilson</th>\n",
       "      <td>3.490025e+06</td>\n",
       "      <td>5.916667</td>\n",
       "      <td>7.083333</td>\n",
       "      <td>196.603333</td>\n",
       "      <td>99.983333</td>\n",
       "      <td>27.750000</td>\n",
       "      <td>-96.620000</td>\n",
       "      <td>-0.430302</td>\n",
       "    </tr>\n",
       "    <tr>\n",
       "      <th>Couv Reigning Champ</th>\n",
       "      <td>3.295082e+06</td>\n",
       "      <td>5.454545</td>\n",
       "      <td>7.818182</td>\n",
       "      <td>202.986364</td>\n",
       "      <td>115.692727</td>\n",
       "      <td>22.454545</td>\n",
       "      <td>-87.293636</td>\n",
       "      <td>-0.388767</td>\n",
       "    </tr>\n",
       "    <tr>\n",
       "      <th>Diggy Wit it</th>\n",
       "      <td>2.472610e+06</td>\n",
       "      <td>5.500000</td>\n",
       "      <td>7.333333</td>\n",
       "      <td>202.690833</td>\n",
       "      <td>116.321667</td>\n",
       "      <td>25.083333</td>\n",
       "      <td>-86.369167</td>\n",
       "      <td>-0.384649</td>\n",
       "    </tr>\n",
       "    <tr>\n",
       "      <th>No Nyugen Will Win</th>\n",
       "      <td>3.533783e+06</td>\n",
       "      <td>5.500000</td>\n",
       "      <td>8.357143</td>\n",
       "      <td>194.849286</td>\n",
       "      <td>117.860000</td>\n",
       "      <td>22.857143</td>\n",
       "      <td>-76.989286</td>\n",
       "      <td>-0.342876</td>\n",
       "    </tr>\n",
       "    <tr>\n",
       "      <th>Gorilla Guys</th>\n",
       "      <td>2.741681e+06</td>\n",
       "      <td>5.500000</td>\n",
       "      <td>6.500000</td>\n",
       "      <td>206.660833</td>\n",
       "      <td>130.061667</td>\n",
       "      <td>26.083333</td>\n",
       "      <td>-76.599167</td>\n",
       "      <td>-0.341138</td>\n",
       "    </tr>\n",
       "    <tr>\n",
       "      <th>P-Town CASH KEVIN</th>\n",
       "      <td>2.910000e+06</td>\n",
       "      <td>5.153846</td>\n",
       "      <td>7.769231</td>\n",
       "      <td>216.589231</td>\n",
       "      <td>145.603077</td>\n",
       "      <td>15.230769</td>\n",
       "      <td>-70.986154</td>\n",
       "      <td>-0.316140</td>\n",
       "    </tr>\n",
       "    <tr>\n",
       "      <th>I dont know what im doing</th>\n",
       "      <td>1.888404e+06</td>\n",
       "      <td>5.090909</td>\n",
       "      <td>6.545455</td>\n",
       "      <td>195.667273</td>\n",
       "      <td>125.383636</td>\n",
       "      <td>19.909091</td>\n",
       "      <td>-70.283636</td>\n",
       "      <td>-0.313012</td>\n",
       "    </tr>\n",
       "    <tr>\n",
       "      <th>My Team  A Bust</th>\n",
       "      <td>3.897771e+06</td>\n",
       "      <td>5.500000</td>\n",
       "      <td>7.500000</td>\n",
       "      <td>202.554167</td>\n",
       "      <td>140.140000</td>\n",
       "      <td>16.583333</td>\n",
       "      <td>-62.414167</td>\n",
       "      <td>-0.277965</td>\n",
       "    </tr>\n",
       "    <tr>\n",
       "      <th>Just-in-N-out Drive thru</th>\n",
       "      <td>3.010023e+06</td>\n",
       "      <td>4.750000</td>\n",
       "      <td>6.750000</td>\n",
       "      <td>201.440000</td>\n",
       "      <td>145.245000</td>\n",
       "      <td>10.166667</td>\n",
       "      <td>-56.195000</td>\n",
       "      <td>-0.250267</td>\n",
       "    </tr>\n",
       "  </tbody>\n",
       "</table>\n",
       "</div>"
      ],
      "text/plain": [
       "                                     ID  RoundPick  RoundNum  Expected_Points  \\\n",
       "Team                                                                            \n",
       "Eugene Tweakers            2.832234e+06   5.384615  7.153846       222.665385   \n",
       "Cougar Town Zach Wilson    3.490025e+06   5.916667  7.083333       196.603333   \n",
       "Couv Reigning Champ        3.295082e+06   5.454545  7.818182       202.986364   \n",
       "Diggy Wit it               2.472610e+06   5.500000  7.333333       202.690833   \n",
       "No Nyugen Will Win         3.533783e+06   5.500000  8.357143       194.849286   \n",
       "Gorilla Guys               2.741681e+06   5.500000  6.500000       206.660833   \n",
       "P-Town CASH KEVIN          2.910000e+06   5.153846  7.769231       216.589231   \n",
       "I dont know what im doing  1.888404e+06   5.090909  6.545455       195.667273   \n",
       "My Team  A Bust            3.897771e+06   5.500000  7.500000       202.554167   \n",
       "Just-in-N-out Drive thru   3.010023e+06   4.750000  6.750000       201.440000   \n",
       "\n",
       "                           Actual_Points       Rank  Difference  \\\n",
       "Team                                                              \n",
       "Eugene Tweakers               108.844615  32.538462 -113.820769   \n",
       "Cougar Town Zach Wilson        99.983333  27.750000  -96.620000   \n",
       "Couv Reigning Champ           115.692727  22.454545  -87.293636   \n",
       "Diggy Wit it                  116.321667  25.083333  -86.369167   \n",
       "No Nyugen Will Win            117.860000  22.857143  -76.989286   \n",
       "Gorilla Guys                  130.061667  26.083333  -76.599167   \n",
       "P-Town CASH KEVIN             145.603077  15.230769  -70.986154   \n",
       "I dont know what im doing     125.383636  19.909091  -70.283636   \n",
       "My Team  A Bust               140.140000  16.583333  -62.414167   \n",
       "Just-in-N-out Drive thru      145.245000  10.166667  -56.195000   \n",
       "\n",
       "                           Normalized_Difference  \n",
       "Team                                              \n",
       "Eugene Tweakers                        -0.506906  \n",
       "Cougar Town Zach Wilson                -0.430302  \n",
       "Couv Reigning Champ                    -0.388767  \n",
       "Diggy Wit it                           -0.384649  \n",
       "No Nyugen Will Win                     -0.342876  \n",
       "Gorilla Guys                           -0.341138  \n",
       "P-Town CASH KEVIN                      -0.316140  \n",
       "I dont know what im doing              -0.313012  \n",
       "My Team  A Bust                        -0.277965  \n",
       "Just-in-N-out Drive thru               -0.250267  "
      ]
     },
     "execution_count": 17,
     "metadata": {},
     "output_type": "execute_result"
    }
   ],
   "source": [
    "drafted_df = combined_df.groupby('Team').mean().sort_values('Difference')\n",
    "drafted_df"
   ]
  },
  {
   "cell_type": "code",
   "execution_count": 18,
   "id": "ba7b97ba",
   "metadata": {},
   "outputs": [],
   "source": [
    "#Actual x = draft\n",
    "#Actual y = Now\n",
    "comparison_df = pd.merge(drafted_df, now_df, on = 'Team')\n",
    "comparison_df = comparison_df[['Expected_Points_x', 'Actual_Points_x', 'Difference_x', 'Rank_x', 'Expected_Points_y', 'Actual_Points_y', 'Difference_y', 'Rank_y']]\n",
    "\n"
   ]
  },
  {
   "cell_type": "code",
   "execution_count": 19,
   "id": "d0d17d57",
   "metadata": {},
   "outputs": [
    {
     "data": {
      "text/html": [
       "<div>\n",
       "<style scoped>\n",
       "    .dataframe tbody tr th:only-of-type {\n",
       "        vertical-align: middle;\n",
       "    }\n",
       "\n",
       "    .dataframe tbody tr th {\n",
       "        vertical-align: top;\n",
       "    }\n",
       "\n",
       "    .dataframe thead th {\n",
       "        text-align: right;\n",
       "    }\n",
       "</style>\n",
       "<table border=\"1\" class=\"dataframe\">\n",
       "  <thead>\n",
       "    <tr style=\"text-align: right;\">\n",
       "      <th></th>\n",
       "      <th>Delta_Projections</th>\n",
       "      <th>Delta_Ranks</th>\n",
       "    </tr>\n",
       "    <tr>\n",
       "      <th>Team</th>\n",
       "      <th></th>\n",
       "      <th></th>\n",
       "    </tr>\n",
       "  </thead>\n",
       "  <tbody>\n",
       "    <tr>\n",
       "      <th>Diggy Wit it</th>\n",
       "      <td>-21.593027</td>\n",
       "      <td>2.950980</td>\n",
       "    </tr>\n",
       "    <tr>\n",
       "      <th>Eugene Tweakers</th>\n",
       "      <td>-23.594529</td>\n",
       "      <td>-1.065538</td>\n",
       "    </tr>\n",
       "    <tr>\n",
       "      <th>Gorilla Guys</th>\n",
       "      <td>-1.735259</td>\n",
       "      <td>-1.587165</td>\n",
       "    </tr>\n",
       "    <tr>\n",
       "      <th>Cougar Town Zach Wilson</th>\n",
       "      <td>-0.332546</td>\n",
       "      <td>-2.611624</td>\n",
       "    </tr>\n",
       "    <tr>\n",
       "      <th>I dont know what im doing</th>\n",
       "      <td>-8.045760</td>\n",
       "      <td>-2.643033</td>\n",
       "    </tr>\n",
       "    <tr>\n",
       "      <th>No Nyugen Will Win</th>\n",
       "      <td>-12.856396</td>\n",
       "      <td>-3.800652</td>\n",
       "    </tr>\n",
       "    <tr>\n",
       "      <th>Couv Reigning Champ</th>\n",
       "      <td>-10.767747</td>\n",
       "      <td>-5.449158</td>\n",
       "    </tr>\n",
       "    <tr>\n",
       "      <th>My Team  A Bust</th>\n",
       "      <td>-6.443576</td>\n",
       "      <td>-6.785670</td>\n",
       "    </tr>\n",
       "    <tr>\n",
       "      <th>Just-in-N-out Drive thru</th>\n",
       "      <td>-4.620097</td>\n",
       "      <td>-7.524453</td>\n",
       "    </tr>\n",
       "    <tr>\n",
       "      <th>P-Town CASH KEVIN</th>\n",
       "      <td>-4.244380</td>\n",
       "      <td>-9.810740</td>\n",
       "    </tr>\n",
       "  </tbody>\n",
       "</table>\n",
       "</div>"
      ],
      "text/plain": [
       "                           Delta_Projections  Delta_Ranks\n",
       "Team                                                     \n",
       "Diggy Wit it                      -21.593027     2.950980\n",
       "Eugene Tweakers                   -23.594529    -1.065538\n",
       "Gorilla Guys                       -1.735259    -1.587165\n",
       "Cougar Town Zach Wilson            -0.332546    -2.611624\n",
       "I dont know what im doing          -8.045760    -2.643033\n",
       "No Nyugen Will Win                -12.856396    -3.800652\n",
       "Couv Reigning Champ               -10.767747    -5.449158\n",
       "My Team  A Bust                    -6.443576    -6.785670\n",
       "Just-in-N-out Drive thru           -4.620097    -7.524453\n",
       "P-Town CASH KEVIN                  -4.244380    -9.810740"
      ]
     },
     "execution_count": 19,
     "metadata": {},
     "output_type": "execute_result"
    }
   ],
   "source": [
    "comparison_df['Delta_Projections'] = comparison_df['Difference_x'] - comparison_df['Difference_y']\n",
    "comparison_df['Delta_Ranks'] = comparison_df['Rank_x'] - comparison_df['Rank_y']\n",
    "comparison_df = comparison_df.sort_values('Delta_Projections', ascending = False)\n",
    "comparison_df[['Delta_Projections', 'Delta_Ranks']].sort_values('Delta_Ranks', ascending=False)"
   ]
  },
  {
   "cell_type": "code",
   "execution_count": 60,
   "id": "1adc2633",
   "metadata": {},
   "outputs": [
    {
     "data": {
      "text/html": [
       "<div>\n",
       "<style scoped>\n",
       "    .dataframe tbody tr th:only-of-type {\n",
       "        vertical-align: middle;\n",
       "    }\n",
       "\n",
       "    .dataframe tbody tr th {\n",
       "        vertical-align: top;\n",
       "    }\n",
       "\n",
       "    .dataframe thead th {\n",
       "        text-align: right;\n",
       "    }\n",
       "</style>\n",
       "<table border=\"1\" class=\"dataframe\">\n",
       "  <thead>\n",
       "    <tr style=\"text-align: right;\">\n",
       "      <th></th>\n",
       "      <th>Team</th>\n",
       "      <th>Player</th>\n",
       "      <th>Rank</th>\n",
       "      <th>Expected_Points</th>\n",
       "      <th>Actual_Points</th>\n",
       "      <th>Difference</th>\n",
       "    </tr>\n",
       "  </thead>\n",
       "  <tbody>\n",
       "    <tr>\n",
       "      <th>0</th>\n",
       "      <td>I dont know what im doing</td>\n",
       "      <td>Leonard Fournette</td>\n",
       "      <td>12</td>\n",
       "      <td>258.74</td>\n",
       "      <td>154.7</td>\n",
       "      <td>-104.04</td>\n",
       "    </tr>\n",
       "    <tr>\n",
       "      <th>1</th>\n",
       "      <td>I dont know what im doing</td>\n",
       "      <td>Davante Adams</td>\n",
       "      <td>3</td>\n",
       "      <td>253.59</td>\n",
       "      <td>216.4</td>\n",
       "      <td>-37.19</td>\n",
       "    </tr>\n",
       "    <tr>\n",
       "      <th>2</th>\n",
       "      <td>I dont know what im doing</td>\n",
       "      <td>Mike Evans</td>\n",
       "      <td>20</td>\n",
       "      <td>223.32</td>\n",
       "      <td>134.1</td>\n",
       "      <td>-89.22</td>\n",
       "    </tr>\n",
       "    <tr>\n",
       "      <th>3</th>\n",
       "      <td>I dont know what im doing</td>\n",
       "      <td>Breece Hall</td>\n",
       "      <td>22</td>\n",
       "      <td>210.66</td>\n",
       "      <td>115.1</td>\n",
       "      <td>-95.56</td>\n",
       "    </tr>\n",
       "    <tr>\n",
       "      <th>4</th>\n",
       "      <td>I dont know what im doing</td>\n",
       "      <td>Brandin Cooks</td>\n",
       "      <td>49</td>\n",
       "      <td>215.10</td>\n",
       "      <td>91.6</td>\n",
       "      <td>-123.50</td>\n",
       "    </tr>\n",
       "    <tr>\n",
       "      <th>...</th>\n",
       "      <td>...</td>\n",
       "      <td>...</td>\n",
       "      <td>...</td>\n",
       "      <td>...</td>\n",
       "      <td>...</td>\n",
       "      <td>...</td>\n",
       "    </tr>\n",
       "    <tr>\n",
       "      <th>2636</th>\n",
       "      <td>P-Town CASH KEVIN</td>\n",
       "      <td>Breece Hall</td>\n",
       "      <td>22</td>\n",
       "      <td>210.66</td>\n",
       "      <td>115.1</td>\n",
       "      <td>-95.56</td>\n",
       "    </tr>\n",
       "    <tr>\n",
       "      <th>2637</th>\n",
       "      <td>P-Town CASH KEVIN</td>\n",
       "      <td>Josh Reynolds</td>\n",
       "      <td>61</td>\n",
       "      <td>58.02</td>\n",
       "      <td>73.7</td>\n",
       "      <td>15.68</td>\n",
       "    </tr>\n",
       "    <tr>\n",
       "      <th>2638</th>\n",
       "      <td>P-Town CASH KEVIN</td>\n",
       "      <td>Riley Patterson</td>\n",
       "      <td>22</td>\n",
       "      <td>126.77</td>\n",
       "      <td>65.0</td>\n",
       "      <td>-61.77</td>\n",
       "    </tr>\n",
       "    <tr>\n",
       "      <th>2639</th>\n",
       "      <td>P-Town CASH KEVIN</td>\n",
       "      <td>Kenyan Drake</td>\n",
       "      <td>41</td>\n",
       "      <td>13.48</td>\n",
       "      <td>79.2</td>\n",
       "      <td>65.72</td>\n",
       "    </tr>\n",
       "    <tr>\n",
       "      <th>2640</th>\n",
       "      <td>P-Town CASH KEVIN</td>\n",
       "      <td>Eno Benjamin</td>\n",
       "      <td>37</td>\n",
       "      <td>64.37</td>\n",
       "      <td>86.3</td>\n",
       "      <td>21.93</td>\n",
       "    </tr>\n",
       "  </tbody>\n",
       "</table>\n",
       "<p>2641 rows × 6 columns</p>\n",
       "</div>"
      ],
      "text/plain": [
       "                           Team             Player  Rank  Expected_Points  \\\n",
       "0     I dont know what im doing  Leonard Fournette    12           258.74   \n",
       "1     I dont know what im doing      Davante Adams     3           253.59   \n",
       "2     I dont know what im doing         Mike Evans    20           223.32   \n",
       "3     I dont know what im doing        Breece Hall    22           210.66   \n",
       "4     I dont know what im doing      Brandin Cooks    49           215.10   \n",
       "...                         ...                ...   ...              ...   \n",
       "2636          P-Town CASH KEVIN        Breece Hall    22           210.66   \n",
       "2637          P-Town CASH KEVIN      Josh Reynolds    61            58.02   \n",
       "2638          P-Town CASH KEVIN    Riley Patterson    22           126.77   \n",
       "2639          P-Town CASH KEVIN       Kenyan Drake    41            13.48   \n",
       "2640          P-Town CASH KEVIN       Eno Benjamin    37            64.37   \n",
       "\n",
       "      Actual_Points  Difference  \n",
       "0             154.7     -104.04  \n",
       "1             216.4      -37.19  \n",
       "2             134.1      -89.22  \n",
       "3             115.1      -95.56  \n",
       "4              91.6     -123.50  \n",
       "...             ...         ...  \n",
       "2636          115.1      -95.56  \n",
       "2637           73.7       15.68  \n",
       "2638           65.0      -61.77  \n",
       "2639           79.2       65.72  \n",
       "2640           86.3       21.93  \n",
       "\n",
       "[2641 rows x 6 columns]"
      ]
     },
     "execution_count": 60,
     "metadata": {},
     "output_type": "execute_result"
    }
   ],
   "source": [
    "current_df"
   ]
  },
  {
   "cell_type": "code",
   "execution_count": 62,
   "id": "33ebc00e",
   "metadata": {},
   "outputs": [
    {
     "name": "stderr",
     "output_type": "stream",
     "text": [
      "C:\\Users\\yangj\\AppData\\Local\\Temp\\ipykernel_1876\\1717063357.py:1: FutureWarning:\n",
      "\n",
      "The default value of numeric_only in DataFrameGroupBy.mean is deprecated. In a future version, numeric_only will default to False. Either specify numeric_only or select only columns which should be valid for the function.\n",
      "\n"
     ]
    },
    {
     "data": {
      "text/html": [
       "<div>\n",
       "<style scoped>\n",
       "    .dataframe tbody tr th:only-of-type {\n",
       "        vertical-align: middle;\n",
       "    }\n",
       "\n",
       "    .dataframe tbody tr th {\n",
       "        vertical-align: top;\n",
       "    }\n",
       "\n",
       "    .dataframe thead th {\n",
       "        text-align: right;\n",
       "    }\n",
       "</style>\n",
       "<table border=\"1\" class=\"dataframe\">\n",
       "  <thead>\n",
       "    <tr style=\"text-align: right;\">\n",
       "      <th></th>\n",
       "      <th>Team</th>\n",
       "      <th>Week</th>\n",
       "      <th>Rank</th>\n",
       "      <th>Expected_Points</th>\n",
       "      <th>Actual_Points</th>\n",
       "      <th>Difference</th>\n",
       "    </tr>\n",
       "  </thead>\n",
       "  <tbody>\n",
       "    <tr>\n",
       "      <th>0</th>\n",
       "      <td>Cougar Town Zach Wilson</td>\n",
       "      <td>1</td>\n",
       "      <td>37.500000</td>\n",
       "      <td>192.600625</td>\n",
       "      <td>90.915000</td>\n",
       "      <td>-101.685625</td>\n",
       "    </tr>\n",
       "    <tr>\n",
       "      <th>1</th>\n",
       "      <td>Cougar Town Zach Wilson</td>\n",
       "      <td>2</td>\n",
       "      <td>40.529412</td>\n",
       "      <td>189.660000</td>\n",
       "      <td>88.375294</td>\n",
       "      <td>-101.284706</td>\n",
       "    </tr>\n",
       "    <tr>\n",
       "      <th>2</th>\n",
       "      <td>Cougar Town Zach Wilson</td>\n",
       "      <td>3</td>\n",
       "      <td>38.352941</td>\n",
       "      <td>191.875294</td>\n",
       "      <td>89.398824</td>\n",
       "      <td>-102.476471</td>\n",
       "    </tr>\n",
       "    <tr>\n",
       "      <th>3</th>\n",
       "      <td>Cougar Town Zach Wilson</td>\n",
       "      <td>4</td>\n",
       "      <td>39.058824</td>\n",
       "      <td>190.450588</td>\n",
       "      <td>88.087059</td>\n",
       "      <td>-102.363529</td>\n",
       "    </tr>\n",
       "    <tr>\n",
       "      <th>4</th>\n",
       "      <td>Cougar Town Zach Wilson</td>\n",
       "      <td>5</td>\n",
       "      <td>37.176471</td>\n",
       "      <td>195.675294</td>\n",
       "      <td>92.581176</td>\n",
       "      <td>-103.094118</td>\n",
       "    </tr>\n",
       "  </tbody>\n",
       "</table>\n",
       "</div>"
      ],
      "text/plain": [
       "                      Team  Week       Rank  Expected_Points  Actual_Points  \\\n",
       "0  Cougar Town Zach Wilson     1  37.500000       192.600625      90.915000   \n",
       "1  Cougar Town Zach Wilson     2  40.529412       189.660000      88.375294   \n",
       "2  Cougar Town Zach Wilson     3  38.352941       191.875294      89.398824   \n",
       "3  Cougar Town Zach Wilson     4  39.058824       190.450588      88.087059   \n",
       "4  Cougar Town Zach Wilson     5  37.176471       195.675294      92.581176   \n",
       "\n",
       "   Difference  \n",
       "0 -101.685625  \n",
       "1 -101.284706  \n",
       "2 -102.476471  \n",
       "3 -102.363529  \n",
       "4 -103.094118  "
      ]
     },
     "execution_count": 62,
     "metadata": {},
     "output_type": "execute_result"
    }
   ],
   "source": [
    "test_df = current_df.groupby(['Team', 'Week'], as_index = False).mean()\n",
    "test_df.head()"
   ]
  },
  {
   "cell_type": "code",
   "execution_count": null,
   "id": "851e9c09",
   "metadata": {},
   "outputs": [],
   "source": []
  },
  {
   "cell_type": "code",
   "execution_count": 64,
   "id": "511eafac",
   "metadata": {},
   "outputs": [
    {
     "ename": "ModuleNotFoundError",
     "evalue": "No module named 'statsmodels'",
     "output_type": "error",
     "traceback": [
      "\u001b[1;31m---------------------------------------------------------------------------\u001b[0m",
      "\u001b[1;31mModuleNotFoundError\u001b[0m                       Traceback (most recent call last)",
      "Cell \u001b[1;32mIn [64], line 3\u001b[0m\n\u001b[0;32m      1\u001b[0m \u001b[39mimport\u001b[39;00m \u001b[39mplotly\u001b[39;00m\u001b[39m.\u001b[39;00m\u001b[39mio\u001b[39;00m \u001b[39mas\u001b[39;00m \u001b[39mpio\u001b[39;00m\n\u001b[0;32m      2\u001b[0m pio\u001b[39m.\u001b[39mrenderers\n\u001b[1;32m----> 3\u001b[0m plot \u001b[39m=\u001b[39m px\u001b[39m.\u001b[39;49mscatter(test_df, x \u001b[39m=\u001b[39;49m \u001b[39m'\u001b[39;49m\u001b[39mWeek\u001b[39;49m\u001b[39m'\u001b[39;49m, y \u001b[39m=\u001b[39;49m \u001b[39m'\u001b[39;49m\u001b[39mDifference\u001b[39;49m\u001b[39m'\u001b[39;49m, color \u001b[39m=\u001b[39;49m \u001b[39m'\u001b[39;49m\u001b[39mTeam\u001b[39;49m\u001b[39m'\u001b[39;49m, trendline \u001b[39m=\u001b[39;49m \u001b[39m'\u001b[39;49m\u001b[39mols\u001b[39;49m\u001b[39m'\u001b[39;49m)\n\u001b[0;32m      4\u001b[0m plot\u001b[39m.\u001b[39mshow()\n",
      "File \u001b[1;32m~\\AppData\\Local\\Packages\\PythonSoftwareFoundation.Python.3.10_qbz5n2kfra8p0\\LocalCache\\local-packages\\Python310\\site-packages\\plotly\\express\\_chart_types.py:66\u001b[0m, in \u001b[0;36mscatter\u001b[1;34m(data_frame, x, y, color, symbol, size, hover_name, hover_data, custom_data, text, facet_row, facet_col, facet_col_wrap, facet_row_spacing, facet_col_spacing, error_x, error_x_minus, error_y, error_y_minus, animation_frame, animation_group, category_orders, labels, orientation, color_discrete_sequence, color_discrete_map, color_continuous_scale, range_color, color_continuous_midpoint, symbol_sequence, symbol_map, opacity, size_max, marginal_x, marginal_y, trendline, trendline_options, trendline_color_override, trendline_scope, log_x, log_y, range_x, range_y, render_mode, title, template, width, height)\u001b[0m\n\u001b[0;32m     12\u001b[0m \u001b[39mdef\u001b[39;00m \u001b[39mscatter\u001b[39m(\n\u001b[0;32m     13\u001b[0m     data_frame\u001b[39m=\u001b[39m\u001b[39mNone\u001b[39;00m,\n\u001b[0;32m     14\u001b[0m     x\u001b[39m=\u001b[39m\u001b[39mNone\u001b[39;00m,\n\u001b[1;32m   (...)\u001b[0m\n\u001b[0;32m     60\u001b[0m     height\u001b[39m=\u001b[39m\u001b[39mNone\u001b[39;00m,\n\u001b[0;32m     61\u001b[0m ) \u001b[39m-\u001b[39m\u001b[39m>\u001b[39m go\u001b[39m.\u001b[39mFigure:\n\u001b[0;32m     62\u001b[0m     \u001b[39m\"\"\"\u001b[39;00m\n\u001b[0;32m     63\u001b[0m \u001b[39m    In a scatter plot, each row of `data_frame` is represented by a symbol\u001b[39;00m\n\u001b[0;32m     64\u001b[0m \u001b[39m    mark in 2D space.\u001b[39;00m\n\u001b[0;32m     65\u001b[0m \u001b[39m    \"\"\"\u001b[39;00m\n\u001b[1;32m---> 66\u001b[0m     \u001b[39mreturn\u001b[39;00m make_figure(args\u001b[39m=\u001b[39;49m\u001b[39mlocals\u001b[39;49m(), constructor\u001b[39m=\u001b[39;49mgo\u001b[39m.\u001b[39;49mScatter)\n",
      "File \u001b[1;32m~\\AppData\\Local\\Packages\\PythonSoftwareFoundation.Python.3.10_qbz5n2kfra8p0\\LocalCache\\local-packages\\Python310\\site-packages\\plotly\\express\\_core.py:2167\u001b[0m, in \u001b[0;36mmake_figure\u001b[1;34m(args, constructor, trace_patch, layout_patch)\u001b[0m\n\u001b[0;32m   2164\u001b[0m     \u001b[39melif\u001b[39;00m args[\u001b[39m\"\u001b[39m\u001b[39mecdfnorm\u001b[39m\u001b[39m\"\u001b[39m] \u001b[39m==\u001b[39m \u001b[39m\"\u001b[39m\u001b[39mpercent\u001b[39m\u001b[39m\"\u001b[39m:\n\u001b[0;32m   2165\u001b[0m         group[var] \u001b[39m=\u001b[39m \u001b[39m100.0\u001b[39m \u001b[39m*\u001b[39m group[var] \u001b[39m/\u001b[39m group_sum\n\u001b[1;32m-> 2167\u001b[0m patch, fit_results \u001b[39m=\u001b[39m make_trace_kwargs(\n\u001b[0;32m   2168\u001b[0m     args, trace_spec, group, mapping_labels\u001b[39m.\u001b[39;49mcopy(), sizeref\n\u001b[0;32m   2169\u001b[0m )\n\u001b[0;32m   2170\u001b[0m trace\u001b[39m.\u001b[39mupdate(patch)\n\u001b[0;32m   2171\u001b[0m \u001b[39mif\u001b[39;00m fit_results \u001b[39mis\u001b[39;00m \u001b[39mnot\u001b[39;00m \u001b[39mNone\u001b[39;00m:\n",
      "File \u001b[1;32m~\\AppData\\Local\\Packages\\PythonSoftwareFoundation.Python.3.10_qbz5n2kfra8p0\\LocalCache\\local-packages\\Python310\\site-packages\\plotly\\express\\_core.py:358\u001b[0m, in \u001b[0;36mmake_trace_kwargs\u001b[1;34m(args, trace_spec, trace_data, mapping_labels, sizeref)\u001b[0m\n\u001b[0;32m    356\u001b[0m trace_patch[\u001b[39m\"\u001b[39m\u001b[39mx\u001b[39m\u001b[39m\"\u001b[39m] \u001b[39m=\u001b[39m sorted_trace_data[args[\u001b[39m\"\u001b[39m\u001b[39mx\u001b[39m\u001b[39m\"\u001b[39m]][non_missing]\n\u001b[0;32m    357\u001b[0m trendline_function \u001b[39m=\u001b[39m trendline_functions[attr_value]\n\u001b[1;32m--> 358\u001b[0m y_out, hover_header, fit_results \u001b[39m=\u001b[39m trendline_function(\n\u001b[0;32m    359\u001b[0m     args[\u001b[39m\"\u001b[39;49m\u001b[39mtrendline_options\u001b[39;49m\u001b[39m\"\u001b[39;49m],\n\u001b[0;32m    360\u001b[0m     sorted_trace_data[args[\u001b[39m\"\u001b[39;49m\u001b[39mx\u001b[39;49m\u001b[39m\"\u001b[39;49m]],\n\u001b[0;32m    361\u001b[0m     x,\n\u001b[0;32m    362\u001b[0m     y,\n\u001b[0;32m    363\u001b[0m     args[\u001b[39m\"\u001b[39;49m\u001b[39mx\u001b[39;49m\u001b[39m\"\u001b[39;49m],\n\u001b[0;32m    364\u001b[0m     args[\u001b[39m\"\u001b[39;49m\u001b[39my\u001b[39;49m\u001b[39m\"\u001b[39;49m],\n\u001b[0;32m    365\u001b[0m     non_missing,\n\u001b[0;32m    366\u001b[0m )\n\u001b[0;32m    367\u001b[0m \u001b[39massert\u001b[39;00m \u001b[39mlen\u001b[39m(y_out) \u001b[39m==\u001b[39m \u001b[39mlen\u001b[39m(\n\u001b[0;32m    368\u001b[0m     trace_patch[\u001b[39m\"\u001b[39m\u001b[39mx\u001b[39m\u001b[39m\"\u001b[39m]\n\u001b[0;32m    369\u001b[0m ), \u001b[39m\"\u001b[39m\u001b[39mmissing-data-handling failure in trendline code\u001b[39m\u001b[39m\"\u001b[39m\n\u001b[0;32m    370\u001b[0m trace_patch[\u001b[39m\"\u001b[39m\u001b[39my\u001b[39m\u001b[39m\"\u001b[39m] \u001b[39m=\u001b[39m y_out\n",
      "File \u001b[1;32m~\\AppData\\Local\\Packages\\PythonSoftwareFoundation.Python.3.10_qbz5n2kfra8p0\\LocalCache\\local-packages\\Python310\\site-packages\\plotly\\express\\trendline_functions\\__init__.py:43\u001b[0m, in \u001b[0;36mols\u001b[1;34m(trendline_options, x_raw, x, y, x_label, y_label, non_missing)\u001b[0m\n\u001b[0;32m     37\u001b[0m     \u001b[39mif\u001b[39;00m k \u001b[39mnot\u001b[39;00m \u001b[39min\u001b[39;00m valid_options:\n\u001b[0;32m     38\u001b[0m         \u001b[39mraise\u001b[39;00m \u001b[39mValueError\u001b[39;00m(\n\u001b[0;32m     39\u001b[0m             \u001b[39m\"\u001b[39m\u001b[39mOLS trendline_options keys must be one of [\u001b[39m\u001b[39m%s\u001b[39;00m\u001b[39m] but got \u001b[39m\u001b[39m'\u001b[39m\u001b[39m%s\u001b[39;00m\u001b[39m'\u001b[39m\u001b[39m\"\u001b[39m\n\u001b[0;32m     40\u001b[0m             \u001b[39m%\u001b[39m (\u001b[39m\"\u001b[39m\u001b[39m, \u001b[39m\u001b[39m\"\u001b[39m\u001b[39m.\u001b[39mjoin(valid_options), k)\n\u001b[0;32m     41\u001b[0m         )\n\u001b[1;32m---> 43\u001b[0m \u001b[39mimport\u001b[39;00m \u001b[39mstatsmodels\u001b[39;00m\u001b[39m.\u001b[39;00m\u001b[39mapi\u001b[39;00m \u001b[39mas\u001b[39;00m \u001b[39msm\u001b[39;00m\n\u001b[0;32m     45\u001b[0m add_constant \u001b[39m=\u001b[39m trendline_options\u001b[39m.\u001b[39mget(\u001b[39m\"\u001b[39m\u001b[39madd_constant\u001b[39m\u001b[39m\"\u001b[39m, \u001b[39mTrue\u001b[39;00m)\n\u001b[0;32m     46\u001b[0m log_x \u001b[39m=\u001b[39m trendline_options\u001b[39m.\u001b[39mget(\u001b[39m\"\u001b[39m\u001b[39mlog_x\u001b[39m\u001b[39m\"\u001b[39m, \u001b[39mFalse\u001b[39;00m)\n",
      "\u001b[1;31mModuleNotFoundError\u001b[0m: No module named 'statsmodels'"
     ]
    }
   ],
   "source": [
    "import plotly.io as pio\n",
    "pio.renderers\n",
    "plot = px.scatter(test_df, x = 'Week', y = 'Difference', color = 'Team', trendline = 'ols')\n",
    "plot.show()\n"
   ]
  },
  {
   "cell_type": "code",
   "execution_count": 51,
   "id": "deae9037",
   "metadata": {},
   "outputs": [
    {
     "data": {
      "application/vnd.plotly.v1+json": {
       "config": {
        "plotlyServerURL": "https://plot.ly"
       },
       "data": [
        {
         "hovertemplate": "Team=Cougar Town Zach Wilson<br>Week=%{x}<br>Difference=%{y}<extra></extra>",
         "legendgroup": "Cougar Town Zach Wilson",
         "marker": {
          "color": "#636efa",
          "symbol": "circle"
         },
         "mode": "markers",
         "name": "Cougar Town Zach Wilson",
         "orientation": "v",
         "showlegend": true,
         "type": "scatter",
         "x": [
          8.527675276752767
         ],
         "xaxis": "x",
         "y": [
          -96.28745387453874
         ],
         "yaxis": "y"
        },
        {
         "hovertemplate": "Team=Cougar Town Zach Wilson<extra></extra>",
         "legendgroup": "Cougar Town Zach Wilson",
         "marker": {
          "color": "#636efa",
          "symbol": "circle"
         },
         "mode": "lines",
         "name": "Cougar Town Zach Wilson",
         "showlegend": false,
         "type": "scatter",
         "xaxis": "x",
         "yaxis": "y"
        },
        {
         "hovertemplate": "Team=Couv Reigning Champ<br>Week=%{x}<br>Difference=%{y}<extra></extra>",
         "legendgroup": "Couv Reigning Champ",
         "marker": {
          "color": "#EF553B",
          "symbol": "circle"
         },
         "mode": "markers",
         "name": "Couv Reigning Champ",
         "orientation": "v",
         "showlegend": true,
         "type": "scatter",
         "x": [
          8.511111111111111
         ],
         "xaxis": "x",
         "y": [
          -76.52588888888889
         ],
         "yaxis": "y"
        },
        {
         "hovertemplate": "Team=Couv Reigning Champ<extra></extra>",
         "legendgroup": "Couv Reigning Champ",
         "marker": {
          "color": "#EF553B",
          "symbol": "circle"
         },
         "mode": "lines",
         "name": "Couv Reigning Champ",
         "showlegend": false,
         "type": "scatter",
         "xaxis": "x",
         "yaxis": "y"
        },
        {
         "hovertemplate": "Team=Diggy Wit it<br>Week=%{x}<br>Difference=%{y}<extra></extra>",
         "legendgroup": "Diggy Wit it",
         "marker": {
          "color": "#00cc96",
          "symbol": "circle"
         },
         "mode": "markers",
         "name": "Diggy Wit it",
         "orientation": "v",
         "showlegend": true,
         "type": "scatter",
         "x": [
          8.5
         ],
         "xaxis": "x",
         "y": [
          -64.77613970588236
         ],
         "yaxis": "y"
        },
        {
         "hovertemplate": "Team=Diggy Wit it<extra></extra>",
         "legendgroup": "Diggy Wit it",
         "marker": {
          "color": "#00cc96",
          "symbol": "circle"
         },
         "mode": "lines",
         "name": "Diggy Wit it",
         "showlegend": false,
         "type": "scatter",
         "xaxis": "x",
         "yaxis": "y"
        },
        {
         "hovertemplate": "Team=Eugene Tweakers<br>Week=%{x}<br>Difference=%{y}<extra></extra>",
         "legendgroup": "Eugene Tweakers",
         "marker": {
          "color": "#ab63fa",
          "symbol": "circle"
         },
         "mode": "markers",
         "name": "Eugene Tweakers",
         "orientation": "v",
         "showlegend": true,
         "type": "scatter",
         "x": [
          8.38
         ],
         "xaxis": "x",
         "y": [
          -90.22624
         ],
         "yaxis": "y"
        },
        {
         "hovertemplate": "Team=Eugene Tweakers<extra></extra>",
         "legendgroup": "Eugene Tweakers",
         "marker": {
          "color": "#ab63fa",
          "symbol": "circle"
         },
         "mode": "lines",
         "name": "Eugene Tweakers",
         "showlegend": false,
         "type": "scatter",
         "xaxis": "x",
         "yaxis": "y"
        },
        {
         "hovertemplate": "Team=Gorilla Guys<br>Week=%{x}<br>Difference=%{y}<extra></extra>",
         "legendgroup": "Gorilla Guys",
         "marker": {
          "color": "#FFA15A",
          "symbol": "circle"
         },
         "mode": "markers",
         "name": "Gorilla Guys",
         "orientation": "v",
         "showlegend": true,
         "type": "scatter",
         "x": [
          8.31800766283525
         ],
         "xaxis": "x",
         "y": [
          -74.86390804597701
         ],
         "yaxis": "y"
        },
        {
         "hovertemplate": "Team=Gorilla Guys<extra></extra>",
         "legendgroup": "Gorilla Guys",
         "marker": {
          "color": "#FFA15A",
          "symbol": "circle"
         },
         "mode": "lines",
         "name": "Gorilla Guys",
         "showlegend": false,
         "type": "scatter",
         "xaxis": "x",
         "yaxis": "y"
        },
        {
         "hovertemplate": "Team=I dont know what im doing<br>Week=%{x}<br>Difference=%{y}<extra></extra>",
         "legendgroup": "I dont know what im doing",
         "marker": {
          "color": "#19d3f3",
          "symbol": "circle"
         },
         "mode": "markers",
         "name": "I dont know what im doing",
         "orientation": "v",
         "showlegend": true,
         "type": "scatter",
         "x": [
          8.482625482625483
         ],
         "xaxis": "x",
         "y": [
          -62.23787644787645
         ],
         "yaxis": "y"
        },
        {
         "hovertemplate": "Team=I dont know what im doing<extra></extra>",
         "legendgroup": "I dont know what im doing",
         "marker": {
          "color": "#19d3f3",
          "symbol": "circle"
         },
         "mode": "lines",
         "name": "I dont know what im doing",
         "showlegend": false,
         "type": "scatter",
         "xaxis": "x",
         "yaxis": "y"
        },
        {
         "hovertemplate": "Team=Just-in-N-out Drive thru<br>Week=%{x}<br>Difference=%{y}<extra></extra>",
         "legendgroup": "Just-in-N-out Drive thru",
         "marker": {
          "color": "#FF6692",
          "symbol": "circle"
         },
         "mode": "markers",
         "name": "Just-in-N-out Drive thru",
         "orientation": "v",
         "showlegend": true,
         "type": "scatter",
         "x": [
          8.517374517374517
         ],
         "xaxis": "x",
         "y": [
          -51.57490347490347
         ],
         "yaxis": "y"
        },
        {
         "hovertemplate": "Team=Just-in-N-out Drive thru<extra></extra>",
         "legendgroup": "Just-in-N-out Drive thru",
         "marker": {
          "color": "#FF6692",
          "symbol": "circle"
         },
         "mode": "lines",
         "name": "Just-in-N-out Drive thru",
         "showlegend": false,
         "type": "scatter",
         "xaxis": "x",
         "yaxis": "y"
        },
        {
         "hovertemplate": "Team=My Team  A Bust<br>Week=%{x}<br>Difference=%{y}<extra></extra>",
         "legendgroup": "My Team  A Bust",
         "marker": {
          "color": "#B6E880",
          "symbol": "circle"
         },
         "mode": "markers",
         "name": "My Team  A Bust",
         "orientation": "v",
         "showlegend": true,
         "type": "scatter",
         "x": [
          8.505535055350553
         ],
         "xaxis": "x",
         "y": [
          -55.97059040590406
         ],
         "yaxis": "y"
        },
        {
         "hovertemplate": "Team=My Team  A Bust<extra></extra>",
         "legendgroup": "My Team  A Bust",
         "marker": {
          "color": "#B6E880",
          "symbol": "circle"
         },
         "mode": "lines",
         "name": "My Team  A Bust",
         "showlegend": false,
         "type": "scatter",
         "xaxis": "x",
         "yaxis": "y"
        },
        {
         "hovertemplate": "Team=No Nyugen Will Win<br>Week=%{x}<br>Difference=%{y}<extra></extra>",
         "legendgroup": "No Nyugen Will Win",
         "marker": {
          "color": "#FF97FF",
          "symbol": "circle"
         },
         "mode": "markers",
         "name": "No Nyugen Will Win",
         "orientation": "v",
         "showlegend": true,
         "type": "scatter",
         "x": [
          8.429657794676807
         ],
         "xaxis": "x",
         "y": [
          -64.1328897338403
         ],
         "yaxis": "y"
        },
        {
         "hovertemplate": "Team=No Nyugen Will Win<extra></extra>",
         "legendgroup": "No Nyugen Will Win",
         "marker": {
          "color": "#FF97FF",
          "symbol": "circle"
         },
         "mode": "lines",
         "name": "No Nyugen Will Win",
         "showlegend": false,
         "type": "scatter",
         "xaxis": "x",
         "yaxis": "y"
        },
        {
         "hovertemplate": "Team=P-Town CASH KEVIN<br>Week=%{x}<br>Difference=%{y}<extra></extra>",
         "legendgroup": "P-Town CASH KEVIN",
         "marker": {
          "color": "#FECB52",
          "symbol": "circle"
         },
         "mode": "markers",
         "name": "P-Town CASH KEVIN",
         "orientation": "v",
         "showlegend": true,
         "type": "scatter",
         "x": [
          8.611320754716981
         ],
         "xaxis": "x",
         "y": [
          -66.74177358490566
         ],
         "yaxis": "y"
        },
        {
         "hovertemplate": "Team=P-Town CASH KEVIN<extra></extra>",
         "legendgroup": "P-Town CASH KEVIN",
         "marker": {
          "color": "#FECB52",
          "symbol": "circle"
         },
         "mode": "lines",
         "name": "P-Town CASH KEVIN",
         "showlegend": false,
         "type": "scatter",
         "xaxis": "x",
         "yaxis": "y"
        }
       ],
       "layout": {
        "legend": {
         "title": {
          "text": "Team"
         },
         "tracegroupgap": 0
        },
        "margin": {
         "t": 60
        },
        "template": {
         "data": {
          "bar": [
           {
            "error_x": {
             "color": "#2a3f5f"
            },
            "error_y": {
             "color": "#2a3f5f"
            },
            "marker": {
             "line": {
              "color": "#E5ECF6",
              "width": 0.5
             },
             "pattern": {
              "fillmode": "overlay",
              "size": 10,
              "solidity": 0.2
             }
            },
            "type": "bar"
           }
          ],
          "barpolar": [
           {
            "marker": {
             "line": {
              "color": "#E5ECF6",
              "width": 0.5
             },
             "pattern": {
              "fillmode": "overlay",
              "size": 10,
              "solidity": 0.2
             }
            },
            "type": "barpolar"
           }
          ],
          "carpet": [
           {
            "aaxis": {
             "endlinecolor": "#2a3f5f",
             "gridcolor": "white",
             "linecolor": "white",
             "minorgridcolor": "white",
             "startlinecolor": "#2a3f5f"
            },
            "baxis": {
             "endlinecolor": "#2a3f5f",
             "gridcolor": "white",
             "linecolor": "white",
             "minorgridcolor": "white",
             "startlinecolor": "#2a3f5f"
            },
            "type": "carpet"
           }
          ],
          "choropleth": [
           {
            "colorbar": {
             "outlinewidth": 0,
             "ticks": ""
            },
            "type": "choropleth"
           }
          ],
          "contour": [
           {
            "colorbar": {
             "outlinewidth": 0,
             "ticks": ""
            },
            "colorscale": [
             [
              0,
              "#0d0887"
             ],
             [
              0.1111111111111111,
              "#46039f"
             ],
             [
              0.2222222222222222,
              "#7201a8"
             ],
             [
              0.3333333333333333,
              "#9c179e"
             ],
             [
              0.4444444444444444,
              "#bd3786"
             ],
             [
              0.5555555555555556,
              "#d8576b"
             ],
             [
              0.6666666666666666,
              "#ed7953"
             ],
             [
              0.7777777777777778,
              "#fb9f3a"
             ],
             [
              0.8888888888888888,
              "#fdca26"
             ],
             [
              1,
              "#f0f921"
             ]
            ],
            "type": "contour"
           }
          ],
          "contourcarpet": [
           {
            "colorbar": {
             "outlinewidth": 0,
             "ticks": ""
            },
            "type": "contourcarpet"
           }
          ],
          "heatmap": [
           {
            "colorbar": {
             "outlinewidth": 0,
             "ticks": ""
            },
            "colorscale": [
             [
              0,
              "#0d0887"
             ],
             [
              0.1111111111111111,
              "#46039f"
             ],
             [
              0.2222222222222222,
              "#7201a8"
             ],
             [
              0.3333333333333333,
              "#9c179e"
             ],
             [
              0.4444444444444444,
              "#bd3786"
             ],
             [
              0.5555555555555556,
              "#d8576b"
             ],
             [
              0.6666666666666666,
              "#ed7953"
             ],
             [
              0.7777777777777778,
              "#fb9f3a"
             ],
             [
              0.8888888888888888,
              "#fdca26"
             ],
             [
              1,
              "#f0f921"
             ]
            ],
            "type": "heatmap"
           }
          ],
          "heatmapgl": [
           {
            "colorbar": {
             "outlinewidth": 0,
             "ticks": ""
            },
            "colorscale": [
             [
              0,
              "#0d0887"
             ],
             [
              0.1111111111111111,
              "#46039f"
             ],
             [
              0.2222222222222222,
              "#7201a8"
             ],
             [
              0.3333333333333333,
              "#9c179e"
             ],
             [
              0.4444444444444444,
              "#bd3786"
             ],
             [
              0.5555555555555556,
              "#d8576b"
             ],
             [
              0.6666666666666666,
              "#ed7953"
             ],
             [
              0.7777777777777778,
              "#fb9f3a"
             ],
             [
              0.8888888888888888,
              "#fdca26"
             ],
             [
              1,
              "#f0f921"
             ]
            ],
            "type": "heatmapgl"
           }
          ],
          "histogram": [
           {
            "marker": {
             "pattern": {
              "fillmode": "overlay",
              "size": 10,
              "solidity": 0.2
             }
            },
            "type": "histogram"
           }
          ],
          "histogram2d": [
           {
            "colorbar": {
             "outlinewidth": 0,
             "ticks": ""
            },
            "colorscale": [
             [
              0,
              "#0d0887"
             ],
             [
              0.1111111111111111,
              "#46039f"
             ],
             [
              0.2222222222222222,
              "#7201a8"
             ],
             [
              0.3333333333333333,
              "#9c179e"
             ],
             [
              0.4444444444444444,
              "#bd3786"
             ],
             [
              0.5555555555555556,
              "#d8576b"
             ],
             [
              0.6666666666666666,
              "#ed7953"
             ],
             [
              0.7777777777777778,
              "#fb9f3a"
             ],
             [
              0.8888888888888888,
              "#fdca26"
             ],
             [
              1,
              "#f0f921"
             ]
            ],
            "type": "histogram2d"
           }
          ],
          "histogram2dcontour": [
           {
            "colorbar": {
             "outlinewidth": 0,
             "ticks": ""
            },
            "colorscale": [
             [
              0,
              "#0d0887"
             ],
             [
              0.1111111111111111,
              "#46039f"
             ],
             [
              0.2222222222222222,
              "#7201a8"
             ],
             [
              0.3333333333333333,
              "#9c179e"
             ],
             [
              0.4444444444444444,
              "#bd3786"
             ],
             [
              0.5555555555555556,
              "#d8576b"
             ],
             [
              0.6666666666666666,
              "#ed7953"
             ],
             [
              0.7777777777777778,
              "#fb9f3a"
             ],
             [
              0.8888888888888888,
              "#fdca26"
             ],
             [
              1,
              "#f0f921"
             ]
            ],
            "type": "histogram2dcontour"
           }
          ],
          "mesh3d": [
           {
            "colorbar": {
             "outlinewidth": 0,
             "ticks": ""
            },
            "type": "mesh3d"
           }
          ],
          "parcoords": [
           {
            "line": {
             "colorbar": {
              "outlinewidth": 0,
              "ticks": ""
             }
            },
            "type": "parcoords"
           }
          ],
          "pie": [
           {
            "automargin": true,
            "type": "pie"
           }
          ],
          "scatter": [
           {
            "fillpattern": {
             "fillmode": "overlay",
             "size": 10,
             "solidity": 0.2
            },
            "type": "scatter"
           }
          ],
          "scatter3d": [
           {
            "line": {
             "colorbar": {
              "outlinewidth": 0,
              "ticks": ""
             }
            },
            "marker": {
             "colorbar": {
              "outlinewidth": 0,
              "ticks": ""
             }
            },
            "type": "scatter3d"
           }
          ],
          "scattercarpet": [
           {
            "marker": {
             "colorbar": {
              "outlinewidth": 0,
              "ticks": ""
             }
            },
            "type": "scattercarpet"
           }
          ],
          "scattergeo": [
           {
            "marker": {
             "colorbar": {
              "outlinewidth": 0,
              "ticks": ""
             }
            },
            "type": "scattergeo"
           }
          ],
          "scattergl": [
           {
            "marker": {
             "colorbar": {
              "outlinewidth": 0,
              "ticks": ""
             }
            },
            "type": "scattergl"
           }
          ],
          "scattermapbox": [
           {
            "marker": {
             "colorbar": {
              "outlinewidth": 0,
              "ticks": ""
             }
            },
            "type": "scattermapbox"
           }
          ],
          "scatterpolar": [
           {
            "marker": {
             "colorbar": {
              "outlinewidth": 0,
              "ticks": ""
             }
            },
            "type": "scatterpolar"
           }
          ],
          "scatterpolargl": [
           {
            "marker": {
             "colorbar": {
              "outlinewidth": 0,
              "ticks": ""
             }
            },
            "type": "scatterpolargl"
           }
          ],
          "scatterternary": [
           {
            "marker": {
             "colorbar": {
              "outlinewidth": 0,
              "ticks": ""
             }
            },
            "type": "scatterternary"
           }
          ],
          "surface": [
           {
            "colorbar": {
             "outlinewidth": 0,
             "ticks": ""
            },
            "colorscale": [
             [
              0,
              "#0d0887"
             ],
             [
              0.1111111111111111,
              "#46039f"
             ],
             [
              0.2222222222222222,
              "#7201a8"
             ],
             [
              0.3333333333333333,
              "#9c179e"
             ],
             [
              0.4444444444444444,
              "#bd3786"
             ],
             [
              0.5555555555555556,
              "#d8576b"
             ],
             [
              0.6666666666666666,
              "#ed7953"
             ],
             [
              0.7777777777777778,
              "#fb9f3a"
             ],
             [
              0.8888888888888888,
              "#fdca26"
             ],
             [
              1,
              "#f0f921"
             ]
            ],
            "type": "surface"
           }
          ],
          "table": [
           {
            "cells": {
             "fill": {
              "color": "#EBF0F8"
             },
             "line": {
              "color": "white"
             }
            },
            "header": {
             "fill": {
              "color": "#C8D4E3"
             },
             "line": {
              "color": "white"
             }
            },
            "type": "table"
           }
          ]
         },
         "layout": {
          "annotationdefaults": {
           "arrowcolor": "#2a3f5f",
           "arrowhead": 0,
           "arrowwidth": 1
          },
          "autotypenumbers": "strict",
          "coloraxis": {
           "colorbar": {
            "outlinewidth": 0,
            "ticks": ""
           }
          },
          "colorscale": {
           "diverging": [
            [
             0,
             "#8e0152"
            ],
            [
             0.1,
             "#c51b7d"
            ],
            [
             0.2,
             "#de77ae"
            ],
            [
             0.3,
             "#f1b6da"
            ],
            [
             0.4,
             "#fde0ef"
            ],
            [
             0.5,
             "#f7f7f7"
            ],
            [
             0.6,
             "#e6f5d0"
            ],
            [
             0.7,
             "#b8e186"
            ],
            [
             0.8,
             "#7fbc41"
            ],
            [
             0.9,
             "#4d9221"
            ],
            [
             1,
             "#276419"
            ]
           ],
           "sequential": [
            [
             0,
             "#0d0887"
            ],
            [
             0.1111111111111111,
             "#46039f"
            ],
            [
             0.2222222222222222,
             "#7201a8"
            ],
            [
             0.3333333333333333,
             "#9c179e"
            ],
            [
             0.4444444444444444,
             "#bd3786"
            ],
            [
             0.5555555555555556,
             "#d8576b"
            ],
            [
             0.6666666666666666,
             "#ed7953"
            ],
            [
             0.7777777777777778,
             "#fb9f3a"
            ],
            [
             0.8888888888888888,
             "#fdca26"
            ],
            [
             1,
             "#f0f921"
            ]
           ],
           "sequentialminus": [
            [
             0,
             "#0d0887"
            ],
            [
             0.1111111111111111,
             "#46039f"
            ],
            [
             0.2222222222222222,
             "#7201a8"
            ],
            [
             0.3333333333333333,
             "#9c179e"
            ],
            [
             0.4444444444444444,
             "#bd3786"
            ],
            [
             0.5555555555555556,
             "#d8576b"
            ],
            [
             0.6666666666666666,
             "#ed7953"
            ],
            [
             0.7777777777777778,
             "#fb9f3a"
            ],
            [
             0.8888888888888888,
             "#fdca26"
            ],
            [
             1,
             "#f0f921"
            ]
           ]
          },
          "colorway": [
           "#636efa",
           "#EF553B",
           "#00cc96",
           "#ab63fa",
           "#FFA15A",
           "#19d3f3",
           "#FF6692",
           "#B6E880",
           "#FF97FF",
           "#FECB52"
          ],
          "font": {
           "color": "#2a3f5f"
          },
          "geo": {
           "bgcolor": "white",
           "lakecolor": "white",
           "landcolor": "#E5ECF6",
           "showlakes": true,
           "showland": true,
           "subunitcolor": "white"
          },
          "hoverlabel": {
           "align": "left"
          },
          "hovermode": "closest",
          "mapbox": {
           "style": "light"
          },
          "paper_bgcolor": "white",
          "plot_bgcolor": "#E5ECF6",
          "polar": {
           "angularaxis": {
            "gridcolor": "white",
            "linecolor": "white",
            "ticks": ""
           },
           "bgcolor": "#E5ECF6",
           "radialaxis": {
            "gridcolor": "white",
            "linecolor": "white",
            "ticks": ""
           }
          },
          "scene": {
           "xaxis": {
            "backgroundcolor": "#E5ECF6",
            "gridcolor": "white",
            "gridwidth": 2,
            "linecolor": "white",
            "showbackground": true,
            "ticks": "",
            "zerolinecolor": "white"
           },
           "yaxis": {
            "backgroundcolor": "#E5ECF6",
            "gridcolor": "white",
            "gridwidth": 2,
            "linecolor": "white",
            "showbackground": true,
            "ticks": "",
            "zerolinecolor": "white"
           },
           "zaxis": {
            "backgroundcolor": "#E5ECF6",
            "gridcolor": "white",
            "gridwidth": 2,
            "linecolor": "white",
            "showbackground": true,
            "ticks": "",
            "zerolinecolor": "white"
           }
          },
          "shapedefaults": {
           "line": {
            "color": "#2a3f5f"
           }
          },
          "ternary": {
           "aaxis": {
            "gridcolor": "white",
            "linecolor": "white",
            "ticks": ""
           },
           "baxis": {
            "gridcolor": "white",
            "linecolor": "white",
            "ticks": ""
           },
           "bgcolor": "#E5ECF6",
           "caxis": {
            "gridcolor": "white",
            "linecolor": "white",
            "ticks": ""
           }
          },
          "title": {
           "x": 0.05
          },
          "xaxis": {
           "automargin": true,
           "gridcolor": "white",
           "linecolor": "white",
           "ticks": "",
           "title": {
            "standoff": 15
           },
           "zerolinecolor": "white",
           "zerolinewidth": 2
          },
          "yaxis": {
           "automargin": true,
           "gridcolor": "white",
           "linecolor": "white",
           "ticks": "",
           "title": {
            "standoff": 15
           },
           "zerolinecolor": "white",
           "zerolinewidth": 2
          }
         }
        },
        "xaxis": {
         "anchor": "y",
         "domain": [
          0,
          1
         ],
         "title": {
          "text": "Week"
         }
        },
        "yaxis": {
         "anchor": "x",
         "domain": [
          0,
          1
         ],
         "title": {
          "text": "Difference"
         }
        }
       }
      },
      "text/html": [
       "<div>                            <div id=\"535f9d5f-f109-44c0-bad6-8a6175f87854\" class=\"plotly-graph-div\" style=\"height:525px; width:100%;\"></div>            <script type=\"text/javascript\">                require([\"plotly\"], function(Plotly) {                    window.PLOTLYENV=window.PLOTLYENV || {};                                    if (document.getElementById(\"535f9d5f-f109-44c0-bad6-8a6175f87854\")) {                    Plotly.newPlot(                        \"535f9d5f-f109-44c0-bad6-8a6175f87854\",                        [{\"hovertemplate\":\"Team=Cougar Town Zach Wilson<br>Week=%{x}<br>Difference=%{y}<extra></extra>\",\"legendgroup\":\"Cougar Town Zach Wilson\",\"marker\":{\"color\":\"#636efa\",\"symbol\":\"circle\"},\"mode\":\"markers\",\"name\":\"Cougar Town Zach Wilson\",\"orientation\":\"v\",\"showlegend\":true,\"x\":[8.527675276752767],\"xaxis\":\"x\",\"y\":[-96.28745387453874],\"yaxis\":\"y\",\"type\":\"scatter\"},{\"hovertemplate\":\"Team=Cougar Town Zach Wilson<extra></extra>\",\"legendgroup\":\"Cougar Town Zach Wilson\",\"marker\":{\"color\":\"#636efa\",\"symbol\":\"circle\"},\"mode\":\"lines\",\"name\":\"Cougar Town Zach Wilson\",\"showlegend\":false,\"xaxis\":\"x\",\"yaxis\":\"y\",\"type\":\"scatter\"},{\"hovertemplate\":\"Team=Couv Reigning Champ<br>Week=%{x}<br>Difference=%{y}<extra></extra>\",\"legendgroup\":\"Couv Reigning Champ\",\"marker\":{\"color\":\"#EF553B\",\"symbol\":\"circle\"},\"mode\":\"markers\",\"name\":\"Couv Reigning Champ\",\"orientation\":\"v\",\"showlegend\":true,\"x\":[8.511111111111111],\"xaxis\":\"x\",\"y\":[-76.52588888888889],\"yaxis\":\"y\",\"type\":\"scatter\"},{\"hovertemplate\":\"Team=Couv Reigning Champ<extra></extra>\",\"legendgroup\":\"Couv Reigning Champ\",\"marker\":{\"color\":\"#EF553B\",\"symbol\":\"circle\"},\"mode\":\"lines\",\"name\":\"Couv Reigning Champ\",\"showlegend\":false,\"xaxis\":\"x\",\"yaxis\":\"y\",\"type\":\"scatter\"},{\"hovertemplate\":\"Team=Diggy Wit it<br>Week=%{x}<br>Difference=%{y}<extra></extra>\",\"legendgroup\":\"Diggy Wit it\",\"marker\":{\"color\":\"#00cc96\",\"symbol\":\"circle\"},\"mode\":\"markers\",\"name\":\"Diggy Wit it\",\"orientation\":\"v\",\"showlegend\":true,\"x\":[8.5],\"xaxis\":\"x\",\"y\":[-64.77613970588236],\"yaxis\":\"y\",\"type\":\"scatter\"},{\"hovertemplate\":\"Team=Diggy Wit it<extra></extra>\",\"legendgroup\":\"Diggy Wit it\",\"marker\":{\"color\":\"#00cc96\",\"symbol\":\"circle\"},\"mode\":\"lines\",\"name\":\"Diggy Wit it\",\"showlegend\":false,\"xaxis\":\"x\",\"yaxis\":\"y\",\"type\":\"scatter\"},{\"hovertemplate\":\"Team=Eugene Tweakers<br>Week=%{x}<br>Difference=%{y}<extra></extra>\",\"legendgroup\":\"Eugene Tweakers\",\"marker\":{\"color\":\"#ab63fa\",\"symbol\":\"circle\"},\"mode\":\"markers\",\"name\":\"Eugene Tweakers\",\"orientation\":\"v\",\"showlegend\":true,\"x\":[8.38],\"xaxis\":\"x\",\"y\":[-90.22624],\"yaxis\":\"y\",\"type\":\"scatter\"},{\"hovertemplate\":\"Team=Eugene Tweakers<extra></extra>\",\"legendgroup\":\"Eugene Tweakers\",\"marker\":{\"color\":\"#ab63fa\",\"symbol\":\"circle\"},\"mode\":\"lines\",\"name\":\"Eugene Tweakers\",\"showlegend\":false,\"xaxis\":\"x\",\"yaxis\":\"y\",\"type\":\"scatter\"},{\"hovertemplate\":\"Team=Gorilla Guys<br>Week=%{x}<br>Difference=%{y}<extra></extra>\",\"legendgroup\":\"Gorilla Guys\",\"marker\":{\"color\":\"#FFA15A\",\"symbol\":\"circle\"},\"mode\":\"markers\",\"name\":\"Gorilla Guys\",\"orientation\":\"v\",\"showlegend\":true,\"x\":[8.31800766283525],\"xaxis\":\"x\",\"y\":[-74.86390804597701],\"yaxis\":\"y\",\"type\":\"scatter\"},{\"hovertemplate\":\"Team=Gorilla Guys<extra></extra>\",\"legendgroup\":\"Gorilla Guys\",\"marker\":{\"color\":\"#FFA15A\",\"symbol\":\"circle\"},\"mode\":\"lines\",\"name\":\"Gorilla Guys\",\"showlegend\":false,\"xaxis\":\"x\",\"yaxis\":\"y\",\"type\":\"scatter\"},{\"hovertemplate\":\"Team=I dont know what im doing<br>Week=%{x}<br>Difference=%{y}<extra></extra>\",\"legendgroup\":\"I dont know what im doing\",\"marker\":{\"color\":\"#19d3f3\",\"symbol\":\"circle\"},\"mode\":\"markers\",\"name\":\"I dont know what im doing\",\"orientation\":\"v\",\"showlegend\":true,\"x\":[8.482625482625483],\"xaxis\":\"x\",\"y\":[-62.23787644787645],\"yaxis\":\"y\",\"type\":\"scatter\"},{\"hovertemplate\":\"Team=I dont know what im doing<extra></extra>\",\"legendgroup\":\"I dont know what im doing\",\"marker\":{\"color\":\"#19d3f3\",\"symbol\":\"circle\"},\"mode\":\"lines\",\"name\":\"I dont know what im doing\",\"showlegend\":false,\"xaxis\":\"x\",\"yaxis\":\"y\",\"type\":\"scatter\"},{\"hovertemplate\":\"Team=Just-in-N-out Drive thru<br>Week=%{x}<br>Difference=%{y}<extra></extra>\",\"legendgroup\":\"Just-in-N-out Drive thru\",\"marker\":{\"color\":\"#FF6692\",\"symbol\":\"circle\"},\"mode\":\"markers\",\"name\":\"Just-in-N-out Drive thru\",\"orientation\":\"v\",\"showlegend\":true,\"x\":[8.517374517374517],\"xaxis\":\"x\",\"y\":[-51.57490347490347],\"yaxis\":\"y\",\"type\":\"scatter\"},{\"hovertemplate\":\"Team=Just-in-N-out Drive thru<extra></extra>\",\"legendgroup\":\"Just-in-N-out Drive thru\",\"marker\":{\"color\":\"#FF6692\",\"symbol\":\"circle\"},\"mode\":\"lines\",\"name\":\"Just-in-N-out Drive thru\",\"showlegend\":false,\"xaxis\":\"x\",\"yaxis\":\"y\",\"type\":\"scatter\"},{\"hovertemplate\":\"Team=My Team  A Bust<br>Week=%{x}<br>Difference=%{y}<extra></extra>\",\"legendgroup\":\"My Team  A Bust\",\"marker\":{\"color\":\"#B6E880\",\"symbol\":\"circle\"},\"mode\":\"markers\",\"name\":\"My Team  A Bust\",\"orientation\":\"v\",\"showlegend\":true,\"x\":[8.505535055350553],\"xaxis\":\"x\",\"y\":[-55.97059040590406],\"yaxis\":\"y\",\"type\":\"scatter\"},{\"hovertemplate\":\"Team=My Team  A Bust<extra></extra>\",\"legendgroup\":\"My Team  A Bust\",\"marker\":{\"color\":\"#B6E880\",\"symbol\":\"circle\"},\"mode\":\"lines\",\"name\":\"My Team  A Bust\",\"showlegend\":false,\"xaxis\":\"x\",\"yaxis\":\"y\",\"type\":\"scatter\"},{\"hovertemplate\":\"Team=No Nyugen Will Win<br>Week=%{x}<br>Difference=%{y}<extra></extra>\",\"legendgroup\":\"No Nyugen Will Win\",\"marker\":{\"color\":\"#FF97FF\",\"symbol\":\"circle\"},\"mode\":\"markers\",\"name\":\"No Nyugen Will Win\",\"orientation\":\"v\",\"showlegend\":true,\"x\":[8.429657794676807],\"xaxis\":\"x\",\"y\":[-64.1328897338403],\"yaxis\":\"y\",\"type\":\"scatter\"},{\"hovertemplate\":\"Team=No Nyugen Will Win<extra></extra>\",\"legendgroup\":\"No Nyugen Will Win\",\"marker\":{\"color\":\"#FF97FF\",\"symbol\":\"circle\"},\"mode\":\"lines\",\"name\":\"No Nyugen Will Win\",\"showlegend\":false,\"xaxis\":\"x\",\"yaxis\":\"y\",\"type\":\"scatter\"},{\"hovertemplate\":\"Team=P-Town CASH KEVIN<br>Week=%{x}<br>Difference=%{y}<extra></extra>\",\"legendgroup\":\"P-Town CASH KEVIN\",\"marker\":{\"color\":\"#FECB52\",\"symbol\":\"circle\"},\"mode\":\"markers\",\"name\":\"P-Town CASH KEVIN\",\"orientation\":\"v\",\"showlegend\":true,\"x\":[8.611320754716981],\"xaxis\":\"x\",\"y\":[-66.74177358490566],\"yaxis\":\"y\",\"type\":\"scatter\"},{\"hovertemplate\":\"Team=P-Town CASH KEVIN<extra></extra>\",\"legendgroup\":\"P-Town CASH KEVIN\",\"marker\":{\"color\":\"#FECB52\",\"symbol\":\"circle\"},\"mode\":\"lines\",\"name\":\"P-Town CASH KEVIN\",\"showlegend\":false,\"xaxis\":\"x\",\"yaxis\":\"y\",\"type\":\"scatter\"}],                        {\"template\":{\"data\":{\"histogram2dcontour\":[{\"type\":\"histogram2dcontour\",\"colorbar\":{\"outlinewidth\":0,\"ticks\":\"\"},\"colorscale\":[[0.0,\"#0d0887\"],[0.1111111111111111,\"#46039f\"],[0.2222222222222222,\"#7201a8\"],[0.3333333333333333,\"#9c179e\"],[0.4444444444444444,\"#bd3786\"],[0.5555555555555556,\"#d8576b\"],[0.6666666666666666,\"#ed7953\"],[0.7777777777777778,\"#fb9f3a\"],[0.8888888888888888,\"#fdca26\"],[1.0,\"#f0f921\"]]}],\"choropleth\":[{\"type\":\"choropleth\",\"colorbar\":{\"outlinewidth\":0,\"ticks\":\"\"}}],\"histogram2d\":[{\"type\":\"histogram2d\",\"colorbar\":{\"outlinewidth\":0,\"ticks\":\"\"},\"colorscale\":[[0.0,\"#0d0887\"],[0.1111111111111111,\"#46039f\"],[0.2222222222222222,\"#7201a8\"],[0.3333333333333333,\"#9c179e\"],[0.4444444444444444,\"#bd3786\"],[0.5555555555555556,\"#d8576b\"],[0.6666666666666666,\"#ed7953\"],[0.7777777777777778,\"#fb9f3a\"],[0.8888888888888888,\"#fdca26\"],[1.0,\"#f0f921\"]]}],\"heatmap\":[{\"type\":\"heatmap\",\"colorbar\":{\"outlinewidth\":0,\"ticks\":\"\"},\"colorscale\":[[0.0,\"#0d0887\"],[0.1111111111111111,\"#46039f\"],[0.2222222222222222,\"#7201a8\"],[0.3333333333333333,\"#9c179e\"],[0.4444444444444444,\"#bd3786\"],[0.5555555555555556,\"#d8576b\"],[0.6666666666666666,\"#ed7953\"],[0.7777777777777778,\"#fb9f3a\"],[0.8888888888888888,\"#fdca26\"],[1.0,\"#f0f921\"]]}],\"heatmapgl\":[{\"type\":\"heatmapgl\",\"colorbar\":{\"outlinewidth\":0,\"ticks\":\"\"},\"colorscale\":[[0.0,\"#0d0887\"],[0.1111111111111111,\"#46039f\"],[0.2222222222222222,\"#7201a8\"],[0.3333333333333333,\"#9c179e\"],[0.4444444444444444,\"#bd3786\"],[0.5555555555555556,\"#d8576b\"],[0.6666666666666666,\"#ed7953\"],[0.7777777777777778,\"#fb9f3a\"],[0.8888888888888888,\"#fdca26\"],[1.0,\"#f0f921\"]]}],\"contourcarpet\":[{\"type\":\"contourcarpet\",\"colorbar\":{\"outlinewidth\":0,\"ticks\":\"\"}}],\"contour\":[{\"type\":\"contour\",\"colorbar\":{\"outlinewidth\":0,\"ticks\":\"\"},\"colorscale\":[[0.0,\"#0d0887\"],[0.1111111111111111,\"#46039f\"],[0.2222222222222222,\"#7201a8\"],[0.3333333333333333,\"#9c179e\"],[0.4444444444444444,\"#bd3786\"],[0.5555555555555556,\"#d8576b\"],[0.6666666666666666,\"#ed7953\"],[0.7777777777777778,\"#fb9f3a\"],[0.8888888888888888,\"#fdca26\"],[1.0,\"#f0f921\"]]}],\"surface\":[{\"type\":\"surface\",\"colorbar\":{\"outlinewidth\":0,\"ticks\":\"\"},\"colorscale\":[[0.0,\"#0d0887\"],[0.1111111111111111,\"#46039f\"],[0.2222222222222222,\"#7201a8\"],[0.3333333333333333,\"#9c179e\"],[0.4444444444444444,\"#bd3786\"],[0.5555555555555556,\"#d8576b\"],[0.6666666666666666,\"#ed7953\"],[0.7777777777777778,\"#fb9f3a\"],[0.8888888888888888,\"#fdca26\"],[1.0,\"#f0f921\"]]}],\"mesh3d\":[{\"type\":\"mesh3d\",\"colorbar\":{\"outlinewidth\":0,\"ticks\":\"\"}}],\"scatter\":[{\"fillpattern\":{\"fillmode\":\"overlay\",\"size\":10,\"solidity\":0.2},\"type\":\"scatter\"}],\"parcoords\":[{\"type\":\"parcoords\",\"line\":{\"colorbar\":{\"outlinewidth\":0,\"ticks\":\"\"}}}],\"scatterpolargl\":[{\"type\":\"scatterpolargl\",\"marker\":{\"colorbar\":{\"outlinewidth\":0,\"ticks\":\"\"}}}],\"bar\":[{\"error_x\":{\"color\":\"#2a3f5f\"},\"error_y\":{\"color\":\"#2a3f5f\"},\"marker\":{\"line\":{\"color\":\"#E5ECF6\",\"width\":0.5},\"pattern\":{\"fillmode\":\"overlay\",\"size\":10,\"solidity\":0.2}},\"type\":\"bar\"}],\"scattergeo\":[{\"type\":\"scattergeo\",\"marker\":{\"colorbar\":{\"outlinewidth\":0,\"ticks\":\"\"}}}],\"scatterpolar\":[{\"type\":\"scatterpolar\",\"marker\":{\"colorbar\":{\"outlinewidth\":0,\"ticks\":\"\"}}}],\"histogram\":[{\"marker\":{\"pattern\":{\"fillmode\":\"overlay\",\"size\":10,\"solidity\":0.2}},\"type\":\"histogram\"}],\"scattergl\":[{\"type\":\"scattergl\",\"marker\":{\"colorbar\":{\"outlinewidth\":0,\"ticks\":\"\"}}}],\"scatter3d\":[{\"type\":\"scatter3d\",\"line\":{\"colorbar\":{\"outlinewidth\":0,\"ticks\":\"\"}},\"marker\":{\"colorbar\":{\"outlinewidth\":0,\"ticks\":\"\"}}}],\"scattermapbox\":[{\"type\":\"scattermapbox\",\"marker\":{\"colorbar\":{\"outlinewidth\":0,\"ticks\":\"\"}}}],\"scatterternary\":[{\"type\":\"scatterternary\",\"marker\":{\"colorbar\":{\"outlinewidth\":0,\"ticks\":\"\"}}}],\"scattercarpet\":[{\"type\":\"scattercarpet\",\"marker\":{\"colorbar\":{\"outlinewidth\":0,\"ticks\":\"\"}}}],\"carpet\":[{\"aaxis\":{\"endlinecolor\":\"#2a3f5f\",\"gridcolor\":\"white\",\"linecolor\":\"white\",\"minorgridcolor\":\"white\",\"startlinecolor\":\"#2a3f5f\"},\"baxis\":{\"endlinecolor\":\"#2a3f5f\",\"gridcolor\":\"white\",\"linecolor\":\"white\",\"minorgridcolor\":\"white\",\"startlinecolor\":\"#2a3f5f\"},\"type\":\"carpet\"}],\"table\":[{\"cells\":{\"fill\":{\"color\":\"#EBF0F8\"},\"line\":{\"color\":\"white\"}},\"header\":{\"fill\":{\"color\":\"#C8D4E3\"},\"line\":{\"color\":\"white\"}},\"type\":\"table\"}],\"barpolar\":[{\"marker\":{\"line\":{\"color\":\"#E5ECF6\",\"width\":0.5},\"pattern\":{\"fillmode\":\"overlay\",\"size\":10,\"solidity\":0.2}},\"type\":\"barpolar\"}],\"pie\":[{\"automargin\":true,\"type\":\"pie\"}]},\"layout\":{\"autotypenumbers\":\"strict\",\"colorway\":[\"#636efa\",\"#EF553B\",\"#00cc96\",\"#ab63fa\",\"#FFA15A\",\"#19d3f3\",\"#FF6692\",\"#B6E880\",\"#FF97FF\",\"#FECB52\"],\"font\":{\"color\":\"#2a3f5f\"},\"hovermode\":\"closest\",\"hoverlabel\":{\"align\":\"left\"},\"paper_bgcolor\":\"white\",\"plot_bgcolor\":\"#E5ECF6\",\"polar\":{\"bgcolor\":\"#E5ECF6\",\"angularaxis\":{\"gridcolor\":\"white\",\"linecolor\":\"white\",\"ticks\":\"\"},\"radialaxis\":{\"gridcolor\":\"white\",\"linecolor\":\"white\",\"ticks\":\"\"}},\"ternary\":{\"bgcolor\":\"#E5ECF6\",\"aaxis\":{\"gridcolor\":\"white\",\"linecolor\":\"white\",\"ticks\":\"\"},\"baxis\":{\"gridcolor\":\"white\",\"linecolor\":\"white\",\"ticks\":\"\"},\"caxis\":{\"gridcolor\":\"white\",\"linecolor\":\"white\",\"ticks\":\"\"}},\"coloraxis\":{\"colorbar\":{\"outlinewidth\":0,\"ticks\":\"\"}},\"colorscale\":{\"sequential\":[[0.0,\"#0d0887\"],[0.1111111111111111,\"#46039f\"],[0.2222222222222222,\"#7201a8\"],[0.3333333333333333,\"#9c179e\"],[0.4444444444444444,\"#bd3786\"],[0.5555555555555556,\"#d8576b\"],[0.6666666666666666,\"#ed7953\"],[0.7777777777777778,\"#fb9f3a\"],[0.8888888888888888,\"#fdca26\"],[1.0,\"#f0f921\"]],\"sequentialminus\":[[0.0,\"#0d0887\"],[0.1111111111111111,\"#46039f\"],[0.2222222222222222,\"#7201a8\"],[0.3333333333333333,\"#9c179e\"],[0.4444444444444444,\"#bd3786\"],[0.5555555555555556,\"#d8576b\"],[0.6666666666666666,\"#ed7953\"],[0.7777777777777778,\"#fb9f3a\"],[0.8888888888888888,\"#fdca26\"],[1.0,\"#f0f921\"]],\"diverging\":[[0,\"#8e0152\"],[0.1,\"#c51b7d\"],[0.2,\"#de77ae\"],[0.3,\"#f1b6da\"],[0.4,\"#fde0ef\"],[0.5,\"#f7f7f7\"],[0.6,\"#e6f5d0\"],[0.7,\"#b8e186\"],[0.8,\"#7fbc41\"],[0.9,\"#4d9221\"],[1,\"#276419\"]]},\"xaxis\":{\"gridcolor\":\"white\",\"linecolor\":\"white\",\"ticks\":\"\",\"title\":{\"standoff\":15},\"zerolinecolor\":\"white\",\"automargin\":true,\"zerolinewidth\":2},\"yaxis\":{\"gridcolor\":\"white\",\"linecolor\":\"white\",\"ticks\":\"\",\"title\":{\"standoff\":15},\"zerolinecolor\":\"white\",\"automargin\":true,\"zerolinewidth\":2},\"scene\":{\"xaxis\":{\"backgroundcolor\":\"#E5ECF6\",\"gridcolor\":\"white\",\"linecolor\":\"white\",\"showbackground\":true,\"ticks\":\"\",\"zerolinecolor\":\"white\",\"gridwidth\":2},\"yaxis\":{\"backgroundcolor\":\"#E5ECF6\",\"gridcolor\":\"white\",\"linecolor\":\"white\",\"showbackground\":true,\"ticks\":\"\",\"zerolinecolor\":\"white\",\"gridwidth\":2},\"zaxis\":{\"backgroundcolor\":\"#E5ECF6\",\"gridcolor\":\"white\",\"linecolor\":\"white\",\"showbackground\":true,\"ticks\":\"\",\"zerolinecolor\":\"white\",\"gridwidth\":2}},\"shapedefaults\":{\"line\":{\"color\":\"#2a3f5f\"}},\"annotationdefaults\":{\"arrowcolor\":\"#2a3f5f\",\"arrowhead\":0,\"arrowwidth\":1},\"geo\":{\"bgcolor\":\"white\",\"landcolor\":\"#E5ECF6\",\"subunitcolor\":\"white\",\"showland\":true,\"showlakes\":true,\"lakecolor\":\"white\"},\"title\":{\"x\":0.05},\"mapbox\":{\"style\":\"light\"}}},\"xaxis\":{\"anchor\":\"y\",\"domain\":[0.0,1.0],\"title\":{\"text\":\"Week\"}},\"yaxis\":{\"anchor\":\"x\",\"domain\":[0.0,1.0],\"title\":{\"text\":\"Difference\"}},\"legend\":{\"title\":{\"text\":\"Team\"},\"tracegroupgap\":0},\"margin\":{\"t\":60}},                        {\"responsive\": true}                    ).then(function(){\n",
       "                            \n",
       "var gd = document.getElementById('535f9d5f-f109-44c0-bad6-8a6175f87854');\n",
       "var x = new MutationObserver(function (mutations, observer) {{\n",
       "        var display = window.getComputedStyle(gd).display;\n",
       "        if (!display || display === 'none') {{\n",
       "            console.log([gd, 'removed!']);\n",
       "            Plotly.purge(gd);\n",
       "            observer.disconnect();\n",
       "        }}\n",
       "}});\n",
       "\n",
       "// Listen for the removal of the full notebook cells\n",
       "var notebookContainer = gd.closest('#notebook-container');\n",
       "if (notebookContainer) {{\n",
       "    x.observe(notebookContainer, {childList: true});\n",
       "}}\n",
       "\n",
       "// Listen for the clearing of the current output cell\n",
       "var outputEl = gd.closest('.output');\n",
       "if (outputEl) {{\n",
       "    x.observe(outputEl, {childList: true});\n",
       "}}\n",
       "\n",
       "                        })                };                });            </script>        </div>"
      ]
     },
     "metadata": {},
     "output_type": "display_data"
    }
   ],
   "source": [
    "plot = px.scatter(test_df, x = 'Week', y = 'Difference', color = 'Team', trendline = 'ols')\n",
    "plot.show()"
   ]
  },
  {
   "cell_type": "code",
   "execution_count": null,
   "id": "d3679db8",
   "metadata": {},
   "outputs": [],
   "source": []
  },
  {
   "cell_type": "code",
   "execution_count": null,
   "id": "1f9c6c3a",
   "metadata": {},
   "outputs": [],
   "source": []
  },
  {
   "cell_type": "code",
   "execution_count": null,
   "id": "e765e414",
   "metadata": {},
   "outputs": [],
   "source": []
  },
  {
   "cell_type": "code",
   "execution_count": null,
   "id": "0ee2fcf1",
   "metadata": {},
   "outputs": [],
   "source": []
  },
  {
   "cell_type": "code",
   "execution_count": null,
   "id": "7f4be4e7",
   "metadata": {},
   "outputs": [],
   "source": []
  },
  {
   "cell_type": "code",
   "execution_count": null,
   "id": "e5620bd0",
   "metadata": {},
   "outputs": [],
   "source": []
  },
  {
   "cell_type": "code",
   "execution_count": null,
   "id": "42540c05",
   "metadata": {},
   "outputs": [],
   "source": []
  },
  {
   "cell_type": "code",
   "execution_count": null,
   "id": "1576a902",
   "metadata": {},
   "outputs": [],
   "source": []
  },
  {
   "cell_type": "code",
   "execution_count": null,
   "id": "bdba7ec2",
   "metadata": {},
   "outputs": [],
   "source": []
  },
  {
   "cell_type": "code",
   "execution_count": null,
   "id": "ab5e6976",
   "metadata": {},
   "outputs": [],
   "source": []
  }
 ],
 "metadata": {
  "kernelspec": {
   "display_name": "Python 3 (ipykernel)",
   "language": "python",
   "name": "python3"
  },
  "language_info": {
   "codemirror_mode": {
    "name": "ipython",
    "version": 3
   },
   "file_extension": ".py",
   "mimetype": "text/x-python",
   "name": "python",
   "nbconvert_exporter": "python",
   "pygments_lexer": "ipython3",
   "version": "3.9.13"
  },
  "vscode": {
   "interpreter": {
    "hash": "a5a3c20dd14690a1a44dfb81e75df91fd6280261442decb18661f86a16b5adb9"
   }
  }
 },
 "nbformat": 4,
 "nbformat_minor": 5
}
