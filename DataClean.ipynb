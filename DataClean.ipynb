{
 "cells": [
  {
   "cell_type": "code",
   "execution_count": 3,
   "id": "7cbcffd5",
   "metadata": {},
   "outputs": [],
   "source": [
    "# from espnapi.espn_api.football import League\n",
    "from espn_api.football import League\n",
    "import pandas as pd\n",
    "import plotly.express as px\n",
    "# Init\n",
    "\n",
    "#fan's - 42936131\n",
    "#mine - 829963546\n",
    "league_id = 829963546\n",
    "year = 2022\n",
    "league = League(league_id=league_id, year=year)\n",
    "\n"
   ]
  },
  {
   "cell_type": "markdown",
   "id": "7652f8c2",
   "metadata": {},
   "source": [
    "## Lets get the draft picks from each team"
   ]
  },
  {
   "cell_type": "code",
   "execution_count": 4,
   "id": "991911f8",
   "metadata": {},
   "outputs": [
    {
     "data": {
      "text/html": [
       "<div>\n",
       "<style scoped>\n",
       "    .dataframe tbody tr th:only-of-type {\n",
       "        vertical-align: middle;\n",
       "    }\n",
       "\n",
       "    .dataframe tbody tr th {\n",
       "        vertical-align: top;\n",
       "    }\n",
       "\n",
       "    .dataframe thead th {\n",
       "        text-align: right;\n",
       "    }\n",
       "</style>\n",
       "<table border=\"1\" class=\"dataframe\">\n",
       "  <thead>\n",
       "    <tr style=\"text-align: right;\">\n",
       "      <th></th>\n",
       "      <th>Team</th>\n",
       "      <th>Player</th>\n",
       "      <th>ID</th>\n",
       "      <th>RoundPick</th>\n",
       "      <th>RoundNum</th>\n",
       "    </tr>\n",
       "  </thead>\n",
       "  <tbody>\n",
       "    <tr>\n",
       "      <th>0</th>\n",
       "      <td>P-Town CASH KEVIN</td>\n",
       "      <td>Jonathan Taylor</td>\n",
       "      <td>4242335</td>\n",
       "      <td>1</td>\n",
       "      <td>1</td>\n",
       "    </tr>\n",
       "    <tr>\n",
       "      <th>1</th>\n",
       "      <td>Diggy Wit it</td>\n",
       "      <td>Christian McCaffrey</td>\n",
       "      <td>3117251</td>\n",
       "      <td>2</td>\n",
       "      <td>1</td>\n",
       "    </tr>\n",
       "    <tr>\n",
       "      <th>2</th>\n",
       "      <td>My Team  A Bust</td>\n",
       "      <td>Austin Ekeler</td>\n",
       "      <td>3068267</td>\n",
       "      <td>3</td>\n",
       "      <td>1</td>\n",
       "    </tr>\n",
       "    <tr>\n",
       "      <th>3</th>\n",
       "      <td>Eugene Tweakers</td>\n",
       "      <td>Cooper Kupp</td>\n",
       "      <td>2977187</td>\n",
       "      <td>4</td>\n",
       "      <td>1</td>\n",
       "    </tr>\n",
       "    <tr>\n",
       "      <th>4</th>\n",
       "      <td>Couv Reigning Champ</td>\n",
       "      <td>Dalvin Cook</td>\n",
       "      <td>3116593</td>\n",
       "      <td>5</td>\n",
       "      <td>1</td>\n",
       "    </tr>\n",
       "    <tr>\n",
       "      <th>5</th>\n",
       "      <td>Gorilla Guys</td>\n",
       "      <td>Derrick Henry</td>\n",
       "      <td>3043078</td>\n",
       "      <td>6</td>\n",
       "      <td>1</td>\n",
       "    </tr>\n",
       "    <tr>\n",
       "      <th>6</th>\n",
       "      <td>I dont know what im doing</td>\n",
       "      <td>Leonard Fournette</td>\n",
       "      <td>3115364</td>\n",
       "      <td>7</td>\n",
       "      <td>1</td>\n",
       "    </tr>\n",
       "    <tr>\n",
       "      <th>7</th>\n",
       "      <td>Cougar Town Zach Wilson</td>\n",
       "      <td>Deebo Samuel</td>\n",
       "      <td>3126486</td>\n",
       "      <td>8</td>\n",
       "      <td>1</td>\n",
       "    </tr>\n",
       "    <tr>\n",
       "      <th>8</th>\n",
       "      <td>No Nyugen Will Win</td>\n",
       "      <td>Najee Harris</td>\n",
       "      <td>4241457</td>\n",
       "      <td>9</td>\n",
       "      <td>1</td>\n",
       "    </tr>\n",
       "    <tr>\n",
       "      <th>9</th>\n",
       "      <td>Just-in-N-out Drive thru</td>\n",
       "      <td>Justin Jefferson</td>\n",
       "      <td>4262921</td>\n",
       "      <td>10</td>\n",
       "      <td>1</td>\n",
       "    </tr>\n",
       "  </tbody>\n",
       "</table>\n",
       "</div>"
      ],
      "text/plain": [
       "                        Team               Player       ID  RoundPick  \\\n",
       "0          P-Town CASH KEVIN      Jonathan Taylor  4242335          1   \n",
       "1               Diggy Wit it  Christian McCaffrey  3117251          2   \n",
       "2            My Team  A Bust        Austin Ekeler  3068267          3   \n",
       "3            Eugene Tweakers          Cooper Kupp  2977187          4   \n",
       "4        Couv Reigning Champ          Dalvin Cook  3116593          5   \n",
       "5               Gorilla Guys        Derrick Henry  3043078          6   \n",
       "6  I dont know what im doing    Leonard Fournette  3115364          7   \n",
       "7    Cougar Town Zach Wilson         Deebo Samuel  3126486          8   \n",
       "8         No Nyugen Will Win         Najee Harris  4241457          9   \n",
       "9   Just-in-N-out Drive thru     Justin Jefferson  4262921         10   \n",
       "\n",
       "   RoundNum  \n",
       "0         1  \n",
       "1         1  \n",
       "2         1  \n",
       "3         1  \n",
       "4         1  \n",
       "5         1  \n",
       "6         1  \n",
       "7         1  \n",
       "8         1  \n",
       "9         1  "
      ]
     },
     "execution_count": 4,
     "metadata": {},
     "output_type": "execute_result"
    }
   ],
   "source": [
    "df = pd.DataFrame()\n",
    "\n",
    "teams = []\n",
    "players = []\n",
    "id = []\n",
    "round_num = []\n",
    "round_pick = []\n",
    "\n",
    "\n",
    "for pick in league.draft:\n",
    "    teams.append(pick.team.team_name)\n",
    "    players.append(pick.playerName)\n",
    "    round_num.append(pick.round_num)\n",
    "    round_pick.append(pick.round_pick)\n",
    "    id.append(pick.playerId)\n",
    "    \n",
    "df['Team'] = teams\n",
    "df['Player'] = players\n",
    "df['ID'] = id\n",
    "df['RoundPick'] = round_pick\n",
    "df['RoundNum'] = round_num\n",
    "df.to_csv('Data/team_players.csv')\n",
    "df.head(10)"
   ]
  },
  {
   "cell_type": "markdown",
   "id": "e5019235",
   "metadata": {},
   "source": [
    "# Get projected points"
   ]
  },
  {
   "cell_type": "markdown",
   "id": "6fd12849",
   "metadata": {},
   "source": []
  },
  {
   "cell_type": "code",
   "execution_count": 5,
   "id": "d7a079ac",
   "metadata": {},
   "outputs": [],
   "source": [
    "players = []\n",
    "expected = []\n",
    "actual = []\n",
    "rank = []\n",
    "nfl_team = []\n",
    "for team in league.teams:\n",
    "    for player in team.roster:\n",
    "        players.append(player.name)\n",
    "        expected.append(player.projected_total_points)\n",
    "        actual.append(player.total_points)\n",
    "        rank.append(player.posRank)\n",
    "        nfl_team.append(player.proTeam)\n",
    "\n",
    "points_df = pd.DataFrame()\n",
    "points_df['Player'] = players\n",
    "points_df['Expected_Points'] = expected\n",
    "points_df['Actual_Points'] = actual\n",
    "points_df['Rank'] = rank\n",
    "points_df['NFLTeam'] = nfl_team\n",
    "\n"
   ]
  },
  {
   "cell_type": "code",
   "execution_count": 6,
   "id": "e7c4ae56",
   "metadata": {},
   "outputs": [],
   "source": [
    "points_df['Difference'] = points_df['Actual_Points'] - points_df['Expected_Points']"
   ]
  },
  {
   "cell_type": "code",
   "execution_count": null,
   "id": "fe372f91",
   "metadata": {},
   "outputs": [],
   "source": []
  },
  {
   "cell_type": "code",
   "execution_count": 7,
   "id": "9fe71611",
   "metadata": {},
   "outputs": [],
   "source": [
    "points_df = points_df.sort_values('Difference', ascending = False)\n",
    "points_df.to_csv('Data/player_differences.csv')"
   ]
  },
  {
   "cell_type": "code",
   "execution_count": 8,
   "id": "a68f558e",
   "metadata": {},
   "outputs": [],
   "source": [
    "# points_df.groupby('Team').mean().sort_values('Difference', ascending=False).to_csv('Data/grouped_average_differences.csv')\n",
    "# points_df.groupby('Team').mean().sort_values('Difference', ascending=False)"
   ]
  },
  {
   "cell_type": "markdown",
   "id": "206884ce",
   "metadata": {},
   "source": [
    "# Export the CSV"
   ]
  },
  {
   "cell_type": "code",
   "execution_count": 9,
   "id": "a63b41d8",
   "metadata": {},
   "outputs": [
    {
     "data": {
      "text/html": [
       "<div>\n",
       "<style scoped>\n",
       "    .dataframe tbody tr th:only-of-type {\n",
       "        vertical-align: middle;\n",
       "    }\n",
       "\n",
       "    .dataframe tbody tr th {\n",
       "        vertical-align: top;\n",
       "    }\n",
       "\n",
       "    .dataframe thead th {\n",
       "        text-align: right;\n",
       "    }\n",
       "</style>\n",
       "<table border=\"1\" class=\"dataframe\">\n",
       "  <thead>\n",
       "    <tr style=\"text-align: right;\">\n",
       "      <th></th>\n",
       "      <th>Player</th>\n",
       "      <th>Expected_Points</th>\n",
       "      <th>Actual_Points</th>\n",
       "      <th>Rank</th>\n",
       "      <th>NFLTeam</th>\n",
       "      <th>Difference</th>\n",
       "    </tr>\n",
       "  </thead>\n",
       "  <tbody>\n",
       "    <tr>\n",
       "      <th>144</th>\n",
       "      <td>Jimmy Garoppolo</td>\n",
       "      <td>14.84</td>\n",
       "      <td>149.26</td>\n",
       "      <td>19</td>\n",
       "      <td>SF</td>\n",
       "      <td>134.42</td>\n",
       "    </tr>\n",
       "    <tr>\n",
       "      <th>161</th>\n",
       "      <td>Kenyan Drake</td>\n",
       "      <td>13.48</td>\n",
       "      <td>79.20</td>\n",
       "      <td>41</td>\n",
       "      <td>BAL</td>\n",
       "      <td>65.72</td>\n",
       "    </tr>\n",
       "    <tr>\n",
       "      <th>139</th>\n",
       "      <td>Jeff Wilson Jr.</td>\n",
       "      <td>50.21</td>\n",
       "      <td>112.40</td>\n",
       "      <td>23</td>\n",
       "      <td>MIA</td>\n",
       "      <td>62.19</td>\n",
       "    </tr>\n",
       "    <tr>\n",
       "      <th>94</th>\n",
       "      <td>Geno Smith</td>\n",
       "      <td>148.82</td>\n",
       "      <td>182.76</td>\n",
       "      <td>7</td>\n",
       "      <td>SEA</td>\n",
       "      <td>33.94</td>\n",
       "    </tr>\n",
       "    <tr>\n",
       "      <th>28</th>\n",
       "      <td>Marcus Mariota</td>\n",
       "      <td>141.19</td>\n",
       "      <td>172.32</td>\n",
       "      <td>9</td>\n",
       "      <td>ATL</td>\n",
       "      <td>31.13</td>\n",
       "    </tr>\n",
       "    <tr>\n",
       "      <th>76</th>\n",
       "      <td>Jamaal Williams</td>\n",
       "      <td>123.09</td>\n",
       "      <td>153.50</td>\n",
       "      <td>13</td>\n",
       "      <td>DET</td>\n",
       "      <td>30.41</td>\n",
       "    </tr>\n",
       "    <tr>\n",
       "      <th>162</th>\n",
       "      <td>Eno Benjamin</td>\n",
       "      <td>64.37</td>\n",
       "      <td>86.30</td>\n",
       "      <td>37</td>\n",
       "      <td>HOU</td>\n",
       "      <td>21.93</td>\n",
       "    </tr>\n",
       "    <tr>\n",
       "      <th>140</th>\n",
       "      <td>Patriots D/ST</td>\n",
       "      <td>90.39</td>\n",
       "      <td>111.00</td>\n",
       "      <td>1</td>\n",
       "      <td>NE</td>\n",
       "      <td>20.61</td>\n",
       "    </tr>\n",
       "    <tr>\n",
       "      <th>93</th>\n",
       "      <td>Jets D/ST</td>\n",
       "      <td>70.84</td>\n",
       "      <td>91.00</td>\n",
       "      <td>4</td>\n",
       "      <td>NYJ</td>\n",
       "      <td>20.16</td>\n",
       "    </tr>\n",
       "    <tr>\n",
       "      <th>159</th>\n",
       "      <td>Josh Reynolds</td>\n",
       "      <td>58.02</td>\n",
       "      <td>73.70</td>\n",
       "      <td>61</td>\n",
       "      <td>DET</td>\n",
       "      <td>15.68</td>\n",
       "    </tr>\n",
       "  </tbody>\n",
       "</table>\n",
       "</div>"
      ],
      "text/plain": [
       "              Player  Expected_Points  Actual_Points  Rank NFLTeam  Difference\n",
       "144  Jimmy Garoppolo            14.84         149.26    19      SF      134.42\n",
       "161     Kenyan Drake            13.48          79.20    41     BAL       65.72\n",
       "139  Jeff Wilson Jr.            50.21         112.40    23     MIA       62.19\n",
       "94        Geno Smith           148.82         182.76     7     SEA       33.94\n",
       "28    Marcus Mariota           141.19         172.32     9     ATL       31.13\n",
       "76   Jamaal Williams           123.09         153.50    13     DET       30.41\n",
       "162     Eno Benjamin            64.37          86.30    37     HOU       21.93\n",
       "140    Patriots D/ST            90.39         111.00     1      NE       20.61\n",
       "93         Jets D/ST            70.84          91.00     4     NYJ       20.16\n",
       "159    Josh Reynolds            58.02          73.70    61     DET       15.68"
      ]
     },
     "execution_count": 9,
     "metadata": {},
     "output_type": "execute_result"
    }
   ],
   "source": [
    "points_df.to_csv('Data/player_points.csv')\n",
    "points_df.head(10)"
   ]
  },
  {
   "cell_type": "code",
   "execution_count": 10,
   "id": "590bab3b",
   "metadata": {},
   "outputs": [
    {
     "data": {
      "text/html": [
       "<div>\n",
       "<style scoped>\n",
       "    .dataframe tbody tr th:only-of-type {\n",
       "        vertical-align: middle;\n",
       "    }\n",
       "\n",
       "    .dataframe tbody tr th {\n",
       "        vertical-align: top;\n",
       "    }\n",
       "\n",
       "    .dataframe thead th {\n",
       "        text-align: right;\n",
       "    }\n",
       "</style>\n",
       "<table border=\"1\" class=\"dataframe\">\n",
       "  <thead>\n",
       "    <tr style=\"text-align: right;\">\n",
       "      <th></th>\n",
       "      <th>Team</th>\n",
       "      <th>Player</th>\n",
       "      <th>ID</th>\n",
       "      <th>RoundPick</th>\n",
       "      <th>RoundNum</th>\n",
       "      <th>Expected_Points</th>\n",
       "      <th>Actual_Points</th>\n",
       "      <th>Rank</th>\n",
       "      <th>NFLTeam</th>\n",
       "      <th>Difference</th>\n",
       "    </tr>\n",
       "  </thead>\n",
       "  <tbody>\n",
       "    <tr>\n",
       "      <th>0</th>\n",
       "      <td>P-Town CASH KEVIN</td>\n",
       "      <td>Jonathan Taylor</td>\n",
       "      <td>4242335</td>\n",
       "      <td>1</td>\n",
       "      <td>1</td>\n",
       "      <td>316.99</td>\n",
       "      <td>112.00</td>\n",
       "      <td>24</td>\n",
       "      <td>IND</td>\n",
       "      <td>-204.99</td>\n",
       "    </tr>\n",
       "    <tr>\n",
       "      <th>1</th>\n",
       "      <td>Diggy Wit it</td>\n",
       "      <td>Christian McCaffrey</td>\n",
       "      <td>3117251</td>\n",
       "      <td>2</td>\n",
       "      <td>1</td>\n",
       "      <td>309.94</td>\n",
       "      <td>201.76</td>\n",
       "      <td>3</td>\n",
       "      <td>SF</td>\n",
       "      <td>-108.18</td>\n",
       "    </tr>\n",
       "    <tr>\n",
       "      <th>2</th>\n",
       "      <td>My Team  A Bust</td>\n",
       "      <td>Austin Ekeler</td>\n",
       "      <td>3068267</td>\n",
       "      <td>3</td>\n",
       "      <td>1</td>\n",
       "      <td>284.73</td>\n",
       "      <td>230.10</td>\n",
       "      <td>1</td>\n",
       "      <td>LAC</td>\n",
       "      <td>-54.63</td>\n",
       "    </tr>\n",
       "    <tr>\n",
       "      <th>3</th>\n",
       "      <td>Eugene Tweakers</td>\n",
       "      <td>Cooper Kupp</td>\n",
       "      <td>2977187</td>\n",
       "      <td>4</td>\n",
       "      <td>1</td>\n",
       "      <td>312.91</td>\n",
       "      <td>201.40</td>\n",
       "      <td>5</td>\n",
       "      <td>LAR</td>\n",
       "      <td>-111.51</td>\n",
       "    </tr>\n",
       "    <tr>\n",
       "      <th>4</th>\n",
       "      <td>Couv Reigning Champ</td>\n",
       "      <td>Dalvin Cook</td>\n",
       "      <td>3116593</td>\n",
       "      <td>5</td>\n",
       "      <td>1</td>\n",
       "      <td>258.49</td>\n",
       "      <td>156.50</td>\n",
       "      <td>11</td>\n",
       "      <td>MIN</td>\n",
       "      <td>-101.99</td>\n",
       "    </tr>\n",
       "    <tr>\n",
       "      <th>5</th>\n",
       "      <td>Gorilla Guys</td>\n",
       "      <td>Derrick Henry</td>\n",
       "      <td>3043078</td>\n",
       "      <td>6</td>\n",
       "      <td>1</td>\n",
       "      <td>264.47</td>\n",
       "      <td>203.06</td>\n",
       "      <td>2</td>\n",
       "      <td>TEN</td>\n",
       "      <td>-61.41</td>\n",
       "    </tr>\n",
       "    <tr>\n",
       "      <th>6</th>\n",
       "      <td>I dont know what im doing</td>\n",
       "      <td>Leonard Fournette</td>\n",
       "      <td>3115364</td>\n",
       "      <td>7</td>\n",
       "      <td>1</td>\n",
       "      <td>258.74</td>\n",
       "      <td>154.70</td>\n",
       "      <td>12</td>\n",
       "      <td>TB</td>\n",
       "      <td>-104.04</td>\n",
       "    </tr>\n",
       "    <tr>\n",
       "      <th>7</th>\n",
       "      <td>Cougar Town Zach Wilson</td>\n",
       "      <td>Deebo Samuel</td>\n",
       "      <td>3126486</td>\n",
       "      <td>8</td>\n",
       "      <td>1</td>\n",
       "      <td>261.46</td>\n",
       "      <td>130.00</td>\n",
       "      <td>21</td>\n",
       "      <td>SF</td>\n",
       "      <td>-131.46</td>\n",
       "    </tr>\n",
       "    <tr>\n",
       "      <th>8</th>\n",
       "      <td>No Nyugen Will Win</td>\n",
       "      <td>Najee Harris</td>\n",
       "      <td>4241457</td>\n",
       "      <td>9</td>\n",
       "      <td>1</td>\n",
       "      <td>265.48</td>\n",
       "      <td>124.96</td>\n",
       "      <td>20</td>\n",
       "      <td>PIT</td>\n",
       "      <td>-140.52</td>\n",
       "    </tr>\n",
       "    <tr>\n",
       "      <th>9</th>\n",
       "      <td>Just-in-N-out Drive thru</td>\n",
       "      <td>Justin Jefferson</td>\n",
       "      <td>4262921</td>\n",
       "      <td>10</td>\n",
       "      <td>1</td>\n",
       "      <td>287.80</td>\n",
       "      <td>215.52</td>\n",
       "      <td>4</td>\n",
       "      <td>MIN</td>\n",
       "      <td>-72.28</td>\n",
       "    </tr>\n",
       "  </tbody>\n",
       "</table>\n",
       "</div>"
      ],
      "text/plain": [
       "                        Team               Player       ID  RoundPick  \\\n",
       "0          P-Town CASH KEVIN      Jonathan Taylor  4242335          1   \n",
       "1               Diggy Wit it  Christian McCaffrey  3117251          2   \n",
       "2            My Team  A Bust        Austin Ekeler  3068267          3   \n",
       "3            Eugene Tweakers          Cooper Kupp  2977187          4   \n",
       "4        Couv Reigning Champ          Dalvin Cook  3116593          5   \n",
       "5               Gorilla Guys        Derrick Henry  3043078          6   \n",
       "6  I dont know what im doing    Leonard Fournette  3115364          7   \n",
       "7    Cougar Town Zach Wilson         Deebo Samuel  3126486          8   \n",
       "8         No Nyugen Will Win         Najee Harris  4241457          9   \n",
       "9   Just-in-N-out Drive thru     Justin Jefferson  4262921         10   \n",
       "\n",
       "   RoundNum  Expected_Points  Actual_Points  Rank NFLTeam  Difference  \n",
       "0         1           316.99         112.00    24     IND     -204.99  \n",
       "1         1           309.94         201.76     3      SF     -108.18  \n",
       "2         1           284.73         230.10     1     LAC      -54.63  \n",
       "3         1           312.91         201.40     5     LAR     -111.51  \n",
       "4         1           258.49         156.50    11     MIN     -101.99  \n",
       "5         1           264.47         203.06     2     TEN      -61.41  \n",
       "6         1           258.74         154.70    12      TB     -104.04  \n",
       "7         1           261.46         130.00    21      SF     -131.46  \n",
       "8         1           265.48         124.96    20     PIT     -140.52  \n",
       "9         1           287.80         215.52     4     MIN      -72.28  "
      ]
     },
     "execution_count": 10,
     "metadata": {},
     "output_type": "execute_result"
    }
   ],
   "source": [
    "combined_df = pd.merge(df, points_df, on = 'Player')\n",
    "combined_df.head(10)"
   ]
  },
  {
   "cell_type": "code",
   "execution_count": 11,
   "id": "25d8106d",
   "metadata": {},
   "outputs": [],
   "source": [
    "combined_df.to_csv('Data/total.csv')"
   ]
  },
  {
   "cell_type": "code",
   "execution_count": 12,
   "id": "581e6acd",
   "metadata": {},
   "outputs": [
    {
     "data": {
      "text/html": [
       "<div>\n",
       "<style scoped>\n",
       "    .dataframe tbody tr th:only-of-type {\n",
       "        vertical-align: middle;\n",
       "    }\n",
       "\n",
       "    .dataframe tbody tr th {\n",
       "        vertical-align: top;\n",
       "    }\n",
       "\n",
       "    .dataframe thead th {\n",
       "        text-align: right;\n",
       "    }\n",
       "</style>\n",
       "<table border=\"1\" class=\"dataframe\">\n",
       "  <thead>\n",
       "    <tr style=\"text-align: right;\">\n",
       "      <th></th>\n",
       "      <th>Team</th>\n",
       "      <th>Player</th>\n",
       "      <th>ID</th>\n",
       "      <th>RoundPick</th>\n",
       "      <th>RoundNum</th>\n",
       "      <th>Expected_Points</th>\n",
       "      <th>Actual_Points</th>\n",
       "      <th>Rank</th>\n",
       "      <th>NFLTeam</th>\n",
       "      <th>Difference</th>\n",
       "    </tr>\n",
       "  </thead>\n",
       "  <tbody>\n",
       "    <tr>\n",
       "      <th>0</th>\n",
       "      <td>P-Town CASH KEVIN</td>\n",
       "      <td>Jonathan Taylor</td>\n",
       "      <td>4242335</td>\n",
       "      <td>1</td>\n",
       "      <td>1</td>\n",
       "      <td>316.99</td>\n",
       "      <td>112.00</td>\n",
       "      <td>24</td>\n",
       "      <td>IND</td>\n",
       "      <td>-204.99</td>\n",
       "    </tr>\n",
       "    <tr>\n",
       "      <th>1</th>\n",
       "      <td>Diggy Wit it</td>\n",
       "      <td>Christian McCaffrey</td>\n",
       "      <td>3117251</td>\n",
       "      <td>2</td>\n",
       "      <td>1</td>\n",
       "      <td>309.94</td>\n",
       "      <td>201.76</td>\n",
       "      <td>3</td>\n",
       "      <td>SF</td>\n",
       "      <td>-108.18</td>\n",
       "    </tr>\n",
       "    <tr>\n",
       "      <th>2</th>\n",
       "      <td>My Team  A Bust</td>\n",
       "      <td>Austin Ekeler</td>\n",
       "      <td>3068267</td>\n",
       "      <td>3</td>\n",
       "      <td>1</td>\n",
       "      <td>284.73</td>\n",
       "      <td>230.10</td>\n",
       "      <td>1</td>\n",
       "      <td>LAC</td>\n",
       "      <td>-54.63</td>\n",
       "    </tr>\n",
       "    <tr>\n",
       "      <th>3</th>\n",
       "      <td>Eugene Tweakers</td>\n",
       "      <td>Cooper Kupp</td>\n",
       "      <td>2977187</td>\n",
       "      <td>4</td>\n",
       "      <td>1</td>\n",
       "      <td>312.91</td>\n",
       "      <td>201.40</td>\n",
       "      <td>5</td>\n",
       "      <td>LAR</td>\n",
       "      <td>-111.51</td>\n",
       "    </tr>\n",
       "    <tr>\n",
       "      <th>4</th>\n",
       "      <td>Couv Reigning Champ</td>\n",
       "      <td>Dalvin Cook</td>\n",
       "      <td>3116593</td>\n",
       "      <td>5</td>\n",
       "      <td>1</td>\n",
       "      <td>258.49</td>\n",
       "      <td>156.50</td>\n",
       "      <td>11</td>\n",
       "      <td>MIN</td>\n",
       "      <td>-101.99</td>\n",
       "    </tr>\n",
       "    <tr>\n",
       "      <th>...</th>\n",
       "      <td>...</td>\n",
       "      <td>...</td>\n",
       "      <td>...</td>\n",
       "      <td>...</td>\n",
       "      <td>...</td>\n",
       "      <td>...</td>\n",
       "      <td>...</td>\n",
       "      <td>...</td>\n",
       "      <td>...</td>\n",
       "      <td>...</td>\n",
       "    </tr>\n",
       "    <tr>\n",
       "      <th>117</th>\n",
       "      <td>My Team  A Bust</td>\n",
       "      <td>Tyler Bass</td>\n",
       "      <td>3917232</td>\n",
       "      <td>3</td>\n",
       "      <td>15</td>\n",
       "      <td>131.58</td>\n",
       "      <td>100.00</td>\n",
       "      <td>1</td>\n",
       "      <td>BUF</td>\n",
       "      <td>-31.58</td>\n",
       "    </tr>\n",
       "    <tr>\n",
       "      <th>118</th>\n",
       "      <td>Eugene Tweakers</td>\n",
       "      <td>Cowboys D/ST</td>\n",
       "      <td>-16006</td>\n",
       "      <td>4</td>\n",
       "      <td>15</td>\n",
       "      <td>106.49</td>\n",
       "      <td>109.00</td>\n",
       "      <td>2</td>\n",
       "      <td>DAL</td>\n",
       "      <td>2.51</td>\n",
       "    </tr>\n",
       "    <tr>\n",
       "      <th>119</th>\n",
       "      <td>Couv Reigning Champ</td>\n",
       "      <td>Harrison Butker</td>\n",
       "      <td>3055899</td>\n",
       "      <td>5</td>\n",
       "      <td>15</td>\n",
       "      <td>145.15</td>\n",
       "      <td>47.00</td>\n",
       "      <td>29</td>\n",
       "      <td>KC</td>\n",
       "      <td>-98.15</td>\n",
       "    </tr>\n",
       "    <tr>\n",
       "      <th>120</th>\n",
       "      <td>Cougar Town Zach Wilson</td>\n",
       "      <td>Brian Robinson Jr.</td>\n",
       "      <td>4241474</td>\n",
       "      <td>8</td>\n",
       "      <td>15</td>\n",
       "      <td>102.87</td>\n",
       "      <td>52.90</td>\n",
       "      <td>52</td>\n",
       "      <td>WSH</td>\n",
       "      <td>-49.97</td>\n",
       "    </tr>\n",
       "    <tr>\n",
       "      <th>121</th>\n",
       "      <td>No Nyugen Will Win</td>\n",
       "      <td>Christian Watson</td>\n",
       "      <td>4248528</td>\n",
       "      <td>2</td>\n",
       "      <td>16</td>\n",
       "      <td>108.76</td>\n",
       "      <td>80.50</td>\n",
       "      <td>53</td>\n",
       "      <td>GB</td>\n",
       "      <td>-28.26</td>\n",
       "    </tr>\n",
       "  </tbody>\n",
       "</table>\n",
       "<p>122 rows × 10 columns</p>\n",
       "</div>"
      ],
      "text/plain": [
       "                        Team               Player       ID  RoundPick  \\\n",
       "0          P-Town CASH KEVIN      Jonathan Taylor  4242335          1   \n",
       "1               Diggy Wit it  Christian McCaffrey  3117251          2   \n",
       "2            My Team  A Bust        Austin Ekeler  3068267          3   \n",
       "3            Eugene Tweakers          Cooper Kupp  2977187          4   \n",
       "4        Couv Reigning Champ          Dalvin Cook  3116593          5   \n",
       "..                       ...                  ...      ...        ...   \n",
       "117          My Team  A Bust           Tyler Bass  3917232          3   \n",
       "118          Eugene Tweakers         Cowboys D/ST   -16006          4   \n",
       "119      Couv Reigning Champ      Harrison Butker  3055899          5   \n",
       "120  Cougar Town Zach Wilson   Brian Robinson Jr.  4241474          8   \n",
       "121       No Nyugen Will Win     Christian Watson  4248528          2   \n",
       "\n",
       "     RoundNum  Expected_Points  Actual_Points  Rank NFLTeam  Difference  \n",
       "0           1           316.99         112.00    24     IND     -204.99  \n",
       "1           1           309.94         201.76     3      SF     -108.18  \n",
       "2           1           284.73         230.10     1     LAC      -54.63  \n",
       "3           1           312.91         201.40     5     LAR     -111.51  \n",
       "4           1           258.49         156.50    11     MIN     -101.99  \n",
       "..        ...              ...            ...   ...     ...         ...  \n",
       "117        15           131.58         100.00     1     BUF      -31.58  \n",
       "118        15           106.49         109.00     2     DAL        2.51  \n",
       "119        15           145.15          47.00    29      KC      -98.15  \n",
       "120        15           102.87          52.90    52     WSH      -49.97  \n",
       "121        16           108.76          80.50    53      GB      -28.26  \n",
       "\n",
       "[122 rows x 10 columns]"
      ]
     },
     "execution_count": 12,
     "metadata": {},
     "output_type": "execute_result"
    }
   ],
   "source": [
    "combined_df"
   ]
  },
  {
   "cell_type": "code",
   "execution_count": 13,
   "id": "b0c84971",
   "metadata": {},
   "outputs": [],
   "source": [
    "#normalize\n",
    "combined_df['Normalized_Difference'] = combined_df['Difference'] /combined_df['Difference'].abs().max()\n",
    "  "
   ]
  },
  {
   "cell_type": "code",
   "execution_count": 14,
   "id": "f85e95c1",
   "metadata": {},
   "outputs": [
    {
     "data": {
      "text/html": [
       "<div>\n",
       "<style scoped>\n",
       "    .dataframe tbody tr th:only-of-type {\n",
       "        vertical-align: middle;\n",
       "    }\n",
       "\n",
       "    .dataframe tbody tr th {\n",
       "        vertical-align: top;\n",
       "    }\n",
       "\n",
       "    .dataframe thead th {\n",
       "        text-align: right;\n",
       "    }\n",
       "</style>\n",
       "<table border=\"1\" class=\"dataframe\">\n",
       "  <thead>\n",
       "    <tr style=\"text-align: right;\">\n",
       "      <th></th>\n",
       "      <th>Team</th>\n",
       "      <th>Player</th>\n",
       "      <th>ID</th>\n",
       "      <th>RoundPick</th>\n",
       "      <th>RoundNum</th>\n",
       "      <th>Expected_Points</th>\n",
       "      <th>Actual_Points</th>\n",
       "      <th>Rank</th>\n",
       "      <th>NFLTeam</th>\n",
       "      <th>Difference</th>\n",
       "      <th>Normalized_Difference</th>\n",
       "    </tr>\n",
       "  </thead>\n",
       "  <tbody>\n",
       "    <tr>\n",
       "      <th>0</th>\n",
       "      <td>P-Town CASH KEVIN</td>\n",
       "      <td>Jonathan Taylor</td>\n",
       "      <td>4242335</td>\n",
       "      <td>1</td>\n",
       "      <td>1</td>\n",
       "      <td>316.99</td>\n",
       "      <td>112.00</td>\n",
       "      <td>24</td>\n",
       "      <td>IND</td>\n",
       "      <td>-204.99</td>\n",
       "      <td>-0.912933</td>\n",
       "    </tr>\n",
       "    <tr>\n",
       "      <th>1</th>\n",
       "      <td>Diggy Wit it</td>\n",
       "      <td>Christian McCaffrey</td>\n",
       "      <td>3117251</td>\n",
       "      <td>2</td>\n",
       "      <td>1</td>\n",
       "      <td>309.94</td>\n",
       "      <td>201.76</td>\n",
       "      <td>3</td>\n",
       "      <td>SF</td>\n",
       "      <td>-108.18</td>\n",
       "      <td>-0.481785</td>\n",
       "    </tr>\n",
       "    <tr>\n",
       "      <th>2</th>\n",
       "      <td>My Team  A Bust</td>\n",
       "      <td>Austin Ekeler</td>\n",
       "      <td>3068267</td>\n",
       "      <td>3</td>\n",
       "      <td>1</td>\n",
       "      <td>284.73</td>\n",
       "      <td>230.10</td>\n",
       "      <td>1</td>\n",
       "      <td>LAC</td>\n",
       "      <td>-54.63</td>\n",
       "      <td>-0.243297</td>\n",
       "    </tr>\n",
       "    <tr>\n",
       "      <th>3</th>\n",
       "      <td>Eugene Tweakers</td>\n",
       "      <td>Cooper Kupp</td>\n",
       "      <td>2977187</td>\n",
       "      <td>4</td>\n",
       "      <td>1</td>\n",
       "      <td>312.91</td>\n",
       "      <td>201.40</td>\n",
       "      <td>5</td>\n",
       "      <td>LAR</td>\n",
       "      <td>-111.51</td>\n",
       "      <td>-0.496615</td>\n",
       "    </tr>\n",
       "    <tr>\n",
       "      <th>4</th>\n",
       "      <td>Couv Reigning Champ</td>\n",
       "      <td>Dalvin Cook</td>\n",
       "      <td>3116593</td>\n",
       "      <td>5</td>\n",
       "      <td>1</td>\n",
       "      <td>258.49</td>\n",
       "      <td>156.50</td>\n",
       "      <td>11</td>\n",
       "      <td>MIN</td>\n",
       "      <td>-101.99</td>\n",
       "      <td>-0.454218</td>\n",
       "    </tr>\n",
       "    <tr>\n",
       "      <th>...</th>\n",
       "      <td>...</td>\n",
       "      <td>...</td>\n",
       "      <td>...</td>\n",
       "      <td>...</td>\n",
       "      <td>...</td>\n",
       "      <td>...</td>\n",
       "      <td>...</td>\n",
       "      <td>...</td>\n",
       "      <td>...</td>\n",
       "      <td>...</td>\n",
       "      <td>...</td>\n",
       "    </tr>\n",
       "    <tr>\n",
       "      <th>117</th>\n",
       "      <td>My Team  A Bust</td>\n",
       "      <td>Tyler Bass</td>\n",
       "      <td>3917232</td>\n",
       "      <td>3</td>\n",
       "      <td>15</td>\n",
       "      <td>131.58</td>\n",
       "      <td>100.00</td>\n",
       "      <td>1</td>\n",
       "      <td>BUF</td>\n",
       "      <td>-31.58</td>\n",
       "      <td>-0.140643</td>\n",
       "    </tr>\n",
       "    <tr>\n",
       "      <th>118</th>\n",
       "      <td>Eugene Tweakers</td>\n",
       "      <td>Cowboys D/ST</td>\n",
       "      <td>-16006</td>\n",
       "      <td>4</td>\n",
       "      <td>15</td>\n",
       "      <td>106.49</td>\n",
       "      <td>109.00</td>\n",
       "      <td>2</td>\n",
       "      <td>DAL</td>\n",
       "      <td>2.51</td>\n",
       "      <td>0.011178</td>\n",
       "    </tr>\n",
       "    <tr>\n",
       "      <th>119</th>\n",
       "      <td>Couv Reigning Champ</td>\n",
       "      <td>Harrison Butker</td>\n",
       "      <td>3055899</td>\n",
       "      <td>5</td>\n",
       "      <td>15</td>\n",
       "      <td>145.15</td>\n",
       "      <td>47.00</td>\n",
       "      <td>29</td>\n",
       "      <td>KC</td>\n",
       "      <td>-98.15</td>\n",
       "      <td>-0.437116</td>\n",
       "    </tr>\n",
       "    <tr>\n",
       "      <th>120</th>\n",
       "      <td>Cougar Town Zach Wilson</td>\n",
       "      <td>Brian Robinson Jr.</td>\n",
       "      <td>4241474</td>\n",
       "      <td>8</td>\n",
       "      <td>15</td>\n",
       "      <td>102.87</td>\n",
       "      <td>52.90</td>\n",
       "      <td>52</td>\n",
       "      <td>WSH</td>\n",
       "      <td>-49.97</td>\n",
       "      <td>-0.222544</td>\n",
       "    </tr>\n",
       "    <tr>\n",
       "      <th>121</th>\n",
       "      <td>No Nyugen Will Win</td>\n",
       "      <td>Christian Watson</td>\n",
       "      <td>4248528</td>\n",
       "      <td>2</td>\n",
       "      <td>16</td>\n",
       "      <td>108.76</td>\n",
       "      <td>80.50</td>\n",
       "      <td>53</td>\n",
       "      <td>GB</td>\n",
       "      <td>-28.26</td>\n",
       "      <td>-0.125857</td>\n",
       "    </tr>\n",
       "  </tbody>\n",
       "</table>\n",
       "<p>122 rows × 11 columns</p>\n",
       "</div>"
      ],
      "text/plain": [
       "                        Team               Player       ID  RoundPick  \\\n",
       "0          P-Town CASH KEVIN      Jonathan Taylor  4242335          1   \n",
       "1               Diggy Wit it  Christian McCaffrey  3117251          2   \n",
       "2            My Team  A Bust        Austin Ekeler  3068267          3   \n",
       "3            Eugene Tweakers          Cooper Kupp  2977187          4   \n",
       "4        Couv Reigning Champ          Dalvin Cook  3116593          5   \n",
       "..                       ...                  ...      ...        ...   \n",
       "117          My Team  A Bust           Tyler Bass  3917232          3   \n",
       "118          Eugene Tweakers         Cowboys D/ST   -16006          4   \n",
       "119      Couv Reigning Champ      Harrison Butker  3055899          5   \n",
       "120  Cougar Town Zach Wilson   Brian Robinson Jr.  4241474          8   \n",
       "121       No Nyugen Will Win     Christian Watson  4248528          2   \n",
       "\n",
       "     RoundNum  Expected_Points  Actual_Points  Rank NFLTeam  Difference  \\\n",
       "0           1           316.99         112.00    24     IND     -204.99   \n",
       "1           1           309.94         201.76     3      SF     -108.18   \n",
       "2           1           284.73         230.10     1     LAC      -54.63   \n",
       "3           1           312.91         201.40     5     LAR     -111.51   \n",
       "4           1           258.49         156.50    11     MIN     -101.99   \n",
       "..        ...              ...            ...   ...     ...         ...   \n",
       "117        15           131.58         100.00     1     BUF      -31.58   \n",
       "118        15           106.49         109.00     2     DAL        2.51   \n",
       "119        15           145.15          47.00    29      KC      -98.15   \n",
       "120        15           102.87          52.90    52     WSH      -49.97   \n",
       "121        16           108.76          80.50    53      GB      -28.26   \n",
       "\n",
       "     Normalized_Difference  \n",
       "0                -0.912933  \n",
       "1                -0.481785  \n",
       "2                -0.243297  \n",
       "3                -0.496615  \n",
       "4                -0.454218  \n",
       "..                     ...  \n",
       "117              -0.140643  \n",
       "118               0.011178  \n",
       "119              -0.437116  \n",
       "120              -0.222544  \n",
       "121              -0.125857  \n",
       "\n",
       "[122 rows x 11 columns]"
      ]
     },
     "execution_count": 14,
     "metadata": {},
     "output_type": "execute_result"
    }
   ],
   "source": [
    "combined_df"
   ]
  },
  {
   "cell_type": "markdown",
   "id": "90734b61",
   "metadata": {},
   "source": [
    "# Now get their actual players"
   ]
  },
  {
   "cell_type": "code",
   "execution_count": 29,
   "id": "b81c77c5",
   "metadata": {},
   "outputs": [],
   "source": [
    "teams = []\n",
    "players = []\n",
    "projected = []\n",
    "actual = []\n",
    "stats = []\n",
    "ranks = []\n",
    "weeks = []\n",
    "current_df = pd.DataFrame()\n",
    "for i in range(1, 13):\n",
    "    league.load_roster_week(i)\n",
    "    for team in league.teams:\n",
    "        for player in team.roster:\n",
    "            weeks.append(i)\n",
    "            teams.append(team.team_name)\n",
    "            players.append(player.name)\n",
    "            projected.append(player.projected_total_points)\n",
    "            actual.append(player.total_points)\n",
    "            ranks.append(player.posRank)\n",
    "\n",
    "current_df['Team'] = teams\n",
    "current_df['Player'] = players\n",
    "current_df['Week'] = weeks\n",
    "current_df['Rank'] = ranks\n",
    "current_df['Expected_Points'] = projected\n",
    "current_df['Actual_Points'] = actual\n",
    "current_df['Week'] = weeks\n",
    "current_df['Difference'] = current_df['Actual_Points'] - current_df['Expected_Points']"
   ]
  },
  {
   "cell_type": "code",
   "execution_count": 28,
   "id": "3e548134",
   "metadata": {},
   "outputs": [],
   "source": [
    "current_df.to_csv('all_players.csv')"
   ]
  },
  {
   "cell_type": "code",
   "execution_count": 16,
   "id": "2469ef39",
   "metadata": {},
   "outputs": [],
   "source": [
    "current_df.to_csv('Data/current_players.csv')"
   ]
  },
  {
   "cell_type": "code",
   "execution_count": 17,
   "id": "b468c104",
   "metadata": {},
   "outputs": [
    {
     "data": {
      "text/html": [
       "<div>\n",
       "<style scoped>\n",
       "    .dataframe tbody tr th:only-of-type {\n",
       "        vertical-align: middle;\n",
       "    }\n",
       "\n",
       "    .dataframe tbody tr th {\n",
       "        vertical-align: top;\n",
       "    }\n",
       "\n",
       "    .dataframe thead th {\n",
       "        text-align: right;\n",
       "    }\n",
       "</style>\n",
       "<table border=\"1\" class=\"dataframe\">\n",
       "  <thead>\n",
       "    <tr style=\"text-align: right;\">\n",
       "      <th></th>\n",
       "      <th>ID</th>\n",
       "      <th>RoundPick</th>\n",
       "      <th>RoundNum</th>\n",
       "      <th>Expected_Points</th>\n",
       "      <th>Actual_Points</th>\n",
       "      <th>Rank</th>\n",
       "      <th>Difference</th>\n",
       "      <th>Normalized_Difference</th>\n",
       "    </tr>\n",
       "    <tr>\n",
       "      <th>Team</th>\n",
       "      <th></th>\n",
       "      <th></th>\n",
       "      <th></th>\n",
       "      <th></th>\n",
       "      <th></th>\n",
       "      <th></th>\n",
       "      <th></th>\n",
       "      <th></th>\n",
       "    </tr>\n",
       "  </thead>\n",
       "  <tbody>\n",
       "    <tr>\n",
       "      <th>Cougar Town Zach Wilson</th>\n",
       "      <td>3.490025e+06</td>\n",
       "      <td>5.916667</td>\n",
       "      <td>7.083333</td>\n",
       "      <td>196.603333</td>\n",
       "      <td>99.983333</td>\n",
       "      <td>27.750000</td>\n",
       "      <td>-96.620000</td>\n",
       "      <td>-0.430302</td>\n",
       "    </tr>\n",
       "    <tr>\n",
       "      <th>Couv Reigning Champ</th>\n",
       "      <td>3.295082e+06</td>\n",
       "      <td>5.454545</td>\n",
       "      <td>7.818182</td>\n",
       "      <td>202.986364</td>\n",
       "      <td>115.692727</td>\n",
       "      <td>22.454545</td>\n",
       "      <td>-87.293636</td>\n",
       "      <td>-0.388767</td>\n",
       "    </tr>\n",
       "    <tr>\n",
       "      <th>Diggy Wit it</th>\n",
       "      <td>2.472610e+06</td>\n",
       "      <td>5.500000</td>\n",
       "      <td>7.333333</td>\n",
       "      <td>202.690833</td>\n",
       "      <td>116.321667</td>\n",
       "      <td>25.083333</td>\n",
       "      <td>-86.369167</td>\n",
       "      <td>-0.384649</td>\n",
       "    </tr>\n",
       "    <tr>\n",
       "      <th>Eugene Tweakers</th>\n",
       "      <td>2.832234e+06</td>\n",
       "      <td>5.384615</td>\n",
       "      <td>7.153846</td>\n",
       "      <td>222.665385</td>\n",
       "      <td>108.844615</td>\n",
       "      <td>32.538462</td>\n",
       "      <td>-113.820769</td>\n",
       "      <td>-0.506906</td>\n",
       "    </tr>\n",
       "    <tr>\n",
       "      <th>Gorilla Guys</th>\n",
       "      <td>2.741681e+06</td>\n",
       "      <td>5.500000</td>\n",
       "      <td>6.500000</td>\n",
       "      <td>206.660833</td>\n",
       "      <td>130.061667</td>\n",
       "      <td>26.083333</td>\n",
       "      <td>-76.599167</td>\n",
       "      <td>-0.341138</td>\n",
       "    </tr>\n",
       "    <tr>\n",
       "      <th>I dont know what im doing</th>\n",
       "      <td>1.888404e+06</td>\n",
       "      <td>5.090909</td>\n",
       "      <td>6.545455</td>\n",
       "      <td>195.667273</td>\n",
       "      <td>125.383636</td>\n",
       "      <td>19.909091</td>\n",
       "      <td>-70.283636</td>\n",
       "      <td>-0.313012</td>\n",
       "    </tr>\n",
       "    <tr>\n",
       "      <th>Just-in-N-out Drive thru</th>\n",
       "      <td>3.010023e+06</td>\n",
       "      <td>4.750000</td>\n",
       "      <td>6.750000</td>\n",
       "      <td>201.440000</td>\n",
       "      <td>145.245000</td>\n",
       "      <td>10.166667</td>\n",
       "      <td>-56.195000</td>\n",
       "      <td>-0.250267</td>\n",
       "    </tr>\n",
       "    <tr>\n",
       "      <th>My Team  A Bust</th>\n",
       "      <td>3.897771e+06</td>\n",
       "      <td>5.500000</td>\n",
       "      <td>7.500000</td>\n",
       "      <td>202.554167</td>\n",
       "      <td>140.140000</td>\n",
       "      <td>16.583333</td>\n",
       "      <td>-62.414167</td>\n",
       "      <td>-0.277965</td>\n",
       "    </tr>\n",
       "    <tr>\n",
       "      <th>No Nyugen Will Win</th>\n",
       "      <td>3.533783e+06</td>\n",
       "      <td>5.500000</td>\n",
       "      <td>8.357143</td>\n",
       "      <td>194.849286</td>\n",
       "      <td>117.860000</td>\n",
       "      <td>22.857143</td>\n",
       "      <td>-76.989286</td>\n",
       "      <td>-0.342876</td>\n",
       "    </tr>\n",
       "    <tr>\n",
       "      <th>P-Town CASH KEVIN</th>\n",
       "      <td>2.910000e+06</td>\n",
       "      <td>5.153846</td>\n",
       "      <td>7.769231</td>\n",
       "      <td>216.589231</td>\n",
       "      <td>145.603077</td>\n",
       "      <td>15.230769</td>\n",
       "      <td>-70.986154</td>\n",
       "      <td>-0.316140</td>\n",
       "    </tr>\n",
       "  </tbody>\n",
       "</table>\n",
       "</div>"
      ],
      "text/plain": [
       "                                     ID  RoundPick  RoundNum  Expected_Points  \\\n",
       "Team                                                                            \n",
       "Cougar Town Zach Wilson    3.490025e+06   5.916667  7.083333       196.603333   \n",
       "Couv Reigning Champ        3.295082e+06   5.454545  7.818182       202.986364   \n",
       "Diggy Wit it               2.472610e+06   5.500000  7.333333       202.690833   \n",
       "Eugene Tweakers            2.832234e+06   5.384615  7.153846       222.665385   \n",
       "Gorilla Guys               2.741681e+06   5.500000  6.500000       206.660833   \n",
       "I dont know what im doing  1.888404e+06   5.090909  6.545455       195.667273   \n",
       "Just-in-N-out Drive thru   3.010023e+06   4.750000  6.750000       201.440000   \n",
       "My Team  A Bust            3.897771e+06   5.500000  7.500000       202.554167   \n",
       "No Nyugen Will Win         3.533783e+06   5.500000  8.357143       194.849286   \n",
       "P-Town CASH KEVIN          2.910000e+06   5.153846  7.769231       216.589231   \n",
       "\n",
       "                           Actual_Points       Rank  Difference  \\\n",
       "Team                                                              \n",
       "Cougar Town Zach Wilson        99.983333  27.750000  -96.620000   \n",
       "Couv Reigning Champ           115.692727  22.454545  -87.293636   \n",
       "Diggy Wit it                  116.321667  25.083333  -86.369167   \n",
       "Eugene Tweakers               108.844615  32.538462 -113.820769   \n",
       "Gorilla Guys                  130.061667  26.083333  -76.599167   \n",
       "I dont know what im doing     125.383636  19.909091  -70.283636   \n",
       "Just-in-N-out Drive thru      145.245000  10.166667  -56.195000   \n",
       "My Team  A Bust               140.140000  16.583333  -62.414167   \n",
       "No Nyugen Will Win            117.860000  22.857143  -76.989286   \n",
       "P-Town CASH KEVIN             145.603077  15.230769  -70.986154   \n",
       "\n",
       "                           Normalized_Difference  \n",
       "Team                                              \n",
       "Cougar Town Zach Wilson                -0.430302  \n",
       "Couv Reigning Champ                    -0.388767  \n",
       "Diggy Wit it                           -0.384649  \n",
       "Eugene Tweakers                        -0.506906  \n",
       "Gorilla Guys                           -0.341138  \n",
       "I dont know what im doing              -0.313012  \n",
       "Just-in-N-out Drive thru               -0.250267  \n",
       "My Team  A Bust                        -0.277965  \n",
       "No Nyugen Will Win                     -0.342876  \n",
       "P-Town CASH KEVIN                      -0.316140  "
      ]
     },
     "execution_count": 17,
     "metadata": {},
     "output_type": "execute_result"
    }
   ],
   "source": [
    "combined_df.groupby('Team').mean()"
   ]
  },
  {
   "cell_type": "code",
   "execution_count": 18,
   "id": "0ab47440",
   "metadata": {},
   "outputs": [
    {
     "data": {
      "text/html": [
       "<div>\n",
       "<style scoped>\n",
       "    .dataframe tbody tr th:only-of-type {\n",
       "        vertical-align: middle;\n",
       "    }\n",
       "\n",
       "    .dataframe tbody tr th {\n",
       "        vertical-align: top;\n",
       "    }\n",
       "\n",
       "    .dataframe thead th {\n",
       "        text-align: right;\n",
       "    }\n",
       "</style>\n",
       "<table border=\"1\" class=\"dataframe\">\n",
       "  <thead>\n",
       "    <tr style=\"text-align: right;\">\n",
       "      <th></th>\n",
       "      <th>Week</th>\n",
       "      <th>Rank</th>\n",
       "      <th>Expected_Points</th>\n",
       "      <th>Actual_Points</th>\n",
       "      <th>Difference</th>\n",
       "    </tr>\n",
       "    <tr>\n",
       "      <th>Team</th>\n",
       "      <th></th>\n",
       "      <th></th>\n",
       "      <th></th>\n",
       "      <th></th>\n",
       "      <th></th>\n",
       "    </tr>\n",
       "  </thead>\n",
       "  <tbody>\n",
       "    <tr>\n",
       "      <th>Cougar Town Zach Wilson</th>\n",
       "      <td>8.527675</td>\n",
       "      <td>30.361624</td>\n",
       "      <td>195.389889</td>\n",
       "      <td>99.102435</td>\n",
       "      <td>-96.287454</td>\n",
       "    </tr>\n",
       "    <tr>\n",
       "      <th>Eugene Tweakers</th>\n",
       "      <td>8.380000</td>\n",
       "      <td>33.604000</td>\n",
       "      <td>189.472320</td>\n",
       "      <td>99.246080</td>\n",
       "      <td>-90.226240</td>\n",
       "    </tr>\n",
       "    <tr>\n",
       "      <th>Couv Reigning Champ</th>\n",
       "      <td>8.511111</td>\n",
       "      <td>27.903704</td>\n",
       "      <td>183.929074</td>\n",
       "      <td>107.403185</td>\n",
       "      <td>-76.525889</td>\n",
       "    </tr>\n",
       "    <tr>\n",
       "      <th>Gorilla Guys</th>\n",
       "      <td>8.318008</td>\n",
       "      <td>27.670498</td>\n",
       "      <td>189.947203</td>\n",
       "      <td>115.083295</td>\n",
       "      <td>-74.863908</td>\n",
       "    </tr>\n",
       "    <tr>\n",
       "      <th>P-Town CASH KEVIN</th>\n",
       "      <td>8.611321</td>\n",
       "      <td>25.041509</td>\n",
       "      <td>190.976642</td>\n",
       "      <td>124.234868</td>\n",
       "      <td>-66.741774</td>\n",
       "    </tr>\n",
       "    <tr>\n",
       "      <th>Diggy Wit it</th>\n",
       "      <td>8.500000</td>\n",
       "      <td>22.132353</td>\n",
       "      <td>172.115625</td>\n",
       "      <td>107.339485</td>\n",
       "      <td>-64.776140</td>\n",
       "    </tr>\n",
       "    <tr>\n",
       "      <th>No Nyugen Will Win</th>\n",
       "      <td>8.429658</td>\n",
       "      <td>26.657795</td>\n",
       "      <td>170.460114</td>\n",
       "      <td>106.327224</td>\n",
       "      <td>-64.132890</td>\n",
       "    </tr>\n",
       "    <tr>\n",
       "      <th>I dont know what im doing</th>\n",
       "      <td>8.482625</td>\n",
       "      <td>22.552124</td>\n",
       "      <td>178.528456</td>\n",
       "      <td>116.290579</td>\n",
       "      <td>-62.237876</td>\n",
       "    </tr>\n",
       "    <tr>\n",
       "      <th>My Team  A Bust</th>\n",
       "      <td>8.505535</td>\n",
       "      <td>23.369004</td>\n",
       "      <td>174.430369</td>\n",
       "      <td>118.459779</td>\n",
       "      <td>-55.970590</td>\n",
       "    </tr>\n",
       "    <tr>\n",
       "      <th>Just-in-N-out Drive thru</th>\n",
       "      <td>8.517375</td>\n",
       "      <td>17.691120</td>\n",
       "      <td>178.364247</td>\n",
       "      <td>126.789344</td>\n",
       "      <td>-51.574903</td>\n",
       "    </tr>\n",
       "  </tbody>\n",
       "</table>\n",
       "</div>"
      ],
      "text/plain": [
       "                               Week       Rank  Expected_Points  \\\n",
       "Team                                                              \n",
       "Cougar Town Zach Wilson    8.527675  30.361624       195.389889   \n",
       "Eugene Tweakers            8.380000  33.604000       189.472320   \n",
       "Couv Reigning Champ        8.511111  27.903704       183.929074   \n",
       "Gorilla Guys               8.318008  27.670498       189.947203   \n",
       "P-Town CASH KEVIN          8.611321  25.041509       190.976642   \n",
       "Diggy Wit it               8.500000  22.132353       172.115625   \n",
       "No Nyugen Will Win         8.429658  26.657795       170.460114   \n",
       "I dont know what im doing  8.482625  22.552124       178.528456   \n",
       "My Team  A Bust            8.505535  23.369004       174.430369   \n",
       "Just-in-N-out Drive thru   8.517375  17.691120       178.364247   \n",
       "\n",
       "                           Actual_Points  Difference  \n",
       "Team                                                  \n",
       "Cougar Town Zach Wilson        99.102435  -96.287454  \n",
       "Eugene Tweakers                99.246080  -90.226240  \n",
       "Couv Reigning Champ           107.403185  -76.525889  \n",
       "Gorilla Guys                  115.083295  -74.863908  \n",
       "P-Town CASH KEVIN             124.234868  -66.741774  \n",
       "Diggy Wit it                  107.339485  -64.776140  \n",
       "No Nyugen Will Win            106.327224  -64.132890  \n",
       "I dont know what im doing     116.290579  -62.237876  \n",
       "My Team  A Bust               118.459779  -55.970590  \n",
       "Just-in-N-out Drive thru      126.789344  -51.574903  "
      ]
     },
     "execution_count": 18,
     "metadata": {},
     "output_type": "execute_result"
    }
   ],
   "source": [
    "now_df = current_df.groupby('Team').mean().sort_values('Difference')\n",
    "now_df"
   ]
  },
  {
   "cell_type": "code",
   "execution_count": 19,
   "id": "90ef7c0e",
   "metadata": {},
   "outputs": [
    {
     "data": {
      "text/html": [
       "<div>\n",
       "<style scoped>\n",
       "    .dataframe tbody tr th:only-of-type {\n",
       "        vertical-align: middle;\n",
       "    }\n",
       "\n",
       "    .dataframe tbody tr th {\n",
       "        vertical-align: top;\n",
       "    }\n",
       "\n",
       "    .dataframe thead th {\n",
       "        text-align: right;\n",
       "    }\n",
       "</style>\n",
       "<table border=\"1\" class=\"dataframe\">\n",
       "  <thead>\n",
       "    <tr style=\"text-align: right;\">\n",
       "      <th></th>\n",
       "      <th>ID</th>\n",
       "      <th>RoundPick</th>\n",
       "      <th>RoundNum</th>\n",
       "      <th>Expected_Points</th>\n",
       "      <th>Actual_Points</th>\n",
       "      <th>Rank</th>\n",
       "      <th>Difference</th>\n",
       "      <th>Normalized_Difference</th>\n",
       "    </tr>\n",
       "    <tr>\n",
       "      <th>Team</th>\n",
       "      <th></th>\n",
       "      <th></th>\n",
       "      <th></th>\n",
       "      <th></th>\n",
       "      <th></th>\n",
       "      <th></th>\n",
       "      <th></th>\n",
       "      <th></th>\n",
       "    </tr>\n",
       "  </thead>\n",
       "  <tbody>\n",
       "    <tr>\n",
       "      <th>Eugene Tweakers</th>\n",
       "      <td>2.832234e+06</td>\n",
       "      <td>5.384615</td>\n",
       "      <td>7.153846</td>\n",
       "      <td>222.665385</td>\n",
       "      <td>108.844615</td>\n",
       "      <td>32.538462</td>\n",
       "      <td>-113.820769</td>\n",
       "      <td>-0.506906</td>\n",
       "    </tr>\n",
       "    <tr>\n",
       "      <th>Cougar Town Zach Wilson</th>\n",
       "      <td>3.490025e+06</td>\n",
       "      <td>5.916667</td>\n",
       "      <td>7.083333</td>\n",
       "      <td>196.603333</td>\n",
       "      <td>99.983333</td>\n",
       "      <td>27.750000</td>\n",
       "      <td>-96.620000</td>\n",
       "      <td>-0.430302</td>\n",
       "    </tr>\n",
       "    <tr>\n",
       "      <th>Couv Reigning Champ</th>\n",
       "      <td>3.295082e+06</td>\n",
       "      <td>5.454545</td>\n",
       "      <td>7.818182</td>\n",
       "      <td>202.986364</td>\n",
       "      <td>115.692727</td>\n",
       "      <td>22.454545</td>\n",
       "      <td>-87.293636</td>\n",
       "      <td>-0.388767</td>\n",
       "    </tr>\n",
       "    <tr>\n",
       "      <th>Diggy Wit it</th>\n",
       "      <td>2.472610e+06</td>\n",
       "      <td>5.500000</td>\n",
       "      <td>7.333333</td>\n",
       "      <td>202.690833</td>\n",
       "      <td>116.321667</td>\n",
       "      <td>25.083333</td>\n",
       "      <td>-86.369167</td>\n",
       "      <td>-0.384649</td>\n",
       "    </tr>\n",
       "    <tr>\n",
       "      <th>No Nyugen Will Win</th>\n",
       "      <td>3.533783e+06</td>\n",
       "      <td>5.500000</td>\n",
       "      <td>8.357143</td>\n",
       "      <td>194.849286</td>\n",
       "      <td>117.860000</td>\n",
       "      <td>22.857143</td>\n",
       "      <td>-76.989286</td>\n",
       "      <td>-0.342876</td>\n",
       "    </tr>\n",
       "    <tr>\n",
       "      <th>Gorilla Guys</th>\n",
       "      <td>2.741681e+06</td>\n",
       "      <td>5.500000</td>\n",
       "      <td>6.500000</td>\n",
       "      <td>206.660833</td>\n",
       "      <td>130.061667</td>\n",
       "      <td>26.083333</td>\n",
       "      <td>-76.599167</td>\n",
       "      <td>-0.341138</td>\n",
       "    </tr>\n",
       "    <tr>\n",
       "      <th>P-Town CASH KEVIN</th>\n",
       "      <td>2.910000e+06</td>\n",
       "      <td>5.153846</td>\n",
       "      <td>7.769231</td>\n",
       "      <td>216.589231</td>\n",
       "      <td>145.603077</td>\n",
       "      <td>15.230769</td>\n",
       "      <td>-70.986154</td>\n",
       "      <td>-0.316140</td>\n",
       "    </tr>\n",
       "    <tr>\n",
       "      <th>I dont know what im doing</th>\n",
       "      <td>1.888404e+06</td>\n",
       "      <td>5.090909</td>\n",
       "      <td>6.545455</td>\n",
       "      <td>195.667273</td>\n",
       "      <td>125.383636</td>\n",
       "      <td>19.909091</td>\n",
       "      <td>-70.283636</td>\n",
       "      <td>-0.313012</td>\n",
       "    </tr>\n",
       "    <tr>\n",
       "      <th>My Team  A Bust</th>\n",
       "      <td>3.897771e+06</td>\n",
       "      <td>5.500000</td>\n",
       "      <td>7.500000</td>\n",
       "      <td>202.554167</td>\n",
       "      <td>140.140000</td>\n",
       "      <td>16.583333</td>\n",
       "      <td>-62.414167</td>\n",
       "      <td>-0.277965</td>\n",
       "    </tr>\n",
       "    <tr>\n",
       "      <th>Just-in-N-out Drive thru</th>\n",
       "      <td>3.010023e+06</td>\n",
       "      <td>4.750000</td>\n",
       "      <td>6.750000</td>\n",
       "      <td>201.440000</td>\n",
       "      <td>145.245000</td>\n",
       "      <td>10.166667</td>\n",
       "      <td>-56.195000</td>\n",
       "      <td>-0.250267</td>\n",
       "    </tr>\n",
       "  </tbody>\n",
       "</table>\n",
       "</div>"
      ],
      "text/plain": [
       "                                     ID  RoundPick  RoundNum  Expected_Points  \\\n",
       "Team                                                                            \n",
       "Eugene Tweakers            2.832234e+06   5.384615  7.153846       222.665385   \n",
       "Cougar Town Zach Wilson    3.490025e+06   5.916667  7.083333       196.603333   \n",
       "Couv Reigning Champ        3.295082e+06   5.454545  7.818182       202.986364   \n",
       "Diggy Wit it               2.472610e+06   5.500000  7.333333       202.690833   \n",
       "No Nyugen Will Win         3.533783e+06   5.500000  8.357143       194.849286   \n",
       "Gorilla Guys               2.741681e+06   5.500000  6.500000       206.660833   \n",
       "P-Town CASH KEVIN          2.910000e+06   5.153846  7.769231       216.589231   \n",
       "I dont know what im doing  1.888404e+06   5.090909  6.545455       195.667273   \n",
       "My Team  A Bust            3.897771e+06   5.500000  7.500000       202.554167   \n",
       "Just-in-N-out Drive thru   3.010023e+06   4.750000  6.750000       201.440000   \n",
       "\n",
       "                           Actual_Points       Rank  Difference  \\\n",
       "Team                                                              \n",
       "Eugene Tweakers               108.844615  32.538462 -113.820769   \n",
       "Cougar Town Zach Wilson        99.983333  27.750000  -96.620000   \n",
       "Couv Reigning Champ           115.692727  22.454545  -87.293636   \n",
       "Diggy Wit it                  116.321667  25.083333  -86.369167   \n",
       "No Nyugen Will Win            117.860000  22.857143  -76.989286   \n",
       "Gorilla Guys                  130.061667  26.083333  -76.599167   \n",
       "P-Town CASH KEVIN             145.603077  15.230769  -70.986154   \n",
       "I dont know what im doing     125.383636  19.909091  -70.283636   \n",
       "My Team  A Bust               140.140000  16.583333  -62.414167   \n",
       "Just-in-N-out Drive thru      145.245000  10.166667  -56.195000   \n",
       "\n",
       "                           Normalized_Difference  \n",
       "Team                                              \n",
       "Eugene Tweakers                        -0.506906  \n",
       "Cougar Town Zach Wilson                -0.430302  \n",
       "Couv Reigning Champ                    -0.388767  \n",
       "Diggy Wit it                           -0.384649  \n",
       "No Nyugen Will Win                     -0.342876  \n",
       "Gorilla Guys                           -0.341138  \n",
       "P-Town CASH KEVIN                      -0.316140  \n",
       "I dont know what im doing              -0.313012  \n",
       "My Team  A Bust                        -0.277965  \n",
       "Just-in-N-out Drive thru               -0.250267  "
      ]
     },
     "execution_count": 19,
     "metadata": {},
     "output_type": "execute_result"
    }
   ],
   "source": [
    "drafted_df = combined_df.groupby('Team').mean().sort_values('Difference')\n",
    "drafted_df"
   ]
  },
  {
   "cell_type": "code",
   "execution_count": 20,
   "id": "ba7b97ba",
   "metadata": {},
   "outputs": [],
   "source": [
    "#Actual x = draft\n",
    "#Actual y = Now\n",
    "comparison_df = pd.merge(drafted_df, now_df, on = 'Team')\n",
    "comparison_df = comparison_df[['Expected_Points_x', 'Actual_Points_x', 'Difference_x', 'Rank_x', 'Expected_Points_y', 'Actual_Points_y', 'Difference_y', 'Rank_y']]\n",
    "\n"
   ]
  },
  {
   "cell_type": "code",
   "execution_count": 21,
   "id": "d0d17d57",
   "metadata": {},
   "outputs": [
    {
     "data": {
      "text/html": [
       "<div>\n",
       "<style scoped>\n",
       "    .dataframe tbody tr th:only-of-type {\n",
       "        vertical-align: middle;\n",
       "    }\n",
       "\n",
       "    .dataframe tbody tr th {\n",
       "        vertical-align: top;\n",
       "    }\n",
       "\n",
       "    .dataframe thead th {\n",
       "        text-align: right;\n",
       "    }\n",
       "</style>\n",
       "<table border=\"1\" class=\"dataframe\">\n",
       "  <thead>\n",
       "    <tr style=\"text-align: right;\">\n",
       "      <th></th>\n",
       "      <th>Delta_Projections</th>\n",
       "      <th>Delta_Ranks</th>\n",
       "    </tr>\n",
       "    <tr>\n",
       "      <th>Team</th>\n",
       "      <th></th>\n",
       "      <th></th>\n",
       "    </tr>\n",
       "  </thead>\n",
       "  <tbody>\n",
       "    <tr>\n",
       "      <th>Diggy Wit it</th>\n",
       "      <td>-21.593027</td>\n",
       "      <td>2.950980</td>\n",
       "    </tr>\n",
       "    <tr>\n",
       "      <th>Eugene Tweakers</th>\n",
       "      <td>-23.594529</td>\n",
       "      <td>-1.065538</td>\n",
       "    </tr>\n",
       "    <tr>\n",
       "      <th>Gorilla Guys</th>\n",
       "      <td>-1.735259</td>\n",
       "      <td>-1.587165</td>\n",
       "    </tr>\n",
       "    <tr>\n",
       "      <th>Cougar Town Zach Wilson</th>\n",
       "      <td>-0.332546</td>\n",
       "      <td>-2.611624</td>\n",
       "    </tr>\n",
       "    <tr>\n",
       "      <th>I dont know what im doing</th>\n",
       "      <td>-8.045760</td>\n",
       "      <td>-2.643033</td>\n",
       "    </tr>\n",
       "    <tr>\n",
       "      <th>No Nyugen Will Win</th>\n",
       "      <td>-12.856396</td>\n",
       "      <td>-3.800652</td>\n",
       "    </tr>\n",
       "    <tr>\n",
       "      <th>Couv Reigning Champ</th>\n",
       "      <td>-10.767747</td>\n",
       "      <td>-5.449158</td>\n",
       "    </tr>\n",
       "    <tr>\n",
       "      <th>My Team  A Bust</th>\n",
       "      <td>-6.443576</td>\n",
       "      <td>-6.785670</td>\n",
       "    </tr>\n",
       "    <tr>\n",
       "      <th>Just-in-N-out Drive thru</th>\n",
       "      <td>-4.620097</td>\n",
       "      <td>-7.524453</td>\n",
       "    </tr>\n",
       "    <tr>\n",
       "      <th>P-Town CASH KEVIN</th>\n",
       "      <td>-4.244380</td>\n",
       "      <td>-9.810740</td>\n",
       "    </tr>\n",
       "  </tbody>\n",
       "</table>\n",
       "</div>"
      ],
      "text/plain": [
       "                           Delta_Projections  Delta_Ranks\n",
       "Team                                                     \n",
       "Diggy Wit it                      -21.593027     2.950980\n",
       "Eugene Tweakers                   -23.594529    -1.065538\n",
       "Gorilla Guys                       -1.735259    -1.587165\n",
       "Cougar Town Zach Wilson            -0.332546    -2.611624\n",
       "I dont know what im doing          -8.045760    -2.643033\n",
       "No Nyugen Will Win                -12.856396    -3.800652\n",
       "Couv Reigning Champ               -10.767747    -5.449158\n",
       "My Team  A Bust                    -6.443576    -6.785670\n",
       "Just-in-N-out Drive thru           -4.620097    -7.524453\n",
       "P-Town CASH KEVIN                  -4.244380    -9.810740"
      ]
     },
     "execution_count": 21,
     "metadata": {},
     "output_type": "execute_result"
    }
   ],
   "source": [
    "comparison_df['Delta_Projections'] = comparison_df['Difference_x'] - comparison_df['Difference_y']\n",
    "comparison_df['Delta_Ranks'] = comparison_df['Rank_x'] - comparison_df['Rank_y']\n",
    "comparison_df = comparison_df.sort_values('Delta_Projections', ascending = False)\n",
    "comparison_df[['Delta_Projections', 'Delta_Ranks']].sort_values('Delta_Ranks', ascending=False)"
   ]
  },
  {
   "cell_type": "code",
   "execution_count": 22,
   "id": "1adc2633",
   "metadata": {},
   "outputs": [],
   "source": [
    "current_df.to_csv('output.csv')"
   ]
  },
  {
   "cell_type": "code",
   "execution_count": 31,
   "id": "33ebc00e",
   "metadata": {},
   "outputs": [],
   "source": [
    "test_df = current_df.groupby(['Team', 'Week'], as_index = False).mean()\n",
    "test_df.to_csv('output.csv')"
   ]
  },
  {
   "cell_type": "code",
   "execution_count": null,
   "id": "851e9c09",
   "metadata": {},
   "outputs": [],
   "source": []
  },
  {
   "cell_type": "code",
   "execution_count": 33,
   "id": "511eafac",
   "metadata": {},
   "outputs": [
    {
     "data": {
      "application/vnd.plotly.v1+json": {
       "config": {
        "plotlyServerURL": "https://plot.ly"
       },
       "data": [
        {
         "hovertemplate": "Team=Cougar Town Zach Wilson<br>Week=%{x}<br>Difference=%{y}<extra></extra>",
         "legendgroup": "Cougar Town Zach Wilson",
         "marker": {
          "color": "#636efa",
          "symbol": "circle"
         },
         "mode": "markers",
         "name": "Cougar Town Zach Wilson",
         "orientation": "v",
         "showlegend": true,
         "type": "scatter",
         "x": [
          1,
          2,
          3,
          4,
          5,
          6,
          7,
          8,
          9,
          10,
          11,
          12
         ],
         "xaxis": "x",
         "y": [
          -101.685625,
          -101.28470588235294,
          -102.47647058823529,
          -102.3635294117647,
          -103.09411764705882,
          -92.81,
          -89.67117647058822,
          -89.67117647058822,
          -94.67588235294116,
          -94.74058823529411,
          -94.74058823529411,
          -94.74058823529411
         ],
         "yaxis": "y"
        },
        {
         "hovertemplate": "<b>OLS trendline</b><br>Difference = 0.948565 * Week + -102.995<br>R<sup>2</sup>=0.456985<br><br>Team=Cougar Town Zach Wilson<br>Week=%{x}<br>Difference=%{y} <b>(trend)</b><extra></extra>",
         "legendgroup": "Cougar Town Zach Wilson",
         "marker": {
          "color": "#636efa",
          "symbol": "circle"
         },
         "mode": "lines",
         "name": "Cougar Town Zach Wilson",
         "showlegend": false,
         "type": "scatter",
         "x": [
          1,
          2,
          3,
          4,
          5,
          6,
          7,
          8,
          9,
          10,
          11,
          12
         ],
         "xaxis": "x",
         "y": [
          -102.04664357088991,
          -101.09807880844647,
          -100.14951404600305,
          -99.20094928355961,
          -98.25238452111617,
          -97.30381975867273,
          -96.35525499622929,
          -95.40669023378587,
          -94.45812547134243,
          -93.50956070889899,
          -92.56099594645555,
          -91.61243118401211
         ],
         "yaxis": "y"
        },
        {
         "hovertemplate": "Team=Couv Reigning Champ<br>Week=%{x}<br>Difference=%{y}<extra></extra>",
         "legendgroup": "Couv Reigning Champ",
         "marker": {
          "color": "#EF553B",
          "symbol": "circle"
         },
         "mode": "markers",
         "name": "Couv Reigning Champ",
         "orientation": "v",
         "showlegend": true,
         "type": "scatter",
         "x": [
          1,
          2,
          3,
          4,
          5,
          6,
          7,
          8,
          9,
          10,
          11,
          12
         ],
         "xaxis": "x",
         "y": [
          -88.51117647058824,
          -81.77764705882353,
          -82.49823529411765,
          -82.8629411764706,
          -75.73,
          -75.34588235294117,
          -76.19764705882352,
          -65.72,
          -63.681875,
          -64.49705882352941,
          -77.79823529411765,
          -77.79823529411765
         ],
         "yaxis": "y"
        },
        {
         "hovertemplate": "<b>OLS trendline</b><br>Difference = 1.41521 * Week + -85.2337<br>R<sup>2</sup>=0.423694<br><br>Team=Couv Reigning Champ<br>Week=%{x}<br>Difference=%{y} <b>(trend)</b><extra></extra>",
         "legendgroup": "Couv Reigning Champ",
         "marker": {
          "color": "#EF553B",
          "symbol": "circle"
         },
         "mode": "lines",
         "name": "Couv Reigning Champ",
         "showlegend": false,
         "type": "scatter",
         "x": [
          1,
          2,
          3,
          4,
          5,
          6,
          7,
          8,
          9,
          10,
          11,
          12
         ],
         "xaxis": "x",
         "y": [
          -83.81854308069384,
          -82.40333727546965,
          -80.98813147024548,
          -79.57292566502129,
          -78.1577198597971,
          -76.74251405457291,
          -75.32730824934872,
          -73.91210244412454,
          -72.49689663890035,
          -71.08169083367616,
          -69.66648502845197,
          -68.25127922322778
         ],
         "yaxis": "y"
        },
        {
         "hovertemplate": "Team=Diggy Wit it<br>Week=%{x}<br>Difference=%{y}<extra></extra>",
         "legendgroup": "Diggy Wit it",
         "marker": {
          "color": "#00cc96",
          "symbol": "circle"
         },
         "mode": "markers",
         "name": "Diggy Wit it",
         "orientation": "v",
         "showlegend": true,
         "type": "scatter",
         "x": [
          1,
          2,
          3,
          4,
          5,
          6,
          7,
          8,
          9,
          10,
          11,
          12
         ],
         "xaxis": "x",
         "y": [
          -95.7664705882353,
          -90.67411764705882,
          -80.6564705882353,
          -71.69058823529411,
          -67.99941176470588,
          -68.52882352941177,
          -65.6835294117647,
          -60.75823529411764,
          -64.80529411764707,
          -52.190588235294115,
          -52.94411764705882,
          -52.94411764705882
         ],
         "yaxis": "y"
        },
        {
         "hovertemplate": "<b>OLS trendline</b><br>Difference = 3.73732 * Week + -93.0127<br>R<sup>2</sup>=0.897984<br><br>Team=Diggy Wit it<br>Week=%{x}<br>Difference=%{y} <b>(trend)</b><extra></extra>",
         "legendgroup": "Diggy Wit it",
         "marker": {
          "color": "#00cc96",
          "symbol": "circle"
         },
         "mode": "lines",
         "name": "Diggy Wit it",
         "showlegend": false,
         "type": "scatter",
         "x": [
          1,
          2,
          3,
          4,
          5,
          6,
          7,
          8,
          9,
          10,
          11,
          12
         ],
         "xaxis": "x",
         "y": [
          -89.27538461538464,
          -85.53806869600989,
          -81.80075277663515,
          -78.0634368572604,
          -74.32612093788566,
          -70.58880501851093,
          -66.85148909913619,
          -63.11417317976144,
          -59.37685726038669,
          -55.63954134101195,
          -51.90222542163721,
          -48.16490950226247
         ],
         "yaxis": "y"
        },
        {
         "hovertemplate": "Team=Eugene Tweakers<br>Week=%{x}<br>Difference=%{y}<extra></extra>",
         "legendgroup": "Eugene Tweakers",
         "marker": {
          "color": "#ab63fa",
          "symbol": "circle"
         },
         "mode": "markers",
         "name": "Eugene Tweakers",
         "orientation": "v",
         "showlegend": true,
         "type": "scatter",
         "x": [
          1,
          2,
          3,
          4,
          5,
          6,
          7,
          8,
          9,
          10,
          11,
          12
         ],
         "xaxis": "x",
         "y": [
          -105.330625,
          -94.31125,
          -94.31125,
          -84.99312499999999,
          -84.99312499999999,
          -88.05125,
          -83.135,
          -91.535625,
          -92.56375,
          -92.56375,
          -88.53266666666667,
          -88.53266666666667
         ],
         "yaxis": "y"
        },
        {
         "hovertemplate": "<b>OLS trendline</b><br>Difference = 0.686898 * Week + -95.2027<br>R<sup>2</sup>=0.174552<br><br>Team=Eugene Tweakers<br>Week=%{x}<br>Difference=%{y} <b>(trend)</b><extra></extra>",
         "legendgroup": "Eugene Tweakers",
         "marker": {
          "color": "#ab63fa",
          "symbol": "circle"
         },
         "mode": "lines",
         "name": "Eugene Tweakers",
         "showlegend": false,
         "type": "scatter",
         "x": [
          1,
          2,
          3,
          4,
          5,
          6,
          7,
          8,
          9,
          10,
          11,
          12
         ],
         "xaxis": "x",
         "y": [
          -94.51578098290601,
          -93.8288826728827,
          -93.1419843628594,
          -92.4550860528361,
          -91.76818774281278,
          -91.08128943278948,
          -90.39439112276617,
          -89.70749281274286,
          -89.02059450271956,
          -88.33369619269625,
          -87.64679788267294,
          -86.95989957264963
         ],
         "yaxis": "y"
        },
        {
         "hovertemplate": "Team=Gorilla Guys<br>Week=%{x}<br>Difference=%{y}<extra></extra>",
         "legendgroup": "Gorilla Guys",
         "marker": {
          "color": "#FFA15A",
          "symbol": "circle"
         },
         "mode": "markers",
         "name": "Gorilla Guys",
         "orientation": "v",
         "showlegend": true,
         "type": "scatter",
         "x": [
          1,
          2,
          3,
          4,
          5,
          6,
          7,
          8,
          9,
          10,
          11,
          12
         ],
         "xaxis": "x",
         "y": [
          -84.08125,
          -81.03,
          -81.03,
          -81.03,
          -79.12352941176471,
          -68.65705882352941,
          -76.49117647058823,
          -73.2764705882353,
          -74.50823529411764,
          -74.50823529411764,
          -70.9735294117647,
          -70.18
         ],
         "yaxis": "y"
        },
        {
         "hovertemplate": "<b>OLS trendline</b><br>Difference = 1.15871 * Week + -83.7724<br>R<sup>2</sup>=0.697048<br><br>Team=Gorilla Guys<br>Week=%{x}<br>Difference=%{y} <b>(trend)</b><extra></extra>",
         "legendgroup": "Gorilla Guys",
         "marker": {
          "color": "#FFA15A",
          "symbol": "circle"
         },
         "mode": "lines",
         "name": "Gorilla Guys",
         "showlegend": false,
         "type": "scatter",
         "x": [
          1,
          2,
          3,
          4,
          5,
          6,
          7,
          8,
          9,
          10,
          11,
          12
         ],
         "xaxis": "x",
         "y": [
          -82.61367929864255,
          -81.45497223364873,
          -80.2962651686549,
          -79.13755810366108,
          -77.97885103866724,
          -76.82014397367341,
          -75.66143690867959,
          -74.50272984368576,
          -73.34402277869194,
          -72.1853157136981,
          -71.02660864870427,
          -69.86790158371045
         ],
         "yaxis": "y"
        },
        {
         "hovertemplate": "Team=I dont know what im doing<br>Week=%{x}<br>Difference=%{y}<extra></extra>",
         "legendgroup": "I dont know what im doing",
         "marker": {
          "color": "#19d3f3",
          "symbol": "circle"
         },
         "mode": "markers",
         "name": "I dont know what im doing",
         "orientation": "v",
         "showlegend": true,
         "type": "scatter",
         "x": [
          1,
          2,
          3,
          4,
          5,
          6,
          7,
          8,
          9,
          10,
          11,
          12
         ],
         "xaxis": "x",
         "y": [
          -72.213125,
          -72.213125,
          -72.716875,
          -60.801875,
          -65.379375,
          -61.224705882352936,
          -60.63411764705882,
          -54.14058823529412,
          -59.6725,
          -64.934375,
          -58.7575,
          -58.7575
         ],
         "yaxis": "y"
        },
        {
         "hovertemplate": "<b>OLS trendline</b><br>Difference = 1.27113 * Week + -71.7162<br>R<sup>2</sup>=0.563204<br><br>Team=I dont know what im doing<br>Week=%{x}<br>Difference=%{y} <b>(trend)</b><extra></extra>",
         "legendgroup": "I dont know what im doing",
         "marker": {
          "color": "#19d3f3",
          "symbol": "circle"
         },
         "mode": "lines",
         "name": "I dont know what im doing",
         "showlegend": false,
         "type": "scatter",
         "x": [
          1,
          2,
          3,
          4,
          5,
          6,
          7,
          8,
          9,
          10,
          11,
          12
         ],
         "xaxis": "x",
         "y": [
          -70.44503252262446,
          -69.17390027252162,
          -67.90276802241878,
          -66.63163577231595,
          -65.36050352221311,
          -64.08937127211027,
          -62.81823902200743,
          -61.547106771904595,
          -60.27597452180176,
          -59.00484227169892,
          -57.73371002159609,
          -56.46257777149325
         ],
         "yaxis": "y"
        },
        {
         "hovertemplate": "Team=Just-in-N-out Drive thru<br>Week=%{x}<br>Difference=%{y}<extra></extra>",
         "legendgroup": "Just-in-N-out Drive thru",
         "marker": {
          "color": "#FF6692",
          "symbol": "circle"
         },
         "mode": "markers",
         "name": "Just-in-N-out Drive thru",
         "orientation": "v",
         "showlegend": true,
         "type": "scatter",
         "x": [
          1,
          2,
          3,
          4,
          5,
          6,
          7,
          8,
          9,
          10,
          11,
          12
         ],
         "xaxis": "x",
         "y": [
          -76.16375,
          -60.1,
          -69.579375,
          -47.301875,
          -49.610625000000006,
          -55.125,
          -51.097500000000004,
          -48.304375,
          -45.45117647058824,
          -48.34235294117647,
          -45.80235294117647,
          -45.853125
         ],
         "yaxis": "y"
        },
        {
         "hovertemplate": "<b>OLS trendline</b><br>Difference = 2.19565 * Week + -67.8327<br>R<sup>2</sup>=0.618962<br><br>Team=Just-in-N-out Drive thru<br>Week=%{x}<br>Difference=%{y} <b>(trend)</b><extra></extra>",
         "legendgroup": "Just-in-N-out Drive thru",
         "marker": {
          "color": "#FF6692",
          "symbol": "circle"
         },
         "mode": "lines",
         "name": "Just-in-N-out Drive thru",
         "showlegend": false,
         "type": "scatter",
         "x": [
          1,
          2,
          3,
          4,
          5,
          6,
          7,
          8,
          9,
          10,
          11,
          12
         ],
         "xaxis": "x",
         "y": [
          -65.63700886123682,
          -63.44136342211712,
          -61.24571798299741,
          -59.05007254387771,
          -56.85442710475801,
          -54.6587816656383,
          -52.4631362265186,
          -50.2674907873989,
          -48.0718453482792,
          -45.876199909159496,
          -43.68055447003979,
          -41.484909030920086
         ],
         "yaxis": "y"
        },
        {
         "hovertemplate": "Team=My Team  A Bust<br>Week=%{x}<br>Difference=%{y}<extra></extra>",
         "legendgroup": "My Team  A Bust",
         "marker": {
          "color": "#B6E880",
          "symbol": "circle"
         },
         "mode": "markers",
         "name": "My Team  A Bust",
         "orientation": "v",
         "showlegend": true,
         "type": "scatter",
         "x": [
          1,
          2,
          3,
          4,
          5,
          6,
          7,
          8,
          9,
          10,
          11,
          12
         ],
         "xaxis": "x",
         "y": [
          -71.44705882352942,
          -71.44705882352942,
          -72.64647058823529,
          -71.38588235294118,
          -61.53235294117647,
          -64.60235294117648,
          -57.60625,
          -48.83058823529412,
          -45.211176470588235,
          -46.336470588235294,
          -47.43000000000001,
          -47.43000000000001
         ],
         "yaxis": "y"
        },
        {
         "hovertemplate": "<b>OLS trendline</b><br>Difference = 2.93876 * Week + -77.9274<br>R<sup>2</sup>=0.875563<br><br>Team=My Team  A Bust<br>Week=%{x}<br>Difference=%{y} <b>(trend)</b><extra></extra>",
         "legendgroup": "My Team  A Bust",
         "marker": {
          "color": "#B6E880",
          "symbol": "circle"
         },
         "mode": "lines",
         "name": "My Team  A Bust",
         "showlegend": false,
         "type": "scatter",
         "x": [
          1,
          2,
          3,
          4,
          5,
          6,
          7,
          8,
          9,
          10,
          11,
          12
         ],
         "xaxis": "x",
         "y": [
          -74.98866610105583,
          -72.04990350335942,
          -69.11114090566299,
          -66.17237830796657,
          -63.23361571027014,
          -60.294853112573726,
          -57.35609051487731,
          -54.417327917180884,
          -51.47856531948446,
          -48.53980272178804,
          -45.601040124091625,
          -42.6622775263952
         ],
         "yaxis": "y"
        },
        {
         "hovertemplate": "Team=No Nyugen Will Win<br>Week=%{x}<br>Difference=%{y}<extra></extra>",
         "legendgroup": "No Nyugen Will Win",
         "marker": {
          "color": "#FF97FF",
          "symbol": "circle"
         },
         "mode": "markers",
         "name": "No Nyugen Will Win",
         "orientation": "v",
         "showlegend": true,
         "type": "scatter",
         "x": [
          1,
          2,
          3,
          4,
          5,
          6,
          7,
          8,
          9,
          10,
          11,
          12
         ],
         "xaxis": "x",
         "y": [
          -85.684375,
          -75.35882352941178,
          -74.31882352941177,
          -65.27882352941177,
          -67.46411764705883,
          -63.40625000000001,
          -56.28187500000001,
          -58.36176470588236,
          -52.66823529411765,
          -52.44764705882353,
          -62.50750000000001,
          -62.50750000000001
         ],
         "yaxis": "y"
        },
        {
         "hovertemplate": "<b>OLS trendline</b><br>Difference = 2.17199 * Week + -78.8084<br>R<sup>2</sup>=0.629500<br><br>Team=No Nyugen Will Win<br>Week=%{x}<br>Difference=%{y} <b>(trend)</b><extra></extra>",
         "legendgroup": "No Nyugen Will Win",
         "marker": {
          "color": "#FF97FF",
          "symbol": "circle"
         },
         "mode": "lines",
         "name": "No Nyugen Will Win",
         "showlegend": false,
         "type": "scatter",
         "x": [
          1,
          2,
          3,
          4,
          5,
          6,
          7,
          8,
          9,
          10,
          11,
          12
         ],
         "xaxis": "x",
         "y": [
          -76.63644230769232,
          -74.46444878650763,
          -72.29245526532293,
          -70.12046174413824,
          -67.94846822295354,
          -65.77647470176885,
          -63.604481180584145,
          -61.43248765939945,
          -59.26049413821475,
          -57.08850061703006,
          -54.91650709584536,
          -52.74451357466066
         ],
         "yaxis": "y"
        },
        {
         "hovertemplate": "Team=P-Town CASH KEVIN<br>Week=%{x}<br>Difference=%{y}<extra></extra>",
         "legendgroup": "P-Town CASH KEVIN",
         "marker": {
          "color": "#FECB52",
          "symbol": "circle"
         },
         "mode": "markers",
         "name": "P-Town CASH KEVIN",
         "orientation": "v",
         "showlegend": true,
         "type": "scatter",
         "x": [
          1,
          2,
          3,
          4,
          5,
          6,
          7,
          8,
          9,
          10,
          11,
          12
         ],
         "xaxis": "x",
         "y": [
          -81.264375,
          -80.1075,
          -80.1075,
          -85.89375,
          -85.89375,
          -79.91882352941177,
          -79.41375000000001,
          -73.53125,
          -53.44529411764706,
          -53.44529411764706,
          -53.44529411764706,
          -53.44529411764706
         ],
         "yaxis": "y"
        },
        {
         "hovertemplate": "<b>OLS trendline</b><br>Difference = 3.26028 * Week + -92.8511<br>R<sup>2</sup>=0.724125<br><br>Team=P-Town CASH KEVIN<br>Week=%{x}<br>Difference=%{y} <b>(trend)</b><extra></extra>",
         "legendgroup": "P-Town CASH KEVIN",
         "marker": {
          "color": "#FECB52",
          "symbol": "circle"
         },
         "mode": "lines",
         "name": "P-Town CASH KEVIN",
         "showlegend": false,
         "type": "scatter",
         "x": [
          1,
          2,
          3,
          4,
          5,
          6,
          7,
          8,
          9,
          10,
          11,
          12
         ],
         "xaxis": "x",
         "y": [
          -89.59086208521875,
          -86.3305822363911,
          -83.07030238756346,
          -79.81002253873581,
          -76.54974268990817,
          -73.28946284108054,
          -70.02918299225288,
          -66.76890314342525,
          -63.5086232945976,
          -60.24834344576996,
          -56.98806359694232,
          -53.727783748114675
         ],
         "yaxis": "y"
        }
       ],
       "layout": {
        "legend": {
         "title": {
          "text": "Team"
         },
         "tracegroupgap": 0
        },
        "margin": {
         "t": 60
        },
        "template": {
         "data": {
          "bar": [
           {
            "error_x": {
             "color": "#2a3f5f"
            },
            "error_y": {
             "color": "#2a3f5f"
            },
            "marker": {
             "line": {
              "color": "#E5ECF6",
              "width": 0.5
             },
             "pattern": {
              "fillmode": "overlay",
              "size": 10,
              "solidity": 0.2
             }
            },
            "type": "bar"
           }
          ],
          "barpolar": [
           {
            "marker": {
             "line": {
              "color": "#E5ECF6",
              "width": 0.5
             },
             "pattern": {
              "fillmode": "overlay",
              "size": 10,
              "solidity": 0.2
             }
            },
            "type": "barpolar"
           }
          ],
          "carpet": [
           {
            "aaxis": {
             "endlinecolor": "#2a3f5f",
             "gridcolor": "white",
             "linecolor": "white",
             "minorgridcolor": "white",
             "startlinecolor": "#2a3f5f"
            },
            "baxis": {
             "endlinecolor": "#2a3f5f",
             "gridcolor": "white",
             "linecolor": "white",
             "minorgridcolor": "white",
             "startlinecolor": "#2a3f5f"
            },
            "type": "carpet"
           }
          ],
          "choropleth": [
           {
            "colorbar": {
             "outlinewidth": 0,
             "ticks": ""
            },
            "type": "choropleth"
           }
          ],
          "contour": [
           {
            "colorbar": {
             "outlinewidth": 0,
             "ticks": ""
            },
            "colorscale": [
             [
              0,
              "#0d0887"
             ],
             [
              0.1111111111111111,
              "#46039f"
             ],
             [
              0.2222222222222222,
              "#7201a8"
             ],
             [
              0.3333333333333333,
              "#9c179e"
             ],
             [
              0.4444444444444444,
              "#bd3786"
             ],
             [
              0.5555555555555556,
              "#d8576b"
             ],
             [
              0.6666666666666666,
              "#ed7953"
             ],
             [
              0.7777777777777778,
              "#fb9f3a"
             ],
             [
              0.8888888888888888,
              "#fdca26"
             ],
             [
              1,
              "#f0f921"
             ]
            ],
            "type": "contour"
           }
          ],
          "contourcarpet": [
           {
            "colorbar": {
             "outlinewidth": 0,
             "ticks": ""
            },
            "type": "contourcarpet"
           }
          ],
          "heatmap": [
           {
            "colorbar": {
             "outlinewidth": 0,
             "ticks": ""
            },
            "colorscale": [
             [
              0,
              "#0d0887"
             ],
             [
              0.1111111111111111,
              "#46039f"
             ],
             [
              0.2222222222222222,
              "#7201a8"
             ],
             [
              0.3333333333333333,
              "#9c179e"
             ],
             [
              0.4444444444444444,
              "#bd3786"
             ],
             [
              0.5555555555555556,
              "#d8576b"
             ],
             [
              0.6666666666666666,
              "#ed7953"
             ],
             [
              0.7777777777777778,
              "#fb9f3a"
             ],
             [
              0.8888888888888888,
              "#fdca26"
             ],
             [
              1,
              "#f0f921"
             ]
            ],
            "type": "heatmap"
           }
          ],
          "heatmapgl": [
           {
            "colorbar": {
             "outlinewidth": 0,
             "ticks": ""
            },
            "colorscale": [
             [
              0,
              "#0d0887"
             ],
             [
              0.1111111111111111,
              "#46039f"
             ],
             [
              0.2222222222222222,
              "#7201a8"
             ],
             [
              0.3333333333333333,
              "#9c179e"
             ],
             [
              0.4444444444444444,
              "#bd3786"
             ],
             [
              0.5555555555555556,
              "#d8576b"
             ],
             [
              0.6666666666666666,
              "#ed7953"
             ],
             [
              0.7777777777777778,
              "#fb9f3a"
             ],
             [
              0.8888888888888888,
              "#fdca26"
             ],
             [
              1,
              "#f0f921"
             ]
            ],
            "type": "heatmapgl"
           }
          ],
          "histogram": [
           {
            "marker": {
             "pattern": {
              "fillmode": "overlay",
              "size": 10,
              "solidity": 0.2
             }
            },
            "type": "histogram"
           }
          ],
          "histogram2d": [
           {
            "colorbar": {
             "outlinewidth": 0,
             "ticks": ""
            },
            "colorscale": [
             [
              0,
              "#0d0887"
             ],
             [
              0.1111111111111111,
              "#46039f"
             ],
             [
              0.2222222222222222,
              "#7201a8"
             ],
             [
              0.3333333333333333,
              "#9c179e"
             ],
             [
              0.4444444444444444,
              "#bd3786"
             ],
             [
              0.5555555555555556,
              "#d8576b"
             ],
             [
              0.6666666666666666,
              "#ed7953"
             ],
             [
              0.7777777777777778,
              "#fb9f3a"
             ],
             [
              0.8888888888888888,
              "#fdca26"
             ],
             [
              1,
              "#f0f921"
             ]
            ],
            "type": "histogram2d"
           }
          ],
          "histogram2dcontour": [
           {
            "colorbar": {
             "outlinewidth": 0,
             "ticks": ""
            },
            "colorscale": [
             [
              0,
              "#0d0887"
             ],
             [
              0.1111111111111111,
              "#46039f"
             ],
             [
              0.2222222222222222,
              "#7201a8"
             ],
             [
              0.3333333333333333,
              "#9c179e"
             ],
             [
              0.4444444444444444,
              "#bd3786"
             ],
             [
              0.5555555555555556,
              "#d8576b"
             ],
             [
              0.6666666666666666,
              "#ed7953"
             ],
             [
              0.7777777777777778,
              "#fb9f3a"
             ],
             [
              0.8888888888888888,
              "#fdca26"
             ],
             [
              1,
              "#f0f921"
             ]
            ],
            "type": "histogram2dcontour"
           }
          ],
          "mesh3d": [
           {
            "colorbar": {
             "outlinewidth": 0,
             "ticks": ""
            },
            "type": "mesh3d"
           }
          ],
          "parcoords": [
           {
            "line": {
             "colorbar": {
              "outlinewidth": 0,
              "ticks": ""
             }
            },
            "type": "parcoords"
           }
          ],
          "pie": [
           {
            "automargin": true,
            "type": "pie"
           }
          ],
          "scatter": [
           {
            "marker": {
             "colorbar": {
              "outlinewidth": 0,
              "ticks": ""
             }
            },
            "type": "scatter"
           }
          ],
          "scatter3d": [
           {
            "line": {
             "colorbar": {
              "outlinewidth": 0,
              "ticks": ""
             }
            },
            "marker": {
             "colorbar": {
              "outlinewidth": 0,
              "ticks": ""
             }
            },
            "type": "scatter3d"
           }
          ],
          "scattercarpet": [
           {
            "marker": {
             "colorbar": {
              "outlinewidth": 0,
              "ticks": ""
             }
            },
            "type": "scattercarpet"
           }
          ],
          "scattergeo": [
           {
            "marker": {
             "colorbar": {
              "outlinewidth": 0,
              "ticks": ""
             }
            },
            "type": "scattergeo"
           }
          ],
          "scattergl": [
           {
            "marker": {
             "colorbar": {
              "outlinewidth": 0,
              "ticks": ""
             }
            },
            "type": "scattergl"
           }
          ],
          "scattermapbox": [
           {
            "marker": {
             "colorbar": {
              "outlinewidth": 0,
              "ticks": ""
             }
            },
            "type": "scattermapbox"
           }
          ],
          "scatterpolar": [
           {
            "marker": {
             "colorbar": {
              "outlinewidth": 0,
              "ticks": ""
             }
            },
            "type": "scatterpolar"
           }
          ],
          "scatterpolargl": [
           {
            "marker": {
             "colorbar": {
              "outlinewidth": 0,
              "ticks": ""
             }
            },
            "type": "scatterpolargl"
           }
          ],
          "scatterternary": [
           {
            "marker": {
             "colorbar": {
              "outlinewidth": 0,
              "ticks": ""
             }
            },
            "type": "scatterternary"
           }
          ],
          "surface": [
           {
            "colorbar": {
             "outlinewidth": 0,
             "ticks": ""
            },
            "colorscale": [
             [
              0,
              "#0d0887"
             ],
             [
              0.1111111111111111,
              "#46039f"
             ],
             [
              0.2222222222222222,
              "#7201a8"
             ],
             [
              0.3333333333333333,
              "#9c179e"
             ],
             [
              0.4444444444444444,
              "#bd3786"
             ],
             [
              0.5555555555555556,
              "#d8576b"
             ],
             [
              0.6666666666666666,
              "#ed7953"
             ],
             [
              0.7777777777777778,
              "#fb9f3a"
             ],
             [
              0.8888888888888888,
              "#fdca26"
             ],
             [
              1,
              "#f0f921"
             ]
            ],
            "type": "surface"
           }
          ],
          "table": [
           {
            "cells": {
             "fill": {
              "color": "#EBF0F8"
             },
             "line": {
              "color": "white"
             }
            },
            "header": {
             "fill": {
              "color": "#C8D4E3"
             },
             "line": {
              "color": "white"
             }
            },
            "type": "table"
           }
          ]
         },
         "layout": {
          "annotationdefaults": {
           "arrowcolor": "#2a3f5f",
           "arrowhead": 0,
           "arrowwidth": 1
          },
          "autotypenumbers": "strict",
          "coloraxis": {
           "colorbar": {
            "outlinewidth": 0,
            "ticks": ""
           }
          },
          "colorscale": {
           "diverging": [
            [
             0,
             "#8e0152"
            ],
            [
             0.1,
             "#c51b7d"
            ],
            [
             0.2,
             "#de77ae"
            ],
            [
             0.3,
             "#f1b6da"
            ],
            [
             0.4,
             "#fde0ef"
            ],
            [
             0.5,
             "#f7f7f7"
            ],
            [
             0.6,
             "#e6f5d0"
            ],
            [
             0.7,
             "#b8e186"
            ],
            [
             0.8,
             "#7fbc41"
            ],
            [
             0.9,
             "#4d9221"
            ],
            [
             1,
             "#276419"
            ]
           ],
           "sequential": [
            [
             0,
             "#0d0887"
            ],
            [
             0.1111111111111111,
             "#46039f"
            ],
            [
             0.2222222222222222,
             "#7201a8"
            ],
            [
             0.3333333333333333,
             "#9c179e"
            ],
            [
             0.4444444444444444,
             "#bd3786"
            ],
            [
             0.5555555555555556,
             "#d8576b"
            ],
            [
             0.6666666666666666,
             "#ed7953"
            ],
            [
             0.7777777777777778,
             "#fb9f3a"
            ],
            [
             0.8888888888888888,
             "#fdca26"
            ],
            [
             1,
             "#f0f921"
            ]
           ],
           "sequentialminus": [
            [
             0,
             "#0d0887"
            ],
            [
             0.1111111111111111,
             "#46039f"
            ],
            [
             0.2222222222222222,
             "#7201a8"
            ],
            [
             0.3333333333333333,
             "#9c179e"
            ],
            [
             0.4444444444444444,
             "#bd3786"
            ],
            [
             0.5555555555555556,
             "#d8576b"
            ],
            [
             0.6666666666666666,
             "#ed7953"
            ],
            [
             0.7777777777777778,
             "#fb9f3a"
            ],
            [
             0.8888888888888888,
             "#fdca26"
            ],
            [
             1,
             "#f0f921"
            ]
           ]
          },
          "colorway": [
           "#636efa",
           "#EF553B",
           "#00cc96",
           "#ab63fa",
           "#FFA15A",
           "#19d3f3",
           "#FF6692",
           "#B6E880",
           "#FF97FF",
           "#FECB52"
          ],
          "font": {
           "color": "#2a3f5f"
          },
          "geo": {
           "bgcolor": "white",
           "lakecolor": "white",
           "landcolor": "#E5ECF6",
           "showlakes": true,
           "showland": true,
           "subunitcolor": "white"
          },
          "hoverlabel": {
           "align": "left"
          },
          "hovermode": "closest",
          "mapbox": {
           "style": "light"
          },
          "paper_bgcolor": "white",
          "plot_bgcolor": "#E5ECF6",
          "polar": {
           "angularaxis": {
            "gridcolor": "white",
            "linecolor": "white",
            "ticks": ""
           },
           "bgcolor": "#E5ECF6",
           "radialaxis": {
            "gridcolor": "white",
            "linecolor": "white",
            "ticks": ""
           }
          },
          "scene": {
           "xaxis": {
            "backgroundcolor": "#E5ECF6",
            "gridcolor": "white",
            "gridwidth": 2,
            "linecolor": "white",
            "showbackground": true,
            "ticks": "",
            "zerolinecolor": "white"
           },
           "yaxis": {
            "backgroundcolor": "#E5ECF6",
            "gridcolor": "white",
            "gridwidth": 2,
            "linecolor": "white",
            "showbackground": true,
            "ticks": "",
            "zerolinecolor": "white"
           },
           "zaxis": {
            "backgroundcolor": "#E5ECF6",
            "gridcolor": "white",
            "gridwidth": 2,
            "linecolor": "white",
            "showbackground": true,
            "ticks": "",
            "zerolinecolor": "white"
           }
          },
          "shapedefaults": {
           "line": {
            "color": "#2a3f5f"
           }
          },
          "ternary": {
           "aaxis": {
            "gridcolor": "white",
            "linecolor": "white",
            "ticks": ""
           },
           "baxis": {
            "gridcolor": "white",
            "linecolor": "white",
            "ticks": ""
           },
           "bgcolor": "#E5ECF6",
           "caxis": {
            "gridcolor": "white",
            "linecolor": "white",
            "ticks": ""
           }
          },
          "title": {
           "x": 0.05
          },
          "xaxis": {
           "automargin": true,
           "gridcolor": "white",
           "linecolor": "white",
           "ticks": "",
           "title": {
            "standoff": 15
           },
           "zerolinecolor": "white",
           "zerolinewidth": 2
          },
          "yaxis": {
           "automargin": true,
           "gridcolor": "white",
           "linecolor": "white",
           "ticks": "",
           "title": {
            "standoff": 15
           },
           "zerolinecolor": "white",
           "zerolinewidth": 2
          }
         }
        },
        "xaxis": {
         "anchor": "y",
         "domain": [
          0,
          1
         ],
         "title": {
          "text": "Week"
         }
        },
        "yaxis": {
         "anchor": "x",
         "domain": [
          0,
          1
         ],
         "title": {
          "text": "Difference"
         }
        }
       }
      }
     },
     "metadata": {},
     "output_type": "display_data"
    }
   ],
   "source": [
    "import plotly.io as pio\n",
    "pio.renderers\n",
    "plot = px.scatter(test_df, x = 'Week', y = 'Difference', color = 'Team', trendline = 'ols')\n",
    "plot.show()\n"
   ]
  },
  {
   "cell_type": "code",
   "execution_count": 34,
   "id": "deae9037",
   "metadata": {},
   "outputs": [
    {
     "data": {
      "application/vnd.plotly.v1+json": {
       "config": {
        "plotlyServerURL": "https://plot.ly"
       },
       "data": [
        {
         "hovertemplate": "Team=Cougar Town Zach Wilson<br>Week=%{x}<br>Difference=%{y}<extra></extra>",
         "legendgroup": "Cougar Town Zach Wilson",
         "marker": {
          "color": "#636efa",
          "symbol": "circle"
         },
         "mode": "markers",
         "name": "Cougar Town Zach Wilson",
         "orientation": "v",
         "showlegend": true,
         "type": "scatter",
         "x": [
          1,
          2,
          3,
          4,
          5,
          6,
          7,
          8,
          9,
          10,
          11,
          12
         ],
         "xaxis": "x",
         "y": [
          -101.685625,
          -101.28470588235294,
          -102.47647058823529,
          -102.3635294117647,
          -103.09411764705882,
          -92.81,
          -89.67117647058822,
          -89.67117647058822,
          -94.67588235294116,
          -94.74058823529411,
          -94.74058823529411,
          -94.74058823529411
         ],
         "yaxis": "y"
        },
        {
         "hovertemplate": "Team=Couv Reigning Champ<br>Week=%{x}<br>Difference=%{y}<extra></extra>",
         "legendgroup": "Couv Reigning Champ",
         "marker": {
          "color": "#EF553B",
          "symbol": "circle"
         },
         "mode": "markers",
         "name": "Couv Reigning Champ",
         "orientation": "v",
         "showlegend": true,
         "type": "scatter",
         "x": [
          1,
          2,
          3,
          4,
          5,
          6,
          7,
          8,
          9,
          10,
          11,
          12
         ],
         "xaxis": "x",
         "y": [
          -88.51117647058824,
          -81.77764705882353,
          -82.49823529411765,
          -82.8629411764706,
          -75.73,
          -75.34588235294117,
          -76.19764705882352,
          -65.72,
          -63.681875,
          -64.49705882352941,
          -77.79823529411765,
          -77.79823529411765
         ],
         "yaxis": "y"
        },
        {
         "hovertemplate": "Team=Diggy Wit it<br>Week=%{x}<br>Difference=%{y}<extra></extra>",
         "legendgroup": "Diggy Wit it",
         "marker": {
          "color": "#00cc96",
          "symbol": "circle"
         },
         "mode": "markers",
         "name": "Diggy Wit it",
         "orientation": "v",
         "showlegend": true,
         "type": "scatter",
         "x": [
          1,
          2,
          3,
          4,
          5,
          6,
          7,
          8,
          9,
          10,
          11,
          12
         ],
         "xaxis": "x",
         "y": [
          -95.7664705882353,
          -90.67411764705882,
          -80.6564705882353,
          -71.69058823529411,
          -67.99941176470588,
          -68.52882352941177,
          -65.6835294117647,
          -60.75823529411764,
          -64.80529411764707,
          -52.190588235294115,
          -52.94411764705882,
          -52.94411764705882
         ],
         "yaxis": "y"
        },
        {
         "hovertemplate": "Team=Eugene Tweakers<br>Week=%{x}<br>Difference=%{y}<extra></extra>",
         "legendgroup": "Eugene Tweakers",
         "marker": {
          "color": "#ab63fa",
          "symbol": "circle"
         },
         "mode": "markers",
         "name": "Eugene Tweakers",
         "orientation": "v",
         "showlegend": true,
         "type": "scatter",
         "x": [
          1,
          2,
          3,
          4,
          5,
          6,
          7,
          8,
          9,
          10,
          11,
          12
         ],
         "xaxis": "x",
         "y": [
          -105.330625,
          -94.31125,
          -94.31125,
          -84.99312499999999,
          -84.99312499999999,
          -88.05125,
          -83.135,
          -91.535625,
          -92.56375,
          -92.56375,
          -88.53266666666667,
          -88.53266666666667
         ],
         "yaxis": "y"
        },
        {
         "hovertemplate": "Team=Gorilla Guys<br>Week=%{x}<br>Difference=%{y}<extra></extra>",
         "legendgroup": "Gorilla Guys",
         "marker": {
          "color": "#FFA15A",
          "symbol": "circle"
         },
         "mode": "markers",
         "name": "Gorilla Guys",
         "orientation": "v",
         "showlegend": true,
         "type": "scatter",
         "x": [
          1,
          2,
          3,
          4,
          5,
          6,
          7,
          8,
          9,
          10,
          11,
          12
         ],
         "xaxis": "x",
         "y": [
          -84.08125,
          -81.03,
          -81.03,
          -81.03,
          -79.12352941176471,
          -68.65705882352941,
          -76.49117647058823,
          -73.2764705882353,
          -74.50823529411764,
          -74.50823529411764,
          -70.9735294117647,
          -70.18
         ],
         "yaxis": "y"
        },
        {
         "hovertemplate": "Team=I dont know what im doing<br>Week=%{x}<br>Difference=%{y}<extra></extra>",
         "legendgroup": "I dont know what im doing",
         "marker": {
          "color": "#19d3f3",
          "symbol": "circle"
         },
         "mode": "markers",
         "name": "I dont know what im doing",
         "orientation": "v",
         "showlegend": true,
         "type": "scatter",
         "x": [
          1,
          2,
          3,
          4,
          5,
          6,
          7,
          8,
          9,
          10,
          11,
          12
         ],
         "xaxis": "x",
         "y": [
          -72.213125,
          -72.213125,
          -72.716875,
          -60.801875,
          -65.379375,
          -61.224705882352936,
          -60.63411764705882,
          -54.14058823529412,
          -59.6725,
          -64.934375,
          -58.7575,
          -58.7575
         ],
         "yaxis": "y"
        },
        {
         "hovertemplate": "Team=Just-in-N-out Drive thru<br>Week=%{x}<br>Difference=%{y}<extra></extra>",
         "legendgroup": "Just-in-N-out Drive thru",
         "marker": {
          "color": "#FF6692",
          "symbol": "circle"
         },
         "mode": "markers",
         "name": "Just-in-N-out Drive thru",
         "orientation": "v",
         "showlegend": true,
         "type": "scatter",
         "x": [
          1,
          2,
          3,
          4,
          5,
          6,
          7,
          8,
          9,
          10,
          11,
          12
         ],
         "xaxis": "x",
         "y": [
          -76.16375,
          -60.1,
          -69.579375,
          -47.301875,
          -49.610625000000006,
          -55.125,
          -51.097500000000004,
          -48.304375,
          -45.45117647058824,
          -48.34235294117647,
          -45.80235294117647,
          -45.853125
         ],
         "yaxis": "y"
        },
        {
         "hovertemplate": "Team=My Team  A Bust<br>Week=%{x}<br>Difference=%{y}<extra></extra>",
         "legendgroup": "My Team  A Bust",
         "marker": {
          "color": "#B6E880",
          "symbol": "circle"
         },
         "mode": "markers",
         "name": "My Team  A Bust",
         "orientation": "v",
         "showlegend": true,
         "type": "scatter",
         "x": [
          1,
          2,
          3,
          4,
          5,
          6,
          7,
          8,
          9,
          10,
          11,
          12
         ],
         "xaxis": "x",
         "y": [
          -71.44705882352942,
          -71.44705882352942,
          -72.64647058823529,
          -71.38588235294118,
          -61.53235294117647,
          -64.60235294117648,
          -57.60625,
          -48.83058823529412,
          -45.211176470588235,
          -46.336470588235294,
          -47.43000000000001,
          -47.43000000000001
         ],
         "yaxis": "y"
        },
        {
         "hovertemplate": "Team=No Nyugen Will Win<br>Week=%{x}<br>Difference=%{y}<extra></extra>",
         "legendgroup": "No Nyugen Will Win",
         "marker": {
          "color": "#FF97FF",
          "symbol": "circle"
         },
         "mode": "markers",
         "name": "No Nyugen Will Win",
         "orientation": "v",
         "showlegend": true,
         "type": "scatter",
         "x": [
          1,
          2,
          3,
          4,
          5,
          6,
          7,
          8,
          9,
          10,
          11,
          12
         ],
         "xaxis": "x",
         "y": [
          -85.684375,
          -75.35882352941178,
          -74.31882352941177,
          -65.27882352941177,
          -67.46411764705883,
          -63.40625000000001,
          -56.28187500000001,
          -58.36176470588236,
          -52.66823529411765,
          -52.44764705882353,
          -62.50750000000001,
          -62.50750000000001
         ],
         "yaxis": "y"
        },
        {
         "hovertemplate": "Team=P-Town CASH KEVIN<br>Week=%{x}<br>Difference=%{y}<extra></extra>",
         "legendgroup": "P-Town CASH KEVIN",
         "marker": {
          "color": "#FECB52",
          "symbol": "circle"
         },
         "mode": "markers",
         "name": "P-Town CASH KEVIN",
         "orientation": "v",
         "showlegend": true,
         "type": "scatter",
         "x": [
          1,
          2,
          3,
          4,
          5,
          6,
          7,
          8,
          9,
          10,
          11,
          12
         ],
         "xaxis": "x",
         "y": [
          -81.264375,
          -80.1075,
          -80.1075,
          -85.89375,
          -85.89375,
          -79.91882352941177,
          -79.41375000000001,
          -73.53125,
          -53.44529411764706,
          -53.44529411764706,
          -53.44529411764706,
          -53.44529411764706
         ],
         "yaxis": "y"
        }
       ],
       "layout": {
        "legend": {
         "title": {
          "text": "Team"
         },
         "tracegroupgap": 0
        },
        "margin": {
         "t": 60
        },
        "template": {
         "data": {
          "bar": [
           {
            "error_x": {
             "color": "#2a3f5f"
            },
            "error_y": {
             "color": "#2a3f5f"
            },
            "marker": {
             "line": {
              "color": "#E5ECF6",
              "width": 0.5
             },
             "pattern": {
              "fillmode": "overlay",
              "size": 10,
              "solidity": 0.2
             }
            },
            "type": "bar"
           }
          ],
          "barpolar": [
           {
            "marker": {
             "line": {
              "color": "#E5ECF6",
              "width": 0.5
             },
             "pattern": {
              "fillmode": "overlay",
              "size": 10,
              "solidity": 0.2
             }
            },
            "type": "barpolar"
           }
          ],
          "carpet": [
           {
            "aaxis": {
             "endlinecolor": "#2a3f5f",
             "gridcolor": "white",
             "linecolor": "white",
             "minorgridcolor": "white",
             "startlinecolor": "#2a3f5f"
            },
            "baxis": {
             "endlinecolor": "#2a3f5f",
             "gridcolor": "white",
             "linecolor": "white",
             "minorgridcolor": "white",
             "startlinecolor": "#2a3f5f"
            },
            "type": "carpet"
           }
          ],
          "choropleth": [
           {
            "colorbar": {
             "outlinewidth": 0,
             "ticks": ""
            },
            "type": "choropleth"
           }
          ],
          "contour": [
           {
            "colorbar": {
             "outlinewidth": 0,
             "ticks": ""
            },
            "colorscale": [
             [
              0,
              "#0d0887"
             ],
             [
              0.1111111111111111,
              "#46039f"
             ],
             [
              0.2222222222222222,
              "#7201a8"
             ],
             [
              0.3333333333333333,
              "#9c179e"
             ],
             [
              0.4444444444444444,
              "#bd3786"
             ],
             [
              0.5555555555555556,
              "#d8576b"
             ],
             [
              0.6666666666666666,
              "#ed7953"
             ],
             [
              0.7777777777777778,
              "#fb9f3a"
             ],
             [
              0.8888888888888888,
              "#fdca26"
             ],
             [
              1,
              "#f0f921"
             ]
            ],
            "type": "contour"
           }
          ],
          "contourcarpet": [
           {
            "colorbar": {
             "outlinewidth": 0,
             "ticks": ""
            },
            "type": "contourcarpet"
           }
          ],
          "heatmap": [
           {
            "colorbar": {
             "outlinewidth": 0,
             "ticks": ""
            },
            "colorscale": [
             [
              0,
              "#0d0887"
             ],
             [
              0.1111111111111111,
              "#46039f"
             ],
             [
              0.2222222222222222,
              "#7201a8"
             ],
             [
              0.3333333333333333,
              "#9c179e"
             ],
             [
              0.4444444444444444,
              "#bd3786"
             ],
             [
              0.5555555555555556,
              "#d8576b"
             ],
             [
              0.6666666666666666,
              "#ed7953"
             ],
             [
              0.7777777777777778,
              "#fb9f3a"
             ],
             [
              0.8888888888888888,
              "#fdca26"
             ],
             [
              1,
              "#f0f921"
             ]
            ],
            "type": "heatmap"
           }
          ],
          "heatmapgl": [
           {
            "colorbar": {
             "outlinewidth": 0,
             "ticks": ""
            },
            "colorscale": [
             [
              0,
              "#0d0887"
             ],
             [
              0.1111111111111111,
              "#46039f"
             ],
             [
              0.2222222222222222,
              "#7201a8"
             ],
             [
              0.3333333333333333,
              "#9c179e"
             ],
             [
              0.4444444444444444,
              "#bd3786"
             ],
             [
              0.5555555555555556,
              "#d8576b"
             ],
             [
              0.6666666666666666,
              "#ed7953"
             ],
             [
              0.7777777777777778,
              "#fb9f3a"
             ],
             [
              0.8888888888888888,
              "#fdca26"
             ],
             [
              1,
              "#f0f921"
             ]
            ],
            "type": "heatmapgl"
           }
          ],
          "histogram": [
           {
            "marker": {
             "pattern": {
              "fillmode": "overlay",
              "size": 10,
              "solidity": 0.2
             }
            },
            "type": "histogram"
           }
          ],
          "histogram2d": [
           {
            "colorbar": {
             "outlinewidth": 0,
             "ticks": ""
            },
            "colorscale": [
             [
              0,
              "#0d0887"
             ],
             [
              0.1111111111111111,
              "#46039f"
             ],
             [
              0.2222222222222222,
              "#7201a8"
             ],
             [
              0.3333333333333333,
              "#9c179e"
             ],
             [
              0.4444444444444444,
              "#bd3786"
             ],
             [
              0.5555555555555556,
              "#d8576b"
             ],
             [
              0.6666666666666666,
              "#ed7953"
             ],
             [
              0.7777777777777778,
              "#fb9f3a"
             ],
             [
              0.8888888888888888,
              "#fdca26"
             ],
             [
              1,
              "#f0f921"
             ]
            ],
            "type": "histogram2d"
           }
          ],
          "histogram2dcontour": [
           {
            "colorbar": {
             "outlinewidth": 0,
             "ticks": ""
            },
            "colorscale": [
             [
              0,
              "#0d0887"
             ],
             [
              0.1111111111111111,
              "#46039f"
             ],
             [
              0.2222222222222222,
              "#7201a8"
             ],
             [
              0.3333333333333333,
              "#9c179e"
             ],
             [
              0.4444444444444444,
              "#bd3786"
             ],
             [
              0.5555555555555556,
              "#d8576b"
             ],
             [
              0.6666666666666666,
              "#ed7953"
             ],
             [
              0.7777777777777778,
              "#fb9f3a"
             ],
             [
              0.8888888888888888,
              "#fdca26"
             ],
             [
              1,
              "#f0f921"
             ]
            ],
            "type": "histogram2dcontour"
           }
          ],
          "mesh3d": [
           {
            "colorbar": {
             "outlinewidth": 0,
             "ticks": ""
            },
            "type": "mesh3d"
           }
          ],
          "parcoords": [
           {
            "line": {
             "colorbar": {
              "outlinewidth": 0,
              "ticks": ""
             }
            },
            "type": "parcoords"
           }
          ],
          "pie": [
           {
            "automargin": true,
            "type": "pie"
           }
          ],
          "scatter": [
           {
            "marker": {
             "colorbar": {
              "outlinewidth": 0,
              "ticks": ""
             }
            },
            "type": "scatter"
           }
          ],
          "scatter3d": [
           {
            "line": {
             "colorbar": {
              "outlinewidth": 0,
              "ticks": ""
             }
            },
            "marker": {
             "colorbar": {
              "outlinewidth": 0,
              "ticks": ""
             }
            },
            "type": "scatter3d"
           }
          ],
          "scattercarpet": [
           {
            "marker": {
             "colorbar": {
              "outlinewidth": 0,
              "ticks": ""
             }
            },
            "type": "scattercarpet"
           }
          ],
          "scattergeo": [
           {
            "marker": {
             "colorbar": {
              "outlinewidth": 0,
              "ticks": ""
             }
            },
            "type": "scattergeo"
           }
          ],
          "scattergl": [
           {
            "marker": {
             "colorbar": {
              "outlinewidth": 0,
              "ticks": ""
             }
            },
            "type": "scattergl"
           }
          ],
          "scattermapbox": [
           {
            "marker": {
             "colorbar": {
              "outlinewidth": 0,
              "ticks": ""
             }
            },
            "type": "scattermapbox"
           }
          ],
          "scatterpolar": [
           {
            "marker": {
             "colorbar": {
              "outlinewidth": 0,
              "ticks": ""
             }
            },
            "type": "scatterpolar"
           }
          ],
          "scatterpolargl": [
           {
            "marker": {
             "colorbar": {
              "outlinewidth": 0,
              "ticks": ""
             }
            },
            "type": "scatterpolargl"
           }
          ],
          "scatterternary": [
           {
            "marker": {
             "colorbar": {
              "outlinewidth": 0,
              "ticks": ""
             }
            },
            "type": "scatterternary"
           }
          ],
          "surface": [
           {
            "colorbar": {
             "outlinewidth": 0,
             "ticks": ""
            },
            "colorscale": [
             [
              0,
              "#0d0887"
             ],
             [
              0.1111111111111111,
              "#46039f"
             ],
             [
              0.2222222222222222,
              "#7201a8"
             ],
             [
              0.3333333333333333,
              "#9c179e"
             ],
             [
              0.4444444444444444,
              "#bd3786"
             ],
             [
              0.5555555555555556,
              "#d8576b"
             ],
             [
              0.6666666666666666,
              "#ed7953"
             ],
             [
              0.7777777777777778,
              "#fb9f3a"
             ],
             [
              0.8888888888888888,
              "#fdca26"
             ],
             [
              1,
              "#f0f921"
             ]
            ],
            "type": "surface"
           }
          ],
          "table": [
           {
            "cells": {
             "fill": {
              "color": "#EBF0F8"
             },
             "line": {
              "color": "white"
             }
            },
            "header": {
             "fill": {
              "color": "#C8D4E3"
             },
             "line": {
              "color": "white"
             }
            },
            "type": "table"
           }
          ]
         },
         "layout": {
          "annotationdefaults": {
           "arrowcolor": "#2a3f5f",
           "arrowhead": 0,
           "arrowwidth": 1
          },
          "autotypenumbers": "strict",
          "coloraxis": {
           "colorbar": {
            "outlinewidth": 0,
            "ticks": ""
           }
          },
          "colorscale": {
           "diverging": [
            [
             0,
             "#8e0152"
            ],
            [
             0.1,
             "#c51b7d"
            ],
            [
             0.2,
             "#de77ae"
            ],
            [
             0.3,
             "#f1b6da"
            ],
            [
             0.4,
             "#fde0ef"
            ],
            [
             0.5,
             "#f7f7f7"
            ],
            [
             0.6,
             "#e6f5d0"
            ],
            [
             0.7,
             "#b8e186"
            ],
            [
             0.8,
             "#7fbc41"
            ],
            [
             0.9,
             "#4d9221"
            ],
            [
             1,
             "#276419"
            ]
           ],
           "sequential": [
            [
             0,
             "#0d0887"
            ],
            [
             0.1111111111111111,
             "#46039f"
            ],
            [
             0.2222222222222222,
             "#7201a8"
            ],
            [
             0.3333333333333333,
             "#9c179e"
            ],
            [
             0.4444444444444444,
             "#bd3786"
            ],
            [
             0.5555555555555556,
             "#d8576b"
            ],
            [
             0.6666666666666666,
             "#ed7953"
            ],
            [
             0.7777777777777778,
             "#fb9f3a"
            ],
            [
             0.8888888888888888,
             "#fdca26"
            ],
            [
             1,
             "#f0f921"
            ]
           ],
           "sequentialminus": [
            [
             0,
             "#0d0887"
            ],
            [
             0.1111111111111111,
             "#46039f"
            ],
            [
             0.2222222222222222,
             "#7201a8"
            ],
            [
             0.3333333333333333,
             "#9c179e"
            ],
            [
             0.4444444444444444,
             "#bd3786"
            ],
            [
             0.5555555555555556,
             "#d8576b"
            ],
            [
             0.6666666666666666,
             "#ed7953"
            ],
            [
             0.7777777777777778,
             "#fb9f3a"
            ],
            [
             0.8888888888888888,
             "#fdca26"
            ],
            [
             1,
             "#f0f921"
            ]
           ]
          },
          "colorway": [
           "#636efa",
           "#EF553B",
           "#00cc96",
           "#ab63fa",
           "#FFA15A",
           "#19d3f3",
           "#FF6692",
           "#B6E880",
           "#FF97FF",
           "#FECB52"
          ],
          "font": {
           "color": "#2a3f5f"
          },
          "geo": {
           "bgcolor": "white",
           "lakecolor": "white",
           "landcolor": "#E5ECF6",
           "showlakes": true,
           "showland": true,
           "subunitcolor": "white"
          },
          "hoverlabel": {
           "align": "left"
          },
          "hovermode": "closest",
          "mapbox": {
           "style": "light"
          },
          "paper_bgcolor": "white",
          "plot_bgcolor": "#E5ECF6",
          "polar": {
           "angularaxis": {
            "gridcolor": "white",
            "linecolor": "white",
            "ticks": ""
           },
           "bgcolor": "#E5ECF6",
           "radialaxis": {
            "gridcolor": "white",
            "linecolor": "white",
            "ticks": ""
           }
          },
          "scene": {
           "xaxis": {
            "backgroundcolor": "#E5ECF6",
            "gridcolor": "white",
            "gridwidth": 2,
            "linecolor": "white",
            "showbackground": true,
            "ticks": "",
            "zerolinecolor": "white"
           },
           "yaxis": {
            "backgroundcolor": "#E5ECF6",
            "gridcolor": "white",
            "gridwidth": 2,
            "linecolor": "white",
            "showbackground": true,
            "ticks": "",
            "zerolinecolor": "white"
           },
           "zaxis": {
            "backgroundcolor": "#E5ECF6",
            "gridcolor": "white",
            "gridwidth": 2,
            "linecolor": "white",
            "showbackground": true,
            "ticks": "",
            "zerolinecolor": "white"
           }
          },
          "shapedefaults": {
           "line": {
            "color": "#2a3f5f"
           }
          },
          "ternary": {
           "aaxis": {
            "gridcolor": "white",
            "linecolor": "white",
            "ticks": ""
           },
           "baxis": {
            "gridcolor": "white",
            "linecolor": "white",
            "ticks": ""
           },
           "bgcolor": "#E5ECF6",
           "caxis": {
            "gridcolor": "white",
            "linecolor": "white",
            "ticks": ""
           }
          },
          "title": {
           "x": 0.05
          },
          "xaxis": {
           "automargin": true,
           "gridcolor": "white",
           "linecolor": "white",
           "ticks": "",
           "title": {
            "standoff": 15
           },
           "zerolinecolor": "white",
           "zerolinewidth": 2
          },
          "yaxis": {
           "automargin": true,
           "gridcolor": "white",
           "linecolor": "white",
           "ticks": "",
           "title": {
            "standoff": 15
           },
           "zerolinecolor": "white",
           "zerolinewidth": 2
          }
         }
        },
        "xaxis": {
         "anchor": "y",
         "domain": [
          0,
          1
         ],
         "title": {
          "text": "Week"
         }
        },
        "yaxis": {
         "anchor": "x",
         "domain": [
          0,
          1
         ],
         "title": {
          "text": "Difference"
         }
        }
       }
      }
     },
     "metadata": {},
     "output_type": "display_data"
    }
   ],
   "source": [
    "plot = px.scatter(test_df, x = 'Week', y = 'Difference', color = 'Team')\n",
    "plot.show()"
   ]
  },
  {
   "cell_type": "code",
   "execution_count": null,
   "id": "d3679db8",
   "metadata": {},
   "outputs": [],
   "source": []
  },
  {
   "cell_type": "code",
   "execution_count": null,
   "id": "1f9c6c3a",
   "metadata": {},
   "outputs": [],
   "source": []
  },
  {
   "cell_type": "code",
   "execution_count": null,
   "id": "e765e414",
   "metadata": {},
   "outputs": [],
   "source": []
  },
  {
   "cell_type": "code",
   "execution_count": null,
   "id": "0ee2fcf1",
   "metadata": {},
   "outputs": [],
   "source": []
  },
  {
   "cell_type": "code",
   "execution_count": null,
   "id": "7f4be4e7",
   "metadata": {},
   "outputs": [],
   "source": []
  },
  {
   "cell_type": "code",
   "execution_count": null,
   "id": "e5620bd0",
   "metadata": {},
   "outputs": [],
   "source": []
  },
  {
   "cell_type": "code",
   "execution_count": null,
   "id": "42540c05",
   "metadata": {},
   "outputs": [],
   "source": []
  },
  {
   "cell_type": "code",
   "execution_count": null,
   "id": "1576a902",
   "metadata": {},
   "outputs": [],
   "source": []
  },
  {
   "cell_type": "code",
   "execution_count": null,
   "id": "bdba7ec2",
   "metadata": {},
   "outputs": [],
   "source": []
  },
  {
   "cell_type": "code",
   "execution_count": null,
   "id": "ab5e6976",
   "metadata": {},
   "outputs": [],
   "source": []
  }
 ],
 "metadata": {
  "kernelspec": {
   "display_name": "Python 3.9.12 ('base')",
   "language": "python",
   "name": "python3"
  },
  "language_info": {
   "codemirror_mode": {
    "name": "ipython",
    "version": 3
   },
   "file_extension": ".py",
   "mimetype": "text/x-python",
   "name": "python",
   "nbconvert_exporter": "python",
   "pygments_lexer": "ipython3",
   "version": "3.9.12"
  },
  "vscode": {
   "interpreter": {
    "hash": "33a11755222a1f7d86ea2cf2f4dfdec365d04f7453605f968c7500575cda950b"
   }
  }
 },
 "nbformat": 4,
 "nbformat_minor": 5
}
