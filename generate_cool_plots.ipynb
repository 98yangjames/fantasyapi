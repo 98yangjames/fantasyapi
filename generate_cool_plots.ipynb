{
 "cells": [
  {
   "cell_type": "code",
   "execution_count": 2,
   "metadata": {},
   "outputs": [],
   "source": [
    "import pandas as pd\n",
    "import plotly.express as px"
   ]
  },
  {
   "cell_type": "code",
   "execution_count": 3,
   "metadata": {},
   "outputs": [
    {
     "data": {
      "text/html": [
       "<div>\n",
       "<style scoped>\n",
       "    .dataframe tbody tr th:only-of-type {\n",
       "        vertical-align: middle;\n",
       "    }\n",
       "\n",
       "    .dataframe tbody tr th {\n",
       "        vertical-align: top;\n",
       "    }\n",
       "\n",
       "    .dataframe thead th {\n",
       "        text-align: right;\n",
       "    }\n",
       "</style>\n",
       "<table border=\"1\" class=\"dataframe\">\n",
       "  <thead>\n",
       "    <tr style=\"text-align: right;\">\n",
       "      <th></th>\n",
       "      <th>Unnamed: 0</th>\n",
       "      <th>Team</th>\n",
       "      <th>Player</th>\n",
       "      <th>Average Scored Points</th>\n",
       "      <th>Average Projected Points</th>\n",
       "      <th>Position</th>\n",
       "      <th>Length of Ownership</th>\n",
       "      <th>Residual</th>\n",
       "    </tr>\n",
       "  </thead>\n",
       "  <tbody>\n",
       "    <tr>\n",
       "      <th>0</th>\n",
       "      <td>0</td>\n",
       "      <td>Couv Reigning Champ</td>\n",
       "      <td>Dalvin Cook</td>\n",
       "      <td>11.96</td>\n",
       "      <td>14.87</td>\n",
       "      <td>RB</td>\n",
       "      <td>17</td>\n",
       "      <td>-2.91</td>\n",
       "    </tr>\n",
       "    <tr>\n",
       "      <th>1</th>\n",
       "      <td>1</td>\n",
       "      <td>Couv Reigning Champ</td>\n",
       "      <td>D'Andre Swift</td>\n",
       "      <td>15.35</td>\n",
       "      <td>11.13</td>\n",
       "      <td>RB</td>\n",
       "      <td>10</td>\n",
       "      <td>4.22</td>\n",
       "    </tr>\n",
       "    <tr>\n",
       "      <th>2</th>\n",
       "      <td>2</td>\n",
       "      <td>Couv Reigning Champ</td>\n",
       "      <td>Javonte Williams</td>\n",
       "      <td>14.65</td>\n",
       "      <td>15.65</td>\n",
       "      <td>RB</td>\n",
       "      <td>4</td>\n",
       "      <td>-1.00</td>\n",
       "    </tr>\n",
       "    <tr>\n",
       "      <th>3</th>\n",
       "      <td>3</td>\n",
       "      <td>Couv Reigning Champ</td>\n",
       "      <td>Michael Pittman Jr.</td>\n",
       "      <td>12.31</td>\n",
       "      <td>11.86</td>\n",
       "      <td>WR</td>\n",
       "      <td>17</td>\n",
       "      <td>0.45</td>\n",
       "    </tr>\n",
       "    <tr>\n",
       "      <th>4</th>\n",
       "      <td>4</td>\n",
       "      <td>Couv Reigning Champ</td>\n",
       "      <td>Jaylen Waddle</td>\n",
       "      <td>16.52</td>\n",
       "      <td>12.74</td>\n",
       "      <td>WR</td>\n",
       "      <td>17</td>\n",
       "      <td>3.78</td>\n",
       "    </tr>\n",
       "    <tr>\n",
       "      <th>5</th>\n",
       "      <td>5</td>\n",
       "      <td>Couv Reigning Champ</td>\n",
       "      <td>Kyler Murray</td>\n",
       "      <td>17.73</td>\n",
       "      <td>16.75</td>\n",
       "      <td>QB</td>\n",
       "      <td>14</td>\n",
       "      <td>0.97</td>\n",
       "    </tr>\n",
       "    <tr>\n",
       "      <th>6</th>\n",
       "      <td>6</td>\n",
       "      <td>Couv Reigning Champ</td>\n",
       "      <td>Chris Godwin</td>\n",
       "      <td>9.34</td>\n",
       "      <td>9.63</td>\n",
       "      <td>WR</td>\n",
       "      <td>17</td>\n",
       "      <td>-0.29</td>\n",
       "    </tr>\n",
       "    <tr>\n",
       "      <th>7</th>\n",
       "      <td>7</td>\n",
       "      <td>Couv Reigning Champ</td>\n",
       "      <td>Rashod Bateman</td>\n",
       "      <td>10.72</td>\n",
       "      <td>8.80</td>\n",
       "      <td>WR</td>\n",
       "      <td>8</td>\n",
       "      <td>1.93</td>\n",
       "    </tr>\n",
       "    <tr>\n",
       "      <th>8</th>\n",
       "      <td>8</td>\n",
       "      <td>Couv Reigning Champ</td>\n",
       "      <td>Melvin Gordon III</td>\n",
       "      <td>8.07</td>\n",
       "      <td>9.42</td>\n",
       "      <td>RB</td>\n",
       "      <td>9</td>\n",
       "      <td>-1.36</td>\n",
       "    </tr>\n",
       "    <tr>\n",
       "      <th>9</th>\n",
       "      <td>9</td>\n",
       "      <td>Couv Reigning Champ</td>\n",
       "      <td>Christian Kirk</td>\n",
       "      <td>13.55</td>\n",
       "      <td>12.01</td>\n",
       "      <td>WR</td>\n",
       "      <td>17</td>\n",
       "      <td>1.54</td>\n",
       "    </tr>\n",
       "  </tbody>\n",
       "</table>\n",
       "</div>"
      ],
      "text/plain": [
       "   Unnamed: 0                 Team               Player  \\\n",
       "0           0  Couv Reigning Champ          Dalvin Cook   \n",
       "1           1  Couv Reigning Champ        D'Andre Swift   \n",
       "2           2  Couv Reigning Champ     Javonte Williams   \n",
       "3           3  Couv Reigning Champ  Michael Pittman Jr.   \n",
       "4           4  Couv Reigning Champ        Jaylen Waddle   \n",
       "5           5  Couv Reigning Champ         Kyler Murray   \n",
       "6           6  Couv Reigning Champ         Chris Godwin   \n",
       "7           7  Couv Reigning Champ       Rashod Bateman   \n",
       "8           8  Couv Reigning Champ    Melvin Gordon III   \n",
       "9           9  Couv Reigning Champ       Christian Kirk   \n",
       "\n",
       "   Average Scored Points  Average Projected Points Position  \\\n",
       "0                  11.96                     14.87       RB   \n",
       "1                  15.35                     11.13       RB   \n",
       "2                  14.65                     15.65       RB   \n",
       "3                  12.31                     11.86       WR   \n",
       "4                  16.52                     12.74       WR   \n",
       "5                  17.73                     16.75       QB   \n",
       "6                   9.34                      9.63       WR   \n",
       "7                  10.72                      8.80       WR   \n",
       "8                   8.07                      9.42       RB   \n",
       "9                  13.55                     12.01       WR   \n",
       "\n",
       "   Length of Ownership  Residual  \n",
       "0                   17     -2.91  \n",
       "1                   10      4.22  \n",
       "2                    4     -1.00  \n",
       "3                   17      0.45  \n",
       "4                   17      3.78  \n",
       "5                   14      0.97  \n",
       "6                   17     -0.29  \n",
       "7                    8      1.93  \n",
       "8                    9     -1.36  \n",
       "9                   17      1.54  "
      ]
     },
     "execution_count": 3,
     "metadata": {},
     "output_type": "execute_result"
    }
   ],
   "source": [
    "df = pd.read_csv('Data/fantasy_league_data/Average_Points_By_Ownership.csv')\n",
    "df = df.round(2)\n",
    "df.head(10)"
   ]
  },
  {
   "cell_type": "code",
   "execution_count": 4,
   "metadata": {},
   "outputs": [
    {
     "data": {
      "application/vnd.plotly.v1+json": {
       "config": {
        "plotlyServerURL": "https://plot.ly"
       },
       "data": [
        {
         "customdata": [
          [
           14.87,
           17,
           "Dalvin Cook"
          ],
          [
           11.13,
           10,
           "D'Andre Swift"
          ],
          [
           15.65,
           4,
           "Javonte Williams"
          ],
          [
           11.86,
           17,
           "Michael Pittman Jr."
          ],
          [
           12.74,
           17,
           "Jaylen Waddle"
          ],
          [
           16.75,
           14,
           "Kyler Murray"
          ],
          [
           9.63,
           17,
           "Chris Godwin"
          ],
          [
           8.8,
           8,
           "Rashod Bateman"
          ],
          [
           9.42,
           9,
           "Melvin Gordon III"
          ],
          [
           12.01,
           17,
           "Christian Kirk"
          ],
          [
           8.57,
           1,
           "Mike Gesicki"
          ],
          [
           4.59,
           6,
           "Alexander Mattison"
          ],
          [
           5.4,
           10,
           "Ravens D/ST"
          ],
          [
           8.6,
           7,
           "Nyheim Hines"
          ],
          [
           8.28,
           1,
           "Harrison Butker"
          ],
          [
           5.68,
           8,
           "Rondale Moore"
          ],
          [
           8.66,
           1,
           "Robert Tonyan"
          ],
          [
           1.47,
           4,
           "Gus Edwards"
          ],
          [
           11.2,
           6,
           "Pat Freiermuth"
          ],
          [
           17.88,
           1,
           "Derek Carr"
          ],
          [
           8.1,
           9,
           "Tyler Higbee"
          ],
          [
           8.82,
           1,
           "Albert Okwuegbunam"
          ],
          [
           7.69,
           1,
           "Cade York"
          ],
          [
           2.21,
           1,
           "Greg Dortch"
          ],
          [
           4.84,
           5,
           "Bills D/ST"
          ],
          [
           6.33,
           1,
           "Taysom Hill"
          ],
          [
           8.08,
           9,
           "Dalton Schultz"
          ],
          [
           15.6,
           7,
           "Alvin Kamara"
          ],
          [
           5.39,
           7,
           "Marquise Brown"
          ],
          [
           17.28,
           2,
           "Tom Brady"
          ],
          [
           8.01,
           8,
           "Ryan Succop"
          ],
          [
           6.38,
           4,
           "Eagles D/ST"
          ],
          [
           7.19,
           15,
           "Rachaad White"
          ],
          [
           7.71,
           8,
           "Isiah Pacheco"
          ],
          [
           10.13,
           2,
           "Alec Pierce"
          ],
          [
           3.42,
           2,
           "Jets D/ST"
          ],
          [
           11.11,
           4,
           "Joshua Palmer"
          ],
          [
           8.16,
           2,
           "Justin Fields"
          ],
          [
           5.38,
           2,
           "Seahawks D/ST"
          ],
          [
           16.91,
           1,
           "Daniel Jones"
          ],
          [
           17.09,
           4,
           "Trevor Lawrence"
          ],
          [
           6.63,
           3,
           "Joey Slye"
          ],
          [
           9.14,
           7,
           "D'Andre Swift"
          ],
          [
           8.18,
           9,
           "Harrison Butker"
          ],
          [
           5.12,
           2,
           "Rondale Moore"
          ],
          [
           19.78,
           11,
           "Austin Ekeler"
          ],
          [
           6.9,
           2,
           "Colts D/ST"
          ],
          [
           7.53,
           1,
           "Rams D/ST"
          ],
          [
           8.65,
           7,
           "Tyler Higbee"
          ],
          [
           7.36,
           11,
           "Noah Fant"
          ],
          [
           9,
           3,
           "Rex Burkhead"
          ],
          [
           13.95,
           6,
           "Cooper Kupp"
          ],
          [
           14.55,
           10,
           "Alvin Kamara"
          ],
          [
           13.77,
           17,
           "CeeDee Lamb"
          ],
          [
           13.56,
           17,
           "Tee Higgins"
          ],
          [
           7.48,
           17,
           "Cam Akers"
          ],
          [
           4.91,
           17,
           "Darren Waller"
          ],
          [
           6.59,
           10,
           "Marquise Brown"
          ],
          [
           14.67,
           15,
           "Tom Brady"
          ],
          [
           9.79,
           17,
           "Adam Thielen"
          ],
          [
           11.13,
           17,
           "Drake London"
          ],
          [
           1.87,
           17,
           "Kadarius Toney"
          ],
          [
           10.01,
           3,
           "Dak Prescott"
          ],
          [
           5.65,
           10,
           "Cowboys D/ST"
          ],
          [
           8.44,
           8,
           "Graham Gano"
          ],
          [
           2.59,
           5,
           "Mike Davis"
          ],
          [
           3.79,
           6,
           "Kenyan Drake"
          ],
          [
           5.64,
           5,
           "Chargers D/ST"
          ],
          [
           11.91,
           1,
           "Isaiah McKenzie"
          ],
          [
           5.03,
           6,
           "Bengals D/ST"
          ],
          [
           17.57,
           7,
           "Justin Fields"
          ],
          [
           7.61,
           1,
           "Chiefs D/ST"
          ],
          [
           0,
           1,
           "Melvin Gordon III"
          ],
          [
           5.29,
           3,
           "Buccaneers D/ST"
          ],
          [
           7.4,
           5,
           "AJ Dillon"
          ],
          [
           9.01,
           15,
           "Allen Lazard"
          ],
          [
           10,
           7,
           "Michael Carter"
          ],
          [
           7.78,
           8,
           "Tyler Bass"
          ],
          [
           7.39,
           3,
           "J.K. Dobbins"
          ],
          [
           17.01,
           14,
           "Joe Burrow"
          ],
          [
           6.64,
           2,
           "Saints D/ST"
          ],
          [
           6.28,
           3,
           "Taysom Hill"
          ],
          [
           13.02,
           17,
           "Leonard Fournette"
          ],
          [
           15.18,
           17,
           "Davante Adams"
          ],
          [
           10.2,
           17,
           "Mike Evans"
          ],
          [
           12.01,
           3,
           "Breece Hall"
          ],
          [
           6.75,
           14,
           "Brandin Cooks"
          ],
          [
           6.13,
           5,
           "Dalton Schultz"
          ],
          [
           12.15,
           17,
           "Devin Singletary"
          ],
          [
           11.64,
           17,
           "Amari Cooper"
          ],
          [
           11.94,
           3,
           "Russell Wilson"
          ],
          [
           5.81,
           17,
           "Cordarrelle Patterson"
          ],
          [
           11.19,
           10,
           "Zach Ertz"
          ],
          [
           7.71,
           9,
           "Evan McPherson"
          ],
          [
           5.65,
           4,
           "Patriots D/ST"
          ],
          [
           9.25,
           7,
           "J.D. McKissic"
          ],
          [
           7.67,
           1,
           "Texans D/ST"
          ],
          [
           8.7,
           1,
           "Tyler Conklin"
          ],
          [
           6.45,
           1,
           "Browns D/ST"
          ],
          [
           8.08,
           2,
           "Tyler Allgeier"
          ],
          [
           6.84,
           14,
           "Gerald Everett"
          ],
          [
           7.67,
           1,
           "Isaiah McKenzie"
          ],
          [
           6.38,
           1,
           "Bengals D/ST"
          ],
          [
           4.65,
           4,
           "Chuba Hubbard"
          ],
          [
           5.79,
           1,
           "Commanders D/ST"
          ],
          [
           5.8,
           1,
           "Seahawks D/ST"
          ],
          [
           10.4,
           2,
           "Tyler Boyd"
          ],
          [
           6.21,
           2,
           "Titans D/ST"
          ],
          [
           17.09,
           1,
           "Trevor Lawrence"
          ],
          [
           9.59,
           4,
           "Jerick McKinnon"
          ],
          [
           9.97,
           2,
           "Mack Hollins"
          ],
          [
           7.42,
           4,
           "Samaje Perine"
          ],
          [
           7.38,
           3,
           "Foster Moreau"
          ],
          [
           10.41,
           6,
           "Darius Slayton"
          ],
          [
           6.77,
           1,
           "Chiefs D/ST"
          ],
          [
           4.76,
           2,
           "Ravens D/ST"
          ],
          [
           8.1,
           2,
           "Harrison Butker"
          ],
          [
           5.08,
           8,
           "Buccaneers D/ST"
          ],
          [
           11.92,
           2,
           "Clyde Edwards-Helaire"
          ],
          [
           14.95,
           1,
           "Aaron Rodgers"
          ],
          [
           8.48,
           1,
           "Brandon McManus"
          ],
          [
           14.68,
           17,
           "Derrick Henry"
          ],
          [
           13.92,
           11,
           "Joe Mixon"
          ],
          [
           5.41,
           17,
           "Keenan Allen"
          ],
          [
           4.73,
           17,
           "Kyle Pitts"
          ],
          [
           12.51,
           17,
           "Diontae Johnson"
          ],
          [
           23.1,
           17,
           "Jalen Hurts"
          ],
          [
           13.56,
           17,
           "Amon-Ra St. Brown"
          ],
          [
           11.02,
           17,
           "JuJu Smith-Schuster"
          ],
          [
           11.92,
           17,
           "Tony Pollard"
          ],
          [
           5.44,
           11,
           "DeAndre Hopkins"
          ],
          [
           9.53,
           17,
           "Jamaal Williams"
          ],
          [
           5.91,
           5,
           "Saints D/ST"
          ],
          [
           8.43,
           5,
           "Matt Gay"
          ],
          [
           12.09,
           11,
           "Darrell Henderson Jr."
          ],
          [
           10.23,
           5,
           "Robbie Anderson"
          ],
          [
           2.2,
           8,
           "Jahan Dotson"
          ],
          [
           7.82,
           4,
           "Rams D/ST"
          ],
          [
           16.09,
           6,
           "Justin Jefferson"
          ],
          [
           6.92,
           6,
           "George Kittle"
          ],
          [
           8.36,
           3,
           "Graham Gano"
          ],
          [
           19.63,
           5,
           "Tua Tagovailoa"
          ],
          [
           8.2,
           2,
           "Tyler Conklin"
          ],
          [
           7.54,
           2,
           "Jaguars D/ST"
          ],
          [
           9.68,
           2,
           "Deon Jackson"
          ],
          [
           8.11,
           1,
           "Brett Maher"
          ],
          [
           0,
           8,
           "Odell Beckham Jr."
          ],
          [
           17.22,
           2,
           "Daniel Jones"
          ],
          [
           4.8,
           9,
           "Cairo Santos"
          ],
          [
           2.65,
           6,
           "Juwan Johnson"
          ],
          [
           0,
           2,
           "Matthew Wright"
          ],
          [
           8.48,
           5,
           "Nyheim Hines"
          ],
          [
           8.31,
           7,
           "Robert Tonyan"
          ],
          [
           20.06,
           17,
           "Christian McCaffrey"
          ],
          [
           18.98,
           17,
           "Stefon Diggs"
          ],
          [
           13.22,
           17,
           "Aaron Jones"
          ],
          [
           10.75,
           17,
           "Mike Williams"
          ],
          [
           12.57,
           17,
           "DJ Moore"
          ],
          [
           10.99,
           17,
           "Courtland Sutton"
          ],
          [
           8.65,
           13,
           "Allen Robinson II"
          ],
          [
           11.5,
           5,
           "Rashaad Penny"
          ],
          [
           17.51,
           2,
           "Trey Lance"
          ],
          [
           7.77,
           12,
           "Chase Edmonds"
          ],
          [
           8.03,
           9,
           "Cole Kmet"
          ],
          [
           4.95,
           1,
           "Buccaneers D/ST"
          ],
          [
           5.74,
           2,
           "Robert Woods"
          ],
          [
           7.17,
           17,
           "Daniel Carlson"
          ],
          [
           10.18,
           3,
           "Marquez Valdes-Scantling"
          ],
          [
           1.43,
           17,
           "Jameson Williams"
          ],
          [
           8.55,
           1,
           "Raheem Mostert"
          ],
          [
           15.99,
           1,
           "Derek Carr"
          ],
          [
           7.53,
           1,
           "Rams D/ST"
          ],
          [
           5.65,
           11,
           "Patriots D/ST"
          ],
          [
           7.61,
           5,
           "Brian Robinson Jr."
          ],
          [
           10.34,
           16,
           "Jeff Wilson Jr."
          ],
          [
           6.04,
           2,
           "Browns D/ST"
          ],
          [
           8.86,
           7,
           "Evan Engram"
          ],
          [
           9.45,
           5,
           "Zay Jones"
          ],
          [
           14.85,
           9,
           "Jared Goff"
          ],
          [
           6.65,
           10,
           "Eagles D/ST"
          ],
          [
           7.75,
           1,
           "Jaguars D/ST"
          ],
          [
           16.32,
           2,
           "Kirk Cousins"
          ],
          [
           0,
           1,
           "Jason Myers"
          ],
          [
           8.16,
           1,
           "Hayden Hurst"
          ],
          [
           6.85,
           1,
           "Bengals D/ST"
          ],
          [
           7.39,
           6,
           "Greg Dulcich"
          ],
          [
           15.24,
           4,
           "Jimmy Garoppolo"
          ],
          [
           0,
           4,
           "Nico Collins"
          ],
          [
           5.44,
           2,
           "Buccaneers D/ST"
          ],
          [
           19.44,
           6,
           "Austin Ekeler"
          ],
          [
           13.2,
           17,
           "Mark Andrews"
          ],
          [
           19.48,
           12,
           "Saquon Barkley"
          ],
          [
           14.12,
           17,
           "A.J. Brown"
          ],
          [
           15.92,
           17,
           "Lamar Jackson"
          ],
          [
           9.34,
           13,
           "Jerry Jeudy"
          ],
          [
           10.25,
           12,
           "AJ Dillon"
          ],
          [
           6.34,
           8,
           "Michael Thomas"
          ],
          [
           12.28,
           6,
           "Clyde Edwards-Helaire"
          ],
          [
           5.68,
           2,
           "Allen Lazard"
          ],
          [
           8.09,
           17,
           "Kenneth Walker III"
          ],
          [
           13.05,
           15,
           "Dameon Pierce"
          ],
          [
           6.52,
           8,
           "Treylon Burks"
          ],
          [
           11.67,
           4,
           "Michael Carter"
          ],
          [
           6.9,
           2,
           "Colts D/ST"
          ],
          [
           0,
           6,
           "Gus Edwards"
          ],
          [
           7.76,
           6,
           "Tyler Bass"
          ],
          [
           10.59,
           2,
           "Darnell Mooney"
          ],
          [
           10.83,
           1,
           "Jakobi Meyers"
          ],
          [
           6.39,
           5,
           "Deebo Samuel"
          ],
          [
           13.39,
           5,
           "David Montgomery"
          ],
          [
           7.02,
           2,
           "Taysom Hill"
          ],
          [
           14.64,
           7,
           "Geno Smith"
          ],
          [
           12.77,
           8,
           "Cooper Kupp"
          ],
          [
           4.73,
           7,
           "Cowboys D/ST"
          ],
          [
           11.6,
           3,
           "Khalil Herbert"
          ],
          [
           5.63,
           1,
           "Browns D/ST"
          ],
          [
           9.18,
           5,
           "Zay Jones"
          ],
          [
           11.37,
           4,
           "Romeo Doubs"
          ],
          [
           10.94,
           3,
           "Tyler Allgeier"
          ],
          [
           6.48,
           2,
           "Vikings D/ST"
          ],
          [
           8.03,
           3,
           "Isiah Pacheco"
          ],
          [
           17.42,
           4,
           "Kirk Cousins"
          ],
          [
           5.56,
           7,
           "Jason Myers"
          ],
          [
           9.68,
           2,
           "Deon Jackson"
          ],
          [
           5.22,
           4,
           "Jets D/ST"
          ],
          [
           6.74,
           4,
           "Wan'Dale Robinson"
          ],
          [
           7.44,
           3,
           "Eno Benjamin"
          ],
          [
           6.37,
           1,
           "Dolphins D/ST"
          ],
          [
           7.99,
           6,
           "Brett Maher"
          ],
          [
           11.11,
           10,
           "D'Onta Foreman"
          ],
          [
           0,
           1,
           "Chuba Hubbard"
          ],
          [
           6.28,
           3,
           "Greg Dulcich"
          ],
          [
           2.24,
           4,
           "Isaiah Likely"
          ],
          [
           17.22,
           2,
           "Daniel Jones"
          ],
          [
           6.21,
           1,
           "Titans D/ST"
          ],
          [
           11.88,
           5,
           "Zonovan Knight"
          ],
          [
           7.61,
           2,
           "Chiefs D/ST"
          ],
          [
           7.76,
           13,
           "Robert Woods"
          ],
          [
           8.33,
           5,
           "Marquez Valdes-Scantling"
          ],
          [
           18.59,
           5,
           "Saquon Barkley"
          ],
          [
           8.39,
           12,
           "Antonio Gibson"
          ],
          [
           8.17,
           12,
           "Jakobi Meyers"
          ],
          [
           9.76,
           12,
           "Deebo Samuel"
          ],
          [
           23.2,
           17,
           "Josh Allen"
          ],
          [
           10.18,
           17,
           "James Conner"
          ],
          [
           13.79,
           12,
           "David Montgomery"
          ],
          [
           0.53,
           17,
           "Elijah Mitchell"
          ],
          [
           10.57,
           17,
           "Gabe Davis"
          ],
          [
           7.14,
           17,
           "Justin Tucker"
          ],
          [
           7.16,
           17,
           "Dallas Goedert"
          ],
          [
           5.72,
           13,
           "Damien Harris"
          ],
          [
           11.05,
           6,
           "Elijah Moore"
          ],
          [
           8.25,
           17,
           "Dawson Knox"
          ],
          [
           10.88,
           5,
           "DJ Chark"
          ],
          [
           5.92,
           9,
           "Steelers D/ST"
          ],
          [
           7.31,
           3,
           "Noah Fant"
          ],
          [
           12.44,
           16,
           "Tyler Lockett"
          ],
          [
           2.95,
           1,
           "Tyrion Davis-Price"
          ],
          [
           18.39,
           4,
           "Matthew Stafford"
          ],
          [
           13.22,
           11,
           "Dak Prescott"
          ],
          [
           3.64,
           2,
           "Darrel Williams"
          ],
          [
           8.69,
           2,
           "Logan Thomas"
          ],
          [
           0,
           1,
           "Brian Robinson Jr."
          ],
          [
           16.48,
           1,
           "Kirk Cousins"
          ],
          [
           5,
           13,
           "Broncos D/ST"
          ],
          [
           4.94,
           1,
           "Dolphins D/ST"
          ],
          [
           7.57,
           2,
           "Cade Otton"
          ],
          [
           7.65,
           8,
           "Robbie Gould"
          ],
          [
           9.36,
           15,
           "Raheem Mostert"
          ],
          [
           17.43,
           5,
           "Derek Carr"
          ],
          [
           11.34,
           6,
           "Joe Mixon"
          ],
          [
           9.97,
           6,
           "DeAndre Hopkins"
          ],
          [
           5.43,
           3,
           "Saints D/ST"
          ],
          [
           5.89,
           2,
           "Greg Dortch"
          ],
          [
           10.5,
           1,
           "Tyler Lockett"
          ],
          [
           18.08,
           1,
           "Matthew Stafford"
          ],
          [
           17.58,
           11,
           "Justin Jefferson"
          ],
          [
           20.03,
           17,
           "Justin Herbert"
          ],
          [
           14.33,
           17,
           "Nick Chubb"
          ],
          [
           7.7,
           11,
           "George Kittle"
          ],
          [
           17.07,
           17,
           "Josh Jacobs"
          ],
          [
           15.13,
           17,
           "DK Metcalf"
          ],
          [
           11.69,
           17,
           "Miles Sanders"
          ],
          [
           7.8,
           17,
           "Nick Folk"
          ],
          [
           10.28,
           17,
           "Brandon Aiyuk"
          ],
          [
           5.18,
           11,
           "Bills D/ST"
          ],
          [
           7.93,
           2,
           "Hunter Henry"
          ],
          [
           8.56,
           3,
           "Rex Burkhead"
          ],
          [
           9.91,
           3,
           "Jarvis Landry"
          ],
          [
           6.51,
           1,
           "Taysom Hill"
          ],
          [
           19.63,
           1,
           "Geno Smith"
          ],
          [
           10.69,
           2,
           "Sterling Shepard"
          ],
          [
           7.89,
           1,
           "Graham Gano"
          ],
          [
           8.69,
           1,
           "Logan Thomas"
          ],
          [
           9.01,
           1,
           "Tyler Conklin"
          ],
          [
           7.41,
           3,
           "Evan Engram"
          ],
          [
           7.8,
           14,
           "David Njoku"
          ],
          [
           9.88,
           3,
           "Corey Davis"
          ],
          [
           6.33,
           2,
           "Will Dissly"
          ],
          [
           8.77,
           6,
           "Hayden Hurst"
          ],
          [
           6.18,
           3,
           "Dolphins D/ST"
          ],
          [
           0,
           2,
           "Joshua Kelley"
          ],
          [
           15.21,
           7,
           "Marcus Mariota"
          ],
          [
           5.89,
           1,
           "Bengals D/ST"
          ],
          [
           4.63,
           1,
           "James Cook"
          ],
          [
           8.66,
           1,
           "Joshua Palmer"
          ],
          [
           9.51,
           4,
           "Tyler Boyd"
          ],
          [
           9.52,
           10,
           "Parris Campbell"
          ],
          [
           9.63,
           7,
           "Donovan Peoples-Jones"
          ],
          [
           9.99,
           3,
           "Mack Hollins"
          ],
          [
           15.55,
           3,
           "Brock Purdy"
          ],
          [
           13.36,
           3,
           "Jerry Jeudy"
          ],
          [
           11.83,
           17,
           "Najee Harris"
          ],
          [
           11.87,
           17,
           "Ja'Marr Chase"
          ],
          [
           9.4,
           17,
           "Ezekiel Elliott"
          ],
          [
           6.33,
           7,
           "J.K. Dobbins"
          ],
          [
           12.1,
           17,
           "Travis Etienne Jr."
          ],
          [
           11.48,
           5,
           "Antonio Gibson"
          ],
          [
           10.93,
           3,
           "Darnell Mooney"
          ],
          [
           10.03,
           17,
           "T.J. Hockenson"
          ],
          [
           18.09,
           3,
           "Aaron Rodgers"
          ],
          [
           11.38,
           17,
           "Garrett Wilson"
          ],
          [
           7.81,
           17,
           "Chris Olave"
          ],
          [
           10.64,
           1,
           "Jakobi Meyers"
          ],
          [
           7,
           16,
           "49ers D/ST"
          ],
          [
           8.94,
           12,
           "James Robinson"
          ],
          [
           8.12,
           1,
           "Matt Prater"
          ],
          [
           8.63,
           14,
           "George Pickens"
          ],
          [
           17.28,
           5,
           "Geno Smith"
          ],
          [
           7.66,
           4,
           "Evan McPherson"
          ],
          [
           10.15,
           16,
           "Curtis Samuel"
          ],
          [
           7.89,
           12,
           "Younghoe Koo"
          ],
          [
           8.01,
           10,
           "Brian Robinson Jr."
          ],
          [
           19.35,
           8,
           "Tua Tagovailoa"
          ],
          [
           12.4,
           2,
           "Khalil Herbert"
          ],
          [
           9.01,
           1,
           "Tyler Conklin"
          ],
          [
           7.44,
           1,
           "Vikings D/ST"
          ],
          [
           9.42,
           1,
           "Hayden Hurst"
          ],
          [
           12.05,
           1,
           "Gerald Everett"
          ],
          [
           1.73,
           6,
           "Kyren Williams"
          ],
          [
           7.87,
           5,
           "James Cook"
          ],
          [
           4.9,
           1,
           "Caleb Huntley"
          ],
          [
           17.09,
           1,
           "Trevor Lawrence"
          ],
          [
           5.66,
           8,
           "Christian Watson"
          ],
          [
           12.24,
           7,
           "Latavius Murray"
          ],
          [
           16.19,
           5,
           "Deshaun Watson"
          ],
          [
           7.85,
           3,
           "Michael Carter"
          ],
          [
           2.64,
           6,
           "Gus Edwards"
          ],
          [
           5.81,
           2,
           "Darnell Mooney"
          ],
          [
           16.83,
           17,
           "Jonathan Taylor"
          ],
          [
           17.44,
           17,
           "Tyreek Hill"
          ],
          [
           17.44,
           17,
           "Travis Kelce"
          ],
          [
           22.63,
           17,
           "Patrick Mahomes"
          ],
          [
           13.76,
           17,
           "Terry McLaurin"
          ],
          [
           10.24,
           17,
           "Kareem Hunt"
          ],
          [
           5.77,
           8,
           "Hunter Renfrow"
          ],
          [
           11.16,
           17,
           "DeVonta Smith"
          ],
          [
           12.14,
           17,
           "Rhamondre Stevenson"
          ],
          [
           17.93,
           3,
           "Joe Burrow"
          ],
          [
           10.72,
           11,
           "Chase Claypool"
          ],
          [
           4.1,
           3,
           "Skyy Moore"
          ],
          [
           10.94,
           11,
           "Pat Freiermuth"
          ],
          [
           5.1,
           11,
           "Packers D/ST"
          ],
          [
           7.95,
           11,
           "Brandon McManus"
          ],
          [
           15.99,
           1,
           "Derek Carr"
          ],
          [
           6.03,
           5,
           "Julio Jones"
          ],
          [
           5.15,
           14,
           "Breece Hall"
          ],
          [
           13.4,
           4,
           "Russell Wilson"
          ],
          [
           3.79,
           6,
           "Kenyan Drake"
          ],
          [
           8.01,
           4,
           "Ryan Succop"
          ],
          [
           7.44,
           3,
           "Eno Benjamin"
          ],
          [
           3.68,
           12,
           "Josh Reynolds"
          ],
          [
           5.64,
           6,
           "Commanders D/ST"
          ],
          [
           11.06,
           6,
           "Joshua Palmer"
          ],
          [
           9.68,
           6,
           "Tyler Boyd"
          ],
          [
           17.53,
           1,
           "Daniel Jones"
          ],
          [
           5.01,
           3,
           "Riley Patterson"
          ],
          [
           5.52,
           4,
           "Raiders D/ST"
          ],
          [
           7.83,
           2,
           "Chase McLaughlin"
          ]
         ],
         "hovertemplate": "Team=%{x}<br>Average Scored Points=%{marker.color}<br>Average Projected Points=%{customdata[0]}<br>Length of Ownership=%{customdata[1]}<br>Player=%{customdata[2]}<extra></extra>",
         "legendgroup": "",
         "marker": {
          "color": [
           11.96,
           15.35,
           14.65,
           12.31,
           16.52,
           17.73,
           9.34,
           10.72,
           8.07,
           13.55,
           1.1,
           5,
           6.4,
           7.09,
           9,
           5.88,
           6.6,
           2.48,
           10.75,
           19.82,
           4.98,
           0,
           6,
           0,
           9.2,
           13.56,
           8.18,
           8.77,
           8.49,
           18.55,
           6.75,
           8.75,
           7.54,
           7.65,
           6.7,
           3,
           16.45,
           21.36,
           5.5,
           18.28,
           20.96,
           10.67,
           13.37,
           7.22,
           6.55,
           23.46,
           3.5,
           10,
           4.74,
           7.49,
           4.97,
           10.32,
           8.62,
           19.23,
           13.06,
           6.58,
           3.46,
           10.82,
           15.8,
           10.63,
           8.87,
           3.68,
           14.87,
           8.1,
           11.38,
           0,
           2.4,
           4.4,
           2.9,
           4.33,
           22.34,
           5,
           0,
           4.33,
           6.28,
           9.82,
           8.6,
           11.75,
           7.93,
           17.41,
           4.5,
           6.5,
           12.44,
           15.35,
           7.95,
           14.73,
           4.81,
           6.84,
           14.08,
           15.66,
           12.18,
           7.84,
           11.02,
           5.22,
           8,
           6.57,
           8,
           8.2,
           3,
           14.5,
           4.39,
           0,
           6,
           2.72,
           6,
           1,
           9.7,
           11,
           20.96,
           1.4,
           12.4,
           9.4,
           0,
           6.2,
           8,
           3.5,
           3.5,
           3.75,
           19.1,
           19.08,
           4,
           15.34,
           9.46,
           6.81,
           4.85,
           11.01,
           28.16,
           18.54,
           9.95,
           17.76,
           6.09,
           7.68,
           4.8,
           5.4,
           9.34,
           4.2,
           4.47,
           10.5,
           19.59,
           6.4,
           11.33,
           13.44,
           5.85,
           1,
           16,
           7,
           0,
           21.46,
           3.67,
           0,
           0,
           6.1,
           7.57,
           24.42,
           18.04,
           12.75,
           10.78,
           13.3,
           7.44,
           5.83,
           16.04,
           9.96,
           4.52,
           3.81,
           12,
           1.15,
           8.59,
           3.7,
           1.54,
           4.2,
           13.8,
           10,
           8.91,
           5.22,
           8.12,
           4,
           10.36,
           9.78,
           19.55,
           8.9,
           6,
           24.45,
           0,
           11.7,
           8,
           2.93,
           13.28,
           0,
           4.5,
           26.87,
           10.74,
           17.71,
           11.81,
           13.74,
           9.89,
           7.71,
           10.3,
           17.55,
           4.65,
           9.81,
           12.19,
           5.25,
           9.4,
           3.5,
           0,
           12.33,
           11.3,
           21,
           4.36,
           12.22,
           7.3,
           12.94,
           9.32,
           7.43,
           7.5,
           5,
           4.18,
           8.32,
           12.83,
           7,
           8.77,
           20.24,
           6.29,
           16,
           5.75,
           11,
           7.77,
           11,
           14.5,
           8.71,
           0,
           3.1,
           0.55,
           21.46,
           11,
           3.12,
           5,
           5.09,
           3.88,
           20.1,
           8.22,
           9.44,
           7.86,
           21.99,
           10.75,
           9.49,
           1.15,
           8.95,
           6.94,
           6.98,
           6.9,
           5.13,
           9.11,
           3.04,
           4.33,
           3.83,
           14.01,
           3.3,
           14.52,
           16.37,
           0.7,
           2.5,
           0,
           16.5,
           5.38,
           5,
           3.5,
           9.5,
           10.22,
           17.86,
           9.65,
           11.17,
           4.67,
           7.75,
           19.7,
           18.88,
           17.98,
           16.82,
           16.32,
           6.13,
           22.45,
           14.21,
           10.65,
           9.24,
           10.72,
           8.36,
           0,
           4.13,
           5.73,
           4.54,
           12.68,
           9.65,
           14,
           2.5,
           1.7,
           8.17,
           6.86,
           3.87,
           4.1,
           6.13,
           12,
           0,
           11.45,
           2,
           8.6,
           3.6,
           8.62,
           5.01,
           8.09,
           11.1,
           16.5,
           14.37,
           12.27,
           15.3,
           9.7,
           6.8,
           11.52,
           14.62,
           8.13,
           15.84,
           8.83,
           9.31,
           8.81,
           10.2,
           8.38,
           7.55,
           1,
           7.65,
           12.68,
           4.5,
           8.92,
           9.17,
           5.99,
           11.3,
           8.4,
           1.7,
           6,
           8.5,
           8.6,
           1.8,
           6.78,
           3.4,
           20.96,
           8,
           6.49,
           14.52,
           6.1,
           1.85,
           0.9,
           14.84,
           15.49,
           20.89,
           26.1,
           15.45,
           10.01,
           3.4,
           13.62,
           11.19,
           24.57,
           5.35,
           2,
           11.78,
           5.64,
           5.91,
           13.8,
           1.02,
           6.31,
           11.4,
           2.4,
           6.75,
           7.77,
           2.12,
           4.67,
           14.67,
           8.17,
           24.64,
           2,
           4,
           4
          ],
          "coloraxis": "coloraxis",
          "symbol": "circle"
         },
         "mode": "markers",
         "name": "",
         "orientation": "v",
         "showlegend": false,
         "type": "scatter",
         "x": [
          "Couv Reigning Champ",
          "Couv Reigning Champ",
          "Couv Reigning Champ",
          "Couv Reigning Champ",
          "Couv Reigning Champ",
          "Couv Reigning Champ",
          "Couv Reigning Champ",
          "Couv Reigning Champ",
          "Couv Reigning Champ",
          "Couv Reigning Champ",
          "Couv Reigning Champ",
          "Couv Reigning Champ",
          "Couv Reigning Champ",
          "Couv Reigning Champ",
          "Couv Reigning Champ",
          "Couv Reigning Champ",
          "Couv Reigning Champ",
          "Couv Reigning Champ",
          "Couv Reigning Champ",
          "Couv Reigning Champ",
          "Couv Reigning Champ",
          "Couv Reigning Champ",
          "Couv Reigning Champ",
          "Couv Reigning Champ",
          "Couv Reigning Champ",
          "Couv Reigning Champ",
          "Couv Reigning Champ",
          "Couv Reigning Champ",
          "Couv Reigning Champ",
          "Couv Reigning Champ",
          "Couv Reigning Champ",
          "Couv Reigning Champ",
          "Couv Reigning Champ",
          "Couv Reigning Champ",
          "Couv Reigning Champ",
          "Couv Reigning Champ",
          "Couv Reigning Champ",
          "Couv Reigning Champ",
          "Couv Reigning Champ",
          "Couv Reigning Champ",
          "Couv Reigning Champ",
          "Couv Reigning Champ",
          "Eugene Tweakers",
          "Eugene Tweakers",
          "Eugene Tweakers",
          "Eugene Tweakers",
          "Eugene Tweakers",
          "Eugene Tweakers",
          "Eugene Tweakers",
          "Eugene Tweakers",
          "Eugene Tweakers",
          "Eugene Tweakers",
          "Eugene Tweakers",
          "Eugene Tweakers",
          "Eugene Tweakers",
          "Eugene Tweakers",
          "Eugene Tweakers",
          "Eugene Tweakers",
          "Eugene Tweakers",
          "Eugene Tweakers",
          "Eugene Tweakers",
          "Eugene Tweakers",
          "Eugene Tweakers",
          "Eugene Tweakers",
          "Eugene Tweakers",
          "Eugene Tweakers",
          "Eugene Tweakers",
          "Eugene Tweakers",
          "Eugene Tweakers",
          "Eugene Tweakers",
          "Eugene Tweakers",
          "Eugene Tweakers",
          "I love kirk cousins",
          "I love kirk cousins",
          "I love kirk cousins",
          "I love kirk cousins",
          "I love kirk cousins",
          "I love kirk cousins",
          "I love kirk cousins",
          "I love kirk cousins",
          "I love kirk cousins",
          "I love kirk cousins",
          "I love kirk cousins",
          "I love kirk cousins",
          "I love kirk cousins",
          "I love kirk cousins",
          "I love kirk cousins",
          "I love kirk cousins",
          "I love kirk cousins",
          "I love kirk cousins",
          "I love kirk cousins",
          "I love kirk cousins",
          "I love kirk cousins",
          "I love kirk cousins",
          "I love kirk cousins",
          "I love kirk cousins",
          "I love kirk cousins",
          "I love kirk cousins",
          "I love kirk cousins",
          "I love kirk cousins",
          "I love kirk cousins",
          "I love kirk cousins",
          "I love kirk cousins",
          "I love kirk cousins",
          "I love kirk cousins",
          "I love kirk cousins",
          "I love kirk cousins",
          "I love kirk cousins",
          "I love kirk cousins",
          "I love kirk cousins",
          "I love kirk cousins",
          "I love kirk cousins",
          "I love kirk cousins",
          "I love kirk cousins",
          "I love kirk cousins",
          "Gorilla Guys",
          "Gorilla Guys",
          "Gorilla Guys",
          "Gorilla Guys",
          "Gorilla Guys",
          "Gorilla Guys",
          "Gorilla Guys",
          "Gorilla Guys",
          "Gorilla Guys",
          "Gorilla Guys",
          "Gorilla Guys",
          "Gorilla Guys",
          "Gorilla Guys",
          "Gorilla Guys",
          "Gorilla Guys",
          "Gorilla Guys",
          "Gorilla Guys",
          "Gorilla Guys",
          "Gorilla Guys",
          "Gorilla Guys",
          "Gorilla Guys",
          "Gorilla Guys",
          "Gorilla Guys",
          "Gorilla Guys",
          "Gorilla Guys",
          "Gorilla Guys",
          "Gorilla Guys",
          "Gorilla Guys",
          "Gorilla Guys",
          "Gorilla Guys",
          "Gorilla Guys",
          "Gorilla Guys",
          "Gorilla Guys",
          "Gorilla Guys",
          "Gorilla Guys",
          "Gorilla Guys",
          "Diggy Wit it",
          "Diggy Wit it",
          "Diggy Wit it",
          "Diggy Wit it",
          "Diggy Wit it",
          "Diggy Wit it",
          "Diggy Wit it",
          "Diggy Wit it",
          "Diggy Wit it",
          "Diggy Wit it",
          "Diggy Wit it",
          "Diggy Wit it",
          "Diggy Wit it",
          "Diggy Wit it",
          "Diggy Wit it",
          "Diggy Wit it",
          "Diggy Wit it",
          "Diggy Wit it",
          "Diggy Wit it",
          "Diggy Wit it",
          "Diggy Wit it",
          "Diggy Wit it",
          "Diggy Wit it",
          "Diggy Wit it",
          "Diggy Wit it",
          "Diggy Wit it",
          "Diggy Wit it",
          "Diggy Wit it",
          "Diggy Wit it",
          "Diggy Wit it",
          "Diggy Wit it",
          "Diggy Wit it",
          "Diggy Wit it",
          "Diggy Wit it",
          "Diggy Wit it",
          "Diggy Wit it",
          "Diggy Wit it",
          "I love  Tyler Higbee",
          "I love  Tyler Higbee",
          "I love  Tyler Higbee",
          "I love  Tyler Higbee",
          "I love  Tyler Higbee",
          "I love  Tyler Higbee",
          "I love  Tyler Higbee",
          "I love  Tyler Higbee",
          "I love  Tyler Higbee",
          "I love  Tyler Higbee",
          "I love  Tyler Higbee",
          "I love  Tyler Higbee",
          "I love  Tyler Higbee",
          "I love  Tyler Higbee",
          "I love  Tyler Higbee",
          "I love  Tyler Higbee",
          "I love  Tyler Higbee",
          "I love  Tyler Higbee",
          "I love  Tyler Higbee",
          "I love  Tyler Higbee",
          "I love  Tyler Higbee",
          "I love  Tyler Higbee",
          "I love  Tyler Higbee",
          "I love  Tyler Higbee",
          "I love  Tyler Higbee",
          "I love  Tyler Higbee",
          "I love  Tyler Higbee",
          "I love  Tyler Higbee",
          "I love  Tyler Higbee",
          "I love  Tyler Higbee",
          "I love  Tyler Higbee",
          "I love  Tyler Higbee",
          "I love  Tyler Higbee",
          "I love  Tyler Higbee",
          "I love  Tyler Higbee",
          "I love  Tyler Higbee",
          "I love  Tyler Higbee",
          "I love  Tyler Higbee",
          "I love  Tyler Higbee",
          "I love  Tyler Higbee",
          "I love  Tyler Higbee",
          "I love  Tyler Higbee",
          "I love  Tyler Higbee",
          "I love  Tyler Higbee",
          "I love  Tyler Higbee",
          "I love  Tyler Higbee",
          "I love  Tyler Higbee",
          "I love  Tyler Higbee",
          "I love  Tyler Higbee",
          "Cougar Town Zach Wilson",
          "Cougar Town Zach Wilson",
          "Cougar Town Zach Wilson",
          "Cougar Town Zach Wilson",
          "Cougar Town Zach Wilson",
          "Cougar Town Zach Wilson",
          "Cougar Town Zach Wilson",
          "Cougar Town Zach Wilson",
          "Cougar Town Zach Wilson",
          "Cougar Town Zach Wilson",
          "Cougar Town Zach Wilson",
          "Cougar Town Zach Wilson",
          "Cougar Town Zach Wilson",
          "Cougar Town Zach Wilson",
          "Cougar Town Zach Wilson",
          "Cougar Town Zach Wilson",
          "Cougar Town Zach Wilson",
          "Cougar Town Zach Wilson",
          "Cougar Town Zach Wilson",
          "Cougar Town Zach Wilson",
          "Cougar Town Zach Wilson",
          "Cougar Town Zach Wilson",
          "Cougar Town Zach Wilson",
          "Cougar Town Zach Wilson",
          "Cougar Town Zach Wilson",
          "Cougar Town Zach Wilson",
          "Cougar Town Zach Wilson",
          "Cougar Town Zach Wilson",
          "Cougar Town Zach Wilson",
          "Cougar Town Zach Wilson",
          "Cougar Town Zach Wilson",
          "Livin on A prayer ",
          "Livin on A prayer ",
          "Livin on A prayer ",
          "Livin on A prayer ",
          "Livin on A prayer ",
          "Livin on A prayer ",
          "Livin on A prayer ",
          "Livin on A prayer ",
          "Livin on A prayer ",
          "Livin on A prayer ",
          "Livin on A prayer ",
          "Livin on A prayer ",
          "Livin on A prayer ",
          "Livin on A prayer ",
          "Livin on A prayer ",
          "Livin on A prayer ",
          "Livin on A prayer ",
          "Livin on A prayer ",
          "Livin on A prayer ",
          "Livin on A prayer ",
          "Livin on A prayer ",
          "Livin on A prayer ",
          "Livin on A prayer ",
          "Livin on A prayer ",
          "Livin on A prayer ",
          "Livin on A prayer ",
          "Livin on A prayer ",
          "Livin on A prayer ",
          "Livin on A prayer ",
          "Livin on A prayer ",
          "Livin on A prayer ",
          "Livin on A prayer ",
          "Livin on A prayer ",
          "Livin on A prayer ",
          "Livin on A prayer ",
          "Livin on A prayer ",
          "Livin on A prayer ",
          "Livin on A prayer ",
          "Livin on A prayer ",
          "Livin on A prayer ",
          "Livin on A prayer ",
          "Livin on A prayer ",
          "Livin on A prayer ",
          "No Nyugen Will Win",
          "No Nyugen Will Win",
          "No Nyugen Will Win",
          "No Nyugen Will Win",
          "No Nyugen Will Win",
          "No Nyugen Will Win",
          "No Nyugen Will Win",
          "No Nyugen Will Win",
          "No Nyugen Will Win",
          "No Nyugen Will Win",
          "No Nyugen Will Win",
          "No Nyugen Will Win",
          "No Nyugen Will Win",
          "No Nyugen Will Win",
          "No Nyugen Will Win",
          "No Nyugen Will Win",
          "No Nyugen Will Win",
          "No Nyugen Will Win",
          "No Nyugen Will Win",
          "No Nyugen Will Win",
          "No Nyugen Will Win",
          "No Nyugen Will Win",
          "No Nyugen Will Win",
          "No Nyugen Will Win",
          "No Nyugen Will Win",
          "No Nyugen Will Win",
          "No Nyugen Will Win",
          "No Nyugen Will Win",
          "No Nyugen Will Win",
          "No Nyugen Will Win",
          "No Nyugen Will Win",
          "No Nyugen Will Win",
          "No Nyugen Will Win",
          "No Nyugen Will Win",
          "No Nyugen Will Win",
          "P-Town CASH KEVIN",
          "P-Town CASH KEVIN",
          "P-Town CASH KEVIN",
          "P-Town CASH KEVIN",
          "P-Town CASH KEVIN",
          "P-Town CASH KEVIN",
          "P-Town CASH KEVIN",
          "P-Town CASH KEVIN",
          "P-Town CASH KEVIN",
          "P-Town CASH KEVIN",
          "P-Town CASH KEVIN",
          "P-Town CASH KEVIN",
          "P-Town CASH KEVIN",
          "P-Town CASH KEVIN",
          "P-Town CASH KEVIN",
          "P-Town CASH KEVIN",
          "P-Town CASH KEVIN",
          "P-Town CASH KEVIN",
          "P-Town CASH KEVIN",
          "P-Town CASH KEVIN",
          "P-Town CASH KEVIN",
          "P-Town CASH KEVIN",
          "P-Town CASH KEVIN",
          "P-Town CASH KEVIN",
          "P-Town CASH KEVIN",
          "P-Town CASH KEVIN",
          "P-Town CASH KEVIN",
          "P-Town CASH KEVIN",
          "P-Town CASH KEVIN",
          "P-Town CASH KEVIN",
          "P-Town CASH KEVIN",
          "P-Town CASH KEVIN",
          "P-Town CASH KEVIN"
         ],
         "xaxis": "x",
         "y": [
          11.96,
          15.35,
          14.65,
          12.31,
          16.52,
          17.73,
          9.34,
          10.72,
          8.07,
          13.55,
          1.1,
          5,
          6.4,
          7.09,
          9,
          5.88,
          6.6,
          2.48,
          10.75,
          19.82,
          4.98,
          0,
          6,
          0,
          9.2,
          13.56,
          8.18,
          8.77,
          8.49,
          18.55,
          6.75,
          8.75,
          7.54,
          7.65,
          6.7,
          3,
          16.45,
          21.36,
          5.5,
          18.28,
          20.96,
          10.67,
          13.37,
          7.22,
          6.55,
          23.46,
          3.5,
          10,
          4.74,
          7.49,
          4.97,
          10.32,
          8.62,
          19.23,
          13.06,
          6.58,
          3.46,
          10.82,
          15.8,
          10.63,
          8.87,
          3.68,
          14.87,
          8.1,
          11.38,
          0,
          2.4,
          4.4,
          2.9,
          4.33,
          22.34,
          5,
          0,
          4.33,
          6.28,
          9.82,
          8.6,
          11.75,
          7.93,
          17.41,
          4.5,
          6.5,
          12.44,
          15.35,
          7.95,
          14.73,
          4.81,
          6.84,
          14.08,
          15.66,
          12.18,
          7.84,
          11.02,
          5.22,
          8,
          6.57,
          8,
          8.2,
          3,
          14.5,
          4.39,
          0,
          6,
          2.72,
          6,
          1,
          9.7,
          11,
          20.96,
          1.4,
          12.4,
          9.4,
          0,
          6.2,
          8,
          3.5,
          3.5,
          3.75,
          19.1,
          19.08,
          4,
          15.34,
          9.46,
          6.81,
          4.85,
          11.01,
          28.16,
          18.54,
          9.95,
          17.76,
          6.09,
          7.68,
          4.8,
          5.4,
          9.34,
          4.2,
          4.47,
          10.5,
          19.59,
          6.4,
          11.33,
          13.44,
          5.85,
          1,
          16,
          7,
          0,
          21.46,
          3.67,
          0,
          0,
          6.1,
          7.57,
          24.42,
          18.04,
          12.75,
          10.78,
          13.3,
          7.44,
          5.83,
          16.04,
          9.96,
          4.52,
          3.81,
          12,
          1.15,
          8.59,
          3.7,
          1.54,
          4.2,
          13.8,
          10,
          8.91,
          5.22,
          8.12,
          4,
          10.36,
          9.78,
          19.55,
          8.9,
          6,
          24.45,
          0,
          11.7,
          8,
          2.93,
          13.28,
          0,
          4.5,
          26.87,
          10.74,
          17.71,
          11.81,
          13.74,
          9.89,
          7.71,
          10.3,
          17.55,
          4.65,
          9.81,
          12.19,
          5.25,
          9.4,
          3.5,
          0,
          12.33,
          11.3,
          21,
          4.36,
          12.22,
          7.3,
          12.94,
          9.32,
          7.43,
          7.5,
          5,
          4.18,
          8.32,
          12.83,
          7,
          8.77,
          20.24,
          6.29,
          16,
          5.75,
          11,
          7.77,
          11,
          14.5,
          8.71,
          0,
          3.1,
          0.55,
          21.46,
          11,
          3.12,
          5,
          5.09,
          3.88,
          20.1,
          8.22,
          9.44,
          7.86,
          21.99,
          10.75,
          9.49,
          1.15,
          8.95,
          6.94,
          6.98,
          6.9,
          5.13,
          9.11,
          3.04,
          4.33,
          3.83,
          14.01,
          3.3,
          14.52,
          16.37,
          0.7,
          2.5,
          0,
          16.5,
          5.38,
          5,
          3.5,
          9.5,
          10.22,
          17.86,
          9.65,
          11.17,
          4.67,
          7.75,
          19.7,
          18.88,
          17.98,
          16.82,
          16.32,
          6.13,
          22.45,
          14.21,
          10.65,
          9.24,
          10.72,
          8.36,
          0,
          4.13,
          5.73,
          4.54,
          12.68,
          9.65,
          14,
          2.5,
          1.7,
          8.17,
          6.86,
          3.87,
          4.1,
          6.13,
          12,
          0,
          11.45,
          2,
          8.6,
          3.6,
          8.62,
          5.01,
          8.09,
          11.1,
          16.5,
          14.37,
          12.27,
          15.3,
          9.7,
          6.8,
          11.52,
          14.62,
          8.13,
          15.84,
          8.83,
          9.31,
          8.81,
          10.2,
          8.38,
          7.55,
          1,
          7.65,
          12.68,
          4.5,
          8.92,
          9.17,
          5.99,
          11.3,
          8.4,
          1.7,
          6,
          8.5,
          8.6,
          1.8,
          6.78,
          3.4,
          20.96,
          8,
          6.49,
          14.52,
          6.1,
          1.85,
          0.9,
          14.84,
          15.49,
          20.89,
          26.1,
          15.45,
          10.01,
          3.4,
          13.62,
          11.19,
          24.57,
          5.35,
          2,
          11.78,
          5.64,
          5.91,
          13.8,
          1.02,
          6.31,
          11.4,
          2.4,
          6.75,
          7.77,
          2.12,
          4.67,
          14.67,
          8.17,
          24.64,
          2,
          4,
          4
         ],
         "yaxis": "y"
        }
       ],
       "layout": {
        "coloraxis": {
         "colorbar": {
          "title": {
           "text": "Average Scored Points"
          }
         },
         "colorscale": [
          [
           0,
           "#0d0887"
          ],
          [
           0.1111111111111111,
           "#46039f"
          ],
          [
           0.2222222222222222,
           "#7201a8"
          ],
          [
           0.3333333333333333,
           "#9c179e"
          ],
          [
           0.4444444444444444,
           "#bd3786"
          ],
          [
           0.5555555555555556,
           "#d8576b"
          ],
          [
           0.6666666666666666,
           "#ed7953"
          ],
          [
           0.7777777777777778,
           "#fb9f3a"
          ],
          [
           0.8888888888888888,
           "#fdca26"
          ],
          [
           1,
           "#f0f921"
          ]
         ]
        },
        "legend": {
         "tracegroupgap": 0
        },
        "margin": {
         "t": 60
        },
        "shapes": [
         {
          "line": {
           "color": "Red",
           "dash": "dash"
          },
          "type": "line",
          "x0": 0,
          "x1": 1,
          "xref": "x domain",
          "y0": 9.113931398416886,
          "y1": 9.113931398416886,
          "yref": "y"
         }
        ],
        "template": {
         "data": {
          "bar": [
           {
            "error_x": {
             "color": "#2a3f5f"
            },
            "error_y": {
             "color": "#2a3f5f"
            },
            "marker": {
             "line": {
              "color": "#E5ECF6",
              "width": 0.5
             },
             "pattern": {
              "fillmode": "overlay",
              "size": 10,
              "solidity": 0.2
             }
            },
            "type": "bar"
           }
          ],
          "barpolar": [
           {
            "marker": {
             "line": {
              "color": "#E5ECF6",
              "width": 0.5
             },
             "pattern": {
              "fillmode": "overlay",
              "size": 10,
              "solidity": 0.2
             }
            },
            "type": "barpolar"
           }
          ],
          "carpet": [
           {
            "aaxis": {
             "endlinecolor": "#2a3f5f",
             "gridcolor": "white",
             "linecolor": "white",
             "minorgridcolor": "white",
             "startlinecolor": "#2a3f5f"
            },
            "baxis": {
             "endlinecolor": "#2a3f5f",
             "gridcolor": "white",
             "linecolor": "white",
             "minorgridcolor": "white",
             "startlinecolor": "#2a3f5f"
            },
            "type": "carpet"
           }
          ],
          "choropleth": [
           {
            "colorbar": {
             "outlinewidth": 0,
             "ticks": ""
            },
            "type": "choropleth"
           }
          ],
          "contour": [
           {
            "colorbar": {
             "outlinewidth": 0,
             "ticks": ""
            },
            "colorscale": [
             [
              0,
              "#0d0887"
             ],
             [
              0.1111111111111111,
              "#46039f"
             ],
             [
              0.2222222222222222,
              "#7201a8"
             ],
             [
              0.3333333333333333,
              "#9c179e"
             ],
             [
              0.4444444444444444,
              "#bd3786"
             ],
             [
              0.5555555555555556,
              "#d8576b"
             ],
             [
              0.6666666666666666,
              "#ed7953"
             ],
             [
              0.7777777777777778,
              "#fb9f3a"
             ],
             [
              0.8888888888888888,
              "#fdca26"
             ],
             [
              1,
              "#f0f921"
             ]
            ],
            "type": "contour"
           }
          ],
          "contourcarpet": [
           {
            "colorbar": {
             "outlinewidth": 0,
             "ticks": ""
            },
            "type": "contourcarpet"
           }
          ],
          "heatmap": [
           {
            "colorbar": {
             "outlinewidth": 0,
             "ticks": ""
            },
            "colorscale": [
             [
              0,
              "#0d0887"
             ],
             [
              0.1111111111111111,
              "#46039f"
             ],
             [
              0.2222222222222222,
              "#7201a8"
             ],
             [
              0.3333333333333333,
              "#9c179e"
             ],
             [
              0.4444444444444444,
              "#bd3786"
             ],
             [
              0.5555555555555556,
              "#d8576b"
             ],
             [
              0.6666666666666666,
              "#ed7953"
             ],
             [
              0.7777777777777778,
              "#fb9f3a"
             ],
             [
              0.8888888888888888,
              "#fdca26"
             ],
             [
              1,
              "#f0f921"
             ]
            ],
            "type": "heatmap"
           }
          ],
          "heatmapgl": [
           {
            "colorbar": {
             "outlinewidth": 0,
             "ticks": ""
            },
            "colorscale": [
             [
              0,
              "#0d0887"
             ],
             [
              0.1111111111111111,
              "#46039f"
             ],
             [
              0.2222222222222222,
              "#7201a8"
             ],
             [
              0.3333333333333333,
              "#9c179e"
             ],
             [
              0.4444444444444444,
              "#bd3786"
             ],
             [
              0.5555555555555556,
              "#d8576b"
             ],
             [
              0.6666666666666666,
              "#ed7953"
             ],
             [
              0.7777777777777778,
              "#fb9f3a"
             ],
             [
              0.8888888888888888,
              "#fdca26"
             ],
             [
              1,
              "#f0f921"
             ]
            ],
            "type": "heatmapgl"
           }
          ],
          "histogram": [
           {
            "marker": {
             "pattern": {
              "fillmode": "overlay",
              "size": 10,
              "solidity": 0.2
             }
            },
            "type": "histogram"
           }
          ],
          "histogram2d": [
           {
            "colorbar": {
             "outlinewidth": 0,
             "ticks": ""
            },
            "colorscale": [
             [
              0,
              "#0d0887"
             ],
             [
              0.1111111111111111,
              "#46039f"
             ],
             [
              0.2222222222222222,
              "#7201a8"
             ],
             [
              0.3333333333333333,
              "#9c179e"
             ],
             [
              0.4444444444444444,
              "#bd3786"
             ],
             [
              0.5555555555555556,
              "#d8576b"
             ],
             [
              0.6666666666666666,
              "#ed7953"
             ],
             [
              0.7777777777777778,
              "#fb9f3a"
             ],
             [
              0.8888888888888888,
              "#fdca26"
             ],
             [
              1,
              "#f0f921"
             ]
            ],
            "type": "histogram2d"
           }
          ],
          "histogram2dcontour": [
           {
            "colorbar": {
             "outlinewidth": 0,
             "ticks": ""
            },
            "colorscale": [
             [
              0,
              "#0d0887"
             ],
             [
              0.1111111111111111,
              "#46039f"
             ],
             [
              0.2222222222222222,
              "#7201a8"
             ],
             [
              0.3333333333333333,
              "#9c179e"
             ],
             [
              0.4444444444444444,
              "#bd3786"
             ],
             [
              0.5555555555555556,
              "#d8576b"
             ],
             [
              0.6666666666666666,
              "#ed7953"
             ],
             [
              0.7777777777777778,
              "#fb9f3a"
             ],
             [
              0.8888888888888888,
              "#fdca26"
             ],
             [
              1,
              "#f0f921"
             ]
            ],
            "type": "histogram2dcontour"
           }
          ],
          "mesh3d": [
           {
            "colorbar": {
             "outlinewidth": 0,
             "ticks": ""
            },
            "type": "mesh3d"
           }
          ],
          "parcoords": [
           {
            "line": {
             "colorbar": {
              "outlinewidth": 0,
              "ticks": ""
             }
            },
            "type": "parcoords"
           }
          ],
          "pie": [
           {
            "automargin": true,
            "type": "pie"
           }
          ],
          "scatter": [
           {
            "marker": {
             "colorbar": {
              "outlinewidth": 0,
              "ticks": ""
             }
            },
            "type": "scatter"
           }
          ],
          "scatter3d": [
           {
            "line": {
             "colorbar": {
              "outlinewidth": 0,
              "ticks": ""
             }
            },
            "marker": {
             "colorbar": {
              "outlinewidth": 0,
              "ticks": ""
             }
            },
            "type": "scatter3d"
           }
          ],
          "scattercarpet": [
           {
            "marker": {
             "colorbar": {
              "outlinewidth": 0,
              "ticks": ""
             }
            },
            "type": "scattercarpet"
           }
          ],
          "scattergeo": [
           {
            "marker": {
             "colorbar": {
              "outlinewidth": 0,
              "ticks": ""
             }
            },
            "type": "scattergeo"
           }
          ],
          "scattergl": [
           {
            "marker": {
             "colorbar": {
              "outlinewidth": 0,
              "ticks": ""
             }
            },
            "type": "scattergl"
           }
          ],
          "scattermapbox": [
           {
            "marker": {
             "colorbar": {
              "outlinewidth": 0,
              "ticks": ""
             }
            },
            "type": "scattermapbox"
           }
          ],
          "scatterpolar": [
           {
            "marker": {
             "colorbar": {
              "outlinewidth": 0,
              "ticks": ""
             }
            },
            "type": "scatterpolar"
           }
          ],
          "scatterpolargl": [
           {
            "marker": {
             "colorbar": {
              "outlinewidth": 0,
              "ticks": ""
             }
            },
            "type": "scatterpolargl"
           }
          ],
          "scatterternary": [
           {
            "marker": {
             "colorbar": {
              "outlinewidth": 0,
              "ticks": ""
             }
            },
            "type": "scatterternary"
           }
          ],
          "surface": [
           {
            "colorbar": {
             "outlinewidth": 0,
             "ticks": ""
            },
            "colorscale": [
             [
              0,
              "#0d0887"
             ],
             [
              0.1111111111111111,
              "#46039f"
             ],
             [
              0.2222222222222222,
              "#7201a8"
             ],
             [
              0.3333333333333333,
              "#9c179e"
             ],
             [
              0.4444444444444444,
              "#bd3786"
             ],
             [
              0.5555555555555556,
              "#d8576b"
             ],
             [
              0.6666666666666666,
              "#ed7953"
             ],
             [
              0.7777777777777778,
              "#fb9f3a"
             ],
             [
              0.8888888888888888,
              "#fdca26"
             ],
             [
              1,
              "#f0f921"
             ]
            ],
            "type": "surface"
           }
          ],
          "table": [
           {
            "cells": {
             "fill": {
              "color": "#EBF0F8"
             },
             "line": {
              "color": "white"
             }
            },
            "header": {
             "fill": {
              "color": "#C8D4E3"
             },
             "line": {
              "color": "white"
             }
            },
            "type": "table"
           }
          ]
         },
         "layout": {
          "annotationdefaults": {
           "arrowcolor": "#2a3f5f",
           "arrowhead": 0,
           "arrowwidth": 1
          },
          "autotypenumbers": "strict",
          "coloraxis": {
           "colorbar": {
            "outlinewidth": 0,
            "ticks": ""
           }
          },
          "colorscale": {
           "diverging": [
            [
             0,
             "#8e0152"
            ],
            [
             0.1,
             "#c51b7d"
            ],
            [
             0.2,
             "#de77ae"
            ],
            [
             0.3,
             "#f1b6da"
            ],
            [
             0.4,
             "#fde0ef"
            ],
            [
             0.5,
             "#f7f7f7"
            ],
            [
             0.6,
             "#e6f5d0"
            ],
            [
             0.7,
             "#b8e186"
            ],
            [
             0.8,
             "#7fbc41"
            ],
            [
             0.9,
             "#4d9221"
            ],
            [
             1,
             "#276419"
            ]
           ],
           "sequential": [
            [
             0,
             "#0d0887"
            ],
            [
             0.1111111111111111,
             "#46039f"
            ],
            [
             0.2222222222222222,
             "#7201a8"
            ],
            [
             0.3333333333333333,
             "#9c179e"
            ],
            [
             0.4444444444444444,
             "#bd3786"
            ],
            [
             0.5555555555555556,
             "#d8576b"
            ],
            [
             0.6666666666666666,
             "#ed7953"
            ],
            [
             0.7777777777777778,
             "#fb9f3a"
            ],
            [
             0.8888888888888888,
             "#fdca26"
            ],
            [
             1,
             "#f0f921"
            ]
           ],
           "sequentialminus": [
            [
             0,
             "#0d0887"
            ],
            [
             0.1111111111111111,
             "#46039f"
            ],
            [
             0.2222222222222222,
             "#7201a8"
            ],
            [
             0.3333333333333333,
             "#9c179e"
            ],
            [
             0.4444444444444444,
             "#bd3786"
            ],
            [
             0.5555555555555556,
             "#d8576b"
            ],
            [
             0.6666666666666666,
             "#ed7953"
            ],
            [
             0.7777777777777778,
             "#fb9f3a"
            ],
            [
             0.8888888888888888,
             "#fdca26"
            ],
            [
             1,
             "#f0f921"
            ]
           ]
          },
          "colorway": [
           "#636efa",
           "#EF553B",
           "#00cc96",
           "#ab63fa",
           "#FFA15A",
           "#19d3f3",
           "#FF6692",
           "#B6E880",
           "#FF97FF",
           "#FECB52"
          ],
          "font": {
           "color": "#2a3f5f"
          },
          "geo": {
           "bgcolor": "white",
           "lakecolor": "white",
           "landcolor": "#E5ECF6",
           "showlakes": true,
           "showland": true,
           "subunitcolor": "white"
          },
          "hoverlabel": {
           "align": "left"
          },
          "hovermode": "closest",
          "mapbox": {
           "style": "light"
          },
          "paper_bgcolor": "white",
          "plot_bgcolor": "#E5ECF6",
          "polar": {
           "angularaxis": {
            "gridcolor": "white",
            "linecolor": "white",
            "ticks": ""
           },
           "bgcolor": "#E5ECF6",
           "radialaxis": {
            "gridcolor": "white",
            "linecolor": "white",
            "ticks": ""
           }
          },
          "scene": {
           "xaxis": {
            "backgroundcolor": "#E5ECF6",
            "gridcolor": "white",
            "gridwidth": 2,
            "linecolor": "white",
            "showbackground": true,
            "ticks": "",
            "zerolinecolor": "white"
           },
           "yaxis": {
            "backgroundcolor": "#E5ECF6",
            "gridcolor": "white",
            "gridwidth": 2,
            "linecolor": "white",
            "showbackground": true,
            "ticks": "",
            "zerolinecolor": "white"
           },
           "zaxis": {
            "backgroundcolor": "#E5ECF6",
            "gridcolor": "white",
            "gridwidth": 2,
            "linecolor": "white",
            "showbackground": true,
            "ticks": "",
            "zerolinecolor": "white"
           }
          },
          "shapedefaults": {
           "line": {
            "color": "#2a3f5f"
           }
          },
          "ternary": {
           "aaxis": {
            "gridcolor": "white",
            "linecolor": "white",
            "ticks": ""
           },
           "baxis": {
            "gridcolor": "white",
            "linecolor": "white",
            "ticks": ""
           },
           "bgcolor": "#E5ECF6",
           "caxis": {
            "gridcolor": "white",
            "linecolor": "white",
            "ticks": ""
           }
          },
          "title": {
           "x": 0.05
          },
          "xaxis": {
           "automargin": true,
           "gridcolor": "white",
           "linecolor": "white",
           "ticks": "",
           "title": {
            "standoff": 15
           },
           "zerolinecolor": "white",
           "zerolinewidth": 2
          },
          "yaxis": {
           "automargin": true,
           "gridcolor": "white",
           "linecolor": "white",
           "ticks": "",
           "title": {
            "standoff": 15
           },
           "zerolinecolor": "white",
           "zerolinewidth": 2
          }
         }
        },
        "xaxis": {
         "anchor": "y",
         "domain": [
          0,
          1
         ],
         "title": {
          "text": "Team"
         }
        },
        "yaxis": {
         "anchor": "x",
         "domain": [
          0,
          1
         ],
         "title": {
          "text": "Average Scored Points"
         }
        }
       }
      }
     },
     "metadata": {},
     "output_type": "display_data"
    }
   ],
   "source": [
    "fig = px.scatter(df, x=df['Team'], y=df['Average Scored Points'], color=df['Average Scored Points'], hover_data=['Average Projected Points', 'Length of Ownership','Player'])\n",
    "fig.add_hline(df['Average Scored Points'].mean(), line_color='Red', line_dash = 'dash')\n",
    "fig.show()"
   ]
  },
  {
   "cell_type": "code",
   "execution_count": 5,
   "metadata": {},
   "outputs": [
    {
     "data": {
      "application/vnd.plotly.v1+json": {
       "config": {
        "plotlyServerURL": "https://plot.ly"
       },
       "data": [
        {
         "customdata": [
          [
           17,
           "Dalvin Cook",
           "Couv Reigning Champ"
          ],
          [
           10,
           "D'Andre Swift",
           "Couv Reigning Champ"
          ],
          [
           4,
           "Javonte Williams",
           "Couv Reigning Champ"
          ],
          [
           17,
           "Michael Pittman Jr.",
           "Couv Reigning Champ"
          ],
          [
           17,
           "Jaylen Waddle",
           "Couv Reigning Champ"
          ],
          [
           14,
           "Kyler Murray",
           "Couv Reigning Champ"
          ],
          [
           17,
           "Chris Godwin",
           "Couv Reigning Champ"
          ],
          [
           8,
           "Rashod Bateman",
           "Couv Reigning Champ"
          ],
          [
           9,
           "Melvin Gordon III",
           "Couv Reigning Champ"
          ],
          [
           17,
           "Christian Kirk",
           "Couv Reigning Champ"
          ],
          [
           1,
           "Mike Gesicki",
           "Couv Reigning Champ"
          ],
          [
           6,
           "Alexander Mattison",
           "Couv Reigning Champ"
          ],
          [
           10,
           "Ravens D/ST",
           "Couv Reigning Champ"
          ],
          [
           7,
           "Nyheim Hines",
           "Couv Reigning Champ"
          ],
          [
           1,
           "Harrison Butker",
           "Couv Reigning Champ"
          ],
          [
           8,
           "Rondale Moore",
           "Couv Reigning Champ"
          ],
          [
           1,
           "Robert Tonyan",
           "Couv Reigning Champ"
          ],
          [
           4,
           "Gus Edwards",
           "Couv Reigning Champ"
          ],
          [
           6,
           "Pat Freiermuth",
           "Couv Reigning Champ"
          ],
          [
           1,
           "Derek Carr",
           "Couv Reigning Champ"
          ],
          [
           9,
           "Tyler Higbee",
           "Couv Reigning Champ"
          ],
          [
           1,
           "Albert Okwuegbunam",
           "Couv Reigning Champ"
          ],
          [
           1,
           "Cade York",
           "Couv Reigning Champ"
          ],
          [
           1,
           "Greg Dortch",
           "Couv Reigning Champ"
          ],
          [
           5,
           "Bills D/ST",
           "Couv Reigning Champ"
          ],
          [
           1,
           "Taysom Hill",
           "Couv Reigning Champ"
          ],
          [
           9,
           "Dalton Schultz",
           "Couv Reigning Champ"
          ],
          [
           7,
           "Alvin Kamara",
           "Couv Reigning Champ"
          ],
          [
           7,
           "Marquise Brown",
           "Couv Reigning Champ"
          ],
          [
           2,
           "Tom Brady",
           "Couv Reigning Champ"
          ],
          [
           8,
           "Ryan Succop",
           "Couv Reigning Champ"
          ],
          [
           4,
           "Eagles D/ST",
           "Couv Reigning Champ"
          ],
          [
           15,
           "Rachaad White",
           "Couv Reigning Champ"
          ],
          [
           8,
           "Isiah Pacheco",
           "Couv Reigning Champ"
          ],
          [
           2,
           "Alec Pierce",
           "Couv Reigning Champ"
          ],
          [
           2,
           "Jets D/ST",
           "Couv Reigning Champ"
          ],
          [
           4,
           "Joshua Palmer",
           "Couv Reigning Champ"
          ],
          [
           2,
           "Justin Fields",
           "Couv Reigning Champ"
          ],
          [
           2,
           "Seahawks D/ST",
           "Couv Reigning Champ"
          ],
          [
           1,
           "Daniel Jones",
           "Couv Reigning Champ"
          ],
          [
           4,
           "Trevor Lawrence",
           "Couv Reigning Champ"
          ],
          [
           3,
           "Joey Slye",
           "Couv Reigning Champ"
          ],
          [
           7,
           "D'Andre Swift",
           "Eugene Tweakers"
          ],
          [
           9,
           "Harrison Butker",
           "Eugene Tweakers"
          ],
          [
           2,
           "Rondale Moore",
           "Eugene Tweakers"
          ],
          [
           11,
           "Austin Ekeler",
           "Eugene Tweakers"
          ],
          [
           2,
           "Colts D/ST",
           "Eugene Tweakers"
          ],
          [
           1,
           "Rams D/ST",
           "Eugene Tweakers"
          ],
          [
           7,
           "Tyler Higbee",
           "Eugene Tweakers"
          ],
          [
           11,
           "Noah Fant",
           "Eugene Tweakers"
          ],
          [
           3,
           "Rex Burkhead",
           "Eugene Tweakers"
          ],
          [
           6,
           "Cooper Kupp",
           "Eugene Tweakers"
          ],
          [
           10,
           "Alvin Kamara",
           "Eugene Tweakers"
          ],
          [
           17,
           "CeeDee Lamb",
           "Eugene Tweakers"
          ],
          [
           17,
           "Tee Higgins",
           "Eugene Tweakers"
          ],
          [
           17,
           "Cam Akers",
           "Eugene Tweakers"
          ],
          [
           17,
           "Darren Waller",
           "Eugene Tweakers"
          ],
          [
           10,
           "Marquise Brown",
           "Eugene Tweakers"
          ],
          [
           15,
           "Tom Brady",
           "Eugene Tweakers"
          ],
          [
           17,
           "Adam Thielen",
           "Eugene Tweakers"
          ],
          [
           17,
           "Drake London",
           "Eugene Tweakers"
          ],
          [
           17,
           "Kadarius Toney",
           "Eugene Tweakers"
          ],
          [
           3,
           "Dak Prescott",
           "Eugene Tweakers"
          ],
          [
           10,
           "Cowboys D/ST",
           "Eugene Tweakers"
          ],
          [
           8,
           "Graham Gano",
           "Eugene Tweakers"
          ],
          [
           5,
           "Mike Davis",
           "Eugene Tweakers"
          ],
          [
           6,
           "Kenyan Drake",
           "Eugene Tweakers"
          ],
          [
           5,
           "Chargers D/ST",
           "Eugene Tweakers"
          ],
          [
           1,
           "Isaiah McKenzie",
           "Eugene Tweakers"
          ],
          [
           6,
           "Bengals D/ST",
           "Eugene Tweakers"
          ],
          [
           7,
           "Justin Fields",
           "Eugene Tweakers"
          ],
          [
           1,
           "Chiefs D/ST",
           "Eugene Tweakers"
          ],
          [
           1,
           "Melvin Gordon III",
           "I love kirk cousins"
          ],
          [
           3,
           "Buccaneers D/ST",
           "I love kirk cousins"
          ],
          [
           5,
           "AJ Dillon",
           "I love kirk cousins"
          ],
          [
           15,
           "Allen Lazard",
           "I love kirk cousins"
          ],
          [
           7,
           "Michael Carter",
           "I love kirk cousins"
          ],
          [
           8,
           "Tyler Bass",
           "I love kirk cousins"
          ],
          [
           3,
           "J.K. Dobbins",
           "I love kirk cousins"
          ],
          [
           14,
           "Joe Burrow",
           "I love kirk cousins"
          ],
          [
           2,
           "Saints D/ST",
           "I love kirk cousins"
          ],
          [
           3,
           "Taysom Hill",
           "I love kirk cousins"
          ],
          [
           17,
           "Leonard Fournette",
           "I love kirk cousins"
          ],
          [
           17,
           "Davante Adams",
           "I love kirk cousins"
          ],
          [
           17,
           "Mike Evans",
           "I love kirk cousins"
          ],
          [
           3,
           "Breece Hall",
           "I love kirk cousins"
          ],
          [
           14,
           "Brandin Cooks",
           "I love kirk cousins"
          ],
          [
           5,
           "Dalton Schultz",
           "I love kirk cousins"
          ],
          [
           17,
           "Devin Singletary",
           "I love kirk cousins"
          ],
          [
           17,
           "Amari Cooper",
           "I love kirk cousins"
          ],
          [
           3,
           "Russell Wilson",
           "I love kirk cousins"
          ],
          [
           17,
           "Cordarrelle Patterson",
           "I love kirk cousins"
          ],
          [
           10,
           "Zach Ertz",
           "I love kirk cousins"
          ],
          [
           9,
           "Evan McPherson",
           "I love kirk cousins"
          ],
          [
           4,
           "Patriots D/ST",
           "I love kirk cousins"
          ],
          [
           7,
           "J.D. McKissic",
           "I love kirk cousins"
          ],
          [
           1,
           "Texans D/ST",
           "I love kirk cousins"
          ],
          [
           1,
           "Tyler Conklin",
           "I love kirk cousins"
          ],
          [
           1,
           "Browns D/ST",
           "I love kirk cousins"
          ],
          [
           2,
           "Tyler Allgeier",
           "I love kirk cousins"
          ],
          [
           14,
           "Gerald Everett",
           "I love kirk cousins"
          ],
          [
           1,
           "Isaiah McKenzie",
           "I love kirk cousins"
          ],
          [
           1,
           "Bengals D/ST",
           "I love kirk cousins"
          ],
          [
           4,
           "Chuba Hubbard",
           "I love kirk cousins"
          ],
          [
           1,
           "Commanders D/ST",
           "I love kirk cousins"
          ],
          [
           1,
           "Seahawks D/ST",
           "I love kirk cousins"
          ],
          [
           2,
           "Tyler Boyd",
           "I love kirk cousins"
          ],
          [
           2,
           "Titans D/ST",
           "I love kirk cousins"
          ],
          [
           1,
           "Trevor Lawrence",
           "I love kirk cousins"
          ],
          [
           4,
           "Jerick McKinnon",
           "I love kirk cousins"
          ],
          [
           2,
           "Mack Hollins",
           "I love kirk cousins"
          ],
          [
           4,
           "Samaje Perine",
           "I love kirk cousins"
          ],
          [
           3,
           "Foster Moreau",
           "I love kirk cousins"
          ],
          [
           6,
           "Darius Slayton",
           "I love kirk cousins"
          ],
          [
           1,
           "Chiefs D/ST",
           "I love kirk cousins"
          ],
          [
           2,
           "Ravens D/ST",
           "Gorilla Guys"
          ],
          [
           2,
           "Harrison Butker",
           "Gorilla Guys"
          ],
          [
           8,
           "Buccaneers D/ST",
           "Gorilla Guys"
          ],
          [
           2,
           "Clyde Edwards-Helaire",
           "Gorilla Guys"
          ],
          [
           1,
           "Aaron Rodgers",
           "Gorilla Guys"
          ],
          [
           1,
           "Brandon McManus",
           "Gorilla Guys"
          ],
          [
           17,
           "Derrick Henry",
           "Gorilla Guys"
          ],
          [
           11,
           "Joe Mixon",
           "Gorilla Guys"
          ],
          [
           17,
           "Keenan Allen",
           "Gorilla Guys"
          ],
          [
           17,
           "Kyle Pitts",
           "Gorilla Guys"
          ],
          [
           17,
           "Diontae Johnson",
           "Gorilla Guys"
          ],
          [
           17,
           "Jalen Hurts",
           "Gorilla Guys"
          ],
          [
           17,
           "Amon-Ra St. Brown",
           "Gorilla Guys"
          ],
          [
           17,
           "JuJu Smith-Schuster",
           "Gorilla Guys"
          ],
          [
           17,
           "Tony Pollard",
           "Gorilla Guys"
          ],
          [
           11,
           "DeAndre Hopkins",
           "Gorilla Guys"
          ],
          [
           17,
           "Jamaal Williams",
           "Gorilla Guys"
          ],
          [
           5,
           "Saints D/ST",
           "Gorilla Guys"
          ],
          [
           5,
           "Matt Gay",
           "Gorilla Guys"
          ],
          [
           11,
           "Darrell Henderson Jr.",
           "Gorilla Guys"
          ],
          [
           5,
           "Robbie Anderson",
           "Gorilla Guys"
          ],
          [
           8,
           "Jahan Dotson",
           "Gorilla Guys"
          ],
          [
           4,
           "Rams D/ST",
           "Gorilla Guys"
          ],
          [
           6,
           "Justin Jefferson",
           "Gorilla Guys"
          ],
          [
           6,
           "George Kittle",
           "Gorilla Guys"
          ],
          [
           3,
           "Graham Gano",
           "Gorilla Guys"
          ],
          [
           5,
           "Tua Tagovailoa",
           "Gorilla Guys"
          ],
          [
           2,
           "Tyler Conklin",
           "Gorilla Guys"
          ],
          [
           2,
           "Jaguars D/ST",
           "Gorilla Guys"
          ],
          [
           2,
           "Deon Jackson",
           "Gorilla Guys"
          ],
          [
           1,
           "Brett Maher",
           "Gorilla Guys"
          ],
          [
           8,
           "Odell Beckham Jr.",
           "Gorilla Guys"
          ],
          [
           2,
           "Daniel Jones",
           "Gorilla Guys"
          ],
          [
           9,
           "Cairo Santos",
           "Gorilla Guys"
          ],
          [
           6,
           "Juwan Johnson",
           "Gorilla Guys"
          ],
          [
           2,
           "Matthew Wright",
           "Gorilla Guys"
          ],
          [
           5,
           "Nyheim Hines",
           "Diggy Wit it"
          ],
          [
           7,
           "Robert Tonyan",
           "Diggy Wit it"
          ],
          [
           17,
           "Christian McCaffrey",
           "Diggy Wit it"
          ],
          [
           17,
           "Stefon Diggs",
           "Diggy Wit it"
          ],
          [
           17,
           "Aaron Jones",
           "Diggy Wit it"
          ],
          [
           17,
           "Mike Williams",
           "Diggy Wit it"
          ],
          [
           17,
           "DJ Moore",
           "Diggy Wit it"
          ],
          [
           17,
           "Courtland Sutton",
           "Diggy Wit it"
          ],
          [
           13,
           "Allen Robinson II",
           "Diggy Wit it"
          ],
          [
           5,
           "Rashaad Penny",
           "Diggy Wit it"
          ],
          [
           2,
           "Trey Lance",
           "Diggy Wit it"
          ],
          [
           12,
           "Chase Edmonds",
           "Diggy Wit it"
          ],
          [
           9,
           "Cole Kmet",
           "Diggy Wit it"
          ],
          [
           1,
           "Buccaneers D/ST",
           "Diggy Wit it"
          ],
          [
           2,
           "Robert Woods",
           "Diggy Wit it"
          ],
          [
           17,
           "Daniel Carlson",
           "Diggy Wit it"
          ],
          [
           3,
           "Marquez Valdes-Scantling",
           "Diggy Wit it"
          ],
          [
           17,
           "Jameson Williams",
           "Diggy Wit it"
          ],
          [
           1,
           "Raheem Mostert",
           "Diggy Wit it"
          ],
          [
           1,
           "Derek Carr",
           "Diggy Wit it"
          ],
          [
           1,
           "Rams D/ST",
           "Diggy Wit it"
          ],
          [
           11,
           "Patriots D/ST",
           "Diggy Wit it"
          ],
          [
           5,
           "Brian Robinson Jr.",
           "Diggy Wit it"
          ],
          [
           16,
           "Jeff Wilson Jr.",
           "Diggy Wit it"
          ],
          [
           2,
           "Browns D/ST",
           "Diggy Wit it"
          ],
          [
           7,
           "Evan Engram",
           "Diggy Wit it"
          ],
          [
           5,
           "Zay Jones",
           "Diggy Wit it"
          ],
          [
           9,
           "Jared Goff",
           "Diggy Wit it"
          ],
          [
           10,
           "Eagles D/ST",
           "Diggy Wit it"
          ],
          [
           1,
           "Jaguars D/ST",
           "Diggy Wit it"
          ],
          [
           2,
           "Kirk Cousins",
           "Diggy Wit it"
          ],
          [
           1,
           "Jason Myers",
           "Diggy Wit it"
          ],
          [
           1,
           "Hayden Hurst",
           "Diggy Wit it"
          ],
          [
           1,
           "Bengals D/ST",
           "Diggy Wit it"
          ],
          [
           6,
           "Greg Dulcich",
           "Diggy Wit it"
          ],
          [
           4,
           "Jimmy Garoppolo",
           "Diggy Wit it"
          ],
          [
           4,
           "Nico Collins",
           "Diggy Wit it"
          ],
          [
           2,
           "Buccaneers D/ST",
           "I love  Tyler Higbee"
          ],
          [
           6,
           "Austin Ekeler",
           "I love  Tyler Higbee"
          ],
          [
           17,
           "Mark Andrews",
           "I love  Tyler Higbee"
          ],
          [
           12,
           "Saquon Barkley",
           "I love  Tyler Higbee"
          ],
          [
           17,
           "A.J. Brown",
           "I love  Tyler Higbee"
          ],
          [
           17,
           "Lamar Jackson",
           "I love  Tyler Higbee"
          ],
          [
           13,
           "Jerry Jeudy",
           "I love  Tyler Higbee"
          ],
          [
           12,
           "AJ Dillon",
           "I love  Tyler Higbee"
          ],
          [
           8,
           "Michael Thomas",
           "I love  Tyler Higbee"
          ],
          [
           6,
           "Clyde Edwards-Helaire",
           "I love  Tyler Higbee"
          ],
          [
           2,
           "Allen Lazard",
           "I love  Tyler Higbee"
          ],
          [
           17,
           "Kenneth Walker III",
           "I love  Tyler Higbee"
          ],
          [
           15,
           "Dameon Pierce",
           "I love  Tyler Higbee"
          ],
          [
           8,
           "Treylon Burks",
           "I love  Tyler Higbee"
          ],
          [
           4,
           "Michael Carter",
           "I love  Tyler Higbee"
          ],
          [
           2,
           "Colts D/ST",
           "I love  Tyler Higbee"
          ],
          [
           6,
           "Gus Edwards",
           "I love  Tyler Higbee"
          ],
          [
           6,
           "Tyler Bass",
           "I love  Tyler Higbee"
          ],
          [
           2,
           "Darnell Mooney",
           "I love  Tyler Higbee"
          ],
          [
           1,
           "Jakobi Meyers",
           "I love  Tyler Higbee"
          ],
          [
           5,
           "Deebo Samuel",
           "I love  Tyler Higbee"
          ],
          [
           5,
           "David Montgomery",
           "I love  Tyler Higbee"
          ],
          [
           2,
           "Taysom Hill",
           "I love  Tyler Higbee"
          ],
          [
           7,
           "Geno Smith",
           "I love  Tyler Higbee"
          ],
          [
           8,
           "Cooper Kupp",
           "I love  Tyler Higbee"
          ],
          [
           7,
           "Cowboys D/ST",
           "I love  Tyler Higbee"
          ],
          [
           3,
           "Khalil Herbert",
           "I love  Tyler Higbee"
          ],
          [
           1,
           "Browns D/ST",
           "I love  Tyler Higbee"
          ],
          [
           5,
           "Zay Jones",
           "I love  Tyler Higbee"
          ],
          [
           4,
           "Romeo Doubs",
           "I love  Tyler Higbee"
          ],
          [
           3,
           "Tyler Allgeier",
           "I love  Tyler Higbee"
          ],
          [
           2,
           "Vikings D/ST",
           "I love  Tyler Higbee"
          ],
          [
           3,
           "Isiah Pacheco",
           "I love  Tyler Higbee"
          ],
          [
           4,
           "Kirk Cousins",
           "I love  Tyler Higbee"
          ],
          [
           7,
           "Jason Myers",
           "I love  Tyler Higbee"
          ],
          [
           2,
           "Deon Jackson",
           "I love  Tyler Higbee"
          ],
          [
           4,
           "Jets D/ST",
           "I love  Tyler Higbee"
          ],
          [
           4,
           "Wan'Dale Robinson",
           "I love  Tyler Higbee"
          ],
          [
           3,
           "Eno Benjamin",
           "I love  Tyler Higbee"
          ],
          [
           1,
           "Dolphins D/ST",
           "I love  Tyler Higbee"
          ],
          [
           6,
           "Brett Maher",
           "I love  Tyler Higbee"
          ],
          [
           10,
           "D'Onta Foreman",
           "I love  Tyler Higbee"
          ],
          [
           1,
           "Chuba Hubbard",
           "I love  Tyler Higbee"
          ],
          [
           3,
           "Greg Dulcich",
           "I love  Tyler Higbee"
          ],
          [
           4,
           "Isaiah Likely",
           "I love  Tyler Higbee"
          ],
          [
           2,
           "Daniel Jones",
           "I love  Tyler Higbee"
          ],
          [
           1,
           "Titans D/ST",
           "I love  Tyler Higbee"
          ],
          [
           5,
           "Zonovan Knight",
           "I love  Tyler Higbee"
          ],
          [
           2,
           "Chiefs D/ST",
           "I love  Tyler Higbee"
          ],
          [
           13,
           "Robert Woods",
           "Cougar Town Zach Wilson"
          ],
          [
           5,
           "Marquez Valdes-Scantling",
           "Cougar Town Zach Wilson"
          ],
          [
           5,
           "Saquon Barkley",
           "Cougar Town Zach Wilson"
          ],
          [
           12,
           "Antonio Gibson",
           "Cougar Town Zach Wilson"
          ],
          [
           12,
           "Jakobi Meyers",
           "Cougar Town Zach Wilson"
          ],
          [
           12,
           "Deebo Samuel",
           "Cougar Town Zach Wilson"
          ],
          [
           17,
           "Josh Allen",
           "Cougar Town Zach Wilson"
          ],
          [
           17,
           "James Conner",
           "Cougar Town Zach Wilson"
          ],
          [
           12,
           "David Montgomery",
           "Cougar Town Zach Wilson"
          ],
          [
           17,
           "Elijah Mitchell",
           "Cougar Town Zach Wilson"
          ],
          [
           17,
           "Gabe Davis",
           "Cougar Town Zach Wilson"
          ],
          [
           17,
           "Justin Tucker",
           "Cougar Town Zach Wilson"
          ],
          [
           17,
           "Dallas Goedert",
           "Cougar Town Zach Wilson"
          ],
          [
           13,
           "Damien Harris",
           "Cougar Town Zach Wilson"
          ],
          [
           6,
           "Elijah Moore",
           "Cougar Town Zach Wilson"
          ],
          [
           17,
           "Dawson Knox",
           "Cougar Town Zach Wilson"
          ],
          [
           5,
           "DJ Chark",
           "Cougar Town Zach Wilson"
          ],
          [
           9,
           "Steelers D/ST",
           "Cougar Town Zach Wilson"
          ],
          [
           3,
           "Noah Fant",
           "Cougar Town Zach Wilson"
          ],
          [
           16,
           "Tyler Lockett",
           "Cougar Town Zach Wilson"
          ],
          [
           1,
           "Tyrion Davis-Price",
           "Cougar Town Zach Wilson"
          ],
          [
           4,
           "Matthew Stafford",
           "Cougar Town Zach Wilson"
          ],
          [
           11,
           "Dak Prescott",
           "Cougar Town Zach Wilson"
          ],
          [
           2,
           "Darrel Williams",
           "Cougar Town Zach Wilson"
          ],
          [
           2,
           "Logan Thomas",
           "Cougar Town Zach Wilson"
          ],
          [
           1,
           "Brian Robinson Jr.",
           "Cougar Town Zach Wilson"
          ],
          [
           1,
           "Kirk Cousins",
           "Cougar Town Zach Wilson"
          ],
          [
           13,
           "Broncos D/ST",
           "Cougar Town Zach Wilson"
          ],
          [
           1,
           "Dolphins D/ST",
           "Cougar Town Zach Wilson"
          ],
          [
           2,
           "Cade Otton",
           "Cougar Town Zach Wilson"
          ],
          [
           8,
           "Robbie Gould",
           "Cougar Town Zach Wilson"
          ],
          [
           15,
           "Raheem Mostert",
           "Livin on A prayer "
          ],
          [
           5,
           "Derek Carr",
           "Livin on A prayer "
          ],
          [
           6,
           "Joe Mixon",
           "Livin on A prayer "
          ],
          [
           6,
           "DeAndre Hopkins",
           "Livin on A prayer "
          ],
          [
           3,
           "Saints D/ST",
           "Livin on A prayer "
          ],
          [
           2,
           "Greg Dortch",
           "Livin on A prayer "
          ],
          [
           1,
           "Tyler Lockett",
           "Livin on A prayer "
          ],
          [
           1,
           "Matthew Stafford",
           "Livin on A prayer "
          ],
          [
           11,
           "Justin Jefferson",
           "Livin on A prayer "
          ],
          [
           17,
           "Justin Herbert",
           "Livin on A prayer "
          ],
          [
           17,
           "Nick Chubb",
           "Livin on A prayer "
          ],
          [
           11,
           "George Kittle",
           "Livin on A prayer "
          ],
          [
           17,
           "Josh Jacobs",
           "Livin on A prayer "
          ],
          [
           17,
           "DK Metcalf",
           "Livin on A prayer "
          ],
          [
           17,
           "Miles Sanders",
           "Livin on A prayer "
          ],
          [
           17,
           "Nick Folk",
           "Livin on A prayer "
          ],
          [
           17,
           "Brandon Aiyuk",
           "Livin on A prayer "
          ],
          [
           11,
           "Bills D/ST",
           "Livin on A prayer "
          ],
          [
           2,
           "Hunter Henry",
           "Livin on A prayer "
          ],
          [
           3,
           "Rex Burkhead",
           "Livin on A prayer "
          ],
          [
           3,
           "Jarvis Landry",
           "Livin on A prayer "
          ],
          [
           1,
           "Taysom Hill",
           "Livin on A prayer "
          ],
          [
           1,
           "Geno Smith",
           "Livin on A prayer "
          ],
          [
           2,
           "Sterling Shepard",
           "Livin on A prayer "
          ],
          [
           1,
           "Graham Gano",
           "Livin on A prayer "
          ],
          [
           1,
           "Logan Thomas",
           "Livin on A prayer "
          ],
          [
           1,
           "Tyler Conklin",
           "Livin on A prayer "
          ],
          [
           3,
           "Evan Engram",
           "Livin on A prayer "
          ],
          [
           14,
           "David Njoku",
           "Livin on A prayer "
          ],
          [
           3,
           "Corey Davis",
           "Livin on A prayer "
          ],
          [
           2,
           "Will Dissly",
           "Livin on A prayer "
          ],
          [
           6,
           "Hayden Hurst",
           "Livin on A prayer "
          ],
          [
           3,
           "Dolphins D/ST",
           "Livin on A prayer "
          ],
          [
           2,
           "Joshua Kelley",
           "Livin on A prayer "
          ],
          [
           7,
           "Marcus Mariota",
           "Livin on A prayer "
          ],
          [
           1,
           "Bengals D/ST",
           "Livin on A prayer "
          ],
          [
           1,
           "James Cook",
           "Livin on A prayer "
          ],
          [
           1,
           "Joshua Palmer",
           "Livin on A prayer "
          ],
          [
           4,
           "Tyler Boyd",
           "Livin on A prayer "
          ],
          [
           10,
           "Parris Campbell",
           "Livin on A prayer "
          ],
          [
           7,
           "Donovan Peoples-Jones",
           "Livin on A prayer "
          ],
          [
           3,
           "Mack Hollins",
           "Livin on A prayer "
          ],
          [
           3,
           "Brock Purdy",
           "Livin on A prayer "
          ],
          [
           3,
           "Jerry Jeudy",
           "No Nyugen Will Win"
          ],
          [
           17,
           "Najee Harris",
           "No Nyugen Will Win"
          ],
          [
           17,
           "Ja'Marr Chase",
           "No Nyugen Will Win"
          ],
          [
           17,
           "Ezekiel Elliott",
           "No Nyugen Will Win"
          ],
          [
           7,
           "J.K. Dobbins",
           "No Nyugen Will Win"
          ],
          [
           17,
           "Travis Etienne Jr.",
           "No Nyugen Will Win"
          ],
          [
           5,
           "Antonio Gibson",
           "No Nyugen Will Win"
          ],
          [
           3,
           "Darnell Mooney",
           "No Nyugen Will Win"
          ],
          [
           17,
           "T.J. Hockenson",
           "No Nyugen Will Win"
          ],
          [
           3,
           "Aaron Rodgers",
           "No Nyugen Will Win"
          ],
          [
           17,
           "Garrett Wilson",
           "No Nyugen Will Win"
          ],
          [
           17,
           "Chris Olave",
           "No Nyugen Will Win"
          ],
          [
           1,
           "Jakobi Meyers",
           "No Nyugen Will Win"
          ],
          [
           16,
           "49ers D/ST",
           "No Nyugen Will Win"
          ],
          [
           12,
           "James Robinson",
           "No Nyugen Will Win"
          ],
          [
           1,
           "Matt Prater",
           "No Nyugen Will Win"
          ],
          [
           14,
           "George Pickens",
           "No Nyugen Will Win"
          ],
          [
           5,
           "Geno Smith",
           "No Nyugen Will Win"
          ],
          [
           4,
           "Evan McPherson",
           "No Nyugen Will Win"
          ],
          [
           16,
           "Curtis Samuel",
           "No Nyugen Will Win"
          ],
          [
           12,
           "Younghoe Koo",
           "No Nyugen Will Win"
          ],
          [
           10,
           "Brian Robinson Jr.",
           "No Nyugen Will Win"
          ],
          [
           8,
           "Tua Tagovailoa",
           "No Nyugen Will Win"
          ],
          [
           2,
           "Khalil Herbert",
           "No Nyugen Will Win"
          ],
          [
           1,
           "Tyler Conklin",
           "No Nyugen Will Win"
          ],
          [
           1,
           "Vikings D/ST",
           "No Nyugen Will Win"
          ],
          [
           1,
           "Hayden Hurst",
           "No Nyugen Will Win"
          ],
          [
           1,
           "Gerald Everett",
           "No Nyugen Will Win"
          ],
          [
           6,
           "Kyren Williams",
           "No Nyugen Will Win"
          ],
          [
           5,
           "James Cook",
           "No Nyugen Will Win"
          ],
          [
           1,
           "Caleb Huntley",
           "No Nyugen Will Win"
          ],
          [
           1,
           "Trevor Lawrence",
           "No Nyugen Will Win"
          ],
          [
           8,
           "Christian Watson",
           "No Nyugen Will Win"
          ],
          [
           7,
           "Latavius Murray",
           "No Nyugen Will Win"
          ],
          [
           5,
           "Deshaun Watson",
           "No Nyugen Will Win"
          ],
          [
           3,
           "Michael Carter",
           "P-Town CASH KEVIN"
          ],
          [
           6,
           "Gus Edwards",
           "P-Town CASH KEVIN"
          ],
          [
           2,
           "Darnell Mooney",
           "P-Town CASH KEVIN"
          ],
          [
           17,
           "Jonathan Taylor",
           "P-Town CASH KEVIN"
          ],
          [
           17,
           "Tyreek Hill",
           "P-Town CASH KEVIN"
          ],
          [
           17,
           "Travis Kelce",
           "P-Town CASH KEVIN"
          ],
          [
           17,
           "Patrick Mahomes",
           "P-Town CASH KEVIN"
          ],
          [
           17,
           "Terry McLaurin",
           "P-Town CASH KEVIN"
          ],
          [
           17,
           "Kareem Hunt",
           "P-Town CASH KEVIN"
          ],
          [
           8,
           "Hunter Renfrow",
           "P-Town CASH KEVIN"
          ],
          [
           17,
           "DeVonta Smith",
           "P-Town CASH KEVIN"
          ],
          [
           17,
           "Rhamondre Stevenson",
           "P-Town CASH KEVIN"
          ],
          [
           3,
           "Joe Burrow",
           "P-Town CASH KEVIN"
          ],
          [
           11,
           "Chase Claypool",
           "P-Town CASH KEVIN"
          ],
          [
           3,
           "Skyy Moore",
           "P-Town CASH KEVIN"
          ],
          [
           11,
           "Pat Freiermuth",
           "P-Town CASH KEVIN"
          ],
          [
           11,
           "Packers D/ST",
           "P-Town CASH KEVIN"
          ],
          [
           11,
           "Brandon McManus",
           "P-Town CASH KEVIN"
          ],
          [
           1,
           "Derek Carr",
           "P-Town CASH KEVIN"
          ],
          [
           5,
           "Julio Jones",
           "P-Town CASH KEVIN"
          ],
          [
           14,
           "Breece Hall",
           "P-Town CASH KEVIN"
          ],
          [
           4,
           "Russell Wilson",
           "P-Town CASH KEVIN"
          ],
          [
           6,
           "Kenyan Drake",
           "P-Town CASH KEVIN"
          ],
          [
           4,
           "Ryan Succop",
           "P-Town CASH KEVIN"
          ],
          [
           3,
           "Eno Benjamin",
           "P-Town CASH KEVIN"
          ],
          [
           12,
           "Josh Reynolds",
           "P-Town CASH KEVIN"
          ],
          [
           6,
           "Commanders D/ST",
           "P-Town CASH KEVIN"
          ],
          [
           6,
           "Joshua Palmer",
           "P-Town CASH KEVIN"
          ],
          [
           6,
           "Tyler Boyd",
           "P-Town CASH KEVIN"
          ],
          [
           1,
           "Daniel Jones",
           "P-Town CASH KEVIN"
          ],
          [
           3,
           "Riley Patterson",
           "P-Town CASH KEVIN"
          ],
          [
           4,
           "Raiders D/ST",
           "P-Town CASH KEVIN"
          ],
          [
           2,
           "Chase McLaughlin",
           "P-Town CASH KEVIN"
          ]
         ],
         "hovertemplate": "Average Projected Points=%{x}<br>Average Scored Points=%{y}<br>Length of Ownership=%{customdata[0]}<br>Player=%{customdata[1]}<br>Team=%{customdata[2]}<br>Residual=%{marker.color}<extra></extra>",
         "legendgroup": "",
         "marker": {
          "color": [
           -2.91,
           4.22,
           -1,
           0.45,
           3.78,
           0.97,
           -0.29,
           1.93,
           -1.36,
           1.54,
           -7.47,
           0.41,
           1,
           -1.51,
           0.72,
           0.19,
           -2.06,
           1.01,
           -0.45,
           1.94,
           -3.12,
           -8.82,
           -1.69,
           -2.21,
           4.36,
           7.23,
           0.1,
           -6.83,
           3.09,
           1.26,
           -1.26,
           2.38,
           0.35,
           -0.06,
           -3.43,
           -0.42,
           5.34,
           13.2,
           0.12,
           1.37,
           3.87,
           4.04,
           4.23,
           -0.96,
           1.43,
           3.68,
           -3.4,
           2.47,
           -3.91,
           0.13,
           -4.04,
           -3.63,
           -5.93,
           5.46,
           -0.5,
           -0.9,
           -1.45,
           4.23,
           1.14,
           0.83,
           -2.25,
           1.81,
           4.85,
           2.45,
           2.94,
           -2.59,
           -1.39,
           -1.24,
           -9.01,
           -0.7,
           4.77,
           -2.61,
           0,
           -0.96,
           -1.12,
           0.81,
           -1.4,
           3.97,
           0.55,
           0.39,
           -2.14,
           0.22,
           -0.57,
           0.17,
           -2.25,
           2.72,
           -1.94,
           0.71,
           1.92,
           4.02,
           0.24,
           2.03,
           -0.17,
           -2.49,
           2.35,
           -2.68,
           0.33,
           -0.5,
           -3.45,
           6.42,
           -2.45,
           -7.67,
           -0.38,
           -1.93,
           0.21,
           -4.8,
           -0.7,
           4.79,
           3.87,
           -8.19,
           2.43,
           1.98,
           -7.38,
           -4.21,
           1.23,
           -1.26,
           -4.61,
           -1.33,
           7.19,
           4.13,
           -4.48,
           0.66,
           -4.46,
           1.4,
           0.12,
           -1.51,
           5.06,
           4.98,
           -1.07,
           5.84,
           0.65,
           -1.85,
           -1.11,
           -3.03,
           -2.75,
           -6.03,
           2.27,
           2.68,
           3.5,
           -0.52,
           2.97,
           -6.19,
           -2.35,
           -6.54,
           6.32,
           -1.11,
           0,
           4.24,
           -1.13,
           -2.65,
           0,
           -2.38,
           -0.74,
           4.37,
           -0.95,
           -0.47,
           0.02,
           0.73,
           -3.56,
           -2.82,
           4.54,
           -7.55,
           -3.26,
           -4.21,
           7.05,
           -4.59,
           1.42,
           -6.48,
           0.11,
           -4.35,
           -2.19,
           2.47,
           3.26,
           -2.39,
           -2.22,
           -2.04,
           1.5,
           0.33,
           4.7,
           2.25,
           -1.75,
           8.13,
           0,
           3.54,
           1.15,
           -4.46,
           -1.96,
           0,
           -0.95,
           7.42,
           -2.45,
           -1.77,
           -2.31,
           -2.18,
           0.55,
           -2.54,
           3.96,
           5.27,
           -1.03,
           1.73,
           -0.86,
           -1.27,
           -2.27,
           -3.4,
           0,
           4.57,
           0.71,
           10.17,
           -2.03,
           -1.17,
           0.29,
           -1.7,
           -3.45,
           2.7,
           -4.1,
           -0.63,
           -5,
           -3.04,
           1.89,
           0.53,
           0.74,
           2.82,
           0.72,
           6.32,
           0.53,
           4.26,
           0.33,
           4.63,
           6.51,
           -2.4,
           0,
           -3.18,
           -1.69,
           4.24,
           4.79,
           -8.76,
           -2.61,
           -2.67,
           -4.45,
           1.51,
           -0.17,
           1.27,
           -1.9,
           -1.22,
           0.57,
           -4.3,
           0.62,
           -1.62,
           -0.2,
           -0.18,
           1.18,
           -5.92,
           0.86,
           -7.84,
           -1.59,
           -3.47,
           1.57,
           0.35,
           -3.87,
           3.15,
           -2.94,
           -6.19,
           0,
           0.02,
           0.38,
           0.06,
           -4.07,
           1.85,
           0.86,
           0.43,
           -1.69,
           1.19,
           -0.76,
           1.86,
           9.2,
           0.8,
           0.4,
           -3.2,
           1.99,
           -1.58,
           5.38,
           -0.93,
           -1.04,
           1.43,
           0.44,
           3.18,
           -7.93,
           -4.43,
           -4.18,
           -1.97,
           -6.95,
           -1.04,
           6.11,
           -6.19,
           -7.31,
           0.76,
           -0.94,
           -6.01,
           -2.23,
           -2.63,
           5.82,
           0,
           -3.76,
           -3.89,
           3.97,
           -5.06,
           -0.89,
           -4.51,
           -1.55,
           1.11,
           0.95,
           1,
           0.44,
           3.43,
           0.3,
           0.47,
           -0.57,
           3.14,
           -2.8,
           5.8,
           -9.26,
           -2.07,
           1,
           -0.44,
           1.37,
           -1.4,
           -7.12,
           -0.98,
           -4.6,
           -3.16,
           -1.23,
           1.28,
           -2.02,
           -8.06,
           -4,
           -7.31,
           -1.44,
           -0.92,
           -3.45,
           0.07,
           -1.09,
           -1.5,
           3.87,
           2.34,
           -5.75,
           -1.67,
           -1.75,
           -0.79,
           -4.91,
           -1.99,
           -1.95,
           3.44,
           3.48,
           1.68,
           -0.23,
           -2.37,
           2.46,
           -0.95,
           6.64,
           -5.37,
           -2.1,
           0.85,
           0.53,
           -2.04,
           -2.19,
           -5.01,
           1.17,
           -2,
           -1.39,
           -1.26,
           0.33,
           -1.56,
           -0.97,
           3.61,
           -1.51,
           7.11,
           -3.01,
           -1.52,
           -3.83
          ],
          "coloraxis": "coloraxis",
          "symbol": "circle"
         },
         "mode": "markers",
         "name": "",
         "orientation": "v",
         "showlegend": false,
         "type": "scatter",
         "x": [
          14.87,
          11.13,
          15.65,
          11.86,
          12.74,
          16.75,
          9.63,
          8.8,
          9.42,
          12.01,
          8.57,
          4.59,
          5.4,
          8.6,
          8.28,
          5.68,
          8.66,
          1.47,
          11.2,
          17.88,
          8.1,
          8.82,
          7.69,
          2.21,
          4.84,
          6.33,
          8.08,
          15.6,
          5.39,
          17.28,
          8.01,
          6.38,
          7.19,
          7.71,
          10.13,
          3.42,
          11.11,
          8.16,
          5.38,
          16.91,
          17.09,
          6.63,
          9.14,
          8.18,
          5.12,
          19.78,
          6.9,
          7.53,
          8.65,
          7.36,
          9,
          13.95,
          14.55,
          13.77,
          13.56,
          7.48,
          4.91,
          6.59,
          14.67,
          9.79,
          11.13,
          1.87,
          10.01,
          5.65,
          8.44,
          2.59,
          3.79,
          5.64,
          11.91,
          5.03,
          17.57,
          7.61,
          0,
          5.29,
          7.4,
          9.01,
          10,
          7.78,
          7.39,
          17.01,
          6.64,
          6.28,
          13.02,
          15.18,
          10.2,
          12.01,
          6.75,
          6.13,
          12.15,
          11.64,
          11.94,
          5.81,
          11.19,
          7.71,
          5.65,
          9.25,
          7.67,
          8.7,
          6.45,
          8.08,
          6.84,
          7.67,
          6.38,
          4.65,
          5.79,
          5.8,
          10.4,
          6.21,
          17.09,
          9.59,
          9.97,
          7.42,
          7.38,
          10.41,
          6.77,
          4.76,
          8.1,
          5.08,
          11.92,
          14.95,
          8.48,
          14.68,
          13.92,
          5.41,
          4.73,
          12.51,
          23.1,
          13.56,
          11.02,
          11.92,
          5.44,
          9.53,
          5.91,
          8.43,
          12.09,
          10.23,
          2.2,
          7.82,
          16.09,
          6.92,
          8.36,
          19.63,
          8.2,
          7.54,
          9.68,
          8.11,
          0,
          17.22,
          4.8,
          2.65,
          0,
          8.48,
          8.31,
          20.06,
          18.98,
          13.22,
          10.75,
          12.57,
          10.99,
          8.65,
          11.5,
          17.51,
          7.77,
          8.03,
          4.95,
          5.74,
          7.17,
          10.18,
          1.43,
          8.55,
          15.99,
          7.53,
          5.65,
          7.61,
          10.34,
          6.04,
          8.86,
          9.45,
          14.85,
          6.65,
          7.75,
          16.32,
          0,
          8.16,
          6.85,
          7.39,
          15.24,
          0,
          5.44,
          19.44,
          13.2,
          19.48,
          14.12,
          15.92,
          9.34,
          10.25,
          6.34,
          12.28,
          5.68,
          8.09,
          13.05,
          6.52,
          11.67,
          6.9,
          0,
          7.76,
          10.59,
          10.83,
          6.39,
          13.39,
          7.02,
          14.64,
          12.77,
          4.73,
          11.6,
          5.63,
          9.18,
          11.37,
          10.94,
          6.48,
          8.03,
          17.42,
          5.56,
          9.68,
          5.22,
          6.74,
          7.44,
          6.37,
          7.99,
          11.11,
          0,
          6.28,
          2.24,
          17.22,
          6.21,
          11.88,
          7.61,
          7.76,
          8.33,
          18.59,
          8.39,
          8.17,
          9.76,
          23.2,
          10.18,
          13.79,
          0.53,
          10.57,
          7.14,
          7.16,
          5.72,
          11.05,
          8.25,
          10.88,
          5.92,
          7.31,
          12.44,
          2.95,
          18.39,
          13.22,
          3.64,
          8.69,
          0,
          16.48,
          5,
          4.94,
          7.57,
          7.65,
          9.36,
          17.43,
          11.34,
          9.97,
          5.43,
          5.89,
          10.5,
          18.08,
          17.58,
          20.03,
          14.33,
          7.7,
          17.07,
          15.13,
          11.69,
          7.8,
          10.28,
          5.18,
          7.93,
          8.56,
          9.91,
          6.51,
          19.63,
          10.69,
          7.89,
          8.69,
          9.01,
          7.41,
          7.8,
          9.88,
          6.33,
          8.77,
          6.18,
          0,
          15.21,
          5.89,
          4.63,
          8.66,
          9.51,
          9.52,
          9.63,
          9.99,
          15.55,
          13.36,
          11.83,
          11.87,
          9.4,
          6.33,
          12.1,
          11.48,
          10.93,
          10.03,
          18.09,
          11.38,
          7.81,
          10.64,
          7,
          8.94,
          8.12,
          8.63,
          17.28,
          7.66,
          10.15,
          7.89,
          8.01,
          19.35,
          12.4,
          9.01,
          7.44,
          9.42,
          12.05,
          1.73,
          7.87,
          4.9,
          17.09,
          5.66,
          12.24,
          16.19,
          7.85,
          2.64,
          5.81,
          16.83,
          17.44,
          17.44,
          22.63,
          13.76,
          10.24,
          5.77,
          11.16,
          12.14,
          17.93,
          10.72,
          4.1,
          10.94,
          5.1,
          7.95,
          15.99,
          6.03,
          5.15,
          13.4,
          3.79,
          8.01,
          7.44,
          3.68,
          5.64,
          11.06,
          9.68,
          17.53,
          5.01,
          5.52,
          7.83
         ],
         "xaxis": "x",
         "y": [
          11.96,
          15.35,
          14.65,
          12.31,
          16.52,
          17.73,
          9.34,
          10.72,
          8.07,
          13.55,
          1.1,
          5,
          6.4,
          7.09,
          9,
          5.88,
          6.6,
          2.48,
          10.75,
          19.82,
          4.98,
          0,
          6,
          0,
          9.2,
          13.56,
          8.18,
          8.77,
          8.49,
          18.55,
          6.75,
          8.75,
          7.54,
          7.65,
          6.7,
          3,
          16.45,
          21.36,
          5.5,
          18.28,
          20.96,
          10.67,
          13.37,
          7.22,
          6.55,
          23.46,
          3.5,
          10,
          4.74,
          7.49,
          4.97,
          10.32,
          8.62,
          19.23,
          13.06,
          6.58,
          3.46,
          10.82,
          15.8,
          10.63,
          8.87,
          3.68,
          14.87,
          8.1,
          11.38,
          0,
          2.4,
          4.4,
          2.9,
          4.33,
          22.34,
          5,
          0,
          4.33,
          6.28,
          9.82,
          8.6,
          11.75,
          7.93,
          17.41,
          4.5,
          6.5,
          12.44,
          15.35,
          7.95,
          14.73,
          4.81,
          6.84,
          14.08,
          15.66,
          12.18,
          7.84,
          11.02,
          5.22,
          8,
          6.57,
          8,
          8.2,
          3,
          14.5,
          4.39,
          0,
          6,
          2.72,
          6,
          1,
          9.7,
          11,
          20.96,
          1.4,
          12.4,
          9.4,
          0,
          6.2,
          8,
          3.5,
          3.5,
          3.75,
          19.1,
          19.08,
          4,
          15.34,
          9.46,
          6.81,
          4.85,
          11.01,
          28.16,
          18.54,
          9.95,
          17.76,
          6.09,
          7.68,
          4.8,
          5.4,
          9.34,
          4.2,
          4.47,
          10.5,
          19.59,
          6.4,
          11.33,
          13.44,
          5.85,
          1,
          16,
          7,
          0,
          21.46,
          3.67,
          0,
          0,
          6.1,
          7.57,
          24.42,
          18.04,
          12.75,
          10.78,
          13.3,
          7.44,
          5.83,
          16.04,
          9.96,
          4.52,
          3.81,
          12,
          1.15,
          8.59,
          3.7,
          1.54,
          4.2,
          13.8,
          10,
          8.91,
          5.22,
          8.12,
          4,
          10.36,
          9.78,
          19.55,
          8.9,
          6,
          24.45,
          0,
          11.7,
          8,
          2.93,
          13.28,
          0,
          4.5,
          26.87,
          10.74,
          17.71,
          11.81,
          13.74,
          9.89,
          7.71,
          10.3,
          17.55,
          4.65,
          9.81,
          12.19,
          5.25,
          9.4,
          3.5,
          0,
          12.33,
          11.3,
          21,
          4.36,
          12.22,
          7.3,
          12.94,
          9.32,
          7.43,
          7.5,
          5,
          4.18,
          8.32,
          12.83,
          7,
          8.77,
          20.24,
          6.29,
          16,
          5.75,
          11,
          7.77,
          11,
          14.5,
          8.71,
          0,
          3.1,
          0.55,
          21.46,
          11,
          3.12,
          5,
          5.09,
          3.88,
          20.1,
          8.22,
          9.44,
          7.86,
          21.99,
          10.75,
          9.49,
          1.15,
          8.95,
          6.94,
          6.98,
          6.9,
          5.13,
          9.11,
          3.04,
          4.33,
          3.83,
          14.01,
          3.3,
          14.52,
          16.37,
          0.7,
          2.5,
          0,
          16.5,
          5.38,
          5,
          3.5,
          9.5,
          10.22,
          17.86,
          9.65,
          11.17,
          4.67,
          7.75,
          19.7,
          18.88,
          17.98,
          16.82,
          16.32,
          6.13,
          22.45,
          14.21,
          10.65,
          9.24,
          10.72,
          8.36,
          0,
          4.13,
          5.73,
          4.54,
          12.68,
          9.65,
          14,
          2.5,
          1.7,
          8.17,
          6.86,
          3.87,
          4.1,
          6.13,
          12,
          0,
          11.45,
          2,
          8.6,
          3.6,
          8.62,
          5.01,
          8.09,
          11.1,
          16.5,
          14.37,
          12.27,
          15.3,
          9.7,
          6.8,
          11.52,
          14.62,
          8.13,
          15.84,
          8.83,
          9.31,
          8.81,
          10.2,
          8.38,
          7.55,
          1,
          7.65,
          12.68,
          4.5,
          8.92,
          9.17,
          5.99,
          11.3,
          8.4,
          1.7,
          6,
          8.5,
          8.6,
          1.8,
          6.78,
          3.4,
          20.96,
          8,
          6.49,
          14.52,
          6.1,
          1.85,
          0.9,
          14.84,
          15.49,
          20.89,
          26.1,
          15.45,
          10.01,
          3.4,
          13.62,
          11.19,
          24.57,
          5.35,
          2,
          11.78,
          5.64,
          5.91,
          13.8,
          1.02,
          6.31,
          11.4,
          2.4,
          6.75,
          7.77,
          2.12,
          4.67,
          14.67,
          8.17,
          24.64,
          2,
          4,
          4
         ],
         "yaxis": "y"
        }
       ],
       "layout": {
        "coloraxis": {
         "colorbar": {
          "title": {
           "text": "Residual"
          }
         },
         "colorscale": [
          [
           0,
           "#0d0887"
          ],
          [
           0.1111111111111111,
           "#46039f"
          ],
          [
           0.2222222222222222,
           "#7201a8"
          ],
          [
           0.3333333333333333,
           "#9c179e"
          ],
          [
           0.4444444444444444,
           "#bd3786"
          ],
          [
           0.5555555555555556,
           "#d8576b"
          ],
          [
           0.6666666666666666,
           "#ed7953"
          ],
          [
           0.7777777777777778,
           "#fb9f3a"
          ],
          [
           0.8888888888888888,
           "#fdca26"
          ],
          [
           1,
           "#f0f921"
          ]
         ]
        },
        "legend": {
         "tracegroupgap": 0
        },
        "margin": {
         "t": 60
        },
        "shapes": [
         {
          "line": {
           "color": "Red",
           "dash": "dash"
          },
          "type": "line",
          "x0": 0,
          "x1": 1,
          "xref": "x domain",
          "y0": 9.113931398416886,
          "y1": 9.113931398416886,
          "yref": "y"
         },
         {
          "line": {
           "color": "Red",
           "dash": "dash"
          },
          "type": "line",
          "x0": 9.477044854881266,
          "x1": 9.477044854881266,
          "xref": "x",
          "y0": 0,
          "y1": 1,
          "yref": "y domain"
         }
        ],
        "template": {
         "data": {
          "bar": [
           {
            "error_x": {
             "color": "#2a3f5f"
            },
            "error_y": {
             "color": "#2a3f5f"
            },
            "marker": {
             "line": {
              "color": "#E5ECF6",
              "width": 0.5
             },
             "pattern": {
              "fillmode": "overlay",
              "size": 10,
              "solidity": 0.2
             }
            },
            "type": "bar"
           }
          ],
          "barpolar": [
           {
            "marker": {
             "line": {
              "color": "#E5ECF6",
              "width": 0.5
             },
             "pattern": {
              "fillmode": "overlay",
              "size": 10,
              "solidity": 0.2
             }
            },
            "type": "barpolar"
           }
          ],
          "carpet": [
           {
            "aaxis": {
             "endlinecolor": "#2a3f5f",
             "gridcolor": "white",
             "linecolor": "white",
             "minorgridcolor": "white",
             "startlinecolor": "#2a3f5f"
            },
            "baxis": {
             "endlinecolor": "#2a3f5f",
             "gridcolor": "white",
             "linecolor": "white",
             "minorgridcolor": "white",
             "startlinecolor": "#2a3f5f"
            },
            "type": "carpet"
           }
          ],
          "choropleth": [
           {
            "colorbar": {
             "outlinewidth": 0,
             "ticks": ""
            },
            "type": "choropleth"
           }
          ],
          "contour": [
           {
            "colorbar": {
             "outlinewidth": 0,
             "ticks": ""
            },
            "colorscale": [
             [
              0,
              "#0d0887"
             ],
             [
              0.1111111111111111,
              "#46039f"
             ],
             [
              0.2222222222222222,
              "#7201a8"
             ],
             [
              0.3333333333333333,
              "#9c179e"
             ],
             [
              0.4444444444444444,
              "#bd3786"
             ],
             [
              0.5555555555555556,
              "#d8576b"
             ],
             [
              0.6666666666666666,
              "#ed7953"
             ],
             [
              0.7777777777777778,
              "#fb9f3a"
             ],
             [
              0.8888888888888888,
              "#fdca26"
             ],
             [
              1,
              "#f0f921"
             ]
            ],
            "type": "contour"
           }
          ],
          "contourcarpet": [
           {
            "colorbar": {
             "outlinewidth": 0,
             "ticks": ""
            },
            "type": "contourcarpet"
           }
          ],
          "heatmap": [
           {
            "colorbar": {
             "outlinewidth": 0,
             "ticks": ""
            },
            "colorscale": [
             [
              0,
              "#0d0887"
             ],
             [
              0.1111111111111111,
              "#46039f"
             ],
             [
              0.2222222222222222,
              "#7201a8"
             ],
             [
              0.3333333333333333,
              "#9c179e"
             ],
             [
              0.4444444444444444,
              "#bd3786"
             ],
             [
              0.5555555555555556,
              "#d8576b"
             ],
             [
              0.6666666666666666,
              "#ed7953"
             ],
             [
              0.7777777777777778,
              "#fb9f3a"
             ],
             [
              0.8888888888888888,
              "#fdca26"
             ],
             [
              1,
              "#f0f921"
             ]
            ],
            "type": "heatmap"
           }
          ],
          "heatmapgl": [
           {
            "colorbar": {
             "outlinewidth": 0,
             "ticks": ""
            },
            "colorscale": [
             [
              0,
              "#0d0887"
             ],
             [
              0.1111111111111111,
              "#46039f"
             ],
             [
              0.2222222222222222,
              "#7201a8"
             ],
             [
              0.3333333333333333,
              "#9c179e"
             ],
             [
              0.4444444444444444,
              "#bd3786"
             ],
             [
              0.5555555555555556,
              "#d8576b"
             ],
             [
              0.6666666666666666,
              "#ed7953"
             ],
             [
              0.7777777777777778,
              "#fb9f3a"
             ],
             [
              0.8888888888888888,
              "#fdca26"
             ],
             [
              1,
              "#f0f921"
             ]
            ],
            "type": "heatmapgl"
           }
          ],
          "histogram": [
           {
            "marker": {
             "pattern": {
              "fillmode": "overlay",
              "size": 10,
              "solidity": 0.2
             }
            },
            "type": "histogram"
           }
          ],
          "histogram2d": [
           {
            "colorbar": {
             "outlinewidth": 0,
             "ticks": ""
            },
            "colorscale": [
             [
              0,
              "#0d0887"
             ],
             [
              0.1111111111111111,
              "#46039f"
             ],
             [
              0.2222222222222222,
              "#7201a8"
             ],
             [
              0.3333333333333333,
              "#9c179e"
             ],
             [
              0.4444444444444444,
              "#bd3786"
             ],
             [
              0.5555555555555556,
              "#d8576b"
             ],
             [
              0.6666666666666666,
              "#ed7953"
             ],
             [
              0.7777777777777778,
              "#fb9f3a"
             ],
             [
              0.8888888888888888,
              "#fdca26"
             ],
             [
              1,
              "#f0f921"
             ]
            ],
            "type": "histogram2d"
           }
          ],
          "histogram2dcontour": [
           {
            "colorbar": {
             "outlinewidth": 0,
             "ticks": ""
            },
            "colorscale": [
             [
              0,
              "#0d0887"
             ],
             [
              0.1111111111111111,
              "#46039f"
             ],
             [
              0.2222222222222222,
              "#7201a8"
             ],
             [
              0.3333333333333333,
              "#9c179e"
             ],
             [
              0.4444444444444444,
              "#bd3786"
             ],
             [
              0.5555555555555556,
              "#d8576b"
             ],
             [
              0.6666666666666666,
              "#ed7953"
             ],
             [
              0.7777777777777778,
              "#fb9f3a"
             ],
             [
              0.8888888888888888,
              "#fdca26"
             ],
             [
              1,
              "#f0f921"
             ]
            ],
            "type": "histogram2dcontour"
           }
          ],
          "mesh3d": [
           {
            "colorbar": {
             "outlinewidth": 0,
             "ticks": ""
            },
            "type": "mesh3d"
           }
          ],
          "parcoords": [
           {
            "line": {
             "colorbar": {
              "outlinewidth": 0,
              "ticks": ""
             }
            },
            "type": "parcoords"
           }
          ],
          "pie": [
           {
            "automargin": true,
            "type": "pie"
           }
          ],
          "scatter": [
           {
            "marker": {
             "colorbar": {
              "outlinewidth": 0,
              "ticks": ""
             }
            },
            "type": "scatter"
           }
          ],
          "scatter3d": [
           {
            "line": {
             "colorbar": {
              "outlinewidth": 0,
              "ticks": ""
             }
            },
            "marker": {
             "colorbar": {
              "outlinewidth": 0,
              "ticks": ""
             }
            },
            "type": "scatter3d"
           }
          ],
          "scattercarpet": [
           {
            "marker": {
             "colorbar": {
              "outlinewidth": 0,
              "ticks": ""
             }
            },
            "type": "scattercarpet"
           }
          ],
          "scattergeo": [
           {
            "marker": {
             "colorbar": {
              "outlinewidth": 0,
              "ticks": ""
             }
            },
            "type": "scattergeo"
           }
          ],
          "scattergl": [
           {
            "marker": {
             "colorbar": {
              "outlinewidth": 0,
              "ticks": ""
             }
            },
            "type": "scattergl"
           }
          ],
          "scattermapbox": [
           {
            "marker": {
             "colorbar": {
              "outlinewidth": 0,
              "ticks": ""
             }
            },
            "type": "scattermapbox"
           }
          ],
          "scatterpolar": [
           {
            "marker": {
             "colorbar": {
              "outlinewidth": 0,
              "ticks": ""
             }
            },
            "type": "scatterpolar"
           }
          ],
          "scatterpolargl": [
           {
            "marker": {
             "colorbar": {
              "outlinewidth": 0,
              "ticks": ""
             }
            },
            "type": "scatterpolargl"
           }
          ],
          "scatterternary": [
           {
            "marker": {
             "colorbar": {
              "outlinewidth": 0,
              "ticks": ""
             }
            },
            "type": "scatterternary"
           }
          ],
          "surface": [
           {
            "colorbar": {
             "outlinewidth": 0,
             "ticks": ""
            },
            "colorscale": [
             [
              0,
              "#0d0887"
             ],
             [
              0.1111111111111111,
              "#46039f"
             ],
             [
              0.2222222222222222,
              "#7201a8"
             ],
             [
              0.3333333333333333,
              "#9c179e"
             ],
             [
              0.4444444444444444,
              "#bd3786"
             ],
             [
              0.5555555555555556,
              "#d8576b"
             ],
             [
              0.6666666666666666,
              "#ed7953"
             ],
             [
              0.7777777777777778,
              "#fb9f3a"
             ],
             [
              0.8888888888888888,
              "#fdca26"
             ],
             [
              1,
              "#f0f921"
             ]
            ],
            "type": "surface"
           }
          ],
          "table": [
           {
            "cells": {
             "fill": {
              "color": "#EBF0F8"
             },
             "line": {
              "color": "white"
             }
            },
            "header": {
             "fill": {
              "color": "#C8D4E3"
             },
             "line": {
              "color": "white"
             }
            },
            "type": "table"
           }
          ]
         },
         "layout": {
          "annotationdefaults": {
           "arrowcolor": "#2a3f5f",
           "arrowhead": 0,
           "arrowwidth": 1
          },
          "autotypenumbers": "strict",
          "coloraxis": {
           "colorbar": {
            "outlinewidth": 0,
            "ticks": ""
           }
          },
          "colorscale": {
           "diverging": [
            [
             0,
             "#8e0152"
            ],
            [
             0.1,
             "#c51b7d"
            ],
            [
             0.2,
             "#de77ae"
            ],
            [
             0.3,
             "#f1b6da"
            ],
            [
             0.4,
             "#fde0ef"
            ],
            [
             0.5,
             "#f7f7f7"
            ],
            [
             0.6,
             "#e6f5d0"
            ],
            [
             0.7,
             "#b8e186"
            ],
            [
             0.8,
             "#7fbc41"
            ],
            [
             0.9,
             "#4d9221"
            ],
            [
             1,
             "#276419"
            ]
           ],
           "sequential": [
            [
             0,
             "#0d0887"
            ],
            [
             0.1111111111111111,
             "#46039f"
            ],
            [
             0.2222222222222222,
             "#7201a8"
            ],
            [
             0.3333333333333333,
             "#9c179e"
            ],
            [
             0.4444444444444444,
             "#bd3786"
            ],
            [
             0.5555555555555556,
             "#d8576b"
            ],
            [
             0.6666666666666666,
             "#ed7953"
            ],
            [
             0.7777777777777778,
             "#fb9f3a"
            ],
            [
             0.8888888888888888,
             "#fdca26"
            ],
            [
             1,
             "#f0f921"
            ]
           ],
           "sequentialminus": [
            [
             0,
             "#0d0887"
            ],
            [
             0.1111111111111111,
             "#46039f"
            ],
            [
             0.2222222222222222,
             "#7201a8"
            ],
            [
             0.3333333333333333,
             "#9c179e"
            ],
            [
             0.4444444444444444,
             "#bd3786"
            ],
            [
             0.5555555555555556,
             "#d8576b"
            ],
            [
             0.6666666666666666,
             "#ed7953"
            ],
            [
             0.7777777777777778,
             "#fb9f3a"
            ],
            [
             0.8888888888888888,
             "#fdca26"
            ],
            [
             1,
             "#f0f921"
            ]
           ]
          },
          "colorway": [
           "#636efa",
           "#EF553B",
           "#00cc96",
           "#ab63fa",
           "#FFA15A",
           "#19d3f3",
           "#FF6692",
           "#B6E880",
           "#FF97FF",
           "#FECB52"
          ],
          "font": {
           "color": "#2a3f5f"
          },
          "geo": {
           "bgcolor": "white",
           "lakecolor": "white",
           "landcolor": "#E5ECF6",
           "showlakes": true,
           "showland": true,
           "subunitcolor": "white"
          },
          "hoverlabel": {
           "align": "left"
          },
          "hovermode": "closest",
          "mapbox": {
           "style": "light"
          },
          "paper_bgcolor": "white",
          "plot_bgcolor": "#E5ECF6",
          "polar": {
           "angularaxis": {
            "gridcolor": "white",
            "linecolor": "white",
            "ticks": ""
           },
           "bgcolor": "#E5ECF6",
           "radialaxis": {
            "gridcolor": "white",
            "linecolor": "white",
            "ticks": ""
           }
          },
          "scene": {
           "xaxis": {
            "backgroundcolor": "#E5ECF6",
            "gridcolor": "white",
            "gridwidth": 2,
            "linecolor": "white",
            "showbackground": true,
            "ticks": "",
            "zerolinecolor": "white"
           },
           "yaxis": {
            "backgroundcolor": "#E5ECF6",
            "gridcolor": "white",
            "gridwidth": 2,
            "linecolor": "white",
            "showbackground": true,
            "ticks": "",
            "zerolinecolor": "white"
           },
           "zaxis": {
            "backgroundcolor": "#E5ECF6",
            "gridcolor": "white",
            "gridwidth": 2,
            "linecolor": "white",
            "showbackground": true,
            "ticks": "",
            "zerolinecolor": "white"
           }
          },
          "shapedefaults": {
           "line": {
            "color": "#2a3f5f"
           }
          },
          "ternary": {
           "aaxis": {
            "gridcolor": "white",
            "linecolor": "white",
            "ticks": ""
           },
           "baxis": {
            "gridcolor": "white",
            "linecolor": "white",
            "ticks": ""
           },
           "bgcolor": "#E5ECF6",
           "caxis": {
            "gridcolor": "white",
            "linecolor": "white",
            "ticks": ""
           }
          },
          "title": {
           "x": 0.05
          },
          "xaxis": {
           "automargin": true,
           "gridcolor": "white",
           "linecolor": "white",
           "ticks": "",
           "title": {
            "standoff": 15
           },
           "zerolinecolor": "white",
           "zerolinewidth": 2
          },
          "yaxis": {
           "automargin": true,
           "gridcolor": "white",
           "linecolor": "white",
           "ticks": "",
           "title": {
            "standoff": 15
           },
           "zerolinecolor": "white",
           "zerolinewidth": 2
          }
         }
        },
        "xaxis": {
         "anchor": "y",
         "domain": [
          0,
          1
         ],
         "title": {
          "text": "Average Projected Points"
         }
        },
        "yaxis": {
         "anchor": "x",
         "domain": [
          0,
          1
         ],
         "title": {
          "text": "Average Scored Points"
         }
        }
       }
      }
     },
     "metadata": {},
     "output_type": "display_data"
    }
   ],
   "source": [
    "fig = px.scatter(df, x=df['Average Projected Points'], y=df['Average Scored Points'], color=df['Residual'], hover_data=['Average Projected Points', 'Length of Ownership','Player', 'Team'])\n",
    "fig.add_hline(df['Average Scored Points'].mean(), line_color='Red', line_dash = 'dash')\n",
    "fig.add_vline(df['Average Projected Points'].mean(), line_color='Red', line_dash = 'dash')\n",
    "fig.show()"
   ]
  },
  {
   "cell_type": "code",
   "execution_count": 9,
   "metadata": {},
   "outputs": [
    {
     "data": {
      "application/vnd.plotly.v1+json": {
       "config": {
        "plotlyServerURL": "https://plot.ly"
       },
       "data": [
        {
         "customdata": [
          [
           14.87,
           17,
           "Dalvin Cook",
           "Couv Reigning Champ"
          ],
          [
           11.13,
           10,
           "D'Andre Swift",
           "Couv Reigning Champ"
          ],
          [
           15.65,
           4,
           "Javonte Williams",
           "Couv Reigning Champ"
          ],
          [
           11.86,
           17,
           "Michael Pittman Jr.",
           "Couv Reigning Champ"
          ],
          [
           12.74,
           17,
           "Jaylen Waddle",
           "Couv Reigning Champ"
          ],
          [
           16.75,
           14,
           "Kyler Murray",
           "Couv Reigning Champ"
          ],
          [
           9.63,
           17,
           "Chris Godwin",
           "Couv Reigning Champ"
          ],
          [
           8.8,
           8,
           "Rashod Bateman",
           "Couv Reigning Champ"
          ],
          [
           9.42,
           9,
           "Melvin Gordon III",
           "Couv Reigning Champ"
          ],
          [
           12.01,
           17,
           "Christian Kirk",
           "Couv Reigning Champ"
          ],
          [
           8.57,
           1,
           "Mike Gesicki",
           "Couv Reigning Champ"
          ],
          [
           4.59,
           6,
           "Alexander Mattison",
           "Couv Reigning Champ"
          ],
          [
           5.4,
           10,
           "Ravens D/ST",
           "Couv Reigning Champ"
          ],
          [
           8.6,
           7,
           "Nyheim Hines",
           "Couv Reigning Champ"
          ],
          [
           8.28,
           1,
           "Harrison Butker",
           "Couv Reigning Champ"
          ],
          [
           5.68,
           8,
           "Rondale Moore",
           "Couv Reigning Champ"
          ],
          [
           8.66,
           1,
           "Robert Tonyan",
           "Couv Reigning Champ"
          ],
          [
           1.47,
           4,
           "Gus Edwards",
           "Couv Reigning Champ"
          ],
          [
           11.2,
           6,
           "Pat Freiermuth",
           "Couv Reigning Champ"
          ],
          [
           17.88,
           1,
           "Derek Carr",
           "Couv Reigning Champ"
          ],
          [
           8.1,
           9,
           "Tyler Higbee",
           "Couv Reigning Champ"
          ],
          [
           8.82,
           1,
           "Albert Okwuegbunam",
           "Couv Reigning Champ"
          ],
          [
           7.69,
           1,
           "Cade York",
           "Couv Reigning Champ"
          ],
          [
           2.21,
           1,
           "Greg Dortch",
           "Couv Reigning Champ"
          ],
          [
           4.84,
           5,
           "Bills D/ST",
           "Couv Reigning Champ"
          ],
          [
           6.33,
           1,
           "Taysom Hill",
           "Couv Reigning Champ"
          ],
          [
           8.08,
           9,
           "Dalton Schultz",
           "Couv Reigning Champ"
          ],
          [
           15.6,
           7,
           "Alvin Kamara",
           "Couv Reigning Champ"
          ],
          [
           5.39,
           7,
           "Marquise Brown",
           "Couv Reigning Champ"
          ],
          [
           17.28,
           2,
           "Tom Brady",
           "Couv Reigning Champ"
          ],
          [
           8.01,
           8,
           "Ryan Succop",
           "Couv Reigning Champ"
          ],
          [
           6.38,
           4,
           "Eagles D/ST",
           "Couv Reigning Champ"
          ],
          [
           7.19,
           15,
           "Rachaad White",
           "Couv Reigning Champ"
          ],
          [
           7.71,
           8,
           "Isiah Pacheco",
           "Couv Reigning Champ"
          ],
          [
           10.13,
           2,
           "Alec Pierce",
           "Couv Reigning Champ"
          ],
          [
           3.42,
           2,
           "Jets D/ST",
           "Couv Reigning Champ"
          ],
          [
           11.11,
           4,
           "Joshua Palmer",
           "Couv Reigning Champ"
          ],
          [
           8.16,
           2,
           "Justin Fields",
           "Couv Reigning Champ"
          ],
          [
           5.38,
           2,
           "Seahawks D/ST",
           "Couv Reigning Champ"
          ],
          [
           16.91,
           1,
           "Daniel Jones",
           "Couv Reigning Champ"
          ],
          [
           17.09,
           4,
           "Trevor Lawrence",
           "Couv Reigning Champ"
          ],
          [
           6.63,
           3,
           "Joey Slye",
           "Couv Reigning Champ"
          ],
          [
           9.14,
           7,
           "D'Andre Swift",
           "Eugene Tweakers"
          ],
          [
           8.18,
           9,
           "Harrison Butker",
           "Eugene Tweakers"
          ],
          [
           5.12,
           2,
           "Rondale Moore",
           "Eugene Tweakers"
          ],
          [
           19.78,
           11,
           "Austin Ekeler",
           "Eugene Tweakers"
          ],
          [
           6.9,
           2,
           "Colts D/ST",
           "Eugene Tweakers"
          ],
          [
           7.53,
           1,
           "Rams D/ST",
           "Eugene Tweakers"
          ],
          [
           8.65,
           7,
           "Tyler Higbee",
           "Eugene Tweakers"
          ],
          [
           7.36,
           11,
           "Noah Fant",
           "Eugene Tweakers"
          ],
          [
           9,
           3,
           "Rex Burkhead",
           "Eugene Tweakers"
          ],
          [
           13.95,
           6,
           "Cooper Kupp",
           "Eugene Tweakers"
          ],
          [
           14.55,
           10,
           "Alvin Kamara",
           "Eugene Tweakers"
          ],
          [
           13.77,
           17,
           "CeeDee Lamb",
           "Eugene Tweakers"
          ],
          [
           13.56,
           17,
           "Tee Higgins",
           "Eugene Tweakers"
          ],
          [
           7.48,
           17,
           "Cam Akers",
           "Eugene Tweakers"
          ],
          [
           4.91,
           17,
           "Darren Waller",
           "Eugene Tweakers"
          ],
          [
           6.59,
           10,
           "Marquise Brown",
           "Eugene Tweakers"
          ],
          [
           14.67,
           15,
           "Tom Brady",
           "Eugene Tweakers"
          ],
          [
           9.79,
           17,
           "Adam Thielen",
           "Eugene Tweakers"
          ],
          [
           11.13,
           17,
           "Drake London",
           "Eugene Tweakers"
          ],
          [
           1.87,
           17,
           "Kadarius Toney",
           "Eugene Tweakers"
          ],
          [
           10.01,
           3,
           "Dak Prescott",
           "Eugene Tweakers"
          ],
          [
           5.65,
           10,
           "Cowboys D/ST",
           "Eugene Tweakers"
          ],
          [
           8.44,
           8,
           "Graham Gano",
           "Eugene Tweakers"
          ],
          [
           2.59,
           5,
           "Mike Davis",
           "Eugene Tweakers"
          ],
          [
           3.79,
           6,
           "Kenyan Drake",
           "Eugene Tweakers"
          ],
          [
           5.64,
           5,
           "Chargers D/ST",
           "Eugene Tweakers"
          ],
          [
           11.91,
           1,
           "Isaiah McKenzie",
           "Eugene Tweakers"
          ],
          [
           5.03,
           6,
           "Bengals D/ST",
           "Eugene Tweakers"
          ],
          [
           17.57,
           7,
           "Justin Fields",
           "Eugene Tweakers"
          ],
          [
           7.61,
           1,
           "Chiefs D/ST",
           "Eugene Tweakers"
          ],
          [
           0,
           1,
           "Melvin Gordon III",
           "I love kirk cousins"
          ],
          [
           5.29,
           3,
           "Buccaneers D/ST",
           "I love kirk cousins"
          ],
          [
           7.4,
           5,
           "AJ Dillon",
           "I love kirk cousins"
          ],
          [
           9.01,
           15,
           "Allen Lazard",
           "I love kirk cousins"
          ],
          [
           10,
           7,
           "Michael Carter",
           "I love kirk cousins"
          ],
          [
           7.78,
           8,
           "Tyler Bass",
           "I love kirk cousins"
          ],
          [
           7.39,
           3,
           "J.K. Dobbins",
           "I love kirk cousins"
          ],
          [
           17.01,
           14,
           "Joe Burrow",
           "I love kirk cousins"
          ],
          [
           6.64,
           2,
           "Saints D/ST",
           "I love kirk cousins"
          ],
          [
           6.28,
           3,
           "Taysom Hill",
           "I love kirk cousins"
          ],
          [
           13.02,
           17,
           "Leonard Fournette",
           "I love kirk cousins"
          ],
          [
           15.18,
           17,
           "Davante Adams",
           "I love kirk cousins"
          ],
          [
           10.2,
           17,
           "Mike Evans",
           "I love kirk cousins"
          ],
          [
           12.01,
           3,
           "Breece Hall",
           "I love kirk cousins"
          ],
          [
           6.75,
           14,
           "Brandin Cooks",
           "I love kirk cousins"
          ],
          [
           6.13,
           5,
           "Dalton Schultz",
           "I love kirk cousins"
          ],
          [
           12.15,
           17,
           "Devin Singletary",
           "I love kirk cousins"
          ],
          [
           11.64,
           17,
           "Amari Cooper",
           "I love kirk cousins"
          ],
          [
           11.94,
           3,
           "Russell Wilson",
           "I love kirk cousins"
          ],
          [
           5.81,
           17,
           "Cordarrelle Patterson",
           "I love kirk cousins"
          ],
          [
           11.19,
           10,
           "Zach Ertz",
           "I love kirk cousins"
          ],
          [
           7.71,
           9,
           "Evan McPherson",
           "I love kirk cousins"
          ],
          [
           5.65,
           4,
           "Patriots D/ST",
           "I love kirk cousins"
          ],
          [
           9.25,
           7,
           "J.D. McKissic",
           "I love kirk cousins"
          ],
          [
           7.67,
           1,
           "Texans D/ST",
           "I love kirk cousins"
          ],
          [
           8.7,
           1,
           "Tyler Conklin",
           "I love kirk cousins"
          ],
          [
           6.45,
           1,
           "Browns D/ST",
           "I love kirk cousins"
          ],
          [
           8.08,
           2,
           "Tyler Allgeier",
           "I love kirk cousins"
          ],
          [
           6.84,
           14,
           "Gerald Everett",
           "I love kirk cousins"
          ],
          [
           7.67,
           1,
           "Isaiah McKenzie",
           "I love kirk cousins"
          ],
          [
           6.38,
           1,
           "Bengals D/ST",
           "I love kirk cousins"
          ],
          [
           4.65,
           4,
           "Chuba Hubbard",
           "I love kirk cousins"
          ],
          [
           5.79,
           1,
           "Commanders D/ST",
           "I love kirk cousins"
          ],
          [
           5.8,
           1,
           "Seahawks D/ST",
           "I love kirk cousins"
          ],
          [
           10.4,
           2,
           "Tyler Boyd",
           "I love kirk cousins"
          ],
          [
           6.21,
           2,
           "Titans D/ST",
           "I love kirk cousins"
          ],
          [
           17.09,
           1,
           "Trevor Lawrence",
           "I love kirk cousins"
          ],
          [
           9.59,
           4,
           "Jerick McKinnon",
           "I love kirk cousins"
          ],
          [
           9.97,
           2,
           "Mack Hollins",
           "I love kirk cousins"
          ],
          [
           7.42,
           4,
           "Samaje Perine",
           "I love kirk cousins"
          ],
          [
           7.38,
           3,
           "Foster Moreau",
           "I love kirk cousins"
          ],
          [
           10.41,
           6,
           "Darius Slayton",
           "I love kirk cousins"
          ],
          [
           6.77,
           1,
           "Chiefs D/ST",
           "I love kirk cousins"
          ],
          [
           4.76,
           2,
           "Ravens D/ST",
           "Gorilla Guys"
          ],
          [
           8.1,
           2,
           "Harrison Butker",
           "Gorilla Guys"
          ],
          [
           5.08,
           8,
           "Buccaneers D/ST",
           "Gorilla Guys"
          ],
          [
           11.92,
           2,
           "Clyde Edwards-Helaire",
           "Gorilla Guys"
          ],
          [
           14.95,
           1,
           "Aaron Rodgers",
           "Gorilla Guys"
          ],
          [
           8.48,
           1,
           "Brandon McManus",
           "Gorilla Guys"
          ],
          [
           14.68,
           17,
           "Derrick Henry",
           "Gorilla Guys"
          ],
          [
           13.92,
           11,
           "Joe Mixon",
           "Gorilla Guys"
          ],
          [
           5.41,
           17,
           "Keenan Allen",
           "Gorilla Guys"
          ],
          [
           4.73,
           17,
           "Kyle Pitts",
           "Gorilla Guys"
          ],
          [
           12.51,
           17,
           "Diontae Johnson",
           "Gorilla Guys"
          ],
          [
           23.1,
           17,
           "Jalen Hurts",
           "Gorilla Guys"
          ],
          [
           13.56,
           17,
           "Amon-Ra St. Brown",
           "Gorilla Guys"
          ],
          [
           11.02,
           17,
           "JuJu Smith-Schuster",
           "Gorilla Guys"
          ],
          [
           11.92,
           17,
           "Tony Pollard",
           "Gorilla Guys"
          ],
          [
           5.44,
           11,
           "DeAndre Hopkins",
           "Gorilla Guys"
          ],
          [
           9.53,
           17,
           "Jamaal Williams",
           "Gorilla Guys"
          ],
          [
           5.91,
           5,
           "Saints D/ST",
           "Gorilla Guys"
          ],
          [
           8.43,
           5,
           "Matt Gay",
           "Gorilla Guys"
          ],
          [
           12.09,
           11,
           "Darrell Henderson Jr.",
           "Gorilla Guys"
          ],
          [
           10.23,
           5,
           "Robbie Anderson",
           "Gorilla Guys"
          ],
          [
           2.2,
           8,
           "Jahan Dotson",
           "Gorilla Guys"
          ],
          [
           7.82,
           4,
           "Rams D/ST",
           "Gorilla Guys"
          ],
          [
           16.09,
           6,
           "Justin Jefferson",
           "Gorilla Guys"
          ],
          [
           6.92,
           6,
           "George Kittle",
           "Gorilla Guys"
          ],
          [
           8.36,
           3,
           "Graham Gano",
           "Gorilla Guys"
          ],
          [
           19.63,
           5,
           "Tua Tagovailoa",
           "Gorilla Guys"
          ],
          [
           8.2,
           2,
           "Tyler Conklin",
           "Gorilla Guys"
          ],
          [
           7.54,
           2,
           "Jaguars D/ST",
           "Gorilla Guys"
          ],
          [
           9.68,
           2,
           "Deon Jackson",
           "Gorilla Guys"
          ],
          [
           8.11,
           1,
           "Brett Maher",
           "Gorilla Guys"
          ],
          [
           0,
           8,
           "Odell Beckham Jr.",
           "Gorilla Guys"
          ],
          [
           17.22,
           2,
           "Daniel Jones",
           "Gorilla Guys"
          ],
          [
           4.8,
           9,
           "Cairo Santos",
           "Gorilla Guys"
          ],
          [
           2.65,
           6,
           "Juwan Johnson",
           "Gorilla Guys"
          ],
          [
           0,
           2,
           "Matthew Wright",
           "Gorilla Guys"
          ],
          [
           8.48,
           5,
           "Nyheim Hines",
           "Diggy Wit it"
          ],
          [
           8.31,
           7,
           "Robert Tonyan",
           "Diggy Wit it"
          ],
          [
           20.06,
           17,
           "Christian McCaffrey",
           "Diggy Wit it"
          ],
          [
           18.98,
           17,
           "Stefon Diggs",
           "Diggy Wit it"
          ],
          [
           13.22,
           17,
           "Aaron Jones",
           "Diggy Wit it"
          ],
          [
           10.75,
           17,
           "Mike Williams",
           "Diggy Wit it"
          ],
          [
           12.57,
           17,
           "DJ Moore",
           "Diggy Wit it"
          ],
          [
           10.99,
           17,
           "Courtland Sutton",
           "Diggy Wit it"
          ],
          [
           8.65,
           13,
           "Allen Robinson II",
           "Diggy Wit it"
          ],
          [
           11.5,
           5,
           "Rashaad Penny",
           "Diggy Wit it"
          ],
          [
           17.51,
           2,
           "Trey Lance",
           "Diggy Wit it"
          ],
          [
           7.77,
           12,
           "Chase Edmonds",
           "Diggy Wit it"
          ],
          [
           8.03,
           9,
           "Cole Kmet",
           "Diggy Wit it"
          ],
          [
           4.95,
           1,
           "Buccaneers D/ST",
           "Diggy Wit it"
          ],
          [
           5.74,
           2,
           "Robert Woods",
           "Diggy Wit it"
          ],
          [
           7.17,
           17,
           "Daniel Carlson",
           "Diggy Wit it"
          ],
          [
           10.18,
           3,
           "Marquez Valdes-Scantling",
           "Diggy Wit it"
          ],
          [
           1.43,
           17,
           "Jameson Williams",
           "Diggy Wit it"
          ],
          [
           8.55,
           1,
           "Raheem Mostert",
           "Diggy Wit it"
          ],
          [
           15.99,
           1,
           "Derek Carr",
           "Diggy Wit it"
          ],
          [
           7.53,
           1,
           "Rams D/ST",
           "Diggy Wit it"
          ],
          [
           5.65,
           11,
           "Patriots D/ST",
           "Diggy Wit it"
          ],
          [
           7.61,
           5,
           "Brian Robinson Jr.",
           "Diggy Wit it"
          ],
          [
           10.34,
           16,
           "Jeff Wilson Jr.",
           "Diggy Wit it"
          ],
          [
           6.04,
           2,
           "Browns D/ST",
           "Diggy Wit it"
          ],
          [
           8.86,
           7,
           "Evan Engram",
           "Diggy Wit it"
          ],
          [
           9.45,
           5,
           "Zay Jones",
           "Diggy Wit it"
          ],
          [
           14.85,
           9,
           "Jared Goff",
           "Diggy Wit it"
          ],
          [
           6.65,
           10,
           "Eagles D/ST",
           "Diggy Wit it"
          ],
          [
           7.75,
           1,
           "Jaguars D/ST",
           "Diggy Wit it"
          ],
          [
           16.32,
           2,
           "Kirk Cousins",
           "Diggy Wit it"
          ],
          [
           0,
           1,
           "Jason Myers",
           "Diggy Wit it"
          ],
          [
           8.16,
           1,
           "Hayden Hurst",
           "Diggy Wit it"
          ],
          [
           6.85,
           1,
           "Bengals D/ST",
           "Diggy Wit it"
          ],
          [
           7.39,
           6,
           "Greg Dulcich",
           "Diggy Wit it"
          ],
          [
           15.24,
           4,
           "Jimmy Garoppolo",
           "Diggy Wit it"
          ],
          [
           0,
           4,
           "Nico Collins",
           "Diggy Wit it"
          ],
          [
           5.44,
           2,
           "Buccaneers D/ST",
           "I love  Tyler Higbee"
          ],
          [
           19.44,
           6,
           "Austin Ekeler",
           "I love  Tyler Higbee"
          ],
          [
           13.2,
           17,
           "Mark Andrews",
           "I love  Tyler Higbee"
          ],
          [
           19.48,
           12,
           "Saquon Barkley",
           "I love  Tyler Higbee"
          ],
          [
           14.12,
           17,
           "A.J. Brown",
           "I love  Tyler Higbee"
          ],
          [
           15.92,
           17,
           "Lamar Jackson",
           "I love  Tyler Higbee"
          ],
          [
           9.34,
           13,
           "Jerry Jeudy",
           "I love  Tyler Higbee"
          ],
          [
           10.25,
           12,
           "AJ Dillon",
           "I love  Tyler Higbee"
          ],
          [
           6.34,
           8,
           "Michael Thomas",
           "I love  Tyler Higbee"
          ],
          [
           12.28,
           6,
           "Clyde Edwards-Helaire",
           "I love  Tyler Higbee"
          ],
          [
           5.68,
           2,
           "Allen Lazard",
           "I love  Tyler Higbee"
          ],
          [
           8.09,
           17,
           "Kenneth Walker III",
           "I love  Tyler Higbee"
          ],
          [
           13.05,
           15,
           "Dameon Pierce",
           "I love  Tyler Higbee"
          ],
          [
           6.52,
           8,
           "Treylon Burks",
           "I love  Tyler Higbee"
          ],
          [
           11.67,
           4,
           "Michael Carter",
           "I love  Tyler Higbee"
          ],
          [
           6.9,
           2,
           "Colts D/ST",
           "I love  Tyler Higbee"
          ],
          [
           0,
           6,
           "Gus Edwards",
           "I love  Tyler Higbee"
          ],
          [
           7.76,
           6,
           "Tyler Bass",
           "I love  Tyler Higbee"
          ],
          [
           10.59,
           2,
           "Darnell Mooney",
           "I love  Tyler Higbee"
          ],
          [
           10.83,
           1,
           "Jakobi Meyers",
           "I love  Tyler Higbee"
          ],
          [
           6.39,
           5,
           "Deebo Samuel",
           "I love  Tyler Higbee"
          ],
          [
           13.39,
           5,
           "David Montgomery",
           "I love  Tyler Higbee"
          ],
          [
           7.02,
           2,
           "Taysom Hill",
           "I love  Tyler Higbee"
          ],
          [
           14.64,
           7,
           "Geno Smith",
           "I love  Tyler Higbee"
          ],
          [
           12.77,
           8,
           "Cooper Kupp",
           "I love  Tyler Higbee"
          ],
          [
           4.73,
           7,
           "Cowboys D/ST",
           "I love  Tyler Higbee"
          ],
          [
           11.6,
           3,
           "Khalil Herbert",
           "I love  Tyler Higbee"
          ],
          [
           5.63,
           1,
           "Browns D/ST",
           "I love  Tyler Higbee"
          ],
          [
           9.18,
           5,
           "Zay Jones",
           "I love  Tyler Higbee"
          ],
          [
           11.37,
           4,
           "Romeo Doubs",
           "I love  Tyler Higbee"
          ],
          [
           10.94,
           3,
           "Tyler Allgeier",
           "I love  Tyler Higbee"
          ],
          [
           6.48,
           2,
           "Vikings D/ST",
           "I love  Tyler Higbee"
          ],
          [
           8.03,
           3,
           "Isiah Pacheco",
           "I love  Tyler Higbee"
          ],
          [
           17.42,
           4,
           "Kirk Cousins",
           "I love  Tyler Higbee"
          ],
          [
           5.56,
           7,
           "Jason Myers",
           "I love  Tyler Higbee"
          ],
          [
           9.68,
           2,
           "Deon Jackson",
           "I love  Tyler Higbee"
          ],
          [
           5.22,
           4,
           "Jets D/ST",
           "I love  Tyler Higbee"
          ],
          [
           6.74,
           4,
           "Wan'Dale Robinson",
           "I love  Tyler Higbee"
          ],
          [
           7.44,
           3,
           "Eno Benjamin",
           "I love  Tyler Higbee"
          ],
          [
           6.37,
           1,
           "Dolphins D/ST",
           "I love  Tyler Higbee"
          ],
          [
           7.99,
           6,
           "Brett Maher",
           "I love  Tyler Higbee"
          ],
          [
           11.11,
           10,
           "D'Onta Foreman",
           "I love  Tyler Higbee"
          ],
          [
           0,
           1,
           "Chuba Hubbard",
           "I love  Tyler Higbee"
          ],
          [
           6.28,
           3,
           "Greg Dulcich",
           "I love  Tyler Higbee"
          ],
          [
           2.24,
           4,
           "Isaiah Likely",
           "I love  Tyler Higbee"
          ],
          [
           17.22,
           2,
           "Daniel Jones",
           "I love  Tyler Higbee"
          ],
          [
           6.21,
           1,
           "Titans D/ST",
           "I love  Tyler Higbee"
          ],
          [
           11.88,
           5,
           "Zonovan Knight",
           "I love  Tyler Higbee"
          ],
          [
           7.61,
           2,
           "Chiefs D/ST",
           "I love  Tyler Higbee"
          ],
          [
           7.76,
           13,
           "Robert Woods",
           "Cougar Town Zach Wilson"
          ],
          [
           8.33,
           5,
           "Marquez Valdes-Scantling",
           "Cougar Town Zach Wilson"
          ],
          [
           18.59,
           5,
           "Saquon Barkley",
           "Cougar Town Zach Wilson"
          ],
          [
           8.39,
           12,
           "Antonio Gibson",
           "Cougar Town Zach Wilson"
          ],
          [
           8.17,
           12,
           "Jakobi Meyers",
           "Cougar Town Zach Wilson"
          ],
          [
           9.76,
           12,
           "Deebo Samuel",
           "Cougar Town Zach Wilson"
          ],
          [
           23.2,
           17,
           "Josh Allen",
           "Cougar Town Zach Wilson"
          ],
          [
           10.18,
           17,
           "James Conner",
           "Cougar Town Zach Wilson"
          ],
          [
           13.79,
           12,
           "David Montgomery",
           "Cougar Town Zach Wilson"
          ],
          [
           0.53,
           17,
           "Elijah Mitchell",
           "Cougar Town Zach Wilson"
          ],
          [
           10.57,
           17,
           "Gabe Davis",
           "Cougar Town Zach Wilson"
          ],
          [
           7.14,
           17,
           "Justin Tucker",
           "Cougar Town Zach Wilson"
          ],
          [
           7.16,
           17,
           "Dallas Goedert",
           "Cougar Town Zach Wilson"
          ],
          [
           5.72,
           13,
           "Damien Harris",
           "Cougar Town Zach Wilson"
          ],
          [
           11.05,
           6,
           "Elijah Moore",
           "Cougar Town Zach Wilson"
          ],
          [
           8.25,
           17,
           "Dawson Knox",
           "Cougar Town Zach Wilson"
          ],
          [
           10.88,
           5,
           "DJ Chark",
           "Cougar Town Zach Wilson"
          ],
          [
           5.92,
           9,
           "Steelers D/ST",
           "Cougar Town Zach Wilson"
          ],
          [
           7.31,
           3,
           "Noah Fant",
           "Cougar Town Zach Wilson"
          ],
          [
           12.44,
           16,
           "Tyler Lockett",
           "Cougar Town Zach Wilson"
          ],
          [
           2.95,
           1,
           "Tyrion Davis-Price",
           "Cougar Town Zach Wilson"
          ],
          [
           18.39,
           4,
           "Matthew Stafford",
           "Cougar Town Zach Wilson"
          ],
          [
           13.22,
           11,
           "Dak Prescott",
           "Cougar Town Zach Wilson"
          ],
          [
           3.64,
           2,
           "Darrel Williams",
           "Cougar Town Zach Wilson"
          ],
          [
           8.69,
           2,
           "Logan Thomas",
           "Cougar Town Zach Wilson"
          ],
          [
           0,
           1,
           "Brian Robinson Jr.",
           "Cougar Town Zach Wilson"
          ],
          [
           16.48,
           1,
           "Kirk Cousins",
           "Cougar Town Zach Wilson"
          ],
          [
           5,
           13,
           "Broncos D/ST",
           "Cougar Town Zach Wilson"
          ],
          [
           4.94,
           1,
           "Dolphins D/ST",
           "Cougar Town Zach Wilson"
          ],
          [
           7.57,
           2,
           "Cade Otton",
           "Cougar Town Zach Wilson"
          ],
          [
           7.65,
           8,
           "Robbie Gould",
           "Cougar Town Zach Wilson"
          ],
          [
           9.36,
           15,
           "Raheem Mostert",
           "Livin on A prayer "
          ],
          [
           17.43,
           5,
           "Derek Carr",
           "Livin on A prayer "
          ],
          [
           11.34,
           6,
           "Joe Mixon",
           "Livin on A prayer "
          ],
          [
           9.97,
           6,
           "DeAndre Hopkins",
           "Livin on A prayer "
          ],
          [
           5.43,
           3,
           "Saints D/ST",
           "Livin on A prayer "
          ],
          [
           5.89,
           2,
           "Greg Dortch",
           "Livin on A prayer "
          ],
          [
           10.5,
           1,
           "Tyler Lockett",
           "Livin on A prayer "
          ],
          [
           18.08,
           1,
           "Matthew Stafford",
           "Livin on A prayer "
          ],
          [
           17.58,
           11,
           "Justin Jefferson",
           "Livin on A prayer "
          ],
          [
           20.03,
           17,
           "Justin Herbert",
           "Livin on A prayer "
          ],
          [
           14.33,
           17,
           "Nick Chubb",
           "Livin on A prayer "
          ],
          [
           7.7,
           11,
           "George Kittle",
           "Livin on A prayer "
          ],
          [
           17.07,
           17,
           "Josh Jacobs",
           "Livin on A prayer "
          ],
          [
           15.13,
           17,
           "DK Metcalf",
           "Livin on A prayer "
          ],
          [
           11.69,
           17,
           "Miles Sanders",
           "Livin on A prayer "
          ],
          [
           7.8,
           17,
           "Nick Folk",
           "Livin on A prayer "
          ],
          [
           10.28,
           17,
           "Brandon Aiyuk",
           "Livin on A prayer "
          ],
          [
           5.18,
           11,
           "Bills D/ST",
           "Livin on A prayer "
          ],
          [
           7.93,
           2,
           "Hunter Henry",
           "Livin on A prayer "
          ],
          [
           8.56,
           3,
           "Rex Burkhead",
           "Livin on A prayer "
          ],
          [
           9.91,
           3,
           "Jarvis Landry",
           "Livin on A prayer "
          ],
          [
           6.51,
           1,
           "Taysom Hill",
           "Livin on A prayer "
          ],
          [
           19.63,
           1,
           "Geno Smith",
           "Livin on A prayer "
          ],
          [
           10.69,
           2,
           "Sterling Shepard",
           "Livin on A prayer "
          ],
          [
           7.89,
           1,
           "Graham Gano",
           "Livin on A prayer "
          ],
          [
           8.69,
           1,
           "Logan Thomas",
           "Livin on A prayer "
          ],
          [
           9.01,
           1,
           "Tyler Conklin",
           "Livin on A prayer "
          ],
          [
           7.41,
           3,
           "Evan Engram",
           "Livin on A prayer "
          ],
          [
           7.8,
           14,
           "David Njoku",
           "Livin on A prayer "
          ],
          [
           9.88,
           3,
           "Corey Davis",
           "Livin on A prayer "
          ],
          [
           6.33,
           2,
           "Will Dissly",
           "Livin on A prayer "
          ],
          [
           8.77,
           6,
           "Hayden Hurst",
           "Livin on A prayer "
          ],
          [
           6.18,
           3,
           "Dolphins D/ST",
           "Livin on A prayer "
          ],
          [
           0,
           2,
           "Joshua Kelley",
           "Livin on A prayer "
          ],
          [
           15.21,
           7,
           "Marcus Mariota",
           "Livin on A prayer "
          ],
          [
           5.89,
           1,
           "Bengals D/ST",
           "Livin on A prayer "
          ],
          [
           4.63,
           1,
           "James Cook",
           "Livin on A prayer "
          ],
          [
           8.66,
           1,
           "Joshua Palmer",
           "Livin on A prayer "
          ],
          [
           9.51,
           4,
           "Tyler Boyd",
           "Livin on A prayer "
          ],
          [
           9.52,
           10,
           "Parris Campbell",
           "Livin on A prayer "
          ],
          [
           9.63,
           7,
           "Donovan Peoples-Jones",
           "Livin on A prayer "
          ],
          [
           9.99,
           3,
           "Mack Hollins",
           "Livin on A prayer "
          ],
          [
           15.55,
           3,
           "Brock Purdy",
           "Livin on A prayer "
          ],
          [
           13.36,
           3,
           "Jerry Jeudy",
           "No Nyugen Will Win"
          ],
          [
           11.83,
           17,
           "Najee Harris",
           "No Nyugen Will Win"
          ],
          [
           11.87,
           17,
           "Ja'Marr Chase",
           "No Nyugen Will Win"
          ],
          [
           9.4,
           17,
           "Ezekiel Elliott",
           "No Nyugen Will Win"
          ],
          [
           6.33,
           7,
           "J.K. Dobbins",
           "No Nyugen Will Win"
          ],
          [
           12.1,
           17,
           "Travis Etienne Jr.",
           "No Nyugen Will Win"
          ],
          [
           11.48,
           5,
           "Antonio Gibson",
           "No Nyugen Will Win"
          ],
          [
           10.93,
           3,
           "Darnell Mooney",
           "No Nyugen Will Win"
          ],
          [
           10.03,
           17,
           "T.J. Hockenson",
           "No Nyugen Will Win"
          ],
          [
           18.09,
           3,
           "Aaron Rodgers",
           "No Nyugen Will Win"
          ],
          [
           11.38,
           17,
           "Garrett Wilson",
           "No Nyugen Will Win"
          ],
          [
           7.81,
           17,
           "Chris Olave",
           "No Nyugen Will Win"
          ],
          [
           10.64,
           1,
           "Jakobi Meyers",
           "No Nyugen Will Win"
          ],
          [
           7,
           16,
           "49ers D/ST",
           "No Nyugen Will Win"
          ],
          [
           8.94,
           12,
           "James Robinson",
           "No Nyugen Will Win"
          ],
          [
           8.12,
           1,
           "Matt Prater",
           "No Nyugen Will Win"
          ],
          [
           8.63,
           14,
           "George Pickens",
           "No Nyugen Will Win"
          ],
          [
           17.28,
           5,
           "Geno Smith",
           "No Nyugen Will Win"
          ],
          [
           7.66,
           4,
           "Evan McPherson",
           "No Nyugen Will Win"
          ],
          [
           10.15,
           16,
           "Curtis Samuel",
           "No Nyugen Will Win"
          ],
          [
           7.89,
           12,
           "Younghoe Koo",
           "No Nyugen Will Win"
          ],
          [
           8.01,
           10,
           "Brian Robinson Jr.",
           "No Nyugen Will Win"
          ],
          [
           19.35,
           8,
           "Tua Tagovailoa",
           "No Nyugen Will Win"
          ],
          [
           12.4,
           2,
           "Khalil Herbert",
           "No Nyugen Will Win"
          ],
          [
           9.01,
           1,
           "Tyler Conklin",
           "No Nyugen Will Win"
          ],
          [
           7.44,
           1,
           "Vikings D/ST",
           "No Nyugen Will Win"
          ],
          [
           9.42,
           1,
           "Hayden Hurst",
           "No Nyugen Will Win"
          ],
          [
           12.05,
           1,
           "Gerald Everett",
           "No Nyugen Will Win"
          ],
          [
           1.73,
           6,
           "Kyren Williams",
           "No Nyugen Will Win"
          ],
          [
           7.87,
           5,
           "James Cook",
           "No Nyugen Will Win"
          ],
          [
           4.9,
           1,
           "Caleb Huntley",
           "No Nyugen Will Win"
          ],
          [
           17.09,
           1,
           "Trevor Lawrence",
           "No Nyugen Will Win"
          ],
          [
           5.66,
           8,
           "Christian Watson",
           "No Nyugen Will Win"
          ],
          [
           12.24,
           7,
           "Latavius Murray",
           "No Nyugen Will Win"
          ],
          [
           16.19,
           5,
           "Deshaun Watson",
           "No Nyugen Will Win"
          ],
          [
           7.85,
           3,
           "Michael Carter",
           "P-Town CASH KEVIN"
          ],
          [
           2.64,
           6,
           "Gus Edwards",
           "P-Town CASH KEVIN"
          ],
          [
           5.81,
           2,
           "Darnell Mooney",
           "P-Town CASH KEVIN"
          ],
          [
           16.83,
           17,
           "Jonathan Taylor",
           "P-Town CASH KEVIN"
          ],
          [
           17.44,
           17,
           "Tyreek Hill",
           "P-Town CASH KEVIN"
          ],
          [
           17.44,
           17,
           "Travis Kelce",
           "P-Town CASH KEVIN"
          ],
          [
           22.63,
           17,
           "Patrick Mahomes",
           "P-Town CASH KEVIN"
          ],
          [
           13.76,
           17,
           "Terry McLaurin",
           "P-Town CASH KEVIN"
          ],
          [
           10.24,
           17,
           "Kareem Hunt",
           "P-Town CASH KEVIN"
          ],
          [
           5.77,
           8,
           "Hunter Renfrow",
           "P-Town CASH KEVIN"
          ],
          [
           11.16,
           17,
           "DeVonta Smith",
           "P-Town CASH KEVIN"
          ],
          [
           12.14,
           17,
           "Rhamondre Stevenson",
           "P-Town CASH KEVIN"
          ],
          [
           17.93,
           3,
           "Joe Burrow",
           "P-Town CASH KEVIN"
          ],
          [
           10.72,
           11,
           "Chase Claypool",
           "P-Town CASH KEVIN"
          ],
          [
           4.1,
           3,
           "Skyy Moore",
           "P-Town CASH KEVIN"
          ],
          [
           10.94,
           11,
           "Pat Freiermuth",
           "P-Town CASH KEVIN"
          ],
          [
           5.1,
           11,
           "Packers D/ST",
           "P-Town CASH KEVIN"
          ],
          [
           7.95,
           11,
           "Brandon McManus",
           "P-Town CASH KEVIN"
          ],
          [
           15.99,
           1,
           "Derek Carr",
           "P-Town CASH KEVIN"
          ],
          [
           6.03,
           5,
           "Julio Jones",
           "P-Town CASH KEVIN"
          ],
          [
           5.15,
           14,
           "Breece Hall",
           "P-Town CASH KEVIN"
          ],
          [
           13.4,
           4,
           "Russell Wilson",
           "P-Town CASH KEVIN"
          ],
          [
           3.79,
           6,
           "Kenyan Drake",
           "P-Town CASH KEVIN"
          ],
          [
           8.01,
           4,
           "Ryan Succop",
           "P-Town CASH KEVIN"
          ],
          [
           7.44,
           3,
           "Eno Benjamin",
           "P-Town CASH KEVIN"
          ],
          [
           3.68,
           12,
           "Josh Reynolds",
           "P-Town CASH KEVIN"
          ],
          [
           5.64,
           6,
           "Commanders D/ST",
           "P-Town CASH KEVIN"
          ],
          [
           11.06,
           6,
           "Joshua Palmer",
           "P-Town CASH KEVIN"
          ],
          [
           9.68,
           6,
           "Tyler Boyd",
           "P-Town CASH KEVIN"
          ],
          [
           17.53,
           1,
           "Daniel Jones",
           "P-Town CASH KEVIN"
          ],
          [
           5.01,
           3,
           "Riley Patterson",
           "P-Town CASH KEVIN"
          ],
          [
           5.52,
           4,
           "Raiders D/ST",
           "P-Town CASH KEVIN"
          ],
          [
           7.83,
           2,
           "Chase McLaughlin",
           "P-Town CASH KEVIN"
          ]
         ],
         "hovertemplate": "Average Scored Points=%{x}<br>Residual=%{marker.color}<br>Average Projected Points=%{customdata[0]}<br>Length of Ownership=%{customdata[1]}<br>Player=%{customdata[2]}<br>Team=%{customdata[3]}<extra></extra>",
         "legendgroup": "",
         "marker": {
          "color": [
           -2.91,
           4.22,
           -1,
           0.45,
           3.78,
           0.97,
           -0.29,
           1.93,
           -1.36,
           1.54,
           -7.47,
           0.41,
           1,
           -1.51,
           0.72,
           0.19,
           -2.06,
           1.01,
           -0.45,
           1.94,
           -3.12,
           -8.82,
           -1.69,
           -2.21,
           4.36,
           7.23,
           0.1,
           -6.83,
           3.09,
           1.26,
           -1.26,
           2.38,
           0.35,
           -0.06,
           -3.43,
           -0.42,
           5.34,
           13.2,
           0.12,
           1.37,
           3.87,
           4.04,
           4.23,
           -0.96,
           1.43,
           3.68,
           -3.4,
           2.47,
           -3.91,
           0.13,
           -4.04,
           -3.63,
           -5.93,
           5.46,
           -0.5,
           -0.9,
           -1.45,
           4.23,
           1.14,
           0.83,
           -2.25,
           1.81,
           4.85,
           2.45,
           2.94,
           -2.59,
           -1.39,
           -1.24,
           -9.01,
           -0.7,
           4.77,
           -2.61,
           0,
           -0.96,
           -1.12,
           0.81,
           -1.4,
           3.97,
           0.55,
           0.39,
           -2.14,
           0.22,
           -0.57,
           0.17,
           -2.25,
           2.72,
           -1.94,
           0.71,
           1.92,
           4.02,
           0.24,
           2.03,
           -0.17,
           -2.49,
           2.35,
           -2.68,
           0.33,
           -0.5,
           -3.45,
           6.42,
           -2.45,
           -7.67,
           -0.38,
           -1.93,
           0.21,
           -4.8,
           -0.7,
           4.79,
           3.87,
           -8.19,
           2.43,
           1.98,
           -7.38,
           -4.21,
           1.23,
           -1.26,
           -4.61,
           -1.33,
           7.19,
           4.13,
           -4.48,
           0.66,
           -4.46,
           1.4,
           0.12,
           -1.51,
           5.06,
           4.98,
           -1.07,
           5.84,
           0.65,
           -1.85,
           -1.11,
           -3.03,
           -2.75,
           -6.03,
           2.27,
           2.68,
           3.5,
           -0.52,
           2.97,
           -6.19,
           -2.35,
           -6.54,
           6.32,
           -1.11,
           0,
           4.24,
           -1.13,
           -2.65,
           0,
           -2.38,
           -0.74,
           4.37,
           -0.95,
           -0.47,
           0.02,
           0.73,
           -3.56,
           -2.82,
           4.54,
           -7.55,
           -3.26,
           -4.21,
           7.05,
           -4.59,
           1.42,
           -6.48,
           0.11,
           -4.35,
           -2.19,
           2.47,
           3.26,
           -2.39,
           -2.22,
           -2.04,
           1.5,
           0.33,
           4.7,
           2.25,
           -1.75,
           8.13,
           0,
           3.54,
           1.15,
           -4.46,
           -1.96,
           0,
           -0.95,
           7.42,
           -2.45,
           -1.77,
           -2.31,
           -2.18,
           0.55,
           -2.54,
           3.96,
           5.27,
           -1.03,
           1.73,
           -0.86,
           -1.27,
           -2.27,
           -3.4,
           0,
           4.57,
           0.71,
           10.17,
           -2.03,
           -1.17,
           0.29,
           -1.7,
           -3.45,
           2.7,
           -4.1,
           -0.63,
           -5,
           -3.04,
           1.89,
           0.53,
           0.74,
           2.82,
           0.72,
           6.32,
           0.53,
           4.26,
           0.33,
           4.63,
           6.51,
           -2.4,
           0,
           -3.18,
           -1.69,
           4.24,
           4.79,
           -8.76,
           -2.61,
           -2.67,
           -4.45,
           1.51,
           -0.17,
           1.27,
           -1.9,
           -1.22,
           0.57,
           -4.3,
           0.62,
           -1.62,
           -0.2,
           -0.18,
           1.18,
           -5.92,
           0.86,
           -7.84,
           -1.59,
           -3.47,
           1.57,
           0.35,
           -3.87,
           3.15,
           -2.94,
           -6.19,
           0,
           0.02,
           0.38,
           0.06,
           -4.07,
           1.85,
           0.86,
           0.43,
           -1.69,
           1.19,
           -0.76,
           1.86,
           9.2,
           0.8,
           0.4,
           -3.2,
           1.99,
           -1.58,
           5.38,
           -0.93,
           -1.04,
           1.43,
           0.44,
           3.18,
           -7.93,
           -4.43,
           -4.18,
           -1.97,
           -6.95,
           -1.04,
           6.11,
           -6.19,
           -7.31,
           0.76,
           -0.94,
           -6.01,
           -2.23,
           -2.63,
           5.82,
           0,
           -3.76,
           -3.89,
           3.97,
           -5.06,
           -0.89,
           -4.51,
           -1.55,
           1.11,
           0.95,
           1,
           0.44,
           3.43,
           0.3,
           0.47,
           -0.57,
           3.14,
           -2.8,
           5.8,
           -9.26,
           -2.07,
           1,
           -0.44,
           1.37,
           -1.4,
           -7.12,
           -0.98,
           -4.6,
           -3.16,
           -1.23,
           1.28,
           -2.02,
           -8.06,
           -4,
           -7.31,
           -1.44,
           -0.92,
           -3.45,
           0.07,
           -1.09,
           -1.5,
           3.87,
           2.34,
           -5.75,
           -1.67,
           -1.75,
           -0.79,
           -4.91,
           -1.99,
           -1.95,
           3.44,
           3.48,
           1.68,
           -0.23,
           -2.37,
           2.46,
           -0.95,
           6.64,
           -5.37,
           -2.1,
           0.85,
           0.53,
           -2.04,
           -2.19,
           -5.01,
           1.17,
           -2,
           -1.39,
           -1.26,
           0.33,
           -1.56,
           -0.97,
           3.61,
           -1.51,
           7.11,
           -3.01,
           -1.52,
           -3.83
          ],
          "coloraxis": "coloraxis",
          "symbol": "circle"
         },
         "mode": "markers",
         "name": "",
         "orientation": "v",
         "showlegend": false,
         "type": "scatter",
         "x": [
          11.96,
          15.35,
          14.65,
          12.31,
          16.52,
          17.73,
          9.34,
          10.72,
          8.07,
          13.55,
          1.1,
          5,
          6.4,
          7.09,
          9,
          5.88,
          6.6,
          2.48,
          10.75,
          19.82,
          4.98,
          0,
          6,
          0,
          9.2,
          13.56,
          8.18,
          8.77,
          8.49,
          18.55,
          6.75,
          8.75,
          7.54,
          7.65,
          6.7,
          3,
          16.45,
          21.36,
          5.5,
          18.28,
          20.96,
          10.67,
          13.37,
          7.22,
          6.55,
          23.46,
          3.5,
          10,
          4.74,
          7.49,
          4.97,
          10.32,
          8.62,
          19.23,
          13.06,
          6.58,
          3.46,
          10.82,
          15.8,
          10.63,
          8.87,
          3.68,
          14.87,
          8.1,
          11.38,
          0,
          2.4,
          4.4,
          2.9,
          4.33,
          22.34,
          5,
          0,
          4.33,
          6.28,
          9.82,
          8.6,
          11.75,
          7.93,
          17.41,
          4.5,
          6.5,
          12.44,
          15.35,
          7.95,
          14.73,
          4.81,
          6.84,
          14.08,
          15.66,
          12.18,
          7.84,
          11.02,
          5.22,
          8,
          6.57,
          8,
          8.2,
          3,
          14.5,
          4.39,
          0,
          6,
          2.72,
          6,
          1,
          9.7,
          11,
          20.96,
          1.4,
          12.4,
          9.4,
          0,
          6.2,
          8,
          3.5,
          3.5,
          3.75,
          19.1,
          19.08,
          4,
          15.34,
          9.46,
          6.81,
          4.85,
          11.01,
          28.16,
          18.54,
          9.95,
          17.76,
          6.09,
          7.68,
          4.8,
          5.4,
          9.34,
          4.2,
          4.47,
          10.5,
          19.59,
          6.4,
          11.33,
          13.44,
          5.85,
          1,
          16,
          7,
          0,
          21.46,
          3.67,
          0,
          0,
          6.1,
          7.57,
          24.42,
          18.04,
          12.75,
          10.78,
          13.3,
          7.44,
          5.83,
          16.04,
          9.96,
          4.52,
          3.81,
          12,
          1.15,
          8.59,
          3.7,
          1.54,
          4.2,
          13.8,
          10,
          8.91,
          5.22,
          8.12,
          4,
          10.36,
          9.78,
          19.55,
          8.9,
          6,
          24.45,
          0,
          11.7,
          8,
          2.93,
          13.28,
          0,
          4.5,
          26.87,
          10.74,
          17.71,
          11.81,
          13.74,
          9.89,
          7.71,
          10.3,
          17.55,
          4.65,
          9.81,
          12.19,
          5.25,
          9.4,
          3.5,
          0,
          12.33,
          11.3,
          21,
          4.36,
          12.22,
          7.3,
          12.94,
          9.32,
          7.43,
          7.5,
          5,
          4.18,
          8.32,
          12.83,
          7,
          8.77,
          20.24,
          6.29,
          16,
          5.75,
          11,
          7.77,
          11,
          14.5,
          8.71,
          0,
          3.1,
          0.55,
          21.46,
          11,
          3.12,
          5,
          5.09,
          3.88,
          20.1,
          8.22,
          9.44,
          7.86,
          21.99,
          10.75,
          9.49,
          1.15,
          8.95,
          6.94,
          6.98,
          6.9,
          5.13,
          9.11,
          3.04,
          4.33,
          3.83,
          14.01,
          3.3,
          14.52,
          16.37,
          0.7,
          2.5,
          0,
          16.5,
          5.38,
          5,
          3.5,
          9.5,
          10.22,
          17.86,
          9.65,
          11.17,
          4.67,
          7.75,
          19.7,
          18.88,
          17.98,
          16.82,
          16.32,
          6.13,
          22.45,
          14.21,
          10.65,
          9.24,
          10.72,
          8.36,
          0,
          4.13,
          5.73,
          4.54,
          12.68,
          9.65,
          14,
          2.5,
          1.7,
          8.17,
          6.86,
          3.87,
          4.1,
          6.13,
          12,
          0,
          11.45,
          2,
          8.6,
          3.6,
          8.62,
          5.01,
          8.09,
          11.1,
          16.5,
          14.37,
          12.27,
          15.3,
          9.7,
          6.8,
          11.52,
          14.62,
          8.13,
          15.84,
          8.83,
          9.31,
          8.81,
          10.2,
          8.38,
          7.55,
          1,
          7.65,
          12.68,
          4.5,
          8.92,
          9.17,
          5.99,
          11.3,
          8.4,
          1.7,
          6,
          8.5,
          8.6,
          1.8,
          6.78,
          3.4,
          20.96,
          8,
          6.49,
          14.52,
          6.1,
          1.85,
          0.9,
          14.84,
          15.49,
          20.89,
          26.1,
          15.45,
          10.01,
          3.4,
          13.62,
          11.19,
          24.57,
          5.35,
          2,
          11.78,
          5.64,
          5.91,
          13.8,
          1.02,
          6.31,
          11.4,
          2.4,
          6.75,
          7.77,
          2.12,
          4.67,
          14.67,
          8.17,
          24.64,
          2,
          4,
          4
         ],
         "xaxis": "x",
         "y": [
          -2.91,
          4.22,
          -1,
          0.45,
          3.78,
          0.97,
          -0.29,
          1.93,
          -1.36,
          1.54,
          -7.47,
          0.41,
          1,
          -1.51,
          0.72,
          0.19,
          -2.06,
          1.01,
          -0.45,
          1.94,
          -3.12,
          -8.82,
          -1.69,
          -2.21,
          4.36,
          7.23,
          0.1,
          -6.83,
          3.09,
          1.26,
          -1.26,
          2.38,
          0.35,
          -0.06,
          -3.43,
          -0.42,
          5.34,
          13.2,
          0.12,
          1.37,
          3.87,
          4.04,
          4.23,
          -0.96,
          1.43,
          3.68,
          -3.4,
          2.47,
          -3.91,
          0.13,
          -4.04,
          -3.63,
          -5.93,
          5.46,
          -0.5,
          -0.9,
          -1.45,
          4.23,
          1.14,
          0.83,
          -2.25,
          1.81,
          4.85,
          2.45,
          2.94,
          -2.59,
          -1.39,
          -1.24,
          -9.01,
          -0.7,
          4.77,
          -2.61,
          0,
          -0.96,
          -1.12,
          0.81,
          -1.4,
          3.97,
          0.55,
          0.39,
          -2.14,
          0.22,
          -0.57,
          0.17,
          -2.25,
          2.72,
          -1.94,
          0.71,
          1.92,
          4.02,
          0.24,
          2.03,
          -0.17,
          -2.49,
          2.35,
          -2.68,
          0.33,
          -0.5,
          -3.45,
          6.42,
          -2.45,
          -7.67,
          -0.38,
          -1.93,
          0.21,
          -4.8,
          -0.7,
          4.79,
          3.87,
          -8.19,
          2.43,
          1.98,
          -7.38,
          -4.21,
          1.23,
          -1.26,
          -4.61,
          -1.33,
          7.19,
          4.13,
          -4.48,
          0.66,
          -4.46,
          1.4,
          0.12,
          -1.51,
          5.06,
          4.98,
          -1.07,
          5.84,
          0.65,
          -1.85,
          -1.11,
          -3.03,
          -2.75,
          -6.03,
          2.27,
          2.68,
          3.5,
          -0.52,
          2.97,
          -6.19,
          -2.35,
          -6.54,
          6.32,
          -1.11,
          0,
          4.24,
          -1.13,
          -2.65,
          0,
          -2.38,
          -0.74,
          4.37,
          -0.95,
          -0.47,
          0.02,
          0.73,
          -3.56,
          -2.82,
          4.54,
          -7.55,
          -3.26,
          -4.21,
          7.05,
          -4.59,
          1.42,
          -6.48,
          0.11,
          -4.35,
          -2.19,
          2.47,
          3.26,
          -2.39,
          -2.22,
          -2.04,
          1.5,
          0.33,
          4.7,
          2.25,
          -1.75,
          8.13,
          0,
          3.54,
          1.15,
          -4.46,
          -1.96,
          0,
          -0.95,
          7.42,
          -2.45,
          -1.77,
          -2.31,
          -2.18,
          0.55,
          -2.54,
          3.96,
          5.27,
          -1.03,
          1.73,
          -0.86,
          -1.27,
          -2.27,
          -3.4,
          0,
          4.57,
          0.71,
          10.17,
          -2.03,
          -1.17,
          0.29,
          -1.7,
          -3.45,
          2.7,
          -4.1,
          -0.63,
          -5,
          -3.04,
          1.89,
          0.53,
          0.74,
          2.82,
          0.72,
          6.32,
          0.53,
          4.26,
          0.33,
          4.63,
          6.51,
          -2.4,
          0,
          -3.18,
          -1.69,
          4.24,
          4.79,
          -8.76,
          -2.61,
          -2.67,
          -4.45,
          1.51,
          -0.17,
          1.27,
          -1.9,
          -1.22,
          0.57,
          -4.3,
          0.62,
          -1.62,
          -0.2,
          -0.18,
          1.18,
          -5.92,
          0.86,
          -7.84,
          -1.59,
          -3.47,
          1.57,
          0.35,
          -3.87,
          3.15,
          -2.94,
          -6.19,
          0,
          0.02,
          0.38,
          0.06,
          -4.07,
          1.85,
          0.86,
          0.43,
          -1.69,
          1.19,
          -0.76,
          1.86,
          9.2,
          0.8,
          0.4,
          -3.2,
          1.99,
          -1.58,
          5.38,
          -0.93,
          -1.04,
          1.43,
          0.44,
          3.18,
          -7.93,
          -4.43,
          -4.18,
          -1.97,
          -6.95,
          -1.04,
          6.11,
          -6.19,
          -7.31,
          0.76,
          -0.94,
          -6.01,
          -2.23,
          -2.63,
          5.82,
          0,
          -3.76,
          -3.89,
          3.97,
          -5.06,
          -0.89,
          -4.51,
          -1.55,
          1.11,
          0.95,
          1,
          0.44,
          3.43,
          0.3,
          0.47,
          -0.57,
          3.14,
          -2.8,
          5.8,
          -9.26,
          -2.07,
          1,
          -0.44,
          1.37,
          -1.4,
          -7.12,
          -0.98,
          -4.6,
          -3.16,
          -1.23,
          1.28,
          -2.02,
          -8.06,
          -4,
          -7.31,
          -1.44,
          -0.92,
          -3.45,
          0.07,
          -1.09,
          -1.5,
          3.87,
          2.34,
          -5.75,
          -1.67,
          -1.75,
          -0.79,
          -4.91,
          -1.99,
          -1.95,
          3.44,
          3.48,
          1.68,
          -0.23,
          -2.37,
          2.46,
          -0.95,
          6.64,
          -5.37,
          -2.1,
          0.85,
          0.53,
          -2.04,
          -2.19,
          -5.01,
          1.17,
          -2,
          -1.39,
          -1.26,
          0.33,
          -1.56,
          -0.97,
          3.61,
          -1.51,
          7.11,
          -3.01,
          -1.52,
          -3.83
         ],
         "yaxis": "y"
        }
       ],
       "layout": {
        "coloraxis": {
         "colorbar": {
          "title": {
           "text": "Residual"
          }
         },
         "colorscale": [
          [
           0,
           "#0d0887"
          ],
          [
           0.1111111111111111,
           "#46039f"
          ],
          [
           0.2222222222222222,
           "#7201a8"
          ],
          [
           0.3333333333333333,
           "#9c179e"
          ],
          [
           0.4444444444444444,
           "#bd3786"
          ],
          [
           0.5555555555555556,
           "#d8576b"
          ],
          [
           0.6666666666666666,
           "#ed7953"
          ],
          [
           0.7777777777777778,
           "#fb9f3a"
          ],
          [
           0.8888888888888888,
           "#fdca26"
          ],
          [
           1,
           "#f0f921"
          ]
         ]
        },
        "legend": {
         "tracegroupgap": 0
        },
        "shapes": [
         {
          "line": {
           "color": "Red",
           "dash": "dash"
          },
          "type": "line",
          "x0": 9.113931398416886,
          "x1": 9.113931398416886,
          "xref": "x",
          "y0": 0,
          "y1": 1,
          "yref": "y domain"
         },
         {
          "line": {
           "color": "Red",
           "dash": "dash"
          },
          "type": "line",
          "x0": 0,
          "x1": 1,
          "xref": "x domain",
          "y0": -0.3634300791556726,
          "y1": -0.3634300791556726,
          "yref": "y"
         }
        ],
        "template": {
         "data": {
          "bar": [
           {
            "error_x": {
             "color": "#2a3f5f"
            },
            "error_y": {
             "color": "#2a3f5f"
            },
            "marker": {
             "line": {
              "color": "#E5ECF6",
              "width": 0.5
             },
             "pattern": {
              "fillmode": "overlay",
              "size": 10,
              "solidity": 0.2
             }
            },
            "type": "bar"
           }
          ],
          "barpolar": [
           {
            "marker": {
             "line": {
              "color": "#E5ECF6",
              "width": 0.5
             },
             "pattern": {
              "fillmode": "overlay",
              "size": 10,
              "solidity": 0.2
             }
            },
            "type": "barpolar"
           }
          ],
          "carpet": [
           {
            "aaxis": {
             "endlinecolor": "#2a3f5f",
             "gridcolor": "white",
             "linecolor": "white",
             "minorgridcolor": "white",
             "startlinecolor": "#2a3f5f"
            },
            "baxis": {
             "endlinecolor": "#2a3f5f",
             "gridcolor": "white",
             "linecolor": "white",
             "minorgridcolor": "white",
             "startlinecolor": "#2a3f5f"
            },
            "type": "carpet"
           }
          ],
          "choropleth": [
           {
            "colorbar": {
             "outlinewidth": 0,
             "ticks": ""
            },
            "type": "choropleth"
           }
          ],
          "contour": [
           {
            "colorbar": {
             "outlinewidth": 0,
             "ticks": ""
            },
            "colorscale": [
             [
              0,
              "#0d0887"
             ],
             [
              0.1111111111111111,
              "#46039f"
             ],
             [
              0.2222222222222222,
              "#7201a8"
             ],
             [
              0.3333333333333333,
              "#9c179e"
             ],
             [
              0.4444444444444444,
              "#bd3786"
             ],
             [
              0.5555555555555556,
              "#d8576b"
             ],
             [
              0.6666666666666666,
              "#ed7953"
             ],
             [
              0.7777777777777778,
              "#fb9f3a"
             ],
             [
              0.8888888888888888,
              "#fdca26"
             ],
             [
              1,
              "#f0f921"
             ]
            ],
            "type": "contour"
           }
          ],
          "contourcarpet": [
           {
            "colorbar": {
             "outlinewidth": 0,
             "ticks": ""
            },
            "type": "contourcarpet"
           }
          ],
          "heatmap": [
           {
            "colorbar": {
             "outlinewidth": 0,
             "ticks": ""
            },
            "colorscale": [
             [
              0,
              "#0d0887"
             ],
             [
              0.1111111111111111,
              "#46039f"
             ],
             [
              0.2222222222222222,
              "#7201a8"
             ],
             [
              0.3333333333333333,
              "#9c179e"
             ],
             [
              0.4444444444444444,
              "#bd3786"
             ],
             [
              0.5555555555555556,
              "#d8576b"
             ],
             [
              0.6666666666666666,
              "#ed7953"
             ],
             [
              0.7777777777777778,
              "#fb9f3a"
             ],
             [
              0.8888888888888888,
              "#fdca26"
             ],
             [
              1,
              "#f0f921"
             ]
            ],
            "type": "heatmap"
           }
          ],
          "heatmapgl": [
           {
            "colorbar": {
             "outlinewidth": 0,
             "ticks": ""
            },
            "colorscale": [
             [
              0,
              "#0d0887"
             ],
             [
              0.1111111111111111,
              "#46039f"
             ],
             [
              0.2222222222222222,
              "#7201a8"
             ],
             [
              0.3333333333333333,
              "#9c179e"
             ],
             [
              0.4444444444444444,
              "#bd3786"
             ],
             [
              0.5555555555555556,
              "#d8576b"
             ],
             [
              0.6666666666666666,
              "#ed7953"
             ],
             [
              0.7777777777777778,
              "#fb9f3a"
             ],
             [
              0.8888888888888888,
              "#fdca26"
             ],
             [
              1,
              "#f0f921"
             ]
            ],
            "type": "heatmapgl"
           }
          ],
          "histogram": [
           {
            "marker": {
             "pattern": {
              "fillmode": "overlay",
              "size": 10,
              "solidity": 0.2
             }
            },
            "type": "histogram"
           }
          ],
          "histogram2d": [
           {
            "colorbar": {
             "outlinewidth": 0,
             "ticks": ""
            },
            "colorscale": [
             [
              0,
              "#0d0887"
             ],
             [
              0.1111111111111111,
              "#46039f"
             ],
             [
              0.2222222222222222,
              "#7201a8"
             ],
             [
              0.3333333333333333,
              "#9c179e"
             ],
             [
              0.4444444444444444,
              "#bd3786"
             ],
             [
              0.5555555555555556,
              "#d8576b"
             ],
             [
              0.6666666666666666,
              "#ed7953"
             ],
             [
              0.7777777777777778,
              "#fb9f3a"
             ],
             [
              0.8888888888888888,
              "#fdca26"
             ],
             [
              1,
              "#f0f921"
             ]
            ],
            "type": "histogram2d"
           }
          ],
          "histogram2dcontour": [
           {
            "colorbar": {
             "outlinewidth": 0,
             "ticks": ""
            },
            "colorscale": [
             [
              0,
              "#0d0887"
             ],
             [
              0.1111111111111111,
              "#46039f"
             ],
             [
              0.2222222222222222,
              "#7201a8"
             ],
             [
              0.3333333333333333,
              "#9c179e"
             ],
             [
              0.4444444444444444,
              "#bd3786"
             ],
             [
              0.5555555555555556,
              "#d8576b"
             ],
             [
              0.6666666666666666,
              "#ed7953"
             ],
             [
              0.7777777777777778,
              "#fb9f3a"
             ],
             [
              0.8888888888888888,
              "#fdca26"
             ],
             [
              1,
              "#f0f921"
             ]
            ],
            "type": "histogram2dcontour"
           }
          ],
          "mesh3d": [
           {
            "colorbar": {
             "outlinewidth": 0,
             "ticks": ""
            },
            "type": "mesh3d"
           }
          ],
          "parcoords": [
           {
            "line": {
             "colorbar": {
              "outlinewidth": 0,
              "ticks": ""
             }
            },
            "type": "parcoords"
           }
          ],
          "pie": [
           {
            "automargin": true,
            "type": "pie"
           }
          ],
          "scatter": [
           {
            "marker": {
             "colorbar": {
              "outlinewidth": 0,
              "ticks": ""
             }
            },
            "type": "scatter"
           }
          ],
          "scatter3d": [
           {
            "line": {
             "colorbar": {
              "outlinewidth": 0,
              "ticks": ""
             }
            },
            "marker": {
             "colorbar": {
              "outlinewidth": 0,
              "ticks": ""
             }
            },
            "type": "scatter3d"
           }
          ],
          "scattercarpet": [
           {
            "marker": {
             "colorbar": {
              "outlinewidth": 0,
              "ticks": ""
             }
            },
            "type": "scattercarpet"
           }
          ],
          "scattergeo": [
           {
            "marker": {
             "colorbar": {
              "outlinewidth": 0,
              "ticks": ""
             }
            },
            "type": "scattergeo"
           }
          ],
          "scattergl": [
           {
            "marker": {
             "colorbar": {
              "outlinewidth": 0,
              "ticks": ""
             }
            },
            "type": "scattergl"
           }
          ],
          "scattermapbox": [
           {
            "marker": {
             "colorbar": {
              "outlinewidth": 0,
              "ticks": ""
             }
            },
            "type": "scattermapbox"
           }
          ],
          "scatterpolar": [
           {
            "marker": {
             "colorbar": {
              "outlinewidth": 0,
              "ticks": ""
             }
            },
            "type": "scatterpolar"
           }
          ],
          "scatterpolargl": [
           {
            "marker": {
             "colorbar": {
              "outlinewidth": 0,
              "ticks": ""
             }
            },
            "type": "scatterpolargl"
           }
          ],
          "scatterternary": [
           {
            "marker": {
             "colorbar": {
              "outlinewidth": 0,
              "ticks": ""
             }
            },
            "type": "scatterternary"
           }
          ],
          "surface": [
           {
            "colorbar": {
             "outlinewidth": 0,
             "ticks": ""
            },
            "colorscale": [
             [
              0,
              "#0d0887"
             ],
             [
              0.1111111111111111,
              "#46039f"
             ],
             [
              0.2222222222222222,
              "#7201a8"
             ],
             [
              0.3333333333333333,
              "#9c179e"
             ],
             [
              0.4444444444444444,
              "#bd3786"
             ],
             [
              0.5555555555555556,
              "#d8576b"
             ],
             [
              0.6666666666666666,
              "#ed7953"
             ],
             [
              0.7777777777777778,
              "#fb9f3a"
             ],
             [
              0.8888888888888888,
              "#fdca26"
             ],
             [
              1,
              "#f0f921"
             ]
            ],
            "type": "surface"
           }
          ],
          "table": [
           {
            "cells": {
             "fill": {
              "color": "#EBF0F8"
             },
             "line": {
              "color": "white"
             }
            },
            "header": {
             "fill": {
              "color": "#C8D4E3"
             },
             "line": {
              "color": "white"
             }
            },
            "type": "table"
           }
          ]
         },
         "layout": {
          "annotationdefaults": {
           "arrowcolor": "#2a3f5f",
           "arrowhead": 0,
           "arrowwidth": 1
          },
          "autotypenumbers": "strict",
          "coloraxis": {
           "colorbar": {
            "outlinewidth": 0,
            "ticks": ""
           }
          },
          "colorscale": {
           "diverging": [
            [
             0,
             "#8e0152"
            ],
            [
             0.1,
             "#c51b7d"
            ],
            [
             0.2,
             "#de77ae"
            ],
            [
             0.3,
             "#f1b6da"
            ],
            [
             0.4,
             "#fde0ef"
            ],
            [
             0.5,
             "#f7f7f7"
            ],
            [
             0.6,
             "#e6f5d0"
            ],
            [
             0.7,
             "#b8e186"
            ],
            [
             0.8,
             "#7fbc41"
            ],
            [
             0.9,
             "#4d9221"
            ],
            [
             1,
             "#276419"
            ]
           ],
           "sequential": [
            [
             0,
             "#0d0887"
            ],
            [
             0.1111111111111111,
             "#46039f"
            ],
            [
             0.2222222222222222,
             "#7201a8"
            ],
            [
             0.3333333333333333,
             "#9c179e"
            ],
            [
             0.4444444444444444,
             "#bd3786"
            ],
            [
             0.5555555555555556,
             "#d8576b"
            ],
            [
             0.6666666666666666,
             "#ed7953"
            ],
            [
             0.7777777777777778,
             "#fb9f3a"
            ],
            [
             0.8888888888888888,
             "#fdca26"
            ],
            [
             1,
             "#f0f921"
            ]
           ],
           "sequentialminus": [
            [
             0,
             "#0d0887"
            ],
            [
             0.1111111111111111,
             "#46039f"
            ],
            [
             0.2222222222222222,
             "#7201a8"
            ],
            [
             0.3333333333333333,
             "#9c179e"
            ],
            [
             0.4444444444444444,
             "#bd3786"
            ],
            [
             0.5555555555555556,
             "#d8576b"
            ],
            [
             0.6666666666666666,
             "#ed7953"
            ],
            [
             0.7777777777777778,
             "#fb9f3a"
            ],
            [
             0.8888888888888888,
             "#fdca26"
            ],
            [
             1,
             "#f0f921"
            ]
           ]
          },
          "colorway": [
           "#636efa",
           "#EF553B",
           "#00cc96",
           "#ab63fa",
           "#FFA15A",
           "#19d3f3",
           "#FF6692",
           "#B6E880",
           "#FF97FF",
           "#FECB52"
          ],
          "font": {
           "color": "#2a3f5f"
          },
          "geo": {
           "bgcolor": "white",
           "lakecolor": "white",
           "landcolor": "#E5ECF6",
           "showlakes": true,
           "showland": true,
           "subunitcolor": "white"
          },
          "hoverlabel": {
           "align": "left"
          },
          "hovermode": "closest",
          "mapbox": {
           "style": "light"
          },
          "paper_bgcolor": "white",
          "plot_bgcolor": "#E5ECF6",
          "polar": {
           "angularaxis": {
            "gridcolor": "white",
            "linecolor": "white",
            "ticks": ""
           },
           "bgcolor": "#E5ECF6",
           "radialaxis": {
            "gridcolor": "white",
            "linecolor": "white",
            "ticks": ""
           }
          },
          "scene": {
           "xaxis": {
            "backgroundcolor": "#E5ECF6",
            "gridcolor": "white",
            "gridwidth": 2,
            "linecolor": "white",
            "showbackground": true,
            "ticks": "",
            "zerolinecolor": "white"
           },
           "yaxis": {
            "backgroundcolor": "#E5ECF6",
            "gridcolor": "white",
            "gridwidth": 2,
            "linecolor": "white",
            "showbackground": true,
            "ticks": "",
            "zerolinecolor": "white"
           },
           "zaxis": {
            "backgroundcolor": "#E5ECF6",
            "gridcolor": "white",
            "gridwidth": 2,
            "linecolor": "white",
            "showbackground": true,
            "ticks": "",
            "zerolinecolor": "white"
           }
          },
          "shapedefaults": {
           "line": {
            "color": "#2a3f5f"
           }
          },
          "ternary": {
           "aaxis": {
            "gridcolor": "white",
            "linecolor": "white",
            "ticks": ""
           },
           "baxis": {
            "gridcolor": "white",
            "linecolor": "white",
            "ticks": ""
           },
           "bgcolor": "#E5ECF6",
           "caxis": {
            "gridcolor": "white",
            "linecolor": "white",
            "ticks": ""
           }
          },
          "title": {
           "x": 0.05
          },
          "xaxis": {
           "automargin": true,
           "gridcolor": "white",
           "linecolor": "white",
           "ticks": "",
           "title": {
            "standoff": 15
           },
           "zerolinecolor": "white",
           "zerolinewidth": 2
          },
          "yaxis": {
           "automargin": true,
           "gridcolor": "white",
           "linecolor": "white",
           "ticks": "",
           "title": {
            "standoff": 15
           },
           "zerolinecolor": "white",
           "zerolinewidth": 2
          }
         }
        },
        "title": {
         "text": "Over/Under Rated Players by Ownership (in weeks)"
        },
        "xaxis": {
         "anchor": "y",
         "domain": [
          0,
          1
         ],
         "title": {
          "text": "Average Scored Points"
         }
        },
        "yaxis": {
         "anchor": "x",
         "domain": [
          0,
          1
         ],
         "title": {
          "text": "Residual"
         }
        }
       }
      }
     },
     "metadata": {},
     "output_type": "display_data"
    }
   ],
   "source": [
    "fig = px.scatter(df, y=df['Residual'], x=df['Average Scored Points'], color=df['Residual'], hover_data=['Average Projected Points', 'Length of Ownership','Player', 'Team'], title='Over/Under Rated Players by Ownership (in weeks)')\n",
    "fig.add_vline(df['Average Scored Points'].mean(), line_color='Red', line_dash = 'dash')\n",
    "fig.add_hline(df['Residual'].mean(), line_color='Red', line_dash = 'dash')\n",
    "fig.show()"
   ]
  },
  {
   "cell_type": "code",
   "execution_count": null,
   "metadata": {},
   "outputs": [],
   "source": []
  }
 ],
 "metadata": {
  "kernelspec": {
   "display_name": "Python 3",
   "language": "python",
   "name": "python3"
  },
  "language_info": {
   "codemirror_mode": {
    "name": "ipython",
    "version": 3
   },
   "file_extension": ".py",
   "mimetype": "text/x-python",
   "name": "python",
   "nbconvert_exporter": "python",
   "pygments_lexer": "ipython3",
   "version": "3.9.12"
  },
  "orig_nbformat": 4
 },
 "nbformat": 4,
 "nbformat_minor": 2
}
