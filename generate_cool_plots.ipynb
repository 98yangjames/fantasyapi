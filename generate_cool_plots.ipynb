{
 "cells": [
  {
   "cell_type": "code",
   "execution_count": 21,
   "metadata": {},
   "outputs": [],
   "source": [
    "import pandas as pd\n",
    "import plotly.express as px"
   ]
  },
  {
   "cell_type": "code",
   "execution_count": 22,
   "metadata": {},
   "outputs": [
    {
     "data": {
      "text/html": [
       "<div>\n",
       "<style scoped>\n",
       "    .dataframe tbody tr th:only-of-type {\n",
       "        vertical-align: middle;\n",
       "    }\n",
       "\n",
       "    .dataframe tbody tr th {\n",
       "        vertical-align: top;\n",
       "    }\n",
       "\n",
       "    .dataframe thead th {\n",
       "        text-align: right;\n",
       "    }\n",
       "</style>\n",
       "<table border=\"1\" class=\"dataframe\">\n",
       "  <thead>\n",
       "    <tr style=\"text-align: right;\">\n",
       "      <th></th>\n",
       "      <th>Unnamed: 0</th>\n",
       "      <th>Team</th>\n",
       "      <th>Player</th>\n",
       "      <th>Average Scored Points</th>\n",
       "      <th>Average Projected Points</th>\n",
       "      <th>Position</th>\n",
       "      <th>Length of Ownership</th>\n",
       "      <th>Residual</th>\n",
       "    </tr>\n",
       "  </thead>\n",
       "  <tbody>\n",
       "    <tr>\n",
       "      <th>0</th>\n",
       "      <td>0</td>\n",
       "      <td>RightInThe McManus</td>\n",
       "      <td>Dalvin Cook</td>\n",
       "      <td>11.51</td>\n",
       "      <td>15.19</td>\n",
       "      <td>RB</td>\n",
       "      <td>17</td>\n",
       "      <td>-3.68</td>\n",
       "    </tr>\n",
       "    <tr>\n",
       "      <th>1</th>\n",
       "      <td>1</td>\n",
       "      <td>RightInThe McManus</td>\n",
       "      <td>Travis Kelce</td>\n",
       "      <td>21.75</td>\n",
       "      <td>17.28</td>\n",
       "      <td>TE</td>\n",
       "      <td>17</td>\n",
       "      <td>4.46</td>\n",
       "    </tr>\n",
       "    <tr>\n",
       "      <th>2</th>\n",
       "      <td>2</td>\n",
       "      <td>RightInThe McManus</td>\n",
       "      <td>Terry McLaurin</td>\n",
       "      <td>11.68</td>\n",
       "      <td>12.29</td>\n",
       "      <td>WR</td>\n",
       "      <td>17</td>\n",
       "      <td>-0.61</td>\n",
       "    </tr>\n",
       "    <tr>\n",
       "      <th>3</th>\n",
       "      <td>3</td>\n",
       "      <td>RightInThe McManus</td>\n",
       "      <td>Brandin Cooks</td>\n",
       "      <td>7.27</td>\n",
       "      <td>9.37</td>\n",
       "      <td>WR</td>\n",
       "      <td>17</td>\n",
       "      <td>-2.10</td>\n",
       "    </tr>\n",
       "    <tr>\n",
       "      <th>4</th>\n",
       "      <td>4</td>\n",
       "      <td>RightInThe McManus</td>\n",
       "      <td>Devin Singletary</td>\n",
       "      <td>10.46</td>\n",
       "      <td>10.32</td>\n",
       "      <td>RB</td>\n",
       "      <td>17</td>\n",
       "      <td>0.14</td>\n",
       "    </tr>\n",
       "    <tr>\n",
       "      <th>5</th>\n",
       "      <td>5</td>\n",
       "      <td>RightInThe McManus</td>\n",
       "      <td>Amari Cooper</td>\n",
       "      <td>14.04</td>\n",
       "      <td>11.35</td>\n",
       "      <td>WR</td>\n",
       "      <td>17</td>\n",
       "      <td>2.69</td>\n",
       "    </tr>\n",
       "    <tr>\n",
       "      <th>6</th>\n",
       "      <td>6</td>\n",
       "      <td>RightInThe McManus</td>\n",
       "      <td>Russell Wilson</td>\n",
       "      <td>7.84</td>\n",
       "      <td>11.92</td>\n",
       "      <td>QB</td>\n",
       "      <td>13</td>\n",
       "      <td>-4.08</td>\n",
       "    </tr>\n",
       "    <tr>\n",
       "      <th>7</th>\n",
       "      <td>7</td>\n",
       "      <td>RightInThe McManus</td>\n",
       "      <td>Rashaad Penny</td>\n",
       "      <td>7.72</td>\n",
       "      <td>11.59</td>\n",
       "      <td>RB</td>\n",
       "      <td>5</td>\n",
       "      <td>-3.87</td>\n",
       "    </tr>\n",
       "    <tr>\n",
       "      <th>8</th>\n",
       "      <td>8</td>\n",
       "      <td>RightInThe McManus</td>\n",
       "      <td>Ravens D/ST</td>\n",
       "      <td>9.71</td>\n",
       "      <td>5.47</td>\n",
       "      <td>D/ST</td>\n",
       "      <td>17</td>\n",
       "      <td>4.24</td>\n",
       "    </tr>\n",
       "    <tr>\n",
       "      <th>9</th>\n",
       "      <td>9</td>\n",
       "      <td>RightInThe McManus</td>\n",
       "      <td>Matthew Stafford</td>\n",
       "      <td>9.25</td>\n",
       "      <td>17.21</td>\n",
       "      <td>QB</td>\n",
       "      <td>5</td>\n",
       "      <td>-7.96</td>\n",
       "    </tr>\n",
       "  </tbody>\n",
       "</table>\n",
       "</div>"
      ],
      "text/plain": [
       "   Unnamed: 0                Team            Player  Average Scored Points  \\\n",
       "0           0  RightInThe McManus       Dalvin Cook                  11.51   \n",
       "1           1  RightInThe McManus      Travis Kelce                  21.75   \n",
       "2           2  RightInThe McManus    Terry McLaurin                  11.68   \n",
       "3           3  RightInThe McManus     Brandin Cooks                   7.27   \n",
       "4           4  RightInThe McManus  Devin Singletary                  10.46   \n",
       "5           5  RightInThe McManus      Amari Cooper                  14.04   \n",
       "6           6  RightInThe McManus    Russell Wilson                   7.84   \n",
       "7           7  RightInThe McManus     Rashaad Penny                   7.72   \n",
       "8           8  RightInThe McManus       Ravens D/ST                   9.71   \n",
       "9           9  RightInThe McManus  Matthew Stafford                   9.25   \n",
       "\n",
       "   Average Projected Points Position  Length of Ownership  Residual  \n",
       "0                     15.19       RB                   17     -3.68  \n",
       "1                     17.28       TE                   17      4.46  \n",
       "2                     12.29       WR                   17     -0.61  \n",
       "3                      9.37       WR                   17     -2.10  \n",
       "4                     10.32       RB                   17      0.14  \n",
       "5                     11.35       WR                   17      2.69  \n",
       "6                     11.92       QB                   13     -4.08  \n",
       "7                     11.59       RB                    5     -3.87  \n",
       "8                      5.47     D/ST                   17      4.24  \n",
       "9                     17.21       QB                    5     -7.96  "
      ]
     },
     "execution_count": 22,
     "metadata": {},
     "output_type": "execute_result"
    }
   ],
   "source": [
    "df = pd.read_csv('Data/fantasy_league_data/Average_Points_By_Ownership.csv')\n",
    "df = df.round(2)\n",
    "df.head(10)"
   ]
  },
  {
   "cell_type": "code",
   "execution_count": 26,
   "metadata": {},
   "outputs": [
    {
     "data": {
      "application/vnd.plotly.v1+json": {
       "config": {
        "plotlyServerURL": "https://plot.ly"
       },
       "data": [
        {
         "customdata": [
          [
           15.19,
           17,
           "Dalvin Cook"
          ],
          [
           17.28,
           17,
           "Travis Kelce"
          ],
          [
           12.29,
           17,
           "Terry McLaurin"
          ],
          [
           9.37,
           17,
           "Brandin Cooks"
          ],
          [
           10.32,
           17,
           "Devin Singletary"
          ],
          [
           11.35,
           17,
           "Amari Cooper"
          ],
          [
           11.92,
           13,
           "Russell Wilson"
          ],
          [
           11.59,
           5,
           "Rashaad Penny"
          ],
          [
           5.47,
           17,
           "Ravens D/ST"
          ],
          [
           17.21,
           5,
           "Matthew Stafford"
          ],
          [
           3.43,
           4,
           "Skyy Moore"
          ],
          [
           6.84,
           17,
           "Brandon McManus"
          ],
          [
           4.69,
           17,
           "Treylon Burks"
          ],
          [
           4.69,
           17,
           "Khalil Herbert"
          ],
          [
           14.41,
           17,
           "Tua Tagovailoa"
          ],
          [
           6.16,
           7,
           "Isiah Pacheco"
          ],
          [
           7.73,
           1,
           "Irv Smith Jr."
          ],
          [
           7.4,
           9,
           "Tyler Allgeier"
          ],
          [
           9.99,
           4,
           "Mack Hollins"
          ],
          [
           13.64,
           12,
           "Daniel Jones"
          ],
          [
           7.55,
           12,
           "Devin Duvernay"
          ],
          [
           4.36,
           4,
           "Panthers D/ST"
          ],
          [
           5.03,
           9,
           "Joey Slye"
          ],
          [
           3.72,
           8,
           "Saints D/ST"
          ],
          [
           7.54,
           4,
           "Travis Homer"
          ],
          [
           14.8,
           1,
           "Matthew Stafford"
          ],
          [
           7.11,
           10,
           "Isiah Pacheco"
          ],
          [
           3.96,
           9,
           "Alexander Mattison"
          ],
          [
           10.6,
           3,
           "Elijah Moore"
          ],
          [
           9.02,
           1,
           "Irv Smith Jr."
          ],
          [
           2.46,
           7,
           "Damien Williams"
          ],
          [
           16.56,
           3,
           "Derek Carr"
          ],
          [
           9.11,
           1,
           "Hunter Henry"
          ],
          [
           9.12,
           9,
           "Justin Fields"
          ],
          [
           16,
           17,
           "Justin Jefferson"
          ],
          [
           13.51,
           17,
           "Aaron Jones"
          ],
          [
           14.27,
           17,
           "Nick Chubb"
          ],
          [
           11.57,
           17,
           "Travis Etienne Jr."
          ],
          [
           10.7,
           17,
           "Courtland Sutton"
          ],
          [
           10.32,
           12,
           "Darnell Mooney"
          ],
          [
           8.16,
           7,
           "Chase Edmonds"
          ],
          [
           17.98,
           2,
           "Trey Lance"
          ],
          [
           9.88,
           17,
           "Brandon Aiyuk"
          ],
          [
           8.58,
           17,
           "George Pickens"
          ],
          [
           7.19,
           8,
           "Darrell Henderson Jr."
          ],
          [
           6.89,
           4,
           "Kenneth Gainwell"
          ],
          [
           6.53,
           12,
           "Ryan Succop"
          ],
          [
           7.25,
           2,
           "Broncos D/ST"
          ],
          [
           8.76,
           9,
           "Gerald Everett"
          ],
          [
           3.37,
           4,
           "Wan'Dale Robinson"
          ],
          [
           11.91,
           1,
           "Isaiah McKenzie"
          ],
          [
           4.86,
           4,
           "Jaylen Warren"
          ],
          [
           8.92,
           1,
           "Romeo Doubs"
          ],
          [
           15.29,
           3,
           "Jared Goff"
          ],
          [
           2.59,
           3,
           "Gus Edwards"
          ],
          [
           5.74,
           15,
           "Eagles D/ST"
          ],
          [
           11.6,
           2,
           "Josh Reynolds"
          ],
          [
           6.85,
           1,
           "Jets D/ST"
          ],
          [
           7.78,
           2,
           "Jason Myers"
          ],
          [
           10.02,
           1,
           "Isaiah Likely"
          ],
          [
           3.58,
           3,
           "Kadarius Toney"
          ],
          [
           7.25,
           3,
           "Cameron Dicker"
          ],
          [
           8.55,
           8,
           "Greg Dulcich"
          ],
          [
           7.58,
           7,
           "Christian Watson"
          ],
          [
           8.73,
           1,
           "James Cook"
          ],
          [
           15.2,
           1,
           "Taylor Heinicke"
          ],
          [
           8.78,
           1,
           "Cole Kmet"
          ],
          [
           10.43,
           1,
           "Michael Gallup"
          ],
          [
           16.52,
           17,
           "Christian McCaffrey"
          ],
          [
           13.2,
           17,
           "James Conner"
          ],
          [
           7.29,
           17,
           "Keenan Allen"
          ],
          [
           21.22,
           17,
           "Josh Allen"
          ],
          [
           6.91,
           17,
           "George Kittle"
          ],
          [
           6.34,
           8,
           "Michael Thomas"
          ],
          [
           11.37,
           17,
           "Miles Sanders"
          ],
          [
           10.86,
           17,
           "Drake London"
          ],
          [
           10.05,
           17,
           "Allen Lazard"
          ],
          [
           5.91,
           5,
           "Packers D/ST"
          ],
          [
           8.4,
           17,
           "DeAndre Hopkins"
          ],
          [
           8.02,
           12,
           "Harrison Butker"
          ],
          [
           3.91,
           8,
           "Alexander Mattison"
          ],
          [
           7.96,
           1,
           "David Njoku"
          ],
          [
           15.9,
           2,
           "Jameis Winston"
          ],
          [
           0.31,
           17,
           "Jameson Williams"
          ],
          [
           6.04,
           7,
           "Bengals D/ST"
          ],
          [
           8.19,
           1,
           "Jake Elliott"
          ],
          [
           6.84,
           2,
           "Taysom Hill"
          ],
          [
           7.62,
           3,
           "Dustin Hopkins"
          ],
          [
           5.42,
           1,
           "Mark Ingram II"
          ],
          [
           8.29,
           7,
           "Gerald Everett"
          ],
          [
           6.88,
           1,
           "Browns D/ST"
          ],
          [
           14.82,
           4,
           "Jimmy Garoppolo"
          ],
          [
           10.55,
           2,
           "Greg Dortch"
          ],
          [
           8.86,
           7,
           "Eno Benjamin"
          ],
          [
           2.75,
           11,
           "Gus Edwards"
          ],
          [
           7.92,
           2,
           "Mike Boone"
          ],
          [
           7.87,
           1,
           "Matthew Wright"
          ],
          [
           6.8,
           1,
           "Tyler Conklin"
          ],
          [
           5.9,
           1,
           "Jets D/ST"
          ],
          [
           15.75,
           1,
           "Matt Ryan"
          ],
          [
           2.95,
           5,
           "Kadarius Toney"
          ],
          [
           5.51,
           1,
           "Vikings D/ST"
          ],
          [
           6.69,
           1,
           "Dontrell Hilliard"
          ],
          [
           5.38,
           2,
           "Raiders D/ST"
          ],
          [
           0,
           8,
           "Odell Beckham Jr."
          ],
          [
           5.13,
           2,
           "Titans D/ST"
          ],
          [
           7.74,
           4,
           "James Cook"
          ],
          [
           6.77,
           1,
           "Chiefs D/ST"
          ],
          [
           5.66,
           2,
           "Packers D/ST"
          ],
          [
           10.1,
           3,
           "Elijah Moore"
          ],
          [
           14.19,
           17,
           "Ja'Marr Chase"
          ],
          [
           12.7,
           17,
           "Mark Andrews"
          ],
          [
           6.04,
           12,
           "Cam Akers"
          ],
          [
           12.21,
           17,
           "David Montgomery"
          ],
          [
           12.34,
           17,
           "Jerry Jeudy"
          ],
          [
           12.67,
           17,
           "Dak Prescott"
          ],
          [
           8.86,
           8,
           "Rashod Bateman"
          ],
          [
           11.21,
           17,
           "Tony Pollard"
          ],
          [
           13.39,
           17,
           "Tyler Lockett"
          ],
          [
           10.49,
           17,
           "Garrett Wilson"
          ],
          [
           8.63,
           17,
           "Michael Carter"
          ],
          [
           7.16,
           5,
           "Hunter Henry"
          ],
          [
           5.48,
           17,
           "Colts D/ST"
          ],
          [
           15.04,
           2,
           "Justin Fields"
          ],
          [
           7.87,
           4,
           "Matt Prater"
          ],
          [
           4.88,
           17,
           "Nico Collins"
          ],
          [
           7.6,
           4,
           "Cade York"
          ],
          [
           17.2,
           9,
           "Trevor Lawrence"
          ],
          [
           15.08,
           3,
           "Ryan Tannehill"
          ],
          [
           7.87,
           1,
           "Matthew Wright"
          ],
          [
           14.7,
           3,
           "Zach Wilson"
          ],
          [
           6.94,
           9,
           "Robert Tonyan"
          ],
          [
           5.34,
           3,
           "Chris Boswell"
          ],
          [
           8.18,
           5,
           "Cairo Santos"
          ],
          [
           6.02,
           9,
           "Terrace Marshall Jr."
          ],
          [
           5.18,
           5,
           "Seahawks D/ST"
          ],
          [
           6.3,
           1,
           "Packers D/ST"
          ],
          [
           5.03,
           9,
           "Dolphins D/ST"
          ],
          [
           7.73,
           1,
           "Irv Smith Jr."
          ],
          [
           8.95,
           11,
           "Evan Engram"
          ],
          [
           8.44,
           5,
           "Allen Robinson II"
          ],
          [
           7.92,
           1,
           "Dawson Knox"
          ],
          [
           5.66,
           4,
           "Steelers D/ST"
          ],
          [
           12.15,
           17,
           "D'Andre Swift"
          ],
          [
           18.34,
           17,
           "Stefon Diggs"
          ],
          [
           19.73,
           17,
           "Patrick Mahomes"
          ],
          [
           14.75,
           17,
           "DK Metcalf"
          ],
          [
           9.5,
           17,
           "Kareem Hunt"
          ],
          [
           5.8,
           17,
           "Darren Waller"
          ],
          [
           10.34,
           17,
           "Antonio Gibson"
          ],
          [
           12.48,
           17,
           "DeVonta Smith"
          ],
          [
           7.94,
           16,
           "Evan McPherson"
          ],
          [
           6.56,
           7,
           "Jahan Dotson"
          ],
          [
           6.94,
           17,
           "Brian Robinson Jr."
          ],
          [
           14.66,
           5,
           "Mac Jones"
          ],
          [
           10.37,
           5,
           "Robbie Anderson"
          ],
          [
           10.17,
           17,
           "Raheem Mostert"
          ],
          [
           7.97,
           3,
           "Hayden Hurst"
          ],
          [
           6.84,
           5,
           "Browns D/ST"
          ],
          [
           6.17,
           12,
           "Rams D/ST"
          ],
          [
           12.94,
           10,
           "Jared Goff"
          ],
          [
           11.6,
           1,
           "Josh Reynolds"
          ],
          [
           7.54,
           2,
           "Jaguars D/ST"
          ],
          [
           6.51,
           1,
           "Ben Skowronek"
          ],
          [
           6.96,
           4,
           "Chuba Hubbard"
          ],
          [
           7.25,
           1,
           "Cameron Dicker"
          ],
          [
           6.36,
           1,
           "Saints D/ST"
          ],
          [
           8.6,
           3,
           "Foster Moreau"
          ],
          [
           8.08,
           1,
           "Juwan Johnson"
          ],
          [
           5.4,
           14,
           "David Njoku"
          ],
          [
           6.65,
           1,
           "Evan Engram"
          ],
          [
           7.71,
           1,
           "Rex Burkhead"
          ],
          [
           6.82,
           5,
           "Taysom Hill"
          ],
          [
           8.02,
           2,
           "Broncos D/ST"
          ],
          [
           13.15,
           17,
           "Najee Harris"
          ],
          [
           20.05,
           17,
           "Saquon Barkley"
          ],
          [
           12.97,
           17,
           "Tee Higgins"
          ],
          [
           9.16,
           17,
           "Mike Williams"
          ],
          [
           0,
           14,
           "Elijah Mitchell"
          ],
          [
           8.44,
           5,
           "Allen Robinson II"
          ],
          [
           11.55,
           17,
           "Adam Thielen"
          ],
          [
           16.3,
           17,
           "Aaron Rodgers"
          ],
          [
           8.53,
           3,
           "Dawson Knox"
          ],
          [
           9.93,
           10,
           "Chase Claypool"
          ],
          [
           6.48,
           6,
           "Nyheim Hines"
          ],
          [
           0,
           5,
           "Julio Jones"
          ],
          [
           9.27,
           16,
           "Jeff Wilson Jr."
          ],
          [
           6.76,
           2,
           "Jaylen Warren"
          ],
          [
           15.65,
           3,
           "Marcus Mariota"
          ],
          [
           6.68,
           1,
           "Steelers D/ST"
          ],
          [
           7.47,
           1,
           "Cade York"
          ],
          [
           11.25,
           1,
           "Mecole Hardman"
          ],
          [
           3,
           1,
           "Buccaneers D/ST"
          ],
          [
           18.47,
           1,
           "Trevor Lawrence"
          ],
          [
           15.1,
           1,
           "Ryan Tannehill"
          ],
          [
           15.47,
           1,
           "Jared Goff"
          ],
          [
           5.17,
           3,
           "Younghoe Koo"
          ],
          [
           6.96,
           4,
           "Jaguars D/ST"
          ],
          [
           8.68,
           13,
           "Latavius Murray"
          ],
          [
           8.4,
           3,
           "Alec Pierce"
          ],
          [
           7.6,
           11,
           "Brett Maher"
          ],
          [
           4.94,
           3,
           "Commanders D/ST"
          ],
          [
           6.96,
           4,
           "Chuba Hubbard"
          ],
          [
           15.86,
           2,
           "Andy Dalton"
          ],
          [
           9.48,
           10,
           "Donovan Peoples-Jones"
          ],
          [
           7.72,
           4,
           "Jacoby Brissett"
          ],
          [
           6.14,
           1,
           "Cardinals D/ST"
          ],
          [
           12.4,
           8,
           "Deshaun Watson"
          ],
          [
           0,
           1,
           "Kenyan Drake"
          ],
          [
           7.19,
           2,
           "Chiefs D/ST"
          ],
          [
           9.04,
           7,
           "Cole Kmet"
          ],
          [
           0,
           2,
           "Colin Kaepernick"
          ],
          [
           4.33,
           1,
           "Seahawks D/ST"
          ],
          [
           10.43,
           1,
           "Michael Gallup"
          ],
          [
           11.6,
           2,
           "Zack Moss"
          ],
          [
           13.12,
           1,
           "Nick Foles"
          ],
          [
           6.1,
           1,
           "Chargers D/ST"
          ],
          [
           17.26,
           1,
           "Gardner Minshew"
          ],
          [
           6.23,
           1,
           "Bengals D/ST"
          ],
          [
           18.14,
           17,
           "Alvin Kamara"
          ],
          [
           16.72,
           17,
           "Davante Adams"
          ],
          [
           7.5,
           17,
           "Breece Hall"
          ],
          [
           13.18,
           17,
           "Diontae Johnson"
          ],
          [
           15.15,
           17,
           "Kyler Murray"
          ],
          [
           6.82,
           17,
           "Cordarrelle Patterson"
          ],
          [
           11.97,
           17,
           "Rhamondre Stevenson"
          ],
          [
           10.21,
           14,
           "Dallas Goedert"
          ],
          [
           9.67,
           7,
           "Robert Woods"
          ],
          [
           8.11,
           5,
           "DJ Chark"
          ],
          [
           10.19,
           2,
           "Marquez Valdes-Scantling"
          ],
          [
           6.51,
           17,
           "49ers D/ST"
          ],
          [
           16.3,
           17,
           "Kirk Cousins"
          ],
          [
           8.23,
           1,
           "Evan Engram"
          ],
          [
           8.15,
           6,
           "Greg Joseph"
          ],
          [
           8.61,
           1,
           "Damien Williams"
          ],
          [
           8.85,
           2,
           "Derek Carr"
          ],
          [
           7.46,
           6,
           "Noah Fant"
          ],
          [
           6.38,
           4,
           "Cam Akers"
          ],
          [
           6.82,
           5,
           "Taysom Hill"
          ],
          [
           4.64,
           2,
           "Mark Ingram II"
          ],
          [
           7.06,
           6,
           "Darrell Henderson Jr."
          ],
          [
           8.55,
           1,
           "Isaiah McKenzie"
          ],
          [
           7.14,
           1,
           "Dawson Knox"
          ],
          [
           6.92,
           7,
           "Nyheim Hines"
          ],
          [
           7.49,
           2,
           "Cade York"
          ],
          [
           10.93,
           2,
           "Robbie Anderson"
          ],
          [
           11.01,
           1,
           "Nelson Agholor"
          ],
          [
           0,
           1,
           "Mecole Hardman"
          ],
          [
           8.15,
           8,
           "Romeo Doubs"
          ],
          [
           10.55,
           1,
           "Greg Dortch"
          ],
          [
           10.55,
           13,
           "Zay Jones"
          ],
          [
           8.16,
           3,
           "Tyler Conklin"
          ],
          [
           7.5,
           4,
           "Corey Davis"
          ],
          [
           7.65,
           2,
           "Robert Tonyan"
          ],
          [
           4.77,
           11,
           "Nick Folk"
          ],
          [
           10.14,
           10,
           "Parris Campbell"
          ],
          [
           3.64,
           1,
           "Kenyan Drake"
          ],
          [
           6.77,
           1,
           "Chiefs D/ST"
          ],
          [
           7.58,
           2,
           "Bengals D/ST"
          ],
          [
           15.65,
           17,
           "Joe Mixon"
          ],
          [
           11.03,
           17,
           "Leonard Fournette"
          ],
          [
           14.18,
           17,
           "A.J. Brown"
          ],
          [
           13.36,
           17,
           "Jaylen Waddle"
          ],
          [
           6.3,
           17,
           "Damien Harris"
          ],
          [
           10.84,
           17,
           "Gabe Davis"
          ],
          [
           19.66,
           17,
           "Joe Burrow"
          ],
          [
           8.83,
           11,
           "Zach Ertz"
          ],
          [
           11.17,
           5,
           "Elijah Moore"
          ],
          [
           8.77,
           9,
           "James Robinson"
          ],
          [
           8.28,
           16,
           "Daniel Carlson"
          ],
          [
           9.29,
           8,
           "J.D. McKissic"
          ],
          [
           5.87,
           3,
           "Dolphins D/ST"
          ],
          [
           10.51,
           4,
           "Marvin Jones Jr."
          ],
          [
           9.02,
           1,
           "Irv Smith Jr."
          ],
          [
           4.32,
           3,
           "Tyler Allgeier"
          ],
          [
           9.68,
           8,
           "Marquez Valdes-Scantling"
          ],
          [
           11.76,
           3,
           "Melvin Gordon III"
          ],
          [
           17.64,
           1,
           "Derek Carr"
          ],
          [
           7.42,
           3,
           "Chase Edmonds"
          ],
          [
           8.02,
           1,
           "Broncos D/ST"
          ],
          [
           8.31,
           7,
           "Dawson Knox"
          ],
          [
           6.07,
           2,
           "Steelers D/ST"
          ],
          [
           1.61,
           7,
           "Mecole Hardman"
          ],
          [
           9.1,
           15,
           "Curtis Samuel"
          ],
          [
           10.46,
           2,
           "Mack Hollins"
          ],
          [
           8.04,
           6,
           "Samaje Perine"
          ],
          [
           7.83,
           6,
           "Jason Myers"
          ],
          [
           5.37,
           3,
           "Commanders D/ST"
          ],
          [
           0,
           2,
           "Randall Cobb"
          ],
          [
           6.19,
           8,
           "Kyren Williams"
          ],
          [
           5.62,
           2,
           "Cardinals D/ST"
          ],
          [
           5.13,
           2,
           "Titans D/ST"
          ],
          [
           10.34,
           7,
           "Darius Slayton"
          ],
          [
           11.51,
           5,
           "Zonovan Knight"
          ],
          [
           2.89,
           3,
           "JaMycal Hasty"
          ],
          [
           7.68,
           2,
           "Juwan Johnson"
          ],
          [
           9.92,
           1,
           "Hassan Haskins"
          ],
          [
           6.1,
           1,
           "Chargers D/ST"
          ],
          [
           5.74,
           4,
           "James Robinson"
          ],
          [
           6.76,
           3,
           "DJ Chark"
          ],
          [
           9.83,
           3,
           "Marquez Valdes-Scantling"
          ],
          [
           8.17,
           2,
           "Evan Engram"
          ],
          [
           15.6,
           17,
           "Derrick Henry"
          ],
          [
           14.46,
           17,
           "Deebo Samuel"
          ],
          [
           11.87,
           17,
           "DJ Moore"
          ],
          [
           14.24,
           17,
           "Josh Jacobs"
          ],
          [
           23.07,
           17,
           "Jalen Hurts"
          ],
          [
           11.58,
           17,
           "Chris Godwin"
          ],
          [
           10.03,
           17,
           "T.J. Hockenson"
          ],
          [
           9.5,
           9,
           "Melvin Gordon III"
          ],
          [
           7.27,
           17,
           "Justin Tucker"
          ],
          [
           10.59,
           17,
           "Chris Olave"
          ],
          [
           6.05,
           17,
           "Cowboys D/ST"
          ],
          [
           13.99,
           6,
           "Derek Carr"
          ],
          [
           7.45,
           13,
           "Rex Burkhead"
          ],
          [
           7.32,
           4,
           "Noah Fant"
          ],
          [
           4.59,
           1,
           "Jalen Tolbert"
          ],
          [
           7.85,
           4,
           "Jake Elliott"
          ],
          [
           10.25,
           3,
           "Isaiah McKenzie"
          ],
          [
           10.09,
           2,
           "Sterling Shepard"
          ],
          [
           15.72,
           8,
           "Marcus Mariota"
          ],
          [
           7.12,
           2,
           "Browns D/ST"
          ],
          [
           2.2,
           3,
           "Marlon Mack"
          ],
          [
           7.92,
           1,
           "Mike Boone"
          ],
          [
           7.5,
           4,
           "Corey Davis"
          ],
          [
           5.78,
           11,
           "Will Dissly"
          ],
          [
           6.63,
           2,
           "Samaje Perine"
          ],
          [
           4.68,
           2,
           "Marquise Goodwin"
          ],
          [
           1.56,
           7,
           "Kenyan Drake"
          ],
          [
           7.74,
           3,
           "Robbie Gould"
          ],
          [
           6.36,
           1,
           "Saints D/ST"
          ],
          [
           2.49,
           1,
           "JaMycal Hasty"
          ],
          [
           11.14,
           1,
           "Mark Ingram II"
          ],
          [
           7.51,
           2,
           "Broncos D/ST"
          ],
          [
           6.54,
           9,
           "Hayden Hurst"
          ],
          [
           19.8,
           17,
           "Austin Ekeler"
          ],
          [
           11.46,
           17,
           "Ezekiel Elliott"
          ],
          [
           12.55,
           17,
           "Michael Pittman Jr."
          ],
          [
           19.39,
           17,
           "Justin Herbert"
          ],
          [
           15.12,
           17,
           "Amon-Ra St. Brown"
          ],
          [
           4.51,
           17,
           "Bills D/ST"
          ],
          [
           8.69,
           17,
           "AJ Dillon"
          ],
          [
           12.23,
           17,
           "Christian Kirk"
          ],
          [
           9.79,
           17,
           "Pat Freiermuth"
          ],
          [
           7.52,
           17,
           "Jakobi Meyers"
          ],
          [
           5.95,
           3,
           "Kenny Golladay"
          ],
          [
           8.99,
           17,
           "D'Onta Foreman"
          ],
          [
           7.6,
           16,
           "Rachaad White"
          ],
          [
           15.24,
           1,
           "Jimmy Garoppolo"
          ],
          [
           6.91,
           15,
           "Graham Gano"
          ],
          [
           2.2,
           3,
           "Marlon Mack"
          ],
          [
           15.83,
           14,
           "Geno Smith"
          ],
          [
           6.15,
           1,
           "Bears D/ST"
          ],
          [
           7.02,
           10,
           "Younghoe Koo"
          ],
          [
           3.54,
           2,
           "Nick Folk"
          ],
          [
           7.37,
           2,
           "Kadarius Toney"
          ],
          [
           3.75,
           1,
           "Saints D/ST"
          ],
          [
           6.74,
           1,
           "James Cook"
          ],
          [
           10.43,
           2,
           "Michael Gallup"
          ],
          [
           6.83,
           3,
           "Chigoziem Okonkwo"
          ],
          [
           7.41,
           17,
           "Cooper Kupp"
          ],
          [
           13.74,
           17,
           "CeeDee Lamb"
          ],
          [
           3.6,
           17,
           "Javonte Williams"
          ],
          [
           6.16,
           17,
           "Kyle Pitts"
          ],
          [
           5.44,
           17,
           "Clyde Edwards-Helaire"
          ],
          [
           14.93,
           17,
           "Tom Brady"
          ],
          [
           11.08,
           17,
           "JuJu Smith-Schuster"
          ],
          [
           7.95,
           9,
           "Hunter Renfrow"
          ],
          [
           6.03,
           17,
           "Patriots D/ST"
          ],
          [
           6.11,
           12,
           "Matt Gay"
          ],
          [
           9.42,
           17,
           "Kenneth Walker III"
          ],
          [
           8.74,
           10,
           "Russell Gage"
          ],
          [
           5.21,
           17,
           "Mike Gesicki"
          ],
          [
           8.6,
           17,
           "Jerick McKinnon"
          ],
          [
           9.56,
           17,
           "Joshua Palmer"
          ],
          [
           17.46,
           5,
           "Carson Wentz"
          ],
          [
           8.24,
           5,
           "Tyler Conklin"
          ],
          [
           15.75,
           1,
           "Matt Ryan"
          ],
          [
           6.89,
           11,
           "Ka'imi Fairbairn"
          ],
          [
           3.55,
           10,
           "Keaontay Ingram"
          ],
          [
           5.32,
           3,
           "Raiders D/ST"
          ],
          [
           9.67,
           3,
           "Colt McCoy"
          ],
          [
           15.45,
           17,
           "Jonathan Taylor"
          ],
          [
           20.19,
           17,
           "Tyreek Hill"
          ],
          [
           12.05,
           17,
           "Mike Evans"
          ],
          [
           7.02,
           17,
           "J.K. Dobbins"
          ],
          [
           16.76,
           17,
           "Lamar Jackson"
          ],
          [
           5.94,
           17,
           "Dalton Schultz"
          ],
          [
           9.55,
           17,
           "Marquise Brown"
          ],
          [
           5.16,
           13,
           "Buccaneers D/ST"
          ],
          [
           10.04,
           17,
           "Dameon Pierce"
          ],
          [
           7.28,
           17,
           "Tyler Boyd"
          ],
          [
           6.55,
           17,
           "Jarvis Landry"
          ],
          [
           7.75,
           17,
           "Tyler Bass"
          ],
          [
           9.04,
           17,
           "Jamaal Williams"
          ],
          [
           16.74,
           4,
           "Trevor Lawrence"
          ],
          [
           10.52,
           17,
           "Tyler Higbee"
          ],
          [
           5.96,
           17,
           "Rondale Moore"
          ],
          [
           4.05,
           12,
           "Deon Jackson"
          ],
          [
           5.85,
           7,
           "Jets D/ST"
          ],
          [
           15.54,
           1,
           "Andy Dalton"
          ],
          [
           5.34,
           3,
           "Chris Boswell"
          ],
          [
           16.35,
           4,
           "Tyler Huntley"
          ]
         ],
         "hovertemplate": "Team=%{x}<br>Average Scored Points=%{marker.color}<br>Average Projected Points=%{customdata[0]}<br>Length of Ownership=%{customdata[1]}<br>Player=%{customdata[2]}<extra></extra>",
         "legendgroup": "",
         "marker": {
          "color": [
           11.51,
           21.75,
           11.68,
           7.27,
           10.46,
           14.04,
           7.84,
           7.72,
           9.71,
           9.25,
           1,
           6.06,
           5.58,
           7.35,
           11.77,
           6.51,
           10.7,
           9.02,
           6.1,
           18.01,
           2.72,
           -0.5,
           5.33,
           4.25,
           2.7,
           10.32,
           8.24,
           3.08,
           3.3,
           0,
           0.06,
           10.71,
           4,
           15.04,
           18.37,
           17.09,
           17.99,
           10.88,
           9.72,
           7.75,
           1.97,
           2.5,
           11.08,
           10.98,
           5.7,
           2.8,
           6.33,
           7,
           6.92,
           5.5,
           2.9,
           2.2,
           21.3,
           18.36,
           3.07,
           6.2,
           15.2,
           6,
           12,
           9.4,
           0,
           12,
           5.59,
           15.03,
           2.5,
           11.42,
           13.2,
           6,
           15.42,
           11.66,
           6.19,
           23.23,
           7.92,
           10.3,
           15.82,
           7.71,
           10.08,
           3.8,
           9.08,
           10,
           3.48,
           1.7,
           14.65,
           0.65,
           4,
           5,
           6.41,
           8.67,
           3.6,
           7.11,
           0,
           13.9,
           1.6,
           10.04,
           5.65,
           11.5,
           7,
           7.4,
           4,
           9.92,
           0.64,
           8,
           1.8,
           7,
           0,
           6,
           3.15,
           8,
           5.5,
           2.83,
           14.51,
           9.79,
           0.69,
           9.56,
           12.73,
           12.08,
           4.65,
           12.94,
           11.66,
           9.65,
           6.21,
           3.72,
           5.12,
           28.18,
           4.5,
           5.47,
           7.5,
           13.98,
           13.15,
           7,
           12.43,
           5.98,
           6.33,
           6.4,
           4.34,
           6.4,
           3,
           8,
           10.7,
           9.76,
           8.64,
           12.8,
           7.25,
           12.64,
           21.98,
           19.16,
           12.68,
           6.35,
           6.67,
           10.11,
           19.18,
           6.75,
           8.53,
           6.61,
           13.98,
           2.64,
           9.49,
           6.63,
           4,
           5.83,
           13.35,
           15.2,
           1,
           16.7,
           5.85,
           12,
           4,
           4.2,
           11.2,
           3.34,
           12.9,
           1.2,
           5.53,
           -4,
           12.44,
           18.96,
           11.68,
           9.75,
           0,
           8.64,
           8.8,
           14.8,
           9.93,
           10.87,
           4.52,
           0,
           8.91,
           1.9,
           16.85,
           5,
           12,
           1.2,
           -1,
           16.36,
           14.38,
           25.7,
           6.67,
           5.75,
           9.77,
           10.97,
           8.82,
           5.33,
           5.85,
           12.11,
           10.56,
           8.24,
           10,
           9.86,
           0,
           6.5,
           9.96,
           0,
           16,
           6,
           7.7,
           -0.28,
           10,
           12.96,
           11,
           15.51,
           20.48,
           11.72,
           11.56,
           13.5,
           8.98,
           14.9,
           10.91,
           6.43,
           9.12,
           11.1,
           9.41,
           18.44,
           6.8,
           5.83,
           0.2,
           8.97,
           7.98,
           0.88,
           5.53,
           5.15,
           6.35,
           9.4,
           14.1,
           4.97,
           9.5,
           3.3,
           4.1,
           0,
           8.98,
           1.6,
           7.63,
           7.13,
           5.05,
           1.9,
           8.45,
           13.52,
           6.6,
           8,
           3,
           17.41,
           9.76,
           14.83,
           11.94,
           4.95,
           7.37,
           21.42,
           9.98,
           5.66,
           6.66,
           10.12,
           6.25,
           12.67,
           3.9,
           0,
           5.5,
           8.57,
           6.13,
           18.98,
           1.73,
           -4,
           12.59,
           5,
           0.17,
           9.19,
           7.25,
           6.82,
           10.67,
           5.67,
           0,
           4.08,
           7,
           6,
           8.8,
           8.48,
           1.7,
           6.55,
           7.3,
           10,
           8.55,
           7.6,
           6.83,
           9.95,
           14.35,
           12.22,
           10.14,
           16.16,
           25.32,
           11.45,
           10.42,
           6.64,
           7.65,
           9.94,
           10,
           12.63,
           6.08,
           7.27,
           0,
           6.5,
           6,
           9.4,
           16,
           5,
           0,
           11.5,
           5.05,
           3.75,
           1.8,
           7.3,
           2.83,
           10,
           4,
           1.3,
           6.1,
           -1,
           6.29,
           24.93,
           13.24,
           10.64,
           17.33,
           11.82,
           5.35,
           7.85,
           11.32,
           9.68,
           6.84,
           0,
           6.64,
           8.87,
           13.28,
           7,
           0,
           15.54,
           5,
           4.9,
           10.5,
           1.6,
           4,
           3.8,
           6,
           5.8,
           8.82,
           15.11,
           2.18,
           3.94,
           5.14,
           12.87,
           11.65,
           6.77,
           11.53,
           6.33,
           12.16,
           11.33,
           3.65,
           10.86,
           11.95,
           16.3,
           6.18,
           9.92,
           6.55,
           0.56,
           6.67,
           4.88,
           8.07,
           22.32,
           12.9,
           6.88,
           14.83,
           4.66,
           11.39,
           3.85,
           12.33,
           11.57,
           2.76,
           7.94,
           14.14,
           15.54,
           9.24,
           7.49,
           8.79,
           3.14,
           7.06,
           6.33,
           5.02
          ],
          "coloraxis": "coloraxis",
          "symbol": "circle"
         },
         "mode": "markers",
         "name": "",
         "orientation": "v",
         "showlegend": false,
         "type": "scatter",
         "x": [
          "RightInThe McManus",
          "RightInThe McManus",
          "RightInThe McManus",
          "RightInThe McManus",
          "RightInThe McManus",
          "RightInThe McManus",
          "RightInThe McManus",
          "RightInThe McManus",
          "RightInThe McManus",
          "RightInThe McManus",
          "RightInThe McManus",
          "RightInThe McManus",
          "RightInThe McManus",
          "RightInThe McManus",
          "RightInThe McManus",
          "RightInThe McManus",
          "RightInThe McManus",
          "RightInThe McManus",
          "RightInThe McManus",
          "RightInThe McManus",
          "RightInThe McManus",
          "RightInThe McManus",
          "RightInThe McManus",
          "RightInThe McManus",
          "RightInThe McManus",
          "Hot Chubb Time  Machine 2",
          "Hot Chubb Time  Machine 2",
          "Hot Chubb Time  Machine 2",
          "Hot Chubb Time  Machine 2",
          "Hot Chubb Time  Machine 2",
          "Hot Chubb Time  Machine 2",
          "Hot Chubb Time  Machine 2",
          "Hot Chubb Time  Machine 2",
          "Hot Chubb Time  Machine 2",
          "Hot Chubb Time  Machine 2",
          "Hot Chubb Time  Machine 2",
          "Hot Chubb Time  Machine 2",
          "Hot Chubb Time  Machine 2",
          "Hot Chubb Time  Machine 2",
          "Hot Chubb Time  Machine 2",
          "Hot Chubb Time  Machine 2",
          "Hot Chubb Time  Machine 2",
          "Hot Chubb Time  Machine 2",
          "Hot Chubb Time  Machine 2",
          "Hot Chubb Time  Machine 2",
          "Hot Chubb Time  Machine 2",
          "Hot Chubb Time  Machine 2",
          "Hot Chubb Time  Machine 2",
          "Hot Chubb Time  Machine 2",
          "Hot Chubb Time  Machine 2",
          "Hot Chubb Time  Machine 2",
          "Hot Chubb Time  Machine 2",
          "Hot Chubb Time  Machine 2",
          "Hot Chubb Time  Machine 2",
          "Hot Chubb Time  Machine 2",
          "Hot Chubb Time  Machine 2",
          "Hot Chubb Time  Machine 2",
          "Hot Chubb Time  Machine 2",
          "Hot Chubb Time  Machine 2",
          "Hot Chubb Time  Machine 2",
          "Hot Chubb Time  Machine 2",
          "Hot Chubb Time  Machine 2",
          "Hot Chubb Time  Machine 2",
          "Hot Chubb Time  Machine 2",
          "Hot Chubb Time  Machine 2",
          "Hot Chubb Time  Machine 2",
          "Hot Chubb Time  Machine 2",
          "Hot Chubb Time  Machine 2",
          "3 PP Wine",
          "3 PP Wine",
          "3 PP Wine",
          "3 PP Wine",
          "3 PP Wine",
          "3 PP Wine",
          "3 PP Wine",
          "3 PP Wine",
          "3 PP Wine",
          "3 PP Wine",
          "3 PP Wine",
          "3 PP Wine",
          "3 PP Wine",
          "3 PP Wine",
          "3 PP Wine",
          "3 PP Wine",
          "3 PP Wine",
          "3 PP Wine",
          "3 PP Wine",
          "3 PP Wine",
          "3 PP Wine",
          "3 PP Wine",
          "3 PP Wine",
          "3 PP Wine",
          "3 PP Wine",
          "3 PP Wine",
          "3 PP Wine",
          "3 PP Wine",
          "3 PP Wine",
          "3 PP Wine",
          "3 PP Wine",
          "3 PP Wine",
          "3 PP Wine",
          "3 PP Wine",
          "3 PP Wine",
          "3 PP Wine",
          "3 PP Wine",
          "3 PP Wine",
          "3 PP Wine",
          "3 PP Wine",
          "Dakcidental  Thumblers ",
          "Dakcidental  Thumblers ",
          "Dakcidental  Thumblers ",
          "Dakcidental  Thumblers ",
          "Dakcidental  Thumblers ",
          "Dakcidental  Thumblers ",
          "Dakcidental  Thumblers ",
          "Dakcidental  Thumblers ",
          "Dakcidental  Thumblers ",
          "Dakcidental  Thumblers ",
          "Dakcidental  Thumblers ",
          "Dakcidental  Thumblers ",
          "Dakcidental  Thumblers ",
          "Dakcidental  Thumblers ",
          "Dakcidental  Thumblers ",
          "Dakcidental  Thumblers ",
          "Dakcidental  Thumblers ",
          "Dakcidental  Thumblers ",
          "Dakcidental  Thumblers ",
          "Dakcidental  Thumblers ",
          "Dakcidental  Thumblers ",
          "Dakcidental  Thumblers ",
          "Dakcidental  Thumblers ",
          "Dakcidental  Thumblers ",
          "Dakcidental  Thumblers ",
          "Dakcidental  Thumblers ",
          "Dakcidental  Thumblers ",
          "Dakcidental  Thumblers ",
          "Country Road Take Mahomes ",
          "Country Road Take Mahomes ",
          "Country Road Take Mahomes ",
          "Country Road Take Mahomes ",
          "Country Road Take Mahomes ",
          "Country Road Take Mahomes ",
          "Country Road Take Mahomes ",
          "Country Road Take Mahomes ",
          "Country Road Take Mahomes ",
          "Country Road Take Mahomes ",
          "Country Road Take Mahomes ",
          "Country Road Take Mahomes ",
          "Country Road Take Mahomes ",
          "Country Road Take Mahomes ",
          "Country Road Take Mahomes ",
          "Country Road Take Mahomes ",
          "Country Road Take Mahomes ",
          "Country Road Take Mahomes ",
          "Country Road Take Mahomes ",
          "Country Road Take Mahomes ",
          "Country Road Take Mahomes ",
          "Country Road Take Mahomes ",
          "Country Road Take Mahomes ",
          "Country Road Take Mahomes ",
          "Country Road Take Mahomes ",
          "Country Road Take Mahomes ",
          "Country Road Take Mahomes ",
          "Country Road Take Mahomes ",
          "Country Road Take Mahomes ",
          "Country Road Take Mahomes ",
          "Country Road Take Mahomes ",
          "Country Road Take Mahomes ",
          "Country Road Take Mahomes ",
          "Trash Trash",
          "Trash Trash",
          "Trash Trash",
          "Trash Trash",
          "Trash Trash",
          "Trash Trash",
          "Trash Trash",
          "Trash Trash",
          "Trash Trash",
          "Trash Trash",
          "Trash Trash",
          "Trash Trash",
          "Trash Trash",
          "Trash Trash",
          "Trash Trash",
          "Trash Trash",
          "Trash Trash",
          "Trash Trash",
          "Trash Trash",
          "Trash Trash",
          "Trash Trash",
          "Trash Trash",
          "Trash Trash",
          "Trash Trash",
          "Trash Trash",
          "Trash Trash",
          "Trash Trash",
          "Trash Trash",
          "Trash Trash",
          "Trash Trash",
          "Trash Trash",
          "Trash Trash",
          "Trash Trash",
          "Trash Trash",
          "Trash Trash",
          "Trash Trash",
          "Trash Trash",
          "Trash Trash",
          "Trash Trash",
          "Trash Trash",
          "Trash Trash",
          "Trash Trash",
          "Trash Trash",
          "Trash Trash",
          "Trash Trash",
          "Trash Trash",
          "Trash Trash",
          "Trash Trash",
          "Trash Trash",
          "Corduroy Patterson",
          "Corduroy Patterson",
          "Corduroy Patterson",
          "Corduroy Patterson",
          "Corduroy Patterson",
          "Corduroy Patterson",
          "Corduroy Patterson",
          "Corduroy Patterson",
          "Corduroy Patterson",
          "Corduroy Patterson",
          "Corduroy Patterson",
          "Corduroy Patterson",
          "Corduroy Patterson",
          "Corduroy Patterson",
          "Corduroy Patterson",
          "Corduroy Patterson",
          "Corduroy Patterson",
          "Corduroy Patterson",
          "Corduroy Patterson",
          "Corduroy Patterson",
          "Corduroy Patterson",
          "Corduroy Patterson",
          "Corduroy Patterson",
          "Corduroy Patterson",
          "Corduroy Patterson",
          "Corduroy Patterson",
          "Corduroy Patterson",
          "Corduroy Patterson",
          "Corduroy Patterson",
          "Corduroy Patterson",
          "Corduroy Patterson",
          "Corduroy Patterson",
          "Corduroy Patterson",
          "Corduroy Patterson",
          "Corduroy Patterson",
          "Corduroy Patterson",
          "Corduroy Patterson",
          "Corduroy Patterson",
          "Corduroy Patterson",
          "Corduroy Patterson",
          "Deshaunorable Discharge",
          "Deshaunorable Discharge",
          "Deshaunorable Discharge",
          "Deshaunorable Discharge",
          "Deshaunorable Discharge",
          "Deshaunorable Discharge",
          "Deshaunorable Discharge",
          "Deshaunorable Discharge",
          "Deshaunorable Discharge",
          "Deshaunorable Discharge",
          "Deshaunorable Discharge",
          "Deshaunorable Discharge",
          "Deshaunorable Discharge",
          "Deshaunorable Discharge",
          "Deshaunorable Discharge",
          "Deshaunorable Discharge",
          "Deshaunorable Discharge",
          "Deshaunorable Discharge",
          "Deshaunorable Discharge",
          "Deshaunorable Discharge",
          "Deshaunorable Discharge",
          "Deshaunorable Discharge",
          "Deshaunorable Discharge",
          "Deshaunorable Discharge",
          "Deshaunorable Discharge",
          "Deshaunorable Discharge",
          "Deshaunorable Discharge",
          "Deshaunorable Discharge",
          "Deshaunorable Discharge",
          "Deshaunorable Discharge",
          "Deshaunorable Discharge",
          "Deshaunorable Discharge",
          "Deshaunorable Discharge",
          "Deshaunorable Discharge",
          "Deshaunorable Discharge",
          "Deshaunorable Discharge",
          "Deshaunorable Discharge",
          "Deshaunorable Discharge",
          "Deshaunorable Discharge",
          "Deshaunorable Discharge",
          "Devon Allen’s Hurdle crew",
          "Devon Allen’s Hurdle crew",
          "Devon Allen’s Hurdle crew",
          "Devon Allen’s Hurdle crew",
          "Devon Allen’s Hurdle crew",
          "Devon Allen’s Hurdle crew",
          "Devon Allen’s Hurdle crew",
          "Devon Allen’s Hurdle crew",
          "Devon Allen’s Hurdle crew",
          "Devon Allen’s Hurdle crew",
          "Devon Allen’s Hurdle crew",
          "Devon Allen’s Hurdle crew",
          "Devon Allen’s Hurdle crew",
          "Devon Allen’s Hurdle crew",
          "Devon Allen’s Hurdle crew",
          "Devon Allen’s Hurdle crew",
          "Devon Allen’s Hurdle crew",
          "Devon Allen’s Hurdle crew",
          "Devon Allen’s Hurdle crew",
          "Devon Allen’s Hurdle crew",
          "Devon Allen’s Hurdle crew",
          "Devon Allen’s Hurdle crew",
          "Devon Allen’s Hurdle crew",
          "Devon Allen’s Hurdle crew",
          "Devon Allen’s Hurdle crew",
          "Devon Allen’s Hurdle crew",
          "Devon Allen’s Hurdle crew",
          "Devon Allen’s Hurdle crew",
          "Devon Allen’s Hurdle crew",
          "Devon Allen’s Hurdle crew",
          "Devon Allen’s Hurdle crew",
          "Devon Allen’s Hurdle crew",
          "Devon Allen’s Hurdle crew",
          "Devon Allen’s Hurdle crew",
          "Dessert Desperadoes",
          "Dessert Desperadoes",
          "Dessert Desperadoes",
          "Dessert Desperadoes",
          "Dessert Desperadoes",
          "Dessert Desperadoes",
          "Dessert Desperadoes",
          "Dessert Desperadoes",
          "Dessert Desperadoes",
          "Dessert Desperadoes",
          "Dessert Desperadoes",
          "Dessert Desperadoes",
          "Dessert Desperadoes",
          "Dessert Desperadoes",
          "Dessert Desperadoes",
          "Dessert Desperadoes",
          "Dessert Desperadoes",
          "Dessert Desperadoes",
          "Dessert Desperadoes",
          "Dessert Desperadoes",
          "Dessert Desperadoes",
          "Dessert Desperadoes",
          "Dessert Desperadoes",
          "Dessert Desperadoes",
          "Dessert Desperadoes",
          "Dessert Desperadoes",
          "Dessert Desperadoes",
          "Dessert Desperadoes",
          "Sunday Funday",
          "Sunday Funday",
          "Sunday Funday",
          "Sunday Funday",
          "Sunday Funday",
          "Sunday Funday",
          "Sunday Funday",
          "Sunday Funday",
          "Sunday Funday",
          "Sunday Funday",
          "Sunday Funday",
          "Sunday Funday",
          "Sunday Funday",
          "Sunday Funday",
          "Sunday Funday",
          "Sunday Funday",
          "Sunday Funday",
          "Sunday Funday",
          "Sunday Funday",
          "Sunday Funday",
          "Sunday Funday",
          "Sunday Funday",
          "JTT 4EVR",
          "JTT 4EVR",
          "JTT 4EVR",
          "JTT 4EVR",
          "JTT 4EVR",
          "JTT 4EVR",
          "JTT 4EVR",
          "JTT 4EVR",
          "JTT 4EVR",
          "JTT 4EVR",
          "JTT 4EVR",
          "JTT 4EVR",
          "JTT 4EVR",
          "JTT 4EVR",
          "JTT 4EVR",
          "JTT 4EVR",
          "JTT 4EVR",
          "JTT 4EVR",
          "JTT 4EVR",
          "JTT 4EVR",
          "JTT 4EVR"
         ],
         "xaxis": "x",
         "y": [
          11.51,
          21.75,
          11.68,
          7.27,
          10.46,
          14.04,
          7.84,
          7.72,
          9.71,
          9.25,
          1,
          6.06,
          5.58,
          7.35,
          11.77,
          6.51,
          10.7,
          9.02,
          6.1,
          18.01,
          2.72,
          -0.5,
          5.33,
          4.25,
          2.7,
          10.32,
          8.24,
          3.08,
          3.3,
          0,
          0.06,
          10.71,
          4,
          15.04,
          18.37,
          17.09,
          17.99,
          10.88,
          9.72,
          7.75,
          1.97,
          2.5,
          11.08,
          10.98,
          5.7,
          2.8,
          6.33,
          7,
          6.92,
          5.5,
          2.9,
          2.2,
          21.3,
          18.36,
          3.07,
          6.2,
          15.2,
          6,
          12,
          9.4,
          0,
          12,
          5.59,
          15.03,
          2.5,
          11.42,
          13.2,
          6,
          15.42,
          11.66,
          6.19,
          23.23,
          7.92,
          10.3,
          15.82,
          7.71,
          10.08,
          3.8,
          9.08,
          10,
          3.48,
          1.7,
          14.65,
          0.65,
          4,
          5,
          6.41,
          8.67,
          3.6,
          7.11,
          0,
          13.9,
          1.6,
          10.04,
          5.65,
          11.5,
          7,
          7.4,
          4,
          9.92,
          0.64,
          8,
          1.8,
          7,
          0,
          6,
          3.15,
          8,
          5.5,
          2.83,
          14.51,
          9.79,
          0.69,
          9.56,
          12.73,
          12.08,
          4.65,
          12.94,
          11.66,
          9.65,
          6.21,
          3.72,
          5.12,
          28.18,
          4.5,
          5.47,
          7.5,
          13.98,
          13.15,
          7,
          12.43,
          5.98,
          6.33,
          6.4,
          4.34,
          6.4,
          3,
          8,
          10.7,
          9.76,
          8.64,
          12.8,
          7.25,
          12.64,
          21.98,
          19.16,
          12.68,
          6.35,
          6.67,
          10.11,
          19.18,
          6.75,
          8.53,
          6.61,
          13.98,
          2.64,
          9.49,
          6.63,
          4,
          5.83,
          13.35,
          15.2,
          1,
          16.7,
          5.85,
          12,
          4,
          4.2,
          11.2,
          3.34,
          12.9,
          1.2,
          5.53,
          -4,
          12.44,
          18.96,
          11.68,
          9.75,
          0,
          8.64,
          8.8,
          14.8,
          9.93,
          10.87,
          4.52,
          0,
          8.91,
          1.9,
          16.85,
          5,
          12,
          1.2,
          -1,
          16.36,
          14.38,
          25.7,
          6.67,
          5.75,
          9.77,
          10.97,
          8.82,
          5.33,
          5.85,
          12.11,
          10.56,
          8.24,
          10,
          9.86,
          0,
          6.5,
          9.96,
          0,
          16,
          6,
          7.7,
          -0.28,
          10,
          12.96,
          11,
          15.51,
          20.48,
          11.72,
          11.56,
          13.5,
          8.98,
          14.9,
          10.91,
          6.43,
          9.12,
          11.1,
          9.41,
          18.44,
          6.8,
          5.83,
          0.2,
          8.97,
          7.98,
          0.88,
          5.53,
          5.15,
          6.35,
          9.4,
          14.1,
          4.97,
          9.5,
          3.3,
          4.1,
          0,
          8.98,
          1.6,
          7.63,
          7.13,
          5.05,
          1.9,
          8.45,
          13.52,
          6.6,
          8,
          3,
          17.41,
          9.76,
          14.83,
          11.94,
          4.95,
          7.37,
          21.42,
          9.98,
          5.66,
          6.66,
          10.12,
          6.25,
          12.67,
          3.9,
          0,
          5.5,
          8.57,
          6.13,
          18.98,
          1.73,
          -4,
          12.59,
          5,
          0.17,
          9.19,
          7.25,
          6.82,
          10.67,
          5.67,
          0,
          4.08,
          7,
          6,
          8.8,
          8.48,
          1.7,
          6.55,
          7.3,
          10,
          8.55,
          7.6,
          6.83,
          9.95,
          14.35,
          12.22,
          10.14,
          16.16,
          25.32,
          11.45,
          10.42,
          6.64,
          7.65,
          9.94,
          10,
          12.63,
          6.08,
          7.27,
          0,
          6.5,
          6,
          9.4,
          16,
          5,
          0,
          11.5,
          5.05,
          3.75,
          1.8,
          7.3,
          2.83,
          10,
          4,
          1.3,
          6.1,
          -1,
          6.29,
          24.93,
          13.24,
          10.64,
          17.33,
          11.82,
          5.35,
          7.85,
          11.32,
          9.68,
          6.84,
          0,
          6.64,
          8.87,
          13.28,
          7,
          0,
          15.54,
          5,
          4.9,
          10.5,
          1.6,
          4,
          3.8,
          6,
          5.8,
          8.82,
          15.11,
          2.18,
          3.94,
          5.14,
          12.87,
          11.65,
          6.77,
          11.53,
          6.33,
          12.16,
          11.33,
          3.65,
          10.86,
          11.95,
          16.3,
          6.18,
          9.92,
          6.55,
          0.56,
          6.67,
          4.88,
          8.07,
          22.32,
          12.9,
          6.88,
          14.83,
          4.66,
          11.39,
          3.85,
          12.33,
          11.57,
          2.76,
          7.94,
          14.14,
          15.54,
          9.24,
          7.49,
          8.79,
          3.14,
          7.06,
          6.33,
          5.02
         ],
         "yaxis": "y"
        }
       ],
       "layout": {
        "coloraxis": {
         "colorbar": {
          "title": {
           "text": "Average Scored Points"
          }
         },
         "colorscale": [
          [
           0,
           "#0d0887"
          ],
          [
           0.1111111111111111,
           "#46039f"
          ],
          [
           0.2222222222222222,
           "#7201a8"
          ],
          [
           0.3333333333333333,
           "#9c179e"
          ],
          [
           0.4444444444444444,
           "#bd3786"
          ],
          [
           0.5555555555555556,
           "#d8576b"
          ],
          [
           0.6666666666666666,
           "#ed7953"
          ],
          [
           0.7777777777777778,
           "#fb9f3a"
          ],
          [
           0.8888888888888888,
           "#fdca26"
          ],
          [
           1,
           "#f0f921"
          ]
         ]
        },
        "legend": {
         "tracegroupgap": 0
        },
        "shapes": [
         {
          "line": {
           "color": "Red",
           "dash": "dash"
          },
          "type": "line",
          "x0": 0,
          "x1": 1,
          "xref": "x domain",
          "y0": 8.304838709677423,
          "y1": 8.304838709677423,
          "yref": "y"
         }
        ],
        "template": {
         "data": {
          "bar": [
           {
            "error_x": {
             "color": "#2a3f5f"
            },
            "error_y": {
             "color": "#2a3f5f"
            },
            "marker": {
             "line": {
              "color": "#E5ECF6",
              "width": 0.5
             },
             "pattern": {
              "fillmode": "overlay",
              "size": 10,
              "solidity": 0.2
             }
            },
            "type": "bar"
           }
          ],
          "barpolar": [
           {
            "marker": {
             "line": {
              "color": "#E5ECF6",
              "width": 0.5
             },
             "pattern": {
              "fillmode": "overlay",
              "size": 10,
              "solidity": 0.2
             }
            },
            "type": "barpolar"
           }
          ],
          "carpet": [
           {
            "aaxis": {
             "endlinecolor": "#2a3f5f",
             "gridcolor": "white",
             "linecolor": "white",
             "minorgridcolor": "white",
             "startlinecolor": "#2a3f5f"
            },
            "baxis": {
             "endlinecolor": "#2a3f5f",
             "gridcolor": "white",
             "linecolor": "white",
             "minorgridcolor": "white",
             "startlinecolor": "#2a3f5f"
            },
            "type": "carpet"
           }
          ],
          "choropleth": [
           {
            "colorbar": {
             "outlinewidth": 0,
             "ticks": ""
            },
            "type": "choropleth"
           }
          ],
          "contour": [
           {
            "colorbar": {
             "outlinewidth": 0,
             "ticks": ""
            },
            "colorscale": [
             [
              0,
              "#0d0887"
             ],
             [
              0.1111111111111111,
              "#46039f"
             ],
             [
              0.2222222222222222,
              "#7201a8"
             ],
             [
              0.3333333333333333,
              "#9c179e"
             ],
             [
              0.4444444444444444,
              "#bd3786"
             ],
             [
              0.5555555555555556,
              "#d8576b"
             ],
             [
              0.6666666666666666,
              "#ed7953"
             ],
             [
              0.7777777777777778,
              "#fb9f3a"
             ],
             [
              0.8888888888888888,
              "#fdca26"
             ],
             [
              1,
              "#f0f921"
             ]
            ],
            "type": "contour"
           }
          ],
          "contourcarpet": [
           {
            "colorbar": {
             "outlinewidth": 0,
             "ticks": ""
            },
            "type": "contourcarpet"
           }
          ],
          "heatmap": [
           {
            "colorbar": {
             "outlinewidth": 0,
             "ticks": ""
            },
            "colorscale": [
             [
              0,
              "#0d0887"
             ],
             [
              0.1111111111111111,
              "#46039f"
             ],
             [
              0.2222222222222222,
              "#7201a8"
             ],
             [
              0.3333333333333333,
              "#9c179e"
             ],
             [
              0.4444444444444444,
              "#bd3786"
             ],
             [
              0.5555555555555556,
              "#d8576b"
             ],
             [
              0.6666666666666666,
              "#ed7953"
             ],
             [
              0.7777777777777778,
              "#fb9f3a"
             ],
             [
              0.8888888888888888,
              "#fdca26"
             ],
             [
              1,
              "#f0f921"
             ]
            ],
            "type": "heatmap"
           }
          ],
          "heatmapgl": [
           {
            "colorbar": {
             "outlinewidth": 0,
             "ticks": ""
            },
            "colorscale": [
             [
              0,
              "#0d0887"
             ],
             [
              0.1111111111111111,
              "#46039f"
             ],
             [
              0.2222222222222222,
              "#7201a8"
             ],
             [
              0.3333333333333333,
              "#9c179e"
             ],
             [
              0.4444444444444444,
              "#bd3786"
             ],
             [
              0.5555555555555556,
              "#d8576b"
             ],
             [
              0.6666666666666666,
              "#ed7953"
             ],
             [
              0.7777777777777778,
              "#fb9f3a"
             ],
             [
              0.8888888888888888,
              "#fdca26"
             ],
             [
              1,
              "#f0f921"
             ]
            ],
            "type": "heatmapgl"
           }
          ],
          "histogram": [
           {
            "marker": {
             "pattern": {
              "fillmode": "overlay",
              "size": 10,
              "solidity": 0.2
             }
            },
            "type": "histogram"
           }
          ],
          "histogram2d": [
           {
            "colorbar": {
             "outlinewidth": 0,
             "ticks": ""
            },
            "colorscale": [
             [
              0,
              "#0d0887"
             ],
             [
              0.1111111111111111,
              "#46039f"
             ],
             [
              0.2222222222222222,
              "#7201a8"
             ],
             [
              0.3333333333333333,
              "#9c179e"
             ],
             [
              0.4444444444444444,
              "#bd3786"
             ],
             [
              0.5555555555555556,
              "#d8576b"
             ],
             [
              0.6666666666666666,
              "#ed7953"
             ],
             [
              0.7777777777777778,
              "#fb9f3a"
             ],
             [
              0.8888888888888888,
              "#fdca26"
             ],
             [
              1,
              "#f0f921"
             ]
            ],
            "type": "histogram2d"
           }
          ],
          "histogram2dcontour": [
           {
            "colorbar": {
             "outlinewidth": 0,
             "ticks": ""
            },
            "colorscale": [
             [
              0,
              "#0d0887"
             ],
             [
              0.1111111111111111,
              "#46039f"
             ],
             [
              0.2222222222222222,
              "#7201a8"
             ],
             [
              0.3333333333333333,
              "#9c179e"
             ],
             [
              0.4444444444444444,
              "#bd3786"
             ],
             [
              0.5555555555555556,
              "#d8576b"
             ],
             [
              0.6666666666666666,
              "#ed7953"
             ],
             [
              0.7777777777777778,
              "#fb9f3a"
             ],
             [
              0.8888888888888888,
              "#fdca26"
             ],
             [
              1,
              "#f0f921"
             ]
            ],
            "type": "histogram2dcontour"
           }
          ],
          "mesh3d": [
           {
            "colorbar": {
             "outlinewidth": 0,
             "ticks": ""
            },
            "type": "mesh3d"
           }
          ],
          "parcoords": [
           {
            "line": {
             "colorbar": {
              "outlinewidth": 0,
              "ticks": ""
             }
            },
            "type": "parcoords"
           }
          ],
          "pie": [
           {
            "automargin": true,
            "type": "pie"
           }
          ],
          "scatter": [
           {
            "marker": {
             "colorbar": {
              "outlinewidth": 0,
              "ticks": ""
             }
            },
            "type": "scatter"
           }
          ],
          "scatter3d": [
           {
            "line": {
             "colorbar": {
              "outlinewidth": 0,
              "ticks": ""
             }
            },
            "marker": {
             "colorbar": {
              "outlinewidth": 0,
              "ticks": ""
             }
            },
            "type": "scatter3d"
           }
          ],
          "scattercarpet": [
           {
            "marker": {
             "colorbar": {
              "outlinewidth": 0,
              "ticks": ""
             }
            },
            "type": "scattercarpet"
           }
          ],
          "scattergeo": [
           {
            "marker": {
             "colorbar": {
              "outlinewidth": 0,
              "ticks": ""
             }
            },
            "type": "scattergeo"
           }
          ],
          "scattergl": [
           {
            "marker": {
             "colorbar": {
              "outlinewidth": 0,
              "ticks": ""
             }
            },
            "type": "scattergl"
           }
          ],
          "scattermapbox": [
           {
            "marker": {
             "colorbar": {
              "outlinewidth": 0,
              "ticks": ""
             }
            },
            "type": "scattermapbox"
           }
          ],
          "scatterpolar": [
           {
            "marker": {
             "colorbar": {
              "outlinewidth": 0,
              "ticks": ""
             }
            },
            "type": "scatterpolar"
           }
          ],
          "scatterpolargl": [
           {
            "marker": {
             "colorbar": {
              "outlinewidth": 0,
              "ticks": ""
             }
            },
            "type": "scatterpolargl"
           }
          ],
          "scatterternary": [
           {
            "marker": {
             "colorbar": {
              "outlinewidth": 0,
              "ticks": ""
             }
            },
            "type": "scatterternary"
           }
          ],
          "surface": [
           {
            "colorbar": {
             "outlinewidth": 0,
             "ticks": ""
            },
            "colorscale": [
             [
              0,
              "#0d0887"
             ],
             [
              0.1111111111111111,
              "#46039f"
             ],
             [
              0.2222222222222222,
              "#7201a8"
             ],
             [
              0.3333333333333333,
              "#9c179e"
             ],
             [
              0.4444444444444444,
              "#bd3786"
             ],
             [
              0.5555555555555556,
              "#d8576b"
             ],
             [
              0.6666666666666666,
              "#ed7953"
             ],
             [
              0.7777777777777778,
              "#fb9f3a"
             ],
             [
              0.8888888888888888,
              "#fdca26"
             ],
             [
              1,
              "#f0f921"
             ]
            ],
            "type": "surface"
           }
          ],
          "table": [
           {
            "cells": {
             "fill": {
              "color": "#EBF0F8"
             },
             "line": {
              "color": "white"
             }
            },
            "header": {
             "fill": {
              "color": "#C8D4E3"
             },
             "line": {
              "color": "white"
             }
            },
            "type": "table"
           }
          ]
         },
         "layout": {
          "annotationdefaults": {
           "arrowcolor": "#2a3f5f",
           "arrowhead": 0,
           "arrowwidth": 1
          },
          "autotypenumbers": "strict",
          "coloraxis": {
           "colorbar": {
            "outlinewidth": 0,
            "ticks": ""
           }
          },
          "colorscale": {
           "diverging": [
            [
             0,
             "#8e0152"
            ],
            [
             0.1,
             "#c51b7d"
            ],
            [
             0.2,
             "#de77ae"
            ],
            [
             0.3,
             "#f1b6da"
            ],
            [
             0.4,
             "#fde0ef"
            ],
            [
             0.5,
             "#f7f7f7"
            ],
            [
             0.6,
             "#e6f5d0"
            ],
            [
             0.7,
             "#b8e186"
            ],
            [
             0.8,
             "#7fbc41"
            ],
            [
             0.9,
             "#4d9221"
            ],
            [
             1,
             "#276419"
            ]
           ],
           "sequential": [
            [
             0,
             "#0d0887"
            ],
            [
             0.1111111111111111,
             "#46039f"
            ],
            [
             0.2222222222222222,
             "#7201a8"
            ],
            [
             0.3333333333333333,
             "#9c179e"
            ],
            [
             0.4444444444444444,
             "#bd3786"
            ],
            [
             0.5555555555555556,
             "#d8576b"
            ],
            [
             0.6666666666666666,
             "#ed7953"
            ],
            [
             0.7777777777777778,
             "#fb9f3a"
            ],
            [
             0.8888888888888888,
             "#fdca26"
            ],
            [
             1,
             "#f0f921"
            ]
           ],
           "sequentialminus": [
            [
             0,
             "#0d0887"
            ],
            [
             0.1111111111111111,
             "#46039f"
            ],
            [
             0.2222222222222222,
             "#7201a8"
            ],
            [
             0.3333333333333333,
             "#9c179e"
            ],
            [
             0.4444444444444444,
             "#bd3786"
            ],
            [
             0.5555555555555556,
             "#d8576b"
            ],
            [
             0.6666666666666666,
             "#ed7953"
            ],
            [
             0.7777777777777778,
             "#fb9f3a"
            ],
            [
             0.8888888888888888,
             "#fdca26"
            ],
            [
             1,
             "#f0f921"
            ]
           ]
          },
          "colorway": [
           "#636efa",
           "#EF553B",
           "#00cc96",
           "#ab63fa",
           "#FFA15A",
           "#19d3f3",
           "#FF6692",
           "#B6E880",
           "#FF97FF",
           "#FECB52"
          ],
          "font": {
           "color": "#2a3f5f"
          },
          "geo": {
           "bgcolor": "white",
           "lakecolor": "white",
           "landcolor": "#E5ECF6",
           "showlakes": true,
           "showland": true,
           "subunitcolor": "white"
          },
          "hoverlabel": {
           "align": "left"
          },
          "hovermode": "closest",
          "mapbox": {
           "style": "light"
          },
          "paper_bgcolor": "white",
          "plot_bgcolor": "#E5ECF6",
          "polar": {
           "angularaxis": {
            "gridcolor": "white",
            "linecolor": "white",
            "ticks": ""
           },
           "bgcolor": "#E5ECF6",
           "radialaxis": {
            "gridcolor": "white",
            "linecolor": "white",
            "ticks": ""
           }
          },
          "scene": {
           "xaxis": {
            "backgroundcolor": "#E5ECF6",
            "gridcolor": "white",
            "gridwidth": 2,
            "linecolor": "white",
            "showbackground": true,
            "ticks": "",
            "zerolinecolor": "white"
           },
           "yaxis": {
            "backgroundcolor": "#E5ECF6",
            "gridcolor": "white",
            "gridwidth": 2,
            "linecolor": "white",
            "showbackground": true,
            "ticks": "",
            "zerolinecolor": "white"
           },
           "zaxis": {
            "backgroundcolor": "#E5ECF6",
            "gridcolor": "white",
            "gridwidth": 2,
            "linecolor": "white",
            "showbackground": true,
            "ticks": "",
            "zerolinecolor": "white"
           }
          },
          "shapedefaults": {
           "line": {
            "color": "#2a3f5f"
           }
          },
          "ternary": {
           "aaxis": {
            "gridcolor": "white",
            "linecolor": "white",
            "ticks": ""
           },
           "baxis": {
            "gridcolor": "white",
            "linecolor": "white",
            "ticks": ""
           },
           "bgcolor": "#E5ECF6",
           "caxis": {
            "gridcolor": "white",
            "linecolor": "white",
            "ticks": ""
           }
          },
          "title": {
           "x": 0.05
          },
          "xaxis": {
           "automargin": true,
           "gridcolor": "white",
           "linecolor": "white",
           "ticks": "",
           "title": {
            "standoff": 15
           },
           "zerolinecolor": "white",
           "zerolinewidth": 2
          },
          "yaxis": {
           "automargin": true,
           "gridcolor": "white",
           "linecolor": "white",
           "ticks": "",
           "title": {
            "standoff": 15
           },
           "zerolinecolor": "white",
           "zerolinewidth": 2
          }
         }
        },
        "title": {
         "text": "Best Players for each Team by Ownership (in weeks)"
        },
        "xaxis": {
         "anchor": "y",
         "domain": [
          0,
          1
         ],
         "title": {
          "text": "Team"
         }
        },
        "yaxis": {
         "anchor": "x",
         "domain": [
          0,
          1
         ],
         "title": {
          "text": "Average Scored Points"
         }
        }
       }
      }
     },
     "metadata": {},
     "output_type": "display_data"
    }
   ],
   "source": [
    "fig = px.scatter(df, x=df['Team'], y=df['Average Scored Points'], color=df['Average Scored Points'], hover_data=['Average Projected Points', 'Length of Ownership','Player'], title='Best Players for each Team by Ownership (in weeks)')\n",
    "fig.add_hline(df['Average Scored Points'].mean(), line_color='Red', line_dash = 'dash')\n",
    "fig.write_html('Data/cool_plots/best_players_for_each_team_by_ownership.html')\n",
    "fig.show()"
   ]
  },
  {
   "cell_type": "code",
   "execution_count": 24,
   "metadata": {},
   "outputs": [
    {
     "data": {
      "application/vnd.plotly.v1+json": {
       "config": {
        "plotlyServerURL": "https://plot.ly"
       },
       "data": [
        {
         "customdata": [
          [
           17,
           "Dalvin Cook",
           "RightInThe McManus"
          ],
          [
           17,
           "Travis Kelce",
           "RightInThe McManus"
          ],
          [
           17,
           "Terry McLaurin",
           "RightInThe McManus"
          ],
          [
           17,
           "Brandin Cooks",
           "RightInThe McManus"
          ],
          [
           17,
           "Devin Singletary",
           "RightInThe McManus"
          ],
          [
           17,
           "Amari Cooper",
           "RightInThe McManus"
          ],
          [
           13,
           "Russell Wilson",
           "RightInThe McManus"
          ],
          [
           5,
           "Rashaad Penny",
           "RightInThe McManus"
          ],
          [
           17,
           "Ravens D/ST",
           "RightInThe McManus"
          ],
          [
           5,
           "Matthew Stafford",
           "RightInThe McManus"
          ],
          [
           4,
           "Skyy Moore",
           "RightInThe McManus"
          ],
          [
           17,
           "Brandon McManus",
           "RightInThe McManus"
          ],
          [
           17,
           "Treylon Burks",
           "RightInThe McManus"
          ],
          [
           17,
           "Khalil Herbert",
           "RightInThe McManus"
          ],
          [
           17,
           "Tua Tagovailoa",
           "RightInThe McManus"
          ],
          [
           7,
           "Isiah Pacheco",
           "RightInThe McManus"
          ],
          [
           1,
           "Irv Smith Jr.",
           "RightInThe McManus"
          ],
          [
           9,
           "Tyler Allgeier",
           "RightInThe McManus"
          ],
          [
           4,
           "Mack Hollins",
           "RightInThe McManus"
          ],
          [
           12,
           "Daniel Jones",
           "RightInThe McManus"
          ],
          [
           12,
           "Devin Duvernay",
           "RightInThe McManus"
          ],
          [
           4,
           "Panthers D/ST",
           "RightInThe McManus"
          ],
          [
           9,
           "Joey Slye",
           "RightInThe McManus"
          ],
          [
           8,
           "Saints D/ST",
           "RightInThe McManus"
          ],
          [
           4,
           "Travis Homer",
           "RightInThe McManus"
          ],
          [
           1,
           "Matthew Stafford",
           "Hot Chubb Time  Machine 2"
          ],
          [
           10,
           "Isiah Pacheco",
           "Hot Chubb Time  Machine 2"
          ],
          [
           9,
           "Alexander Mattison",
           "Hot Chubb Time  Machine 2"
          ],
          [
           3,
           "Elijah Moore",
           "Hot Chubb Time  Machine 2"
          ],
          [
           1,
           "Irv Smith Jr.",
           "Hot Chubb Time  Machine 2"
          ],
          [
           7,
           "Damien Williams",
           "Hot Chubb Time  Machine 2"
          ],
          [
           3,
           "Derek Carr",
           "Hot Chubb Time  Machine 2"
          ],
          [
           1,
           "Hunter Henry",
           "Hot Chubb Time  Machine 2"
          ],
          [
           9,
           "Justin Fields",
           "Hot Chubb Time  Machine 2"
          ],
          [
           17,
           "Justin Jefferson",
           "Hot Chubb Time  Machine 2"
          ],
          [
           17,
           "Aaron Jones",
           "Hot Chubb Time  Machine 2"
          ],
          [
           17,
           "Nick Chubb",
           "Hot Chubb Time  Machine 2"
          ],
          [
           17,
           "Travis Etienne Jr.",
           "Hot Chubb Time  Machine 2"
          ],
          [
           17,
           "Courtland Sutton",
           "Hot Chubb Time  Machine 2"
          ],
          [
           12,
           "Darnell Mooney",
           "Hot Chubb Time  Machine 2"
          ],
          [
           7,
           "Chase Edmonds",
           "Hot Chubb Time  Machine 2"
          ],
          [
           2,
           "Trey Lance",
           "Hot Chubb Time  Machine 2"
          ],
          [
           17,
           "Brandon Aiyuk",
           "Hot Chubb Time  Machine 2"
          ],
          [
           17,
           "George Pickens",
           "Hot Chubb Time  Machine 2"
          ],
          [
           8,
           "Darrell Henderson Jr.",
           "Hot Chubb Time  Machine 2"
          ],
          [
           4,
           "Kenneth Gainwell",
           "Hot Chubb Time  Machine 2"
          ],
          [
           12,
           "Ryan Succop",
           "Hot Chubb Time  Machine 2"
          ],
          [
           2,
           "Broncos D/ST",
           "Hot Chubb Time  Machine 2"
          ],
          [
           9,
           "Gerald Everett",
           "Hot Chubb Time  Machine 2"
          ],
          [
           4,
           "Wan'Dale Robinson",
           "Hot Chubb Time  Machine 2"
          ],
          [
           1,
           "Isaiah McKenzie",
           "Hot Chubb Time  Machine 2"
          ],
          [
           4,
           "Jaylen Warren",
           "Hot Chubb Time  Machine 2"
          ],
          [
           1,
           "Romeo Doubs",
           "Hot Chubb Time  Machine 2"
          ],
          [
           3,
           "Jared Goff",
           "Hot Chubb Time  Machine 2"
          ],
          [
           3,
           "Gus Edwards",
           "Hot Chubb Time  Machine 2"
          ],
          [
           15,
           "Eagles D/ST",
           "Hot Chubb Time  Machine 2"
          ],
          [
           2,
           "Josh Reynolds",
           "Hot Chubb Time  Machine 2"
          ],
          [
           1,
           "Jets D/ST",
           "Hot Chubb Time  Machine 2"
          ],
          [
           2,
           "Jason Myers",
           "Hot Chubb Time  Machine 2"
          ],
          [
           1,
           "Isaiah Likely",
           "Hot Chubb Time  Machine 2"
          ],
          [
           3,
           "Kadarius Toney",
           "Hot Chubb Time  Machine 2"
          ],
          [
           3,
           "Cameron Dicker",
           "Hot Chubb Time  Machine 2"
          ],
          [
           8,
           "Greg Dulcich",
           "Hot Chubb Time  Machine 2"
          ],
          [
           7,
           "Christian Watson",
           "Hot Chubb Time  Machine 2"
          ],
          [
           1,
           "James Cook",
           "Hot Chubb Time  Machine 2"
          ],
          [
           1,
           "Taylor Heinicke",
           "Hot Chubb Time  Machine 2"
          ],
          [
           1,
           "Cole Kmet",
           "Hot Chubb Time  Machine 2"
          ],
          [
           1,
           "Michael Gallup",
           "Hot Chubb Time  Machine 2"
          ],
          [
           17,
           "Christian McCaffrey",
           "3 PP Wine"
          ],
          [
           17,
           "James Conner",
           "3 PP Wine"
          ],
          [
           17,
           "Keenan Allen",
           "3 PP Wine"
          ],
          [
           17,
           "Josh Allen",
           "3 PP Wine"
          ],
          [
           17,
           "George Kittle",
           "3 PP Wine"
          ],
          [
           8,
           "Michael Thomas",
           "3 PP Wine"
          ],
          [
           17,
           "Miles Sanders",
           "3 PP Wine"
          ],
          [
           17,
           "Drake London",
           "3 PP Wine"
          ],
          [
           17,
           "Allen Lazard",
           "3 PP Wine"
          ],
          [
           5,
           "Packers D/ST",
           "3 PP Wine"
          ],
          [
           17,
           "DeAndre Hopkins",
           "3 PP Wine"
          ],
          [
           12,
           "Harrison Butker",
           "3 PP Wine"
          ],
          [
           8,
           "Alexander Mattison",
           "3 PP Wine"
          ],
          [
           1,
           "David Njoku",
           "3 PP Wine"
          ],
          [
           2,
           "Jameis Winston",
           "3 PP Wine"
          ],
          [
           17,
           "Jameson Williams",
           "3 PP Wine"
          ],
          [
           7,
           "Bengals D/ST",
           "3 PP Wine"
          ],
          [
           1,
           "Jake Elliott",
           "3 PP Wine"
          ],
          [
           2,
           "Taysom Hill",
           "3 PP Wine"
          ],
          [
           3,
           "Dustin Hopkins",
           "3 PP Wine"
          ],
          [
           1,
           "Mark Ingram II",
           "3 PP Wine"
          ],
          [
           7,
           "Gerald Everett",
           "3 PP Wine"
          ],
          [
           1,
           "Browns D/ST",
           "3 PP Wine"
          ],
          [
           4,
           "Jimmy Garoppolo",
           "3 PP Wine"
          ],
          [
           2,
           "Greg Dortch",
           "3 PP Wine"
          ],
          [
           7,
           "Eno Benjamin",
           "3 PP Wine"
          ],
          [
           11,
           "Gus Edwards",
           "3 PP Wine"
          ],
          [
           2,
           "Mike Boone",
           "3 PP Wine"
          ],
          [
           1,
           "Matthew Wright",
           "3 PP Wine"
          ],
          [
           1,
           "Tyler Conklin",
           "3 PP Wine"
          ],
          [
           1,
           "Jets D/ST",
           "3 PP Wine"
          ],
          [
           1,
           "Matt Ryan",
           "3 PP Wine"
          ],
          [
           5,
           "Kadarius Toney",
           "3 PP Wine"
          ],
          [
           1,
           "Vikings D/ST",
           "3 PP Wine"
          ],
          [
           1,
           "Dontrell Hilliard",
           "3 PP Wine"
          ],
          [
           2,
           "Raiders D/ST",
           "3 PP Wine"
          ],
          [
           8,
           "Odell Beckham Jr.",
           "3 PP Wine"
          ],
          [
           2,
           "Titans D/ST",
           "3 PP Wine"
          ],
          [
           4,
           "James Cook",
           "3 PP Wine"
          ],
          [
           1,
           "Chiefs D/ST",
           "3 PP Wine"
          ],
          [
           2,
           "Packers D/ST",
           "Dakcidental  Thumblers "
          ],
          [
           3,
           "Elijah Moore",
           "Dakcidental  Thumblers "
          ],
          [
           17,
           "Ja'Marr Chase",
           "Dakcidental  Thumblers "
          ],
          [
           17,
           "Mark Andrews",
           "Dakcidental  Thumblers "
          ],
          [
           12,
           "Cam Akers",
           "Dakcidental  Thumblers "
          ],
          [
           17,
           "David Montgomery",
           "Dakcidental  Thumblers "
          ],
          [
           17,
           "Jerry Jeudy",
           "Dakcidental  Thumblers "
          ],
          [
           17,
           "Dak Prescott",
           "Dakcidental  Thumblers "
          ],
          [
           8,
           "Rashod Bateman",
           "Dakcidental  Thumblers "
          ],
          [
           17,
           "Tony Pollard",
           "Dakcidental  Thumblers "
          ],
          [
           17,
           "Tyler Lockett",
           "Dakcidental  Thumblers "
          ],
          [
           17,
           "Garrett Wilson",
           "Dakcidental  Thumblers "
          ],
          [
           17,
           "Michael Carter",
           "Dakcidental  Thumblers "
          ],
          [
           5,
           "Hunter Henry",
           "Dakcidental  Thumblers "
          ],
          [
           17,
           "Colts D/ST",
           "Dakcidental  Thumblers "
          ],
          [
           2,
           "Justin Fields",
           "Dakcidental  Thumblers "
          ],
          [
           4,
           "Matt Prater",
           "Dakcidental  Thumblers "
          ],
          [
           17,
           "Nico Collins",
           "Dakcidental  Thumblers "
          ],
          [
           4,
           "Cade York",
           "Dakcidental  Thumblers "
          ],
          [
           9,
           "Trevor Lawrence",
           "Dakcidental  Thumblers "
          ],
          [
           3,
           "Ryan Tannehill",
           "Dakcidental  Thumblers "
          ],
          [
           1,
           "Matthew Wright",
           "Dakcidental  Thumblers "
          ],
          [
           3,
           "Zach Wilson",
           "Dakcidental  Thumblers "
          ],
          [
           9,
           "Robert Tonyan",
           "Dakcidental  Thumblers "
          ],
          [
           3,
           "Chris Boswell",
           "Dakcidental  Thumblers "
          ],
          [
           5,
           "Cairo Santos",
           "Dakcidental  Thumblers "
          ],
          [
           9,
           "Terrace Marshall Jr.",
           "Dakcidental  Thumblers "
          ],
          [
           5,
           "Seahawks D/ST",
           "Dakcidental  Thumblers "
          ],
          [
           1,
           "Packers D/ST",
           "Country Road Take Mahomes "
          ],
          [
           9,
           "Dolphins D/ST",
           "Country Road Take Mahomes "
          ],
          [
           1,
           "Irv Smith Jr.",
           "Country Road Take Mahomes "
          ],
          [
           11,
           "Evan Engram",
           "Country Road Take Mahomes "
          ],
          [
           5,
           "Allen Robinson II",
           "Country Road Take Mahomes "
          ],
          [
           1,
           "Dawson Knox",
           "Country Road Take Mahomes "
          ],
          [
           4,
           "Steelers D/ST",
           "Country Road Take Mahomes "
          ],
          [
           17,
           "D'Andre Swift",
           "Country Road Take Mahomes "
          ],
          [
           17,
           "Stefon Diggs",
           "Country Road Take Mahomes "
          ],
          [
           17,
           "Patrick Mahomes",
           "Country Road Take Mahomes "
          ],
          [
           17,
           "DK Metcalf",
           "Country Road Take Mahomes "
          ],
          [
           17,
           "Kareem Hunt",
           "Country Road Take Mahomes "
          ],
          [
           17,
           "Darren Waller",
           "Country Road Take Mahomes "
          ],
          [
           17,
           "Antonio Gibson",
           "Country Road Take Mahomes "
          ],
          [
           17,
           "DeVonta Smith",
           "Country Road Take Mahomes "
          ],
          [
           16,
           "Evan McPherson",
           "Country Road Take Mahomes "
          ],
          [
           7,
           "Jahan Dotson",
           "Country Road Take Mahomes "
          ],
          [
           17,
           "Brian Robinson Jr.",
           "Country Road Take Mahomes "
          ],
          [
           5,
           "Mac Jones",
           "Country Road Take Mahomes "
          ],
          [
           5,
           "Robbie Anderson",
           "Country Road Take Mahomes "
          ],
          [
           17,
           "Raheem Mostert",
           "Country Road Take Mahomes "
          ],
          [
           3,
           "Hayden Hurst",
           "Country Road Take Mahomes "
          ],
          [
           5,
           "Browns D/ST",
           "Country Road Take Mahomes "
          ],
          [
           12,
           "Rams D/ST",
           "Country Road Take Mahomes "
          ],
          [
           10,
           "Jared Goff",
           "Country Road Take Mahomes "
          ],
          [
           1,
           "Josh Reynolds",
           "Country Road Take Mahomes "
          ],
          [
           2,
           "Jaguars D/ST",
           "Country Road Take Mahomes "
          ],
          [
           1,
           "Ben Skowronek",
           "Country Road Take Mahomes "
          ],
          [
           4,
           "Chuba Hubbard",
           "Country Road Take Mahomes "
          ],
          [
           1,
           "Cameron Dicker",
           "Country Road Take Mahomes "
          ],
          [
           1,
           "Saints D/ST",
           "Country Road Take Mahomes "
          ],
          [
           3,
           "Foster Moreau",
           "Country Road Take Mahomes "
          ],
          [
           1,
           "Juwan Johnson",
           "Country Road Take Mahomes "
          ],
          [
           14,
           "David Njoku",
           "Trash Trash"
          ],
          [
           1,
           "Evan Engram",
           "Trash Trash"
          ],
          [
           1,
           "Rex Burkhead",
           "Trash Trash"
          ],
          [
           5,
           "Taysom Hill",
           "Trash Trash"
          ],
          [
           2,
           "Broncos D/ST",
           "Trash Trash"
          ],
          [
           17,
           "Najee Harris",
           "Trash Trash"
          ],
          [
           17,
           "Saquon Barkley",
           "Trash Trash"
          ],
          [
           17,
           "Tee Higgins",
           "Trash Trash"
          ],
          [
           17,
           "Mike Williams",
           "Trash Trash"
          ],
          [
           14,
           "Elijah Mitchell",
           "Trash Trash"
          ],
          [
           5,
           "Allen Robinson II",
           "Trash Trash"
          ],
          [
           17,
           "Adam Thielen",
           "Trash Trash"
          ],
          [
           17,
           "Aaron Rodgers",
           "Trash Trash"
          ],
          [
           3,
           "Dawson Knox",
           "Trash Trash"
          ],
          [
           10,
           "Chase Claypool",
           "Trash Trash"
          ],
          [
           6,
           "Nyheim Hines",
           "Trash Trash"
          ],
          [
           5,
           "Julio Jones",
           "Trash Trash"
          ],
          [
           16,
           "Jeff Wilson Jr.",
           "Trash Trash"
          ],
          [
           2,
           "Jaylen Warren",
           "Trash Trash"
          ],
          [
           3,
           "Marcus Mariota",
           "Trash Trash"
          ],
          [
           1,
           "Steelers D/ST",
           "Trash Trash"
          ],
          [
           1,
           "Cade York",
           "Trash Trash"
          ],
          [
           1,
           "Mecole Hardman",
           "Trash Trash"
          ],
          [
           1,
           "Buccaneers D/ST",
           "Trash Trash"
          ],
          [
           1,
           "Trevor Lawrence",
           "Trash Trash"
          ],
          [
           1,
           "Ryan Tannehill",
           "Trash Trash"
          ],
          [
           1,
           "Jared Goff",
           "Trash Trash"
          ],
          [
           3,
           "Younghoe Koo",
           "Trash Trash"
          ],
          [
           4,
           "Jaguars D/ST",
           "Trash Trash"
          ],
          [
           13,
           "Latavius Murray",
           "Trash Trash"
          ],
          [
           3,
           "Alec Pierce",
           "Trash Trash"
          ],
          [
           11,
           "Brett Maher",
           "Trash Trash"
          ],
          [
           3,
           "Commanders D/ST",
           "Trash Trash"
          ],
          [
           4,
           "Chuba Hubbard",
           "Trash Trash"
          ],
          [
           2,
           "Andy Dalton",
           "Trash Trash"
          ],
          [
           10,
           "Donovan Peoples-Jones",
           "Trash Trash"
          ],
          [
           4,
           "Jacoby Brissett",
           "Trash Trash"
          ],
          [
           1,
           "Cardinals D/ST",
           "Trash Trash"
          ],
          [
           8,
           "Deshaun Watson",
           "Trash Trash"
          ],
          [
           1,
           "Kenyan Drake",
           "Trash Trash"
          ],
          [
           2,
           "Chiefs D/ST",
           "Trash Trash"
          ],
          [
           7,
           "Cole Kmet",
           "Trash Trash"
          ],
          [
           2,
           "Colin Kaepernick",
           "Trash Trash"
          ],
          [
           1,
           "Seahawks D/ST",
           "Trash Trash"
          ],
          [
           1,
           "Michael Gallup",
           "Trash Trash"
          ],
          [
           2,
           "Zack Moss",
           "Trash Trash"
          ],
          [
           1,
           "Nick Foles",
           "Trash Trash"
          ],
          [
           1,
           "Chargers D/ST",
           "Trash Trash"
          ],
          [
           1,
           "Gardner Minshew",
           "Trash Trash"
          ],
          [
           1,
           "Bengals D/ST",
           "Corduroy Patterson"
          ],
          [
           17,
           "Alvin Kamara",
           "Corduroy Patterson"
          ],
          [
           17,
           "Davante Adams",
           "Corduroy Patterson"
          ],
          [
           17,
           "Breece Hall",
           "Corduroy Patterson"
          ],
          [
           17,
           "Diontae Johnson",
           "Corduroy Patterson"
          ],
          [
           17,
           "Kyler Murray",
           "Corduroy Patterson"
          ],
          [
           17,
           "Cordarrelle Patterson",
           "Corduroy Patterson"
          ],
          [
           17,
           "Rhamondre Stevenson",
           "Corduroy Patterson"
          ],
          [
           14,
           "Dallas Goedert",
           "Corduroy Patterson"
          ],
          [
           7,
           "Robert Woods",
           "Corduroy Patterson"
          ],
          [
           5,
           "DJ Chark",
           "Corduroy Patterson"
          ],
          [
           2,
           "Marquez Valdes-Scantling",
           "Corduroy Patterson"
          ],
          [
           17,
           "49ers D/ST",
           "Corduroy Patterson"
          ],
          [
           17,
           "Kirk Cousins",
           "Corduroy Patterson"
          ],
          [
           1,
           "Evan Engram",
           "Corduroy Patterson"
          ],
          [
           6,
           "Greg Joseph",
           "Corduroy Patterson"
          ],
          [
           1,
           "Damien Williams",
           "Corduroy Patterson"
          ],
          [
           2,
           "Derek Carr",
           "Corduroy Patterson"
          ],
          [
           6,
           "Noah Fant",
           "Corduroy Patterson"
          ],
          [
           4,
           "Cam Akers",
           "Corduroy Patterson"
          ],
          [
           5,
           "Taysom Hill",
           "Corduroy Patterson"
          ],
          [
           2,
           "Mark Ingram II",
           "Corduroy Patterson"
          ],
          [
           6,
           "Darrell Henderson Jr.",
           "Corduroy Patterson"
          ],
          [
           1,
           "Isaiah McKenzie",
           "Corduroy Patterson"
          ],
          [
           1,
           "Dawson Knox",
           "Corduroy Patterson"
          ],
          [
           7,
           "Nyheim Hines",
           "Corduroy Patterson"
          ],
          [
           2,
           "Cade York",
           "Corduroy Patterson"
          ],
          [
           2,
           "Robbie Anderson",
           "Corduroy Patterson"
          ],
          [
           1,
           "Nelson Agholor",
           "Corduroy Patterson"
          ],
          [
           1,
           "Mecole Hardman",
           "Corduroy Patterson"
          ],
          [
           8,
           "Romeo Doubs",
           "Corduroy Patterson"
          ],
          [
           1,
           "Greg Dortch",
           "Corduroy Patterson"
          ],
          [
           13,
           "Zay Jones",
           "Corduroy Patterson"
          ],
          [
           3,
           "Tyler Conklin",
           "Corduroy Patterson"
          ],
          [
           4,
           "Corey Davis",
           "Corduroy Patterson"
          ],
          [
           2,
           "Robert Tonyan",
           "Corduroy Patterson"
          ],
          [
           11,
           "Nick Folk",
           "Corduroy Patterson"
          ],
          [
           10,
           "Parris Campbell",
           "Corduroy Patterson"
          ],
          [
           1,
           "Kenyan Drake",
           "Corduroy Patterson"
          ],
          [
           1,
           "Chiefs D/ST",
           "Corduroy Patterson"
          ],
          [
           2,
           "Bengals D/ST",
           "Deshaunorable Discharge"
          ],
          [
           17,
           "Joe Mixon",
           "Deshaunorable Discharge"
          ],
          [
           17,
           "Leonard Fournette",
           "Deshaunorable Discharge"
          ],
          [
           17,
           "A.J. Brown",
           "Deshaunorable Discharge"
          ],
          [
           17,
           "Jaylen Waddle",
           "Deshaunorable Discharge"
          ],
          [
           17,
           "Damien Harris",
           "Deshaunorable Discharge"
          ],
          [
           17,
           "Gabe Davis",
           "Deshaunorable Discharge"
          ],
          [
           17,
           "Joe Burrow",
           "Deshaunorable Discharge"
          ],
          [
           11,
           "Zach Ertz",
           "Deshaunorable Discharge"
          ],
          [
           5,
           "Elijah Moore",
           "Deshaunorable Discharge"
          ],
          [
           9,
           "James Robinson",
           "Deshaunorable Discharge"
          ],
          [
           16,
           "Daniel Carlson",
           "Deshaunorable Discharge"
          ],
          [
           8,
           "J.D. McKissic",
           "Deshaunorable Discharge"
          ],
          [
           3,
           "Dolphins D/ST",
           "Deshaunorable Discharge"
          ],
          [
           4,
           "Marvin Jones Jr.",
           "Deshaunorable Discharge"
          ],
          [
           1,
           "Irv Smith Jr.",
           "Deshaunorable Discharge"
          ],
          [
           3,
           "Tyler Allgeier",
           "Deshaunorable Discharge"
          ],
          [
           8,
           "Marquez Valdes-Scantling",
           "Deshaunorable Discharge"
          ],
          [
           3,
           "Melvin Gordon III",
           "Deshaunorable Discharge"
          ],
          [
           1,
           "Derek Carr",
           "Deshaunorable Discharge"
          ],
          [
           3,
           "Chase Edmonds",
           "Deshaunorable Discharge"
          ],
          [
           1,
           "Broncos D/ST",
           "Deshaunorable Discharge"
          ],
          [
           7,
           "Dawson Knox",
           "Deshaunorable Discharge"
          ],
          [
           2,
           "Steelers D/ST",
           "Deshaunorable Discharge"
          ],
          [
           7,
           "Mecole Hardman",
           "Deshaunorable Discharge"
          ],
          [
           15,
           "Curtis Samuel",
           "Deshaunorable Discharge"
          ],
          [
           2,
           "Mack Hollins",
           "Deshaunorable Discharge"
          ],
          [
           6,
           "Samaje Perine",
           "Deshaunorable Discharge"
          ],
          [
           6,
           "Jason Myers",
           "Deshaunorable Discharge"
          ],
          [
           3,
           "Commanders D/ST",
           "Deshaunorable Discharge"
          ],
          [
           2,
           "Randall Cobb",
           "Deshaunorable Discharge"
          ],
          [
           8,
           "Kyren Williams",
           "Deshaunorable Discharge"
          ],
          [
           2,
           "Cardinals D/ST",
           "Deshaunorable Discharge"
          ],
          [
           2,
           "Titans D/ST",
           "Deshaunorable Discharge"
          ],
          [
           7,
           "Darius Slayton",
           "Deshaunorable Discharge"
          ],
          [
           5,
           "Zonovan Knight",
           "Deshaunorable Discharge"
          ],
          [
           3,
           "JaMycal Hasty",
           "Deshaunorable Discharge"
          ],
          [
           2,
           "Juwan Johnson",
           "Deshaunorable Discharge"
          ],
          [
           1,
           "Hassan Haskins",
           "Deshaunorable Discharge"
          ],
          [
           1,
           "Chargers D/ST",
           "Deshaunorable Discharge"
          ],
          [
           4,
           "James Robinson",
           "Devon Allen’s Hurdle crew"
          ],
          [
           3,
           "DJ Chark",
           "Devon Allen’s Hurdle crew"
          ],
          [
           3,
           "Marquez Valdes-Scantling",
           "Devon Allen’s Hurdle crew"
          ],
          [
           2,
           "Evan Engram",
           "Devon Allen’s Hurdle crew"
          ],
          [
           17,
           "Derrick Henry",
           "Devon Allen’s Hurdle crew"
          ],
          [
           17,
           "Deebo Samuel",
           "Devon Allen’s Hurdle crew"
          ],
          [
           17,
           "DJ Moore",
           "Devon Allen’s Hurdle crew"
          ],
          [
           17,
           "Josh Jacobs",
           "Devon Allen’s Hurdle crew"
          ],
          [
           17,
           "Jalen Hurts",
           "Devon Allen’s Hurdle crew"
          ],
          [
           17,
           "Chris Godwin",
           "Devon Allen’s Hurdle crew"
          ],
          [
           17,
           "T.J. Hockenson",
           "Devon Allen’s Hurdle crew"
          ],
          [
           9,
           "Melvin Gordon III",
           "Devon Allen’s Hurdle crew"
          ],
          [
           17,
           "Justin Tucker",
           "Devon Allen’s Hurdle crew"
          ],
          [
           17,
           "Chris Olave",
           "Devon Allen’s Hurdle crew"
          ],
          [
           17,
           "Cowboys D/ST",
           "Devon Allen’s Hurdle crew"
          ],
          [
           6,
           "Derek Carr",
           "Devon Allen’s Hurdle crew"
          ],
          [
           13,
           "Rex Burkhead",
           "Devon Allen’s Hurdle crew"
          ],
          [
           4,
           "Noah Fant",
           "Devon Allen’s Hurdle crew"
          ],
          [
           1,
           "Jalen Tolbert",
           "Devon Allen’s Hurdle crew"
          ],
          [
           4,
           "Jake Elliott",
           "Devon Allen’s Hurdle crew"
          ],
          [
           3,
           "Isaiah McKenzie",
           "Devon Allen’s Hurdle crew"
          ],
          [
           2,
           "Sterling Shepard",
           "Devon Allen’s Hurdle crew"
          ],
          [
           8,
           "Marcus Mariota",
           "Devon Allen’s Hurdle crew"
          ],
          [
           2,
           "Browns D/ST",
           "Devon Allen’s Hurdle crew"
          ],
          [
           3,
           "Marlon Mack",
           "Devon Allen’s Hurdle crew"
          ],
          [
           1,
           "Mike Boone",
           "Devon Allen’s Hurdle crew"
          ],
          [
           4,
           "Corey Davis",
           "Devon Allen’s Hurdle crew"
          ],
          [
           11,
           "Will Dissly",
           "Devon Allen’s Hurdle crew"
          ],
          [
           2,
           "Samaje Perine",
           "Devon Allen’s Hurdle crew"
          ],
          [
           2,
           "Marquise Goodwin",
           "Devon Allen’s Hurdle crew"
          ],
          [
           7,
           "Kenyan Drake",
           "Devon Allen’s Hurdle crew"
          ],
          [
           3,
           "Robbie Gould",
           "Devon Allen’s Hurdle crew"
          ],
          [
           1,
           "Saints D/ST",
           "Devon Allen’s Hurdle crew"
          ],
          [
           1,
           "JaMycal Hasty",
           "Devon Allen’s Hurdle crew"
          ],
          [
           1,
           "Mark Ingram II",
           "Dessert Desperadoes"
          ],
          [
           2,
           "Broncos D/ST",
           "Dessert Desperadoes"
          ],
          [
           9,
           "Hayden Hurst",
           "Dessert Desperadoes"
          ],
          [
           17,
           "Austin Ekeler",
           "Dessert Desperadoes"
          ],
          [
           17,
           "Ezekiel Elliott",
           "Dessert Desperadoes"
          ],
          [
           17,
           "Michael Pittman Jr.",
           "Dessert Desperadoes"
          ],
          [
           17,
           "Justin Herbert",
           "Dessert Desperadoes"
          ],
          [
           17,
           "Amon-Ra St. Brown",
           "Dessert Desperadoes"
          ],
          [
           17,
           "Bills D/ST",
           "Dessert Desperadoes"
          ],
          [
           17,
           "AJ Dillon",
           "Dessert Desperadoes"
          ],
          [
           17,
           "Christian Kirk",
           "Dessert Desperadoes"
          ],
          [
           17,
           "Pat Freiermuth",
           "Dessert Desperadoes"
          ],
          [
           17,
           "Jakobi Meyers",
           "Dessert Desperadoes"
          ],
          [
           3,
           "Kenny Golladay",
           "Dessert Desperadoes"
          ],
          [
           17,
           "D'Onta Foreman",
           "Dessert Desperadoes"
          ],
          [
           16,
           "Rachaad White",
           "Dessert Desperadoes"
          ],
          [
           1,
           "Jimmy Garoppolo",
           "Dessert Desperadoes"
          ],
          [
           15,
           "Graham Gano",
           "Dessert Desperadoes"
          ],
          [
           3,
           "Marlon Mack",
           "Dessert Desperadoes"
          ],
          [
           14,
           "Geno Smith",
           "Dessert Desperadoes"
          ],
          [
           1,
           "Bears D/ST",
           "Dessert Desperadoes"
          ],
          [
           10,
           "Younghoe Koo",
           "Dessert Desperadoes"
          ],
          [
           2,
           "Nick Folk",
           "Dessert Desperadoes"
          ],
          [
           2,
           "Kadarius Toney",
           "Dessert Desperadoes"
          ],
          [
           1,
           "Saints D/ST",
           "Dessert Desperadoes"
          ],
          [
           1,
           "James Cook",
           "Dessert Desperadoes"
          ],
          [
           2,
           "Michael Gallup",
           "Dessert Desperadoes"
          ],
          [
           3,
           "Chigoziem Okonkwo",
           "Dessert Desperadoes"
          ],
          [
           17,
           "Cooper Kupp",
           "Sunday Funday"
          ],
          [
           17,
           "CeeDee Lamb",
           "Sunday Funday"
          ],
          [
           17,
           "Javonte Williams",
           "Sunday Funday"
          ],
          [
           17,
           "Kyle Pitts",
           "Sunday Funday"
          ],
          [
           17,
           "Clyde Edwards-Helaire",
           "Sunday Funday"
          ],
          [
           17,
           "Tom Brady",
           "Sunday Funday"
          ],
          [
           17,
           "JuJu Smith-Schuster",
           "Sunday Funday"
          ],
          [
           9,
           "Hunter Renfrow",
           "Sunday Funday"
          ],
          [
           17,
           "Patriots D/ST",
           "Sunday Funday"
          ],
          [
           12,
           "Matt Gay",
           "Sunday Funday"
          ],
          [
           17,
           "Kenneth Walker III",
           "Sunday Funday"
          ],
          [
           10,
           "Russell Gage",
           "Sunday Funday"
          ],
          [
           17,
           "Mike Gesicki",
           "Sunday Funday"
          ],
          [
           17,
           "Jerick McKinnon",
           "Sunday Funday"
          ],
          [
           17,
           "Joshua Palmer",
           "Sunday Funday"
          ],
          [
           5,
           "Carson Wentz",
           "Sunday Funday"
          ],
          [
           5,
           "Tyler Conklin",
           "Sunday Funday"
          ],
          [
           1,
           "Matt Ryan",
           "Sunday Funday"
          ],
          [
           11,
           "Ka'imi Fairbairn",
           "Sunday Funday"
          ],
          [
           10,
           "Keaontay Ingram",
           "Sunday Funday"
          ],
          [
           3,
           "Raiders D/ST",
           "Sunday Funday"
          ],
          [
           3,
           "Colt McCoy",
           "Sunday Funday"
          ],
          [
           17,
           "Jonathan Taylor",
           "JTT 4EVR"
          ],
          [
           17,
           "Tyreek Hill",
           "JTT 4EVR"
          ],
          [
           17,
           "Mike Evans",
           "JTT 4EVR"
          ],
          [
           17,
           "J.K. Dobbins",
           "JTT 4EVR"
          ],
          [
           17,
           "Lamar Jackson",
           "JTT 4EVR"
          ],
          [
           17,
           "Dalton Schultz",
           "JTT 4EVR"
          ],
          [
           17,
           "Marquise Brown",
           "JTT 4EVR"
          ],
          [
           13,
           "Buccaneers D/ST",
           "JTT 4EVR"
          ],
          [
           17,
           "Dameon Pierce",
           "JTT 4EVR"
          ],
          [
           17,
           "Tyler Boyd",
           "JTT 4EVR"
          ],
          [
           17,
           "Jarvis Landry",
           "JTT 4EVR"
          ],
          [
           17,
           "Tyler Bass",
           "JTT 4EVR"
          ],
          [
           17,
           "Jamaal Williams",
           "JTT 4EVR"
          ],
          [
           4,
           "Trevor Lawrence",
           "JTT 4EVR"
          ],
          [
           17,
           "Tyler Higbee",
           "JTT 4EVR"
          ],
          [
           17,
           "Rondale Moore",
           "JTT 4EVR"
          ],
          [
           12,
           "Deon Jackson",
           "JTT 4EVR"
          ],
          [
           7,
           "Jets D/ST",
           "JTT 4EVR"
          ],
          [
           1,
           "Andy Dalton",
           "JTT 4EVR"
          ],
          [
           3,
           "Chris Boswell",
           "JTT 4EVR"
          ],
          [
           4,
           "Tyler Huntley",
           "JTT 4EVR"
          ]
         ],
         "hovertemplate": "Average Projected Points=%{x}<br>Average Scored Points=%{y}<br>Length of Ownership=%{customdata[0]}<br>Player=%{customdata[1]}<br>Team=%{customdata[2]}<br>Residual=%{marker.color}<extra></extra>",
         "legendgroup": "",
         "marker": {
          "color": [
           -3.68,
           4.46,
           -0.61,
           -2.1,
           0.14,
           2.69,
           -4.08,
           -3.87,
           4.24,
           -7.96,
           -2.43,
           -0.78,
           0.89,
           2.65,
           -2.64,
           0.35,
           2.97,
           1.62,
           -3.89,
           4.36,
           -4.83,
           -4.86,
           0.3,
           0.53,
           -4.84,
           -4.48,
           1.13,
           -0.88,
           -7.3,
           -9.02,
           -2.4,
           -5.86,
           -5.11,
           5.92,
           2.37,
           3.59,
           3.72,
           -0.68,
           -0.98,
           -2.56,
           -6.19,
           -15.48,
           1.2,
           2.4,
           -1.49,
           -4.09,
           -0.2,
           -0.25,
           -1.83,
           2.13,
           -9.01,
           -2.66,
           12.38,
           3.07,
           0.48,
           0.46,
           3.6,
           -0.85,
           4.22,
           -0.62,
           -3.58,
           4.75,
           -2.96,
           7.45,
           -6.23,
           -3.78,
           4.42,
           -4.43,
           -1.1,
           -1.54,
           -1.1,
           2.01,
           1.01,
           3.96,
           4.45,
           -3.16,
           0.04,
           -2.11,
           0.68,
           1.98,
           -0.43,
           -6.26,
           -1.25,
           0.34,
           -2.04,
           -3.19,
           -0.43,
           1.05,
           -1.82,
           -1.17,
           -6.88,
           -0.93,
           -8.95,
           1.18,
           2.9,
           3.58,
           -0.87,
           0.6,
           -1.9,
           -5.83,
           -2.31,
           2.49,
           -4.89,
           1.62,
           0,
           0.87,
           -4.59,
           1.23,
           -0.16,
           -7.26,
           0.33,
           -2.91,
           -5.35,
           -2.65,
           0.39,
           -0.59,
           -4.2,
           1.73,
           -1.73,
           -0.84,
           -2.42,
           -3.44,
           -0.36,
           13.14,
           -3.37,
           0.59,
           -0.1,
           -3.23,
           -1.93,
           -0.87,
           -2.27,
           -0.96,
           0.99,
           -1.78,
           -1.68,
           1.22,
           -3.3,
           2.97,
           2.97,
           0.81,
           0.2,
           4.88,
           1.59,
           0.49,
           3.64,
           -0.57,
           -2.07,
           -3.14,
           0.87,
           -0.23,
           6.69,
           -1.19,
           1.97,
           -0.33,
           -0.68,
           -7.73,
           -0.68,
           -1.34,
           -2.84,
           -0.34,
           0.41,
           3.6,
           -6.54,
           10.19,
           -1.12,
           4.75,
           -2.36,
           -4.4,
           3.12,
           -2.05,
           6.25,
           -6.51,
           -1.29,
           -12.02,
           -0.71,
           -1.09,
           -1.28,
           0.6,
           0,
           0.2,
           -2.75,
           -1.5,
           1.4,
           0.94,
           -1.96,
           0,
           -0.37,
           -4.86,
           1.19,
           -1.68,
           4.53,
           -10.05,
           -4,
           -2.11,
           -0.72,
           10.23,
           1.5,
           -1.21,
           1.09,
           2.57,
           1.21,
           0.39,
           -1.12,
           -3.75,
           1.08,
           0.52,
           3.86,
           -2.55,
           0,
           -0.69,
           0.92,
           0,
           11.67,
           -4.43,
           -3.9,
           -13.4,
           3.9,
           -4.3,
           4.77,
           -2.62,
           3.75,
           4.22,
           -1.62,
           -1.65,
           2.17,
           2.93,
           0.7,
           -3.24,
           1.01,
           0.91,
           2.9,
           2.14,
           -1.43,
           -2.32,
           -8.41,
           0.12,
           0.52,
           -5.5,
           -1.29,
           0.51,
           -0.71,
           0.85,
           6.96,
           -1.94,
           2.01,
           -7.63,
           -6.91,
           0,
           0.83,
           -8.95,
           -2.92,
           -1.03,
           -2.45,
           -5.75,
           3.69,
           3.38,
           2.96,
           1.23,
           -4.58,
           1.76,
           -1.27,
           0.65,
           -1.42,
           -1.35,
           -3.47,
           1.77,
           1.15,
           -5.51,
           -2.11,
           1.84,
           -3.04,
           6.8,
           -6.61,
           -9.02,
           1.18,
           -1.1,
           -5.63,
           1.34,
           -5.69,
           -12.02,
           4.27,
           -1.07,
           -1.44,
           0.09,
           -3.2,
           -1.22,
           2.84,
           0.3,
           0,
           -2.12,
           1.38,
           0.87,
           -1.54,
           -3.03,
           -1.19,
           -1.12,
           -2.62,
           3.9,
           2.82,
           0.84,
           -3,
           1.78,
           -1.25,
           -2.24,
           -1.73,
           1.92,
           2.25,
           -0.12,
           0.39,
           -2.86,
           0.38,
           -0.65,
           3.95,
           -1.36,
           -1.36,
           -0.04,
           -4.59,
           -1.35,
           -4.25,
           -0.69,
           0.27,
           -2.12,
           -2.2,
           3.58,
           -2.45,
           -2.03,
           -4.83,
           2.62,
           1.27,
           2.26,
           -2.36,
           -1.19,
           -5.04,
           -8.51,
           -0.25,
           5.13,
           1.78,
           -1.92,
           -2.06,
           -3.3,
           0.84,
           -0.84,
           -0.91,
           -0.1,
           -0.68,
           -5.95,
           -2.35,
           1.28,
           -1.96,
           0.09,
           -2.2,
           -0.3,
           -1.15,
           -2.12,
           6.96,
           -5.77,
           0.25,
           -2.94,
           -4.43,
           -1.03,
           1.42,
           1.37,
           -1.42,
           -2.22,
           -0.3,
           -2.07,
           0.58,
           -1.18,
           5.5,
           0.22,
           2.75,
           2.59,
           -1.57,
           2.26,
           2.39,
           -1.16,
           -2.06,
           -5.83,
           -0.35,
           -2.99,
           1.35,
           -4.79,
           -7.38,
           2.14,
           0.85,
           -0.14,
           -1.94,
           -1.29,
           1.83,
           -1.31,
           2.29,
           4.29,
           -3.79,
           0.19,
           5.1,
           -1.2,
           -1.28,
           1.53,
           4.74,
           -2.71,
           -8.48,
           0.99,
           -11.33
          ],
          "coloraxis": "coloraxis",
          "symbol": "circle"
         },
         "mode": "markers",
         "name": "",
         "orientation": "v",
         "showlegend": false,
         "type": "scatter",
         "x": [
          15.19,
          17.28,
          12.29,
          9.37,
          10.32,
          11.35,
          11.92,
          11.59,
          5.47,
          17.21,
          3.43,
          6.84,
          4.69,
          4.69,
          14.41,
          6.16,
          7.73,
          7.4,
          9.99,
          13.64,
          7.55,
          4.36,
          5.03,
          3.72,
          7.54,
          14.8,
          7.11,
          3.96,
          10.6,
          9.02,
          2.46,
          16.56,
          9.11,
          9.12,
          16,
          13.51,
          14.27,
          11.57,
          10.7,
          10.32,
          8.16,
          17.98,
          9.88,
          8.58,
          7.19,
          6.89,
          6.53,
          7.25,
          8.76,
          3.37,
          11.91,
          4.86,
          8.92,
          15.29,
          2.59,
          5.74,
          11.6,
          6.85,
          7.78,
          10.02,
          3.58,
          7.25,
          8.55,
          7.58,
          8.73,
          15.2,
          8.78,
          10.43,
          16.52,
          13.2,
          7.29,
          21.22,
          6.91,
          6.34,
          11.37,
          10.86,
          10.05,
          5.91,
          8.4,
          8.02,
          3.91,
          7.96,
          15.9,
          0.31,
          6.04,
          8.19,
          6.84,
          7.62,
          5.42,
          8.29,
          6.88,
          14.82,
          10.55,
          8.86,
          2.75,
          7.92,
          7.87,
          6.8,
          5.9,
          15.75,
          2.95,
          5.51,
          6.69,
          5.38,
          0,
          5.13,
          7.74,
          6.77,
          5.66,
          10.1,
          14.19,
          12.7,
          6.04,
          12.21,
          12.34,
          12.67,
          8.86,
          11.21,
          13.39,
          10.49,
          8.63,
          7.16,
          5.48,
          15.04,
          7.87,
          4.88,
          7.6,
          17.2,
          15.08,
          7.87,
          14.7,
          6.94,
          5.34,
          8.18,
          6.02,
          5.18,
          6.3,
          5.03,
          7.73,
          8.95,
          8.44,
          7.92,
          5.66,
          12.15,
          18.34,
          19.73,
          14.75,
          9.5,
          5.8,
          10.34,
          12.48,
          7.94,
          6.56,
          6.94,
          14.66,
          10.37,
          10.17,
          7.97,
          6.84,
          6.17,
          12.94,
          11.6,
          7.54,
          6.51,
          6.96,
          7.25,
          6.36,
          8.6,
          8.08,
          5.4,
          6.65,
          7.71,
          6.82,
          8.02,
          13.15,
          20.05,
          12.97,
          9.16,
          0,
          8.44,
          11.55,
          16.3,
          8.53,
          9.93,
          6.48,
          0,
          9.27,
          6.76,
          15.65,
          6.68,
          7.47,
          11.25,
          3,
          18.47,
          15.1,
          15.47,
          5.17,
          6.96,
          8.68,
          8.4,
          7.6,
          4.94,
          6.96,
          15.86,
          9.48,
          7.72,
          6.14,
          12.4,
          0,
          7.19,
          9.04,
          0,
          4.33,
          10.43,
          11.6,
          13.12,
          6.1,
          17.26,
          6.23,
          18.14,
          16.72,
          7.5,
          13.18,
          15.15,
          6.82,
          11.97,
          10.21,
          9.67,
          8.11,
          10.19,
          6.51,
          16.3,
          8.23,
          8.15,
          8.61,
          8.85,
          7.46,
          6.38,
          6.82,
          4.64,
          7.06,
          8.55,
          7.14,
          6.92,
          7.49,
          10.93,
          11.01,
          0,
          8.15,
          10.55,
          10.55,
          8.16,
          7.5,
          7.65,
          4.77,
          10.14,
          3.64,
          6.77,
          7.58,
          15.65,
          11.03,
          14.18,
          13.36,
          6.3,
          10.84,
          19.66,
          8.83,
          11.17,
          8.77,
          8.28,
          9.29,
          5.87,
          10.51,
          9.02,
          4.32,
          9.68,
          11.76,
          17.64,
          7.42,
          8.02,
          8.31,
          6.07,
          1.61,
          9.1,
          10.46,
          8.04,
          7.83,
          5.37,
          0,
          6.19,
          5.62,
          5.13,
          10.34,
          11.51,
          2.89,
          7.68,
          9.92,
          6.1,
          5.74,
          6.76,
          9.83,
          8.17,
          15.6,
          14.46,
          11.87,
          14.24,
          23.07,
          11.58,
          10.03,
          9.5,
          7.27,
          10.59,
          6.05,
          13.99,
          7.45,
          7.32,
          4.59,
          7.85,
          10.25,
          10.09,
          15.72,
          7.12,
          2.2,
          7.92,
          7.5,
          5.78,
          6.63,
          4.68,
          1.56,
          7.74,
          6.36,
          2.49,
          11.14,
          7.51,
          6.54,
          19.8,
          11.46,
          12.55,
          19.39,
          15.12,
          4.51,
          8.69,
          12.23,
          9.79,
          7.52,
          5.95,
          8.99,
          7.6,
          15.24,
          6.91,
          2.2,
          15.83,
          6.15,
          7.02,
          3.54,
          7.37,
          3.75,
          6.74,
          10.43,
          6.83,
          7.41,
          13.74,
          3.6,
          6.16,
          5.44,
          14.93,
          11.08,
          7.95,
          6.03,
          6.11,
          9.42,
          8.74,
          5.21,
          8.6,
          9.56,
          17.46,
          8.24,
          15.75,
          6.89,
          3.55,
          5.32,
          9.67,
          15.45,
          20.19,
          12.05,
          7.02,
          16.76,
          5.94,
          9.55,
          5.16,
          10.04,
          7.28,
          6.55,
          7.75,
          9.04,
          16.74,
          10.52,
          5.96,
          4.05,
          5.85,
          15.54,
          5.34,
          16.35
         ],
         "xaxis": "x",
         "y": [
          11.51,
          21.75,
          11.68,
          7.27,
          10.46,
          14.04,
          7.84,
          7.72,
          9.71,
          9.25,
          1,
          6.06,
          5.58,
          7.35,
          11.77,
          6.51,
          10.7,
          9.02,
          6.1,
          18.01,
          2.72,
          -0.5,
          5.33,
          4.25,
          2.7,
          10.32,
          8.24,
          3.08,
          3.3,
          0,
          0.06,
          10.71,
          4,
          15.04,
          18.37,
          17.09,
          17.99,
          10.88,
          9.72,
          7.75,
          1.97,
          2.5,
          11.08,
          10.98,
          5.7,
          2.8,
          6.33,
          7,
          6.92,
          5.5,
          2.9,
          2.2,
          21.3,
          18.36,
          3.07,
          6.2,
          15.2,
          6,
          12,
          9.4,
          0,
          12,
          5.59,
          15.03,
          2.5,
          11.42,
          13.2,
          6,
          15.42,
          11.66,
          6.19,
          23.23,
          7.92,
          10.3,
          15.82,
          7.71,
          10.08,
          3.8,
          9.08,
          10,
          3.48,
          1.7,
          14.65,
          0.65,
          4,
          5,
          6.41,
          8.67,
          3.6,
          7.11,
          0,
          13.9,
          1.6,
          10.04,
          5.65,
          11.5,
          7,
          7.4,
          4,
          9.92,
          0.64,
          8,
          1.8,
          7,
          0,
          6,
          3.15,
          8,
          5.5,
          2.83,
          14.51,
          9.79,
          0.69,
          9.56,
          12.73,
          12.08,
          4.65,
          12.94,
          11.66,
          9.65,
          6.21,
          3.72,
          5.12,
          28.18,
          4.5,
          5.47,
          7.5,
          13.98,
          13.15,
          7,
          12.43,
          5.98,
          6.33,
          6.4,
          4.34,
          6.4,
          3,
          8,
          10.7,
          9.76,
          8.64,
          12.8,
          7.25,
          12.64,
          21.98,
          19.16,
          12.68,
          6.35,
          6.67,
          10.11,
          19.18,
          6.75,
          8.53,
          6.61,
          13.98,
          2.64,
          9.49,
          6.63,
          4,
          5.83,
          13.35,
          15.2,
          1,
          16.7,
          5.85,
          12,
          4,
          4.2,
          11.2,
          3.34,
          12.9,
          1.2,
          5.53,
          -4,
          12.44,
          18.96,
          11.68,
          9.75,
          0,
          8.64,
          8.8,
          14.8,
          9.93,
          10.87,
          4.52,
          0,
          8.91,
          1.9,
          16.85,
          5,
          12,
          1.2,
          -1,
          16.36,
          14.38,
          25.7,
          6.67,
          5.75,
          9.77,
          10.97,
          8.82,
          5.33,
          5.85,
          12.11,
          10.56,
          8.24,
          10,
          9.86,
          0,
          6.5,
          9.96,
          0,
          16,
          6,
          7.7,
          -0.28,
          10,
          12.96,
          11,
          15.51,
          20.48,
          11.72,
          11.56,
          13.5,
          8.98,
          14.9,
          10.91,
          6.43,
          9.12,
          11.1,
          9.41,
          18.44,
          6.8,
          5.83,
          0.2,
          8.97,
          7.98,
          0.88,
          5.53,
          5.15,
          6.35,
          9.4,
          14.1,
          4.97,
          9.5,
          3.3,
          4.1,
          0,
          8.98,
          1.6,
          7.63,
          7.13,
          5.05,
          1.9,
          8.45,
          13.52,
          6.6,
          8,
          3,
          17.41,
          9.76,
          14.83,
          11.94,
          4.95,
          7.37,
          21.42,
          9.98,
          5.66,
          6.66,
          10.12,
          6.25,
          12.67,
          3.9,
          0,
          5.5,
          8.57,
          6.13,
          18.98,
          1.73,
          -4,
          12.59,
          5,
          0.17,
          9.19,
          7.25,
          6.82,
          10.67,
          5.67,
          0,
          4.08,
          7,
          6,
          8.8,
          8.48,
          1.7,
          6.55,
          7.3,
          10,
          8.55,
          7.6,
          6.83,
          9.95,
          14.35,
          12.22,
          10.14,
          16.16,
          25.32,
          11.45,
          10.42,
          6.64,
          7.65,
          9.94,
          10,
          12.63,
          6.08,
          7.27,
          0,
          6.5,
          6,
          9.4,
          16,
          5,
          0,
          11.5,
          5.05,
          3.75,
          1.8,
          7.3,
          2.83,
          10,
          4,
          1.3,
          6.1,
          -1,
          6.29,
          24.93,
          13.24,
          10.64,
          17.33,
          11.82,
          5.35,
          7.85,
          11.32,
          9.68,
          6.84,
          0,
          6.64,
          8.87,
          13.28,
          7,
          0,
          15.54,
          5,
          4.9,
          10.5,
          1.6,
          4,
          3.8,
          6,
          5.8,
          8.82,
          15.11,
          2.18,
          3.94,
          5.14,
          12.87,
          11.65,
          6.77,
          11.53,
          6.33,
          12.16,
          11.33,
          3.65,
          10.86,
          11.95,
          16.3,
          6.18,
          9.92,
          6.55,
          0.56,
          6.67,
          4.88,
          8.07,
          22.32,
          12.9,
          6.88,
          14.83,
          4.66,
          11.39,
          3.85,
          12.33,
          11.57,
          2.76,
          7.94,
          14.14,
          15.54,
          9.24,
          7.49,
          8.79,
          3.14,
          7.06,
          6.33,
          5.02
         ],
         "yaxis": "y"
        }
       ],
       "layout": {
        "coloraxis": {
         "colorbar": {
          "title": {
           "text": "Residual"
          }
         },
         "colorscale": [
          [
           0,
           "#0d0887"
          ],
          [
           0.1111111111111111,
           "#46039f"
          ],
          [
           0.2222222222222222,
           "#7201a8"
          ],
          [
           0.3333333333333333,
           "#9c179e"
          ],
          [
           0.4444444444444444,
           "#bd3786"
          ],
          [
           0.5555555555555556,
           "#d8576b"
          ],
          [
           0.6666666666666666,
           "#ed7953"
          ],
          [
           0.7777777777777778,
           "#fb9f3a"
          ],
          [
           0.8888888888888888,
           "#fdca26"
          ],
          [
           1,
           "#f0f921"
          ]
         ]
        },
        "legend": {
         "tracegroupgap": 0
        },
        "shapes": [
         {
          "line": {
           "color": "Red",
           "dash": "dash"
          },
          "type": "line",
          "x0": 0,
          "x1": 1,
          "xref": "x domain",
          "y0": 8.304838709677423,
          "y1": 8.304838709677423,
          "yref": "y"
         },
         {
          "line": {
           "color": "Red",
           "dash": "dash"
          },
          "type": "line",
          "x0": 9.04119106699752,
          "x1": 9.04119106699752,
          "xref": "x",
          "y0": 0,
          "y1": 1,
          "yref": "y domain"
         }
        ],
        "template": {
         "data": {
          "bar": [
           {
            "error_x": {
             "color": "#2a3f5f"
            },
            "error_y": {
             "color": "#2a3f5f"
            },
            "marker": {
             "line": {
              "color": "#E5ECF6",
              "width": 0.5
             },
             "pattern": {
              "fillmode": "overlay",
              "size": 10,
              "solidity": 0.2
             }
            },
            "type": "bar"
           }
          ],
          "barpolar": [
           {
            "marker": {
             "line": {
              "color": "#E5ECF6",
              "width": 0.5
             },
             "pattern": {
              "fillmode": "overlay",
              "size": 10,
              "solidity": 0.2
             }
            },
            "type": "barpolar"
           }
          ],
          "carpet": [
           {
            "aaxis": {
             "endlinecolor": "#2a3f5f",
             "gridcolor": "white",
             "linecolor": "white",
             "minorgridcolor": "white",
             "startlinecolor": "#2a3f5f"
            },
            "baxis": {
             "endlinecolor": "#2a3f5f",
             "gridcolor": "white",
             "linecolor": "white",
             "minorgridcolor": "white",
             "startlinecolor": "#2a3f5f"
            },
            "type": "carpet"
           }
          ],
          "choropleth": [
           {
            "colorbar": {
             "outlinewidth": 0,
             "ticks": ""
            },
            "type": "choropleth"
           }
          ],
          "contour": [
           {
            "colorbar": {
             "outlinewidth": 0,
             "ticks": ""
            },
            "colorscale": [
             [
              0,
              "#0d0887"
             ],
             [
              0.1111111111111111,
              "#46039f"
             ],
             [
              0.2222222222222222,
              "#7201a8"
             ],
             [
              0.3333333333333333,
              "#9c179e"
             ],
             [
              0.4444444444444444,
              "#bd3786"
             ],
             [
              0.5555555555555556,
              "#d8576b"
             ],
             [
              0.6666666666666666,
              "#ed7953"
             ],
             [
              0.7777777777777778,
              "#fb9f3a"
             ],
             [
              0.8888888888888888,
              "#fdca26"
             ],
             [
              1,
              "#f0f921"
             ]
            ],
            "type": "contour"
           }
          ],
          "contourcarpet": [
           {
            "colorbar": {
             "outlinewidth": 0,
             "ticks": ""
            },
            "type": "contourcarpet"
           }
          ],
          "heatmap": [
           {
            "colorbar": {
             "outlinewidth": 0,
             "ticks": ""
            },
            "colorscale": [
             [
              0,
              "#0d0887"
             ],
             [
              0.1111111111111111,
              "#46039f"
             ],
             [
              0.2222222222222222,
              "#7201a8"
             ],
             [
              0.3333333333333333,
              "#9c179e"
             ],
             [
              0.4444444444444444,
              "#bd3786"
             ],
             [
              0.5555555555555556,
              "#d8576b"
             ],
             [
              0.6666666666666666,
              "#ed7953"
             ],
             [
              0.7777777777777778,
              "#fb9f3a"
             ],
             [
              0.8888888888888888,
              "#fdca26"
             ],
             [
              1,
              "#f0f921"
             ]
            ],
            "type": "heatmap"
           }
          ],
          "heatmapgl": [
           {
            "colorbar": {
             "outlinewidth": 0,
             "ticks": ""
            },
            "colorscale": [
             [
              0,
              "#0d0887"
             ],
             [
              0.1111111111111111,
              "#46039f"
             ],
             [
              0.2222222222222222,
              "#7201a8"
             ],
             [
              0.3333333333333333,
              "#9c179e"
             ],
             [
              0.4444444444444444,
              "#bd3786"
             ],
             [
              0.5555555555555556,
              "#d8576b"
             ],
             [
              0.6666666666666666,
              "#ed7953"
             ],
             [
              0.7777777777777778,
              "#fb9f3a"
             ],
             [
              0.8888888888888888,
              "#fdca26"
             ],
             [
              1,
              "#f0f921"
             ]
            ],
            "type": "heatmapgl"
           }
          ],
          "histogram": [
           {
            "marker": {
             "pattern": {
              "fillmode": "overlay",
              "size": 10,
              "solidity": 0.2
             }
            },
            "type": "histogram"
           }
          ],
          "histogram2d": [
           {
            "colorbar": {
             "outlinewidth": 0,
             "ticks": ""
            },
            "colorscale": [
             [
              0,
              "#0d0887"
             ],
             [
              0.1111111111111111,
              "#46039f"
             ],
             [
              0.2222222222222222,
              "#7201a8"
             ],
             [
              0.3333333333333333,
              "#9c179e"
             ],
             [
              0.4444444444444444,
              "#bd3786"
             ],
             [
              0.5555555555555556,
              "#d8576b"
             ],
             [
              0.6666666666666666,
              "#ed7953"
             ],
             [
              0.7777777777777778,
              "#fb9f3a"
             ],
             [
              0.8888888888888888,
              "#fdca26"
             ],
             [
              1,
              "#f0f921"
             ]
            ],
            "type": "histogram2d"
           }
          ],
          "histogram2dcontour": [
           {
            "colorbar": {
             "outlinewidth": 0,
             "ticks": ""
            },
            "colorscale": [
             [
              0,
              "#0d0887"
             ],
             [
              0.1111111111111111,
              "#46039f"
             ],
             [
              0.2222222222222222,
              "#7201a8"
             ],
             [
              0.3333333333333333,
              "#9c179e"
             ],
             [
              0.4444444444444444,
              "#bd3786"
             ],
             [
              0.5555555555555556,
              "#d8576b"
             ],
             [
              0.6666666666666666,
              "#ed7953"
             ],
             [
              0.7777777777777778,
              "#fb9f3a"
             ],
             [
              0.8888888888888888,
              "#fdca26"
             ],
             [
              1,
              "#f0f921"
             ]
            ],
            "type": "histogram2dcontour"
           }
          ],
          "mesh3d": [
           {
            "colorbar": {
             "outlinewidth": 0,
             "ticks": ""
            },
            "type": "mesh3d"
           }
          ],
          "parcoords": [
           {
            "line": {
             "colorbar": {
              "outlinewidth": 0,
              "ticks": ""
             }
            },
            "type": "parcoords"
           }
          ],
          "pie": [
           {
            "automargin": true,
            "type": "pie"
           }
          ],
          "scatter": [
           {
            "marker": {
             "colorbar": {
              "outlinewidth": 0,
              "ticks": ""
             }
            },
            "type": "scatter"
           }
          ],
          "scatter3d": [
           {
            "line": {
             "colorbar": {
              "outlinewidth": 0,
              "ticks": ""
             }
            },
            "marker": {
             "colorbar": {
              "outlinewidth": 0,
              "ticks": ""
             }
            },
            "type": "scatter3d"
           }
          ],
          "scattercarpet": [
           {
            "marker": {
             "colorbar": {
              "outlinewidth": 0,
              "ticks": ""
             }
            },
            "type": "scattercarpet"
           }
          ],
          "scattergeo": [
           {
            "marker": {
             "colorbar": {
              "outlinewidth": 0,
              "ticks": ""
             }
            },
            "type": "scattergeo"
           }
          ],
          "scattergl": [
           {
            "marker": {
             "colorbar": {
              "outlinewidth": 0,
              "ticks": ""
             }
            },
            "type": "scattergl"
           }
          ],
          "scattermapbox": [
           {
            "marker": {
             "colorbar": {
              "outlinewidth": 0,
              "ticks": ""
             }
            },
            "type": "scattermapbox"
           }
          ],
          "scatterpolar": [
           {
            "marker": {
             "colorbar": {
              "outlinewidth": 0,
              "ticks": ""
             }
            },
            "type": "scatterpolar"
           }
          ],
          "scatterpolargl": [
           {
            "marker": {
             "colorbar": {
              "outlinewidth": 0,
              "ticks": ""
             }
            },
            "type": "scatterpolargl"
           }
          ],
          "scatterternary": [
           {
            "marker": {
             "colorbar": {
              "outlinewidth": 0,
              "ticks": ""
             }
            },
            "type": "scatterternary"
           }
          ],
          "surface": [
           {
            "colorbar": {
             "outlinewidth": 0,
             "ticks": ""
            },
            "colorscale": [
             [
              0,
              "#0d0887"
             ],
             [
              0.1111111111111111,
              "#46039f"
             ],
             [
              0.2222222222222222,
              "#7201a8"
             ],
             [
              0.3333333333333333,
              "#9c179e"
             ],
             [
              0.4444444444444444,
              "#bd3786"
             ],
             [
              0.5555555555555556,
              "#d8576b"
             ],
             [
              0.6666666666666666,
              "#ed7953"
             ],
             [
              0.7777777777777778,
              "#fb9f3a"
             ],
             [
              0.8888888888888888,
              "#fdca26"
             ],
             [
              1,
              "#f0f921"
             ]
            ],
            "type": "surface"
           }
          ],
          "table": [
           {
            "cells": {
             "fill": {
              "color": "#EBF0F8"
             },
             "line": {
              "color": "white"
             }
            },
            "header": {
             "fill": {
              "color": "#C8D4E3"
             },
             "line": {
              "color": "white"
             }
            },
            "type": "table"
           }
          ]
         },
         "layout": {
          "annotationdefaults": {
           "arrowcolor": "#2a3f5f",
           "arrowhead": 0,
           "arrowwidth": 1
          },
          "autotypenumbers": "strict",
          "coloraxis": {
           "colorbar": {
            "outlinewidth": 0,
            "ticks": ""
           }
          },
          "colorscale": {
           "diverging": [
            [
             0,
             "#8e0152"
            ],
            [
             0.1,
             "#c51b7d"
            ],
            [
             0.2,
             "#de77ae"
            ],
            [
             0.3,
             "#f1b6da"
            ],
            [
             0.4,
             "#fde0ef"
            ],
            [
             0.5,
             "#f7f7f7"
            ],
            [
             0.6,
             "#e6f5d0"
            ],
            [
             0.7,
             "#b8e186"
            ],
            [
             0.8,
             "#7fbc41"
            ],
            [
             0.9,
             "#4d9221"
            ],
            [
             1,
             "#276419"
            ]
           ],
           "sequential": [
            [
             0,
             "#0d0887"
            ],
            [
             0.1111111111111111,
             "#46039f"
            ],
            [
             0.2222222222222222,
             "#7201a8"
            ],
            [
             0.3333333333333333,
             "#9c179e"
            ],
            [
             0.4444444444444444,
             "#bd3786"
            ],
            [
             0.5555555555555556,
             "#d8576b"
            ],
            [
             0.6666666666666666,
             "#ed7953"
            ],
            [
             0.7777777777777778,
             "#fb9f3a"
            ],
            [
             0.8888888888888888,
             "#fdca26"
            ],
            [
             1,
             "#f0f921"
            ]
           ],
           "sequentialminus": [
            [
             0,
             "#0d0887"
            ],
            [
             0.1111111111111111,
             "#46039f"
            ],
            [
             0.2222222222222222,
             "#7201a8"
            ],
            [
             0.3333333333333333,
             "#9c179e"
            ],
            [
             0.4444444444444444,
             "#bd3786"
            ],
            [
             0.5555555555555556,
             "#d8576b"
            ],
            [
             0.6666666666666666,
             "#ed7953"
            ],
            [
             0.7777777777777778,
             "#fb9f3a"
            ],
            [
             0.8888888888888888,
             "#fdca26"
            ],
            [
             1,
             "#f0f921"
            ]
           ]
          },
          "colorway": [
           "#636efa",
           "#EF553B",
           "#00cc96",
           "#ab63fa",
           "#FFA15A",
           "#19d3f3",
           "#FF6692",
           "#B6E880",
           "#FF97FF",
           "#FECB52"
          ],
          "font": {
           "color": "#2a3f5f"
          },
          "geo": {
           "bgcolor": "white",
           "lakecolor": "white",
           "landcolor": "#E5ECF6",
           "showlakes": true,
           "showland": true,
           "subunitcolor": "white"
          },
          "hoverlabel": {
           "align": "left"
          },
          "hovermode": "closest",
          "mapbox": {
           "style": "light"
          },
          "paper_bgcolor": "white",
          "plot_bgcolor": "#E5ECF6",
          "polar": {
           "angularaxis": {
            "gridcolor": "white",
            "linecolor": "white",
            "ticks": ""
           },
           "bgcolor": "#E5ECF6",
           "radialaxis": {
            "gridcolor": "white",
            "linecolor": "white",
            "ticks": ""
           }
          },
          "scene": {
           "xaxis": {
            "backgroundcolor": "#E5ECF6",
            "gridcolor": "white",
            "gridwidth": 2,
            "linecolor": "white",
            "showbackground": true,
            "ticks": "",
            "zerolinecolor": "white"
           },
           "yaxis": {
            "backgroundcolor": "#E5ECF6",
            "gridcolor": "white",
            "gridwidth": 2,
            "linecolor": "white",
            "showbackground": true,
            "ticks": "",
            "zerolinecolor": "white"
           },
           "zaxis": {
            "backgroundcolor": "#E5ECF6",
            "gridcolor": "white",
            "gridwidth": 2,
            "linecolor": "white",
            "showbackground": true,
            "ticks": "",
            "zerolinecolor": "white"
           }
          },
          "shapedefaults": {
           "line": {
            "color": "#2a3f5f"
           }
          },
          "ternary": {
           "aaxis": {
            "gridcolor": "white",
            "linecolor": "white",
            "ticks": ""
           },
           "baxis": {
            "gridcolor": "white",
            "linecolor": "white",
            "ticks": ""
           },
           "bgcolor": "#E5ECF6",
           "caxis": {
            "gridcolor": "white",
            "linecolor": "white",
            "ticks": ""
           }
          },
          "title": {
           "x": 0.05
          },
          "xaxis": {
           "automargin": true,
           "gridcolor": "white",
           "linecolor": "white",
           "ticks": "",
           "title": {
            "standoff": 15
           },
           "zerolinecolor": "white",
           "zerolinewidth": 2
          },
          "yaxis": {
           "automargin": true,
           "gridcolor": "white",
           "linecolor": "white",
           "ticks": "",
           "title": {
            "standoff": 15
           },
           "zerolinecolor": "white",
           "zerolinewidth": 2
          }
         }
        },
        "title": {
         "text": "Average Points vs. Projected Points by Ownership (in weeks)"
        },
        "xaxis": {
         "anchor": "y",
         "domain": [
          0,
          1
         ],
         "title": {
          "text": "Average Projected Points"
         }
        },
        "yaxis": {
         "anchor": "x",
         "domain": [
          0,
          1
         ],
         "title": {
          "text": "Average Scored Points"
         }
        }
       }
      }
     },
     "metadata": {},
     "output_type": "display_data"
    }
   ],
   "source": [
    "fig = px.scatter(df, x=df['Average Projected Points'], y=df['Average Scored Points'], color=df['Residual'], hover_data=['Average Projected Points', 'Length of Ownership','Player', 'Team'], title='Average Points vs. Projected Points by Ownership (in weeks)')\n",
    "fig.add_hline(df['Average Scored Points'].mean(), line_color='Red', line_dash = 'dash')\n",
    "fig.add_vline(df['Average Projected Points'].mean(), line_color='Red', line_dash = 'dash')\n",
    "fig.write_html('Data/cool_plots/average_points_vs_projected_points_by_ownership.html')\n",
    "fig.show()"
   ]
  },
  {
   "cell_type": "code",
   "execution_count": 25,
   "metadata": {},
   "outputs": [
    {
     "data": {
      "application/vnd.plotly.v1+json": {
       "config": {
        "plotlyServerURL": "https://plot.ly"
       },
       "data": [
        {
         "customdata": [
          [
           15.19,
           17,
           "Dalvin Cook",
           "RightInThe McManus"
          ],
          [
           17.28,
           17,
           "Travis Kelce",
           "RightInThe McManus"
          ],
          [
           12.29,
           17,
           "Terry McLaurin",
           "RightInThe McManus"
          ],
          [
           9.37,
           17,
           "Brandin Cooks",
           "RightInThe McManus"
          ],
          [
           10.32,
           17,
           "Devin Singletary",
           "RightInThe McManus"
          ],
          [
           11.35,
           17,
           "Amari Cooper",
           "RightInThe McManus"
          ],
          [
           11.92,
           13,
           "Russell Wilson",
           "RightInThe McManus"
          ],
          [
           11.59,
           5,
           "Rashaad Penny",
           "RightInThe McManus"
          ],
          [
           5.47,
           17,
           "Ravens D/ST",
           "RightInThe McManus"
          ],
          [
           17.21,
           5,
           "Matthew Stafford",
           "RightInThe McManus"
          ],
          [
           3.43,
           4,
           "Skyy Moore",
           "RightInThe McManus"
          ],
          [
           6.84,
           17,
           "Brandon McManus",
           "RightInThe McManus"
          ],
          [
           4.69,
           17,
           "Treylon Burks",
           "RightInThe McManus"
          ],
          [
           4.69,
           17,
           "Khalil Herbert",
           "RightInThe McManus"
          ],
          [
           14.41,
           17,
           "Tua Tagovailoa",
           "RightInThe McManus"
          ],
          [
           6.16,
           7,
           "Isiah Pacheco",
           "RightInThe McManus"
          ],
          [
           7.73,
           1,
           "Irv Smith Jr.",
           "RightInThe McManus"
          ],
          [
           7.4,
           9,
           "Tyler Allgeier",
           "RightInThe McManus"
          ],
          [
           9.99,
           4,
           "Mack Hollins",
           "RightInThe McManus"
          ],
          [
           13.64,
           12,
           "Daniel Jones",
           "RightInThe McManus"
          ],
          [
           7.55,
           12,
           "Devin Duvernay",
           "RightInThe McManus"
          ],
          [
           4.36,
           4,
           "Panthers D/ST",
           "RightInThe McManus"
          ],
          [
           5.03,
           9,
           "Joey Slye",
           "RightInThe McManus"
          ],
          [
           3.72,
           8,
           "Saints D/ST",
           "RightInThe McManus"
          ],
          [
           7.54,
           4,
           "Travis Homer",
           "RightInThe McManus"
          ],
          [
           14.8,
           1,
           "Matthew Stafford",
           "Hot Chubb Time  Machine 2"
          ],
          [
           7.11,
           10,
           "Isiah Pacheco",
           "Hot Chubb Time  Machine 2"
          ],
          [
           3.96,
           9,
           "Alexander Mattison",
           "Hot Chubb Time  Machine 2"
          ],
          [
           10.6,
           3,
           "Elijah Moore",
           "Hot Chubb Time  Machine 2"
          ],
          [
           9.02,
           1,
           "Irv Smith Jr.",
           "Hot Chubb Time  Machine 2"
          ],
          [
           2.46,
           7,
           "Damien Williams",
           "Hot Chubb Time  Machine 2"
          ],
          [
           16.56,
           3,
           "Derek Carr",
           "Hot Chubb Time  Machine 2"
          ],
          [
           9.11,
           1,
           "Hunter Henry",
           "Hot Chubb Time  Machine 2"
          ],
          [
           9.12,
           9,
           "Justin Fields",
           "Hot Chubb Time  Machine 2"
          ],
          [
           16,
           17,
           "Justin Jefferson",
           "Hot Chubb Time  Machine 2"
          ],
          [
           13.51,
           17,
           "Aaron Jones",
           "Hot Chubb Time  Machine 2"
          ],
          [
           14.27,
           17,
           "Nick Chubb",
           "Hot Chubb Time  Machine 2"
          ],
          [
           11.57,
           17,
           "Travis Etienne Jr.",
           "Hot Chubb Time  Machine 2"
          ],
          [
           10.7,
           17,
           "Courtland Sutton",
           "Hot Chubb Time  Machine 2"
          ],
          [
           10.32,
           12,
           "Darnell Mooney",
           "Hot Chubb Time  Machine 2"
          ],
          [
           8.16,
           7,
           "Chase Edmonds",
           "Hot Chubb Time  Machine 2"
          ],
          [
           17.98,
           2,
           "Trey Lance",
           "Hot Chubb Time  Machine 2"
          ],
          [
           9.88,
           17,
           "Brandon Aiyuk",
           "Hot Chubb Time  Machine 2"
          ],
          [
           8.58,
           17,
           "George Pickens",
           "Hot Chubb Time  Machine 2"
          ],
          [
           7.19,
           8,
           "Darrell Henderson Jr.",
           "Hot Chubb Time  Machine 2"
          ],
          [
           6.89,
           4,
           "Kenneth Gainwell",
           "Hot Chubb Time  Machine 2"
          ],
          [
           6.53,
           12,
           "Ryan Succop",
           "Hot Chubb Time  Machine 2"
          ],
          [
           7.25,
           2,
           "Broncos D/ST",
           "Hot Chubb Time  Machine 2"
          ],
          [
           8.76,
           9,
           "Gerald Everett",
           "Hot Chubb Time  Machine 2"
          ],
          [
           3.37,
           4,
           "Wan'Dale Robinson",
           "Hot Chubb Time  Machine 2"
          ],
          [
           11.91,
           1,
           "Isaiah McKenzie",
           "Hot Chubb Time  Machine 2"
          ],
          [
           4.86,
           4,
           "Jaylen Warren",
           "Hot Chubb Time  Machine 2"
          ],
          [
           8.92,
           1,
           "Romeo Doubs",
           "Hot Chubb Time  Machine 2"
          ],
          [
           15.29,
           3,
           "Jared Goff",
           "Hot Chubb Time  Machine 2"
          ],
          [
           2.59,
           3,
           "Gus Edwards",
           "Hot Chubb Time  Machine 2"
          ],
          [
           5.74,
           15,
           "Eagles D/ST",
           "Hot Chubb Time  Machine 2"
          ],
          [
           11.6,
           2,
           "Josh Reynolds",
           "Hot Chubb Time  Machine 2"
          ],
          [
           6.85,
           1,
           "Jets D/ST",
           "Hot Chubb Time  Machine 2"
          ],
          [
           7.78,
           2,
           "Jason Myers",
           "Hot Chubb Time  Machine 2"
          ],
          [
           10.02,
           1,
           "Isaiah Likely",
           "Hot Chubb Time  Machine 2"
          ],
          [
           3.58,
           3,
           "Kadarius Toney",
           "Hot Chubb Time  Machine 2"
          ],
          [
           7.25,
           3,
           "Cameron Dicker",
           "Hot Chubb Time  Machine 2"
          ],
          [
           8.55,
           8,
           "Greg Dulcich",
           "Hot Chubb Time  Machine 2"
          ],
          [
           7.58,
           7,
           "Christian Watson",
           "Hot Chubb Time  Machine 2"
          ],
          [
           8.73,
           1,
           "James Cook",
           "Hot Chubb Time  Machine 2"
          ],
          [
           15.2,
           1,
           "Taylor Heinicke",
           "Hot Chubb Time  Machine 2"
          ],
          [
           8.78,
           1,
           "Cole Kmet",
           "Hot Chubb Time  Machine 2"
          ],
          [
           10.43,
           1,
           "Michael Gallup",
           "Hot Chubb Time  Machine 2"
          ],
          [
           16.52,
           17,
           "Christian McCaffrey",
           "3 PP Wine"
          ],
          [
           13.2,
           17,
           "James Conner",
           "3 PP Wine"
          ],
          [
           7.29,
           17,
           "Keenan Allen",
           "3 PP Wine"
          ],
          [
           21.22,
           17,
           "Josh Allen",
           "3 PP Wine"
          ],
          [
           6.91,
           17,
           "George Kittle",
           "3 PP Wine"
          ],
          [
           6.34,
           8,
           "Michael Thomas",
           "3 PP Wine"
          ],
          [
           11.37,
           17,
           "Miles Sanders",
           "3 PP Wine"
          ],
          [
           10.86,
           17,
           "Drake London",
           "3 PP Wine"
          ],
          [
           10.05,
           17,
           "Allen Lazard",
           "3 PP Wine"
          ],
          [
           5.91,
           5,
           "Packers D/ST",
           "3 PP Wine"
          ],
          [
           8.4,
           17,
           "DeAndre Hopkins",
           "3 PP Wine"
          ],
          [
           8.02,
           12,
           "Harrison Butker",
           "3 PP Wine"
          ],
          [
           3.91,
           8,
           "Alexander Mattison",
           "3 PP Wine"
          ],
          [
           7.96,
           1,
           "David Njoku",
           "3 PP Wine"
          ],
          [
           15.9,
           2,
           "Jameis Winston",
           "3 PP Wine"
          ],
          [
           0.31,
           17,
           "Jameson Williams",
           "3 PP Wine"
          ],
          [
           6.04,
           7,
           "Bengals D/ST",
           "3 PP Wine"
          ],
          [
           8.19,
           1,
           "Jake Elliott",
           "3 PP Wine"
          ],
          [
           6.84,
           2,
           "Taysom Hill",
           "3 PP Wine"
          ],
          [
           7.62,
           3,
           "Dustin Hopkins",
           "3 PP Wine"
          ],
          [
           5.42,
           1,
           "Mark Ingram II",
           "3 PP Wine"
          ],
          [
           8.29,
           7,
           "Gerald Everett",
           "3 PP Wine"
          ],
          [
           6.88,
           1,
           "Browns D/ST",
           "3 PP Wine"
          ],
          [
           14.82,
           4,
           "Jimmy Garoppolo",
           "3 PP Wine"
          ],
          [
           10.55,
           2,
           "Greg Dortch",
           "3 PP Wine"
          ],
          [
           8.86,
           7,
           "Eno Benjamin",
           "3 PP Wine"
          ],
          [
           2.75,
           11,
           "Gus Edwards",
           "3 PP Wine"
          ],
          [
           7.92,
           2,
           "Mike Boone",
           "3 PP Wine"
          ],
          [
           7.87,
           1,
           "Matthew Wright",
           "3 PP Wine"
          ],
          [
           6.8,
           1,
           "Tyler Conklin",
           "3 PP Wine"
          ],
          [
           5.9,
           1,
           "Jets D/ST",
           "3 PP Wine"
          ],
          [
           15.75,
           1,
           "Matt Ryan",
           "3 PP Wine"
          ],
          [
           2.95,
           5,
           "Kadarius Toney",
           "3 PP Wine"
          ],
          [
           5.51,
           1,
           "Vikings D/ST",
           "3 PP Wine"
          ],
          [
           6.69,
           1,
           "Dontrell Hilliard",
           "3 PP Wine"
          ],
          [
           5.38,
           2,
           "Raiders D/ST",
           "3 PP Wine"
          ],
          [
           0,
           8,
           "Odell Beckham Jr.",
           "3 PP Wine"
          ],
          [
           5.13,
           2,
           "Titans D/ST",
           "3 PP Wine"
          ],
          [
           7.74,
           4,
           "James Cook",
           "3 PP Wine"
          ],
          [
           6.77,
           1,
           "Chiefs D/ST",
           "3 PP Wine"
          ],
          [
           5.66,
           2,
           "Packers D/ST",
           "Dakcidental  Thumblers "
          ],
          [
           10.1,
           3,
           "Elijah Moore",
           "Dakcidental  Thumblers "
          ],
          [
           14.19,
           17,
           "Ja'Marr Chase",
           "Dakcidental  Thumblers "
          ],
          [
           12.7,
           17,
           "Mark Andrews",
           "Dakcidental  Thumblers "
          ],
          [
           6.04,
           12,
           "Cam Akers",
           "Dakcidental  Thumblers "
          ],
          [
           12.21,
           17,
           "David Montgomery",
           "Dakcidental  Thumblers "
          ],
          [
           12.34,
           17,
           "Jerry Jeudy",
           "Dakcidental  Thumblers "
          ],
          [
           12.67,
           17,
           "Dak Prescott",
           "Dakcidental  Thumblers "
          ],
          [
           8.86,
           8,
           "Rashod Bateman",
           "Dakcidental  Thumblers "
          ],
          [
           11.21,
           17,
           "Tony Pollard",
           "Dakcidental  Thumblers "
          ],
          [
           13.39,
           17,
           "Tyler Lockett",
           "Dakcidental  Thumblers "
          ],
          [
           10.49,
           17,
           "Garrett Wilson",
           "Dakcidental  Thumblers "
          ],
          [
           8.63,
           17,
           "Michael Carter",
           "Dakcidental  Thumblers "
          ],
          [
           7.16,
           5,
           "Hunter Henry",
           "Dakcidental  Thumblers "
          ],
          [
           5.48,
           17,
           "Colts D/ST",
           "Dakcidental  Thumblers "
          ],
          [
           15.04,
           2,
           "Justin Fields",
           "Dakcidental  Thumblers "
          ],
          [
           7.87,
           4,
           "Matt Prater",
           "Dakcidental  Thumblers "
          ],
          [
           4.88,
           17,
           "Nico Collins",
           "Dakcidental  Thumblers "
          ],
          [
           7.6,
           4,
           "Cade York",
           "Dakcidental  Thumblers "
          ],
          [
           17.2,
           9,
           "Trevor Lawrence",
           "Dakcidental  Thumblers "
          ],
          [
           15.08,
           3,
           "Ryan Tannehill",
           "Dakcidental  Thumblers "
          ],
          [
           7.87,
           1,
           "Matthew Wright",
           "Dakcidental  Thumblers "
          ],
          [
           14.7,
           3,
           "Zach Wilson",
           "Dakcidental  Thumblers "
          ],
          [
           6.94,
           9,
           "Robert Tonyan",
           "Dakcidental  Thumblers "
          ],
          [
           5.34,
           3,
           "Chris Boswell",
           "Dakcidental  Thumblers "
          ],
          [
           8.18,
           5,
           "Cairo Santos",
           "Dakcidental  Thumblers "
          ],
          [
           6.02,
           9,
           "Terrace Marshall Jr.",
           "Dakcidental  Thumblers "
          ],
          [
           5.18,
           5,
           "Seahawks D/ST",
           "Dakcidental  Thumblers "
          ],
          [
           6.3,
           1,
           "Packers D/ST",
           "Country Road Take Mahomes "
          ],
          [
           5.03,
           9,
           "Dolphins D/ST",
           "Country Road Take Mahomes "
          ],
          [
           7.73,
           1,
           "Irv Smith Jr.",
           "Country Road Take Mahomes "
          ],
          [
           8.95,
           11,
           "Evan Engram",
           "Country Road Take Mahomes "
          ],
          [
           8.44,
           5,
           "Allen Robinson II",
           "Country Road Take Mahomes "
          ],
          [
           7.92,
           1,
           "Dawson Knox",
           "Country Road Take Mahomes "
          ],
          [
           5.66,
           4,
           "Steelers D/ST",
           "Country Road Take Mahomes "
          ],
          [
           12.15,
           17,
           "D'Andre Swift",
           "Country Road Take Mahomes "
          ],
          [
           18.34,
           17,
           "Stefon Diggs",
           "Country Road Take Mahomes "
          ],
          [
           19.73,
           17,
           "Patrick Mahomes",
           "Country Road Take Mahomes "
          ],
          [
           14.75,
           17,
           "DK Metcalf",
           "Country Road Take Mahomes "
          ],
          [
           9.5,
           17,
           "Kareem Hunt",
           "Country Road Take Mahomes "
          ],
          [
           5.8,
           17,
           "Darren Waller",
           "Country Road Take Mahomes "
          ],
          [
           10.34,
           17,
           "Antonio Gibson",
           "Country Road Take Mahomes "
          ],
          [
           12.48,
           17,
           "DeVonta Smith",
           "Country Road Take Mahomes "
          ],
          [
           7.94,
           16,
           "Evan McPherson",
           "Country Road Take Mahomes "
          ],
          [
           6.56,
           7,
           "Jahan Dotson",
           "Country Road Take Mahomes "
          ],
          [
           6.94,
           17,
           "Brian Robinson Jr.",
           "Country Road Take Mahomes "
          ],
          [
           14.66,
           5,
           "Mac Jones",
           "Country Road Take Mahomes "
          ],
          [
           10.37,
           5,
           "Robbie Anderson",
           "Country Road Take Mahomes "
          ],
          [
           10.17,
           17,
           "Raheem Mostert",
           "Country Road Take Mahomes "
          ],
          [
           7.97,
           3,
           "Hayden Hurst",
           "Country Road Take Mahomes "
          ],
          [
           6.84,
           5,
           "Browns D/ST",
           "Country Road Take Mahomes "
          ],
          [
           6.17,
           12,
           "Rams D/ST",
           "Country Road Take Mahomes "
          ],
          [
           12.94,
           10,
           "Jared Goff",
           "Country Road Take Mahomes "
          ],
          [
           11.6,
           1,
           "Josh Reynolds",
           "Country Road Take Mahomes "
          ],
          [
           7.54,
           2,
           "Jaguars D/ST",
           "Country Road Take Mahomes "
          ],
          [
           6.51,
           1,
           "Ben Skowronek",
           "Country Road Take Mahomes "
          ],
          [
           6.96,
           4,
           "Chuba Hubbard",
           "Country Road Take Mahomes "
          ],
          [
           7.25,
           1,
           "Cameron Dicker",
           "Country Road Take Mahomes "
          ],
          [
           6.36,
           1,
           "Saints D/ST",
           "Country Road Take Mahomes "
          ],
          [
           8.6,
           3,
           "Foster Moreau",
           "Country Road Take Mahomes "
          ],
          [
           8.08,
           1,
           "Juwan Johnson",
           "Country Road Take Mahomes "
          ],
          [
           5.4,
           14,
           "David Njoku",
           "Trash Trash"
          ],
          [
           6.65,
           1,
           "Evan Engram",
           "Trash Trash"
          ],
          [
           7.71,
           1,
           "Rex Burkhead",
           "Trash Trash"
          ],
          [
           6.82,
           5,
           "Taysom Hill",
           "Trash Trash"
          ],
          [
           8.02,
           2,
           "Broncos D/ST",
           "Trash Trash"
          ],
          [
           13.15,
           17,
           "Najee Harris",
           "Trash Trash"
          ],
          [
           20.05,
           17,
           "Saquon Barkley",
           "Trash Trash"
          ],
          [
           12.97,
           17,
           "Tee Higgins",
           "Trash Trash"
          ],
          [
           9.16,
           17,
           "Mike Williams",
           "Trash Trash"
          ],
          [
           0,
           14,
           "Elijah Mitchell",
           "Trash Trash"
          ],
          [
           8.44,
           5,
           "Allen Robinson II",
           "Trash Trash"
          ],
          [
           11.55,
           17,
           "Adam Thielen",
           "Trash Trash"
          ],
          [
           16.3,
           17,
           "Aaron Rodgers",
           "Trash Trash"
          ],
          [
           8.53,
           3,
           "Dawson Knox",
           "Trash Trash"
          ],
          [
           9.93,
           10,
           "Chase Claypool",
           "Trash Trash"
          ],
          [
           6.48,
           6,
           "Nyheim Hines",
           "Trash Trash"
          ],
          [
           0,
           5,
           "Julio Jones",
           "Trash Trash"
          ],
          [
           9.27,
           16,
           "Jeff Wilson Jr.",
           "Trash Trash"
          ],
          [
           6.76,
           2,
           "Jaylen Warren",
           "Trash Trash"
          ],
          [
           15.65,
           3,
           "Marcus Mariota",
           "Trash Trash"
          ],
          [
           6.68,
           1,
           "Steelers D/ST",
           "Trash Trash"
          ],
          [
           7.47,
           1,
           "Cade York",
           "Trash Trash"
          ],
          [
           11.25,
           1,
           "Mecole Hardman",
           "Trash Trash"
          ],
          [
           3,
           1,
           "Buccaneers D/ST",
           "Trash Trash"
          ],
          [
           18.47,
           1,
           "Trevor Lawrence",
           "Trash Trash"
          ],
          [
           15.1,
           1,
           "Ryan Tannehill",
           "Trash Trash"
          ],
          [
           15.47,
           1,
           "Jared Goff",
           "Trash Trash"
          ],
          [
           5.17,
           3,
           "Younghoe Koo",
           "Trash Trash"
          ],
          [
           6.96,
           4,
           "Jaguars D/ST",
           "Trash Trash"
          ],
          [
           8.68,
           13,
           "Latavius Murray",
           "Trash Trash"
          ],
          [
           8.4,
           3,
           "Alec Pierce",
           "Trash Trash"
          ],
          [
           7.6,
           11,
           "Brett Maher",
           "Trash Trash"
          ],
          [
           4.94,
           3,
           "Commanders D/ST",
           "Trash Trash"
          ],
          [
           6.96,
           4,
           "Chuba Hubbard",
           "Trash Trash"
          ],
          [
           15.86,
           2,
           "Andy Dalton",
           "Trash Trash"
          ],
          [
           9.48,
           10,
           "Donovan Peoples-Jones",
           "Trash Trash"
          ],
          [
           7.72,
           4,
           "Jacoby Brissett",
           "Trash Trash"
          ],
          [
           6.14,
           1,
           "Cardinals D/ST",
           "Trash Trash"
          ],
          [
           12.4,
           8,
           "Deshaun Watson",
           "Trash Trash"
          ],
          [
           0,
           1,
           "Kenyan Drake",
           "Trash Trash"
          ],
          [
           7.19,
           2,
           "Chiefs D/ST",
           "Trash Trash"
          ],
          [
           9.04,
           7,
           "Cole Kmet",
           "Trash Trash"
          ],
          [
           0,
           2,
           "Colin Kaepernick",
           "Trash Trash"
          ],
          [
           4.33,
           1,
           "Seahawks D/ST",
           "Trash Trash"
          ],
          [
           10.43,
           1,
           "Michael Gallup",
           "Trash Trash"
          ],
          [
           11.6,
           2,
           "Zack Moss",
           "Trash Trash"
          ],
          [
           13.12,
           1,
           "Nick Foles",
           "Trash Trash"
          ],
          [
           6.1,
           1,
           "Chargers D/ST",
           "Trash Trash"
          ],
          [
           17.26,
           1,
           "Gardner Minshew",
           "Trash Trash"
          ],
          [
           6.23,
           1,
           "Bengals D/ST",
           "Corduroy Patterson"
          ],
          [
           18.14,
           17,
           "Alvin Kamara",
           "Corduroy Patterson"
          ],
          [
           16.72,
           17,
           "Davante Adams",
           "Corduroy Patterson"
          ],
          [
           7.5,
           17,
           "Breece Hall",
           "Corduroy Patterson"
          ],
          [
           13.18,
           17,
           "Diontae Johnson",
           "Corduroy Patterson"
          ],
          [
           15.15,
           17,
           "Kyler Murray",
           "Corduroy Patterson"
          ],
          [
           6.82,
           17,
           "Cordarrelle Patterson",
           "Corduroy Patterson"
          ],
          [
           11.97,
           17,
           "Rhamondre Stevenson",
           "Corduroy Patterson"
          ],
          [
           10.21,
           14,
           "Dallas Goedert",
           "Corduroy Patterson"
          ],
          [
           9.67,
           7,
           "Robert Woods",
           "Corduroy Patterson"
          ],
          [
           8.11,
           5,
           "DJ Chark",
           "Corduroy Patterson"
          ],
          [
           10.19,
           2,
           "Marquez Valdes-Scantling",
           "Corduroy Patterson"
          ],
          [
           6.51,
           17,
           "49ers D/ST",
           "Corduroy Patterson"
          ],
          [
           16.3,
           17,
           "Kirk Cousins",
           "Corduroy Patterson"
          ],
          [
           8.23,
           1,
           "Evan Engram",
           "Corduroy Patterson"
          ],
          [
           8.15,
           6,
           "Greg Joseph",
           "Corduroy Patterson"
          ],
          [
           8.61,
           1,
           "Damien Williams",
           "Corduroy Patterson"
          ],
          [
           8.85,
           2,
           "Derek Carr",
           "Corduroy Patterson"
          ],
          [
           7.46,
           6,
           "Noah Fant",
           "Corduroy Patterson"
          ],
          [
           6.38,
           4,
           "Cam Akers",
           "Corduroy Patterson"
          ],
          [
           6.82,
           5,
           "Taysom Hill",
           "Corduroy Patterson"
          ],
          [
           4.64,
           2,
           "Mark Ingram II",
           "Corduroy Patterson"
          ],
          [
           7.06,
           6,
           "Darrell Henderson Jr.",
           "Corduroy Patterson"
          ],
          [
           8.55,
           1,
           "Isaiah McKenzie",
           "Corduroy Patterson"
          ],
          [
           7.14,
           1,
           "Dawson Knox",
           "Corduroy Patterson"
          ],
          [
           6.92,
           7,
           "Nyheim Hines",
           "Corduroy Patterson"
          ],
          [
           7.49,
           2,
           "Cade York",
           "Corduroy Patterson"
          ],
          [
           10.93,
           2,
           "Robbie Anderson",
           "Corduroy Patterson"
          ],
          [
           11.01,
           1,
           "Nelson Agholor",
           "Corduroy Patterson"
          ],
          [
           0,
           1,
           "Mecole Hardman",
           "Corduroy Patterson"
          ],
          [
           8.15,
           8,
           "Romeo Doubs",
           "Corduroy Patterson"
          ],
          [
           10.55,
           1,
           "Greg Dortch",
           "Corduroy Patterson"
          ],
          [
           10.55,
           13,
           "Zay Jones",
           "Corduroy Patterson"
          ],
          [
           8.16,
           3,
           "Tyler Conklin",
           "Corduroy Patterson"
          ],
          [
           7.5,
           4,
           "Corey Davis",
           "Corduroy Patterson"
          ],
          [
           7.65,
           2,
           "Robert Tonyan",
           "Corduroy Patterson"
          ],
          [
           4.77,
           11,
           "Nick Folk",
           "Corduroy Patterson"
          ],
          [
           10.14,
           10,
           "Parris Campbell",
           "Corduroy Patterson"
          ],
          [
           3.64,
           1,
           "Kenyan Drake",
           "Corduroy Patterson"
          ],
          [
           6.77,
           1,
           "Chiefs D/ST",
           "Corduroy Patterson"
          ],
          [
           7.58,
           2,
           "Bengals D/ST",
           "Deshaunorable Discharge"
          ],
          [
           15.65,
           17,
           "Joe Mixon",
           "Deshaunorable Discharge"
          ],
          [
           11.03,
           17,
           "Leonard Fournette",
           "Deshaunorable Discharge"
          ],
          [
           14.18,
           17,
           "A.J. Brown",
           "Deshaunorable Discharge"
          ],
          [
           13.36,
           17,
           "Jaylen Waddle",
           "Deshaunorable Discharge"
          ],
          [
           6.3,
           17,
           "Damien Harris",
           "Deshaunorable Discharge"
          ],
          [
           10.84,
           17,
           "Gabe Davis",
           "Deshaunorable Discharge"
          ],
          [
           19.66,
           17,
           "Joe Burrow",
           "Deshaunorable Discharge"
          ],
          [
           8.83,
           11,
           "Zach Ertz",
           "Deshaunorable Discharge"
          ],
          [
           11.17,
           5,
           "Elijah Moore",
           "Deshaunorable Discharge"
          ],
          [
           8.77,
           9,
           "James Robinson",
           "Deshaunorable Discharge"
          ],
          [
           8.28,
           16,
           "Daniel Carlson",
           "Deshaunorable Discharge"
          ],
          [
           9.29,
           8,
           "J.D. McKissic",
           "Deshaunorable Discharge"
          ],
          [
           5.87,
           3,
           "Dolphins D/ST",
           "Deshaunorable Discharge"
          ],
          [
           10.51,
           4,
           "Marvin Jones Jr.",
           "Deshaunorable Discharge"
          ],
          [
           9.02,
           1,
           "Irv Smith Jr.",
           "Deshaunorable Discharge"
          ],
          [
           4.32,
           3,
           "Tyler Allgeier",
           "Deshaunorable Discharge"
          ],
          [
           9.68,
           8,
           "Marquez Valdes-Scantling",
           "Deshaunorable Discharge"
          ],
          [
           11.76,
           3,
           "Melvin Gordon III",
           "Deshaunorable Discharge"
          ],
          [
           17.64,
           1,
           "Derek Carr",
           "Deshaunorable Discharge"
          ],
          [
           7.42,
           3,
           "Chase Edmonds",
           "Deshaunorable Discharge"
          ],
          [
           8.02,
           1,
           "Broncos D/ST",
           "Deshaunorable Discharge"
          ],
          [
           8.31,
           7,
           "Dawson Knox",
           "Deshaunorable Discharge"
          ],
          [
           6.07,
           2,
           "Steelers D/ST",
           "Deshaunorable Discharge"
          ],
          [
           1.61,
           7,
           "Mecole Hardman",
           "Deshaunorable Discharge"
          ],
          [
           9.1,
           15,
           "Curtis Samuel",
           "Deshaunorable Discharge"
          ],
          [
           10.46,
           2,
           "Mack Hollins",
           "Deshaunorable Discharge"
          ],
          [
           8.04,
           6,
           "Samaje Perine",
           "Deshaunorable Discharge"
          ],
          [
           7.83,
           6,
           "Jason Myers",
           "Deshaunorable Discharge"
          ],
          [
           5.37,
           3,
           "Commanders D/ST",
           "Deshaunorable Discharge"
          ],
          [
           0,
           2,
           "Randall Cobb",
           "Deshaunorable Discharge"
          ],
          [
           6.19,
           8,
           "Kyren Williams",
           "Deshaunorable Discharge"
          ],
          [
           5.62,
           2,
           "Cardinals D/ST",
           "Deshaunorable Discharge"
          ],
          [
           5.13,
           2,
           "Titans D/ST",
           "Deshaunorable Discharge"
          ],
          [
           10.34,
           7,
           "Darius Slayton",
           "Deshaunorable Discharge"
          ],
          [
           11.51,
           5,
           "Zonovan Knight",
           "Deshaunorable Discharge"
          ],
          [
           2.89,
           3,
           "JaMycal Hasty",
           "Deshaunorable Discharge"
          ],
          [
           7.68,
           2,
           "Juwan Johnson",
           "Deshaunorable Discharge"
          ],
          [
           9.92,
           1,
           "Hassan Haskins",
           "Deshaunorable Discharge"
          ],
          [
           6.1,
           1,
           "Chargers D/ST",
           "Deshaunorable Discharge"
          ],
          [
           5.74,
           4,
           "James Robinson",
           "Devon Allen’s Hurdle crew"
          ],
          [
           6.76,
           3,
           "DJ Chark",
           "Devon Allen’s Hurdle crew"
          ],
          [
           9.83,
           3,
           "Marquez Valdes-Scantling",
           "Devon Allen’s Hurdle crew"
          ],
          [
           8.17,
           2,
           "Evan Engram",
           "Devon Allen’s Hurdle crew"
          ],
          [
           15.6,
           17,
           "Derrick Henry",
           "Devon Allen’s Hurdle crew"
          ],
          [
           14.46,
           17,
           "Deebo Samuel",
           "Devon Allen’s Hurdle crew"
          ],
          [
           11.87,
           17,
           "DJ Moore",
           "Devon Allen’s Hurdle crew"
          ],
          [
           14.24,
           17,
           "Josh Jacobs",
           "Devon Allen’s Hurdle crew"
          ],
          [
           23.07,
           17,
           "Jalen Hurts",
           "Devon Allen’s Hurdle crew"
          ],
          [
           11.58,
           17,
           "Chris Godwin",
           "Devon Allen’s Hurdle crew"
          ],
          [
           10.03,
           17,
           "T.J. Hockenson",
           "Devon Allen’s Hurdle crew"
          ],
          [
           9.5,
           9,
           "Melvin Gordon III",
           "Devon Allen’s Hurdle crew"
          ],
          [
           7.27,
           17,
           "Justin Tucker",
           "Devon Allen’s Hurdle crew"
          ],
          [
           10.59,
           17,
           "Chris Olave",
           "Devon Allen’s Hurdle crew"
          ],
          [
           6.05,
           17,
           "Cowboys D/ST",
           "Devon Allen’s Hurdle crew"
          ],
          [
           13.99,
           6,
           "Derek Carr",
           "Devon Allen’s Hurdle crew"
          ],
          [
           7.45,
           13,
           "Rex Burkhead",
           "Devon Allen’s Hurdle crew"
          ],
          [
           7.32,
           4,
           "Noah Fant",
           "Devon Allen’s Hurdle crew"
          ],
          [
           4.59,
           1,
           "Jalen Tolbert",
           "Devon Allen’s Hurdle crew"
          ],
          [
           7.85,
           4,
           "Jake Elliott",
           "Devon Allen’s Hurdle crew"
          ],
          [
           10.25,
           3,
           "Isaiah McKenzie",
           "Devon Allen’s Hurdle crew"
          ],
          [
           10.09,
           2,
           "Sterling Shepard",
           "Devon Allen’s Hurdle crew"
          ],
          [
           15.72,
           8,
           "Marcus Mariota",
           "Devon Allen’s Hurdle crew"
          ],
          [
           7.12,
           2,
           "Browns D/ST",
           "Devon Allen’s Hurdle crew"
          ],
          [
           2.2,
           3,
           "Marlon Mack",
           "Devon Allen’s Hurdle crew"
          ],
          [
           7.92,
           1,
           "Mike Boone",
           "Devon Allen’s Hurdle crew"
          ],
          [
           7.5,
           4,
           "Corey Davis",
           "Devon Allen’s Hurdle crew"
          ],
          [
           5.78,
           11,
           "Will Dissly",
           "Devon Allen’s Hurdle crew"
          ],
          [
           6.63,
           2,
           "Samaje Perine",
           "Devon Allen’s Hurdle crew"
          ],
          [
           4.68,
           2,
           "Marquise Goodwin",
           "Devon Allen’s Hurdle crew"
          ],
          [
           1.56,
           7,
           "Kenyan Drake",
           "Devon Allen’s Hurdle crew"
          ],
          [
           7.74,
           3,
           "Robbie Gould",
           "Devon Allen’s Hurdle crew"
          ],
          [
           6.36,
           1,
           "Saints D/ST",
           "Devon Allen’s Hurdle crew"
          ],
          [
           2.49,
           1,
           "JaMycal Hasty",
           "Devon Allen’s Hurdle crew"
          ],
          [
           11.14,
           1,
           "Mark Ingram II",
           "Dessert Desperadoes"
          ],
          [
           7.51,
           2,
           "Broncos D/ST",
           "Dessert Desperadoes"
          ],
          [
           6.54,
           9,
           "Hayden Hurst",
           "Dessert Desperadoes"
          ],
          [
           19.8,
           17,
           "Austin Ekeler",
           "Dessert Desperadoes"
          ],
          [
           11.46,
           17,
           "Ezekiel Elliott",
           "Dessert Desperadoes"
          ],
          [
           12.55,
           17,
           "Michael Pittman Jr.",
           "Dessert Desperadoes"
          ],
          [
           19.39,
           17,
           "Justin Herbert",
           "Dessert Desperadoes"
          ],
          [
           15.12,
           17,
           "Amon-Ra St. Brown",
           "Dessert Desperadoes"
          ],
          [
           4.51,
           17,
           "Bills D/ST",
           "Dessert Desperadoes"
          ],
          [
           8.69,
           17,
           "AJ Dillon",
           "Dessert Desperadoes"
          ],
          [
           12.23,
           17,
           "Christian Kirk",
           "Dessert Desperadoes"
          ],
          [
           9.79,
           17,
           "Pat Freiermuth",
           "Dessert Desperadoes"
          ],
          [
           7.52,
           17,
           "Jakobi Meyers",
           "Dessert Desperadoes"
          ],
          [
           5.95,
           3,
           "Kenny Golladay",
           "Dessert Desperadoes"
          ],
          [
           8.99,
           17,
           "D'Onta Foreman",
           "Dessert Desperadoes"
          ],
          [
           7.6,
           16,
           "Rachaad White",
           "Dessert Desperadoes"
          ],
          [
           15.24,
           1,
           "Jimmy Garoppolo",
           "Dessert Desperadoes"
          ],
          [
           6.91,
           15,
           "Graham Gano",
           "Dessert Desperadoes"
          ],
          [
           2.2,
           3,
           "Marlon Mack",
           "Dessert Desperadoes"
          ],
          [
           15.83,
           14,
           "Geno Smith",
           "Dessert Desperadoes"
          ],
          [
           6.15,
           1,
           "Bears D/ST",
           "Dessert Desperadoes"
          ],
          [
           7.02,
           10,
           "Younghoe Koo",
           "Dessert Desperadoes"
          ],
          [
           3.54,
           2,
           "Nick Folk",
           "Dessert Desperadoes"
          ],
          [
           7.37,
           2,
           "Kadarius Toney",
           "Dessert Desperadoes"
          ],
          [
           3.75,
           1,
           "Saints D/ST",
           "Dessert Desperadoes"
          ],
          [
           6.74,
           1,
           "James Cook",
           "Dessert Desperadoes"
          ],
          [
           10.43,
           2,
           "Michael Gallup",
           "Dessert Desperadoes"
          ],
          [
           6.83,
           3,
           "Chigoziem Okonkwo",
           "Dessert Desperadoes"
          ],
          [
           7.41,
           17,
           "Cooper Kupp",
           "Sunday Funday"
          ],
          [
           13.74,
           17,
           "CeeDee Lamb",
           "Sunday Funday"
          ],
          [
           3.6,
           17,
           "Javonte Williams",
           "Sunday Funday"
          ],
          [
           6.16,
           17,
           "Kyle Pitts",
           "Sunday Funday"
          ],
          [
           5.44,
           17,
           "Clyde Edwards-Helaire",
           "Sunday Funday"
          ],
          [
           14.93,
           17,
           "Tom Brady",
           "Sunday Funday"
          ],
          [
           11.08,
           17,
           "JuJu Smith-Schuster",
           "Sunday Funday"
          ],
          [
           7.95,
           9,
           "Hunter Renfrow",
           "Sunday Funday"
          ],
          [
           6.03,
           17,
           "Patriots D/ST",
           "Sunday Funday"
          ],
          [
           6.11,
           12,
           "Matt Gay",
           "Sunday Funday"
          ],
          [
           9.42,
           17,
           "Kenneth Walker III",
           "Sunday Funday"
          ],
          [
           8.74,
           10,
           "Russell Gage",
           "Sunday Funday"
          ],
          [
           5.21,
           17,
           "Mike Gesicki",
           "Sunday Funday"
          ],
          [
           8.6,
           17,
           "Jerick McKinnon",
           "Sunday Funday"
          ],
          [
           9.56,
           17,
           "Joshua Palmer",
           "Sunday Funday"
          ],
          [
           17.46,
           5,
           "Carson Wentz",
           "Sunday Funday"
          ],
          [
           8.24,
           5,
           "Tyler Conklin",
           "Sunday Funday"
          ],
          [
           15.75,
           1,
           "Matt Ryan",
           "Sunday Funday"
          ],
          [
           6.89,
           11,
           "Ka'imi Fairbairn",
           "Sunday Funday"
          ],
          [
           3.55,
           10,
           "Keaontay Ingram",
           "Sunday Funday"
          ],
          [
           5.32,
           3,
           "Raiders D/ST",
           "Sunday Funday"
          ],
          [
           9.67,
           3,
           "Colt McCoy",
           "Sunday Funday"
          ],
          [
           15.45,
           17,
           "Jonathan Taylor",
           "JTT 4EVR"
          ],
          [
           20.19,
           17,
           "Tyreek Hill",
           "JTT 4EVR"
          ],
          [
           12.05,
           17,
           "Mike Evans",
           "JTT 4EVR"
          ],
          [
           7.02,
           17,
           "J.K. Dobbins",
           "JTT 4EVR"
          ],
          [
           16.76,
           17,
           "Lamar Jackson",
           "JTT 4EVR"
          ],
          [
           5.94,
           17,
           "Dalton Schultz",
           "JTT 4EVR"
          ],
          [
           9.55,
           17,
           "Marquise Brown",
           "JTT 4EVR"
          ],
          [
           5.16,
           13,
           "Buccaneers D/ST",
           "JTT 4EVR"
          ],
          [
           10.04,
           17,
           "Dameon Pierce",
           "JTT 4EVR"
          ],
          [
           7.28,
           17,
           "Tyler Boyd",
           "JTT 4EVR"
          ],
          [
           6.55,
           17,
           "Jarvis Landry",
           "JTT 4EVR"
          ],
          [
           7.75,
           17,
           "Tyler Bass",
           "JTT 4EVR"
          ],
          [
           9.04,
           17,
           "Jamaal Williams",
           "JTT 4EVR"
          ],
          [
           16.74,
           4,
           "Trevor Lawrence",
           "JTT 4EVR"
          ],
          [
           10.52,
           17,
           "Tyler Higbee",
           "JTT 4EVR"
          ],
          [
           5.96,
           17,
           "Rondale Moore",
           "JTT 4EVR"
          ],
          [
           4.05,
           12,
           "Deon Jackson",
           "JTT 4EVR"
          ],
          [
           5.85,
           7,
           "Jets D/ST",
           "JTT 4EVR"
          ],
          [
           15.54,
           1,
           "Andy Dalton",
           "JTT 4EVR"
          ],
          [
           5.34,
           3,
           "Chris Boswell",
           "JTT 4EVR"
          ],
          [
           16.35,
           4,
           "Tyler Huntley",
           "JTT 4EVR"
          ]
         ],
         "hovertemplate": "Average Scored Points=%{x}<br>Residual=%{marker.color}<br>Average Projected Points=%{customdata[0]}<br>Length of Ownership=%{customdata[1]}<br>Player=%{customdata[2]}<br>Team=%{customdata[3]}<extra></extra>",
         "legendgroup": "",
         "marker": {
          "color": [
           -3.68,
           4.46,
           -0.61,
           -2.1,
           0.14,
           2.69,
           -4.08,
           -3.87,
           4.24,
           -7.96,
           -2.43,
           -0.78,
           0.89,
           2.65,
           -2.64,
           0.35,
           2.97,
           1.62,
           -3.89,
           4.36,
           -4.83,
           -4.86,
           0.3,
           0.53,
           -4.84,
           -4.48,
           1.13,
           -0.88,
           -7.3,
           -9.02,
           -2.4,
           -5.86,
           -5.11,
           5.92,
           2.37,
           3.59,
           3.72,
           -0.68,
           -0.98,
           -2.56,
           -6.19,
           -15.48,
           1.2,
           2.4,
           -1.49,
           -4.09,
           -0.2,
           -0.25,
           -1.83,
           2.13,
           -9.01,
           -2.66,
           12.38,
           3.07,
           0.48,
           0.46,
           3.6,
           -0.85,
           4.22,
           -0.62,
           -3.58,
           4.75,
           -2.96,
           7.45,
           -6.23,
           -3.78,
           4.42,
           -4.43,
           -1.1,
           -1.54,
           -1.1,
           2.01,
           1.01,
           3.96,
           4.45,
           -3.16,
           0.04,
           -2.11,
           0.68,
           1.98,
           -0.43,
           -6.26,
           -1.25,
           0.34,
           -2.04,
           -3.19,
           -0.43,
           1.05,
           -1.82,
           -1.17,
           -6.88,
           -0.93,
           -8.95,
           1.18,
           2.9,
           3.58,
           -0.87,
           0.6,
           -1.9,
           -5.83,
           -2.31,
           2.49,
           -4.89,
           1.62,
           0,
           0.87,
           -4.59,
           1.23,
           -0.16,
           -7.26,
           0.33,
           -2.91,
           -5.35,
           -2.65,
           0.39,
           -0.59,
           -4.2,
           1.73,
           -1.73,
           -0.84,
           -2.42,
           -3.44,
           -0.36,
           13.14,
           -3.37,
           0.59,
           -0.1,
           -3.23,
           -1.93,
           -0.87,
           -2.27,
           -0.96,
           0.99,
           -1.78,
           -1.68,
           1.22,
           -3.3,
           2.97,
           2.97,
           0.81,
           0.2,
           4.88,
           1.59,
           0.49,
           3.64,
           -0.57,
           -2.07,
           -3.14,
           0.87,
           -0.23,
           6.69,
           -1.19,
           1.97,
           -0.33,
           -0.68,
           -7.73,
           -0.68,
           -1.34,
           -2.84,
           -0.34,
           0.41,
           3.6,
           -6.54,
           10.19,
           -1.12,
           4.75,
           -2.36,
           -4.4,
           3.12,
           -2.05,
           6.25,
           -6.51,
           -1.29,
           -12.02,
           -0.71,
           -1.09,
           -1.28,
           0.6,
           0,
           0.2,
           -2.75,
           -1.5,
           1.4,
           0.94,
           -1.96,
           0,
           -0.37,
           -4.86,
           1.19,
           -1.68,
           4.53,
           -10.05,
           -4,
           -2.11,
           -0.72,
           10.23,
           1.5,
           -1.21,
           1.09,
           2.57,
           1.21,
           0.39,
           -1.12,
           -3.75,
           1.08,
           0.52,
           3.86,
           -2.55,
           0,
           -0.69,
           0.92,
           0,
           11.67,
           -4.43,
           -3.9,
           -13.4,
           3.9,
           -4.3,
           4.77,
           -2.62,
           3.75,
           4.22,
           -1.62,
           -1.65,
           2.17,
           2.93,
           0.7,
           -3.24,
           1.01,
           0.91,
           2.9,
           2.14,
           -1.43,
           -2.32,
           -8.41,
           0.12,
           0.52,
           -5.5,
           -1.29,
           0.51,
           -0.71,
           0.85,
           6.96,
           -1.94,
           2.01,
           -7.63,
           -6.91,
           0,
           0.83,
           -8.95,
           -2.92,
           -1.03,
           -2.45,
           -5.75,
           3.69,
           3.38,
           2.96,
           1.23,
           -4.58,
           1.76,
           -1.27,
           0.65,
           -1.42,
           -1.35,
           -3.47,
           1.77,
           1.15,
           -5.51,
           -2.11,
           1.84,
           -3.04,
           6.8,
           -6.61,
           -9.02,
           1.18,
           -1.1,
           -5.63,
           1.34,
           -5.69,
           -12.02,
           4.27,
           -1.07,
           -1.44,
           0.09,
           -3.2,
           -1.22,
           2.84,
           0.3,
           0,
           -2.12,
           1.38,
           0.87,
           -1.54,
           -3.03,
           -1.19,
           -1.12,
           -2.62,
           3.9,
           2.82,
           0.84,
           -3,
           1.78,
           -1.25,
           -2.24,
           -1.73,
           1.92,
           2.25,
           -0.12,
           0.39,
           -2.86,
           0.38,
           -0.65,
           3.95,
           -1.36,
           -1.36,
           -0.04,
           -4.59,
           -1.35,
           -4.25,
           -0.69,
           0.27,
           -2.12,
           -2.2,
           3.58,
           -2.45,
           -2.03,
           -4.83,
           2.62,
           1.27,
           2.26,
           -2.36,
           -1.19,
           -5.04,
           -8.51,
           -0.25,
           5.13,
           1.78,
           -1.92,
           -2.06,
           -3.3,
           0.84,
           -0.84,
           -0.91,
           -0.1,
           -0.68,
           -5.95,
           -2.35,
           1.28,
           -1.96,
           0.09,
           -2.2,
           -0.3,
           -1.15,
           -2.12,
           6.96,
           -5.77,
           0.25,
           -2.94,
           -4.43,
           -1.03,
           1.42,
           1.37,
           -1.42,
           -2.22,
           -0.3,
           -2.07,
           0.58,
           -1.18,
           5.5,
           0.22,
           2.75,
           2.59,
           -1.57,
           2.26,
           2.39,
           -1.16,
           -2.06,
           -5.83,
           -0.35,
           -2.99,
           1.35,
           -4.79,
           -7.38,
           2.14,
           0.85,
           -0.14,
           -1.94,
           -1.29,
           1.83,
           -1.31,
           2.29,
           4.29,
           -3.79,
           0.19,
           5.1,
           -1.2,
           -1.28,
           1.53,
           4.74,
           -2.71,
           -8.48,
           0.99,
           -11.33
          ],
          "coloraxis": "coloraxis",
          "symbol": "circle"
         },
         "mode": "markers",
         "name": "",
         "orientation": "v",
         "showlegend": false,
         "type": "scatter",
         "x": [
          11.51,
          21.75,
          11.68,
          7.27,
          10.46,
          14.04,
          7.84,
          7.72,
          9.71,
          9.25,
          1,
          6.06,
          5.58,
          7.35,
          11.77,
          6.51,
          10.7,
          9.02,
          6.1,
          18.01,
          2.72,
          -0.5,
          5.33,
          4.25,
          2.7,
          10.32,
          8.24,
          3.08,
          3.3,
          0,
          0.06,
          10.71,
          4,
          15.04,
          18.37,
          17.09,
          17.99,
          10.88,
          9.72,
          7.75,
          1.97,
          2.5,
          11.08,
          10.98,
          5.7,
          2.8,
          6.33,
          7,
          6.92,
          5.5,
          2.9,
          2.2,
          21.3,
          18.36,
          3.07,
          6.2,
          15.2,
          6,
          12,
          9.4,
          0,
          12,
          5.59,
          15.03,
          2.5,
          11.42,
          13.2,
          6,
          15.42,
          11.66,
          6.19,
          23.23,
          7.92,
          10.3,
          15.82,
          7.71,
          10.08,
          3.8,
          9.08,
          10,
          3.48,
          1.7,
          14.65,
          0.65,
          4,
          5,
          6.41,
          8.67,
          3.6,
          7.11,
          0,
          13.9,
          1.6,
          10.04,
          5.65,
          11.5,
          7,
          7.4,
          4,
          9.92,
          0.64,
          8,
          1.8,
          7,
          0,
          6,
          3.15,
          8,
          5.5,
          2.83,
          14.51,
          9.79,
          0.69,
          9.56,
          12.73,
          12.08,
          4.65,
          12.94,
          11.66,
          9.65,
          6.21,
          3.72,
          5.12,
          28.18,
          4.5,
          5.47,
          7.5,
          13.98,
          13.15,
          7,
          12.43,
          5.98,
          6.33,
          6.4,
          4.34,
          6.4,
          3,
          8,
          10.7,
          9.76,
          8.64,
          12.8,
          7.25,
          12.64,
          21.98,
          19.16,
          12.68,
          6.35,
          6.67,
          10.11,
          19.18,
          6.75,
          8.53,
          6.61,
          13.98,
          2.64,
          9.49,
          6.63,
          4,
          5.83,
          13.35,
          15.2,
          1,
          16.7,
          5.85,
          12,
          4,
          4.2,
          11.2,
          3.34,
          12.9,
          1.2,
          5.53,
          -4,
          12.44,
          18.96,
          11.68,
          9.75,
          0,
          8.64,
          8.8,
          14.8,
          9.93,
          10.87,
          4.52,
          0,
          8.91,
          1.9,
          16.85,
          5,
          12,
          1.2,
          -1,
          16.36,
          14.38,
          25.7,
          6.67,
          5.75,
          9.77,
          10.97,
          8.82,
          5.33,
          5.85,
          12.11,
          10.56,
          8.24,
          10,
          9.86,
          0,
          6.5,
          9.96,
          0,
          16,
          6,
          7.7,
          -0.28,
          10,
          12.96,
          11,
          15.51,
          20.48,
          11.72,
          11.56,
          13.5,
          8.98,
          14.9,
          10.91,
          6.43,
          9.12,
          11.1,
          9.41,
          18.44,
          6.8,
          5.83,
          0.2,
          8.97,
          7.98,
          0.88,
          5.53,
          5.15,
          6.35,
          9.4,
          14.1,
          4.97,
          9.5,
          3.3,
          4.1,
          0,
          8.98,
          1.6,
          7.63,
          7.13,
          5.05,
          1.9,
          8.45,
          13.52,
          6.6,
          8,
          3,
          17.41,
          9.76,
          14.83,
          11.94,
          4.95,
          7.37,
          21.42,
          9.98,
          5.66,
          6.66,
          10.12,
          6.25,
          12.67,
          3.9,
          0,
          5.5,
          8.57,
          6.13,
          18.98,
          1.73,
          -4,
          12.59,
          5,
          0.17,
          9.19,
          7.25,
          6.82,
          10.67,
          5.67,
          0,
          4.08,
          7,
          6,
          8.8,
          8.48,
          1.7,
          6.55,
          7.3,
          10,
          8.55,
          7.6,
          6.83,
          9.95,
          14.35,
          12.22,
          10.14,
          16.16,
          25.32,
          11.45,
          10.42,
          6.64,
          7.65,
          9.94,
          10,
          12.63,
          6.08,
          7.27,
          0,
          6.5,
          6,
          9.4,
          16,
          5,
          0,
          11.5,
          5.05,
          3.75,
          1.8,
          7.3,
          2.83,
          10,
          4,
          1.3,
          6.1,
          -1,
          6.29,
          24.93,
          13.24,
          10.64,
          17.33,
          11.82,
          5.35,
          7.85,
          11.32,
          9.68,
          6.84,
          0,
          6.64,
          8.87,
          13.28,
          7,
          0,
          15.54,
          5,
          4.9,
          10.5,
          1.6,
          4,
          3.8,
          6,
          5.8,
          8.82,
          15.11,
          2.18,
          3.94,
          5.14,
          12.87,
          11.65,
          6.77,
          11.53,
          6.33,
          12.16,
          11.33,
          3.65,
          10.86,
          11.95,
          16.3,
          6.18,
          9.92,
          6.55,
          0.56,
          6.67,
          4.88,
          8.07,
          22.32,
          12.9,
          6.88,
          14.83,
          4.66,
          11.39,
          3.85,
          12.33,
          11.57,
          2.76,
          7.94,
          14.14,
          15.54,
          9.24,
          7.49,
          8.79,
          3.14,
          7.06,
          6.33,
          5.02
         ],
         "xaxis": "x",
         "y": [
          -3.68,
          4.46,
          -0.61,
          -2.1,
          0.14,
          2.69,
          -4.08,
          -3.87,
          4.24,
          -7.96,
          -2.43,
          -0.78,
          0.89,
          2.65,
          -2.64,
          0.35,
          2.97,
          1.62,
          -3.89,
          4.36,
          -4.83,
          -4.86,
          0.3,
          0.53,
          -4.84,
          -4.48,
          1.13,
          -0.88,
          -7.3,
          -9.02,
          -2.4,
          -5.86,
          -5.11,
          5.92,
          2.37,
          3.59,
          3.72,
          -0.68,
          -0.98,
          -2.56,
          -6.19,
          -15.48,
          1.2,
          2.4,
          -1.49,
          -4.09,
          -0.2,
          -0.25,
          -1.83,
          2.13,
          -9.01,
          -2.66,
          12.38,
          3.07,
          0.48,
          0.46,
          3.6,
          -0.85,
          4.22,
          -0.62,
          -3.58,
          4.75,
          -2.96,
          7.45,
          -6.23,
          -3.78,
          4.42,
          -4.43,
          -1.1,
          -1.54,
          -1.1,
          2.01,
          1.01,
          3.96,
          4.45,
          -3.16,
          0.04,
          -2.11,
          0.68,
          1.98,
          -0.43,
          -6.26,
          -1.25,
          0.34,
          -2.04,
          -3.19,
          -0.43,
          1.05,
          -1.82,
          -1.17,
          -6.88,
          -0.93,
          -8.95,
          1.18,
          2.9,
          3.58,
          -0.87,
          0.6,
          -1.9,
          -5.83,
          -2.31,
          2.49,
          -4.89,
          1.62,
          0,
          0.87,
          -4.59,
          1.23,
          -0.16,
          -7.26,
          0.33,
          -2.91,
          -5.35,
          -2.65,
          0.39,
          -0.59,
          -4.2,
          1.73,
          -1.73,
          -0.84,
          -2.42,
          -3.44,
          -0.36,
          13.14,
          -3.37,
          0.59,
          -0.1,
          -3.23,
          -1.93,
          -0.87,
          -2.27,
          -0.96,
          0.99,
          -1.78,
          -1.68,
          1.22,
          -3.3,
          2.97,
          2.97,
          0.81,
          0.2,
          4.88,
          1.59,
          0.49,
          3.64,
          -0.57,
          -2.07,
          -3.14,
          0.87,
          -0.23,
          6.69,
          -1.19,
          1.97,
          -0.33,
          -0.68,
          -7.73,
          -0.68,
          -1.34,
          -2.84,
          -0.34,
          0.41,
          3.6,
          -6.54,
          10.19,
          -1.12,
          4.75,
          -2.36,
          -4.4,
          3.12,
          -2.05,
          6.25,
          -6.51,
          -1.29,
          -12.02,
          -0.71,
          -1.09,
          -1.28,
          0.6,
          0,
          0.2,
          -2.75,
          -1.5,
          1.4,
          0.94,
          -1.96,
          0,
          -0.37,
          -4.86,
          1.19,
          -1.68,
          4.53,
          -10.05,
          -4,
          -2.11,
          -0.72,
          10.23,
          1.5,
          -1.21,
          1.09,
          2.57,
          1.21,
          0.39,
          -1.12,
          -3.75,
          1.08,
          0.52,
          3.86,
          -2.55,
          0,
          -0.69,
          0.92,
          0,
          11.67,
          -4.43,
          -3.9,
          -13.4,
          3.9,
          -4.3,
          4.77,
          -2.62,
          3.75,
          4.22,
          -1.62,
          -1.65,
          2.17,
          2.93,
          0.7,
          -3.24,
          1.01,
          0.91,
          2.9,
          2.14,
          -1.43,
          -2.32,
          -8.41,
          0.12,
          0.52,
          -5.5,
          -1.29,
          0.51,
          -0.71,
          0.85,
          6.96,
          -1.94,
          2.01,
          -7.63,
          -6.91,
          0,
          0.83,
          -8.95,
          -2.92,
          -1.03,
          -2.45,
          -5.75,
          3.69,
          3.38,
          2.96,
          1.23,
          -4.58,
          1.76,
          -1.27,
          0.65,
          -1.42,
          -1.35,
          -3.47,
          1.77,
          1.15,
          -5.51,
          -2.11,
          1.84,
          -3.04,
          6.8,
          -6.61,
          -9.02,
          1.18,
          -1.1,
          -5.63,
          1.34,
          -5.69,
          -12.02,
          4.27,
          -1.07,
          -1.44,
          0.09,
          -3.2,
          -1.22,
          2.84,
          0.3,
          0,
          -2.12,
          1.38,
          0.87,
          -1.54,
          -3.03,
          -1.19,
          -1.12,
          -2.62,
          3.9,
          2.82,
          0.84,
          -3,
          1.78,
          -1.25,
          -2.24,
          -1.73,
          1.92,
          2.25,
          -0.12,
          0.39,
          -2.86,
          0.38,
          -0.65,
          3.95,
          -1.36,
          -1.36,
          -0.04,
          -4.59,
          -1.35,
          -4.25,
          -0.69,
          0.27,
          -2.12,
          -2.2,
          3.58,
          -2.45,
          -2.03,
          -4.83,
          2.62,
          1.27,
          2.26,
          -2.36,
          -1.19,
          -5.04,
          -8.51,
          -0.25,
          5.13,
          1.78,
          -1.92,
          -2.06,
          -3.3,
          0.84,
          -0.84,
          -0.91,
          -0.1,
          -0.68,
          -5.95,
          -2.35,
          1.28,
          -1.96,
          0.09,
          -2.2,
          -0.3,
          -1.15,
          -2.12,
          6.96,
          -5.77,
          0.25,
          -2.94,
          -4.43,
          -1.03,
          1.42,
          1.37,
          -1.42,
          -2.22,
          -0.3,
          -2.07,
          0.58,
          -1.18,
          5.5,
          0.22,
          2.75,
          2.59,
          -1.57,
          2.26,
          2.39,
          -1.16,
          -2.06,
          -5.83,
          -0.35,
          -2.99,
          1.35,
          -4.79,
          -7.38,
          2.14,
          0.85,
          -0.14,
          -1.94,
          -1.29,
          1.83,
          -1.31,
          2.29,
          4.29,
          -3.79,
          0.19,
          5.1,
          -1.2,
          -1.28,
          1.53,
          4.74,
          -2.71,
          -8.48,
          0.99,
          -11.33
         ],
         "yaxis": "y"
        }
       ],
       "layout": {
        "coloraxis": {
         "colorbar": {
          "title": {
           "text": "Residual"
          }
         },
         "colorscale": [
          [
           0,
           "#0d0887"
          ],
          [
           0.1111111111111111,
           "#46039f"
          ],
          [
           0.2222222222222222,
           "#7201a8"
          ],
          [
           0.3333333333333333,
           "#9c179e"
          ],
          [
           0.4444444444444444,
           "#bd3786"
          ],
          [
           0.5555555555555556,
           "#d8576b"
          ],
          [
           0.6666666666666666,
           "#ed7953"
          ],
          [
           0.7777777777777778,
           "#fb9f3a"
          ],
          [
           0.8888888888888888,
           "#fdca26"
          ],
          [
           1,
           "#f0f921"
          ]
         ]
        },
        "legend": {
         "tracegroupgap": 0
        },
        "shapes": [
         {
          "line": {
           "color": "Red",
           "dash": "dash"
          },
          "type": "line",
          "x0": 8.304838709677423,
          "x1": 8.304838709677423,
          "xref": "x",
          "y0": 0,
          "y1": 1,
          "yref": "y domain"
         },
         {
          "line": {
           "color": "Red",
           "dash": "dash"
          },
          "type": "line",
          "x0": 0,
          "x1": 1,
          "xref": "x domain",
          "y0": -0.7362282878411917,
          "y1": -0.7362282878411917,
          "yref": "y"
         }
        ],
        "template": {
         "data": {
          "bar": [
           {
            "error_x": {
             "color": "#2a3f5f"
            },
            "error_y": {
             "color": "#2a3f5f"
            },
            "marker": {
             "line": {
              "color": "#E5ECF6",
              "width": 0.5
             },
             "pattern": {
              "fillmode": "overlay",
              "size": 10,
              "solidity": 0.2
             }
            },
            "type": "bar"
           }
          ],
          "barpolar": [
           {
            "marker": {
             "line": {
              "color": "#E5ECF6",
              "width": 0.5
             },
             "pattern": {
              "fillmode": "overlay",
              "size": 10,
              "solidity": 0.2
             }
            },
            "type": "barpolar"
           }
          ],
          "carpet": [
           {
            "aaxis": {
             "endlinecolor": "#2a3f5f",
             "gridcolor": "white",
             "linecolor": "white",
             "minorgridcolor": "white",
             "startlinecolor": "#2a3f5f"
            },
            "baxis": {
             "endlinecolor": "#2a3f5f",
             "gridcolor": "white",
             "linecolor": "white",
             "minorgridcolor": "white",
             "startlinecolor": "#2a3f5f"
            },
            "type": "carpet"
           }
          ],
          "choropleth": [
           {
            "colorbar": {
             "outlinewidth": 0,
             "ticks": ""
            },
            "type": "choropleth"
           }
          ],
          "contour": [
           {
            "colorbar": {
             "outlinewidth": 0,
             "ticks": ""
            },
            "colorscale": [
             [
              0,
              "#0d0887"
             ],
             [
              0.1111111111111111,
              "#46039f"
             ],
             [
              0.2222222222222222,
              "#7201a8"
             ],
             [
              0.3333333333333333,
              "#9c179e"
             ],
             [
              0.4444444444444444,
              "#bd3786"
             ],
             [
              0.5555555555555556,
              "#d8576b"
             ],
             [
              0.6666666666666666,
              "#ed7953"
             ],
             [
              0.7777777777777778,
              "#fb9f3a"
             ],
             [
              0.8888888888888888,
              "#fdca26"
             ],
             [
              1,
              "#f0f921"
             ]
            ],
            "type": "contour"
           }
          ],
          "contourcarpet": [
           {
            "colorbar": {
             "outlinewidth": 0,
             "ticks": ""
            },
            "type": "contourcarpet"
           }
          ],
          "heatmap": [
           {
            "colorbar": {
             "outlinewidth": 0,
             "ticks": ""
            },
            "colorscale": [
             [
              0,
              "#0d0887"
             ],
             [
              0.1111111111111111,
              "#46039f"
             ],
             [
              0.2222222222222222,
              "#7201a8"
             ],
             [
              0.3333333333333333,
              "#9c179e"
             ],
             [
              0.4444444444444444,
              "#bd3786"
             ],
             [
              0.5555555555555556,
              "#d8576b"
             ],
             [
              0.6666666666666666,
              "#ed7953"
             ],
             [
              0.7777777777777778,
              "#fb9f3a"
             ],
             [
              0.8888888888888888,
              "#fdca26"
             ],
             [
              1,
              "#f0f921"
             ]
            ],
            "type": "heatmap"
           }
          ],
          "heatmapgl": [
           {
            "colorbar": {
             "outlinewidth": 0,
             "ticks": ""
            },
            "colorscale": [
             [
              0,
              "#0d0887"
             ],
             [
              0.1111111111111111,
              "#46039f"
             ],
             [
              0.2222222222222222,
              "#7201a8"
             ],
             [
              0.3333333333333333,
              "#9c179e"
             ],
             [
              0.4444444444444444,
              "#bd3786"
             ],
             [
              0.5555555555555556,
              "#d8576b"
             ],
             [
              0.6666666666666666,
              "#ed7953"
             ],
             [
              0.7777777777777778,
              "#fb9f3a"
             ],
             [
              0.8888888888888888,
              "#fdca26"
             ],
             [
              1,
              "#f0f921"
             ]
            ],
            "type": "heatmapgl"
           }
          ],
          "histogram": [
           {
            "marker": {
             "pattern": {
              "fillmode": "overlay",
              "size": 10,
              "solidity": 0.2
             }
            },
            "type": "histogram"
           }
          ],
          "histogram2d": [
           {
            "colorbar": {
             "outlinewidth": 0,
             "ticks": ""
            },
            "colorscale": [
             [
              0,
              "#0d0887"
             ],
             [
              0.1111111111111111,
              "#46039f"
             ],
             [
              0.2222222222222222,
              "#7201a8"
             ],
             [
              0.3333333333333333,
              "#9c179e"
             ],
             [
              0.4444444444444444,
              "#bd3786"
             ],
             [
              0.5555555555555556,
              "#d8576b"
             ],
             [
              0.6666666666666666,
              "#ed7953"
             ],
             [
              0.7777777777777778,
              "#fb9f3a"
             ],
             [
              0.8888888888888888,
              "#fdca26"
             ],
             [
              1,
              "#f0f921"
             ]
            ],
            "type": "histogram2d"
           }
          ],
          "histogram2dcontour": [
           {
            "colorbar": {
             "outlinewidth": 0,
             "ticks": ""
            },
            "colorscale": [
             [
              0,
              "#0d0887"
             ],
             [
              0.1111111111111111,
              "#46039f"
             ],
             [
              0.2222222222222222,
              "#7201a8"
             ],
             [
              0.3333333333333333,
              "#9c179e"
             ],
             [
              0.4444444444444444,
              "#bd3786"
             ],
             [
              0.5555555555555556,
              "#d8576b"
             ],
             [
              0.6666666666666666,
              "#ed7953"
             ],
             [
              0.7777777777777778,
              "#fb9f3a"
             ],
             [
              0.8888888888888888,
              "#fdca26"
             ],
             [
              1,
              "#f0f921"
             ]
            ],
            "type": "histogram2dcontour"
           }
          ],
          "mesh3d": [
           {
            "colorbar": {
             "outlinewidth": 0,
             "ticks": ""
            },
            "type": "mesh3d"
           }
          ],
          "parcoords": [
           {
            "line": {
             "colorbar": {
              "outlinewidth": 0,
              "ticks": ""
             }
            },
            "type": "parcoords"
           }
          ],
          "pie": [
           {
            "automargin": true,
            "type": "pie"
           }
          ],
          "scatter": [
           {
            "marker": {
             "colorbar": {
              "outlinewidth": 0,
              "ticks": ""
             }
            },
            "type": "scatter"
           }
          ],
          "scatter3d": [
           {
            "line": {
             "colorbar": {
              "outlinewidth": 0,
              "ticks": ""
             }
            },
            "marker": {
             "colorbar": {
              "outlinewidth": 0,
              "ticks": ""
             }
            },
            "type": "scatter3d"
           }
          ],
          "scattercarpet": [
           {
            "marker": {
             "colorbar": {
              "outlinewidth": 0,
              "ticks": ""
             }
            },
            "type": "scattercarpet"
           }
          ],
          "scattergeo": [
           {
            "marker": {
             "colorbar": {
              "outlinewidth": 0,
              "ticks": ""
             }
            },
            "type": "scattergeo"
           }
          ],
          "scattergl": [
           {
            "marker": {
             "colorbar": {
              "outlinewidth": 0,
              "ticks": ""
             }
            },
            "type": "scattergl"
           }
          ],
          "scattermapbox": [
           {
            "marker": {
             "colorbar": {
              "outlinewidth": 0,
              "ticks": ""
             }
            },
            "type": "scattermapbox"
           }
          ],
          "scatterpolar": [
           {
            "marker": {
             "colorbar": {
              "outlinewidth": 0,
              "ticks": ""
             }
            },
            "type": "scatterpolar"
           }
          ],
          "scatterpolargl": [
           {
            "marker": {
             "colorbar": {
              "outlinewidth": 0,
              "ticks": ""
             }
            },
            "type": "scatterpolargl"
           }
          ],
          "scatterternary": [
           {
            "marker": {
             "colorbar": {
              "outlinewidth": 0,
              "ticks": ""
             }
            },
            "type": "scatterternary"
           }
          ],
          "surface": [
           {
            "colorbar": {
             "outlinewidth": 0,
             "ticks": ""
            },
            "colorscale": [
             [
              0,
              "#0d0887"
             ],
             [
              0.1111111111111111,
              "#46039f"
             ],
             [
              0.2222222222222222,
              "#7201a8"
             ],
             [
              0.3333333333333333,
              "#9c179e"
             ],
             [
              0.4444444444444444,
              "#bd3786"
             ],
             [
              0.5555555555555556,
              "#d8576b"
             ],
             [
              0.6666666666666666,
              "#ed7953"
             ],
             [
              0.7777777777777778,
              "#fb9f3a"
             ],
             [
              0.8888888888888888,
              "#fdca26"
             ],
             [
              1,
              "#f0f921"
             ]
            ],
            "type": "surface"
           }
          ],
          "table": [
           {
            "cells": {
             "fill": {
              "color": "#EBF0F8"
             },
             "line": {
              "color": "white"
             }
            },
            "header": {
             "fill": {
              "color": "#C8D4E3"
             },
             "line": {
              "color": "white"
             }
            },
            "type": "table"
           }
          ]
         },
         "layout": {
          "annotationdefaults": {
           "arrowcolor": "#2a3f5f",
           "arrowhead": 0,
           "arrowwidth": 1
          },
          "autotypenumbers": "strict",
          "coloraxis": {
           "colorbar": {
            "outlinewidth": 0,
            "ticks": ""
           }
          },
          "colorscale": {
           "diverging": [
            [
             0,
             "#8e0152"
            ],
            [
             0.1,
             "#c51b7d"
            ],
            [
             0.2,
             "#de77ae"
            ],
            [
             0.3,
             "#f1b6da"
            ],
            [
             0.4,
             "#fde0ef"
            ],
            [
             0.5,
             "#f7f7f7"
            ],
            [
             0.6,
             "#e6f5d0"
            ],
            [
             0.7,
             "#b8e186"
            ],
            [
             0.8,
             "#7fbc41"
            ],
            [
             0.9,
             "#4d9221"
            ],
            [
             1,
             "#276419"
            ]
           ],
           "sequential": [
            [
             0,
             "#0d0887"
            ],
            [
             0.1111111111111111,
             "#46039f"
            ],
            [
             0.2222222222222222,
             "#7201a8"
            ],
            [
             0.3333333333333333,
             "#9c179e"
            ],
            [
             0.4444444444444444,
             "#bd3786"
            ],
            [
             0.5555555555555556,
             "#d8576b"
            ],
            [
             0.6666666666666666,
             "#ed7953"
            ],
            [
             0.7777777777777778,
             "#fb9f3a"
            ],
            [
             0.8888888888888888,
             "#fdca26"
            ],
            [
             1,
             "#f0f921"
            ]
           ],
           "sequentialminus": [
            [
             0,
             "#0d0887"
            ],
            [
             0.1111111111111111,
             "#46039f"
            ],
            [
             0.2222222222222222,
             "#7201a8"
            ],
            [
             0.3333333333333333,
             "#9c179e"
            ],
            [
             0.4444444444444444,
             "#bd3786"
            ],
            [
             0.5555555555555556,
             "#d8576b"
            ],
            [
             0.6666666666666666,
             "#ed7953"
            ],
            [
             0.7777777777777778,
             "#fb9f3a"
            ],
            [
             0.8888888888888888,
             "#fdca26"
            ],
            [
             1,
             "#f0f921"
            ]
           ]
          },
          "colorway": [
           "#636efa",
           "#EF553B",
           "#00cc96",
           "#ab63fa",
           "#FFA15A",
           "#19d3f3",
           "#FF6692",
           "#B6E880",
           "#FF97FF",
           "#FECB52"
          ],
          "font": {
           "color": "#2a3f5f"
          },
          "geo": {
           "bgcolor": "white",
           "lakecolor": "white",
           "landcolor": "#E5ECF6",
           "showlakes": true,
           "showland": true,
           "subunitcolor": "white"
          },
          "hoverlabel": {
           "align": "left"
          },
          "hovermode": "closest",
          "mapbox": {
           "style": "light"
          },
          "paper_bgcolor": "white",
          "plot_bgcolor": "#E5ECF6",
          "polar": {
           "angularaxis": {
            "gridcolor": "white",
            "linecolor": "white",
            "ticks": ""
           },
           "bgcolor": "#E5ECF6",
           "radialaxis": {
            "gridcolor": "white",
            "linecolor": "white",
            "ticks": ""
           }
          },
          "scene": {
           "xaxis": {
            "backgroundcolor": "#E5ECF6",
            "gridcolor": "white",
            "gridwidth": 2,
            "linecolor": "white",
            "showbackground": true,
            "ticks": "",
            "zerolinecolor": "white"
           },
           "yaxis": {
            "backgroundcolor": "#E5ECF6",
            "gridcolor": "white",
            "gridwidth": 2,
            "linecolor": "white",
            "showbackground": true,
            "ticks": "",
            "zerolinecolor": "white"
           },
           "zaxis": {
            "backgroundcolor": "#E5ECF6",
            "gridcolor": "white",
            "gridwidth": 2,
            "linecolor": "white",
            "showbackground": true,
            "ticks": "",
            "zerolinecolor": "white"
           }
          },
          "shapedefaults": {
           "line": {
            "color": "#2a3f5f"
           }
          },
          "ternary": {
           "aaxis": {
            "gridcolor": "white",
            "linecolor": "white",
            "ticks": ""
           },
           "baxis": {
            "gridcolor": "white",
            "linecolor": "white",
            "ticks": ""
           },
           "bgcolor": "#E5ECF6",
           "caxis": {
            "gridcolor": "white",
            "linecolor": "white",
            "ticks": ""
           }
          },
          "title": {
           "x": 0.05
          },
          "xaxis": {
           "automargin": true,
           "gridcolor": "white",
           "linecolor": "white",
           "ticks": "",
           "title": {
            "standoff": 15
           },
           "zerolinecolor": "white",
           "zerolinewidth": 2
          },
          "yaxis": {
           "automargin": true,
           "gridcolor": "white",
           "linecolor": "white",
           "ticks": "",
           "title": {
            "standoff": 15
           },
           "zerolinecolor": "white",
           "zerolinewidth": 2
          }
         }
        },
        "title": {
         "text": "Over/Under Rated Players by Ownership (in weeks)"
        },
        "xaxis": {
         "anchor": "y",
         "domain": [
          0,
          1
         ],
         "title": {
          "text": "Average Scored Points"
         }
        },
        "yaxis": {
         "anchor": "x",
         "domain": [
          0,
          1
         ],
         "title": {
          "text": "Residual"
         }
        }
       }
      }
     },
     "metadata": {},
     "output_type": "display_data"
    }
   ],
   "source": [
    "fig = px.scatter(df, y=df['Residual'], x=df['Average Scored Points'], color=df['Residual'], hover_data=['Average Projected Points', 'Length of Ownership','Player', 'Team'], title='Over/Under Rated Players by Ownership (in weeks)')\n",
    "fig.add_vline(df['Average Scored Points'].mean(), line_color='Red', line_dash = 'dash')\n",
    "fig.add_hline(df['Residual'].mean(), line_color='Red', line_dash = 'dash')\n",
    "fig.write_html('Data/cool_plots/over_under_rated_players_by_ownership.html')\n",
    "fig.show()"
   ]
  },
  {
   "cell_type": "code",
   "execution_count": null,
   "metadata": {},
   "outputs": [],
   "source": []
  }
 ],
 "metadata": {
  "kernelspec": {
   "display_name": "Python 3",
   "language": "python",
   "name": "python3"
  },
  "language_info": {
   "codemirror_mode": {
    "name": "ipython",
    "version": 3
   },
   "file_extension": ".py",
   "mimetype": "text/x-python",
   "name": "python",
   "nbconvert_exporter": "python",
   "pygments_lexer": "ipython3",
   "version": "3.9.12"
  },
  "orig_nbformat": 4
 },
 "nbformat": 4,
 "nbformat_minor": 2
}
