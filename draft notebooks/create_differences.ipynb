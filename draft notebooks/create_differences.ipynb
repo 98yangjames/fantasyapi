{
 "cells": [
  {
   "cell_type": "code",
   "execution_count": 2,
   "metadata": {},
   "outputs": [],
   "source": [
    "import pandas as pd"
   ]
  },
  {
   "cell_type": "code",
   "execution_count": 3,
   "metadata": {},
   "outputs": [
    {
     "data": {
      "text/html": [
       "<div>\n",
       "<style scoped>\n",
       "    .dataframe tbody tr th:only-of-type {\n",
       "        vertical-align: middle;\n",
       "    }\n",
       "\n",
       "    .dataframe tbody tr th {\n",
       "        vertical-align: top;\n",
       "    }\n",
       "\n",
       "    .dataframe thead th {\n",
       "        text-align: right;\n",
       "    }\n",
       "</style>\n",
       "<table border=\"1\" class=\"dataframe\">\n",
       "  <thead>\n",
       "    <tr style=\"text-align: right;\">\n",
       "      <th></th>\n",
       "      <th>Week</th>\n",
       "      <th>Team</th>\n",
       "      <th>Player</th>\n",
       "      <th>Projected_Points</th>\n",
       "      <th>Actual_Points</th>\n",
       "      <th>Rank</th>\n",
       "      <th>Position</th>\n",
       "    </tr>\n",
       "  </thead>\n",
       "  <tbody>\n",
       "    <tr>\n",
       "      <th>0</th>\n",
       "      <td>1</td>\n",
       "      <td>Couv Reigning Champ</td>\n",
       "      <td>Dalvin Cook</td>\n",
       "      <td>16.77</td>\n",
       "      <td>13.8</td>\n",
       "      <td>18</td>\n",
       "      <td>RB</td>\n",
       "    </tr>\n",
       "    <tr>\n",
       "      <th>1</th>\n",
       "      <td>2</td>\n",
       "      <td>Couv Reigning Champ</td>\n",
       "      <td>Dalvin Cook</td>\n",
       "      <td>17.96</td>\n",
       "      <td>7.6</td>\n",
       "      <td>17</td>\n",
       "      <td>RB</td>\n",
       "    </tr>\n",
       "    <tr>\n",
       "      <th>2</th>\n",
       "      <td>3</td>\n",
       "      <td>Couv Reigning Champ</td>\n",
       "      <td>Dalvin Cook</td>\n",
       "      <td>15.72</td>\n",
       "      <td>26.1</td>\n",
       "      <td>30</td>\n",
       "      <td>RB</td>\n",
       "    </tr>\n",
       "    <tr>\n",
       "      <th>3</th>\n",
       "      <td>4</td>\n",
       "      <td>Couv Reigning Champ</td>\n",
       "      <td>Dalvin Cook</td>\n",
       "      <td>0.00</td>\n",
       "      <td>0.0</td>\n",
       "      <td>0</td>\n",
       "      <td>RB</td>\n",
       "    </tr>\n",
       "    <tr>\n",
       "      <th>4</th>\n",
       "      <td>5</td>\n",
       "      <td>Couv Reigning Champ</td>\n",
       "      <td>Dalvin Cook</td>\n",
       "      <td>17.07</td>\n",
       "      <td>13.6</td>\n",
       "      <td>3</td>\n",
       "      <td>RB</td>\n",
       "    </tr>\n",
       "    <tr>\n",
       "      <th>5</th>\n",
       "      <td>6</td>\n",
       "      <td>Couv Reigning Champ</td>\n",
       "      <td>Dalvin Cook</td>\n",
       "      <td>17.78</td>\n",
       "      <td>7.2</td>\n",
       "      <td>2</td>\n",
       "      <td>RB</td>\n",
       "    </tr>\n",
       "    <tr>\n",
       "      <th>6</th>\n",
       "      <td>7</td>\n",
       "      <td>Couv Reigning Champ</td>\n",
       "      <td>Dalvin Cook</td>\n",
       "      <td>15.89</td>\n",
       "      <td>9.6</td>\n",
       "      <td>5</td>\n",
       "      <td>RB</td>\n",
       "    </tr>\n",
       "    <tr>\n",
       "      <th>7</th>\n",
       "      <td>8</td>\n",
       "      <td>Couv Reigning Champ</td>\n",
       "      <td>Dalvin Cook</td>\n",
       "      <td>16.77</td>\n",
       "      <td>13.8</td>\n",
       "      <td>18</td>\n",
       "      <td>RB</td>\n",
       "    </tr>\n",
       "    <tr>\n",
       "      <th>8</th>\n",
       "      <td>9</td>\n",
       "      <td>Couv Reigning Champ</td>\n",
       "      <td>Dalvin Cook</td>\n",
       "      <td>17.96</td>\n",
       "      <td>7.6</td>\n",
       "      <td>17</td>\n",
       "      <td>RB</td>\n",
       "    </tr>\n",
       "    <tr>\n",
       "      <th>9</th>\n",
       "      <td>10</td>\n",
       "      <td>Couv Reigning Champ</td>\n",
       "      <td>Dalvin Cook</td>\n",
       "      <td>15.72</td>\n",
       "      <td>26.1</td>\n",
       "      <td>30</td>\n",
       "      <td>RB</td>\n",
       "    </tr>\n",
       "  </tbody>\n",
       "</table>\n",
       "</div>"
      ],
      "text/plain": [
       "   Week                 Team       Player  Projected_Points  Actual_Points  \\\n",
       "0     1  Couv Reigning Champ  Dalvin Cook             16.77           13.8   \n",
       "1     2  Couv Reigning Champ  Dalvin Cook             17.96            7.6   \n",
       "2     3  Couv Reigning Champ  Dalvin Cook             15.72           26.1   \n",
       "3     4  Couv Reigning Champ  Dalvin Cook              0.00            0.0   \n",
       "4     5  Couv Reigning Champ  Dalvin Cook             17.07           13.6   \n",
       "5     6  Couv Reigning Champ  Dalvin Cook             17.78            7.2   \n",
       "6     7  Couv Reigning Champ  Dalvin Cook             15.89            9.6   \n",
       "7     8  Couv Reigning Champ  Dalvin Cook             16.77           13.8   \n",
       "8     9  Couv Reigning Champ  Dalvin Cook             17.96            7.6   \n",
       "9    10  Couv Reigning Champ  Dalvin Cook             15.72           26.1   \n",
       "\n",
       "   Rank Position  \n",
       "0    18       RB  \n",
       "1    17       RB  \n",
       "2    30       RB  \n",
       "3     0       RB  \n",
       "4     3       RB  \n",
       "5     2       RB  \n",
       "6     5       RB  \n",
       "7    18       RB  \n",
       "8    17       RB  \n",
       "9    30       RB  "
      ]
     },
     "execution_count": 3,
     "metadata": {},
     "output_type": "execute_result"
    }
   ],
   "source": [
    "df = pd.read_csv('../Data/fantasy_league_data/players_teams_stats.csv')\n",
    "df.head(10)"
   ]
  },
  {
   "cell_type": "code",
   "execution_count": 22,
   "metadata": {},
   "outputs": [],
   "source": [
    "df = df.groupby(['Team', 'Position', 'Week'], as_index = False).head(3).sort_values('Actual_Points', ascending=False)"
   ]
  },
  {
   "cell_type": "code",
   "execution_count": 30,
   "metadata": {},
   "outputs": [],
   "source": [
    "def get_best_picks(df, dic):\n",
    "    dic = {}\n",
    "    for index, value in df.iterrows():\n",
    "        if value.Position not in dic:\n",
    "            dic[value.Position] = value.Player\n",
    "        else:\n",
    "            if value.Position != 'QB':\n",
    "                dic[value.Position] = dic[value.Position] + value.Player\n",
    "    return dic"
   ]
  },
  {
   "cell_type": "code",
   "execution_count": 32,
   "metadata": {},
   "outputs": [
    {
     "ename": "TypeError",
     "evalue": "argument of type 'NoneType' is not iterable",
     "output_type": "error",
     "traceback": [
      "\u001b[0;31m---------------------------------------------------------------------------\u001b[0m",
      "\u001b[0;31mTypeError\u001b[0m                                 Traceback (most recent call last)",
      "\u001b[1;32m/Users/jamesyang/Documents/GitHub/fantasyapi/draft notebooks/create_differences.ipynb Cell 5\u001b[0m in \u001b[0;36m<cell line: 1>\u001b[0;34m()\u001b[0m\n\u001b[1;32m      <a href='vscode-notebook-cell:/Users/jamesyang/Documents/GitHub/fantasyapi/draft%20notebooks/create_differences.ipynb#W3sZmlsZQ%3D%3D?line=1'>2</a>\u001b[0m \u001b[39mfor\u001b[39;00m team \u001b[39min\u001b[39;00m df\u001b[39m.\u001b[39mTeam\u001b[39m.\u001b[39munique():\n\u001b[1;32m      <a href='vscode-notebook-cell:/Users/jamesyang/Documents/GitHub/fantasyapi/draft%20notebooks/create_differences.ipynb#W3sZmlsZQ%3D%3D?line=2'>3</a>\u001b[0m     temp \u001b[39m=\u001b[39m df[(df[\u001b[39m'\u001b[39m\u001b[39mWeek\u001b[39m\u001b[39m'\u001b[39m] \u001b[39m==\u001b[39m week) \u001b[39m&\u001b[39m (df[\u001b[39m'\u001b[39m\u001b[39mTeam\u001b[39m\u001b[39m'\u001b[39m] \u001b[39m==\u001b[39m team)]\n\u001b[0;32m----> <a href='vscode-notebook-cell:/Users/jamesyang/Documents/GitHub/fantasyapi/draft%20notebooks/create_differences.ipynb#W3sZmlsZQ%3D%3D?line=3'>4</a>\u001b[0m     dic \u001b[39m=\u001b[39m get_best_picks(temp, dic)\n\u001b[1;32m      <a href='vscode-notebook-cell:/Users/jamesyang/Documents/GitHub/fantasyapi/draft%20notebooks/create_differences.ipynb#W3sZmlsZQ%3D%3D?line=4'>5</a>\u001b[0m     \u001b[39mprint\u001b[39m(dic)\n",
      "\u001b[1;32m/Users/jamesyang/Documents/GitHub/fantasyapi/draft notebooks/create_differences.ipynb Cell 5\u001b[0m in \u001b[0;36mget_best_picks\u001b[0;34m(df, dic)\u001b[0m\n\u001b[1;32m      <a href='vscode-notebook-cell:/Users/jamesyang/Documents/GitHub/fantasyapi/draft%20notebooks/create_differences.ipynb#W3sZmlsZQ%3D%3D?line=0'>1</a>\u001b[0m \u001b[39mdef\u001b[39;00m \u001b[39mget_best_picks\u001b[39m(df, dic):\n\u001b[1;32m      <a href='vscode-notebook-cell:/Users/jamesyang/Documents/GitHub/fantasyapi/draft%20notebooks/create_differences.ipynb#W3sZmlsZQ%3D%3D?line=1'>2</a>\u001b[0m     \u001b[39mfor\u001b[39;00m index, value \u001b[39min\u001b[39;00m df\u001b[39m.\u001b[39miterrows():\n\u001b[0;32m----> <a href='vscode-notebook-cell:/Users/jamesyang/Documents/GitHub/fantasyapi/draft%20notebooks/create_differences.ipynb#W3sZmlsZQ%3D%3D?line=2'>3</a>\u001b[0m         \u001b[39mif\u001b[39;00m value\u001b[39m.\u001b[39;49mPosition \u001b[39mnot\u001b[39;49;00m \u001b[39min\u001b[39;49;00m dic:\n\u001b[1;32m      <a href='vscode-notebook-cell:/Users/jamesyang/Documents/GitHub/fantasyapi/draft%20notebooks/create_differences.ipynb#W3sZmlsZQ%3D%3D?line=3'>4</a>\u001b[0m             dic[value\u001b[39m.\u001b[39mPosition] \u001b[39m=\u001b[39m value\u001b[39m.\u001b[39mPlayer\n\u001b[1;32m      <a href='vscode-notebook-cell:/Users/jamesyang/Documents/GitHub/fantasyapi/draft%20notebooks/create_differences.ipynb#W3sZmlsZQ%3D%3D?line=4'>5</a>\u001b[0m         \u001b[39melse\u001b[39;00m:\n",
      "\u001b[0;31mTypeError\u001b[0m: argument of type 'NoneType' is not iterable"
     ]
    }
   ],
   "source": [
    "\n",
    "for week in df.Week.unique():\n",
    "    for team in df.Team.unique():\n",
    "        temp = df[(df['Week'] == week) & (df['Team'] == team)]\n",
    "        dic = get_best_picks(temp, dic)\n",
    "        print(dic)\n",
    "            "
   ]
  },
  {
   "cell_type": "code",
   "execution_count": null,
   "metadata": {},
   "outputs": [],
   "source": []
  }
 ],
 "metadata": {
  "kernelspec": {
   "display_name": "base",
   "language": "python",
   "name": "python3"
  },
  "language_info": {
   "codemirror_mode": {
    "name": "ipython",
    "version": 3
   },
   "file_extension": ".py",
   "mimetype": "text/x-python",
   "name": "python",
   "nbconvert_exporter": "python",
   "pygments_lexer": "ipython3",
   "version": "3.9.12"
  },
  "orig_nbformat": 4,
  "vscode": {
   "interpreter": {
    "hash": "33a11755222a1f7d86ea2cf2f4dfdec365d04f7453605f968c7500575cda950b"
   }
  }
 },
 "nbformat": 4,
 "nbformat_minor": 2
}
